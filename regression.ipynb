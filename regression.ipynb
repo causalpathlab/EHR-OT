{
 "cells": [
  {
   "cell_type": "code",
   "execution_count": 30,
   "metadata": {},
   "outputs": [],
   "source": [
    "# Examine the regression model using source embedding and source labels "
   ]
  },
  {
   "cell_type": "code",
   "execution_count": 31,
   "metadata": {},
   "outputs": [],
   "source": [
    "import getpass\n",
    "user_id = getpass.getuser()\n",
    "\n",
    "import sys\n",
    "sys.path.append(f\"/home/{user_id}/OTTEHR/\")\n",
    "\n",
    "from ast import literal_eval\n",
    "from common import *\n",
    "from mimic_common import *\n",
    "from multiprocess import Pool\n",
    "import os\n",
    "import ot\n",
    "import ot.plot\n",
    "import random\n",
    "import seaborn as sns\n",
    "from sklearn.linear_model import LogisticRegression\n",
    "from sklearn.svm import SVC\n",
    "from sklearn.svm import SVR\n",
    "from sklearn.decomposition import PCA\n",
    "from sklearn.metrics import precision_score, recall_score, accuracy_score, f1_score, mean_squared_error, mean_absolute_error\n",
    "from sklearn.linear_model import LinearRegression\n",
    "import time"
   ]
  },
  {
   "cell_type": "code",
   "execution_count": 32,
   "metadata": {},
   "outputs": [
    {
     "name": "stdout",
     "output_type": "stream",
     "text": [
      "Will save outputs to /home/wanxinli/OTTEHR/outputs/mimic\n"
     ]
    },
    {
     "name": "stdout",
     "output_type": "stream",
     "text": [
      "         adm_type gender                                          ICD codes  \\\n",
      "admid                                                                         \n",
      "172335  EMERGENCY      F  [403.01, 486, 582.81, 585.5, 425.4, 276.2, 710...   \n",
      "173633  EMERGENCY      F  [403.01, 585.6, 583.81, 710.0, 558.9, 287.5, 2...   \n",
      "174105  EMERGENCY      M               [531.00, 410.71, 285.9, 414.01, 725]   \n",
      "109976  EMERGENCY      M                             [191.5, 331.4, 530.81]   \n",
      "178393   ELECTIVE      M       [414.01, 411.1, 482.83, 285.9, 272.0, 305.1]   \n",
      "...           ...    ...                                                ...   \n",
      "172304   ELECTIVE      F       [202.80, 348.5, 784.3, 401.9, 272.0, 530.81]   \n",
      "152542  EMERGENCY      M  [566, 250.62, 357.2, V58.67, 427.31, 401.9, 42...   \n",
      "161999  EMERGENCY      M  [434.11, 348.5, 348.4, 430, 348.30, 997.31, 51...   \n",
      "189314  EMERGENCY      F  [346.80, 784.3, 745.5, 781.94, 368.40, 781.3, ...   \n",
      "168949  EMERGENCY      M  [052.9, 416.2, 201.92, 135, 276.69, 517.8, 427...   \n",
      "\n",
      "         duration                                   diagnosis  label  \\\n",
      "admid                                                                  \n",
      "172335   530460.0                                    LEG PAIN      0   \n",
      "173633   574560.0                              ABDOMINAL PAIN      0   \n",
      "174105   425460.0                      GASTROINTESTINAL BLEED      0   \n",
      "109976  1284240.0                               HYDROCEPHALUS      0   \n",
      "178393   485280.0                                     USA/SDA      0   \n",
      "...           ...                                         ...    ...   \n",
      "172304   449700.0                        LEFT BRAIN TUMOR/SDA      0   \n",
      "152542   415740.0                          PERIRECTAL ABSCESS      0   \n",
      "161999   692940.0                            STROKE;TELEMETRY      0   \n",
      "189314   150060.0  STROKE;TELEMETRY;TRANSIENT ISCHEMIC ATTACK      0   \n",
      "168949   688980.0                              ABDOMINAL PAIN      0   \n",
      "\n",
      "               admission location insurance language           religion  \\\n",
      "admid                                                                     \n",
      "172335       EMERGENCY ROOM ADMIT  Medicaid     ENGL      NOT SPECIFIED   \n",
      "173633       EMERGENCY ROOM ADMIT  Medicaid     ENGL      NOT SPECIFIED   \n",
      "174105       EMERGENCY ROOM ADMIT  Medicare      NaN             JEWISH   \n",
      "109976       EMERGENCY ROOM ADMIT   Private      NaN           CATHOLIC   \n",
      "178393  PHYS REFERRAL/NORMAL DELI   Private      NaN              OTHER   \n",
      "...                           ...       ...      ...                ...   \n",
      "172304  PHYS REFERRAL/NORMAL DELI  Medicare     ENGL  PROTESTANT QUAKER   \n",
      "152542  CLINIC REFERRAL/PREMATURE  Medicare     ENGL  PROTESTANT QUAKER   \n",
      "161999  CLINIC REFERRAL/PREMATURE  Medicare     ENGL  PROTESTANT QUAKER   \n",
      "189314       EMERGENCY ROOM ADMIT   Private     ENGL      NOT SPECIFIED   \n",
      "168949  CLINIC REFERRAL/PREMATURE   Private     ENGL      NOT SPECIFIED   \n",
      "\n",
      "       marital_status               ethnicity  \n",
      "admid                                          \n",
      "172335         SINGLE  BLACK/AFRICAN AMERICAN  \n",
      "173633         SINGLE  BLACK/AFRICAN AMERICAN  \n",
      "174105        MARRIED                   WHITE  \n",
      "109976        MARRIED                   WHITE  \n",
      "178393            NaN   UNKNOWN/NOT SPECIFIED  \n",
      "...               ...                     ...  \n",
      "172304         SINGLE                   WHITE  \n",
      "152542       DIVORCED                   WHITE  \n",
      "161999       DIVORCED                   WHITE  \n",
      "189314       DIVORCED                   WHITE  \n",
      "168949        MARRIED                   WHITE  \n",
      "\n",
      "[58976 rows x 12 columns]\n"
     ]
    }
   ],
   "source": [
    "output_dir = os.path.join(os.path.expanduser(\"~\"), f\"OTTEHR/outputs/mimic\")\n",
    "# print(f\"Will save outputs to {output_dir}\")\n",
    "\n",
    "\"\"\" \n",
    "Read in the original dataframe\n",
    "\"\"\"\n",
    "admid_diagnosis_df = pd.read_csv(os.path.join(output_dir, \"ADMID_DIAGNOSIS.csv\"), index_col=0, header=0, converters={'ICD codes': literal_eval})\n",
    "print(admid_diagnosis_df)"
   ]
  },
  {
   "cell_type": "code",
   "execution_count": 33,
   "metadata": {},
   "outputs": [],
   "source": [
    "group_name = 'insurance'\n",
    "# groups = ['Self_Pay', 'Private', 'Government', 'Medicare', 'Medicaid']\n",
    "source = 'Self_Pay'\n",
    "target = 'Private'\n",
    "source_count = 120\n",
    "target_count = 100\n",
    "n_components = 50\n",
    "pca_explain = False"
   ]
  },
  {
   "cell_type": "code",
   "execution_count": 34,
   "metadata": {},
   "outputs": [],
   "source": [
    "selected_df = select_df_cts(admid_diagnosis_df, group_name, source, target, source_count=source_count, target_count=target_count)\n",
    "source_features, source_labels, target_features, target_labels = gen_features_duration(selected_df, group_name, source, target)"
   ]
  },
  {
   "cell_type": "code",
   "execution_count": 35,
   "metadata": {},
   "outputs": [],
   "source": [
    "source_reps, target_reps = custom_train_reps_default(source_features, target_features, n_components, pca_explain=pca_explain)"
   ]
  },
  {
   "cell_type": "code",
   "execution_count": 36,
   "metadata": {},
   "outputs": [],
   "source": [
    "reg = LinearRegression().fit(source_reps, source_labels)"
   ]
  },
  {
   "cell_type": "code",
   "execution_count": 37,
   "metadata": {},
   "outputs": [
    {
     "data": {
      "text/plain": [
       "0.7081023243972088"
      ]
     },
     "execution_count": 37,
     "metadata": {},
     "output_type": "execute_result"
    }
   ],
   "source": [
    "reg.score(source_reps, source_labels)"
   ]
  },
  {
   "cell_type": "code",
   "execution_count": 38,
   "metadata": {},
   "outputs": [
    {
     "data": {
      "text/plain": [
       "array([ 836725.42734021,  -97747.92198405,  211356.37781398,\n",
       "        211934.58442081,   54003.77440269,  882997.30805758,\n",
       "        230906.27474451,  114036.26926983,  877053.34008221,\n",
       "         53787.22148105,  411032.98421325,  448394.80921664,\n",
       "       1669746.70248813,  431929.25605145, 1412523.58302096,\n",
       "       1682275.64760548,  517921.39137834,  172762.3600225 ,\n",
       "        406910.79661976,  600631.65881733,  652267.21659311,\n",
       "        281391.52588526, 1144343.91808788,   86414.69218078,\n",
       "        374627.46189495,  244174.29798805,  341827.0210841 ,\n",
       "        283497.92945913,  241749.32249982,  660576.68760762,\n",
       "        244757.66198647, -223151.08410626, -275137.55930061,\n",
       "        151054.49926237,  -99161.64375489,  834997.32826561,\n",
       "        390377.55994962,  408071.82648584,  780658.77401603,\n",
       "         81040.5853953 ,  521796.13148178, 1666631.09706452,\n",
       "        405321.27378593,  810383.71319806,   26048.75017256,\n",
       "        333716.47067638,  345941.96829201,  408402.72195787,\n",
       "        183746.94130462, 1557772.82613852,  640390.90854734,\n",
       "       3243339.98672666,  444750.78874407,  244211.18362233,\n",
       "        371713.64670531,  429872.61847153,  299741.94427494,\n",
       "        592484.51559489,  314841.71505799,  -37718.58266489,\n",
       "        528723.65118924,  172762.3600225 ,  259849.1717439 ,\n",
       "       3338062.38157662, -232488.40148163,  792074.49790694,\n",
       "        251968.46567361,  681810.82381274,  172762.3600225 ,\n",
       "        254111.72112207,  134427.91017825,  201079.42768303,\n",
       "        344647.33387962,  407372.16748275,  384326.45705755,\n",
       "        741759.85592685,  270915.47850228,   41573.66762866,\n",
       "        927497.00203229,  631731.78661265,  994349.06375273,\n",
       "        111298.48007848,  185329.93553911,  921183.08231976,\n",
       "        322033.63594975,   34111.54322702,  339024.66261787,\n",
       "        577649.49562522,  390278.57216855,  473260.3832949 ,\n",
       "        447556.93000139,  831724.26336993,  802669.57654833,\n",
       "        773905.7804837 ,  340799.78056115,   95553.07076617,\n",
       "        -78033.83741065,  308257.47762787,  717968.8353177 ,\n",
       "        451124.74569697,  343080.01425012,  282838.39017314,\n",
       "        192080.97957232,  419065.94302781,  328423.165753  ,\n",
       "        601255.17103699,  726078.993863  ,  589454.2663535 ,\n",
       "       -329888.75178998,  -27293.15693962,  433524.67995296,\n",
       "       1102564.05343987,  483752.94446903, 1335478.16272579,\n",
       "        480929.36721666,  238599.34890941,  720455.49109278,\n",
       "        751313.6543913 ,  446999.66313109,  376343.5375672 ])"
      ]
     },
     "execution_count": 38,
     "metadata": {},
     "output_type": "execute_result"
    }
   ],
   "source": [
    "reg.predict(source_reps)"
   ]
  },
  {
   "cell_type": "code",
   "execution_count": 39,
   "metadata": {},
   "outputs": [
    {
     "data": {
      "text/plain": [
       "array([ 873480.,  164280.,   99360.,   34200., 1546140., 1211220.,\n",
       "        229200.,  323700.,  787920.,   65040.,   66720.,  264840.,\n",
       "       1791960.,  691740., 2127300., 1081680.,  289500.,  193440.,\n",
       "        394020.,  417300.,  389940.,  118860.,  643440.,  331980.,\n",
       "        412680.,   71520.,  166200.,  192720.,  123720.,  144840.,\n",
       "        401400.,   57900.,  -29040.,  226500.,   63900.,  859320.,\n",
       "        486480.,   60300.,  380700.,  108060.,  167520., 1597620.,\n",
       "         37740.,  254760.,  137940.,  394260.,  506580.,  126900.,\n",
       "        155220., 1768560.,  561000., 4349340.,  485400., 1000020.,\n",
       "        156060.,  355200.,  858840., 1147680.,  344280.,  148560.,\n",
       "        300060.,  203100.,  351780., 3570960.,  121440.,  864960.,\n",
       "        479640., 1773060.,  204900.,  150180.,   10380.,  280500.,\n",
       "        787620.,  326940.,  247800.,  783240.,  133500.,  136200.,\n",
       "        936000.,  501900.,  194340.,   41820.,  160500., 1021620.,\n",
       "        842040.,  302760.,  577860.,  651420.,   58920.,  255960.,\n",
       "        212220.,  869760.,   27240.,  312600.,   14700.,   34620.,\n",
       "          7140.,   60420.,  696360.,  384360.,  455760.,   56160.,\n",
       "         56640.,  547260.,  375960.,  215280.,  979680.,  635100.,\n",
       "        115800.,  366840.,  118020., 1187100.,  399480., 1186440.,\n",
       "        373800.,    4680.,  588840.,   48960.,   49860.,  306600.])"
      ]
     },
     "execution_count": 39,
     "metadata": {},
     "output_type": "execute_result"
    }
   ],
   "source": [
    "source_labels"
   ]
  },
  {
   "cell_type": "code",
   "execution_count": 40,
   "metadata": {},
   "outputs": [],
   "source": [
    "predicted_source_duration = reg.predict(source_reps)\n"
   ]
  },
  {
   "cell_type": "code",
   "execution_count": 51,
   "metadata": {},
   "outputs": [
    {
     "name": "stdout",
     "output_type": "stream",
     "text": [
      "MSE is: 114980622008.89859\n"
     ]
    },
    {
     "data": {
      "image/png": "[encoded data removed]",
      "text/plain": [
       "<Figure size 640x480 with 1 Axes>"
      ]
     },
     "metadata": {},
     "output_type": "display_data"
    }
   ],
   "source": [
    "plt.scatter(source_labels, predicted_source_duration)\n",
    "plt.xlabel('observed source duration')\n",
    "plt.ylabel('predicted source duration')\n",
    "print(f\"MSE is: {mean_squared_error(source_labels, predicted_source_duration)}\")"
   ]
  },
  {
   "cell_type": "code",
   "execution_count": 42,
   "metadata": {},
   "outputs": [],
   "source": [
    "predicted_target_duration = reg.predict(target_reps)"
   ]
  },
  {
   "cell_type": "code",
   "execution_count": 52,
   "metadata": {},
   "outputs": [
    {
     "name": "stdout",
     "output_type": "stream",
     "text": [
      "MSE is: 4777659509473.228\n"
     ]
    },
    {
     "data": {
      "image/png": "[encoded data removed]",
      "text/plain": [
       "<Figure size 640x480 with 1 Axes>"
      ]
     },
     "metadata": {},
     "output_type": "display_data"
    }
   ],
   "source": [
    "plt.scatter(target_labels, predicted_target_duration)\n",
    "plt.xlabel('observed target duration')\n",
    "plt.ylabel('predicted target duration')\n",
    "print(f\"MSE is: {mean_squared_error(target_labels, predicted_target_duration)}\")"
   ]
  },
  {
   "cell_type": "code",
   "execution_count": 44,
   "metadata": {},
   "outputs": [],
   "source": [
    "def trans_UOT(target_reps, source_reps, reg=0.1, reg_m=1):\n",
    "    \"\"\" \n",
    "    Transport by unbalanced optimal transport\n",
    "    \n",
    "    :param float reg: entropy regularization param\n",
    "    :param float reg_m: marginal relaxation paramter \n",
    "\n",
    "    :returns the transported target representations, the Wasserstein distance, \\\n",
    "        the tranport plan, and the maximum distance (diameter) between source and target embeddings\n",
    "    -\n",
    "    \"\"\"\n",
    "\n",
    "    source_measure = np.ones((source_reps.shape[0],))/source_reps.shape[0]\n",
    "    target_measure = np.ones((target_reps.shape[0],))/target_reps.shape[0]\n",
    "\n",
    "    M = ot.dist(source_reps, target_reps, metric='euclidean')\n",
    "    print(\"M shape is:\", M.shape)\n",
    "    print(\"M is:\", M)\n",
    "    M /= M.max()\n",
    "    coupling, ot_log = ot.unbalanced.sinkhorn_unbalanced(source_measure, target_measure, M, reg, reg_m, log=True)\n",
    "    print(\"coupling is:\", coupling)\n",
    "    coupling = np.transpose(coupling)\n",
    "    trans_target_reps = np.matmul(coupling, source_reps)\n",
    "    wa_dist = ot.emd2(source_measure, target_measure, M)\n",
    "    # print(\"wa_distance is:\", wa_dist)\n",
    "\n",
    "    # Compute the maximum distance between source representations and target representations\n",
    "    return trans_target_reps, wa_dist, coupling, M.max()"
   ]
  },
  {
   "cell_type": "code",
   "execution_count": 45,
   "metadata": {},
   "outputs": [
    {
     "data": {
      "text/plain": [
       "array([[34.32642769, 18.69328786, 17.49365106, ..., 15.52195146,\n",
       "        19.58631918, 11.504043  ],\n",
       "       [22.55196593,  5.47102458, 10.46131714, ..., 10.14545359,\n",
       "        12.83511881,  5.7015393 ],\n",
       "       [22.83137936,  6.88043826,  8.56993606, ...,  7.44851835,\n",
       "        11.6698536 ,  5.86982611],\n",
       "       ...,\n",
       "       [19.83668146,  8.1639113 ,  8.30392721, ...,  7.55511547,\n",
       "        12.51114199,  5.24667   ],\n",
       "       [19.81539016,  5.16855217,  7.3122585 , ...,  7.26813841,\n",
       "        10.57509565,  3.60776532],\n",
       "       [22.03155873,  9.88336642, 11.49061561, ..., 11.3267346 ,\n",
       "        14.74902044,  7.72775535]])"
      ]
     },
     "execution_count": 45,
     "metadata": {},
     "output_type": "execute_result"
    }
   ],
   "source": [
    "ot.dist(source_reps, target_reps)"
   ]
  },
  {
   "cell_type": "code",
   "execution_count": 46,
   "metadata": {},
   "outputs": [
    {
     "name": "stdout",
     "output_type": "stream",
     "text": [
      "M shape is: (120, 100)\n",
      "M is: [[5.85887597 4.32357351 4.18254122 ... 3.93979079 4.42564336 3.39176105]\n",
      " [4.74889102 2.33902214 3.23439595 ... 3.18519287 3.5826134  2.38778963]\n",
      " [4.77821927 2.62305895 2.92744531 ... 2.72919738 3.41611674 2.4227724 ]\n",
      " ...\n",
      " [4.45383896 2.8572559  2.88165355 ... 2.74865703 3.53710927 2.29056107]\n",
      " [4.4514481  2.273445   2.7041188  ... 2.69594852 3.25193722 1.89941183]\n",
      " [4.69377873 3.14378218 3.38978106 ... 3.36552145 3.84044534 2.77988405]]\n",
      "coupling is: [[5.81797632e-05 5.93211295e-05 9.62794113e-05 ... 1.21219083e-04\n",
      "  1.05362840e-04 1.34967318e-04]\n",
      " [6.02702841e-05 1.81183290e-04 8.16523681e-05 ... 8.09255667e-05\n",
      "  7.84663911e-05 1.22641791e-04]\n",
      " [5.60162949e-05 1.22905023e-04 1.15010316e-04 ... 1.37050246e-04\n",
      "  9.29048322e-05 1.13191434e-04]\n",
      " ...\n",
      " [8.96324879e-05 9.85839130e-05 1.30408660e-04 ... 1.43355473e-04\n",
      "  8.57150574e-05 1.42818384e-04]\n",
      " [5.88928246e-05 1.32917609e-04 1.06400256e-04 ... 1.00237001e-04\n",
      "  7.98889345e-05 1.51745396e-04]\n",
      " [9.43844997e-05 9.80003823e-05 9.85699860e-05 ... 9.47259267e-05\n",
      "  8.34551657e-05 1.10488991e-04]]\n"
     ]
    }
   ],
   "source": [
    "trans_target_reps, wa_dist, coupling, M_max = trans_UOT(target_reps, source_reps)"
   ]
  },
  {
   "cell_type": "code",
   "execution_count": 47,
   "metadata": {},
   "outputs": [],
   "source": [
    "ot_emd = ot.da.UnbalancedSinkhornTransport(reg_e=1e-1, reg_m=1)\n",
    "ot_emd.fit(Xs=target_reps, Xt=source_reps)\n",
    "trans_target_reps = ot_emd.transform(Xs=target_reps)"
   ]
  },
  {
   "cell_type": "code",
   "execution_count": 48,
   "metadata": {},
   "outputs": [
    {
     "data": {
      "text/plain": [
       "(100, 120)"
      ]
     },
     "execution_count": 48,
     "metadata": {},
     "output_type": "execute_result"
    }
   ],
   "source": [
    "ot_emd.coupling_.shape"
   ]
  },
  {
   "cell_type": "code",
   "execution_count": 49,
   "metadata": {},
   "outputs": [],
   "source": [
    "predicted_trans_target_duration = reg.predict(trans_target_reps)"
   ]
  },
  {
   "cell_type": "code",
   "execution_count": 53,
   "metadata": {},
   "outputs": [
    {
     "name": "stdout",
     "output_type": "stream",
     "text": [
      "MSE is: 4570209743067.71\n"
     ]
    },
    {
     "data": {
      "image/png": "[encoded data removed]",
      "text/plain": [
       "<Figure size 640x480 with 1 Axes>"
      ]
     },
     "metadata": {},
     "output_type": "display_data"
    }
   ],
   "source": [
    "plt.scatter(target_labels, predicted_trans_target_duration)\n",
    "plt.xlabel('observed target duration')\n",
    "plt.ylabel('predicted trans target duration')\n",
    "print(f\"MSE is: {mean_squared_error(target_labels, predicted_trans_target_duration)}\")"
   ]
  },
  {
   "cell_type": "code",
   "execution_count": null,
   "metadata": {},
   "outputs": [],
   "source": []
  }
 ],
 "metadata": {
  "kernelspec": {
   "display_name": "base",
   "language": "python",
   "name": "python3"
  },
  "language_info": {
   "codemirror_mode": {
    "name": "ipython",
    "version": 3
   },
   "file_extension": ".py",
   "mimetype": "text/x-python",
   "name": "python",
   "nbconvert_exporter": "python",
   "pygments_lexer": "ipython3",
   "version": "3.9.12"
  },
  "orig_nbformat": 4
 },
 "nbformat": 4,
 "nbformat_minor": 2
}
