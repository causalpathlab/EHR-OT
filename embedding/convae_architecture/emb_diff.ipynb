{
 "cells": [
  {
   "cell_type": "markdown",
   "metadata": {},
   "source": [
    "Assess the differences between two embeddings"
   ]
  },
  {
   "cell_type": "code",
   "execution_count": 1,
   "metadata": {},
   "outputs": [],
   "source": [
    "import numpy as np\n",
    "import getpass\n",
    "user_id = getpass.getuser()\n",
    "\n",
    "import numpy as np\n",
    "import pandas as pd\n",
    "from patient_reps import *"
   ]
  },
  {
   "cell_type": "code",
   "execution_count": 2,
   "metadata": {},
   "outputs": [],
   "source": [
    "data_path = f\"/home/{user_id}/OTTEHR/embedding/convae_architecture/data\"\n"
   ]
  },
  {
   "cell_type": "code",
   "execution_count": 3,
   "metadata": {},
   "outputs": [],
   "source": [
    "emb_0 = np.loadtxt(os.path.join(data_path, \"code_emb_0.csv\"))\n",
    "emb_1 = np.loadtxt(os.path.join(data_path, \"code_emb_1.csv\"))\n",
    "emb_2 = np.loadtxt(os.path.join(data_path, \"code_emb_2.csv\"))"
   ]
  },
  {
   "cell_type": "code",
   "execution_count": 10,
   "metadata": {},
   "outputs": [],
   "source": [
    "def euc_diff(a, b):\n",
    "    return np.linalg.norm(a-b)\n"
   ]
  },
  {
   "cell_type": "code",
   "execution_count": 11,
   "metadata": {},
   "outputs": [],
   "source": [
    "diff_01 = np.array([euc_diff(emb_0[i], emb_1[i]) for i in range(emb_0.shape[0])])\n",
    "diff_02 = np.array([euc_diff(emb_0[i], emb_2[i]) for i in range(emb_0.shape[0])])\n",
    "diff_12 = np.array([euc_diff(emb_0[i], emb_1[i]) for i in range(emb_0.shape[0])])"
   ]
  },
  {
   "cell_type": "code",
   "execution_count": 12,
   "metadata": {},
   "outputs": [
    {
     "name": "stdout",
     "output_type": "stream",
     "text": [
      "[6.01271764 7.32674386 6.89123992 5.94973173 5.68560232 7.96133516\n",
      " 6.65392603 6.30809001 7.04177197 6.27879843 6.06209312 5.90198777\n",
      " 7.10585295 6.42135848 6.36230925 6.98533092 5.73661513 5.50298806\n",
      " 7.20872092 6.85406918 6.5923584  5.32400977 5.76866208 7.20037589\n",
      " 7.26620644 6.11285112 7.39452628 4.75526374 7.23921337 5.90742648\n",
      " 5.95937478 6.86635132 6.90265006 7.39197609 8.24383924 6.33489557\n",
      " 5.20297512 7.59958427 7.30528272 6.98971455 6.65700655 7.05520076\n",
      " 5.766548   5.75149019 6.60536421 7.07736738 6.8479515  6.64694619\n",
      " 6.7448896  6.99756041 6.58001002 5.30646098 6.12874667 7.28615048\n",
      " 6.83333248 6.13143896 7.37782434 6.11277212 6.62377158 6.248671\n",
      " 5.95553194 7.61915412 6.52372598 7.50597078 6.10144797 6.47556046\n",
      " 6.99959362 7.09947691 7.36012986 7.2225201  7.17399859 6.42146979\n",
      " 6.83263135 7.91011512 6.10100578 7.30718401 7.40506022 7.16289284\n",
      " 7.44581916 7.59444166 7.88164209 5.79583099 6.54321896 6.97439479\n",
      " 6.95796764 6.72765621 7.2544733  6.37461404 7.02084854 5.7728618\n",
      " 5.54415247 6.13125713 6.45907698 7.09479118 7.39025339 5.74362406\n",
      " 6.34185133 4.7665365  6.19665595 6.74830325]\n"
     ]
    }
   ],
   "source": [
    "print(diff_01)"
   ]
  },
  {
   "cell_type": "code",
   "execution_count": null,
   "metadata": {},
   "outputs": [],
   "source": []
  }
 ],
 "metadata": {
  "kernelspec": {
   "display_name": "Python 3",
   "language": "python",
   "name": "python3"
  },
  "language_info": {
   "codemirror_mode": {
    "name": "ipython",
    "version": 3
   },
   "file_extension": ".py",
   "mimetype": "text/x-python",
   "name": "python",
   "nbconvert_exporter": "python",
   "pygments_lexer": "ipython3",
   "version": "3.7.4"
  },
  "orig_nbformat": 4
 },
 "nbformat": 4,
 "nbformat_minor": 2
}
