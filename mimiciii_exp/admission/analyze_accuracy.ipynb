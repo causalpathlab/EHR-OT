{
 "cells": [
  {
   "cell_type": "code",
   "execution_count": 63,
   "metadata": {},
   "outputs": [],
   "source": [
    "import getpass\n",
    "user_id = getpass.getuser()\n",
    "\n",
    "import sys\n",
    "sys.path.append(f\"/home/{user_id}/OTTEHR/\")\n",
    "\n",
    "import matplotlib.pyplot as plt\n",
    "from mimic_common import *\n",
    "import os\n",
    "import pandas as pd\n",
    "from statistics import median, stdev\n",
    "import seaborn as sns"
   ]
  },
  {
   "cell_type": "code",
   "execution_count": 64,
   "metadata": {},
   "outputs": [],
   "source": [
    "\n",
    "def ratios_for_metrics(group_name, group_2, group_1, eval_metric, trans_metrics):\n",
    "    \"\"\" \n",
    "    Compute ratios for the evaluation metrics (eval_metric)\n",
    "\n",
    "    :param str eval_metric: evaluation metric, mae or rmse\n",
    "    :param str trans_metric: transporting metric, OT, TCA or MMD\n",
    "    \"\"\"\n",
    "\n",
    "    metric_improve_ratios = []\n",
    "    score_dir = mimic_output_dir\n",
    "    for trans_metric in trans_metrics:\n",
    "        score_path = os.path.join(score_dir, f\"exp4_{group_name}_{group_2}2{group_1}_{trans_metric}.csv\")\n",
    "        score_df = pd.read_csv(score_path, header=0, index_col=0)\n",
    "\n",
    "        # compute improvements in terms of ratio\n",
    "        metric_improve_ratios.append(compute_metric_ratio(score_df, eval_metric))\n",
    "\n",
    "    return metric_improve_ratios\n"
   ]
  },
  {
   "cell_type": "code",
   "execution_count": 65,
   "metadata": {},
   "outputs": [],
   "source": [
    "\n",
    "def stats_for_metrics(group_name, group_1, group_2, eval_metric, trans_metrics, filter_na):\n",
    "    \"\"\" \n",
    "    Compute ratios for the evaluation metrics (eval_metric)\n",
    "\n",
    "    :param str eval_metric: evaluation metric, mae or rmse\n",
    "    :param str trans_metric: transporting metric, OT or DeepJDOT\n",
    "    \"\"\"\n",
    "    metric_stats = []\n",
    "    score_dir = mimic_output_dir\n",
    "    for trans_metric in trans_metrics:\n",
    "        score_path = os.path.join(score_dir, f\"exp4_{group_name}_{group_2}2{group_1}_{trans_metric}.csv\")\n",
    "\n",
    "        score_df = pd.read_csv(score_path, header=0, index_col=None)\n",
    "\n",
    "        # get target metric\n",
    "        metric_stats.append(get_target_stats(score_df, eval_metric, trans_metric, log=True, filter_na=filter_na))\n",
    "\n",
    "    return np.array(metric_stats)"
   ]
  },
  {
   "cell_type": "code",
   "execution_count": 66,
   "metadata": {},
   "outputs": [],
   "source": [
    "def print_median_std(ratios, trans_metrics, eval_metric):\n",
    "    \"\"\" \n",
    "    Get median and standard deviation for the ratios of trans_metrics ('OT', 'TCA', 'MMD')\n",
    "    \"\"\"\n",
    "    for i, trans_metric in enumerate(trans_metrics):\n",
    "        print(f'{eval_metric} for {trans_metric}, Median: {median(ratios[i]):.1%}, Stdev: {stdev(ratios[i]):.1%}')"
   ]
  },
  {
   "cell_type": "code",
   "execution_count": 67,
   "metadata": {},
   "outputs": [],
   "source": [
    "score_dir = f\"/home/{user_id}/OTTEHR/outputs/mimiciii/\"\n",
    "\n",
    "# eval_metric = 'MAE'\n",
    "eval_metric = 'RMSE'\n",
    "\n",
    "# group_name = 'insurance'\n",
    "# groups = ['Self_Pay', 'Private', 'Government', 'Medicare', 'Medicaid']\n",
    "\n",
    "group_name = 'marital_status'\n",
    "groups = ['SEPARATED', 'DIVORCED', 'MARRIED','WIDOWED', 'SINGLE']\n",
    "\n"
   ]
  },
  {
   "cell_type": "code",
   "execution_count": 68,
   "metadata": {},
   "outputs": [],
   "source": [
    "def print_latex(source, target, ratios):\n",
    "    \"\"\" \n",
    "    Print latex for ratios\n",
    "    \"\"\"\n",
    "    if source == 'Self_Pay':\n",
    "        source = 'Self\\_Pay'\n",
    "    if target == 'Self_Pay':\n",
    "        target = 'Self\\_Pay'\n",
    "    print_str = f\"{source.title()} & {target.title()}\"\n",
    "    for ratio in ratios:\n",
    "        print_str += f' & {median(ratio):.2f}({stdev(ratio):.2f})'\n",
    "    print_str += ' \\\\\\ \\hline'\n",
    "    print(print_str)\n",
    "    "
   ]
  },
  {
   "cell_type": "code",
   "execution_count": 69,
   "metadata": {},
   "outputs": [
    {
     "name": "stdout",
     "output_type": "stream",
     "text": [
      " & 13.80(0.25) & 13.96(0.24) & 14.00(0.23) & 13.96(0.23) \\\\ \\hline\n"
     ]
    },
    {
     "data": {
      "image/png": "[encoded data removed]",
      "text/plain": [
       "<Figure size 500x400 with 1 Axes>"
      ]
     },
     "metadata": {},
     "output_type": "display_data"
    }
   ],
   "source": [
    "# Present the overall performance for OTTEHR, TCA, CA and GFK\n",
    "# Include this in the main manuscript\n",
    "\n",
    "trans_metrics = ['OT', 'TCA', 'CA', 'GFK']\n",
    "trans_metric_labels = []\n",
    "for metric in trans_metrics:\n",
    "    if metric == 'OT':\n",
    "        trans_metric_labels.append('OTTEHR')\n",
    "    else:\n",
    "        trans_metric_labels.append(metric)\n",
    "\n",
    "stats_combined = None\n",
    "\n",
    "for group_1 in groups:\n",
    "    for group_2 in groups:\n",
    "        if group_1 == group_2:\n",
    "            continue        \n",
    "        stats = stats_for_metrics(group_name, group_1, group_2, eval_metric, trans_metrics, filter_na=False)\n",
    "        if stats_combined is None:\n",
    "            stats_combined = stats\n",
    "        else:\n",
    "            stats_combined = np.concatenate((stats_combined, stats), axis=1)\n",
    "\n",
    "\n",
    "# Print population median and standard deviation\n",
    "print_str = \"\"\n",
    "for i, stats in enumerate(stats_combined):\n",
    "    print_str += f' & {median(stats):.2f}({stdev(stats):.2f})'\n",
    "print_str += ' \\\\\\ \\hline'\n",
    "\n",
    "print(print_str)\n",
    "\n",
    "# Plot the dataframe\n",
    "plt.figure(figsize=[5, 4])\n",
    "\n",
    "plt.violinplot([stats_combined[0], stats_combined[1], stats_combined[2], stats_combined[3]], showmedians=True)\n",
    "\n",
    "plt.xticks(range(1, len(trans_metrics)+1), labels=trans_metric_labels)\n",
    "plt.ylabel(f\"log({eval_metric})\", fontsize=15)\n",
    "plt.yticks(fontsize=12)\n",
    "plt.xticks(fontsize=12)\n",
    "ax = plt.gca()\n",
    "ax.set_xticklabels(labels=trans_metric_labels, fontsize=14)\n",
    "plt.ylim(12.5, 15)\n",
    "fig_path = os.path.join(mimic_output_dir, f\"{group_name}_{eval_metric}.pdf\")\n",
    "plt.tight_layout()\n",
    "plt.savefig(fig_path, bbox_inches='tight')\n",
    "plt.show()"
   ]
  },
  {
   "cell_type": "code",
   "execution_count": 70,
   "metadata": {},
   "outputs": [
    {
     "name": "stdout",
     "output_type": "stream",
     "text": [
      " & 13.80(0.25) & 13.65(0.62) \\\\ \\hline\n"
     ]
    },
    {
     "data": {
      "image/png": "[encoded data removed]",
      "text/plain": [
       "<Figure size 250x400 with 1 Axes>"
      ]
     },
     "metadata": {},
     "output_type": "display_data"
    }
   ],
   "source": [
    "# Present the overall performance for OTTEHR and deepJDOT\n",
    "# Include this in the main manuscript\n",
    "trans_metrics = ['OT', 'deepJDOT']\n",
    "trans_metric_labels = []\n",
    "for metric in trans_metrics:\n",
    "    if metric == 'OT':\n",
    "        trans_metric_labels.append('OTTEHR')\n",
    "    else:\n",
    "        trans_metric_labels.append(metric)\n",
    "\n",
    "stats_combined = None\n",
    "\n",
    "for group_1 in groups:\n",
    "    for group_2 in groups:\n",
    "        if group_1 == group_2:\n",
    "            continue        \n",
    "        stats = stats_for_metrics(group_name, group_1, group_2, eval_metric, trans_metrics, filter_na=False)\n",
    "        if stats_combined is None:\n",
    "            stats_combined = stats\n",
    "        else:\n",
    "            stats_combined = np.concatenate((stats_combined, stats), axis=1)\n",
    "\n",
    "filtered_deepJDOT_results = None\n",
    "\n",
    "# Print population median and standard deviation\n",
    "print_str = \"\"\n",
    "for i, stats in enumerate(stats_combined):\n",
    "    if i == len(stats_combined)-1:\n",
    "        filtered_deepJDOT_results = [x for x in stats_combined[i] if not pd.isna(x)]\n",
    "        print_str += f' & {median(filtered_deepJDOT_results):.2f}({stdev(filtered_deepJDOT_results):.2f})'\n",
    "    else:\n",
    "        print_str += f' & {median(stats):.2f}({stdev(stats):.2f})'\n",
    "print_str += ' \\\\\\ \\hline'\n",
    "\n",
    "print(print_str)\n",
    "\n",
    "# Plot the dataframe\n",
    "plt.figure(figsize=[2.5, 4])\n",
    "\n",
    "plt.violinplot([stats_combined[0], filtered_deepJDOT_results], showmedians=True)\n",
    "\n",
    "plt.xticks(range(1, len(trans_metrics)+1), labels=trans_metric_labels)\n",
    "plt.ylabel(f\"log({eval_metric})\", fontsize=15)\n",
    "plt.yticks(fontsize=12)\n",
    "plt.xticks(fontsize=12)\n",
    "ax = plt.gca()\n",
    "ax.set_xticklabels(labels=trans_metric_labels, fontsize=14)\n",
    "plt.ylim(12, 23)\n",
    "fig_path = os.path.join(mimic_output_dir, f\"{group_name}_{eval_metric}_deepJDOT.pdf\")\n",
    "plt.tight_layout()\n",
    "plt.savefig(fig_path, bbox_inches='tight')\n",
    "plt.show()"
   ]
  },
  {
   "cell_type": "code",
   "execution_count": 71,
   "metadata": {},
   "outputs": [
    {
     "name": "stdout",
     "output_type": "stream",
     "text": [
      " & 13.80(0.25) & 14.01(0.19) \\\\ \\hline\n"
     ]
    },
    {
     "data": {
      "image/png": "[encoded data removed]",
      "text/plain": [
       "<Figure size 250x400 with 1 Axes>"
      ]
     },
     "metadata": {},
     "output_type": "display_data"
    }
   ],
   "source": [
    "# Present the overall performance for OTTEHR and RSD\n",
    "# Include this for the rebuttal\n",
    "\n",
    "trans_metrics = ['OT', 'RSD']\n",
    "trans_metric_labels = []\n",
    "output_dir = os.path.join(os.path.expanduser(\"~\"), f\"OTTEHR/outputs/mimiciii\")\n",
    "\n",
    "for metric in trans_metrics:\n",
    "    if metric == 'OT':\n",
    "        trans_metric_labels.append('OTTEHR')\n",
    "    else:\n",
    "        trans_metric_labels.append(metric)\n",
    "\n",
    "stats_combined = None\n",
    "\n",
    "for group_1 in groups:\n",
    "    for group_2 in groups:\n",
    "        if group_1 == group_2:\n",
    "            continue     \n",
    "        score_path = os.path.join(output_dir, f\"exp4_{group_name}_{group_2}2{group_1}_RSD.csv\")\n",
    "        stats = stats_for_metrics(group_name, group_1, group_2, eval_metric, trans_metrics, filter_na=False)\n",
    "        if stats_combined is None:\n",
    "            stats_combined = stats\n",
    "        else:\n",
    "            stats_combined = np.concatenate((stats_combined, stats), axis=1)\n",
    "\n",
    "filtered_deepJDOT_results = None\n",
    "\n",
    "# Print population median and standard deviation\n",
    "print_str = \"\"\n",
    "for i, stats in enumerate(stats_combined):\n",
    "    if i == len(stats_combined)-1:\n",
    "        filtered_deepJDOT_results = [x for x in stats_combined[i] if not pd.isna(x)]\n",
    "        print_str += f' & {median(filtered_deepJDOT_results):.2f}({stdev(filtered_deepJDOT_results):.2f})'\n",
    "    else:\n",
    "        print_str += f' & {median(stats):.2f}({stdev(stats):.2f})'\n",
    "print_str += ' \\\\\\ \\hline'\n",
    "\n",
    "print(print_str)\n",
    "\n",
    "# Plot the dataframe\n",
    "plt.figure(figsize=[2.5, 4])\n",
    "\n",
    "plt.violinplot([stats_combined[0], filtered_deepJDOT_results], showmedians=True)\n",
    "\n",
    "plt.xticks(range(1, len(trans_metrics)+1), labels=trans_metric_labels)\n",
    "plt.ylabel(f\"log({eval_metric})\", fontsize=15)\n",
    "plt.yticks(fontsize=12)\n",
    "plt.xticks(fontsize=12)\n",
    "ax = plt.gca()\n",
    "ax.set_xticklabels(labels=trans_metric_labels, fontsize=14)\n",
    "plt.ylim(12.5, 15)\n",
    "fig_path = os.path.join(mimic_output_dir, f\"{group_name}_{eval_metric}_deepJDOT.pdf\")\n",
    "plt.tight_layout()\n",
    "plt.savefig(fig_path, bbox_inches='tight')\n",
    "plt.show()\n"
   ]
  },
  {
   "cell_type": "code",
   "execution_count": 72,
   "metadata": {},
   "outputs": [
    {
     "name": "stdout",
     "output_type": "stream",
     "text": [
      "Separated & Divorced & 13.81(0.26) & 14.00(0.25) & 14.05(0.23) & 14.01(0.24) & 13.64(0.25) \\\\ \\hline\n",
      "Separated & Married & 13.83(0.24) & 14.01(0.21) & 14.07(0.20) & 14.01(0.22) & 13.63(0.36) \\\\ \\hline\n",
      "Separated & Widowed & 13.77(0.24) & 14.00(0.21) & 14.03(0.21) & 14.01(0.21) & 13.52(0.19) \\\\ \\hline\n",
      "Separated & Single & 13.88(0.21) & 14.07(0.18) & 14.10(0.19) & 14.07(0.18) & 13.78(0.23) \\\\ \\hline\n",
      "Divorced & Separated & 13.85(0.24) & 13.97(0.21) & 14.01(0.21) & 13.97(0.21) & 13.91(0.51) \\\\ \\hline\n",
      "Divorced & Married & 13.75(0.21) & 13.89(0.25) & 13.93(0.24) & 13.88(0.24) & 13.64(0.31) \\\\ \\hline\n",
      "Divorced & Widowed & 13.66(0.27) & 13.86(0.29) & 13.87(0.28) & 13.85(0.29) & 13.47(0.91) \\\\ \\hline\n",
      "Divorced & Single & 13.83(0.22) & 13.94(0.27) & 13.97(0.25) & 13.92(0.26) & 13.70(1.17) \\\\ \\hline\n",
      "Married & Separated & 13.92(0.24) & 14.03(0.21) & 14.11(0.19) & 14.05(0.20) & 13.80(0.25) \\\\ \\hline\n",
      "Married & Divorced & 13.80(0.27) & 13.92(0.24) & 13.95(0.24) & 13.92(0.24) & 13.65(0.91) \\\\ \\hline\n",
      "Married & Widowed & 13.67(0.18) & 13.85(0.17) & 13.86(0.17) & 13.85(0.17) & 13.44(0.90) \\\\ \\hline\n",
      "Married & Single & 13.85(0.25) & 14.01(0.23) & 14.02(0.22) & 13.99(0.22) & 13.80(0.95) \\\\ \\hline\n",
      "Widowed & Separated & 13.95(0.24) & 14.01(0.23) & 14.02(0.23) & 14.02(0.22) & 13.84(0.57) \\\\ \\hline\n",
      "Widowed & Divorced & 13.79(0.26) & 13.89(0.25) & 13.90(0.26) & 13.87(0.25) & 13.66(0.51) \\\\ \\hline\n",
      "Widowed & Married & 13.75(0.22) & 13.82(0.21) & 13.87(0.20) & 13.82(0.21) & 13.61(0.25) \\\\ \\hline\n",
      "Widowed & Single & 13.79(0.20) & 13.89(0.19) & 13.93(0.20) & 13.88(0.20) & 13.74(0.84) \\\\ \\hline\n",
      "Single & Separated & 13.99(0.23) & 14.12(0.20) & 14.16(0.20) & 14.12(0.20) & 13.83(0.29) \\\\ \\hline\n",
      "Single & Divorced & 13.82(0.23) & 14.01(0.20) & 14.06(0.22) & 14.01(0.20) & 13.63(0.27) \\\\ \\hline\n",
      "Single & Married & 13.85(0.26) & 14.02(0.23) & 14.06(0.23) & 14.01(0.23) & 13.63(0.56) \\\\ \\hline\n",
      "Single & Widowed & 13.71(0.24) & 13.94(0.25) & 13.96(0.25) & 13.94(0.25) & 13.47(0.25) \\\\ \\hline\n",
      "\\multicolumn{2}{|c|}{Population Median} & 13.80(0.25) & 14.01(0.19) \\\\ \\hline\n"
     ]
    },
    {
     "name": "stderr",
     "output_type": "stream",
     "text": [
      "/tmp/ipykernel_777558/3682493312.py:18: VisibleDeprecationWarning: Creating an ndarray from ragged nested sequences (which is a list-or-tuple of lists-or-tuples-or ndarrays with different lengths or shapes) is deprecated. If you meant to do this, you must specify 'dtype=object' when creating the ndarray.\n",
      "  return np.array(metric_stats)\n",
      "/tmp/ipykernel_777558/3682493312.py:18: VisibleDeprecationWarning: Creating an ndarray from ragged nested sequences (which is a list-or-tuple of lists-or-tuples-or ndarrays with different lengths or shapes) is deprecated. If you meant to do this, you must specify 'dtype=object' when creating the ndarray.\n",
      "  return np.array(metric_stats)\n",
      "/tmp/ipykernel_777558/3682493312.py:18: VisibleDeprecationWarning: Creating an ndarray from ragged nested sequences (which is a list-or-tuple of lists-or-tuples-or ndarrays with different lengths or shapes) is deprecated. If you meant to do this, you must specify 'dtype=object' when creating the ndarray.\n",
      "  return np.array(metric_stats)\n",
      "/tmp/ipykernel_777558/3682493312.py:18: VisibleDeprecationWarning: Creating an ndarray from ragged nested sequences (which is a list-or-tuple of lists-or-tuples-or ndarrays with different lengths or shapes) is deprecated. If you meant to do this, you must specify 'dtype=object' when creating the ndarray.\n",
      "  return np.array(metric_stats)\n",
      "/tmp/ipykernel_777558/3682493312.py:18: VisibleDeprecationWarning: Creating an ndarray from ragged nested sequences (which is a list-or-tuple of lists-or-tuples-or ndarrays with different lengths or shapes) is deprecated. If you meant to do this, you must specify 'dtype=object' when creating the ndarray.\n",
      "  return np.array(metric_stats)\n",
      "/tmp/ipykernel_777558/3682493312.py:18: VisibleDeprecationWarning: Creating an ndarray from ragged nested sequences (which is a list-or-tuple of lists-or-tuples-or ndarrays with different lengths or shapes) is deprecated. If you meant to do this, you must specify 'dtype=object' when creating the ndarray.\n",
      "  return np.array(metric_stats)\n",
      "/tmp/ipykernel_777558/3682493312.py:18: VisibleDeprecationWarning: Creating an ndarray from ragged nested sequences (which is a list-or-tuple of lists-or-tuples-or ndarrays with different lengths or shapes) is deprecated. If you meant to do this, you must specify 'dtype=object' when creating the ndarray.\n",
      "  return np.array(metric_stats)\n",
      "/tmp/ipykernel_777558/3682493312.py:18: VisibleDeprecationWarning: Creating an ndarray from ragged nested sequences (which is a list-or-tuple of lists-or-tuples-or ndarrays with different lengths or shapes) is deprecated. If you meant to do this, you must specify 'dtype=object' when creating the ndarray.\n",
      "  return np.array(metric_stats)\n",
      "/tmp/ipykernel_777558/3682493312.py:18: VisibleDeprecationWarning: Creating an ndarray from ragged nested sequences (which is a list-or-tuple of lists-or-tuples-or ndarrays with different lengths or shapes) is deprecated. If you meant to do this, you must specify 'dtype=object' when creating the ndarray.\n",
      "  return np.array(metric_stats)\n",
      "/tmp/ipykernel_777558/3682493312.py:18: VisibleDeprecationWarning: Creating an ndarray from ragged nested sequences (which is a list-or-tuple of lists-or-tuples-or ndarrays with different lengths or shapes) is deprecated. If you meant to do this, you must specify 'dtype=object' when creating the ndarray.\n",
      "  return np.array(metric_stats)\n",
      "/tmp/ipykernel_777558/3682493312.py:18: VisibleDeprecationWarning: Creating an ndarray from ragged nested sequences (which is a list-or-tuple of lists-or-tuples-or ndarrays with different lengths or shapes) is deprecated. If you meant to do this, you must specify 'dtype=object' when creating the ndarray.\n",
      "  return np.array(metric_stats)\n",
      "/tmp/ipykernel_777558/3682493312.py:18: VisibleDeprecationWarning: Creating an ndarray from ragged nested sequences (which is a list-or-tuple of lists-or-tuples-or ndarrays with different lengths or shapes) is deprecated. If you meant to do this, you must specify 'dtype=object' when creating the ndarray.\n",
      "  return np.array(metric_stats)\n",
      "/tmp/ipykernel_777558/3682493312.py:18: VisibleDeprecationWarning: Creating an ndarray from ragged nested sequences (which is a list-or-tuple of lists-or-tuples-or ndarrays with different lengths or shapes) is deprecated. If you meant to do this, you must specify 'dtype=object' when creating the ndarray.\n",
      "  return np.array(metric_stats)\n",
      "/tmp/ipykernel_777558/3682493312.py:18: VisibleDeprecationWarning: Creating an ndarray from ragged nested sequences (which is a list-or-tuple of lists-or-tuples-or ndarrays with different lengths or shapes) is deprecated. If you meant to do this, you must specify 'dtype=object' when creating the ndarray.\n",
      "  return np.array(metric_stats)\n",
      "/tmp/ipykernel_777558/3682493312.py:18: VisibleDeprecationWarning: Creating an ndarray from ragged nested sequences (which is a list-or-tuple of lists-or-tuples-or ndarrays with different lengths or shapes) is deprecated. If you meant to do this, you must specify 'dtype=object' when creating the ndarray.\n",
      "  return np.array(metric_stats)\n",
      "/tmp/ipykernel_777558/3682493312.py:18: VisibleDeprecationWarning: Creating an ndarray from ragged nested sequences (which is a list-or-tuple of lists-or-tuples-or ndarrays with different lengths or shapes) is deprecated. If you meant to do this, you must specify 'dtype=object' when creating the ndarray.\n",
      "  return np.array(metric_stats)\n",
      "/tmp/ipykernel_777558/3682493312.py:18: VisibleDeprecationWarning: Creating an ndarray from ragged nested sequences (which is a list-or-tuple of lists-or-tuples-or ndarrays with different lengths or shapes) is deprecated. If you meant to do this, you must specify 'dtype=object' when creating the ndarray.\n",
      "  return np.array(metric_stats)\n",
      "/tmp/ipykernel_777558/3682493312.py:18: VisibleDeprecationWarning: Creating an ndarray from ragged nested sequences (which is a list-or-tuple of lists-or-tuples-or ndarrays with different lengths or shapes) is deprecated. If you meant to do this, you must specify 'dtype=object' when creating the ndarray.\n",
      "  return np.array(metric_stats)\n",
      "/tmp/ipykernel_777558/3682493312.py:18: VisibleDeprecationWarning: Creating an ndarray from ragged nested sequences (which is a list-or-tuple of lists-or-tuples-or ndarrays with different lengths or shapes) is deprecated. If you meant to do this, you must specify 'dtype=object' when creating the ndarray.\n",
      "  return np.array(metric_stats)\n"
     ]
    }
   ],
   "source": [
    "# Calculate the pairwise performance for OTTEHR, TCA, CA, GFK and deepJDOT\n",
    "# Include this in the supplementary materials \n",
    "\n",
    "trans_metrics = ['OT', 'TCA', 'CA', 'GFK', 'deepJDOT']\n",
    "\n",
    "for i, group_1 in enumerate(groups):\n",
    "    for j, group_2 in enumerate(groups):\n",
    "        if i == j:\n",
    "            continue\n",
    "        stats = stats_for_metrics(group_name, group_1, group_2, eval_metric, trans_metrics, filter_na=True)\n",
    "        # print(stats.shape)\n",
    "\n",
    "        print_latex(group_1, group_2, stats)\n",
    "\n",
    "# Print population median and standard deviation\n",
    "print_str = \"\\multicolumn{2}{|c|}{Population Median}\"\n",
    "for i, stats in enumerate(stats_combined):\n",
    "    if i == len(stats_combined)-1:\n",
    "        filtered_deepJDOT_results = [x for x in stats_combined[i] if not pd.isna(x)]\n",
    "        print_str += f' & {median(filtered_deepJDOT_results):.2f}({stdev(filtered_deepJDOT_results):.2f})'\n",
    "    else:\n",
    "        print_str += f' & {median(stats):.2f}({stdev(stats):.2f})'\n",
    "print_str += ' \\\\\\ \\hline'\n",
    "print(print_str)"
   ]
  }
 ],
 "metadata": {
  "kernelspec": {
   "display_name": "base",
   "language": "python",
   "name": "python3"
  },
  "language_info": {
   "codemirror_mode": {
    "name": "ipython",
    "version": 3
   },
   "file_extension": ".py",
   "mimetype": "text/x-python",
   "name": "python",
   "nbconvert_exporter": "python",
   "pygments_lexer": "ipython3",
   "version": "3.9.12"
  },
  "orig_nbformat": 4
 },
 "nbformat": 4,
 "nbformat_minor": 2
}
