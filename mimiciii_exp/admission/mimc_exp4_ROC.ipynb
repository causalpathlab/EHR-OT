{
 "cells": [
  {
   "cell_type": "code",
   "execution_count": 1,
   "metadata": {},
   "outputs": [
    {
     "name": "stderr",
     "output_type": "stream",
     "text": [
      "2024-02-01 23:01:13.859356: I external/local_tsl/tsl/cuda/cudart_stub.cc:31] Could not find cuda drivers on your machine, GPU will not be used.\n",
      "2024-02-01 23:01:13.895770: E external/local_xla/xla/stream_executor/cuda/cuda_dnn.cc:9261] Unable to register cuDNN factory: Attempting to register factory for plugin cuDNN when one has already been registered\n",
      "2024-02-01 23:01:13.895811: E external/local_xla/xla/stream_executor/cuda/cuda_fft.cc:607] Unable to register cuFFT factory: Attempting to register factory for plugin cuFFT when one has already been registered\n",
      "2024-02-01 23:01:13.896700: E external/local_xla/xla/stream_executor/cuda/cuda_blas.cc:1515] Unable to register cuBLAS factory: Attempting to register factory for plugin cuBLAS when one has already been registered\n",
      "2024-02-01 23:01:13.902497: I tensorflow/core/platform/cpu_feature_guard.cc:182] This TensorFlow binary is optimized to use available CPU instructions in performance-critical operations.\n",
      "To enable the following instructions: AVX2 FMA, in other operations, rebuild TensorFlow with the appropriate compiler flags.\n",
      "2024-02-01 23:01:14.702308: W tensorflow/compiler/tf2tensorrt/utils/py_utils.cc:38] TF-TRT Warning: Could not find TensorRT\n"
     ]
    }
   ],
   "source": [
    "import getpass\n",
    "user_id = getpass.getuser()\n",
    "\n",
    "import sys\n",
    "sys.path.append(f\"/home/{user_id}/OTTEHR/\")\n",
    "sys.path.append(f\"/home/{user_id}/OTTEHR/mimic_exp\")\n",
    "\n",
    "from common import *\n",
    "from mimic_common import *\n",
    "import os\n",
    "import pandas as pd\n"
   ]
  },
  {
   "cell_type": "code",
   "execution_count": 11,
   "metadata": {},
   "outputs": [],
   "source": [
    "# Combine the equity csv files to one file as input to the R function\n",
    "\n",
    "# group_name = 'marital_status'\n",
    "# groups = ['MARRIED', 'SINGLE', 'WIDOWED', 'DIVORCED', 'SEPARATED']\n",
    "\n",
    "group_name = 'insurance'\n",
    "groups = ['Self_Pay', 'Private', 'Government', 'Medicare', 'Medicaid']\n",
    "combined_df = None\n",
    "for i in range(len(groups)):\n",
    "    for j in range(len(groups)): # for each pair of groups, we only consider it once\n",
    "        group_1 = groups[i]\n",
    "        group_2 = groups[j]\n",
    "        if i == j:\n",
    "            continue\n",
    "        target_equity_path = os.path.join(mimic_output_dir, f\"exp4_{group_name}_{group_2}2{group_1}_equity.csv\")\n",
    "        target_equity_df = pd.read_csv(target_equity_path, header=0, index_col=None)\n",
    "        if combined_df is None:\n",
    "            combined_df = target_equity_df\n",
    "        else:\n",
    "            combined_df = pd.concat([combined_df, target_equity_df])"
   ]
  },
  {
   "cell_type": "code",
   "execution_count": 12,
   "metadata": {},
   "outputs": [],
   "source": [
    "combined_df = combined_df.drop(['target_codes'], axis=1)\n",
    "combined_df.to_csv(os.path.join(mimic_output_dir, f\"{group_name}_combined_equity.csv\"), header=True, index=False)"
   ]
  },
  {
   "cell_type": "code",
   "execution_count": null,
   "metadata": {},
   "outputs": [],
   "source": [
    "# Sent as input to RROCcurves.1.0.1.r"
   ]
  }
 ],
 "metadata": {
  "kernelspec": {
   "display_name": "base",
   "language": "python",
   "name": "python3"
  },
  "language_info": {
   "codemirror_mode": {
    "name": "ipython",
    "version": 3
   },
   "file_extension": ".py",
   "mimetype": "text/x-python",
   "name": "python",
   "nbconvert_exporter": "python",
   "pygments_lexer": "ipython3",
   "version": "3.9.12"
  },
  "orig_nbformat": 4
 },
 "nbformat": 4,
 "nbformat_minor": 2
}
