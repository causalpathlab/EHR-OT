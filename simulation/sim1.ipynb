{
 "cells": [
  {
   "cell_type": "code",
   "execution_count": null,
   "metadata": {},
   "outputs": [],
   "source": [
    "import numpy as np\n",
    "\n",
    "\"\"\" \n",
    "Note: simulation has to have realistic meanings\n",
    "\"\"\""
   ]
  },
  {
   "cell_type": "code",
   "execution_count": null,
   "metadata": {},
   "outputs": [],
   "source": [
    "\"\"\" \n",
    "Simulation 1 scheme (Write down this mathematically):\n",
    "\n",
    "code range: [1, 20]\n",
    "\n",
    "Source domain:\n",
    "    - Shape [10000, ]\n",
    "    - Code 1,2,..., 8 are unique to source domain\n",
    "\n",
    "Target domain:\n",
    "    - Shape [10000, ]\n",
    "    - Code 9,  are unique to target domain\n",
    "\n",
    "Simulate features:\n",
    "    - 1 layer: Sample parameters from Dirichlet distribution\n",
    "    - 2(a) layer: Sample codes from the categorical distribution from the previous step\n",
    "    - 2(b) layer: Sample codes from categorical distribution with equal probability\n",
    "    - 3 layer: sample rate from Gaussian distirbution, and combine 2(a) and 2(b)\n",
    "\n",
    "Simulate labels:\n",
    "    - 1 layer: Sample n from categorical (n_features/4, n_features/3) (with equal probability)\n",
    "    - 2(a) layer: If the n code with the highest underlying frequency exists, then 1\n",
    "    - 2(b) layer: Sample codes from categorical distribution of [0, 1] with equal probability\n",
    "    - 3 layer: sample rate from Gaussian distribution, and combine 2(a) and (b)\n",
    "\n",
    "\n",
    "\n",
    "\n",
    "\"\"\""
   ]
  },
  {
   "attachments": {},
   "cell_type": "markdown",
   "metadata": {},
   "source": [
    "Simulation 1 scheme \n",
    "\n",
    "Code range: 1,2,..., 20 \n",
    "\n",
    "Source domain:\\\n",
    "    - Shape: [10000, ]\\\n",
    "    - Code 1,2,...,8 are more frequent\n",
    "\n",
    "Target domain:\\\n",
    "    - Shape: [10000, ]\\\n",
    "    - Code 9, 10, 11, 12 are more frequent\n",
    "\n",
    "Simulate features  \n",
    "* 1. Set $\\alpha = [\\alpha_1, \\alpha_2, ..., \\alpha_{12}]$\n",
    "    * 1(a). For males, $\\alpha_1 =  ... = \\alpha_8 = \\frac{1}{10}$, $\\alpha_9 = ...  = \\alpha_12 = \\frac{1}{20}$\n",
    "    * 1(b). For females, $\\alpha_1 =  ... = \\alpha_8 = \\frac{1}{20}, \\alpha_9 = ...  = \\alpha_12 = \\frac{3}{20}$\n",
    "* 2. Simulate $p_1,...,p_{12} \\sim Dir(12, \\alpha)$ \n",
    "* 3. Simulate $n \\sim Cat(\\frac{1}{5}, ..., \\frac{1}{5})$ for $[10, 11, ..., 14]$\n",
    "    * 3(a). Simulate $n_{male}$ for males\n",
    "    * 3(b). Simulate $n_{female}$ for females\n",
    "* 4. For each row (per patient, per sequence), simulate $a_1, ..., a_n \\overset{\\mathrm{iid}}{\\sim} Cat(p_1,..., p_{12})$\n",
    "* 5. For each row (per patient, per sequence), simulate $b_1, ..., b_n \\overset{\\mathrm{iid}}{\\sim} Cat(\\frac{1}{12},..., \\frac{1}{12})$\n",
    "* 6. Simulate $\\epsilon \\sim Gaussian(0, 1), \\epsilon = min(|\\epsilon|, 1)$, then, $c_1, ..., c_n = (1-\\epsilon) [a_1, ..., a_n] + \\epsilon[b_1, ..., b_n])$\n",
    "* 7. Simulate $m \\sim Cat(\\frac{1}{5}, ..., \\frac{1}{5})$ for $[6, 7, ..., 10]$\n",
    "    * 7(a). Simulate $m_{male}$ for males\n",
    "    * 7(b). Simulate $m_{female}$ for females\n",
    "* 8. For each row (per patient, per sequence), simulate $d_1, ..., d_m \\overset{\\mathrm{iid}}{\\sim} Cat(\\frac{1}{m},..., \\frac{1}{m})$\n",
    "* 9. $x_1, ..., x_{n+m} = [c_1, ..., c_n, d_1, ..., d_m] $\n",
    "\n",
    "Simulate labels\n",
    "* 1. Simulate $k\\sim \\lfloor \\frac{N}{4} \\rfloor$\n",
    "    * 1.(a) $N = 8$ for males\n",
    "    * 1.(b) $N = 4$ for females\n",
    "* 2. If the codes with the top $k$ highest $\\alpha_i$ $(i \\in [1,...,12])$ presents, then $e_x = 1$; otherwise, $e_x = 0$.\n",
    "* 3. Simulate $f_x \\sim Bernoulli(\\frac{1}{2})$\n",
    "* 4. Simulate $\\delta \\sim Gaussian(0, 1), \\delta = min(|\\delta|, 1)$, then $g_x = (1-\\delta) e_x + \\delta g_x$\n",
    "\n",
    "\n",
    "\n",
    "\n"
   ]
  },
  {
   "cell_type": "markdown",
   "metadata": {},
   "source": []
  }
 ],
 "metadata": {
  "kernelspec": {
   "display_name": "Python 3",
   "language": "python",
   "name": "python3"
  },
  "language_info": {
   "name": "python",
   "version": "3.9.5 (default, Nov 23 2021, 15:27:38) \n[GCC 9.3.0]"
  },
  "orig_nbformat": 4,
  "vscode": {
   "interpreter": {
    "hash": "f9f85f796d01129d0dd105a088854619f454435301f6ffec2fea96ecbd9be4ac"
   }
  }
 },
 "nbformat": 4,
 "nbformat_minor": 2
}
