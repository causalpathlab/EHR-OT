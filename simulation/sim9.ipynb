{
 "cells": [
  {
   "cell_type": "code",
   "execution_count": null,
   "metadata": {},
   "outputs": [],
   "source": [
    "\"\"\" \n",
    "Ordered response + PCA\n",
    "\"\"\""
   ]
  },
  {
   "attachments": {},
   "cell_type": "markdown",
   "metadata": {},
   "source": [
    "Motivation\n",
    "\n",
    "* Background: Female and male body status may be related to different features, hence may be related to different embedding axes.\n",
    "\n",
    "* Data: Source data is dense in early stage, but sparse in late stage. Target data is sparse in early stage, but dense in late stage.\n",
    "\n",
    "* Question: Does transporting source representations onto target representations help with overrall (both early and late) cancer prediction?\n",
    "\n",
    "* Note: This question is different from previous simulation questions. We benchmark test data, that do not present in training.\n",
    "\n",
    "Simulation\n",
    "\n",
    "* Suppose the embedding dimension is 2.\n",
    "\n",
    "* $r$ for indexing domains\n",
    "\n",
    "* Let $N$ be the total number of training data, $N_{s}$ be the number of data in the source domain, $N_{t}$ be the number of data in the target domain. $N'$ be the number of test data.\n",
    "\n",
    "* Sample $\\beta_{s1} \\sim \\operatorname{Gaussian}\\left(0,1\\right)$, $\\beta_{s2} \\sim \\operatorname{Gaussian}\\left(50,1\\right)$\n",
    "\n",
    "* Sample $\\beta_{t1} \\sim \\operatorname{Gaussian}\\left(50,1\\right)$, $\\beta_{t2} \\sim \\operatorname{Gaussian}\\left(0,1\\right)$\n",
    "\n",
    "* Pick function $g$ from sigmoid, identify function, natural log function. Let $f(L_1, L_2) = g(\\beta_1 L_1 + \\beta_2 L_2)$\n",
    "\n",
    "* Simulate $X_s = X_{s_1}, X_{s_2} \\sim \\operatorname{Gaussian}\\left(0,1\\right)$\n",
    "\n",
    "* Generate $Y_{se} = k_1 X_{se} + \\epsilon$\n",
    "\n",
    "* Simulate $X_{sl} \\sim \\operatorname{Unif}\\left(S, E \\right)$ where $|X_{sl}| = N-N_{se}$\n",
    "\n",
    "* Generate $Y_{sl} = k_2 X_{sl} + \\epsilon$\n",
    "\n",
    "* Simulate $X_{te} \\sim \\operatorname{Unif}\\left(0, S \\right)$ where $|X_{te}| = N-N_{tl}$\n",
    "\n",
    "* Generate $Y_{te} = k_1 X_{te} + \\epsilon$\n",
    "\n",
    "* Simulate $X_{tl} \\sim \\operatorname{Unif}\\left(S, E \\right)$ where $|X_{tl}| = N_{tl}$\n",
    "\n",
    "* Generate $Y_{tl} = k_2 X_{tl} + \\epsilon$\n",
    "\n",
    "* The source representations are: $[X_{se}, X_{sl}]$. Source labels are $[Y_{se}, Y_{sl}]$. \n",
    "\n",
    "* The target representations are: $[X_{te}, X_{tl}]$. Target labels are $[Y_{te}, Y_{tl}]$. \n",
    "\n",
    "* Simulate $X_{te}' \\sim \\operatorname{Unif}\\left(0, S \\right)$ where $|X_{te}'| = N_{te}'$\n",
    "\n",
    "* Generate $Y_{te}' = k_1 X_{te}' + \\epsilon$\n",
    "\n",
    "* Simulate $X_{tl}' \\sim \\operatorname{Unif}\\left(S, E \\right)$ where $|X_{tl}'| = N_{tl}'$\n",
    "\n",
    "* Generate $Y_{tl}' = k_2 X_{tl}' + \\epsilon$\n",
    "\n",
    "* The test target representations are:  $[X_{te}', X_{tl}']$. Test target labels are $[Y_{te}', Y_{tl}']$. \n",
    "\n",
    "Expectation:\n",
    "\n",
    "* Transport source data in its embedding space onto target domain embedding space can help with learning a better target model\n",
    "\n",
    "* Use a single linear model to learn the mixture linear relationship\n",
    "\n"
   ]
  },
  {
   "cell_type": "markdown",
   "metadata": {},
   "source": []
  }
 ],
 "metadata": {
  "kernelspec": {
   "display_name": "Python 3",
   "language": "python",
   "name": "python3"
  },
  "language_info": {
   "name": "python",
   "version": "3.9.5 (default, Nov 23 2021, 15:27:38) \n[GCC 9.3.0]"
  },
  "orig_nbformat": 4,
  "vscode": {
   "interpreter": {
    "hash": "f9f85f796d01129d0dd105a088854619f454435301f6ffec2fea96ecbd9be4ac"
   }
  }
 },
 "nbformat": 4,
 "nbformat_minor": 2
}
