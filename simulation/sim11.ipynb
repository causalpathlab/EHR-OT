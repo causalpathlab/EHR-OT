{
 "cells": [
  {
   "attachments": {},
   "cell_type": "markdown",
   "metadata": {},
   "source": [
    "mimic simulation 7, treat features as continuous  \n",
    "\n",
    "Simulate coordinates in the embedding space\n",
    "\n",
    "The first two are simulated from Gaussian, the rest are simulated by random noise\n",
    "\n",
    "Round all coordinates\n",
    "\n"
   ]
  },
  {
   "cell_type": "code",
   "execution_count": 1,
   "metadata": {},
   "outputs": [
    {
     "name": "stderr",
     "output_type": "stream",
     "text": [
      "WARNING (theano.tensor.blas): Using NumPy C-API based implementation for BLAS functions.\n"
     ]
    }
   ],
   "source": [
    "import sys\n",
    "sys.path.append(\"/home/wanxinli/deep_patient/synthetic_exp\")\n",
    "sys.path.append(\"/home/wanxinli/deep_patient/\")\n",
    "\n",
    "from common import *\n",
    "from deep_patient.sda import SDA\n",
    "from math import floor, exp\n",
    "import matplotlib.pylab as pl\n",
    "import matplotlib.pyplot as plt\n",
    "import numpy as np\n",
    "from numpy.random import poisson, normal\n",
    "from numpy.random import dirichlet\n",
    "from random import randint\n",
    "import theano.tensor as T\n",
    "import os\n",
    "import ot.plot\n",
    "from sklearn import linear_model\n",
    "from sklearn import svm\n",
    "from sklearn import preprocessing\n",
    "from sklearn.utils import check_random_state\n",
    "from sklearn.decomposition import PCA\n",
    "\n",
    "from sim_common import *"
   ]
  },
  {
   "cell_type": "code",
   "execution_count": 2,
   "metadata": {},
   "outputs": [],
   "source": [
    "output_dir = os.path.join(os.path.expanduser(\"~\"), f\"deep_patient/outputs/synthetic\")\n"
   ]
  },
  {
   "cell_type": "code",
   "execution_count": 3,
   "metadata": {},
   "outputs": [],
   "source": [
    "def simulate_emb_label(dataset, n, num_features, mu_1, mu_2, nz=.5, theta=0, p=.5, random_state=None, **kwargs):\n",
    "    \"\"\" Simulate desired embeddings and labels\n",
    " \n",
    "    Parameters\n",
    "    ----------\n",
    "    dataset : str\n",
    "        type of classification problem (see code)\n",
    "    n : int\n",
    "        number of training samples\n",
    "    num_features: int\n",
    "        number of features\n",
    "    nz : float\n",
    "        noise level (>0)\n",
    "    p : float\n",
    "        proportion of one class in the binary setting\n",
    "    random_state : int, RandomState instance or None, optional (default=None)\n",
    "        If int, random_state is the seed used by the random number generator;\n",
    "        If RandomState instance, random_state is the random number generator;\n",
    "        If None, the random number generator is the RandomState instance used\n",
    "        by `np.random`.\n",
    "\n",
    "    Returns\n",
    "    -------\n",
    "    X : ndarray, shape (n, d), the desired embedding\n",
    "        `n` observation of size `d`\n",
    "    y : ndarray, shape (n,), the labels\n",
    "        labels of the samples.\n",
    "    \"\"\"\n",
    "    \n",
    "    generator = check_random_state(random_state)\n",
    "\n",
    "    if dataset.lower() == '2gauss': # this pair of simulation can be transported well\n",
    "        y = np.floor((np.arange(n) * 1.0 / n * 2)) + 1\n",
    "        x = np.zeros((n, 2))\n",
    "        # class 1\n",
    "        x[y == 1, 0] = mu_1[0]\n",
    "        x[y == 1, 1] = mu_1[1]\n",
    "        x[y == 2, 0] = mu_2[0]\n",
    "        x[y == 2, 1] = mu_2[1]\n",
    "        x[y != 2, :] += 1.5 * nz * generator.randn(sum(y != 2), 2)\n",
    "        x[y == 2, :] += 2 * nz * generator.randn(sum(y == 2), 2)\n",
    "    elif dataset.lower() == '2gauss2':\n",
    "        y = np.floor((np.arange(n) * 1.0 / n * 2)) + 1\n",
    "        x = np.zeros((n, 2))\n",
    "        # class 1\n",
    "        x[y == 1, 0] = mu_1[0]\n",
    "        x[y == 1, 1] = mu_1[1]\n",
    "        x[y == 2, 0] = mu_2[0]\n",
    "        x[y == 2, 1] = mu_2[1]\n",
    "        x[y != 2, :] += 1 * nz * generator.randn(sum(y != 2), 2)\n",
    "        x[y == 2, :] += 2 * nz * generator.randn(sum(y == 2), 2)\n",
    "    \n",
    "    # pad noise to the remaining dimensions\n",
    "    new_x = []\n",
    "    ori_dim = x.shape[1]\n",
    "    for i in range(x.shape[0]):\n",
    "        cur_x = x[i].tolist()\n",
    "        cur_x.extend(normal(0, 0.01, num_features-ori_dim))\n",
    "        new_x.append(cur_x)\n",
    "        \n",
    "    return np.array(new_x), y.astype(int)"
   ]
  },
  {
   "cell_type": "code",
   "execution_count": 4,
   "metadata": {},
   "outputs": [],
   "source": [
    "def sim_wrapper(num_patient = 1000):\n",
    "    target_coords, target_labels = simulate_emb_label('2gauss', num_patient, 20, [-1, 1], [1, 0], nz=0.5)\n",
    "    source_coords, source_labels = simulate_emb_label('2gauss2', num_patient, 20, [-2, -2], [2, 0], nz=0.5)\n",
    "    target_features = coords2features(target_coords)\n",
    "    source_features = coords2features(source_coords)\n",
    "    return source_features, source_labels, target_features, target_labels\n",
    "    "
   ]
  },
  {
   "cell_type": "code",
   "execution_count": 5,
   "metadata": {},
   "outputs": [
    {
     "name": "stdout",
     "output_type": "stream",
     "text": [
      "iteration: 0\n",
      "iteration: 1\n",
      "iteration: 2\n",
      "iteration: 3\n",
      "iteration: 4\n",
      "iteration: 5\n",
      "iteration: 6\n",
      "iteration: 7\n",
      "iteration: 8\n",
      "iteration: 9\n",
      "iteration: 10\n",
      "iteration: 11\n",
      "iteration: 12\n",
      "iteration: 13\n",
      "iteration: 14\n",
      "iteration: 15\n",
      "iteration: 16\n",
      "iteration: 17\n",
      "iteration: 18\n",
      "iteration: 19\n",
      "iteration: 20\n",
      "iteration: 21\n",
      "iteration: 22\n",
      "iteration: 23\n",
      "iteration: 24\n",
      "iteration: 25\n",
      "iteration: 26\n",
      "iteration: 27\n",
      "iteration: 28\n",
      "iteration: 29\n",
      "iteration: 30\n",
      "iteration: 31\n",
      "iteration: 32\n"
     ]
    },
    {
     "name": "stderr",
     "output_type": "stream",
     "text": [
      "/home/wanxinli/.local/lib/python3.8/site-packages/ot/bregman.py:517: UserWarning: Sinkhorn did not converge. You might want to increase the number of iterations `numItermax` or the regularization parameter `reg`.\n",
      "  warnings.warn(\"Sinkhorn did not converge. You might want to \"\n"
     ]
    },
    {
     "name": "stdout",
     "output_type": "stream",
     "text": [
      "iteration: 33\n",
      "iteration: 34\n",
      "iteration: 35\n",
      "iteration: 36\n",
      "iteration: 37\n",
      "iteration: 38\n",
      "iteration: 39\n",
      "iteration: 40\n",
      "iteration: 41\n",
      "iteration: 42\n",
      "iteration: 43\n",
      "iteration: 44\n",
      "iteration: 45\n",
      "iteration: 46\n",
      "iteration: 47\n",
      "iteration: 48\n",
      "iteration: 49\n",
      "iteration: 50\n",
      "iteration: 51\n",
      "iteration: 52\n",
      "iteration: 53\n"
     ]
    },
    {
     "name": "stderr",
     "output_type": "stream",
     "text": [
      "/home/wanxinli/.local/lib/python3.8/site-packages/ot/bregman.py:517: UserWarning: Sinkhorn did not converge. You might want to increase the number of iterations `numItermax` or the regularization parameter `reg`.\n",
      "  warnings.warn(\"Sinkhorn did not converge. You might want to \"\n"
     ]
    },
    {
     "name": "stdout",
     "output_type": "stream",
     "text": [
      "iteration: 54\n"
     ]
    },
    {
     "name": "stderr",
     "output_type": "stream",
     "text": [
      "/home/wanxinli/.local/lib/python3.8/site-packages/ot/bregman.py:517: UserWarning: Sinkhorn did not converge. You might want to increase the number of iterations `numItermax` or the regularization parameter `reg`.\n",
      "  warnings.warn(\"Sinkhorn did not converge. You might want to \"\n"
     ]
    },
    {
     "name": "stdout",
     "output_type": "stream",
     "text": [
      "iteration: 55\n",
      "iteration: 56\n",
      "iteration: 57\n",
      "iteration: 58\n",
      "iteration: 59\n",
      "iteration: 60\n",
      "iteration: 61\n",
      "iteration: 62\n",
      "iteration: 63\n",
      "iteration: 64\n",
      "iteration: 65\n",
      "iteration: 66\n",
      "iteration: 67\n",
      "iteration: 68\n",
      "iteration: 69\n",
      "iteration: 70\n",
      "iteration: 71\n",
      "iteration: 72\n",
      "iteration: 73\n",
      "iteration: 74\n",
      "iteration: 75\n",
      "iteration: 76\n",
      "iteration: 77\n",
      "iteration: 78\n",
      "iteration: 79\n",
      "iteration: 80\n",
      "iteration: 81\n",
      "iteration: 82\n",
      "iteration: 83\n",
      "iteration: 84\n",
      "iteration: 85\n",
      "iteration: 86\n",
      "iteration: 87\n",
      "iteration: 88\n",
      "iteration: 89\n",
      "iteration: 90\n",
      "iteration: 91\n",
      "iteration: 92\n",
      "iteration: 93\n",
      "iteration: 94\n",
      "iteration: 95\n",
      "iteration: 96\n",
      "iteration: 97\n",
      "iteration: 98\n",
      "iteration: 99\n"
     ]
    }
   ],
   "source": [
    "source_accuracies, source_precisions, source_recalls, source_f1s, \\\n",
    "    target_accuracies, target_precisions, target_recalls, target_f1s, \\\n",
    "    trans_target_accuracies, trans_target_precisions, trans_target_recalls, trans_target_f1s  = \\\n",
    "    run_proc_multi(sim_wrapper, features2embs, svm.SVC, max_iter=100000, n_times=100)"
   ]
  },
  {
   "cell_type": "code",
   "execution_count": 6,
   "metadata": {},
   "outputs": [],
   "source": [
    "score_path = os.path.join(output_dir, \"sim11_svm_scores.csv\")\n",
    "save_scores(source_accuracies, source_precisions, source_recalls, source_f1s, \\\n",
    "        target_accuracies, target_precisions, target_recalls, target_f1s, \\\n",
    "        trans_target_accuracies, trans_target_precisions, trans_target_recalls, trans_target_f1s, score_path)"
   ]
  },
  {
   "cell_type": "code",
   "execution_count": 7,
   "metadata": {},
   "outputs": [
    {
     "name": "stdout",
     "output_type": "stream",
     "text": [
      "average trans target to target precision is: 1.2746454225109383\n",
      "median trans target to target precision is: 0.9361921289332429\n",
      "average trans source to source recall is: 2.124524485576654\n",
      "median trans source to source recall is: 1.3854287556415215\n",
      "average trans target to target f1 is: 1.0973255724497306\n",
      "median trans target to target f1 is: 1.0910214004507088\n"
     ]
    },
    {
     "data": {
      "text/plain": [
       "<Figure size 432x288 with 0 Axes>"
      ]
     },
     "metadata": {},
     "output_type": "display_data"
    },
    {
     "data": {
      "image/png": "[encoded data removed]",
      "text/plain": [
       "<Figure size 540x252 with 1 Axes>"
      ]
     },
     "metadata": {
      "needs_background": "light"
     },
     "output_type": "display_data"
    }
   ],
   "source": [
    "box_plot_binary_short(score_path)"
   ]
  },
  {
   "cell_type": "code",
   "execution_count": 12,
   "metadata": {},
   "outputs": [],
   "source": [
    "\"\"\" \n",
    "One run of the experiment\n",
    "\"\"\"\n",
    "source_features, source_labels, target_features, target_labels = sim_wrapper(100)\n",
    "source_embs, target_embs = features2embs(source_features, target_features)\n",
    "ot_sinkhorn = ot.da.SinkhornTransport(reg_e=1e-1, log=True, max_iter=100000)\n",
    "ot_sinkhorn.fit(Xs=target_embs, Xt=source_embs)\n",
    "trans_target_embs = ot_sinkhorn.transform(Xs=target_embs)\n"
   ]
  },
  {
   "cell_type": "code",
   "execution_count": 18,
   "metadata": {},
   "outputs": [
    {
     "data": {
      "image/png": "[encoded data removed]",
      "text/plain": [
       "<Figure size 1080x360 with 3 Axes>"
      ]
     },
     "metadata": {
      "needs_background": "light"
     },
     "output_type": "display_data"
    }
   ],
   "source": [
    "\"\"\" \n",
    "Generate the figure for the manuscript\n",
    "\"\"\"\n",
    "\n",
    "plt.figure(1, figsize=(15, 5))\n",
    "\n",
    "text_size=18\n",
    "title_size=23\n",
    "\n",
    "plt.subplot(1, 3, 1)\n",
    "target_label_0 = []\n",
    "target_label_1 = []\n",
    "for i in range(len(target_labels)):\n",
    "    if target_labels[i] == 1:\n",
    "        target_label_0.append(i)\n",
    "    else:\n",
    "        target_label_1.append(i)\n",
    "\n",
    "plt.scatter(target_embs[target_label_0, 0], target_embs[target_label_0, 1], c = \"orange\", label=\"target label 0\")\n",
    "plt.scatter(target_embs[target_label_1, 0], target_embs[target_label_1, 1], c = \"green\", label=\"target label 1\")\n",
    "plt.scatter(source_embs[:, 0], source_embs[:, 1], label=\"source\", c=\"cornflowerblue\")\n",
    "plt.xlim(-4, 5)\n",
    "plt.ylim(-4, 4.5)\n",
    "plt.tick_params(labelsize=text_size)\n",
    "ot.plot.plot2D_samples_mat(target_embs, source_embs, ot_sinkhorn.coupling_, c=\"black\", alpha=0.5)\n",
    "plt.legend(fontsize=text_size*0.75)\n",
    "plt.title(r\"$\\bf{(a)}$ Transport plan\", x=0.3, fontsize=title_size)\n",
    "\n",
    "plt.subplot(1, 3, 2)\n",
    "plt.scatter(trans_target_embs[target_label_0, 0], trans_target_embs[target_label_0, 1],c=\"orange\", alpha = 0.5, marker='o', label=\"label 0\")\n",
    "plt.scatter(trans_target_embs[target_label_1, 0], trans_target_embs[target_label_1, 1],c=\"green\", alpha = 0.5, marker='o', label=\"label 1\")\n",
    "plt.tick_params(labelsize=text_size)\n",
    "plt.legend(fontsize=text_size, loc=\"lower right\")\n",
    "plt.xlim(-4, 5)\n",
    "plt.ylim(-4, 4.5)\n",
    "\n",
    "# pl.legend(loc=0)\n",
    "plt.title(r'$\\bf{(b)}$ Trans target embedding', x=0.45, fontsize=title_size)\n",
    "\n",
    "ax3 = plt.subplot(1, 3, 3)\n",
    "\n",
    "score_path = os.path.join(output_dir, \"sim11_svm_scores.csv\")\n",
    "\n",
    "scores_df = pd.read_csv(score_path, index_col=None, header=0)\n",
    "\n",
    "source_precision = scores_df['source_precision']\n",
    "source_recall = scores_df['source_recall']\n",
    "source_f1 = scores_df['source_f1']\n",
    "\n",
    "target_precision = scores_df['target_precision']\n",
    "target_recall = scores_df['target_recall']\n",
    "target_f1 = scores_df['target_f1']\n",
    "\n",
    "trans_target_precision = scores_df['trans_target_precision']\n",
    "trans_target_recall = scores_df['trans_target_recall']\n",
    "trans_target_f1 = scores_df['trans_target_f1']\n",
    "\n",
    "# transported source to target recall\n",
    "trans_target_target_precision = [i / j for i, j in zip(trans_target_precision, target_precision)]\n",
    "\n",
    "# transported source to source recall\n",
    "trans_target_target_recall = [i / j for i, j in zip(trans_target_recall, target_recall)]\n",
    "\n",
    "# transported source to source f1\n",
    "trans_target_target_f1 = [i / j for i, j in zip(trans_target_f1, target_f1)]\n",
    "\n",
    "# Pandas dataframe\n",
    "data = pd.DataFrame({\n",
    "    'Precision': trans_target_target_precision,\n",
    "    'Recall': trans_target_target_recall,\n",
    "    r'$F_1$': trans_target_target_f1\n",
    "})\n",
    "\n",
    "# Plot the dataframe\n",
    "ax = data[['Precision', 'Recall', r'$F_1$']].plot(kind='box', ax=ax3)\n",
    "ax.tick_params(labelsize=text_size)\n",
    "\n",
    "# Plot the baseline\n",
    "ax.axhline(y = 1, color = 'r', linestyle = '-')\n",
    "ax.set_ylim(0, 2)\n",
    "ax.set_title(r\"$\\bf{(c)}$\", x=-0.1, fontsize=title_size)\n",
    "\n",
    "plt.tight_layout()\n",
    "save_path = os.path.join(output_dir, \"sim11_res.pdf\")\n",
    "plt.savefig(save_path, bbox_inches = 'tight')\n",
    "\n",
    "plt.show()"
   ]
  },
  {
   "cell_type": "code",
   "execution_count": null,
   "metadata": {},
   "outputs": [],
   "source": []
  }
 ],
 "metadata": {
  "kernelspec": {
   "display_name": "Python 3",
   "language": "python",
   "name": "python3"
  },
  "language_info": {
   "codemirror_mode": {
    "name": "ipython",
    "version": 3
   },
   "file_extension": ".py",
   "mimetype": "text/x-python",
   "name": "python",
   "nbconvert_exporter": "python",
   "pygments_lexer": "ipython3",
   "version": "3.8.10"
  },
  "orig_nbformat": 4,
  "vscode": {
   "interpreter": {
    "hash": "916dbcbb3f70747c44a77c7bcd40155683ae19c65e1c03b4aa3499c5328201f1"
   }
  }
 },
 "nbformat": 4,
 "nbformat_minor": 2
}
