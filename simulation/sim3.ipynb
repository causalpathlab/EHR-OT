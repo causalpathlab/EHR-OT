{
 "cells": [
  {
   "attachments": {},
   "cell_type": "markdown",
   "metadata": {},
   "source": [
    "Simulation goals\n",
    "\n",
    "* Study the transportation plan between different embedding spaces\n",
    "\n",
    "* Specifically, we will simulate well-studied embeddings first, then simulate the features, and simulate labels\n",
    "\n",
    "Simulation\n",
    "\n",
    "* $l$: embedding dimension, 2 or 3 for visualization purpose\n",
    "\n",
    "* $r \\in \\{1, 2\\}$: index for domains\n",
    "\n",
    "* Sample embedding space $E_r \\sim \\operatorname{Gaussian } r$\n",
    "\n",
    "* Sample VAE parameters $W_p$ and $b_p$\n",
    "\n",
    "* Generate features $X_r$ for $E_r$ \n",
    "\n",
    "* Generate labels $Y_r$ for $X_r$ "
   ]
  },
  {
   "cell_type": "markdown",
   "metadata": {},
   "source": []
  }
 ],
 "metadata": {
  "kernelspec": {
   "display_name": "Python 3",
   "language": "python",
   "name": "python3"
  },
  "language_info": {
   "name": "python",
   "version": "3.9.5 (default, Nov 23 2021, 15:27:38) \n[GCC 9.3.0]"
  },
  "orig_nbformat": 4,
  "vscode": {
   "interpreter": {
    "hash": "f9f85f796d01129d0dd105a088854619f454435301f6ffec2fea96ecbd9be4ac"
   }
  }
 },
 "nbformat": 4,
 "nbformat_minor": 2
}
