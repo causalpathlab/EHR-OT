{
 "cells": [
  {
   "cell_type": "code",
   "execution_count": null,
   "metadata": {},
   "outputs": [],
   "source": [
    "import numpy as np\n",
    "\n",
    "\"\"\" \n",
    "Note: simulation has to have realistic meanings\n",
    "\"\"\""
   ]
  },
  {
   "cell_type": "code",
   "execution_count": null,
   "metadata": {},
   "outputs": [],
   "source": [
    "\"\"\" \n",
    "Simulation 2 scheme (Write down this mathematically):\n",
    "\n",
    "Involving ordering information, interation between codes in a sequence\n",
    "\n",
    "Simulate features:\n",
    "    - 1 layer: Sample parameters for categorical distribution\n",
    "    - 2(a) layer: Sample integers from the categorical distribution from the previous step\n",
    "    - 2(b) layer: Sample integers from categorical distribution with equal probability\n",
    "    - 3 layer: sample rate from Gaussian distirbution, and combine 2(a) and 2(b)\n",
    "\n",
    "Simulate outcomes (continuous):\n",
    "    - 1 layer: Sample n from categorical (n_features/4, n_features/3) (with equal probability)\n",
    "    - 2(a) layer: If the n integer with the highest underlying frequency exists, then 1\n",
    "    - 2(b) layer: Sample integers from categorical distribution of [0, 1] with equal probability\n",
    "    - 3 layer: sample rate from Gaussian distribution, and combine 2(a) and (b)\n",
    "\n",
    "Source domain:\n",
    "    - Shape [10000, 20]\n",
    "    - The first 10 features are unique to source\n",
    "\n",
    "Target domain:\n",
    "    - Shape [10000, 15]\n",
    "    - The first 8 features are unique to target\n",
    "\n",
    "\n",
    "\"\"\""
   ]
  }
 ],
 "metadata": {
  "kernelspec": {
   "display_name": "Python 3",
   "language": "python",
   "name": "python3"
  },
  "language_info": {
   "name": "python",
   "version": "3.9.5 (default, Nov 23 2021, 15:27:38) \n[GCC 9.3.0]"
  },
  "orig_nbformat": 4,
  "vscode": {
   "interpreter": {
    "hash": "f9f85f796d01129d0dd105a088854619f454435301f6ffec2fea96ecbd9be4ac"
   }
  }
 },
 "nbformat": 4,
 "nbformat_minor": 2
}
