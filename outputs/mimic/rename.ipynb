{
 "cells": [
  {
   "cell_type": "code",
   "execution_count": 8,
   "metadata": {},
   "outputs": [
    {
     "name": "stdout",
     "output_type": "stream",
     "text": [
      "['exp4_marital_status_DIVORCED2WIDOWED_', '.csv']\n",
      "['exp4_ethnicity_HISPANIC_OR_LATINO2WHITE_', '.csv']\n",
      "['exp4_insurance_Private2Government_', '.csv']\n",
      "['exp4_insurance_Government2Private_', '.csv']\n",
      "['exp4_marital_status_MARRIED2SEPARATED_', '.csv']\n",
      "['exp4_marital_status_SEPARATED2SINGLE_', '.csv']\n",
      "['exp4_insurance_Medicaid2Medicare_', '.csv']\n",
      "['exp4_marital_status_SINGLE2SEPARATED_', '.csv']\n",
      "['exp4_insurance_Self_Pay2Medicare_', '.csv']\n",
      "['exp4_gender_F2M_', '.csv']\n",
      "['exp4_marital_status_SINGLE2WIDOWED_', '.csv']\n",
      "['exp4_gender_', '.csv']\n",
      "['exp4_ethnicity_WHITE2HISPANIC_OR_LATINO_', '.csv']\n",
      "['exp4_marital_status_WIDOWED2MARRIED_', '.csv']\n",
      "['exp4_insurance_Private2Medicaid_', '.csv']\n",
      "['exp4_insurance_Medicare2Government_', '.csv']\n",
      "['exp4_insurance_Self_Pay2Private_', '.csv']\n",
      "['exp4_insurance_Private2Medicare_', '.csv']\n",
      "['exp4_marital_status_WIDOWED2SINGLE_', '.csv']\n",
      "['exp4_insurance_Private2Self_Pay_', '.csv']\n",
      "['exp4_ethnicity_HISPANIC_OR_LATINO2ASIAN_', '.csv']\n",
      "['exp4_insurance_Medicaid2Government_', '.csv']\n",
      "['exp4_insurance_Medicare2Medicaid_', '.csv']\n",
      "['exp4_marital_status_DIVORCED2SINGLE_', '.csv']\n",
      "['exp4_marital_status_WIDOWED2SEPARATED_', '.csv']\n",
      "['exp4_marital_status_SEPARATED2MARRIED_', '.csv']\n",
      "['exp4_ethnicity_ASIAN2HISPANIC_OR_LATINO_', '.csv']\n",
      "['exp4_ethnicity_WHITE2ASIAN_', '.csv']\n",
      "['exp4_marital_status_DIVORCED2SEPARATED_', '.csv']\n",
      "['exp4_insurance_Medicare2Self_Pay_', '.csv']\n",
      "['exp4_insurance_Medicaid2Self_Pay_', '.csv']\n",
      "['exp4_marital_status_SINGLE2MARRIED_', '.csv']\n",
      "['exp4_gender_M2F_', '.csv']\n",
      "['exp4_insurance_Government2Medicare_', '.csv']\n",
      "['exp4_insurance_Government2Medicaid_', '.csv']\n",
      "['exp4_insurance_Medicare2Private_', '.csv']\n",
      "['exp4_marital_status_MARRIED2WIDOWED_', '.csv']\n",
      "['exp4_insurance_Self_Pay2Medicaid_', '.csv']\n",
      "['exp4_insurance_Government2Self_Pay_', '.csv']\n",
      "['exp4_ethnicity_ASIAN2WHITE_', '.csv']\n",
      "['exp4_insurance_Medicaid2Private_', '.csv']\n",
      "['exp4_marital_status_', '.csv']\n",
      "['exp4_marital_status_SEPARATED2WIDOWED_', '.csv']\n",
      "['exp4_ethnicity_', '.csv']\n",
      "['exp4_marital_status_SEPARATED2DIVORCED_', '.csv']\n",
      "['exp4_marital_status_SINGLE2DIVORCED_', '.csv']\n",
      "['exp4_marital_status_DIVORCED2MARRIED_', '.csv']\n",
      "['exp4_marital_status_MARRIED2SINGLE_', '.csv']\n",
      "['exp4_insurance_Self_Pay2Government_', '.csv']\n",
      "['exp4_marital_status_MARRIED2DIVORCED_', '.csv']\n",
      "['exp4_marital_status_WIDOWED2DIVORCED_', '.csv']\n"
     ]
    }
   ],
   "source": [
    "import os\n",
    "\n",
    "output_dir = \"/home/wanxinli/EHR-OT/outputs/mimic\"\n",
    "for file in os.listdir(output_dir):\n",
    "    if 'OT' in file and file.startswith('exp4_') and file.endswith('OT.csv'):\n",
    "        print(file.split('OT'))\n",
    "        # print(os.path.join(output_dir, file.split('OT')[0]+'OT.csv'), os.path.join(output_dir, file.split('OT')[0]+'GWOT.csv'))\n",
    "        os.rename(os.path.join(output_dir, file.split('OT')[0]+'OT.csv'), os.path.join(output_dir, file.split('OT')[0]+'GWOT.csv'))"
   ]
  },
  {
   "cell_type": "code",
   "execution_count": null,
   "metadata": {},
   "outputs": [],
   "source": []
  }
 ],
 "metadata": {
  "kernelspec": {
   "display_name": "base",
   "language": "python",
   "name": "python3"
  },
  "language_info": {
   "codemirror_mode": {
    "name": "ipython",
    "version": 3
   },
   "file_extension": ".py",
   "mimetype": "text/x-python",
   "name": "python",
   "nbconvert_exporter": "python",
   "pygments_lexer": "ipython3",
   "version": "3.9.12"
  },
  "orig_nbformat": 4
 },
 "nbformat": 4,
 "nbformat_minor": 2
}
