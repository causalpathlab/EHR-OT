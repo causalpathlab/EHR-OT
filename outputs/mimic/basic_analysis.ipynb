{
 "cells": [
  {
   "cell_type": "code",
   "execution_count": 10,
   "metadata": {},
   "outputs": [],
   "source": [
    "import matplotlib.pyplot as plt\n",
    "import os\n",
    "import pandas as pd"
   ]
  },
  {
   "cell_type": "code",
   "execution_count": 26,
   "metadata": {},
   "outputs": [],
   "source": [
    "def compute_diff_counts(df, metric_name):\n",
    "    \"\"\" \n",
    "    Computes the metric_name score difference between transported target \\\n",
    "        score and target score for df if the target score does not exceed the source score\n",
    "    \"\"\"\n",
    "    \n",
    "    source_scores = df[\"source_\"+metric_name]\n",
    "    target_scores = df[\"target_\"+metric_name]\n",
    "    trans_target_scores = df[\"trans_target_\"+metric_name]\n",
    "    diff_scores = []\n",
    "    for source_score, target_score, trans_target_score in zip(source_scores, target_scores, trans_target_scores):\n",
    "        if source_score > target_score:\n",
    "            diff_scores.append(trans_target_score-target_score)\n",
    "    return diff_scores\n"
   ]
  },
  {
   "cell_type": "code",
   "execution_count": 27,
   "metadata": {},
   "outputs": [],
   "source": [
    "score_dir = \"/home/wanxinli/EHR-OT/outputs/mimic/\"\n",
    "\n",
    "f1_diff_counts = []\n",
    "recall_diff_counts = []\n",
    "precision_diff_counts = []\n",
    "\n",
    "degrade_code = []\n",
    "code_count = 0\n",
    "\n",
    "for file in os.listdir(score_dir):\n",
    "    if file.endswith(\"_score.csv\") and 'exp3_' in file:\n",
    "        code_count += 1\n",
    "        score_df = pd.read_csv(os.path.join(score_dir, file), index_col=None, header=0)\n",
    "\n",
    "        f1_diffs = compute_diff_counts(score_df, 'f1')\n",
    "        f1_improve_count = [x>0 for x in f1_diffs].count(True)\n",
    "\n",
    "        if f1_improve_count <= len(f1_diffs)/2:\n",
    "            degrade_code.append(file.split(\"_\")[1])\n",
    "\n",
    "        # recall_diffs = [y-x for x, y in zip(score_df['target_recall'], score_df['trans_target_recall'])]\n",
    "        # recall_counts = [x > 0 for x in recall_diffs].count(True)\n",
    "        # recall_diff_counts.append(recall_counts)\n",
    "        \n",
    "        # precision_diffs = [y-x for x, y in zip(score_df['target_precision'], score_df['trans_target_precision'])]\n",
    "        # precision_counts = [x > 0 for x in precision_diffs].count(True)\n",
    "        # precision_diff_counts.append(precision_counts)"
   ]
  },
  {
   "cell_type": "code",
   "execution_count": 28,
   "metadata": {},
   "outputs": [
    {
     "data": {
      "text/plain": [
       "0.7078189300411523"
      ]
     },
     "execution_count": 28,
     "metadata": {},
     "output_type": "execute_result"
    }
   ],
   "source": [
    "1-len(degrade_code)/code_count"
   ]
  },
  {
   "cell_type": "code",
   "execution_count": 15,
   "metadata": {},
   "outputs": [
    {
     "name": "stdout",
     "output_type": "stream",
     "text": [
      "total count is: 0\n"
     ]
    },
    {
     "ename": "ZeroDivisionError",
     "evalue": "division by zero",
     "output_type": "error",
     "traceback": [
      "\u001b[0;31m---------------------------------------------------------------------------\u001b[0m",
      "\u001b[0;31mZeroDivisionError\u001b[0m                         Traceback (most recent call last)",
      "Cell \u001b[0;32mIn[15], line 6\u001b[0m\n\u001b[1;32m      2\u001b[0m total_count \u001b[39m=\u001b[39m \u001b[39mlen\u001b[39m(f1_diff_counts)\n\u001b[1;32m      4\u001b[0m \u001b[39mprint\u001b[39m(\u001b[39mf\u001b[39m\u001b[39m\"\u001b[39m\u001b[39mtotal count is: \u001b[39m\u001b[39m{\u001b[39;00mtotal_count\u001b[39m}\u001b[39;00m\u001b[39m\"\u001b[39m)\n\u001b[0;32m----> 6\u001b[0m \u001b[39mprint\u001b[39m(\u001b[39mf\u001b[39m\u001b[39m\"\u001b[39m\u001b[39mf1 percent: \u001b[39m\u001b[39m{\u001b[39;00mgreater_count\u001b[39m/\u001b[39;49mtotal_count\u001b[39m}\u001b[39;00m\u001b[39m\"\u001b[39m)\n\u001b[1;32m      8\u001b[0m greater_count \u001b[39m=\u001b[39m [x \u001b[39m>\u001b[39m \u001b[39m50\u001b[39m \u001b[39mfor\u001b[39;00m x \u001b[39min\u001b[39;00m recall_diff_counts]\u001b[39m.\u001b[39mcount(\u001b[39mTrue\u001b[39;00m)\n\u001b[1;32m     10\u001b[0m \u001b[39mprint\u001b[39m(\u001b[39mf\u001b[39m\u001b[39m\"\u001b[39m\u001b[39mrecall percent: \u001b[39m\u001b[39m{\u001b[39;00mgreater_count\u001b[39m/\u001b[39mtotal_count\u001b[39m}\u001b[39;00m\u001b[39m\"\u001b[39m)\n",
      "\u001b[0;31mZeroDivisionError\u001b[0m: division by zero"
     ]
    }
   ],
   "source": [
    "\n",
    "greater_count = [x > 50 for x in f1_diff_counts].count(True)\n",
    "total_count = len(f1_diff_counts)\n",
    "\n",
    "print(f\"total count is: {total_count}\")\n",
    "\n",
    "print(f\"f1 percent: {greater_count/total_count}\")\n",
    "\n",
    "greater_count = [x > 50 for x in recall_diff_counts].count(True)\n",
    "\n",
    "print(f\"recall percent: {greater_count/total_count}\")\n",
    " \n",
    "greater_count = [x > 50 for x in precision_diff_counts].count(True)\n",
    "print(f\"precision percent: {greater_count/total_count}\")"
   ]
  },
  {
   "cell_type": "code",
   "execution_count": 279,
   "metadata": {},
   "outputs": [
    {
     "data": {
      "text/plain": [
       "['E879.0',\n",
       " 'E933.1',\n",
       " 'E934.2',\n",
       " 'V29.0',\n",
       " 'V30.00',\n",
       " 'V30.01',\n",
       " 'V43.3',\n",
       " 'V44.1',\n",
       " 'V45.11',\n",
       " 'V58.61']"
      ]
     },
     "execution_count": 279,
     "metadata": {},
     "output_type": "execute_result"
    }
   ],
   "source": [
    "sorted(degrade_code)[-10:]"
   ]
  },
  {
   "cell_type": "code",
   "execution_count": null,
   "metadata": {},
   "outputs": [],
   "source": []
  }
 ],
 "metadata": {
  "kernelspec": {
   "display_name": "base",
   "language": "python",
   "name": "python3"
  },
  "language_info": {
   "codemirror_mode": {
    "name": "ipython",
    "version": 3
   },
   "file_extension": ".py",
   "mimetype": "text/x-python",
   "name": "python",
   "nbconvert_exporter": "python",
   "pygments_lexer": "ipython3",
   "version": "3.9.12"
  },
  "orig_nbformat": 4
 },
 "nbformat": 4,
 "nbformat_minor": 2
}
