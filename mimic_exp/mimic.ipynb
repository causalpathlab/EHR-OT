{
 "cells": [
  {
   "cell_type": "code",
   "execution_count": 1,
   "metadata": {},
   "outputs": [
    {
     "name": "stdout",
     "output_type": "stream",
     "text": [
      "3.8.10 (default, Jun 22 2022, 20:18:18) \n",
      "[GCC 9.4.0]\n",
      "1.22.3\n"
     ]
    },
    {
     "name": "stderr",
     "output_type": "stream",
     "text": [
      "WARNING (theano.tensor.blas): Using NumPy C-API based implementation for BLAS functions.\n"
     ]
    }
   ],
   "source": [
    "\"\"\" \n",
    "Run deep patient on MIMIC dataset\n",
    "\"\"\"\n",
    "# Python version 3.8.10 and numpy version 1.22.3 works\n",
    "import sys \n",
    "print(sys.version)\n",
    "import json\n",
    "import numpy as np\n",
    "print(np.__version__)\n",
    "\n",
    "import matplotlib.pyplot as plt\n",
    "import pandas as pd\n",
    "\n",
    "sys.path.insert(0, '/home/wanxinli/deep_patient/synthetic_exp')\n",
    "from common import *\n",
    "\n",
    "import sys  \n",
    "sys.path.insert(0, '/home/wanxinli/deep_patient')\n",
    "from deep_patient.sda import SDA\n",
    "\n",
    "base_dir = \"/home/wanxinli/deep_patient\"\n",
    "data_dir = \"outputs/mimic\"\n"
   ]
  },
  {
   "cell_type": "code",
   "execution_count": 2,
   "metadata": {},
   "outputs": [],
   "source": [
    "def plot_code_distn(codes, title):\n",
    "    \"\"\" \n",
    "    Plot ICD code length distribution per patient (e.g., how many codes does a patient have)\n",
    "\n",
    "    :param codes: input codes, each row in codes corresponds to codes for a patient\n",
    "    \"\"\"\n",
    "    plt.figure()\n",
    "    lens = []\n",
    "    for code in codes:\n",
    "        lens.append(len(code))\n",
    "    bin_width = 5\n",
    "    plt.hist(lens, bins=range(min(lens), max(lens) + bin_width, bin_width))\n",
    "    plt.title(title)\n",
    "    plt.show()\n"
   ]
  },
  {
   "cell_type": "code",
   "execution_count": 3,
   "metadata": {},
   "outputs": [
    {
     "data": {
      "image/png": "[encoded data removed]",
      "text/plain": [
       "<Figure size 432x288 with 1 Axes>"
      ]
     },
     "metadata": {
      "needs_background": "light"
     },
     "output_type": "display_data"
    },
    {
     "data": {
      "image/png": "[encoded data removed]",
      "text/plain": [
       "<Figure size 432x288 with 1 Axes>"
      ]
     },
     "metadata": {
      "needs_background": "light"
     },
     "output_type": "display_data"
    }
   ],
   "source": [
    "patient_agg_df = pd.read_csv(\"./mimiciii/PATIENTS_AGG.csv\", index_col=0, header=0, converters={\"ICD codes\": json.loads})\n",
    "male_df = patient_agg_df.loc[patient_agg_df['gender'] == 'M']\n",
    "female_df = patient_agg_df.loc[patient_agg_df['gender'] == 'F']\n",
    "male_seqs = male_df['ICD codes']\n",
    "female_seqs = female_df['ICD codes']\n",
    "plot_code_distn(male_seqs, title=\"distribution of codes lengths per patient for males\")\n",
    "plot_code_distn(female_seqs, title=\"distribution of codes lengths per patient for females\")"
   ]
  },
  {
   "cell_type": "markdown",
   "metadata": {},
   "source": [
    "Use 100 as the feature dimension for males and females (decided from the previous plots)"
   ]
  },
  {
   "cell_type": "code",
   "execution_count": 4,
   "metadata": {},
   "outputs": [],
   "source": [
    "def get_mimic_data(n_feaures = 100):\n",
    "\n",
    "    \"\"\" \n",
    "    Get male sequences, male labels, female sequences and female labels for MIMIC dataset\n",
    "\n",
    "    :param n_features: number of codes (features) per patient, 100 is the default number\n",
    "    \"\"\"\n",
    "\n",
    "    patient_agg_df = pd.read_csv(\"./mimiciii/PATIENTS_AGG.csv\", \\\n",
    "        index_col=0, header=0, converters={\"ICD codes\": json.loads})\n",
    "    male_df = patient_agg_df.loc[patient_agg_df['gender'] == 'M']\n",
    "    female_df = patient_agg_df.loc[patient_agg_df['gender'] == 'F']\n",
    "\n",
    "    # get male labels and female labels\n",
    "    male_labels = np.array(male_df['expire'])\n",
    "    female_labels = np.array(female_df['expire'])\n",
    "\n",
    "    # get male sequences and female sequences\n",
    "    male_seqs = male_df['ICD codes']\n",
    "    female_seqs = female_df['ICD codes']\n",
    "\n",
    "    def pad_seqs(seqs):\n",
    "        \"\"\" \n",
    "        Pad number of codes per patient to n_features (i.e., pass from the wrapper function)\n",
    "\n",
    "        :returns: padded sequences, each row has n_features codes\n",
    "        \"\"\"\n",
    "        for i in range(len(seqs)): # for the ith patient\n",
    "            seq = seqs[i]\n",
    "        \n",
    "            # if there are more than 100 codes for the patient, take the first 100 codes\n",
    "            if len(seq) > n_feaures: \n",
    "                seqs[i] = seq[:n_feaures]\n",
    "            # if there are less than 100 codes for the patient, pad with 0 up to the 100th code\n",
    "            else:\n",
    "                seqs[i] += [0] * (n_feaures - len(seq))\n",
    "        return seqs\n",
    "    \n",
    "    male_seqs = np.array(pad_seqs(list(male_seqs)))\n",
    "    female_seqs = np.array(pad_seqs(list(female_seqs)))\n",
    "        \n",
    "    return male_seqs, male_labels, female_seqs, female_labels\n"
   ]
  },
  {
   "cell_type": "code",
   "execution_count": 5,
   "metadata": {},
   "outputs": [],
   "source": [
    "# male_seqs, male_labels, female_seqs, female_labels = get_mimic_data()\n",
    "# print(\"print shapes\")\n",
    "# print(\"male_seqs shape is:\", male_seqs.shape)\n",
    "# print(\"male_labels shape is:\", male_labels.shape)\n",
    "# print(\"female_seqs shape is:\", female_seqs.shape)\n",
    "# print(\"female_labels shape is:\", female_labels.shape)"
   ]
  },
  {
   "cell_type": "code",
   "execution_count": 6,
   "metadata": {},
   "outputs": [],
   "source": [
    "\"\"\"\n",
    "Train deep patient model and generate representations for males and females\n",
    "\"\"\"\n",
    "\n",
    "def custom_train_reps(male_seqs, female_seqs):\n",
    "    \"\"\" \n",
    "    Customized training algorithm for generating male representations and female representations\n",
    "    \n",
    "    :returns: male representations, female representations\n",
    "    \"\"\"\n",
    "\n",
    "    # customized parameters\n",
    "    nhidden = 20\n",
    "    nlayer = 3\n",
    "    params = {\n",
    "        'epochs': 50,\n",
    "        'batch_size': 32,\n",
    "        'corrupt_lvl': 0.05}\n",
    "\n",
    "    # for males\n",
    "    # initiate the model\n",
    "    male_sda = SDA(male_seqs.shape[1],\n",
    "                nhidden=nhidden,\n",
    "                nlayer=nlayer,\n",
    "                param=params)\n",
    "\n",
    "    # train the model\n",
    "    male_sda.train(male_seqs)\n",
    "\n",
    "    # apply the mode\n",
    "    male_reps = male_sda.apply(male_seqs)\n",
    "\n",
    "    # for females\n",
    "    # initiate the model\n",
    "    female_sda = SDA(female_seqs.shape[1],\n",
    "                nhidden=nhidden,\n",
    "                nlayer=nlayer,\n",
    "                param=params)\n",
    "\n",
    "    # train the model\n",
    "    female_sda.train(female_seqs)\n",
    "\n",
    "    # apply the mode\n",
    "    female_reps = female_sda.apply(female_seqs)\n",
    "    return male_reps, female_reps\n"
   ]
  },
  {
   "cell_type": "code",
   "execution_count": 7,
   "metadata": {},
   "outputs": [],
   "source": [
    "\"\"\" \n",
    "Wrap up everything\n",
    "\"\"\"\n",
    "\n",
    "def entire_proc_mimic(custom_train_reps):\n",
    "    \"\"\" \n",
    "    Executes the entire procedure for MIMIC dataset including\n",
    "        - preprocess to obtain male sequences, male labels, female sequences and female labels\n",
    "        - transport female representations to male representations\n",
    "        - train logistic regression model using male representations and male expires\n",
    "        - calculate accuracy statistics for males, females and transported females\n",
    "\n",
    "    :param function sim_func: simulation function\n",
    "    :param function custom_train_reps: customized deep patient function for training representations\n",
    "    :returns: the accuracy scores\n",
    "    \"\"\"\n",
    "    male_seqs, male_labels, female_seqs, female_labels = get_mimic_data()\n",
    "    male_reps, female_reps = custom_train_reps(male_seqs, female_seqs)\n",
    "    trans_female_reps = trans_female2male(male_reps, female_reps)\n",
    "    male_precision, male_recall, female_precision, female_recall, trans_female_precision, trans_female_recall  = \\\n",
    "        cal_stats(male_reps, male_labels, female_reps, female_labels, trans_female_reps)\n",
    "    return male_precision, male_recall, female_precision, female_recall, trans_female_precision, trans_female_recall\n",
    " "
   ]
  },
  {
   "cell_type": "code",
   "execution_count": 8,
   "metadata": {},
   "outputs": [
    {
     "name": "stdout",
     "output_type": "stream",
     "text": [
      "initializing: 3-layer SDAs\n",
      "\n",
      "initialized: DA [layer: 1]\n",
      "(*) no. of visible units: 100\n",
      "(*) no. of hidden units: 20\n",
      "(*) data corruption level: 0.05\n",
      "(*) learning rate: 0.10\n",
      "(*) batch size: 32\n",
      "(*) no. of epochs: 50\n",
      "\n",
      "initialized: DA [layer: 2]\n",
      "(*) no. of visible units: 20\n",
      "(*) no. of hidden units: 20\n",
      "(*) data corruption level: 0.05\n",
      "(*) learning rate: 0.10\n",
      "(*) batch size: 32\n",
      "(*) no. of epochs: 50\n",
      "\n",
      "initialized: DA [layer: 3]\n",
      "(*) no. of visible units: 20\n",
      "(*) no. of hidden units: 20\n",
      "(*) data corruption level: 0.05\n",
      "(*) learning rate: 0.10\n",
      "(*) batch size: 32\n",
      "(*) no. of epochs: 50\n",
      "\n",
      "training: 3-layer SDAs\n",
      "\n",
      "training: DA [layer: 1]\n",
      "(*) preprocessing: normalize features\n",
      "(*) epoch 1, cost 5.237\n",
      "(*) epoch 2, cost 4.208\n",
      "(*) epoch 3, cost 4.039\n",
      "(*) training time: 0.75 sec.\n",
      "applying: DA [layer: 1]\n",
      "\n",
      "training: DA [layer: 2]\n",
      "(*) preprocessing: normalize features\n",
      "(*) epoch 1, cost 11.960\n",
      "(*) epoch 2, cost 11.701\n",
      "(*) training time: 0.21 sec.\n",
      "applying: DA [layer: 2]\n",
      "\n",
      "training: DA [layer: 3]\n",
      "(*) preprocessing: normalize features\n",
      "(*) epoch 1, cost 5.317\n",
      "(*) epoch 2, cost 5.167\n",
      "(*) training time: 0.21 sec.\n",
      "\n",
      "training time: 3.06 sec.\n",
      "\n",
      "applying: 3-layer SDA\n",
      "(*) applying: DA [layer: 1]\n",
      "(*) applying: DA [layer: 2]\n",
      "(*) applying: DA [layer: 3]\n",
      "initializing: 3-layer SDAs\n",
      "\n",
      "initialized: DA [layer: 1]\n",
      "(*) no. of visible units: 100\n",
      "(*) no. of hidden units: 20\n",
      "(*) data corruption level: 0.05\n",
      "(*) learning rate: 0.10\n",
      "(*) batch size: 32\n",
      "(*) no. of epochs: 50\n",
      "\n",
      "initialized: DA [layer: 2]\n",
      "(*) no. of visible units: 20\n",
      "(*) no. of hidden units: 20\n",
      "(*) data corruption level: 0.05\n",
      "(*) learning rate: 0.10\n",
      "(*) batch size: 32\n",
      "(*) no. of epochs: 50\n",
      "\n",
      "initialized: DA [layer: 3]\n",
      "(*) no. of visible units: 20\n",
      "(*) no. of hidden units: 20\n",
      "(*) data corruption level: 0.05\n",
      "(*) learning rate: 0.10\n",
      "(*) batch size: 32\n",
      "(*) no. of epochs: 50\n",
      "\n",
      "training: 3-layer SDAs\n",
      "\n",
      "training: DA [layer: 1]\n",
      "(*) preprocessing: normalize features\n",
      "(*) epoch 1, cost 5.537\n",
      "(*) epoch 2, cost 4.428\n",
      "(*) epoch 3, cost 4.251\n",
      "(*) training time: 0.59 sec.\n",
      "applying: DA [layer: 1]\n",
      "\n",
      "training: DA [layer: 2]\n",
      "(*) preprocessing: normalize features\n",
      "(*) epoch 1, cost 11.581\n",
      "(*) epoch 2, cost 11.393\n",
      "(*) training time: 0.17 sec.\n",
      "applying: DA [layer: 2]\n",
      "\n",
      "training: DA [layer: 3]\n",
      "(*) preprocessing: normalize features\n",
      "(*) epoch 1, cost 4.330\n",
      "(*) epoch 2, cost 4.163\n",
      "(*) training time: 0.17 sec.\n",
      "\n",
      "training time: 1.54 sec.\n",
      "\n",
      "applying: 3-layer SDA\n",
      "(*) applying: DA [layer: 1]\n",
      "(*) applying: DA [layer: 2]\n",
      "(*) applying: DA [layer: 3]\n"
     ]
    },
    {
     "name": "stderr",
     "output_type": "stream",
     "text": [
      "RESULT MIGHT BE INACURATE\n",
      "Max number of iteration reached, currently 100000. Sometimes iterations go on in cycle even though the solution has been reached, to check if it's the case here have a look at the minimal reduced cost. If it is very close to machine precision, you might actually have the correct solution, if not try setting the maximum number of iterations a bit higher\n",
      "/home/wanxinli/.local/lib/python3.8/site-packages/ot/lp/__init__.py:343: UserWarning: numItermax reached before optimality. Try to increase numItermax.\n",
      "  result_code_string = check_result(result_code)\n",
      "/home/wanxinli/.local/lib/python3.8/site-packages/sklearn/linear_model/_logistic.py:444: ConvergenceWarning: lbfgs failed to converge (status=1):\n",
      "STOP: TOTAL NO. of ITERATIONS REACHED LIMIT.\n",
      "\n",
      "Increase the number of iterations (max_iter) or scale the data as shown in:\n",
      "    https://scikit-learn.org/stable/modules/preprocessing.html\n",
      "Please also refer to the documentation for alternative solver options:\n",
      "    https://scikit-learn.org/stable/modules/linear_model.html#logistic-regression\n",
      "  n_iter_i = _check_optimize_result(\n",
      "/home/wanxinli/.local/lib/python3.8/site-packages/sklearn/metrics/_classification.py:1327: UndefinedMetricWarning: Precision is ill-defined and being set to 0.0 due to no predicted samples. Use `zero_division` parameter to control this behavior.\n",
      "  _warn_prf(average, modifier, msg_start, len(result))\n"
     ]
    }
   ],
   "source": [
    "\"\"\" \n",
    "Run the entire procedure multiple times\n",
    "\"\"\"\n",
    "\n",
    "male_precision, male_recall, female_precision, female_recall, \\\n",
    "        trans_female_precision, trans_female_recall = \\\n",
    "            entire_proc_mimic(custom_train_reps)"
   ]
  },
  {
   "cell_type": "code",
   "execution_count": 10,
   "metadata": {},
   "outputs": [
    {
     "data": {
      "text/plain": [
       "(0.5524809160305344,\n",
       " 0.1358517128108869,\n",
       " 0.0,\n",
       " 0.0,\n",
       " 0.35727869455861605,\n",
       " 0.8049758120248791)"
      ]
     },
     "execution_count": 10,
     "metadata": {},
     "output_type": "execute_result"
    }
   ],
   "source": [
    "male_precision, male_recall, female_precision, female_recall, \\\n",
    "        trans_female_precision, trans_female_recall"
   ]
  },
  {
   "cell_type": "code",
   "execution_count": null,
   "metadata": {},
   "outputs": [],
   "source": []
  }
 ],
 "metadata": {
  "kernelspec": {
   "display_name": "Python 3",
   "language": "python",
   "name": "python3"
  },
  "language_info": {
   "codemirror_mode": {
    "name": "ipython",
    "version": 3
   },
   "file_extension": ".py",
   "mimetype": "text/x-python",
   "name": "python",
   "nbconvert_exporter": "python",
   "pygments_lexer": "ipython3",
   "version": "3.8.10"
  },
  "vscode": {
   "interpreter": {
    "hash": "31f2aee4e71d21fbe5cf8b01ff0e069b9275f58929596ceb00d14d90e3e16cd6"
   }
  }
 },
 "nbformat": 4,
 "nbformat_minor": 2
}
