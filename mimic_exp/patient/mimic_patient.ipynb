{
 "cells": [
  {
   "cell_type": "code",
   "execution_count": 1,
   "metadata": {},
   "outputs": [
    {
     "name": "stdout",
     "output_type": "stream",
     "text": [
      "3.8.10 (default, Jun 22 2022, 20:18:18) \n",
      "[GCC 9.4.0]\n",
      "1.22.3\n"
     ]
    },
    {
     "name": "stderr",
     "output_type": "stream",
     "text": [
      "WARNING (theano.tensor.blas): Using NumPy C-API based implementation for BLAS functions.\n"
     ]
    }
   ],
   "source": [
    "\"\"\" \n",
    "Run deep patient on MIMIC dataset\n",
    "\"\"\"\n",
    "# Python version 3.8.10 and numpy version 1.22.3 works\n",
    "import sys \n",
    "print(sys.version)\n",
    "import json\n",
    "import numpy as np\n",
    "print(np.__version__)\n",
    "\n",
    "import matplotlib.pyplot as plt\n",
    "import pandas as pd\n",
    "\n",
    "sys.path.insert(0, '/home/wanxinli/deep_patient/synthetic_exp')\n",
    "from common import *\n",
    "\n",
    "import sys  \n",
    "sys.path.insert(0, '/home/wanxinli/deep_patient')\n",
    "from deep_patient.sda import SDA\n",
    "\n",
    "base_dir = \"/home/wanxinli/deep_patient\"\n",
    "data_dir = \"outputs/mimic\"\n"
   ]
  },
  {
   "cell_type": "code",
   "execution_count": 2,
   "metadata": {},
   "outputs": [],
   "source": [
    "patient_agg_df = pd.read_csv(\"../mimiciii/PATIENTS_50_AGG.csv\", index_col=0, header=0, converters={\"ICD codes\": json.loads})\n",
    "male_df = patient_agg_df.loc[patient_agg_df['gender'] == 'M']\n",
    "female_df = patient_agg_df.loc[patient_agg_df['gender'] == 'F']\n",
    "male_seqs = male_df['ICD codes']\n",
    "female_seqs = female_df['ICD codes']"
   ]
  },
  {
   "cell_type": "markdown",
   "metadata": {},
   "source": [
    "Use 100 as the feature dimension for males and females (decided from the previous plots)"
   ]
  },
  {
   "cell_type": "code",
   "execution_count": 3,
   "metadata": {},
   "outputs": [],
   "source": [
    "def get_mimic_data(data_path = \"../mimiciii/PATIENTS_AGG.csv\", n_feaures = 100):\n",
    "\n",
    "    \"\"\" \n",
    "    Get male sequences, male labels, female sequences and female labels for MIMIC dataset\n",
    "\n",
    "    :param data_path: the path to the file storing processed patient information with the codes and labels\n",
    "    :param n_features: number of codes (features) per patient, 100 is the default number\n",
    "    \"\"\"\n",
    "\n",
    "    patient_agg_df = pd.read_csv(data_path, \\\n",
    "        index_col=0, header=0, converters={\"ICD codes\": json.loads})\n",
    "    male_df = patient_agg_df.loc[patient_agg_df['gender'] == 'M']\n",
    "    female_df = patient_agg_df.loc[patient_agg_df['gender'] == 'F']\n",
    "\n",
    "    # get male labels and female labels\n",
    "    male_labels = np.array(male_df['expire'])\n",
    "    female_labels = np.array(female_df['expire'])\n",
    "\n",
    "    # get male sequences and female sequences\n",
    "    male_seqs = male_df['ICD codes']\n",
    "    female_seqs = female_df['ICD codes']\n",
    "\n",
    "    def pad_seqs(seqs):\n",
    "        \"\"\" \n",
    "        Pad number of codes per patient to n_features (i.e., pass from the wrapper function)\n",
    "\n",
    "        :returns: padded sequences, each row has n_features codes\n",
    "        \"\"\"\n",
    "        for i in range(len(seqs)): # for the ith patient\n",
    "            seq = seqs[i]\n",
    "        \n",
    "            # if there are more than 100 codes for the patient, take the first 100 codes\n",
    "            if len(seq) > n_feaures: \n",
    "                seqs[i] = seq[:n_feaures]\n",
    "            # if there are less than 100 codes for the patient, pad with 0 up to the 100th code\n",
    "            else:\n",
    "                seqs[i] += [0] * (n_feaures - len(seq))\n",
    "        return seqs\n",
    "    \n",
    "    male_seqs = np.array(pad_seqs(list(male_seqs)))\n",
    "    female_seqs = np.array(pad_seqs(list(female_seqs)))\n",
    "        \n",
    "    return male_seqs, male_labels, female_seqs, female_labels\n"
   ]
  },
  {
   "cell_type": "code",
   "execution_count": 4,
   "metadata": {},
   "outputs": [
    {
     "name": "stdout",
     "output_type": "stream",
     "text": [
      "print the percent of expired patient for males and females\n",
      "0.4743041702289351\n",
      "0.5108340394625348\n"
     ]
    }
   ],
   "source": [
    "\"\"\" \n",
    "Get the proportation of expired patients for males and females\n",
    "\"\"\"\n",
    "\n",
    "male_seqs, male_labels, female_seqs, female_labels = \\\n",
    "    get_mimic_data(data_path=\"../mimiciii/PATIENTS_50_AGG.csv\", n_feaures=20)\n",
    "print(\"print the percent of expired patient for males and females\")\n",
    "print(np.count_nonzero(male_labels == 1)/len(male_labels))\n",
    "print(np.count_nonzero(female_labels == 1)/len(female_labels))\n"
   ]
  },
  {
   "cell_type": "code",
   "execution_count": 5,
   "metadata": {},
   "outputs": [
    {
     "name": "stdout",
     "output_type": "stream",
     "text": [
      "print shapes\n",
      "male_seqs shape is: (10527, 20)\n",
      "male_labels shape is: (10527,)\n",
      "female_seqs shape is: (8261, 20)\n",
      "female_labels shape is: (8261,)\n"
     ]
    }
   ],
   "source": [
    "print(\"print shapes\")\n",
    "print(\"male_seqs shape is:\", male_seqs.shape)\n",
    "print(\"male_labels shape is:\", male_labels.shape)\n",
    "print(\"female_seqs shape is:\", female_seqs.shape)\n",
    "print(\"female_labels shape is:\", female_labels.shape)"
   ]
  },
  {
   "cell_type": "code",
   "execution_count": 6,
   "metadata": {},
   "outputs": [],
   "source": [
    "\"\"\"\n",
    "Train deep patient model and generate representations for males and females\n",
    "\"\"\"\n",
    "\n",
    "def custom_train_reps(male_seqs, female_seqs):\n",
    "    \"\"\" \n",
    "    Customized training algorithm for generating male representations and female representations\n",
    "    \n",
    "    :returns: male representations, female representations\n",
    "    \"\"\"\n",
    "\n",
    "    # customized parameters\n",
    "    nhidden = 5\n",
    "    nlayer = 2\n",
    "    params = {\n",
    "        'epochs': 50,\n",
    "        'batch_size': 16,\n",
    "        'corrupt_lvl': 0.05}\n",
    "\n",
    "    # for males\n",
    "    # initiate the model\n",
    "    male_sda = SDA(male_seqs.shape[1],\n",
    "                nhidden=nhidden,\n",
    "                nlayer=nlayer,\n",
    "                param=params)\n",
    "\n",
    "    # train the model\n",
    "    male_sda.train(male_seqs)\n",
    "\n",
    "    # apply the mode\n",
    "    male_reps = male_sda.apply(male_seqs)\n",
    "\n",
    "    # for females\n",
    "    # initiate the model\n",
    "    female_sda = SDA(female_seqs.shape[1],\n",
    "                nhidden=nhidden,\n",
    "                nlayer=nlayer,\n",
    "                param=params)\n",
    "\n",
    "    # train the model\n",
    "    female_sda.train(female_seqs)\n",
    "\n",
    "    # apply the mode\n",
    "    female_reps = female_sda.apply(female_seqs)\n",
    "    return male_reps, female_reps\n"
   ]
  },
  {
   "cell_type": "code",
   "execution_count": 7,
   "metadata": {},
   "outputs": [],
   "source": [
    "\"\"\" \n",
    "Wrap up everything\n",
    "\"\"\"\n",
    "\n",
    "def entire_proc_mimic(custom_train_reps, data_path = \"../mimiciii/PATIENTS_AGG.csv\", n_features = 100):\n",
    "    \"\"\" \n",
    "    Executes the entire procedure for MIMIC dataset including\n",
    "        - preprocess to obtain male sequences, male labels, female sequences and female labels\n",
    "        - transport female representations to male representations\n",
    "        - train logistic regression model using male representations and male expires\n",
    "        - calculate accuracy statistics for males, females and transported females\n",
    "\n",
    "    :param function sim_func: simulation function\n",
    "    :param function custom_train_reps: customized deep patient function for training representations\n",
    "    :returns: the accuracy scores\n",
    "    \"\"\"\n",
    "    male_seqs, male_labels, female_seqs, female_labels = \\\n",
    "        get_mimic_data(data_path=data_path, n_feaures=n_features)\n",
    "    male_reps, female_reps = custom_train_reps(male_seqs, female_seqs)\n",
    "    trans_female_reps = trans_female2male(male_reps, female_reps, max_iter = 10000000)\n",
    "    male_accuracy, male_precision, male_recall, \\\n",
    "        female_accuracy, female_precision, female_recall, \\\n",
    "        trans_female_accuracy, trans_female_precision, trans_female_recall = \\\n",
    "        cal_stats_binary(male_reps, male_labels, female_reps, female_labels, trans_female_reps, max_iter = 10000000)\n",
    "    return male_accuracy, male_precision, male_recall, \\\n",
    "        female_accuracy, female_precision, female_recall, \\\n",
    "        trans_female_accuracy, trans_female_precision, trans_female_recall \n",
    " "
   ]
  },
  {
   "cell_type": "code",
   "execution_count": 8,
   "metadata": {},
   "outputs": [
    {
     "name": "stdout",
     "output_type": "stream",
     "text": [
      "initializing: 2-layer SDAs\n",
      "\n",
      "initialized: DA [layer: 1]\n",
      "(*) no. of visible units: 20\n",
      "(*) no. of hidden units: 5\n",
      "(*) data corruption level: 0.05\n",
      "(*) learning rate: 0.10\n",
      "(*) batch size: 16\n",
      "(*) no. of epochs: 50\n",
      "\n",
      "initialized: DA [layer: 2]\n",
      "(*) no. of visible units: 5\n",
      "(*) no. of hidden units: 5\n",
      "(*) data corruption level: 0.05\n",
      "(*) learning rate: 0.10\n",
      "(*) batch size: 16\n",
      "(*) no. of epochs: 50\n",
      "\n",
      "training: 2-layer SDAs\n",
      "\n",
      "training: DA [layer: 1]\n",
      "(*) preprocessing: normalize features\n",
      "(*) epoch 1, cost 3.867\n",
      "(*) epoch 2, cost 3.419\n",
      "(*) training time: 0.13 sec.\n",
      "applying: DA [layer: 1]\n",
      "\n",
      "training: DA [layer: 2]\n",
      "(*) preprocessing: normalize features\n",
      "(*) epoch 1, cost 3.121\n",
      "(*) epoch 2, cost 2.976\n",
      "(*) training time: 0.11 sec.\n",
      "\n",
      "training time: 1.85 sec.\n",
      "\n",
      "applying: 2-layer SDA\n",
      "(*) applying: DA [layer: 1]\n",
      "(*) applying: DA [layer: 2]\n",
      "initializing: 2-layer SDAs\n",
      "\n",
      "initialized: DA [layer: 1]\n",
      "(*) no. of visible units: 20\n",
      "(*) no. of hidden units: 5\n",
      "(*) data corruption level: 0.05\n",
      "(*) learning rate: 0.10\n",
      "(*) batch size: 16\n",
      "(*) no. of epochs: 50\n",
      "\n",
      "initialized: DA [layer: 2]\n",
      "(*) no. of visible units: 5\n",
      "(*) no. of hidden units: 5\n",
      "(*) data corruption level: 0.05\n",
      "(*) learning rate: 0.10\n",
      "(*) batch size: 16\n",
      "(*) no. of epochs: 50\n",
      "\n",
      "training: 2-layer SDAs\n",
      "\n",
      "training: DA [layer: 1]\n",
      "(*) preprocessing: normalize features\n",
      "(*) epoch 1, cost 4.048\n",
      "(*) epoch 2, cost 3.513\n",
      "(*) training time: 0.10 sec.\n",
      "applying: DA [layer: 1]\n",
      "\n",
      "training: DA [layer: 2]\n",
      "(*) preprocessing: normalize features\n",
      "(*) epoch 1, cost 3.162\n",
      "(*) epoch 2, cost 3.015\n",
      "(*) training time: 0.08 sec.\n",
      "\n",
      "training time: 0.68 sec.\n",
      "\n",
      "applying: 2-layer SDA\n",
      "(*) applying: DA [layer: 1]\n",
      "(*) applying: DA [layer: 2]\n"
     ]
    }
   ],
   "source": [
    "\"\"\" \n",
    "Run the entire procedure multiple times\n",
    "\"\"\"\n",
    "\n",
    "male_accuracy, male_precision, male_recall, \\\n",
    "    female_accuracy, female_precision, female_recall, \\\n",
    "    trans_female_accuracy, trans_female_precision, trans_female_recall = \\\n",
    "    entire_proc_mimic(custom_train_reps, data_path=\"../mimiciii/PATIENTS_50_AGG.csv\", n_features=20)"
   ]
  },
  {
   "cell_type": "code",
   "execution_count": 9,
   "metadata": {},
   "outputs": [
    {
     "data": {
      "text/plain": [
       "(0.5788923719958202,\n",
       " 0.5920447074293228,\n",
       " 0.3607049869817745,\n",
       " 0.5069604164144776,\n",
       " 0.5091794679655302,\n",
       " 0.9661137440758294,\n",
       " 0.4931606343057741,\n",
       " 0.5068836045056321,\n",
       " 0.28791469194312796)"
      ]
     },
     "execution_count": 9,
     "metadata": {},
     "output_type": "execute_result"
    }
   ],
   "source": [
    "\"\"\" \n",
    "No simulation, can only plot the one-time statistics\n",
    "\n",
    "\"\"\"\n",
    "\n",
    "male_accuracy, male_precision, male_recall, \\\n",
    "    female_accuracy, female_precision, female_recall, \\\n",
    "    trans_female_accuracy, trans_female_precision, trans_female_recall\n"
   ]
  },
  {
   "cell_type": "code",
   "execution_count": null,
   "metadata": {},
   "outputs": [],
   "source": []
  }
 ],
 "metadata": {
  "kernelspec": {
   "display_name": "Python 3",
   "language": "python",
   "name": "python3"
  },
  "language_info": {
   "codemirror_mode": {
    "name": "ipython",
    "version": 3
   },
   "file_extension": ".py",
   "mimetype": "text/x-python",
   "name": "python",
   "nbconvert_exporter": "python",
   "pygments_lexer": "ipython3",
   "version": "3.8.10"
  },
  "vscode": {
   "interpreter": {
    "hash": "31f2aee4e71d21fbe5cf8b01ff0e069b9275f58929596ceb00d14d90e3e16cd6"
   }
  }
 },
 "nbformat": 4,
 "nbformat_minor": 2
}
