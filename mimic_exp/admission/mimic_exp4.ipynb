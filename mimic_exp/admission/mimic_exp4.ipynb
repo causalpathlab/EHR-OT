{
 "cells": [
  {
   "cell_type": "code",
   "execution_count": 1,
   "metadata": {},
   "outputs": [
    {
     "data": {
      "text/plain": [
       "' \\nExplore the relatinoship between hospitalization duration and diagnoise codes\\n'"
      ]
     },
     "execution_count": 1,
     "metadata": {},
     "output_type": "execute_result"
    }
   ],
   "source": [
    "\"\"\" \n",
    "Explore the relatinoship between hospitalization duration and diagnoise codes\n",
    "\"\"\""
   ]
  },
  {
   "cell_type": "code",
   "execution_count": 2,
   "metadata": {},
   "outputs": [],
   "source": [
    "import sys\n",
    "sys.path.append(\"/home/wanxinli/deep_patient/\")\n",
    "\n",
    "from ast import literal_eval\n",
    "from common import *\n",
    "from mimic_common import *\n",
    "from multiprocess import Pool\n",
    "import os\n",
    "import random\n",
    "from sklearn.linear_model import LogisticRegression\n",
    "from sklearn.svm import SVC\n",
    "from sklearn.svm import SVR\n",
    "from sklearn.decomposition import PCA\n",
    "from sklearn.metrics import precision_score, recall_score, accuracy_score, f1_score\n",
    "import time\n"
   ]
  },
  {
   "cell_type": "code",
   "execution_count": 3,
   "metadata": {},
   "outputs": [
    {
     "name": "stdout",
     "output_type": "stream",
     "text": [
      "Will save outputs to /home/wanxinli/deep_patient/outputs/mimic\n"
     ]
    }
   ],
   "source": [
    "output_dir = os.path.join(os.path.expanduser(\"~\"), f\"deep_patient/outputs/mimic\")\n",
    "print(f\"Will save outputs to {output_dir}\")"
   ]
  },
  {
   "cell_type": "code",
   "execution_count": 4,
   "metadata": {},
   "outputs": [
    {
     "name": "stdout",
     "output_type": "stream",
     "text": [
      "         adm_type gender                                          ICD codes  \\\n",
      "admid                                                                         \n",
      "172335  EMERGENCY      F  [40301, 486, 58281, 5855, 4254, 2762, 7100, 27...   \n",
      "173633  EMERGENCY      F  [40301, 5856, 58381, 7100, 5589, 2875, 28521, ...   \n",
      "174105  EMERGENCY      M                   [53100, 41071, 2859, 41401, 725]   \n",
      "109976  EMERGENCY      M                                [1915, 3314, 53081]   \n",
      "178393   ELECTIVE      M             [41401, 4111, 48283, 2859, 2720, 3051]   \n",
      "...           ...    ...                                                ...   \n",
      "172304   ELECTIVE      F             [20280, 3485, 7843, 4019, 2720, 53081]   \n",
      "152542  EMERGENCY      M  [566, 25062, 3572, V5867, 42731, 4019, 4280, 5...   \n",
      "161999  EMERGENCY      M  [43411, 3485, 3484, 430, 34830, 99731, 51883, ...   \n",
      "189314  EMERGENCY      F  [34680, 7843, 7455, 78194, 36840, 7813, 7820, ...   \n",
      "168949  EMERGENCY      M  [0529, 4162, 20192, 135, 27669, 5178, 42731, V...   \n",
      "\n",
      "         duration                                   diagnosis  label  \n",
      "admid                                                                 \n",
      "172335   530460.0                                    LEG PAIN      0  \n",
      "173633   574560.0                              ABDOMINAL PAIN      0  \n",
      "174105   425460.0                      GASTROINTESTINAL BLEED      0  \n",
      "109976  1284240.0                               HYDROCEPHALUS      0  \n",
      "178393   485280.0                                     USA/SDA      0  \n",
      "...           ...                                         ...    ...  \n",
      "172304   449700.0                        LEFT BRAIN TUMOR/SDA      0  \n",
      "152542   415740.0                          PERIRECTAL ABSCESS      0  \n",
      "161999   692940.0                            STROKE;TELEMETRY      0  \n",
      "189314   150060.0  STROKE;TELEMETRY;TRANSIENT ISCHEMIC ATTACK      0  \n",
      "168949   688980.0                              ABDOMINAL PAIN      0  \n",
      "\n",
      "[58976 rows x 6 columns]\n",
      "female: 26026\n",
      "male: 32950\n"
     ]
    }
   ],
   "source": [
    "\"\"\" \n",
    "Read in the original dataframe\n",
    "\"\"\"\n",
    "admid_diagnosis_df = pd.read_csv(\"../../outputs/mimic/ADMID_DIAGNOSIS.csv\", index_col=0, header=0, converters={'ICD codes': literal_eval})\n",
    "print(admid_diagnosis_df)\n",
    "\n",
    "\"\"\" \n",
    "Print number of patients for each category\n",
    "\"\"\"\n",
    "print(\"female:\", admid_diagnosis_df.loc[(admid_diagnosis_df['gender'] == 'F')].shape[0])\n",
    "print(\"male:\", admid_diagnosis_df.loc[(admid_diagnosis_df['gender'] == 'M')].shape[0])\n"
   ]
  },
  {
   "cell_type": "code",
   "execution_count": 5,
   "metadata": {},
   "outputs": [],
   "source": [
    "\"\"\"\n",
    "Train deep patient model and generate representations for targets and sources\n",
    "\"\"\"\n",
    "\n",
    "def custom_train_reps(target_features, source_features, n_components, pca_explain=False):\n",
    "    \"\"\" \n",
    "    Customized training algorithm for generating target representations and source representations\n",
    "\n",
    "    :param bool pca_explain: print the explained variance of each components\n",
    "    \n",
    "    :returns: target representations, source representations\n",
    "    \"\"\"\n",
    "    source_pca = PCA(n_components=n_components)\n",
    "    target_pca = PCA(n_components=n_components)\n",
    "    target_reps = target_pca.fit_transform(target_features)\n",
    "    source_reps = source_pca.fit_transform(source_features)\n",
    "\n",
    "    if pca_explain:\n",
    "        source_exp_var = source_pca.explained_variance_ratio_\n",
    "        source_cum_sum_var = np.cumsum(source_exp_var)\n",
    "        target_exp_var = target_pca.explained_variance_ratio_\n",
    "        target_cum_sum_var = np.cumsum(target_exp_var)\n",
    "        print(\"Cummulative variance explained by the source PCA is:\", source_cum_sum_var)\n",
    "        print(\"Cummulative variance explained by the target PCA is:\", target_cum_sum_var)\n",
    "\n",
    "    return target_reps, source_reps"
   ]
  },
  {
   "cell_type": "code",
   "execution_count": 6,
   "metadata": {},
   "outputs": [
    {
     "name": "stderr",
     "output_type": "stream",
     "text": [
      "/home/wanxinli/miniconda3/lib/python3.9/site-packages/ot/bregman.py:517: UserWarning: Sinkhorn did not converge. You might want to increase the number of iterations `numItermax` or the regularization parameter `reg`.\n",
      "  warnings.warn(\"Sinkhorn did not converge. You might want to \"\n"
     ]
    },
    {
     "data": {
      "text/plain": [
       "(294143.97286928754,\n",
       " 432263.77050977247,\n",
       " 994935.4488278514,\n",
       " 1417085.4165994886,\n",
       " 775643.3925591254,\n",
       " 1373366.9193924817)"
      ]
     },
     "execution_count": 6,
     "metadata": {},
     "output_type": "execute_result"
    }
   ],
   "source": [
    "n_components = 50\n",
    "model_func = linear_model.LinearRegression\n",
    "entire_proc_cts(n_components, admid_diagnosis_df, custom_train_reps, model_func, male_count = 120, female_count = 100, pca_explain=False)"
   ]
  },
  {
   "cell_type": "code",
   "execution_count": 7,
   "metadata": {},
   "outputs": [
    {
     "name": "stdout",
     "output_type": "stream",
     "text": [
      "iteration: 0\n",
      "iteration: 1\n",
      "iteration: 2\n"
     ]
    },
    {
     "name": "stderr",
     "output_type": "stream",
     "text": [
      "/home/wanxinli/miniconda3/lib/python3.9/site-packages/ot/bregman.py:517: UserWarning: Sinkhorn did not converge. You might want to increase the number of iterations `numItermax` or the regularization parameter `reg`.\n",
      "  warnings.warn(\"Sinkhorn did not converge. You might want to \"\n"
     ]
    },
    {
     "name": "stdout",
     "output_type": "stream",
     "text": [
      "iteration: 3\n",
      "iteration: 4\n",
      "iteration: 5\n",
      "iteration: 6\n",
      "iteration: 7\n",
      "iteration: 8\n",
      "iteration: 9\n",
      "iteration: 10\n"
     ]
    },
    {
     "name": "stderr",
     "output_type": "stream",
     "text": [
      "/home/wanxinli/miniconda3/lib/python3.9/site-packages/ot/bregman.py:517: UserWarning: Sinkhorn did not converge. You might want to increase the number of iterations `numItermax` or the regularization parameter `reg`.\n",
      "  warnings.warn(\"Sinkhorn did not converge. You might want to \"\n"
     ]
    },
    {
     "name": "stdout",
     "output_type": "stream",
     "text": [
      "iteration: 11\n",
      "iteration: 12\n"
     ]
    },
    {
     "name": "stderr",
     "output_type": "stream",
     "text": [
      "/home/wanxinli/miniconda3/lib/python3.9/site-packages/ot/bregman.py:517: UserWarning: Sinkhorn did not converge. You might want to increase the number of iterations `numItermax` or the regularization parameter `reg`.\n",
      "  warnings.warn(\"Sinkhorn did not converge. You might want to \"\n"
     ]
    },
    {
     "name": "stdout",
     "output_type": "stream",
     "text": [
      "iteration: 13\n",
      "iteration: 14\n"
     ]
    },
    {
     "name": "stderr",
     "output_type": "stream",
     "text": [
      "/home/wanxinli/miniconda3/lib/python3.9/site-packages/ot/bregman.py:517: UserWarning: Sinkhorn did not converge. You might want to increase the number of iterations `numItermax` or the regularization parameter `reg`.\n",
      "  warnings.warn(\"Sinkhorn did not converge. You might want to \"\n"
     ]
    },
    {
     "name": "stdout",
     "output_type": "stream",
     "text": [
      "iteration: 15\n"
     ]
    },
    {
     "name": "stderr",
     "output_type": "stream",
     "text": [
      "/home/wanxinli/miniconda3/lib/python3.9/site-packages/ot/bregman.py:517: UserWarning: Sinkhorn did not converge. You might want to increase the number of iterations `numItermax` or the regularization parameter `reg`.\n",
      "  warnings.warn(\"Sinkhorn did not converge. You might want to \"\n"
     ]
    },
    {
     "name": "stdout",
     "output_type": "stream",
     "text": [
      "iteration: 16\n",
      "iteration: 17\n"
     ]
    },
    {
     "name": "stderr",
     "output_type": "stream",
     "text": [
      "/home/wanxinli/miniconda3/lib/python3.9/site-packages/ot/bregman.py:517: UserWarning: Sinkhorn did not converge. You might want to increase the number of iterations `numItermax` or the regularization parameter `reg`.\n",
      "  warnings.warn(\"Sinkhorn did not converge. You might want to \"\n"
     ]
    },
    {
     "name": "stdout",
     "output_type": "stream",
     "text": [
      "iteration: 18\n"
     ]
    },
    {
     "name": "stderr",
     "output_type": "stream",
     "text": [
      "/home/wanxinli/miniconda3/lib/python3.9/site-packages/ot/bregman.py:517: UserWarning: Sinkhorn did not converge. You might want to increase the number of iterations `numItermax` or the regularization parameter `reg`.\n",
      "  warnings.warn(\"Sinkhorn did not converge. You might want to \"\n"
     ]
    },
    {
     "name": "stdout",
     "output_type": "stream",
     "text": [
      "iteration: 19\n"
     ]
    },
    {
     "name": "stderr",
     "output_type": "stream",
     "text": [
      "/home/wanxinli/miniconda3/lib/python3.9/site-packages/ot/bregman.py:517: UserWarning: Sinkhorn did not converge. You might want to increase the number of iterations `numItermax` or the regularization parameter `reg`.\n",
      "  warnings.warn(\"Sinkhorn did not converge. You might want to \"\n"
     ]
    },
    {
     "name": "stdout",
     "output_type": "stream",
     "text": [
      "iteration: 20\n",
      "iteration: 21\n"
     ]
    },
    {
     "name": "stderr",
     "output_type": "stream",
     "text": [
      "/home/wanxinli/miniconda3/lib/python3.9/site-packages/ot/bregman.py:517: UserWarning: Sinkhorn did not converge. You might want to increase the number of iterations `numItermax` or the regularization parameter `reg`.\n",
      "  warnings.warn(\"Sinkhorn did not converge. You might want to \"\n"
     ]
    },
    {
     "name": "stdout",
     "output_type": "stream",
     "text": [
      "iteration: 22\n",
      "iteration: 23\n",
      "iteration: 24\n",
      "iteration: 25\n",
      "iteration: 26\n",
      "iteration: 27\n",
      "iteration: 28\n"
     ]
    },
    {
     "name": "stderr",
     "output_type": "stream",
     "text": [
      "/home/wanxinli/miniconda3/lib/python3.9/site-packages/ot/bregman.py:517: UserWarning: Sinkhorn did not converge. You might want to increase the number of iterations `numItermax` or the regularization parameter `reg`.\n",
      "  warnings.warn(\"Sinkhorn did not converge. You might want to \"\n"
     ]
    },
    {
     "name": "stdout",
     "output_type": "stream",
     "text": [
      "iteration: 29\n"
     ]
    },
    {
     "name": "stderr",
     "output_type": "stream",
     "text": [
      "/home/wanxinli/miniconda3/lib/python3.9/site-packages/ot/bregman.py:517: UserWarning: Sinkhorn did not converge. You might want to increase the number of iterations `numItermax` or the regularization parameter `reg`.\n",
      "  warnings.warn(\"Sinkhorn did not converge. You might want to \"\n"
     ]
    },
    {
     "name": "stdout",
     "output_type": "stream",
     "text": [
      "iteration: 30\n"
     ]
    },
    {
     "name": "stderr",
     "output_type": "stream",
     "text": [
      "/home/wanxinli/miniconda3/lib/python3.9/site-packages/ot/bregman.py:517: UserWarning: Sinkhorn did not converge. You might want to increase the number of iterations `numItermax` or the regularization parameter `reg`.\n",
      "  warnings.warn(\"Sinkhorn did not converge. You might want to \"\n"
     ]
    },
    {
     "name": "stdout",
     "output_type": "stream",
     "text": [
      "iteration: 31\n",
      "iteration: 32\n",
      "iteration: 33\n"
     ]
    },
    {
     "name": "stderr",
     "output_type": "stream",
     "text": [
      "/home/wanxinli/miniconda3/lib/python3.9/site-packages/ot/bregman.py:517: UserWarning: Sinkhorn did not converge. You might want to increase the number of iterations `numItermax` or the regularization parameter `reg`.\n",
      "  warnings.warn(\"Sinkhorn did not converge. You might want to \"\n"
     ]
    },
    {
     "name": "stdout",
     "output_type": "stream",
     "text": [
      "iteration: 34\n"
     ]
    },
    {
     "name": "stderr",
     "output_type": "stream",
     "text": [
      "/home/wanxinli/miniconda3/lib/python3.9/site-packages/ot/bregman.py:517: UserWarning: Sinkhorn did not converge. You might want to increase the number of iterations `numItermax` or the regularization parameter `reg`.\n",
      "  warnings.warn(\"Sinkhorn did not converge. You might want to \"\n"
     ]
    },
    {
     "name": "stdout",
     "output_type": "stream",
     "text": [
      "iteration: 35\n",
      "iteration: 36\n"
     ]
    },
    {
     "name": "stderr",
     "output_type": "stream",
     "text": [
      "/home/wanxinli/miniconda3/lib/python3.9/site-packages/ot/bregman.py:517: UserWarning: Sinkhorn did not converge. You might want to increase the number of iterations `numItermax` or the regularization parameter `reg`.\n",
      "  warnings.warn(\"Sinkhorn did not converge. You might want to \"\n"
     ]
    },
    {
     "name": "stdout",
     "output_type": "stream",
     "text": [
      "iteration: 37\n",
      "iteration: 38\n"
     ]
    },
    {
     "name": "stderr",
     "output_type": "stream",
     "text": [
      "/home/wanxinli/miniconda3/lib/python3.9/site-packages/ot/bregman.py:517: UserWarning: Sinkhorn did not converge. You might want to increase the number of iterations `numItermax` or the regularization parameter `reg`.\n",
      "  warnings.warn(\"Sinkhorn did not converge. You might want to \"\n"
     ]
    },
    {
     "name": "stdout",
     "output_type": "stream",
     "text": [
      "iteration: 39\n",
      "iteration: 40\n",
      "iteration: 41\n"
     ]
    },
    {
     "name": "stderr",
     "output_type": "stream",
     "text": [
      "/home/wanxinli/miniconda3/lib/python3.9/site-packages/ot/bregman.py:517: UserWarning: Sinkhorn did not converge. You might want to increase the number of iterations `numItermax` or the regularization parameter `reg`.\n",
      "  warnings.warn(\"Sinkhorn did not converge. You might want to \"\n"
     ]
    },
    {
     "name": "stdout",
     "output_type": "stream",
     "text": [
      "iteration: 42\n"
     ]
    },
    {
     "name": "stderr",
     "output_type": "stream",
     "text": [
      "/home/wanxinli/miniconda3/lib/python3.9/site-packages/ot/bregman.py:517: UserWarning: Sinkhorn did not converge. You might want to increase the number of iterations `numItermax` or the regularization parameter `reg`.\n",
      "  warnings.warn(\"Sinkhorn did not converge. You might want to \"\n"
     ]
    },
    {
     "name": "stdout",
     "output_type": "stream",
     "text": [
      "iteration: 43\n",
      "iteration: 44\n",
      "iteration: 45\n"
     ]
    },
    {
     "name": "stderr",
     "output_type": "stream",
     "text": [
      "/home/wanxinli/miniconda3/lib/python3.9/site-packages/ot/bregman.py:517: UserWarning: Sinkhorn did not converge. You might want to increase the number of iterations `numItermax` or the regularization parameter `reg`.\n",
      "  warnings.warn(\"Sinkhorn did not converge. You might want to \"\n"
     ]
    },
    {
     "name": "stdout",
     "output_type": "stream",
     "text": [
      "iteration: 46\n"
     ]
    },
    {
     "name": "stderr",
     "output_type": "stream",
     "text": [
      "/home/wanxinli/miniconda3/lib/python3.9/site-packages/ot/bregman.py:517: UserWarning: Sinkhorn did not converge. You might want to increase the number of iterations `numItermax` or the regularization parameter `reg`.\n",
      "  warnings.warn(\"Sinkhorn did not converge. You might want to \"\n"
     ]
    },
    {
     "name": "stdout",
     "output_type": "stream",
     "text": [
      "iteration: 47\n"
     ]
    },
    {
     "name": "stderr",
     "output_type": "stream",
     "text": [
      "/home/wanxinli/miniconda3/lib/python3.9/site-packages/ot/bregman.py:517: UserWarning: Sinkhorn did not converge. You might want to increase the number of iterations `numItermax` or the regularization parameter `reg`.\n",
      "  warnings.warn(\"Sinkhorn did not converge. You might want to \"\n"
     ]
    },
    {
     "name": "stdout",
     "output_type": "stream",
     "text": [
      "iteration: 48\n"
     ]
    },
    {
     "name": "stderr",
     "output_type": "stream",
     "text": [
      "/home/wanxinli/miniconda3/lib/python3.9/site-packages/ot/bregman.py:517: UserWarning: Sinkhorn did not converge. You might want to increase the number of iterations `numItermax` or the regularization parameter `reg`.\n",
      "  warnings.warn(\"Sinkhorn did not converge. You might want to \"\n"
     ]
    },
    {
     "name": "stdout",
     "output_type": "stream",
     "text": [
      "iteration: 49\n",
      "iteration: 50\n"
     ]
    },
    {
     "name": "stderr",
     "output_type": "stream",
     "text": [
      "/home/wanxinli/miniconda3/lib/python3.9/site-packages/ot/bregman.py:517: UserWarning: Sinkhorn did not converge. You might want to increase the number of iterations `numItermax` or the regularization parameter `reg`.\n",
      "  warnings.warn(\"Sinkhorn did not converge. You might want to \"\n"
     ]
    },
    {
     "name": "stdout",
     "output_type": "stream",
     "text": [
      "iteration: 51\n",
      "iteration: 52\n",
      "iteration: 53\n",
      "iteration: 54\n",
      "iteration: 55\n",
      "iteration: 56\n"
     ]
    },
    {
     "name": "stderr",
     "output_type": "stream",
     "text": [
      "/home/wanxinli/miniconda3/lib/python3.9/site-packages/ot/bregman.py:517: UserWarning: Sinkhorn did not converge. You might want to increase the number of iterations `numItermax` or the regularization parameter `reg`.\n",
      "  warnings.warn(\"Sinkhorn did not converge. You might want to \"\n"
     ]
    },
    {
     "name": "stdout",
     "output_type": "stream",
     "text": [
      "iteration: 57\n"
     ]
    },
    {
     "name": "stderr",
     "output_type": "stream",
     "text": [
      "/home/wanxinli/miniconda3/lib/python3.9/site-packages/ot/bregman.py:517: UserWarning: Sinkhorn did not converge. You might want to increase the number of iterations `numItermax` or the regularization parameter `reg`.\n",
      "  warnings.warn(\"Sinkhorn did not converge. You might want to \"\n"
     ]
    },
    {
     "name": "stdout",
     "output_type": "stream",
     "text": [
      "iteration: 58\n",
      "iteration: 59\n"
     ]
    },
    {
     "name": "stderr",
     "output_type": "stream",
     "text": [
      "/home/wanxinli/miniconda3/lib/python3.9/site-packages/ot/bregman.py:517: UserWarning: Sinkhorn did not converge. You might want to increase the number of iterations `numItermax` or the regularization parameter `reg`.\n",
      "  warnings.warn(\"Sinkhorn did not converge. You might want to \"\n"
     ]
    },
    {
     "name": "stdout",
     "output_type": "stream",
     "text": [
      "iteration: 60\n",
      "iteration: 61\n"
     ]
    },
    {
     "name": "stderr",
     "output_type": "stream",
     "text": [
      "/home/wanxinli/miniconda3/lib/python3.9/site-packages/ot/bregman.py:517: UserWarning: Sinkhorn did not converge. You might want to increase the number of iterations `numItermax` or the regularization parameter `reg`.\n",
      "  warnings.warn(\"Sinkhorn did not converge. You might want to \"\n"
     ]
    },
    {
     "name": "stdout",
     "output_type": "stream",
     "text": [
      "iteration: 62\n",
      "iteration: 63\n",
      "iteration: 64\n"
     ]
    },
    {
     "name": "stderr",
     "output_type": "stream",
     "text": [
      "/home/wanxinli/miniconda3/lib/python3.9/site-packages/ot/bregman.py:517: UserWarning: Sinkhorn did not converge. You might want to increase the number of iterations `numItermax` or the regularization parameter `reg`.\n",
      "  warnings.warn(\"Sinkhorn did not converge. You might want to \"\n"
     ]
    },
    {
     "name": "stdout",
     "output_type": "stream",
     "text": [
      "iteration: 65\n",
      "iteration: 66\n",
      "iteration: 67\n",
      "iteration: 68\n",
      "iteration: 69\n",
      "iteration: 70\n",
      "iteration: 71\n",
      "iteration: 72\n",
      "iteration: 73\n"
     ]
    },
    {
     "name": "stderr",
     "output_type": "stream",
     "text": [
      "/home/wanxinli/miniconda3/lib/python3.9/site-packages/ot/bregman.py:517: UserWarning: Sinkhorn did not converge. You might want to increase the number of iterations `numItermax` or the regularization parameter `reg`.\n",
      "  warnings.warn(\"Sinkhorn did not converge. You might want to \"\n"
     ]
    },
    {
     "name": "stdout",
     "output_type": "stream",
     "text": [
      "iteration: 74\n"
     ]
    },
    {
     "name": "stderr",
     "output_type": "stream",
     "text": [
      "/home/wanxinli/miniconda3/lib/python3.9/site-packages/ot/bregman.py:517: UserWarning: Sinkhorn did not converge. You might want to increase the number of iterations `numItermax` or the regularization parameter `reg`.\n",
      "  warnings.warn(\"Sinkhorn did not converge. You might want to \"\n"
     ]
    },
    {
     "name": "stdout",
     "output_type": "stream",
     "text": [
      "iteration: 75\n"
     ]
    },
    {
     "name": "stderr",
     "output_type": "stream",
     "text": [
      "/home/wanxinli/miniconda3/lib/python3.9/site-packages/ot/bregman.py:517: UserWarning: Sinkhorn did not converge. You might want to increase the number of iterations `numItermax` or the regularization parameter `reg`.\n",
      "  warnings.warn(\"Sinkhorn did not converge. You might want to \"\n"
     ]
    },
    {
     "name": "stdout",
     "output_type": "stream",
     "text": [
      "iteration: 76\n"
     ]
    },
    {
     "name": "stderr",
     "output_type": "stream",
     "text": [
      "/home/wanxinli/miniconda3/lib/python3.9/site-packages/ot/bregman.py:517: UserWarning: Sinkhorn did not converge. You might want to increase the number of iterations `numItermax` or the regularization parameter `reg`.\n",
      "  warnings.warn(\"Sinkhorn did not converge. You might want to \"\n"
     ]
    },
    {
     "name": "stdout",
     "output_type": "stream",
     "text": [
      "iteration: 77\n",
      "iteration: 78\n",
      "iteration: 79\n",
      "iteration: 80\n"
     ]
    },
    {
     "name": "stderr",
     "output_type": "stream",
     "text": [
      "/home/wanxinli/miniconda3/lib/python3.9/site-packages/ot/bregman.py:517: UserWarning: Sinkhorn did not converge. You might want to increase the number of iterations `numItermax` or the regularization parameter `reg`.\n",
      "  warnings.warn(\"Sinkhorn did not converge. You might want to \"\n"
     ]
    },
    {
     "name": "stdout",
     "output_type": "stream",
     "text": [
      "iteration: 81\n",
      "iteration: 82\n",
      "iteration: 83\n",
      "iteration: 84\n",
      "iteration: 85\n"
     ]
    },
    {
     "name": "stderr",
     "output_type": "stream",
     "text": [
      "/home/wanxinli/miniconda3/lib/python3.9/site-packages/ot/bregman.py:517: UserWarning: Sinkhorn did not converge. You might want to increase the number of iterations `numItermax` or the regularization parameter `reg`.\n",
      "  warnings.warn(\"Sinkhorn did not converge. You might want to \"\n"
     ]
    },
    {
     "name": "stdout",
     "output_type": "stream",
     "text": [
      "iteration: 86\n",
      "iteration: 87\n",
      "iteration: 88\n",
      "iteration: 89\n",
      "iteration: 90\n",
      "iteration: 91\n"
     ]
    },
    {
     "name": "stderr",
     "output_type": "stream",
     "text": [
      "/home/wanxinli/miniconda3/lib/python3.9/site-packages/ot/bregman.py:517: UserWarning: Sinkhorn did not converge. You might want to increase the number of iterations `numItermax` or the regularization parameter `reg`.\n",
      "  warnings.warn(\"Sinkhorn did not converge. You might want to \"\n"
     ]
    },
    {
     "name": "stdout",
     "output_type": "stream",
     "text": [
      "iteration: 92\n",
      "iteration: 93\n"
     ]
    },
    {
     "name": "stderr",
     "output_type": "stream",
     "text": [
      "/home/wanxinli/miniconda3/lib/python3.9/site-packages/ot/bregman.py:517: UserWarning: Sinkhorn did not converge. You might want to increase the number of iterations `numItermax` or the regularization parameter `reg`.\n",
      "  warnings.warn(\"Sinkhorn did not converge. You might want to \"\n"
     ]
    },
    {
     "name": "stdout",
     "output_type": "stream",
     "text": [
      "iteration: 94\n",
      "iteration: 95\n",
      "iteration: 96\n",
      "iteration: 97\n"
     ]
    },
    {
     "name": "stderr",
     "output_type": "stream",
     "text": [
      "/home/wanxinli/miniconda3/lib/python3.9/site-packages/ot/bregman.py:517: UserWarning: Sinkhorn did not converge. You might want to increase the number of iterations `numItermax` or the regularization parameter `reg`.\n",
      "  warnings.warn(\"Sinkhorn did not converge. You might want to \"\n"
     ]
    },
    {
     "name": "stdout",
     "output_type": "stream",
     "text": [
      "iteration: 98\n",
      "iteration: 99\n"
     ]
    },
    {
     "data": {
      "text/plain": [
       "array([[ 295799.09089293,  419542.56628375,  695376.95577327,\n",
       "         996820.65250939,  567870.42713938,  836108.30918269],\n",
       "       [ 346359.1348794 ,  521158.83833166,  739903.77734038,\n",
       "        1142621.8402174 ,  625633.04376566,  978534.72433253],\n",
       "       [ 321227.89584564,  449098.8454052 ,  763364.63128731,\n",
       "        1066443.95683255,  582450.38549547,  873825.80150874],\n",
       "       [ 376143.78567558,  580762.34324348, 1102763.38801757,\n",
       "        1882378.70684842,  832887.84749353, 1550424.27850315],\n",
       "       [ 380574.53515679,  540188.7408413 ,  964029.13741345,\n",
       "        1484598.46903261,  856662.60631684, 1367895.84490082],\n",
       "       [ 381179.66143564,  526302.74337809,  750433.83074417,\n",
       "        1138902.07769073,  601627.81003126,  995146.05649297],\n",
       "       [ 344021.71386983,  538640.23311355,  867652.96920569,\n",
       "        1140427.45715431,  683008.61579863, 1000941.53703342],\n",
       "       [ 399832.60862487,  649062.28309787,  982819.27339043,\n",
       "        1509775.65782639,  822567.2382169 , 1406877.31284288],\n",
       "       [ 325831.66553999,  456348.18703667, 1076100.76113292,\n",
       "        1776130.98463761,  791633.08776416, 1429056.47978849],\n",
       "       [ 357483.20124193,  541850.82581939, 1369514.0673891 ,\n",
       "        1877441.8664291 ,  817863.69299772, 1414813.38794413],\n",
       "       [ 412749.03391546,  601599.59759854, 1212609.38109195,\n",
       "        2134764.39338072,  921016.57152572, 1983976.90697803],\n",
       "       [ 272489.06064693,  374470.70265472,  980938.35145495,\n",
       "        1367257.53343605,  762279.84723626, 1221423.65146238],\n",
       "       [ 315206.49753498,  561525.92138641,  890505.30754903,\n",
       "        1384809.67261654,  696835.47674137, 1241168.34637035],\n",
       "       [ 322247.74154935,  457157.51334649, 1178754.45558952,\n",
       "        1548996.83619092,  739464.97567168, 1254245.57561783],\n",
       "       [ 384215.30299689,  495169.23556437, 1102761.75816837,\n",
       "        1690660.47639502,  859148.67841927, 1609039.70214977],\n",
       "       [ 479013.25388322,  730977.86865676,  996248.72983281,\n",
       "        1484706.90942374,  822344.97473984, 1272489.8990915 ],\n",
       "       [ 384474.78253576,  551621.76011808, 1131469.89023385,\n",
       "        1544080.43726225,  726692.41830206, 1174186.67811551],\n",
       "       [ 463932.26038574,  684180.62492477,  864729.21327699,\n",
       "        1490911.63978557,  741266.43555339, 1419416.24619768],\n",
       "       [ 244248.60259279,  350594.72110291,  689250.43214432,\n",
       "         980041.12935036,  599370.68170512,  874227.66620039],\n",
       "       [ 196214.5349651 ,  269760.14110641,  646246.79025649,\n",
       "        1182392.86269403,  556433.61448975, 1020967.22167251],\n",
       "       [ 261674.6342003 ,  338325.79715158, 1289803.28848145,\n",
       "        1656621.6306624 ,  723534.09454698, 1276327.36403956],\n",
       "       [ 289601.24057349,  407772.96578667, 1290240.25571557,\n",
       "        1707113.86921966,  835100.54674389, 1305970.73824129],\n",
       "       [ 448369.47103546,  677082.08529202, 1279722.88113226,\n",
       "        1580260.86806794,  846700.68059117, 1537889.61320933],\n",
       "       [ 237867.11865742,  328511.59757829,  846525.74823915,\n",
       "        1354019.53925028,  609519.06852003, 1097818.12476918],\n",
       "       [ 422408.40682751,  588050.01300063,  783942.53798486,\n",
       "        1106586.39736259,  680150.80882519, 1029448.36134837],\n",
       "       [ 366729.21804762,  549529.00020268,  941102.69821888,\n",
       "        1340904.03996161,  810164.31438125, 1296679.77699178],\n",
       "       [ 323236.03205996,  434487.80920966,  848081.48343692,\n",
       "        1161686.43134995,  670313.17095407,  971287.29497755],\n",
       "       [ 366588.40711644,  551818.93509274,  894351.29147254,\n",
       "        1199173.32156297,  669135.01519344,  957463.85064691],\n",
       "       [ 453088.87555331,  650594.27977321, 1047872.7190918 ,\n",
       "        1548071.28013601,  854918.6495437 , 1439485.90890133],\n",
       "       [ 377715.44888219,  530052.85382575, 1117384.03554751,\n",
       "        1584892.62287035,  793385.07714722, 1380939.34573365],\n",
       "       [ 287283.9358952 ,  400691.67977111,  775136.1323176 ,\n",
       "        1229545.08014348,  686231.16005574, 1245845.05787874],\n",
       "       [ 278103.68575917,  362970.44595251, 1272392.3884852 ,\n",
       "        1825021.34554594,  851213.38482724, 1540365.24113084],\n",
       "       [ 328186.82421923,  448191.47033927,  952025.00450631,\n",
       "        1357721.73316755,  713343.86790253, 1133765.54389813],\n",
       "       [ 328308.60589578,  437408.7553825 , 1073893.72689096,\n",
       "        1610854.28932459,  832942.42166509, 1414786.56889973],\n",
       "       [ 362821.63252536,  534652.7674709 ,  771593.7489119 ,\n",
       "        1027416.25270661,  614946.49798238,  849745.64239732],\n",
       "       [ 406652.28808094,  545459.91608337, 1187919.70018686,\n",
       "        1561341.89994358,  668133.61348486, 1117244.88057004],\n",
       "       [ 290954.2772501 ,  400708.91304215, 1196444.46792145,\n",
       "        1658849.51853455,  744498.68296632, 1225640.43495197],\n",
       "       [ 409301.9073944 ,  648181.25353885,  861021.65145748,\n",
       "        1552789.90242706,  734315.26196737, 1469183.23726727],\n",
       "       [ 276528.18799064,  422242.12860178,  883475.23532658,\n",
       "        1142482.44384721,  586848.23791388,  858854.71170522],\n",
       "       [ 344122.86905266,  435799.32125022,  817477.88937093,\n",
       "        1434958.79079153,  661958.6475969 , 1192796.66081612],\n",
       "       [ 278294.33637795,  382388.88617355,  755014.36426453,\n",
       "        1082334.37955365,  613301.81780745,  956768.94045408],\n",
       "       [ 343451.99103763,  468900.21138219, 1054870.06661175,\n",
       "        1423332.75683808,  671536.98478522, 1126920.61465772],\n",
       "       [ 332113.61349405,  486968.559286  ,  877881.91274912,\n",
       "        1161921.68164531,  628695.82132839,  878507.72588542],\n",
       "       [ 325416.3682635 ,  458308.04557482, 1060290.76644369,\n",
       "        1523324.12232308,  822652.55371193, 1254798.31872508],\n",
       "       [ 286171.09740723,  425240.66268198, 1084258.57683789,\n",
       "        1533413.0353998 ,  805148.23010099, 1423172.35543339],\n",
       "       [ 316390.08947675,  420989.1570321 ,  758157.09656891,\n",
       "        1294304.17652182,  688072.52181353, 1246564.67015399],\n",
       "       [ 306155.52299676,  413858.47048551,  933364.15053825,\n",
       "        1616746.4261987 ,  844878.06726843, 1590619.94823164],\n",
       "       [ 364639.16020187,  503158.96359434, 1165317.65290925,\n",
       "        1578338.22051702,  796366.52094023, 1217737.44875437],\n",
       "       [ 412365.10797635,  622236.91119382, 1156944.47215317,\n",
       "        1485849.98414151,  658949.23795831, 1175333.97318281],\n",
       "       [ 354327.73478616,  496356.48977498,  998032.78722331,\n",
       "        1478729.83449556,  719987.77095417, 1312662.76458638],\n",
       "       [ 314431.08053645,  404986.19872025,  706271.31408727,\n",
       "         983240.70689853,  588063.47556247,  910770.87647664],\n",
       "       [ 388099.30152838,  545077.10714809,  711425.68573008,\n",
       "         992596.33289537,  604202.87260237,  935331.31081843],\n",
       "       [ 322787.4354593 ,  451371.62996424,  661327.58308432,\n",
       "        1125830.89564841,  658654.86067788, 1109479.89251995],\n",
       "       [ 423060.48152272,  616082.5839678 ,  983675.55439682,\n",
       "        1272060.08379883,  704580.2141002 ,  953944.60109809],\n",
       "       [ 352136.82693414,  538497.55816144,  826881.97415749,\n",
       "        1213840.64686735,  799624.19823922, 1180058.32268027],\n",
       "       [ 304260.19660557,  420076.98066593,  917180.80780685,\n",
       "        1181065.7162482 ,  699629.24255561, 1054997.8024955 ],\n",
       "       [ 311243.36660917,  427448.7559675 ,  895969.68766396,\n",
       "        1271669.40872573,  756662.64209449, 1157707.95468451],\n",
       "       [ 447949.87147906,  664515.65678222, 1227520.95718429,\n",
       "        1765786.02270653,  959521.61008546, 1576233.50368082],\n",
       "       [ 481119.70151875,  701718.50737916, 1308500.10256899,\n",
       "        1932793.48782296,  903948.05242903, 1520597.6042118 ],\n",
       "       [ 375876.67347243,  535416.79351889,  934231.11085084,\n",
       "        1331249.28885649,  825561.9202898 , 1310138.41039602],\n",
       "       [ 273461.58348286,  362135.99275169,  951522.43551986,\n",
       "        1816925.90360213,  812372.15246431, 1820951.57900685],\n",
       "       [ 326443.62136705,  494480.72575312,  965208.09422355,\n",
       "        1250321.81802744,  668263.20970748, 1148782.30516387],\n",
       "       [ 336755.05590479,  437705.91551738,  670069.2062531 ,\n",
       "         909092.08862097,  616499.73460258,  893237.44932788],\n",
       "       [ 382805.27914679,  516810.12205722,  770428.18804202,\n",
       "        1122650.7926294 ,  657404.54778534,  988657.85546798],\n",
       "       [ 341831.71075605,  556966.86755898, 1050163.37776562,\n",
       "        1455503.03166615,  672139.609172  , 1189456.48322896],\n",
       "       [ 263465.70754579,  378712.21305493,  846079.63836674,\n",
       "        1335781.98190115,  729679.5589887 , 1210404.74965425],\n",
       "       [ 450825.86018999,  676611.50189279,  974980.16072985,\n",
       "        1354628.25749463,  668110.28860274,  956956.10836275],\n",
       "       [ 249905.48429702,  357966.38770062,  777764.13215261,\n",
       "        1169003.24683292,  630630.89865829, 1034255.72792462],\n",
       "       [ 238534.38200904,  326304.21789704,  697707.95740182,\n",
       "        1327920.85648065,  591356.86811701, 1247309.48801978],\n",
       "       [ 397018.2927448 ,  584004.15506678,  752129.23108609,\n",
       "        1075509.0358398 ,  669832.77532604, 1059264.9323114 ],\n",
       "       [ 366441.88354435,  577726.30178287,  804086.4055783 ,\n",
       "        1050511.15221915,  578218.66578373,  788420.02705498],\n",
       "       [ 335727.83359343,  522249.59435202, 1057670.66239343,\n",
       "        1544524.07145742,  777479.81800552, 1266479.43166437],\n",
       "       [ 374768.52611198,  616109.13629389,  885171.15091855,\n",
       "        1247655.40138854,  711341.53556811, 1217678.02538376],\n",
       "       [ 397502.84315044,  576612.6613796 , 1231011.24110707,\n",
       "        1584996.49211258,  982051.07008396, 1417677.0764426 ],\n",
       "       [ 313573.86938553,  442786.63836244,  669237.72388987,\n",
       "         917290.35287261,  552635.9450727 ,  905182.70892407],\n",
       "       [ 291066.80950467,  402539.69082017,  958252.57963609,\n",
       "        1455318.69345333,  777525.0551321 , 1341129.33454587],\n",
       "       [ 328921.75436543,  451203.53465246,  824074.91617885,\n",
       "        1541239.83877666,  687169.52286103, 1375838.39854319],\n",
       "       [ 322060.54469698,  425158.9113258 , 1248266.82464362,\n",
       "        1795803.36240011,  903040.28484841, 1490525.52124125],\n",
       "       [ 401911.01002834,  606820.44392108,  760023.20833556,\n",
       "         940421.7655358 ,  626089.54226319,  843254.21459692],\n",
       "       [ 359810.48354108,  600446.30755357,  828330.92194018,\n",
       "        1168625.36968935,  740962.89025648, 1030929.1603522 ],\n",
       "       [ 298830.30662759,  425568.38054287, 1075645.73108116,\n",
       "        1562322.22662525,  706490.25425001, 1404711.67650152],\n",
       "       [ 433424.67791518,  579728.33929937,  954376.85493355,\n",
       "        1333982.58878918,  744197.72707685, 1221592.50828837],\n",
       "       [ 279212.90455697,  391365.79768605,  976337.64633149,\n",
       "        1260062.60456063,  623872.93605227,  928634.62717987],\n",
       "       [ 392101.52523726,  557508.70036659, 1020612.56808449,\n",
       "        1391672.88524871,  777190.32498641, 1189016.45875443],\n",
       "       [ 350839.11019829,  524667.66184419,  746648.04041388,\n",
       "         964844.34317562,  555513.08493716,  803534.86985877],\n",
       "       [ 339502.44668415,  497493.55119214, 1459298.00893862,\n",
       "        2036695.12519766,  911479.43001178, 1741560.93583214],\n",
       "       [ 371041.48001382,  519367.89665117,  720456.8440638 ,\n",
       "        1040445.8151681 ,  716195.88540892, 1052846.17207499],\n",
       "       [ 326520.40224156,  488213.37342653,  993406.59386405,\n",
       "        1435485.29219622,  782297.59997937, 1276927.13998407],\n",
       "       [ 254806.14782006,  353111.09434213,  911406.49888103,\n",
       "        1577270.74993561,  727055.39629573, 1441359.87165956],\n",
       "       [ 658607.24216504, 1033461.76139542, 1159979.37047356,\n",
       "        1545221.66702802,  926936.31084271, 1408658.07984587],\n",
       "       [ 297022.6743685 ,  465862.6346005 ,  786997.96884621,\n",
       "        1097397.24701374,  620495.04047292,  950960.989159  ],\n",
       "       [ 380343.64013173,  572480.35742802,  933084.61115943,\n",
       "        1434204.40856476,  777530.79732691, 1340756.90364575],\n",
       "       [ 317469.24417732,  423635.64782803,  841303.35380565,\n",
       "        1273473.5719429 ,  691391.45580833, 1160459.77054929],\n",
       "       [ 262385.33615209,  353922.3905617 ,  877018.73938521,\n",
       "        1361978.04096425,  770245.72895776, 1242320.70145264],\n",
       "       [ 476106.91077775,  752253.68166788,  827152.82457308,\n",
       "        1052749.95016281,  704794.7209457 ,  939839.74957953],\n",
       "       [ 333235.39045454,  442707.1034819 , 1031403.24506861,\n",
       "        1600540.89237415,  834512.81369717, 1568597.28083221],\n",
       "       [ 596897.22589323,  831427.79661233, 1468276.29046613,\n",
       "        1908833.25996368, 1054390.67612389, 1555214.75383781],\n",
       "       [ 310870.49911441,  429214.1912132 ,  781548.45697052,\n",
       "        1248905.07693611,  636283.74654816, 1071917.82856574],\n",
       "       [ 371576.99312748,  506274.7410647 , 1164766.23827675,\n",
       "        2109959.88101929,  979977.31300397, 2080903.70129543],\n",
       "       [ 288754.95218985,  401462.20879054,  797191.68237022,\n",
       "        1019916.26608146,  514211.02349176,  725850.39372812]])"
      ]
     },
     "execution_count": 7,
     "metadata": {},
     "output_type": "execute_result"
    }
   ],
   "source": [
    "\"\"\" \n",
    "Run multiple iterations\n",
    "\"\"\"\n",
    "score_path = os.path.join(output_dir, \"exp4_score.csv\")\n",
    "male_count = 120\n",
    "female_count = 100\n",
    "\n",
    "multi_proc_cts(score_path, n_components, admid_diagnosis_df, custom_train_reps, \\\n",
    "    male_count, female_count, model_func = linear_model.LinearRegression, iteration=100)"
   ]
  },
  {
   "cell_type": "code",
   "execution_count": 8,
   "metadata": {},
   "outputs": [
    {
     "data": {
      "text/plain": [
       "<Figure size 640x480 with 0 Axes>"
      ]
     },
     "metadata": {},
     "output_type": "display_data"
    },
    {
     "data": {
      "image/png": "[encoded data removed]",
      "text/plain": [
       "<Figure size 750x350 with 1 Axes>"
      ]
     },
     "metadata": {},
     "output_type": "display_data"
    },
    {
     "data": {
      "text/plain": [
       "(0.7894102667115901, 0.8862145601971901)"
      ]
     },
     "execution_count": 8,
     "metadata": {},
     "output_type": "execute_result"
    }
   ],
   "source": [
    "box_plot_cts_short(score_path)"
   ]
  },
  {
   "cell_type": "code",
   "execution_count": null,
   "metadata": {},
   "outputs": [],
   "source": []
  }
 ],
 "metadata": {
  "kernelspec": {
   "display_name": "Python 3 (ipykernel)",
   "language": "python",
   "name": "python3"
  },
  "language_info": {
   "codemirror_mode": {
    "name": "ipython",
    "version": 3
   },
   "file_extension": ".py",
   "mimetype": "text/x-python",
   "name": "python",
   "nbconvert_exporter": "python",
   "pygments_lexer": "ipython3",
   "version": "3.9.12"
  },
  "orig_nbformat": 4,
  "vscode": {
   "interpreter": {
    "hash": "e0a164c7fb95af65e1e713e004e1e0ea55c462cdd13e4bdabca6fd60bd9f3176"
   }
  }
 },
 "nbformat": 4,
 "nbformat_minor": 2
}
