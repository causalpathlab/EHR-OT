{
 "cells": [
  {
   "attachments": {},
   "cell_type": "markdown",
   "metadata": {},
   "source": [
    "# Explore the relationship between hospitalization duration and diagnosis codes"
   ]
  },
  {
   "cell_type": "code",
   "execution_count": 1,
   "metadata": {},
   "outputs": [
    {
     "name": "stderr",
     "output_type": "stream",
     "text": [
      "/home/wanxinli/miniconda3/lib/python3.9/site-packages/tqdm/auto.py:22: TqdmWarning: IProgress not found. Please update jupyter and ipywidgets. See https://ipywidgets.readthedocs.io/en/stable/user_install.html\n",
      "  from .autonotebook import tqdm as notebook_tqdm\n"
     ]
    }
   ],
   "source": [
    "import sys\n",
    "sys.path.append(\"/home/wanxinli/deep_patient/\")\n",
    "\n",
    "from ast import literal_eval\n",
    "from common import *\n",
    "from mimic_common import *\n",
    "from multiprocess import Pool\n",
    "import os\n",
    "import random\n",
    "from sklearn.linear_model import LogisticRegression\n",
    "from sklearn.svm import SVC\n",
    "from sklearn.svm import SVR\n",
    "from sklearn.decomposition import PCA\n",
    "from sklearn.metrics import precision_score, recall_score, accuracy_score, f1_score\n",
    "import time\n"
   ]
  },
  {
   "cell_type": "code",
   "execution_count": 2,
   "metadata": {},
   "outputs": [
    {
     "name": "stdout",
     "output_type": "stream",
     "text": [
      "Will save outputs to /home/wanxinli/deep_patient/outputs/mimic\n"
     ]
    }
   ],
   "source": [
    "output_dir = os.path.join(os.path.expanduser(\"~\"), f\"deep_patient/outputs/mimic\")\n",
    "print(f\"Will save outputs to {output_dir}\")"
   ]
  },
  {
   "cell_type": "code",
   "execution_count": 3,
   "metadata": {},
   "outputs": [
    {
     "name": "stdout",
     "output_type": "stream",
     "text": [
      "         adm_type gender                                          ICD codes  \\\n",
      "admid                                                                         \n",
      "172335  EMERGENCY      F  [403.01, 486, 582.81, 585.5, 425.4, 276.2, 710...   \n",
      "173633  EMERGENCY      F  [403.01, 585.6, 583.81, 710.0, 558.9, 287.5, 2...   \n",
      "174105  EMERGENCY      M               [531.00, 410.71, 285.9, 414.01, 725]   \n",
      "109976  EMERGENCY      M                             [191.5, 331.4, 530.81]   \n",
      "178393   ELECTIVE      M       [414.01, 411.1, 482.83, 285.9, 272.0, 305.1]   \n",
      "...           ...    ...                                                ...   \n",
      "172304   ELECTIVE      F       [202.80, 348.5, 784.3, 401.9, 272.0, 530.81]   \n",
      "152542  EMERGENCY      M  [566, 250.62, 357.2, V58.67, 427.31, 401.9, 42...   \n",
      "161999  EMERGENCY      M  [434.11, 348.5, 348.4, 430, 348.30, 997.31, 51...   \n",
      "189314  EMERGENCY      F  [346.80, 784.3, 745.5, 781.94, 368.40, 781.3, ...   \n",
      "168949  EMERGENCY      M  [052.9, 416.2, 201.92, 135, 276.69, 517.8, 427...   \n",
      "\n",
      "         duration                                   diagnosis  label  \n",
      "admid                                                                 \n",
      "172335   530460.0                                    LEG PAIN      0  \n",
      "173633   574560.0                              ABDOMINAL PAIN      0  \n",
      "174105   425460.0                      GASTROINTESTINAL BLEED      0  \n",
      "109976  1284240.0                               HYDROCEPHALUS      0  \n",
      "178393   485280.0                                     USA/SDA      0  \n",
      "...           ...                                         ...    ...  \n",
      "172304   449700.0                        LEFT BRAIN TUMOR/SDA      0  \n",
      "152542   415740.0                          PERIRECTAL ABSCESS      0  \n",
      "161999   692940.0                            STROKE;TELEMETRY      0  \n",
      "189314   150060.0  STROKE;TELEMETRY;TRANSIENT ISCHEMIC ATTACK      0  \n",
      "168949   688980.0                              ABDOMINAL PAIN      0  \n",
      "\n",
      "[58976 rows x 6 columns]\n",
      "female: 26026\n",
      "male: 32950\n"
     ]
    }
   ],
   "source": [
    "\"\"\" \n",
    "Read in the original dataframe\n",
    "\"\"\"\n",
    "admid_diagnosis_df = pd.read_csv(\"../../outputs/mimic/ADMID_DIAGNOSIS.csv\", index_col=0, header=0, converters={'ICD codes': literal_eval})\n",
    "print(admid_diagnosis_df)\n",
    "\n",
    "\"\"\" \n",
    "Print number of patients for each category\n",
    "\"\"\"\n",
    "print(\"female:\", admid_diagnosis_df.loc[(admid_diagnosis_df['gender'] == 'F')].shape[0])\n",
    "print(\"male:\", admid_diagnosis_df.loc[(admid_diagnosis_df['gender'] == 'M')].shape[0])\n"
   ]
  },
  {
   "cell_type": "code",
   "execution_count": 4,
   "metadata": {},
   "outputs": [],
   "source": [
    "\"\"\"\n",
    "Train deep patient model and generate representations for targets and sources\n",
    "\"\"\"\n",
    "\n",
    "def custom_train_reps(target_features, source_features, n_components, pca_explain=False):\n",
    "    \"\"\" \n",
    "    Customized training algorithm for generating target representations and source representations\n",
    "\n",
    "    :param bool pca_explain: print the explained variance of each components\n",
    "    \n",
    "    :returns: target representations, source representations\n",
    "    \"\"\"\n",
    "    source_pca = PCA(n_components=n_components)\n",
    "    target_pca = PCA(n_components=n_components)\n",
    "    target_reps = target_pca.fit_transform(target_features)\n",
    "    source_reps = source_pca.fit_transform(source_features)\n",
    "\n",
    "    if pca_explain:\n",
    "        source_exp_var = source_pca.explained_variance_ratio_\n",
    "        source_cum_sum_var = np.cumsum(source_exp_var)\n",
    "        target_exp_var = target_pca.explained_variance_ratio_\n",
    "        target_cum_sum_var = np.cumsum(target_exp_var)\n",
    "        print(\"Cummulative variance explained by the source PCA is:\", source_cum_sum_var)\n",
    "        print(\"Cummulative variance explained by the target PCA is:\", target_cum_sum_var)\n",
    "\n",
    "    return target_reps, source_reps"
   ]
  },
  {
   "cell_type": "code",
   "execution_count": 5,
   "metadata": {},
   "outputs": [
    {
     "name": "stderr",
     "output_type": "stream",
     "text": [
      "/home/wanxinli/miniconda3/lib/python3.9/site-packages/ot/bregman.py:517: UserWarning: Sinkhorn did not converge. You might want to increase the number of iterations `numItermax` or the regularization parameter `reg`.\n",
      "  warnings.warn(\"Sinkhorn did not converge. You might want to \"\n"
     ]
    },
    {
     "data": {
      "text/plain": [
       "(544447.9672502158,\n",
       " 734784.0579312256,\n",
       " 702058.3295896661,\n",
       " 923802.1772341689,\n",
       " 616545.7135571066,\n",
       " 844005.899812384)"
      ]
     },
     "execution_count": 5,
     "metadata": {},
     "output_type": "execute_result"
    }
   ],
   "source": [
    "n_components = 20\n",
    "model_func = linear_model.LinearRegression\n",
    "entire_proc_cts(n_components, admid_diagnosis_df, custom_train_reps, model_func, male_count = 120, female_count = 100, pca_explain=False)"
   ]
  },
  {
   "cell_type": "code",
   "execution_count": 6,
   "metadata": {},
   "outputs": [
    {
     "name": "stdout",
     "output_type": "stream",
     "text": [
      "iteration: 0\n",
      "iteration: 1\n",
      "cannot fit the regression model\n",
      "iteration: 2\n",
      "iteration: 3\n",
      "cannot fit the regression model\n",
      "iteration: 4\n",
      "iteration: 5\n"
     ]
    },
    {
     "name": "stderr",
     "output_type": "stream",
     "text": [
      "/home/wanxinli/miniconda3/lib/python3.9/site-packages/ot/bregman.py:517: UserWarning: Sinkhorn did not converge. You might want to increase the number of iterations `numItermax` or the regularization parameter `reg`.\n",
      "  warnings.warn(\"Sinkhorn did not converge. You might want to \"\n"
     ]
    },
    {
     "name": "stdout",
     "output_type": "stream",
     "text": [
      "iteration: 6\n",
      "iteration: 7\n",
      "cannot fit the regression model\n",
      "iteration: 8\n",
      "cannot fit the regression model\n",
      "iteration: 9\n",
      "iteration: 10\n",
      "cannot fit the regression model\n",
      "iteration: 11\n",
      "iteration: 12\n",
      "iteration: 13\n"
     ]
    },
    {
     "name": "stderr",
     "output_type": "stream",
     "text": [
      "/home/wanxinli/miniconda3/lib/python3.9/site-packages/ot/bregman.py:517: UserWarning: Sinkhorn did not converge. You might want to increase the number of iterations `numItermax` or the regularization parameter `reg`.\n",
      "  warnings.warn(\"Sinkhorn did not converge. You might want to \"\n"
     ]
    },
    {
     "name": "stdout",
     "output_type": "stream",
     "text": [
      "iteration: 14\n",
      "iteration: 15\n",
      "iteration: 16\n",
      "cannot fit the regression model\n",
      "iteration: 17\n",
      "iteration: 18\n",
      "iteration: 19\n"
     ]
    },
    {
     "name": "stderr",
     "output_type": "stream",
     "text": [
      "/home/wanxinli/miniconda3/lib/python3.9/site-packages/ot/bregman.py:517: UserWarning: Sinkhorn did not converge. You might want to increase the number of iterations `numItermax` or the regularization parameter `reg`.\n",
      "  warnings.warn(\"Sinkhorn did not converge. You might want to \"\n"
     ]
    },
    {
     "name": "stdout",
     "output_type": "stream",
     "text": [
      "iteration: 20\n",
      "iteration: 21\n",
      "iteration: 22\n"
     ]
    },
    {
     "name": "stderr",
     "output_type": "stream",
     "text": [
      "/home/wanxinli/miniconda3/lib/python3.9/site-packages/ot/bregman.py:517: UserWarning: Sinkhorn did not converge. You might want to increase the number of iterations `numItermax` or the regularization parameter `reg`.\n",
      "  warnings.warn(\"Sinkhorn did not converge. You might want to \"\n"
     ]
    },
    {
     "name": "stdout",
     "output_type": "stream",
     "text": [
      "iteration: 23\n",
      "cannot fit the regression model\n",
      "iteration: 24\n",
      "cannot fit the regression model\n",
      "iteration: 25\n",
      "cannot fit the regression model\n",
      "iteration: 26\n",
      "iteration: 27\n",
      "cannot fit the regression model\n",
      "iteration: 28\n",
      "iteration: 29\n",
      "cannot fit the regression model\n",
      "iteration: 30\n",
      "iteration: 31\n"
     ]
    },
    {
     "name": "stderr",
     "output_type": "stream",
     "text": [
      "/home/wanxinli/miniconda3/lib/python3.9/site-packages/ot/bregman.py:517: UserWarning: Sinkhorn did not converge. You might want to increase the number of iterations `numItermax` or the regularization parameter `reg`.\n",
      "  warnings.warn(\"Sinkhorn did not converge. You might want to \"\n"
     ]
    },
    {
     "name": "stdout",
     "output_type": "stream",
     "text": [
      "iteration: 32\n",
      "cannot fit the regression model\n",
      "iteration: 33\n",
      "iteration: 34\n",
      "iteration: 35\n",
      "cannot fit the regression model\n",
      "iteration: 36\n",
      "iteration: 37\n",
      "iteration: 38\n",
      "iteration: 39\n",
      "iteration: 40\n",
      "iteration: 41\n",
      "iteration: 42\n"
     ]
    },
    {
     "name": "stderr",
     "output_type": "stream",
     "text": [
      "/home/wanxinli/miniconda3/lib/python3.9/site-packages/ot/bregman.py:517: UserWarning: Sinkhorn did not converge. You might want to increase the number of iterations `numItermax` or the regularization parameter `reg`.\n",
      "  warnings.warn(\"Sinkhorn did not converge. You might want to \"\n"
     ]
    },
    {
     "name": "stdout",
     "output_type": "stream",
     "text": [
      "iteration: 43\n",
      "iteration: 44\n",
      "iteration: 45\n"
     ]
    },
    {
     "name": "stderr",
     "output_type": "stream",
     "text": [
      "/home/wanxinli/miniconda3/lib/python3.9/site-packages/ot/bregman.py:517: UserWarning: Sinkhorn did not converge. You might want to increase the number of iterations `numItermax` or the regularization parameter `reg`.\n",
      "  warnings.warn(\"Sinkhorn did not converge. You might want to \"\n"
     ]
    },
    {
     "name": "stdout",
     "output_type": "stream",
     "text": [
      "iteration: 46\n",
      "iteration: 47\n",
      "cannot fit the regression model\n",
      "iteration: 48\n",
      "cannot fit the regression model\n",
      "iteration: 49\n"
     ]
    },
    {
     "name": "stderr",
     "output_type": "stream",
     "text": [
      "/home/wanxinli/miniconda3/lib/python3.9/site-packages/ot/bregman.py:517: UserWarning: Sinkhorn did not converge. You might want to increase the number of iterations `numItermax` or the regularization parameter `reg`.\n",
      "  warnings.warn(\"Sinkhorn did not converge. You might want to \"\n"
     ]
    },
    {
     "name": "stdout",
     "output_type": "stream",
     "text": [
      "iteration: 50\n",
      "iteration: 51\n"
     ]
    },
    {
     "name": "stderr",
     "output_type": "stream",
     "text": [
      "/home/wanxinli/miniconda3/lib/python3.9/site-packages/ot/bregman.py:517: UserWarning: Sinkhorn did not converge. You might want to increase the number of iterations `numItermax` or the regularization parameter `reg`.\n",
      "  warnings.warn(\"Sinkhorn did not converge. You might want to \"\n"
     ]
    },
    {
     "name": "stdout",
     "output_type": "stream",
     "text": [
      "iteration: 52\n"
     ]
    },
    {
     "name": "stderr",
     "output_type": "stream",
     "text": [
      "/home/wanxinli/miniconda3/lib/python3.9/site-packages/ot/bregman.py:517: UserWarning: Sinkhorn did not converge. You might want to increase the number of iterations `numItermax` or the regularization parameter `reg`.\n",
      "  warnings.warn(\"Sinkhorn did not converge. You might want to \"\n"
     ]
    },
    {
     "name": "stdout",
     "output_type": "stream",
     "text": [
      "iteration: 53\n",
      "cannot fit the regression model\n",
      "iteration: 54\n",
      "iteration: 55\n",
      "cannot fit the regression model\n",
      "iteration: 56\n",
      "iteration: 57\n",
      "iteration: 58\n"
     ]
    },
    {
     "name": "stderr",
     "output_type": "stream",
     "text": [
      "/home/wanxinli/miniconda3/lib/python3.9/site-packages/ot/bregman.py:517: UserWarning: Sinkhorn did not converge. You might want to increase the number of iterations `numItermax` or the regularization parameter `reg`.\n",
      "  warnings.warn(\"Sinkhorn did not converge. You might want to \"\n"
     ]
    },
    {
     "name": "stdout",
     "output_type": "stream",
     "text": [
      "iteration: 59\n",
      "iteration: 60\n",
      "iteration: 61\n",
      "iteration: 62\n",
      "cannot fit the regression model\n",
      "iteration: 63\n",
      "cannot fit the regression model\n",
      "iteration: 64\n",
      "cannot fit the regression model\n",
      "iteration: 65\n",
      "cannot fit the regression model\n",
      "iteration: 66\n",
      "cannot fit the regression model\n",
      "iteration: 67\n",
      "iteration: 68\n",
      "iteration: 69\n",
      "cannot fit the regression model\n",
      "iteration: 70\n",
      "cannot fit the regression model\n",
      "iteration: 71\n",
      "iteration: 72\n",
      "iteration: 73\n",
      "iteration: 74\n",
      "iteration: 75\n",
      "iteration: 76\n",
      "iteration: 77\n",
      "iteration: 78\n",
      "iteration: 79\n",
      "iteration: 80\n",
      "iteration: 81\n",
      "cannot fit the regression model\n",
      "iteration: 82\n"
     ]
    },
    {
     "name": "stderr",
     "output_type": "stream",
     "text": [
      "/home/wanxinli/miniconda3/lib/python3.9/site-packages/ot/bregman.py:517: UserWarning: Sinkhorn did not converge. You might want to increase the number of iterations `numItermax` or the regularization parameter `reg`.\n",
      "  warnings.warn(\"Sinkhorn did not converge. You might want to \"\n"
     ]
    },
    {
     "name": "stdout",
     "output_type": "stream",
     "text": [
      "iteration: 83\n",
      "cannot fit the regression model\n",
      "iteration: 84\n",
      "iteration: 85\n"
     ]
    },
    {
     "name": "stderr",
     "output_type": "stream",
     "text": [
      "/home/wanxinli/miniconda3/lib/python3.9/site-packages/ot/bregman.py:517: UserWarning: Sinkhorn did not converge. You might want to increase the number of iterations `numItermax` or the regularization parameter `reg`.\n",
      "  warnings.warn(\"Sinkhorn did not converge. You might want to \"\n"
     ]
    },
    {
     "name": "stdout",
     "output_type": "stream",
     "text": [
      "iteration: 86\n",
      "iteration: 87\n",
      "cannot fit the regression model\n",
      "iteration: 88\n"
     ]
    },
    {
     "name": "stderr",
     "output_type": "stream",
     "text": [
      "/home/wanxinli/miniconda3/lib/python3.9/site-packages/ot/bregman.py:517: UserWarning: Sinkhorn did not converge. You might want to increase the number of iterations `numItermax` or the regularization parameter `reg`.\n",
      "  warnings.warn(\"Sinkhorn did not converge. You might want to \"\n"
     ]
    },
    {
     "name": "stdout",
     "output_type": "stream",
     "text": [
      "iteration: 89\n",
      "iteration: 90\n",
      "iteration: 91\n"
     ]
    },
    {
     "name": "stderr",
     "output_type": "stream",
     "text": [
      "/home/wanxinli/miniconda3/lib/python3.9/site-packages/ot/bregman.py:517: UserWarning: Sinkhorn did not converge. You might want to increase the number of iterations `numItermax` or the regularization parameter `reg`.\n",
      "  warnings.warn(\"Sinkhorn did not converge. You might want to \"\n"
     ]
    },
    {
     "name": "stdout",
     "output_type": "stream",
     "text": [
      "iteration: 92\n",
      "iteration: 93\n",
      "iteration: 94\n"
     ]
    },
    {
     "name": "stderr",
     "output_type": "stream",
     "text": [
      "/home/wanxinli/miniconda3/lib/python3.9/site-packages/ot/bregman.py:517: UserWarning: Sinkhorn did not converge. You might want to increase the number of iterations `numItermax` or the regularization parameter `reg`.\n",
      "  warnings.warn(\"Sinkhorn did not converge. You might want to \"\n"
     ]
    },
    {
     "name": "stdout",
     "output_type": "stream",
     "text": [
      "iteration: 95\n",
      "cannot fit the regression model\n",
      "iteration: 96\n",
      "iteration: 97\n",
      "iteration: 98\n",
      "iteration: 99\n",
      "cannot fit the regression model\n"
     ]
    },
    {
     "data": {
      "text/plain": [
       "array([[ 4.30305505e+005,  5.95765514e+005,  6.01698429e+005,\n",
       "         8.77805727e+005,  5.33857948e+005,  7.47090305e+005],\n",
       "       [ 0.00000000e+000,  3.95252517e-323,  6.92980165e-310,\n",
       "         6.92984385e-310,  6.92984385e-310,  6.92984384e-310],\n",
       "       [ 4.68390397e+005,  7.01145176e+005,  6.61790915e+005,\n",
       "         1.00715640e+006,  6.14620638e+005,  9.58887516e+005],\n",
       "       [ 6.92984382e-310,  6.92984382e-310,  6.92984387e-310,\n",
       "         6.92984386e-310,  6.92984385e-310,  6.92984384e-310],\n",
       "       [ 2.87090705e+005,  3.97420681e+005,  7.05119481e+005,\n",
       "         1.39778844e+006,  6.79990375e+005,  1.35675888e+006],\n",
       "       [ 4.19760234e+005,  5.69059262e+005,  6.69178806e+005,\n",
       "         1.09901195e+006,  6.21752017e+005,  1.01292430e+006],\n",
       "       [ 5.47001735e+005,  1.10656435e+006,  6.89994139e+005,\n",
       "         1.09126658e+006,  6.36026903e+005,  9.37484388e+005],\n",
       "       [ 6.92984385e-310,  6.92984387e-310,  6.92984387e-310,\n",
       "         6.92984387e-310,  6.92984385e-310,  6.92984384e-310],\n",
       "       [ 6.92984380e-310,  6.92984382e-310,  6.92984380e-310,\n",
       "         6.92984384e-310,  6.92984382e-310,  6.92984387e-310],\n",
       "       [ 5.18771500e+005,  7.86123741e+005,  6.48361342e+005,\n",
       "         1.04960861e+006,  5.78448349e+005,  9.54503233e+005],\n",
       "       [ 0.00000000e+000,  8.48798317e-314,  2.18141167e-310,\n",
       "         6.92984382e-310,  6.92984385e-310,  6.92984387e-310],\n",
       "       [ 3.24074441e+005,  4.58443900e+005,  8.36235173e+005,\n",
       "         1.52236781e+006,  8.13706054e+005,  1.50243003e+006],\n",
       "       [ 4.48408719e+005,  7.16621334e+005,  5.81401685e+005,\n",
       "         9.17962677e+005,  6.05169292e+005,  1.00584459e+006],\n",
       "       [ 4.78632822e+005,  7.14978193e+005,  8.34563740e+005,\n",
       "         1.27167105e+006,  7.28795957e+005,  1.05465364e+006],\n",
       "       [ 4.43000476e+005,  7.48968897e+005,  9.39129697e+005,\n",
       "         1.76897738e+006,  8.01017340e+005,  1.58168456e+006],\n",
       "       [ 3.88273988e+005,  5.77291022e+005,  6.29447366e+005,\n",
       "         1.18330690e+006,  5.34700266e+005,  1.08373776e+006],\n",
       "       [ 4.66908628e-310,  1.83583140e-001,  4.66908628e-310,\n",
       "        -3.44765425e-001,  4.66908628e-310,  8.57428551e-001],\n",
       "       [ 3.94663229e+005,  5.37964918e+005,  6.70964940e+005,\n",
       "         9.71049838e+005,  6.21556558e+005,  9.43721012e+005],\n",
       "       [ 3.30018526e+005,  4.23371134e+005,  5.37506753e+005,\n",
       "         8.21592613e+005,  5.36154751e+005,  8.49630668e+005],\n",
       "       [ 8.11951187e+005,  1.68445672e+006,  8.27770864e+005,\n",
       "         1.42063208e+006,  8.23041554e+005,  1.39531402e+006],\n",
       "       [ 3.54959409e+005,  6.50071491e+005,  6.70976871e+005,\n",
       "         1.52511345e+006,  6.66352964e+005,  1.52909171e+006],\n",
       "       [ 4.86693055e+005,  8.45483079e+005,  6.26078805e+005,\n",
       "         1.10733598e+006,  6.28933524e+005,  1.13401025e+006],\n",
       "       [ 6.06018403e+005,  1.12464444e+006,  8.98020028e+005,\n",
       "         1.42139406e+006,  8.63547777e+005,  1.31475741e+006],\n",
       "       [ 6.92984386e-310,  8.89498591e-002, -9.68935750e-002,\n",
       "         1.27319747e-312,  1.33685735e-312,  9.95830536e-001],\n",
       "       [ 4.66908628e-310, -7.35114098e-001,  4.66908628e-310,\n",
       "         4.95635271e-001,  4.66908628e-310,  3.33798647e-001],\n",
       "       [ 4.66908628e-310,  6.28132820e-001,  4.66908628e-310,\n",
       "        -2.21040249e-001,  4.66908628e-310,  8.06358401e-313],\n",
       "       [ 4.47781967e+005,  6.83808505e+005,  6.08510208e+005,\n",
       "         1.12014464e+006,  5.95713279e+005,  1.01899074e+006],\n",
       "       [ 4.66908628e-310, -2.74497718e-002,  4.66908628e-310,\n",
       "         4.94065646e-324,  6.92956581e-310, -6.62426353e-002],\n",
       "       [ 5.38630365e+005,  9.27630375e+005,  8.18473515e+005,\n",
       "         1.36695830e+006,  7.59799236e+005,  1.26773167e+006],\n",
       "       [ 7.35711138e-003,  1.65515672e-312,  1.78247646e-312,\n",
       "        -2.12528706e-001,  4.66908628e-310,  4.57838774e-001],\n",
       "       [ 3.96524468e+005,  6.05901456e+005,  5.45310303e+005,\n",
       "         1.00424194e+006,  5.28872637e+005,  9.90594542e+005],\n",
       "       [ 5.20466138e+005,  8.06777023e+005,  9.28634719e+005,\n",
       "         1.68003188e+006,  8.33827096e+005,  1.63222866e+006],\n",
       "       [ 4.66908628e-310,  8.06358401e-313,  1.78247646e-312,\n",
       "         2.25842714e-001,  4.66908628e-310,  3.85028362e-001],\n",
       "       [ 4.76640465e+005,  7.51939455e+005,  8.02213590e+005,\n",
       "         1.35613419e+006,  7.73073757e+005,  1.46979987e+006],\n",
       "       [ 3.79519963e+005,  5.54625677e+005,  8.29183505e+005,\n",
       "         2.07988916e+006,  6.11667542e+005,  1.16288064e+006],\n",
       "       [ 4.66908628e-310,  4.94065646e-324,  4.66908628e-310,\n",
       "         4.37657356e-001,  4.66908628e-310, -2.03480005e-001],\n",
       "       [ 4.67314937e+005,  8.47180496e+005,  5.99238559e+005,\n",
       "         1.06807937e+006,  5.60178265e+005,  8.25855908e+005],\n",
       "       [ 5.95782505e+005,  8.99409506e+005,  7.32527811e+005,\n",
       "         1.14059518e+006,  6.23826325e+005,  8.93519193e+005],\n",
       "       [ 4.82438362e+005,  7.05812125e+005,  7.87248707e+005,\n",
       "         1.37814827e+006,  6.12204612e+005,  8.68334103e+005],\n",
       "       [ 5.24584690e+005,  8.53897660e+005,  6.07036117e+005,\n",
       "         8.60903323e+005,  5.69833422e+005,  8.11533323e+005],\n",
       "       [ 4.85488860e+005,  7.11088078e+005,  5.83136932e+005,\n",
       "         9.00018541e+005,  5.26870760e+005,  8.35500095e+005],\n",
       "       [ 4.78911694e+005,  8.64331909e+005,  8.71259851e+005,\n",
       "         1.51005470e+006,  7.80672418e+005,  1.35318752e+006],\n",
       "       [ 3.73367052e+005,  5.81340191e+005,  5.04109866e+005,\n",
       "         6.91972674e+005,  4.95905108e+005,  7.50838365e+005],\n",
       "       [ 4.75114802e+005,  8.36404355e+005,  8.81061393e+005,\n",
       "         1.45691535e+006,  7.66134405e+005,  1.29236641e+006],\n",
       "       [ 4.45346394e+005,  7.26770348e+005,  6.55304623e+005,\n",
       "         1.11502296e+006,  6.52668228e+005,  1.16099067e+006],\n",
       "       [ 4.12925461e+005,  6.69693212e+005,  6.56443113e+005,\n",
       "         1.22767035e+006,  6.09257376e+005,  1.15233586e+006],\n",
       "       [ 4.20326462e+005,  5.78825517e+005,  8.02953421e+005,\n",
       "         1.17032006e+006,  6.39978917e+005,  1.09428044e+006],\n",
       "       [ 6.92984380e-310,  6.92983817e-310,  6.92967501e-310,\n",
       "         6.92984380e-310,  6.92967501e-310,  6.92967501e-310],\n",
       "       [ 6.92967501e-310,  6.92984087e-310,  6.92984386e-310,\n",
       "         6.92956858e-310,  6.92984380e-310,  6.92984029e-310],\n",
       "       [ 4.23444762e+005,  6.94311739e+005,  7.78739837e+005,\n",
       "         1.37307877e+006,  8.06615387e+005,  1.46650444e+006],\n",
       "       [ 5.22334590e+005,  7.13711991e+005,  7.80369882e+005,\n",
       "         1.69202166e+006,  7.83202798e+005,  1.70470686e+006],\n",
       "       [ 3.78503565e+005,  8.06764387e+005,  6.45346991e+005,\n",
       "         9.93460803e+005,  5.69479153e+005,  7.73813816e+005],\n",
       "       [ 5.67068068e+005,  9.06773002e+005,  7.60963076e+005,\n",
       "         1.08213579e+006,  7.51774767e+005,  1.04544379e+006],\n",
       "       [ 6.92984388e-310,  6.92984386e-310,  6.92984388e-310,\n",
       "         6.92984388e-310,  6.92956858e-310,  6.92956981e-310],\n",
       "       [ 5.51019519e+005,  1.12355133e+006,  7.92994888e+005,\n",
       "         1.26021815e+006,  7.54739562e+005,  1.24309629e+006],\n",
       "       [ 6.92983817e-310,  6.92983817e-310,  6.92956858e-310,\n",
       "         6.92967501e-310,  6.92984380e-310,  6.92967501e-310],\n",
       "       [ 4.41375918e+005,  7.23568770e+005,  5.38806585e+005,\n",
       "         7.57919760e+005,  5.37954526e+005,  7.60510844e+005],\n",
       "       [ 4.78547338e+005,  6.79489082e+005,  5.60157108e+005,\n",
       "         7.86914077e+005,  5.43713389e+005,  7.93858994e+005],\n",
       "       [ 4.91603563e+005,  7.09676566e+005,  8.35097300e+005,\n",
       "         1.43537048e+006,  7.41870880e+005,  1.21531630e+006],\n",
       "       [ 4.78100843e+005,  8.22665945e+005,  5.92761082e+005,\n",
       "         8.16667382e+005,  5.33492422e+005,  7.56374272e+005],\n",
       "       [ 3.30012300e+005,  4.26459984e+005,  6.94234804e+005,\n",
       "         1.31170103e+006,  6.66751569e+005,  1.26934025e+006],\n",
       "       [ 6.24776580e+005,  1.07833274e+006,  8.20686945e+005,\n",
       "         1.38900303e+006,  7.20951935e+005,  1.14756397e+006],\n",
       "       [ 6.92984380e-310,  6.92956975e-310,  6.92984388e-310,\n",
       "         6.92984380e-310,  6.92984388e-310,  6.92983817e-310],\n",
       "       [ 6.92982503e-310,  6.92984386e-310,  6.92956981e-310,\n",
       "         6.92956981e-310,  6.92956981e-310,  6.92956981e-310],\n",
       "       [ 6.92983817e-310,  6.92956981e-310,  6.92984386e-310,\n",
       "         2.68836498e-001,  0.00000000e+000,  1.17579460e-001],\n",
       "       [ 0.00000000e+000, -4.95662987e-002,  6.92956981e-310,\n",
       "         3.11673403e-001, -1.33001487e-002,  2.47032823e-323],\n",
       "       [ 2.12199579e-313,  4.68942404e-001,  6.92956981e-310,\n",
       "         8.22707415e-002,  1.96458753e-001,  2.47032823e-323],\n",
       "       [ 4.75887306e+005,  7.38183727e+005,  6.17694824e+005,\n",
       "         9.27891508e+005,  5.51385346e+005,  8.08365907e+005],\n",
       "       [ 3.72349187e+005,  5.37035962e+005,  6.20129240e+005,\n",
       "         1.08758015e+006,  5.93155292e+005,  1.04971045e+006],\n",
       "       [ 4.66908628e-310, -1.10253155e-001,  4.66908628e-310,\n",
       "         4.65902805e-001,  0.00000000e+000,  1.23691738e-001],\n",
       "       [ 0.00000000e+000, -3.15225840e-001,  6.92984388e-310,\n",
       "         0.00000000e+000,  6.95292921e-001,  2.75859453e-313],\n",
       "       [ 5.60411535e+005,  1.04131354e+006,  7.24811647e+005,\n",
       "         1.09831271e+006,  6.56146308e+005,  9.85555414e+005],\n",
       "       [ 5.06590390e+005,  7.23838658e+005,  8.04895010e+005,\n",
       "         1.17140021e+006,  7.78681772e+005,  1.21067754e+006],\n",
       "       [ 4.82138129e+005,  7.29683720e+005,  7.30940961e+005,\n",
       "         1.26528021e+006,  6.27084228e+005,  9.90068798e+005],\n",
       "       [ 5.26933188e+005,  1.01274817e+006,  5.64394706e+005,\n",
       "         1.00259420e+006,  5.34022615e+005,  9.67257040e+005],\n",
       "       [ 3.21230901e+005,  4.34023438e+005,  7.37598833e+005,\n",
       "         1.39102653e+006,  5.95258056e+005,  1.00863740e+006],\n",
       "       [ 6.20283133e+005,  1.15393188e+006,  8.55223468e+005,\n",
       "         1.32997613e+006,  7.87808534e+005,  1.21597522e+006],\n",
       "       [ 4.75699322e+005,  1.01215451e+006,  7.63837329e+005,\n",
       "         1.24594186e+006,  7.23682127e+005,  1.24566600e+006],\n",
       "       [ 5.45688072e+005,  8.19005830e+005,  6.54051499e+005,\n",
       "         1.03208321e+006,  6.48586259e+005,  1.08074192e+006],\n",
       "       [ 4.25645319e+005,  6.74819971e+005,  6.68346306e+005,\n",
       "         1.05071052e+006,  6.48222142e+005,  1.05995697e+006],\n",
       "       [ 3.68953139e+005,  4.95274084e+005,  6.78002952e+005,\n",
       "         1.45908862e+006,  6.46528157e+005,  1.48664159e+006],\n",
       "       [ 4.66908628e-310,  1.97162271e-001,  4.66908628e-310,\n",
       "        -3.64367485e-001,  4.66908628e-310,  4.19943810e-001],\n",
       "       [ 3.86532905e+005,  5.56419806e+005,  7.17137958e+005,\n",
       "         1.51198695e+006,  6.66529406e+005,  1.40195074e+006],\n",
       "       [ 4.66908628e-310, -2.48455256e-002,  4.66908628e-310,\n",
       "         3.85709852e-003,  4.66908628e-310, -3.78692627e-001],\n",
       "       [ 4.54363137e+005,  7.86899548e+005,  6.40848521e+005,\n",
       "         9.78664080e+005,  6.56828928e+005,  9.96495473e+005],\n",
       "       [ 4.62390436e+005,  8.50368406e+005,  6.80153211e+005,\n",
       "         1.13085866e+006,  6.67238253e+005,  1.10282340e+006],\n",
       "       [ 4.82882797e+005,  8.57780192e+005,  6.57398707e+005,\n",
       "         1.19507475e+006,  6.70045034e+005,  1.19238391e+006],\n",
       "       [ 4.94065646e-324,  4.66908628e-310,  1.02700219e-002,\n",
       "         6.92956981e-310, -1.12095103e-002,  1.38009204e-002],\n",
       "       [ 3.06470737e+005,  4.42356743e+005,  6.81769698e+005,\n",
       "         1.20360437e+006,  6.24316523e+005,  1.09478638e+006],\n",
       "       [ 5.61731638e+005,  9.93744997e+005,  8.60528100e+005,\n",
       "         1.81247427e+006,  9.00117474e+005,  1.92711072e+006],\n",
       "       [ 4.83941930e+005,  8.11783611e+005,  7.58625389e+005,\n",
       "         1.17709225e+006,  6.52979854e+005,  1.07943450e+006],\n",
       "       [ 4.10708113e+005,  6.17191860e+005,  7.59566928e+005,\n",
       "         1.41479205e+006,  5.96840914e+005,  8.90103825e+005],\n",
       "       [ 3.39819572e+005,  5.25022675e+005,  6.36128644e+005,\n",
       "         9.77553254e+005,  6.39509144e+005,  1.02445788e+006],\n",
       "       [ 4.61307783e+005,  7.87043032e+005,  7.50254552e+005,\n",
       "         1.34348285e+006,  6.44365156e+005,  1.22115853e+006],\n",
       "       [ 3.49741585e+005,  4.85629061e+005,  7.35290094e+005,\n",
       "         1.38702359e+006,  7.24050233e+005,  1.32022301e+006],\n",
       "       [-5.80248833e-001,  0.00000000e+000,  3.80405426e-001,\n",
       "         4.66908628e-310,  1.08427334e+000,  0.00000000e+000],\n",
       "       [ 4.06689185e+005,  5.80539977e+005,  7.34024587e+005,\n",
       "         1.24790225e+006,  7.90929047e+005,  1.39177235e+006],\n",
       "       [ 3.63011308e+005,  5.68998430e+005,  6.32655251e+005,\n",
       "         1.15703988e+006,  6.06069913e+005,  1.10892806e+006],\n",
       "       [ 3.65809638e+005,  7.05750886e+005,  6.12121035e+005,\n",
       "         1.06481570e+006,  5.93072294e+005,  1.05005197e+006],\n",
       "       [-9.43714976e-002,  4.66908628e-310,  2.87135124e-001,\n",
       "         4.66908628e-310,  3.92093897e-001,  4.66908628e-310]])"
      ]
     },
     "execution_count": 6,
     "metadata": {},
     "output_type": "execute_result"
    }
   ],
   "source": [
    "\"\"\" \n",
    "Run multiple iterations using Poisson regression\n",
    "\"\"\"\n",
    "score_path = os.path.join(output_dir, \"exp4_poisson_score_\"+str(n_components)+\".csv\")\n",
    "male_count = 120\n",
    "female_count = 100\n",
    "\n",
    "multi_proc_cts(score_path, n_components, admid_diagnosis_df, custom_train_reps, \\\n",
    "    male_count, female_count, model_func = linear_model.PoissonRegressor, iteration=100)"
   ]
  },
  {
   "cell_type": "code",
   "execution_count": 7,
   "metadata": {},
   "outputs": [],
   "source": [
    "# score_path = os.path.join(output_dir, \"exp4_poisson_score_\"+str(n_components)+\".csv\")\n",
    "\n",
    "# save_path = \"../../outputs/mimic/exp4_poisson_res.png\"\n",
    "# box_plot_cts_short(score_path, save_path=save_path)\n"
   ]
  },
  {
   "cell_type": "code",
   "execution_count": 8,
   "metadata": {},
   "outputs": [
    {
     "name": "stdout",
     "output_type": "stream",
     "text": [
      "iteration: 0\n",
      "iteration: 1\n",
      "iteration: 2\n",
      "iteration: 3\n",
      "iteration: 4\n",
      "iteration: 5\n",
      "iteration: 6\n",
      "iteration: 7\n",
      "iteration: 8\n",
      "iteration: 9\n",
      "iteration: 10\n",
      "iteration: 11\n",
      "iteration: 12\n",
      "iteration: 13\n"
     ]
    },
    {
     "name": "stderr",
     "output_type": "stream",
     "text": [
      "/home/wanxinli/miniconda3/lib/python3.9/site-packages/ot/bregman.py:517: UserWarning: Sinkhorn did not converge. You might want to increase the number of iterations `numItermax` or the regularization parameter `reg`.\n",
      "  warnings.warn(\"Sinkhorn did not converge. You might want to \"\n"
     ]
    },
    {
     "name": "stdout",
     "output_type": "stream",
     "text": [
      "iteration: 14\n",
      "iteration: 15\n"
     ]
    },
    {
     "name": "stderr",
     "output_type": "stream",
     "text": [
      "/home/wanxinli/miniconda3/lib/python3.9/site-packages/ot/bregman.py:517: UserWarning: Sinkhorn did not converge. You might want to increase the number of iterations `numItermax` or the regularization parameter `reg`.\n",
      "  warnings.warn(\"Sinkhorn did not converge. You might want to \"\n"
     ]
    },
    {
     "name": "stdout",
     "output_type": "stream",
     "text": [
      "iteration: 16\n"
     ]
    },
    {
     "name": "stderr",
     "output_type": "stream",
     "text": [
      "/home/wanxinli/miniconda3/lib/python3.9/site-packages/ot/bregman.py:517: UserWarning: Sinkhorn did not converge. You might want to increase the number of iterations `numItermax` or the regularization parameter `reg`.\n",
      "  warnings.warn(\"Sinkhorn did not converge. You might want to \"\n"
     ]
    },
    {
     "name": "stdout",
     "output_type": "stream",
     "text": [
      "iteration: 17\n"
     ]
    },
    {
     "name": "stderr",
     "output_type": "stream",
     "text": [
      "/home/wanxinli/miniconda3/lib/python3.9/site-packages/ot/bregman.py:517: UserWarning: Sinkhorn did not converge. You might want to increase the number of iterations `numItermax` or the regularization parameter `reg`.\n",
      "  warnings.warn(\"Sinkhorn did not converge. You might want to \"\n"
     ]
    },
    {
     "name": "stdout",
     "output_type": "stream",
     "text": [
      "iteration: 18\n"
     ]
    },
    {
     "name": "stderr",
     "output_type": "stream",
     "text": [
      "/home/wanxinli/miniconda3/lib/python3.9/site-packages/ot/bregman.py:517: UserWarning: Sinkhorn did not converge. You might want to increase the number of iterations `numItermax` or the regularization parameter `reg`.\n",
      "  warnings.warn(\"Sinkhorn did not converge. You might want to \"\n"
     ]
    },
    {
     "name": "stdout",
     "output_type": "stream",
     "text": [
      "iteration: 19\n",
      "iteration: 20\n",
      "iteration: 21\n",
      "iteration: 22\n",
      "iteration: 23\n",
      "iteration: 24\n",
      "iteration: 25\n",
      "iteration: 26\n"
     ]
    },
    {
     "name": "stderr",
     "output_type": "stream",
     "text": [
      "/home/wanxinli/miniconda3/lib/python3.9/site-packages/ot/bregman.py:517: UserWarning: Sinkhorn did not converge. You might want to increase the number of iterations `numItermax` or the regularization parameter `reg`.\n",
      "  warnings.warn(\"Sinkhorn did not converge. You might want to \"\n"
     ]
    },
    {
     "name": "stdout",
     "output_type": "stream",
     "text": [
      "iteration: 27\n",
      "iteration: 28\n",
      "iteration: 29\n",
      "iteration: 30\n",
      "iteration: 31\n",
      "iteration: 32\n"
     ]
    },
    {
     "name": "stderr",
     "output_type": "stream",
     "text": [
      "/home/wanxinli/miniconda3/lib/python3.9/site-packages/ot/bregman.py:517: UserWarning: Sinkhorn did not converge. You might want to increase the number of iterations `numItermax` or the regularization parameter `reg`.\n",
      "  warnings.warn(\"Sinkhorn did not converge. You might want to \"\n"
     ]
    },
    {
     "name": "stdout",
     "output_type": "stream",
     "text": [
      "iteration: 33\n",
      "iteration: 34\n",
      "iteration: 35\n",
      "iteration: 36\n",
      "iteration: 37\n",
      "iteration: 38\n",
      "iteration: 39\n",
      "iteration: 40\n",
      "iteration: 41\n",
      "iteration: 42\n",
      "iteration: 43\n",
      "iteration: 44\n"
     ]
    },
    {
     "name": "stderr",
     "output_type": "stream",
     "text": [
      "/home/wanxinli/miniconda3/lib/python3.9/site-packages/ot/bregman.py:517: UserWarning: Sinkhorn did not converge. You might want to increase the number of iterations `numItermax` or the regularization parameter `reg`.\n",
      "  warnings.warn(\"Sinkhorn did not converge. You might want to \"\n"
     ]
    },
    {
     "name": "stdout",
     "output_type": "stream",
     "text": [
      "iteration: 45\n",
      "iteration: 46\n",
      "iteration: 47\n"
     ]
    },
    {
     "name": "stderr",
     "output_type": "stream",
     "text": [
      "/home/wanxinli/miniconda3/lib/python3.9/site-packages/ot/bregman.py:517: UserWarning: Sinkhorn did not converge. You might want to increase the number of iterations `numItermax` or the regularization parameter `reg`.\n",
      "  warnings.warn(\"Sinkhorn did not converge. You might want to \"\n"
     ]
    },
    {
     "name": "stdout",
     "output_type": "stream",
     "text": [
      "iteration: 48\n"
     ]
    },
    {
     "name": "stderr",
     "output_type": "stream",
     "text": [
      "/home/wanxinli/miniconda3/lib/python3.9/site-packages/ot/bregman.py:517: UserWarning: Sinkhorn did not converge. You might want to increase the number of iterations `numItermax` or the regularization parameter `reg`.\n",
      "  warnings.warn(\"Sinkhorn did not converge. You might want to \"\n"
     ]
    },
    {
     "name": "stdout",
     "output_type": "stream",
     "text": [
      "iteration: 49\n",
      "iteration: 50\n",
      "iteration: 51\n",
      "iteration: 52\n",
      "iteration: 53\n"
     ]
    },
    {
     "name": "stderr",
     "output_type": "stream",
     "text": [
      "/home/wanxinli/miniconda3/lib/python3.9/site-packages/ot/bregman.py:517: UserWarning: Sinkhorn did not converge. You might want to increase the number of iterations `numItermax` or the regularization parameter `reg`.\n",
      "  warnings.warn(\"Sinkhorn did not converge. You might want to \"\n"
     ]
    },
    {
     "name": "stdout",
     "output_type": "stream",
     "text": [
      "iteration: 54\n",
      "iteration: 55\n",
      "iteration: 56\n",
      "iteration: 57\n",
      "iteration: 58\n",
      "iteration: 59\n",
      "iteration: 60\n",
      "iteration: 61\n",
      "iteration: 62\n",
      "iteration: 63\n",
      "iteration: 64\n"
     ]
    },
    {
     "name": "stderr",
     "output_type": "stream",
     "text": [
      "/home/wanxinli/miniconda3/lib/python3.9/site-packages/ot/bregman.py:517: UserWarning: Sinkhorn did not converge. You might want to increase the number of iterations `numItermax` or the regularization parameter `reg`.\n",
      "  warnings.warn(\"Sinkhorn did not converge. You might want to \"\n"
     ]
    },
    {
     "name": "stdout",
     "output_type": "stream",
     "text": [
      "iteration: 65\n",
      "iteration: 66\n"
     ]
    },
    {
     "name": "stderr",
     "output_type": "stream",
     "text": [
      "/home/wanxinli/miniconda3/lib/python3.9/site-packages/ot/bregman.py:517: UserWarning: Sinkhorn did not converge. You might want to increase the number of iterations `numItermax` or the regularization parameter `reg`.\n",
      "  warnings.warn(\"Sinkhorn did not converge. You might want to \"\n"
     ]
    },
    {
     "name": "stdout",
     "output_type": "stream",
     "text": [
      "iteration: 67\n",
      "iteration: 68\n"
     ]
    },
    {
     "name": "stderr",
     "output_type": "stream",
     "text": [
      "/home/wanxinli/miniconda3/lib/python3.9/site-packages/ot/bregman.py:517: UserWarning: Sinkhorn did not converge. You might want to increase the number of iterations `numItermax` or the regularization parameter `reg`.\n",
      "  warnings.warn(\"Sinkhorn did not converge. You might want to \"\n"
     ]
    },
    {
     "name": "stdout",
     "output_type": "stream",
     "text": [
      "iteration: 69\n"
     ]
    },
    {
     "name": "stderr",
     "output_type": "stream",
     "text": [
      "/home/wanxinli/miniconda3/lib/python3.9/site-packages/ot/bregman.py:517: UserWarning: Sinkhorn did not converge. You might want to increase the number of iterations `numItermax` or the regularization parameter `reg`.\n",
      "  warnings.warn(\"Sinkhorn did not converge. You might want to \"\n"
     ]
    },
    {
     "name": "stdout",
     "output_type": "stream",
     "text": [
      "iteration: 70\n",
      "iteration: 71\n",
      "iteration: 72\n",
      "iteration: 73\n",
      "iteration: 74\n",
      "iteration: 75\n",
      "iteration: 76\n",
      "iteration: 77\n"
     ]
    },
    {
     "name": "stderr",
     "output_type": "stream",
     "text": [
      "/home/wanxinli/miniconda3/lib/python3.9/site-packages/ot/bregman.py:517: UserWarning: Sinkhorn did not converge. You might want to increase the number of iterations `numItermax` or the regularization parameter `reg`.\n",
      "  warnings.warn(\"Sinkhorn did not converge. You might want to \"\n"
     ]
    },
    {
     "name": "stdout",
     "output_type": "stream",
     "text": [
      "iteration: 78\n"
     ]
    },
    {
     "name": "stderr",
     "output_type": "stream",
     "text": [
      "/home/wanxinli/miniconda3/lib/python3.9/site-packages/ot/bregman.py:517: UserWarning: Sinkhorn did not converge. You might want to increase the number of iterations `numItermax` or the regularization parameter `reg`.\n",
      "  warnings.warn(\"Sinkhorn did not converge. You might want to \"\n"
     ]
    },
    {
     "name": "stdout",
     "output_type": "stream",
     "text": [
      "iteration: 79\n",
      "iteration: 80\n",
      "iteration: 81\n",
      "iteration: 82\n",
      "iteration: 83\n",
      "iteration: 84\n",
      "iteration: 85\n",
      "iteration: 86\n"
     ]
    },
    {
     "name": "stderr",
     "output_type": "stream",
     "text": [
      "/home/wanxinli/miniconda3/lib/python3.9/site-packages/ot/bregman.py:517: UserWarning: Sinkhorn did not converge. You might want to increase the number of iterations `numItermax` or the regularization parameter `reg`.\n",
      "  warnings.warn(\"Sinkhorn did not converge. You might want to \"\n"
     ]
    },
    {
     "name": "stdout",
     "output_type": "stream",
     "text": [
      "iteration: 87\n",
      "iteration: 88\n",
      "iteration: 89\n"
     ]
    },
    {
     "name": "stderr",
     "output_type": "stream",
     "text": [
      "/home/wanxinli/miniconda3/lib/python3.9/site-packages/ot/bregman.py:517: UserWarning: Sinkhorn did not converge. You might want to increase the number of iterations `numItermax` or the regularization parameter `reg`.\n",
      "  warnings.warn(\"Sinkhorn did not converge. You might want to \"\n"
     ]
    },
    {
     "name": "stdout",
     "output_type": "stream",
     "text": [
      "iteration: 90\n",
      "iteration: 91\n"
     ]
    },
    {
     "name": "stderr",
     "output_type": "stream",
     "text": [
      "/home/wanxinli/miniconda3/lib/python3.9/site-packages/ot/bregman.py:517: UserWarning: Sinkhorn did not converge. You might want to increase the number of iterations `numItermax` or the regularization parameter `reg`.\n",
      "  warnings.warn(\"Sinkhorn did not converge. You might want to \"\n"
     ]
    },
    {
     "name": "stdout",
     "output_type": "stream",
     "text": [
      "iteration: 92\n",
      "iteration: 93\n"
     ]
    },
    {
     "name": "stderr",
     "output_type": "stream",
     "text": [
      "/home/wanxinli/miniconda3/lib/python3.9/site-packages/ot/bregman.py:517: UserWarning: Sinkhorn did not converge. You might want to increase the number of iterations `numItermax` or the regularization parameter `reg`.\n",
      "  warnings.warn(\"Sinkhorn did not converge. You might want to \"\n"
     ]
    },
    {
     "name": "stdout",
     "output_type": "stream",
     "text": [
      "iteration: 94\n"
     ]
    },
    {
     "name": "stderr",
     "output_type": "stream",
     "text": [
      "/home/wanxinli/miniconda3/lib/python3.9/site-packages/ot/bregman.py:517: UserWarning: Sinkhorn did not converge. You might want to increase the number of iterations `numItermax` or the regularization parameter `reg`.\n",
      "  warnings.warn(\"Sinkhorn did not converge. You might want to \"\n"
     ]
    },
    {
     "name": "stdout",
     "output_type": "stream",
     "text": [
      "iteration: 95\n"
     ]
    },
    {
     "name": "stderr",
     "output_type": "stream",
     "text": [
      "/home/wanxinli/miniconda3/lib/python3.9/site-packages/ot/bregman.py:517: UserWarning: Sinkhorn did not converge. You might want to increase the number of iterations `numItermax` or the regularization parameter `reg`.\n",
      "  warnings.warn(\"Sinkhorn did not converge. You might want to \"\n"
     ]
    },
    {
     "name": "stdout",
     "output_type": "stream",
     "text": [
      "iteration: 96\n"
     ]
    },
    {
     "name": "stderr",
     "output_type": "stream",
     "text": [
      "/home/wanxinli/miniconda3/lib/python3.9/site-packages/ot/bregman.py:517: UserWarning: Sinkhorn did not converge. You might want to increase the number of iterations `numItermax` or the regularization parameter `reg`.\n",
      "  warnings.warn(\"Sinkhorn did not converge. You might want to \"\n"
     ]
    },
    {
     "name": "stdout",
     "output_type": "stream",
     "text": [
      "iteration: 97\n",
      "iteration: 98\n",
      "iteration: 99\n"
     ]
    },
    {
     "name": "stderr",
     "output_type": "stream",
     "text": [
      "/home/wanxinli/miniconda3/lib/python3.9/site-packages/ot/bregman.py:517: UserWarning: Sinkhorn did not converge. You might want to increase the number of iterations `numItermax` or the regularization parameter `reg`.\n",
      "  warnings.warn(\"Sinkhorn did not converge. You might want to \"\n"
     ]
    },
    {
     "data": {
      "text/plain": [
       "array([[ 592054.23854996,  983469.49807033,  732735.20387919,\n",
       "         969128.82867332,  626347.5273816 ,  847387.76595995],\n",
       "       [ 596583.47252143,  912203.33279358,  687240.82431635,\n",
       "         882912.37492235,  601997.39923709,  769977.62640554],\n",
       "       [ 505061.89929804,  877119.19170439,  798208.69571958,\n",
       "        1622575.05443211,  803548.2045827 , 1685915.93891699],\n",
       "       [ 543227.8594644 ,  889383.21656909,  777988.089417  ,\n",
       "        1055918.73040769,  765895.41884598, 1034768.88524491],\n",
       "       [ 558301.11418893,  816793.18106406,  621492.01131535,\n",
       "        1310618.09457612,  609455.66818943, 1327716.41421632],\n",
       "       [ 444477.78329954,  634262.33795804,  547960.31132325,\n",
       "         716091.7168931 ,  520689.33153938,  694261.83182196],\n",
       "       [ 522843.94977257,  841160.99218351,  777720.42700555,\n",
       "        1331465.3102528 ,  725330.12757327, 1295557.23079136],\n",
       "       [ 724269.41022145,  966578.15606248,  929176.20413991,\n",
       "        1277839.59588058,  693076.2902207 , 1047335.12221284],\n",
       "       [ 365811.16286017,  458082.24485444,  654720.29408376,\n",
       "        1403901.34285881,  625631.44277246, 1319635.0609033 ],\n",
       "       [ 342298.17080074,  527400.69286894,  669819.06960802,\n",
       "        1010771.06720133,  644396.08174589, 1034756.90177206],\n",
       "       [ 495267.16586958,  875257.92391549,  823334.41409934,\n",
       "        1135346.20367119,  711088.06598786, 1110858.875057  ],\n",
       "       [ 460128.17925944,  668033.53776499,  701422.21618152,\n",
       "        1394483.03662702,  706601.60205316, 1400660.41148414],\n",
       "       [ 401988.43592527,  571749.3745771 ,  749015.94856035,\n",
       "        1050027.88123744,  691460.6806436 , 1022154.84434006],\n",
       "       [ 539490.63319904,  816508.91110107,  734006.65615785,\n",
       "         929029.66798012,  588149.36574378,  778511.31039083],\n",
       "       [ 516071.94278435,  966792.89805768,  690988.85188302,\n",
       "         921286.08410861,  651579.00143866,  918124.62929036],\n",
       "       [ 346493.96861964,  526179.0339019 ,  645659.5853855 ,\n",
       "         923404.90868115,  623278.32169022,  894135.52454268],\n",
       "       [ 436874.09542835,  701113.36319314,  546144.60375878,\n",
       "         748404.59224139,  553019.08445749,  813498.45981224],\n",
       "       [ 410389.76539545,  719385.03100167,  750397.07573811,\n",
       "        1290886.9989686 ,  773104.72204221, 1386056.97424834],\n",
       "       [ 449529.09509112,  795085.42606446,  640061.75104929,\n",
       "         842426.8739008 ,  583580.6689945 ,  824630.60125993],\n",
       "       [ 697197.3588327 , 1012353.50417001,  966366.70841386,\n",
       "        1459552.92714265,  967714.33921331, 1473961.0360743 ],\n",
       "       [ 382662.83478738,  504335.42785814,  985641.26051453,\n",
       "        1271155.32445944,  674243.91181251, 1039340.53442655],\n",
       "       [ 521795.15346917,  775917.50131092,  805420.13047739,\n",
       "        1181655.23825887,  691006.15570882, 1245796.20638239],\n",
       "       [ 450916.39908254,  708242.66267454,  923976.73676159,\n",
       "        1581532.36369404,  832096.19994361, 1440895.10039534],\n",
       "       [ 614019.14251108, 1208940.80158746,  904613.32047347,\n",
       "        1138558.81254039,  685455.30019512,  942562.69076578],\n",
       "       [ 562204.42347663,  799742.61737186,  692956.79923147,\n",
       "         927097.84613528,  643384.96268731,  873417.45684107],\n",
       "       [ 472702.27405388,  658890.83661093,  688901.84754536,\n",
       "        1000399.92469136,  673135.80292594,  947783.55983828],\n",
       "       [ 410608.31836929,  579317.37485032,  762232.23845288,\n",
       "        1066206.57028663,  629770.66638069,  964465.88025387],\n",
       "       [ 708203.35013077,  941426.59021688, 1351492.73464962,\n",
       "        2172812.94267554,  942544.35095532, 2045131.5861678 ],\n",
       "       [ 479894.16328768,  636713.81849368,  911246.76383943,\n",
       "        1368485.82023232,  693857.4258415 , 1229779.31735506],\n",
       "       [ 461590.59087881,  676435.54413753,  962761.76101076,\n",
       "        1372945.58975353,  760734.94970605, 1204802.5431106 ],\n",
       "       [ 308052.99241941,  419474.16681865,  759226.12717824,\n",
       "        1321913.5905909 ,  639745.29060084, 1173516.39523529],\n",
       "       [ 518690.33333908,  666888.21632086,  987180.34776079,\n",
       "        1731247.73873484,  863923.93968038, 1607567.75574792],\n",
       "       [ 393358.86610867,  606791.53442186,  614991.54088546,\n",
       "        1244706.74415388,  547683.56708529, 1145238.08946454],\n",
       "       [ 451059.89501047,  684417.82823485,  728512.84508042,\n",
       "        1238689.39555981,  718752.91322895, 1167692.51850303],\n",
       "       [ 578760.97029589,  860175.21951035,  904051.93925236,\n",
       "        1254692.74769627,  776622.22050933, 1127661.03296899],\n",
       "       [ 693382.04804594, 1046317.71254059,  802630.69488515,\n",
       "        1093821.35712683,  693915.64926863, 1043523.56031479],\n",
       "       [ 480468.99161099,  655487.32618662,  689105.14346725,\n",
       "         977959.48250209,  581789.06809588,  832117.65459537],\n",
       "       [ 549803.35371211,  763211.00920397, 1370563.58945699,\n",
       "        1988615.27388868,  905885.28706038, 1695193.16041313],\n",
       "       [ 465779.22510656,  917087.31863436,  606957.50139043,\n",
       "         773460.35267367,  531426.56846108,  726500.97096616],\n",
       "       [ 593254.35355378,  859308.27482722,  692357.10350926,\n",
       "         837493.9168567 ,  619610.89456376,  753545.5085076 ],\n",
       "       [ 328637.72891824,  456226.95346966,  618153.35825514,\n",
       "        1329619.56255561,  599635.31507888, 1292965.68875092],\n",
       "       [ 453935.27980146,  667743.78781511,  684532.83539939,\n",
       "        1091714.34622043,  653040.8951343 , 1058961.12813955],\n",
       "       [ 316935.9695304 ,  421773.30552986,  779519.56298954,\n",
       "        1181897.05804123,  642068.59831453, 1099342.37869119],\n",
       "       [ 507889.08793553,  740691.85212371,  804519.94852802,\n",
       "        1396293.0168977 ,  685537.50861584, 1268787.82548171],\n",
       "       [ 454476.30031451,  628424.81541396,  531114.62341503,\n",
       "         737209.32987733,  526115.1990449 ,  745606.74720312],\n",
       "       [ 554093.55041498,  947088.35297583,  733187.10740434,\n",
       "        1017081.1919564 ,  649994.48380513,  953684.21486596],\n",
       "       [ 541291.21193879,  874495.30209683,  931042.59429072,\n",
       "        1532956.58709108,  839763.69301932, 1397756.08312193],\n",
       "       [ 443310.44097306,  594116.68634342,  637838.86068435,\n",
       "         866665.08706248,  551454.3824928 ,  767761.07759509],\n",
       "       [ 585170.78030461,  943548.93211276,  785020.83171326,\n",
       "        1083668.77096785,  708418.87723844, 1003034.27374935],\n",
       "       [ 625469.5185893 , 1001542.24080352, 1073631.76689054,\n",
       "        1513387.51829207,  786152.43974431, 1267184.20026264],\n",
       "       [ 639089.14993028,  966413.10326102,  925024.04766818,\n",
       "        1248223.44519033,  806315.96519931, 1184019.68213286],\n",
       "       [ 519049.32179016,  735181.43390254,  800550.82790323,\n",
       "        1102076.93959329,  708136.51170188, 1063505.67266614],\n",
       "       [ 623361.0475152 ,  972268.43053435, 1199088.77052788,\n",
       "        1603293.10877412,  937229.00573621, 1564204.15644053],\n",
       "       [ 633762.68841598,  941611.72025314,  956537.19336373,\n",
       "        1761820.67408548,  819168.13952189, 1595261.19576119],\n",
       "       [ 434875.94274791,  606471.07949714,  774403.83957348,\n",
       "        1309720.96338185,  659392.95424137, 1242975.47801186],\n",
       "       [ 581918.38851474,  808510.08381759,  762402.17675916,\n",
       "        1302540.75740301,  731790.40432068, 1236926.74121095],\n",
       "       [ 463713.34268485,  700996.98396323, 1027608.65081481,\n",
       "        1506492.62329735,  751491.16577882, 1355775.42102485],\n",
       "       [ 653719.07309332, 1047580.1398157 ,  833260.15885609,\n",
       "        1097374.36919111,  795935.27853991, 1050293.58030617],\n",
       "       [ 415199.66339418,  590404.48812647,  757352.45473776,\n",
       "        1120261.79242361,  642086.97280222, 1016330.83910032],\n",
       "       [ 512986.31688003,  780626.22731487, 1032734.80513949,\n",
       "        1435531.78346588,  718720.71783903, 1114779.09874515],\n",
       "       [ 442148.94152313,  638790.77745303,  625606.66257623,\n",
       "         832348.16436034,  585809.82011586,  782784.33945832],\n",
       "       [ 617037.86601672,  997928.48015052,  637916.48453102,\n",
       "         846097.70467656,  620561.57185584,  815464.71232066],\n",
       "       [ 507403.65910081,  710897.45979884,  708507.84902884,\n",
       "        1013626.69640428,  574516.4176282 ,  893573.63797405],\n",
       "       [ 395011.04201274,  537772.15883417,  755490.73178573,\n",
       "        1179350.02814916,  635624.68425425, 1101913.75144175],\n",
       "       [ 485252.60227739,  817046.3277781 ,  728192.96056864,\n",
       "        1151958.18329499,  661519.43337808, 1078005.5540293 ],\n",
       "       [ 470673.27098132,  704233.08001117,  671333.38658693,\n",
       "         977381.34625888,  622554.64478032,  903236.55184173],\n",
       "       [ 502063.61511589,  672641.37562996,  982026.66721927,\n",
       "        1575447.43948033,  889693.38546664, 1556378.75592004],\n",
       "       [ 359222.81004054,  497511.15649643,  644044.73824316,\n",
       "        1117941.48147752,  649694.77631577, 1128378.30755498],\n",
       "       [ 441512.87814068,  704882.23076202,  746221.17947924,\n",
       "        1140678.74448292,  596195.68186001, 1006803.46991698],\n",
       "       [ 417778.22453071,  595291.72896845,  994138.48004531,\n",
       "        1883909.19585162,  803146.5759329 , 1748148.95798297],\n",
       "       [ 594020.11812459, 1188559.84282459,  760013.93649709,\n",
       "        1106242.37489746,  650346.30862496, 1014257.90134292],\n",
       "       [ 421493.47214974,  602940.58143392,  980628.86544207,\n",
       "        1585350.51738296,  820281.73930743, 1547024.58685929],\n",
       "       [ 418575.77363338,  559901.16087661,  868393.15070816,\n",
       "        1337890.88443602,  831956.35370264, 1311640.75767201],\n",
       "       [ 643143.09766351,  946483.25299596,  892521.32217175,\n",
       "        1225203.88141191,  680657.6772181 ,  967860.4674287 ],\n",
       "       [ 651994.35061652,  986842.17130764,  675712.59840909,\n",
       "         899159.33756257,  674989.96315628,  912907.4148928 ],\n",
       "       [ 477325.48006957,  650385.12853483,  857172.61551196,\n",
       "        1633056.28379693,  869415.84046075, 1760462.69669337],\n",
       "       [ 623035.84968243,  917164.04460583, 1385392.08453533,\n",
       "        2030155.23411493, 1109016.7452156 , 1668437.38171835],\n",
       "       [ 368886.47614169,  530624.43186125,  555064.12161385,\n",
       "         806107.72096245,  540640.89288825,  768766.19881656],\n",
       "       [ 346345.56874729,  511009.41309358,  609777.57025365,\n",
       "         958886.84945431,  579912.10361935,  951572.19121808],\n",
       "       [ 390616.84788462,  602380.90960184,  708647.00415748,\n",
       "         966248.49624586,  614752.33847279,  904164.31585502],\n",
       "       [ 473935.86644052,  781916.42808845,  603240.80143421,\n",
       "         944749.48835018,  576471.6957918 ,  947907.90887726],\n",
       "       [ 676134.50487823, 1171100.60755508,  943788.39877229,\n",
       "        1537880.46243222,  752968.90777636, 1372711.9018524 ],\n",
       "       [ 619057.82948986, 1261654.69062593,  774770.93258061,\n",
       "        1081983.48996737,  723452.49815738, 1011090.31618522],\n",
       "       [ 609497.70654606, 1160770.14103801,  709410.39881624,\n",
       "        1000103.48076576,  712469.31446588,  987601.19516058],\n",
       "       [ 477030.76579781,  900029.27290108,  623263.34000312,\n",
       "         900502.57216491,  627413.37684879,  859108.58359113],\n",
       "       [ 554029.809244  ,  899543.56699902,  631353.33594905,\n",
       "        1085539.64740171,  671065.78986662, 1105493.61346056],\n",
       "       [ 770372.56882793, 1459559.91349732,  865154.59646889,\n",
       "        1109727.0324407 ,  680810.98078257,  936515.93740785],\n",
       "       [ 420700.58120434,  577544.99537335,  989815.92676537,\n",
       "        1511619.23155293,  814354.31686082, 1242869.40310746],\n",
       "       [ 451261.00762241,  659854.76044134,  673720.76344217,\n",
       "         928116.01003915,  554066.04826519,  825688.27419321],\n",
       "       [ 315793.03274118,  434106.93515356,  603095.74702761,\n",
       "        1140369.80560067,  616791.68353357, 1124331.22320201],\n",
       "       [ 393696.64820675,  527636.96911207,  791334.14158688,\n",
       "        1022797.45583691,  611714.18746183,  927341.74783908],\n",
       "       [ 670257.15202173, 1094762.22871545,  833587.5411488 ,\n",
       "        1216972.64998976,  798381.5440413 , 1157076.03840972],\n",
       "       [ 305793.55076337,  413945.65628403,  763478.88524969,\n",
       "        1015472.92395111,  540936.3764959 ,  934213.95117267],\n",
       "       [ 502324.52026379,  794276.37421228,  708127.57584707,\n",
       "         966547.09262152,  604649.56633336,  830227.85803133],\n",
       "       [ 465452.14000018,  618019.61846162,  692468.98290359,\n",
       "        1010540.3884432 ,  652091.25175358, 1012291.50145139],\n",
       "       [ 594974.45058135,  901239.17513927,  740072.92865364,\n",
       "        1013424.43722609,  672599.55590079,  880685.82471052],\n",
       "       [ 588044.16267943,  893211.73117144, 1092464.43650458,\n",
       "        1933106.03371859,  944046.67862369, 1779955.19081616],\n",
       "       [ 489221.21327352,  845818.97702105,  919793.17539608,\n",
       "        1287860.6914874 ,  751457.42068351, 1280186.96327203],\n",
       "       [ 784584.59652731, 1323707.71081239,  942576.38171868,\n",
       "        1281430.34611465,  843868.32974422, 1179407.78670281],\n",
       "       [ 714241.13732684, 1138728.38463118, 1049099.66484203,\n",
       "        1401568.78728426,  906474.59418837, 1270932.05417049]])"
      ]
     },
     "execution_count": 8,
     "metadata": {},
     "output_type": "execute_result"
    }
   ],
   "source": [
    "\"\"\" \n",
    "Run multiple iterations using linear regression\n",
    "\"\"\"\n",
    "score_path = os.path.join(output_dir, \"exp4_linear_score_\"+str(n_components)+\".csv\")\n",
    "male_count = 120\n",
    "female_count = 100\n",
    "\n",
    "multi_proc_cts(score_path, n_components, admid_diagnosis_df, custom_train_reps, \\\n",
    "    male_count, female_count, model_func = linear_model.LinearRegression, iteration=100)"
   ]
  },
  {
   "cell_type": "code",
   "execution_count": 10,
   "metadata": {},
   "outputs": [],
   "source": [
    "# score_path = os.path.join(output_dir, \"exp4_linear_score.csv\")\n",
    "# save_path = \"../../outputs/mimic/exp4_linear_res.png\"\n",
    "\n",
    "# box_plot_cts_short(score_path, save_path=save_path)"
   ]
  },
  {
   "cell_type": "code",
   "execution_count": 11,
   "metadata": {},
   "outputs": [
    {
     "name": "stderr",
     "output_type": "stream",
     "text": [
      "/home/wanxinli/miniconda3/lib/python3.9/site-packages/numpy/core/_methods.py:180: RuntimeWarning: invalid value encountered in reduce\n",
      "  ret = umr_sum(arr, axis, dtype, out, keepdims, where=where)\n"
     ]
    },
    {
     "data": {
      "image/png": "[encoded data removed]",
      "text/plain": [
       "<Figure size 800x800 with 4 Axes>"
      ]
     },
     "metadata": {},
     "output_type": "display_data"
    }
   ],
   "source": [
    "def special_div(x, y):\n",
    "    \"\"\" \n",
    "    Special division operation\n",
    "    \"\"\"\n",
    "    if y == 0:\n",
    "        y = 1e-5\n",
    "    return x/y\n",
    "\n",
    "fig, axes = plt.subplots(nrows=2, ncols=2)\n",
    "fig.set_figheight(8)\n",
    "fig.set_figwidth(8)\n",
    "title_size = 15\n",
    "text_size = 12\n",
    "# plt.subplot(1,2,1)\n",
    "score_path = os.path.join(output_dir, \"exp4_linear_score_\"+str(n_components)+\".csv\")\n",
    "\n",
    "scores_df = pd.read_csv(score_path, index_col=None, header=0)\n",
    "\n",
    "source_mae = scores_df['source_mae']\n",
    "source_rmse = scores_df['source_rmse']\n",
    "\n",
    "trans_source_mae = scores_df['trans_source_mae']\n",
    "trans_source_rmse = scores_df['trans_source_rmse']\n",
    "\n",
    "# transported source to source mae\n",
    "trans_source_source_mae = [special_div(i, j) for i, j in zip(trans_source_mae, source_mae)]\n",
    "\n",
    "# transported source to source rmse\n",
    "trans_source_source_rmse = [special_div(i, j) for i, j in zip(trans_source_rmse, source_rmse)]\n",
    "\n",
    "\n",
    "# Pandas dataframe\n",
    "data = pd.DataFrame({\n",
    "    'MAE': trans_source_source_mae,\n",
    "    'RMSE': trans_source_source_rmse\n",
    "})\n",
    "\n",
    "# Plot the dataframe\n",
    "ax = data[['MAE', 'RMSE']].plot(kind='box', ax=axes[0][0])\n",
    "\n",
    "# Plot the baseline\n",
    "ax.axhline(y = 1, color = 'r', linestyle = '-')\n",
    "\n",
    "ax.tick_params(labelsize=text_size)\n",
    "ax.set_title(r\"$\\bf{(a)}$ $M_2$ Linear\", x=0.08, fontsize=title_size)\n",
    "# r'$\\bf{(b)}$ Trans target embedding'\n",
    "ax.set_ylim(0, 1.25)\n",
    "\n",
    "\n",
    "######################################################\n",
    "\n",
    "score_path = os.path.join(output_dir, \"exp4_poisson_score_\"+str(n_components)+\".csv\")\n",
    "\n",
    "scores_df = pd.read_csv(score_path, index_col=None, header=0)\n",
    "\n",
    "source_mae = scores_df['source_mae']\n",
    "source_rmse = scores_df['source_rmse']\n",
    "\n",
    "trans_source_mae = scores_df['trans_source_mae']\n",
    "trans_source_rmse = scores_df['trans_source_rmse']\n",
    "\n",
    "# transported source to source mae\n",
    "trans_source_source_mae = [special_div(i, j) for i, j in zip(trans_source_mae, source_mae)]\n",
    "\n",
    "# transported source to source rmse\n",
    "trans_source_source_rmse = [special_div(i, j) for i, j in zip(trans_source_rmse, source_rmse)]\n",
    "\n",
    "\n",
    "# Pandas dataframe\n",
    "data = pd.DataFrame({\n",
    "    'MAE': trans_source_source_mae,\n",
    "    'RMSE': trans_source_source_rmse\n",
    "})\n",
    "\n",
    "# Plot the dataframe\n",
    "ax = data[['MAE', 'RMSE']].plot(kind='box', ax=axes[0][1])\n",
    "\n",
    "# Plot the baseline\n",
    "ax.axhline(y = 1, color = 'r', linestyle = '-')\n",
    "\n",
    "ax.tick_params(labelsize=text_size)\n",
    "ax.set_ylim(0, 1.25)\n",
    "ax.set_title(r\"$\\bf{(b)}$ $M_2$ Poisson\", x=0.11, fontsize=title_size)\n",
    "\n",
    "########################### exp5 ###########################\n",
    "score_path = os.path.join(output_dir, \"exp5_linear_score_\"+str(n_components)+\".csv\")\n",
    "\n",
    "scores_df = pd.read_csv(score_path, index_col=None, header=0)\n",
    "\n",
    "source_mae = scores_df['source_mae']\n",
    "source_rmse = scores_df['source_rmse']\n",
    "\n",
    "trans_source_mae = scores_df['trans_source_mae']\n",
    "trans_source_rmse = scores_df['trans_source_rmse']\n",
    "\n",
    "# transported source to source mae\n",
    "trans_source_source_mae = [special_div(i, j) for i, j in zip(trans_source_mae, source_mae)]\n",
    "\n",
    "# transported source to source rmse\n",
    "trans_source_source_rmse = [special_div(i, j) for i, j in zip(trans_source_rmse, source_rmse)]\n",
    "\n",
    "\n",
    "# Pandas dataframe\n",
    "data = pd.DataFrame({\n",
    "    'MAE': trans_source_source_mae,\n",
    "    'RMSE': trans_source_source_rmse\n",
    "})\n",
    "\n",
    "# Plot the dataframe\n",
    "ax = data[['MAE', 'RMSE']].plot(kind='box', ax=axes[1][0])\n",
    "\n",
    "# Plot the baseline\n",
    "ax.axhline(y = 1, color = 'r', linestyle = '-')\n",
    "\n",
    "ax.tick_params(labelsize=text_size)\n",
    "ax.set_ylim(0, 1.25)\n",
    "ax.set_title(r\"$\\bf{(c)}$ $M_3$ Linear\", x=0.08, fontsize=title_size)\n",
    "\n",
    "######################################################\n",
    "\n",
    "score_path = os.path.join(output_dir, \"exp5_poisson_score_\"+str(n_components)+\".csv\")\n",
    "\n",
    "scores_df = pd.read_csv(score_path, index_col=None, header=0)\n",
    "\n",
    "source_mae = scores_df['source_mae']\n",
    "source_rmse = scores_df['source_rmse']\n",
    "\n",
    "trans_source_mae = scores_df['trans_source_mae']\n",
    "trans_source_rmse = scores_df['trans_source_rmse']\n",
    "\n",
    "# transported source to source mae\n",
    "trans_source_source_mae = [special_div(i, j) for i, j in zip(trans_source_mae, source_mae)]\n",
    "\n",
    "# transported source to source rmse\n",
    "trans_source_source_rmse = [special_div(i, j) for i, j in zip(trans_source_rmse, source_rmse)]\n",
    "\n",
    "\n",
    "# Pandas dataframe\n",
    "data = pd.DataFrame({\n",
    "    'MAE': trans_source_source_mae,\n",
    "    'RMSE': trans_source_source_rmse\n",
    "})\n",
    "\n",
    "# Plot the dataframe\n",
    "ax = data[['MAE', 'RMSE']].plot(kind='box', ax=axes[1][1])\n",
    "\n",
    "# Plot the baseline\n",
    "ax.axhline(y = 1, color = 'r', linestyle = '-')\n",
    "\n",
    "ax.tick_params(labelsize=text_size)\n",
    "ax.set_ylim(0, 1.25)\n",
    "ax.set_title(r\"$\\bf{(d)}$ $M_3$ Poisson\", x=0.11, fontsize=title_size)\n",
    "plt.tight_layout()\n",
    "\n",
    "save_path = os.path.join(output_dir, \"exp4_exp5_res_\"+str(n_components)+\".pdf\")\n",
    "plt.savefig(save_path, bbox_inches='tight')\n",
    "plt.show()\n",
    "\n"
   ]
  },
  {
   "cell_type": "code",
   "execution_count": null,
   "metadata": {},
   "outputs": [],
   "source": []
  }
 ],
 "metadata": {
  "kernelspec": {
   "display_name": "base",
   "language": "python",
   "name": "python3"
  },
  "language_info": {
   "codemirror_mode": {
    "name": "ipython",
    "version": 3
   },
   "file_extension": ".py",
   "mimetype": "text/x-python",
   "name": "python",
   "nbconvert_exporter": "python",
   "pygments_lexer": "ipython3",
   "version": "3.9.12"
  },
  "orig_nbformat": 4,
  "vscode": {
   "interpreter": {
    "hash": "e0a164c7fb95af65e1e713e004e1e0ea55c462cdd13e4bdabca6fd60bd9f3176"
   }
  }
 },
 "nbformat": 4,
 "nbformat_minor": 2
}
