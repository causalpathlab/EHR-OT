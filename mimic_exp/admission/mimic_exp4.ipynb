{
 "cells": [
  {
   "attachments": {},
   "cell_type": "markdown",
   "metadata": {},
   "source": [
    "# Explore the relationship between hospitalization duration and diagnosis codes"
   ]
  },
  {
   "cell_type": "code",
   "execution_count": 1,
   "metadata": {},
   "outputs": [
    {
     "name": "stderr",
     "output_type": "stream",
     "text": [
      "/home/wanxinli/miniconda3/lib/python3.9/site-packages/tqdm/auto.py:22: TqdmWarning: IProgress not found. Please update jupyter and ipywidgets. See https://ipywidgets.readthedocs.io/en/stable/user_install.html\n",
      "  from .autonotebook import tqdm as notebook_tqdm\n"
     ]
    }
   ],
   "source": [
    "import sys\n",
    "sys.path.append(\"/home/wanxinli/deep_patient/\")\n",
    "\n",
    "from ast import literal_eval\n",
    "from common import *\n",
    "from mimic_common import *\n",
    "from multiprocess import Pool\n",
    "import os\n",
    "import random\n",
    "from sklearn.linear_model import LogisticRegression\n",
    "from sklearn.svm import SVC\n",
    "from sklearn.svm import SVR\n",
    "from sklearn.decomposition import PCA\n",
    "from sklearn.metrics import precision_score, recall_score, accuracy_score, f1_score\n",
    "import time\n"
   ]
  },
  {
   "cell_type": "code",
   "execution_count": 2,
   "metadata": {},
   "outputs": [
    {
     "name": "stdout",
     "output_type": "stream",
     "text": [
      "Will save outputs to /home/wanxinli/deep_patient/outputs/mimic\n"
     ]
    }
   ],
   "source": [
    "output_dir = os.path.join(os.path.expanduser(\"~\"), f\"deep_patient/outputs/mimic\")\n",
    "print(f\"Will save outputs to {output_dir}\")"
   ]
  },
  {
   "cell_type": "code",
   "execution_count": 3,
   "metadata": {},
   "outputs": [
    {
     "name": "stdout",
     "output_type": "stream",
     "text": [
      "         adm_type gender                                          ICD codes  \\\n",
      "admid                                                                         \n",
      "172335  EMERGENCY      F  [403.01, 486, 582.81, 585.5, 425.4, 276.2, 710...   \n",
      "173633  EMERGENCY      F  [403.01, 585.6, 583.81, 710.0, 558.9, 287.5, 2...   \n",
      "174105  EMERGENCY      M               [531.00, 410.71, 285.9, 414.01, 725]   \n",
      "109976  EMERGENCY      M                             [191.5, 331.4, 530.81]   \n",
      "178393   ELECTIVE      M       [414.01, 411.1, 482.83, 285.9, 272.0, 305.1]   \n",
      "...           ...    ...                                                ...   \n",
      "172304   ELECTIVE      F       [202.80, 348.5, 784.3, 401.9, 272.0, 530.81]   \n",
      "152542  EMERGENCY      M  [566, 250.62, 357.2, V58.67, 427.31, 401.9, 42...   \n",
      "161999  EMERGENCY      M  [434.11, 348.5, 348.4, 430, 348.30, 997.31, 51...   \n",
      "189314  EMERGENCY      F  [346.80, 784.3, 745.5, 781.94, 368.40, 781.3, ...   \n",
      "168949  EMERGENCY      M  [052.9, 416.2, 201.92, 135, 276.69, 517.8, 427...   \n",
      "\n",
      "         duration                                   diagnosis  label  \n",
      "admid                                                                 \n",
      "172335   530460.0                                    LEG PAIN      0  \n",
      "173633   574560.0                              ABDOMINAL PAIN      0  \n",
      "174105   425460.0                      GASTROINTESTINAL BLEED      0  \n",
      "109976  1284240.0                               HYDROCEPHALUS      0  \n",
      "178393   485280.0                                     USA/SDA      0  \n",
      "...           ...                                         ...    ...  \n",
      "172304   449700.0                        LEFT BRAIN TUMOR/SDA      0  \n",
      "152542   415740.0                          PERIRECTAL ABSCESS      0  \n",
      "161999   692940.0                            STROKE;TELEMETRY      0  \n",
      "189314   150060.0  STROKE;TELEMETRY;TRANSIENT ISCHEMIC ATTACK      0  \n",
      "168949   688980.0                              ABDOMINAL PAIN      0  \n",
      "\n",
      "[58976 rows x 6 columns]\n",
      "female: 26026\n",
      "male: 32950\n"
     ]
    }
   ],
   "source": [
    "\"\"\" \n",
    "Read in the original dataframe\n",
    "\"\"\"\n",
    "admid_diagnosis_df = pd.read_csv(\"../../outputs/mimic/ADMID_DIAGNOSIS.csv\", index_col=0, header=0, converters={'ICD codes': literal_eval})\n",
    "print(admid_diagnosis_df)\n",
    "\n",
    "\"\"\" \n",
    "Print number of patients for each category\n",
    "\"\"\"\n",
    "print(\"female:\", admid_diagnosis_df.loc[(admid_diagnosis_df['gender'] == 'F')].shape[0])\n",
    "print(\"male:\", admid_diagnosis_df.loc[(admid_diagnosis_df['gender'] == 'M')].shape[0])\n"
   ]
  },
  {
   "cell_type": "code",
   "execution_count": 6,
   "metadata": {},
   "outputs": [],
   "source": [
    "\"\"\"\n",
    "Train deep patient model and generate representations for targets and sources\n",
    "\"\"\"\n",
    "\n",
    "def custom_train_reps(target_features, source_features, n_components, pca_explain=False):\n",
    "    \"\"\" \n",
    "    Customized training algorithm for generating target representations and source representations\n",
    "\n",
    "    :param bool pca_explain: print the explained variance of each components\n",
    "    \n",
    "    :returns: target representations, source representations\n",
    "    \"\"\"\n",
    "    source_pca = PCA(n_components=n_components)\n",
    "    target_pca = PCA(n_components=n_components)\n",
    "    target_reps = target_pca.fit_transform(target_features)\n",
    "    source_reps = source_pca.fit_transform(source_features)\n",
    "\n",
    "    if pca_explain:\n",
    "        source_exp_var = source_pca.explained_variance_ratio_\n",
    "        source_cum_sum_var = np.cumsum(source_exp_var)\n",
    "        target_exp_var = target_pca.explained_variance_ratio_\n",
    "        target_cum_sum_var = np.cumsum(target_exp_var)\n",
    "        print(\"Cummulative variance explained by the source PCA is:\", source_cum_sum_var[-1])\n",
    "        print(\"Cummulative variance explained by the target PCA is:\", target_cum_sum_var[-1])\n",
    "\n",
    "    return target_reps, source_reps"
   ]
  },
  {
   "cell_type": "code",
   "execution_count": 7,
   "metadata": {},
   "outputs": [
    {
     "name": "stdout",
     "output_type": "stream",
     "text": [
      "Cummulative variance explained by the source PCA is: 0.8035598307109638\n",
      "Cummulative variance explained by the target PCA is: 0.7673796394327478\n"
     ]
    },
    {
     "data": {
      "text/plain": [
       "(322734.5863939676,\n",
       " 422566.62078264385,\n",
       " 932055.6819971352,\n",
       " 1325139.6330307547,\n",
       " 736005.5632676147,\n",
       " 1167119.5230967628)"
      ]
     },
     "execution_count": 7,
     "metadata": {},
     "output_type": "execute_result"
    }
   ],
   "source": [
    "n_components = 50\n",
    "model_func = linear_model.LinearRegression\n",
    "entire_proc_cts(n_components, admid_diagnosis_df, custom_train_reps, model_func, male_count = 120, female_count = 100, pca_explain=True)"
   ]
  },
  {
   "cell_type": "code",
   "execution_count": 6,
   "metadata": {},
   "outputs": [
    {
     "name": "stdout",
     "output_type": "stream",
     "text": [
      "iteration: 0\n",
      "iteration: 1\n",
      "iteration: 2\n",
      "iteration: 3\n",
      "iteration: 4\n"
     ]
    },
    {
     "name": "stderr",
     "output_type": "stream",
     "text": [
      "/home/wanxinli/miniconda3/lib/python3.9/site-packages/ot/bregman.py:517: UserWarning: Sinkhorn did not converge. You might want to increase the number of iterations `numItermax` or the regularization parameter `reg`.\n",
      "  warnings.warn(\"Sinkhorn did not converge. You might want to \"\n"
     ]
    },
    {
     "name": "stdout",
     "output_type": "stream",
     "text": [
      "iteration: 5\n",
      "iteration: 6\n"
     ]
    },
    {
     "name": "stderr",
     "output_type": "stream",
     "text": [
      "/home/wanxinli/miniconda3/lib/python3.9/site-packages/ot/bregman.py:517: UserWarning: Sinkhorn did not converge. You might want to increase the number of iterations `numItermax` or the regularization parameter `reg`.\n",
      "  warnings.warn(\"Sinkhorn did not converge. You might want to \"\n"
     ]
    },
    {
     "name": "stdout",
     "output_type": "stream",
     "text": [
      "iteration: 7\n"
     ]
    },
    {
     "name": "stderr",
     "output_type": "stream",
     "text": [
      "/home/wanxinli/miniconda3/lib/python3.9/site-packages/ot/bregman.py:517: UserWarning: Sinkhorn did not converge. You might want to increase the number of iterations `numItermax` or the regularization parameter `reg`.\n",
      "  warnings.warn(\"Sinkhorn did not converge. You might want to \"\n"
     ]
    },
    {
     "name": "stdout",
     "output_type": "stream",
     "text": [
      "iteration: 8\n",
      "iteration: 9\n",
      "iteration: 10\n"
     ]
    },
    {
     "name": "stderr",
     "output_type": "stream",
     "text": [
      "/home/wanxinli/miniconda3/lib/python3.9/site-packages/ot/bregman.py:517: UserWarning: Sinkhorn did not converge. You might want to increase the number of iterations `numItermax` or the regularization parameter `reg`.\n",
      "  warnings.warn(\"Sinkhorn did not converge. You might want to \"\n"
     ]
    },
    {
     "name": "stdout",
     "output_type": "stream",
     "text": [
      "iteration: 11\n",
      "iteration: 12\n",
      "iteration: 13\n",
      "iteration: 14\n",
      "iteration: 15\n"
     ]
    },
    {
     "name": "stderr",
     "output_type": "stream",
     "text": [
      "/home/wanxinli/miniconda3/lib/python3.9/site-packages/ot/bregman.py:517: UserWarning: Sinkhorn did not converge. You might want to increase the number of iterations `numItermax` or the regularization parameter `reg`.\n",
      "  warnings.warn(\"Sinkhorn did not converge. You might want to \"\n"
     ]
    },
    {
     "name": "stdout",
     "output_type": "stream",
     "text": [
      "iteration: 16\n",
      "iteration: 17\n",
      "iteration: 18\n",
      "iteration: 19\n",
      "iteration: 20\n"
     ]
    },
    {
     "name": "stderr",
     "output_type": "stream",
     "text": [
      "/home/wanxinli/miniconda3/lib/python3.9/site-packages/ot/bregman.py:517: UserWarning: Sinkhorn did not converge. You might want to increase the number of iterations `numItermax` or the regularization parameter `reg`.\n",
      "  warnings.warn(\"Sinkhorn did not converge. You might want to \"\n"
     ]
    },
    {
     "name": "stdout",
     "output_type": "stream",
     "text": [
      "iteration: 21\n"
     ]
    },
    {
     "name": "stderr",
     "output_type": "stream",
     "text": [
      "/home/wanxinli/miniconda3/lib/python3.9/site-packages/ot/bregman.py:517: UserWarning: Sinkhorn did not converge. You might want to increase the number of iterations `numItermax` or the regularization parameter `reg`.\n",
      "  warnings.warn(\"Sinkhorn did not converge. You might want to \"\n"
     ]
    },
    {
     "name": "stdout",
     "output_type": "stream",
     "text": [
      "iteration: 22\n",
      "iteration: 23\n",
      "iteration: 24\n",
      "iteration: 25\n",
      "iteration: 26\n",
      "iteration: 27\n",
      "iteration: 28\n",
      "iteration: 29\n",
      "iteration: 30\n",
      "iteration: 31\n",
      "iteration: 32\n",
      "iteration: 33\n",
      "iteration: 34\n"
     ]
    },
    {
     "name": "stderr",
     "output_type": "stream",
     "text": [
      "/home/wanxinli/miniconda3/lib/python3.9/site-packages/ot/bregman.py:517: UserWarning: Sinkhorn did not converge. You might want to increase the number of iterations `numItermax` or the regularization parameter `reg`.\n",
      "  warnings.warn(\"Sinkhorn did not converge. You might want to \"\n"
     ]
    },
    {
     "name": "stdout",
     "output_type": "stream",
     "text": [
      "iteration: 35\n",
      "iteration: 36\n",
      "iteration: 37\n",
      "iteration: 38\n",
      "iteration: 39\n",
      "iteration: 40\n"
     ]
    },
    {
     "name": "stderr",
     "output_type": "stream",
     "text": [
      "/home/wanxinli/miniconda3/lib/python3.9/site-packages/ot/bregman.py:517: UserWarning: Sinkhorn did not converge. You might want to increase the number of iterations `numItermax` or the regularization parameter `reg`.\n",
      "  warnings.warn(\"Sinkhorn did not converge. You might want to \"\n"
     ]
    },
    {
     "name": "stdout",
     "output_type": "stream",
     "text": [
      "iteration: 41\n",
      "iteration: 42\n",
      "iteration: 43\n",
      "iteration: 44\n",
      "iteration: 45\n",
      "iteration: 46\n",
      "iteration: 47\n",
      "iteration: 48\n",
      "iteration: 49\n",
      "iteration: 50\n"
     ]
    },
    {
     "name": "stderr",
     "output_type": "stream",
     "text": [
      "/home/wanxinli/miniconda3/lib/python3.9/site-packages/ot/bregman.py:517: UserWarning: Sinkhorn did not converge. You might want to increase the number of iterations `numItermax` or the regularization parameter `reg`.\n",
      "  warnings.warn(\"Sinkhorn did not converge. You might want to \"\n"
     ]
    },
    {
     "name": "stdout",
     "output_type": "stream",
     "text": [
      "iteration: 51\n",
      "iteration: 52\n"
     ]
    },
    {
     "name": "stderr",
     "output_type": "stream",
     "text": [
      "/home/wanxinli/miniconda3/lib/python3.9/site-packages/ot/bregman.py:517: UserWarning: Sinkhorn did not converge. You might want to increase the number of iterations `numItermax` or the regularization parameter `reg`.\n",
      "  warnings.warn(\"Sinkhorn did not converge. You might want to \"\n"
     ]
    },
    {
     "name": "stdout",
     "output_type": "stream",
     "text": [
      "iteration: 53\n",
      "iteration: 54\n",
      "iteration: 55\n",
      "iteration: 56\n",
      "iteration: 57\n",
      "iteration: 58\n",
      "iteration: 59\n",
      "iteration: 60\n",
      "iteration: 61\n",
      "iteration: 62\n",
      "iteration: 63\n"
     ]
    },
    {
     "name": "stderr",
     "output_type": "stream",
     "text": [
      "/home/wanxinli/miniconda3/lib/python3.9/site-packages/ot/bregman.py:517: UserWarning: Sinkhorn did not converge. You might want to increase the number of iterations `numItermax` or the regularization parameter `reg`.\n",
      "  warnings.warn(\"Sinkhorn did not converge. You might want to \"\n"
     ]
    },
    {
     "name": "stdout",
     "output_type": "stream",
     "text": [
      "iteration: 64\n",
      "iteration: 65\n",
      "iteration: 66\n",
      "iteration: 67\n",
      "iteration: 68\n",
      "iteration: 69\n",
      "iteration: 70\n",
      "iteration: 71\n",
      "iteration: 72\n",
      "iteration: 73\n"
     ]
    },
    {
     "name": "stderr",
     "output_type": "stream",
     "text": [
      "/home/wanxinli/miniconda3/lib/python3.9/site-packages/ot/bregman.py:517: UserWarning: Sinkhorn did not converge. You might want to increase the number of iterations `numItermax` or the regularization parameter `reg`.\n",
      "  warnings.warn(\"Sinkhorn did not converge. You might want to \"\n"
     ]
    },
    {
     "name": "stdout",
     "output_type": "stream",
     "text": [
      "iteration: 74\n",
      "iteration: 75\n",
      "iteration: 76\n",
      "iteration: 77\n"
     ]
    },
    {
     "name": "stderr",
     "output_type": "stream",
     "text": [
      "/home/wanxinli/miniconda3/lib/python3.9/site-packages/ot/bregman.py:517: UserWarning: Sinkhorn did not converge. You might want to increase the number of iterations `numItermax` or the regularization parameter `reg`.\n",
      "  warnings.warn(\"Sinkhorn did not converge. You might want to \"\n"
     ]
    },
    {
     "name": "stdout",
     "output_type": "stream",
     "text": [
      "iteration: 78\n",
      "iteration: 79\n",
      "iteration: 80\n",
      "iteration: 81\n",
      "iteration: 82\n",
      "iteration: 83\n",
      "iteration: 84\n",
      "iteration: 85\n",
      "iteration: 86\n",
      "iteration: 87\n",
      "iteration: 88\n",
      "iteration: 89\n",
      "iteration: 90\n",
      "iteration: 91\n",
      "iteration: 92\n",
      "iteration: 93\n",
      "iteration: 94\n",
      "iteration: 95\n",
      "iteration: 96\n",
      "iteration: 97\n",
      "iteration: 98\n",
      "iteration: 99\n"
     ]
    },
    {
     "data": {
      "text/plain": [
       "array([[ 244034.88808661,  322363.2247337 ,  745841.98756727,\n",
       "        1208683.21081974,  620277.18396048, 1082671.3744462 ],\n",
       "       [ 286474.71850292,  399262.16438612,  701893.09760331,\n",
       "        1087206.969321  ,  638860.81291576, 1060226.58216586],\n",
       "       [ 250622.0544054 ,  350291.64250125,  706246.5796584 ,\n",
       "        1136433.41383484,  641212.84962535, 1120820.62333433],\n",
       "       [ 239178.6479832 ,  318011.16405893,  762128.42379069,\n",
       "        1217830.12821841,  663634.26903162, 1149291.94180012],\n",
       "       [ 253676.63299406,  345030.63039623,  788864.10734578,\n",
       "        1238264.07039055,  672707.4834231 , 1130338.27908677],\n",
       "       [ 265756.21739712,  362960.14218404,  746076.42702754,\n",
       "        1176181.76657791,  652862.26687841, 1091541.73041475],\n",
       "       [ 250147.14457041,  337058.61302736,  733217.64647424,\n",
       "        1164581.33411418,  618630.65701641, 1066791.54819193],\n",
       "       [ 254568.16781904,  341356.48753415,  726815.90910832,\n",
       "        1162190.09641602,  615145.5430551 , 1101569.25484474],\n",
       "       [ 234394.8816952 ,  315088.06153602,  729046.04332445,\n",
       "        1127386.15832872,  616743.25459145, 1054406.92578707],\n",
       "       [ 241186.81532297,  342764.62165521,  797054.83510168,\n",
       "        1267349.47456747,  600499.72856914, 1017746.34114796],\n",
       "       [ 238203.73628045,  326629.5410468 ,  722899.12796487,\n",
       "        1170134.165286  ,  647600.20950139, 1112416.28070895],\n",
       "       [ 250658.75870531,  341851.09541835,  785919.41961155,\n",
       "        1241471.92217452,  646977.75725051, 1144101.18144888],\n",
       "       [ 268933.71367253,  367509.50777581,  764688.71995831,\n",
       "        1221661.38336937,  632296.35363894, 1107523.89873766],\n",
       "       [ 239652.10426122,  337567.07804501,  790596.36652599,\n",
       "        1369816.43413908,  632998.0208947 , 1078384.95150156],\n",
       "       [ 237874.9829815 ,  334238.7778344 ,  737266.59020475,\n",
       "        1143810.17732233,  658441.54486434, 1147853.68588805],\n",
       "       [ 255726.50249879,  338153.90435019,  757457.91530475,\n",
       "        1206002.8768904 ,  621409.41446294, 1113767.04860596],\n",
       "       [ 268612.08408895,  364188.99537765,  773075.51262543,\n",
       "        1236229.90193933,  673069.13063099, 1157212.65104668],\n",
       "       [ 260531.83254899,  362002.6874064 ,  733585.25788527,\n",
       "        1175075.06307729,  618112.92564409, 1061083.17948331],\n",
       "       [ 259333.3254383 ,  362172.6812103 ,  705853.6337671 ,\n",
       "        1118470.55535175,  654103.41213154, 1135942.27431696],\n",
       "       [ 270365.11013814,  371361.8133297 ,  758659.40989155,\n",
       "        1189094.66334203,  623280.42238979, 1062674.44056239],\n",
       "       [ 256457.51241468,  367114.71384958,  741418.57882304,\n",
       "        1148825.5363518 ,  612903.22558661, 1077593.6628837 ],\n",
       "       [ 239023.03698712,  321546.8122155 ,  757154.48837388,\n",
       "        1206695.46373062,  647458.27433514, 1133103.59763414],\n",
       "       [ 248192.9623092 ,  333764.26329861,  713597.85906222,\n",
       "        1148130.47944755,  609641.01288032, 1040430.67201772],\n",
       "       [ 240813.78749375,  321781.17762492,  733899.32353756,\n",
       "        1133325.45578566,  669109.21470745, 1171978.70158873],\n",
       "       [ 259678.57423896,  349269.80140327,  784609.59705616,\n",
       "        1288523.67681606,  658905.42231064, 1135691.10409599],\n",
       "       [ 249249.10525399,  338103.94468839,  787353.76486091,\n",
       "        1309377.84844059,  636859.62275991, 1103693.22184641],\n",
       "       [ 255908.9011919 ,  344635.3840191 ,  748650.51674632,\n",
       "        1180904.79893006,  652536.4567686 , 1118281.4716927 ],\n",
       "       [ 250372.36073076,  345096.55716918,  723558.4130078 ,\n",
       "        1143834.73363753,  680924.06342011, 1148053.95360174],\n",
       "       [ 232494.48067383,  316963.16265411,  697382.19505948,\n",
       "        1158884.36763946,  605238.0070241 , 1040342.72930324],\n",
       "       [ 251363.29686335,  344931.95877482,  737468.40603703,\n",
       "        1166689.0239649 ,  630514.03376813, 1083415.75770834],\n",
       "       [ 257836.97315954,  340450.87179337,  780767.75502026,\n",
       "        1252150.86876965,  620007.94407844, 1033771.1185566 ],\n",
       "       [ 248384.5585151 ,  336114.59911702,  824209.15061533,\n",
       "        1284769.20422005,  618555.1855436 , 1091755.97847518],\n",
       "       [ 245886.17633267,  350326.57636314,  743100.29399142,\n",
       "        1177242.90141645,  618892.58131426, 1066644.06674706],\n",
       "       [ 256914.71507736,  353258.34346655,  790611.81917084,\n",
       "        1269036.12388655,  642722.61639878, 1097977.36686953],\n",
       "       [ 264590.00584939,  368896.6813264 ,  767121.54904845,\n",
       "        1198304.51125194,  668418.74819344, 1157784.50722013],\n",
       "       [ 267640.29527668,  369427.44221704,  746263.35831152,\n",
       "        1163546.40907258,  656051.23707616, 1123245.62209884],\n",
       "       [ 236977.82281561,  313777.95688363,  748697.29727274,\n",
       "        1178619.47772891,  643071.81159428, 1104699.41713711],\n",
       "       [ 258980.08569651,  349771.21158007,  758109.96063646,\n",
       "        1217360.42554512,  661530.817951  , 1127471.15072446],\n",
       "       [ 281713.86271483,  397224.4545291 ,  789149.65289138,\n",
       "        1255079.89025002,  664003.84834737, 1101043.19123696],\n",
       "       [ 246193.95679355,  347636.5803307 ,  792754.33816685,\n",
       "        1239344.37294955,  644215.66049476, 1088100.97440007],\n",
       "       [ 254194.0149175 ,  357547.11014374,  728028.31640832,\n",
       "        1158522.85336077,  674847.23683533, 1119320.58611536],\n",
       "       [ 255980.13346774,  347846.46708117,  761039.44634378,\n",
       "        1167106.20725647,  642518.81886283, 1037949.61820501],\n",
       "       [ 255034.75537466,  338291.45846767,  791505.50213996,\n",
       "        1263516.96707581,  641469.82238649, 1095269.45077185],\n",
       "       [ 256039.88294317,  358169.50040755,  738328.55644098,\n",
       "        1155156.2666802 ,  656864.26782276, 1114858.47589773],\n",
       "       [ 241542.39278636,  338723.52060523,  725852.24872611,\n",
       "        1186035.25606011,  661772.6755342 , 1079480.27225174],\n",
       "       [ 250874.45834953,  341492.23469901,  825075.88693858,\n",
       "        1224301.99029875,  640210.57331095, 1066457.05415777],\n",
       "       [ 258869.12888803,  354615.96456766,  754378.14226806,\n",
       "        1176690.6537142 ,  651211.17808577, 1132953.78729273],\n",
       "       [ 268767.37713546,  366738.67028734,  729820.16602266,\n",
       "        1125014.28370747,  610625.62875975, 1057940.76608746],\n",
       "       [ 246779.81293537,  330559.83970104,  820754.29648967,\n",
       "        1352083.96815198,  638460.16654619, 1161967.94218986],\n",
       "       [ 235140.90053469,  339917.89792705,  824459.08556013,\n",
       "        1311004.96664767,  642887.28533352, 1083641.14617934],\n",
       "       [ 262162.26248413,  358487.33721357,  813021.21097687,\n",
       "        1270899.00260476,  658360.77895643, 1063090.50732354],\n",
       "       [ 260439.47539321,  346726.88305043,  728167.83961639,\n",
       "        1174111.88952911,  654141.98185585, 1109032.39070328],\n",
       "       [ 241933.64379714,  340096.86535569,  715356.77005678,\n",
       "        1168087.02624399,  618566.97513492, 1138494.00708567],\n",
       "       [ 266665.34833447,  380001.80241102,  765300.7153931 ,\n",
       "        1227653.80220608,  640289.00501356, 1065944.34884786],\n",
       "       [ 259821.64375004,  349477.63153276,  706078.08213902,\n",
       "        1109266.51143712,  661484.76045132, 1177050.03863058],\n",
       "       [ 247187.56596199,  322299.62773125,  766850.44463929,\n",
       "        1201434.36206001,  625329.86340119, 1050173.95281264],\n",
       "       [ 264447.06961685,  375346.16987097,  734614.26917757,\n",
       "        1163725.67059317,  638961.4256067 , 1092556.15663977],\n",
       "       [ 242226.09926583,  323357.30522791,  734032.79262016,\n",
       "        1144154.03481563,  663191.81853683, 1126046.60169087],\n",
       "       [ 280358.02828933,  380730.14888881,  771571.60538943,\n",
       "        1215222.57025372,  647848.26085205, 1136804.09348623],\n",
       "       [ 278214.81169462,  380092.52686308,  727212.13487254,\n",
       "        1117537.61977319,  619891.18774611, 1088024.02701458],\n",
       "       [ 253874.594798  ,  341157.15681664,  727506.81792847,\n",
       "        1128116.75952924,  621089.07366421, 1098938.91250884],\n",
       "       [ 261475.83464659,  361017.51509067,  787997.24924286,\n",
       "        1237091.3644753 ,  633071.20117386, 1091270.37277631],\n",
       "       [ 267744.77575716,  375246.9872847 ,  779547.50071573,\n",
       "        1223198.19840075,  643490.89322964, 1116899.89648135],\n",
       "       [ 246066.53687007,  346926.89298331,  767032.75115959,\n",
       "        1201567.03271098,  614104.72629053, 1088084.95757582],\n",
       "       [ 229607.59574318,  314312.62305155,  758414.22384077,\n",
       "        1223558.00771976,  643677.97261851, 1102964.8780042 ],\n",
       "       [ 238021.92562416,  324876.8595618 ,  783899.35291712,\n",
       "        1293272.02333891,  645709.30661941, 1086870.89157219],\n",
       "       [ 252179.54934349,  356128.68387063,  749509.21369897,\n",
       "        1183036.80477847,  637319.29889721, 1103324.58312641],\n",
       "       [ 249891.64237215,  339573.13216901,  725991.73784011,\n",
       "        1183181.33059993,  643370.79258414, 1082978.17000815],\n",
       "       [ 268265.86514133,  376430.3270595 ,  726584.17506954,\n",
       "        1139187.03058418,  658678.39600854, 1144555.70325161],\n",
       "       [ 260832.17557964,  360469.00280206,  754306.6805592 ,\n",
       "        1167324.1081743 ,  614739.73951986, 1053079.56807472],\n",
       "       [ 261261.82808926,  356089.31682538,  732205.22125311,\n",
       "        1167107.24849353,  648268.96144327, 1131296.84082232],\n",
       "       [ 245493.44867346,  338871.40519064,  791526.35136359,\n",
       "        1261707.33057862,  618360.30820173, 1032749.15005297],\n",
       "       [ 268804.09996682,  374227.0303042 ,  764614.79213087,\n",
       "        1212686.68632823,  628422.56326461, 1095652.75666854],\n",
       "       [ 246727.86257507,  327674.94333645,  771573.04620232,\n",
       "        1230143.94243383,  624006.31370806, 1061350.55257345],\n",
       "       [ 265527.54604412,  368720.45631885,  706677.76504379,\n",
       "        1115546.1415241 ,  628959.68039796, 1097567.75435188],\n",
       "       [ 256535.78283694,  341041.27098457,  761165.84096963,\n",
       "        1190380.85346653,  634935.68157649, 1116461.56992989],\n",
       "       [ 245127.95139575,  325411.57904676,  723505.95138598,\n",
       "        1149286.46446924,  619080.16466941, 1080569.3764079 ],\n",
       "       [ 254471.38670091,  344847.93236539,  795506.69541784,\n",
       "        1255869.78086418,  696374.28636178, 1216488.55014775],\n",
       "       [ 250881.24200103,  343072.18115526,  827847.01021585,\n",
       "        1315904.6361326 ,  679333.55213018, 1117203.63141989],\n",
       "       [ 256574.1885219 ,  351799.88337919,  702062.29266471,\n",
       "        1118872.63794246,  659739.57367987, 1107267.75319221],\n",
       "       [ 265149.53161406,  372541.05361569,  707510.5651624 ,\n",
       "        1108800.33580551,  648612.57465266, 1102850.72441691],\n",
       "       [ 261206.26387316,  357735.45047147,  782701.29924019,\n",
       "        1218187.18716094,  599265.40164913, 1027501.085126  ],\n",
       "       [ 242103.38298212,  329634.1174166 ,  784989.10359249,\n",
       "        1259035.46134159,  648446.05328651, 1141696.4931181 ],\n",
       "       [ 269399.68286465,  371591.58812859,  792223.23883976,\n",
       "        1259585.93981037,  654651.63192278, 1151978.83228724],\n",
       "       [ 260290.27385701,  356414.32151494,  735121.73639185,\n",
       "        1160192.2364522 ,  605698.6741492 , 1039809.65727499],\n",
       "       [ 259798.07789176,  359629.69047507,  812078.44117144,\n",
       "        1322874.13786693,  644114.50572191, 1065367.11697855],\n",
       "       [ 251458.32033598,  340336.33502235,  734021.74155028,\n",
       "        1172961.21161711,  649906.67364892, 1094348.60418394],\n",
       "       [ 270167.57774874,  373517.43170054,  762645.34125045,\n",
       "        1196278.17240124,  641587.81514907, 1092062.14155707],\n",
       "       [ 266660.2465298 ,  370276.81863517,  729234.5629137 ,\n",
       "        1144034.03370083,  619584.23859587, 1058872.59669502],\n",
       "       [ 258209.60215005,  350431.92145144,  792997.43283367,\n",
       "        1327445.8406918 ,  641094.82139997, 1111536.59634268],\n",
       "       [ 275028.89718644,  376201.09930889,  710638.9616084 ,\n",
       "        1124950.00021405,  619885.2877118 , 1082874.41287398],\n",
       "       [ 252096.64506821,  359700.97181901,  761942.30861519,\n",
       "        1232925.86353821,  608419.1102043 , 1064905.86766951],\n",
       "       [ 265177.69767392,  364762.57299284,  734589.63462747,\n",
       "        1210440.7147977 ,  650296.47219956, 1083244.82109939],\n",
       "       [ 261791.28730532,  349397.83746711,  767640.22140473,\n",
       "        1257742.87340663,  664703.24452096, 1151465.07923339],\n",
       "       [ 266057.11316109,  370503.94911598,  698944.77885392,\n",
       "        1119353.751095  ,  583536.66269639, 1006732.08155577],\n",
       "       [ 231655.57306501,  324380.92649995,  805264.84638908,\n",
       "        1331611.47140566,  683232.69946207, 1134995.09235964],\n",
       "       [ 240630.43404616,  320937.22640699,  786042.83896357,\n",
       "        1248442.04946933,  612569.17627928, 1048762.85296156],\n",
       "       [ 256304.70683063,  334764.06254384,  749051.39479866,\n",
       "        1200645.79484142,  634985.48231043, 1097710.85260724],\n",
       "       [ 261011.48469393,  356847.5682806 ,  746233.79904063,\n",
       "        1185200.18808433,  617837.63514086, 1118285.90294466],\n",
       "       [ 242584.04313657,  338887.79927616,  749976.49835204,\n",
       "        1200507.27926781,  621529.08347469, 1104151.45821589]])"
      ]
     },
     "execution_count": 6,
     "metadata": {},
     "output_type": "execute_result"
    }
   ],
   "source": [
    "\"\"\" \n",
    "Run multiple iterations using Poisson regression\n",
    "\"\"\"\n",
    "score_path = os.path.join(output_dir, \"exp4_poisson_score_\"+str(n_components)+\".csv\")\n",
    "male_count = 120\n",
    "female_count = 100\n",
    "\n",
    "multi_proc_cts(score_path, n_components, admid_diagnosis_df, custom_train_reps, \\\n",
    "    male_count, female_count, model_func = linear_model.PoissonRegressor, iteration=100)"
   ]
  },
  {
   "cell_type": "code",
   "execution_count": 18,
   "metadata": {},
   "outputs": [],
   "source": [
    "# score_path = os.path.join(output_dir, \"exp4_poisson_score_\"+str(n_components)+\".csv\")\n",
    "\n",
    "# save_path = \"../../outputs/mimic/exp4_poisson_res.png\"\n",
    "# box_plot_cts_short(score_path, save_path=save_path)\n"
   ]
  },
  {
   "cell_type": "code",
   "execution_count": 8,
   "metadata": {},
   "outputs": [
    {
     "name": "stdout",
     "output_type": "stream",
     "text": [
      "iteration: 0\n",
      "iteration: 1\n",
      "iteration: 2\n",
      "iteration: 3\n",
      "iteration: 4\n",
      "iteration: 5\n",
      "iteration: 6\n",
      "iteration: 7\n",
      "iteration: 8\n"
     ]
    },
    {
     "name": "stderr",
     "output_type": "stream",
     "text": [
      "/home/wanxinli/miniconda3/lib/python3.9/site-packages/ot/bregman.py:517: UserWarning: Sinkhorn did not converge. You might want to increase the number of iterations `numItermax` or the regularization parameter `reg`.\n",
      "  warnings.warn(\"Sinkhorn did not converge. You might want to \"\n"
     ]
    },
    {
     "name": "stdout",
     "output_type": "stream",
     "text": [
      "iteration: 9\n",
      "iteration: 10\n",
      "iteration: 11\n",
      "iteration: 12\n",
      "iteration: 13\n",
      "iteration: 14\n",
      "iteration: 15\n",
      "iteration: 16\n",
      "iteration: 17\n",
      "iteration: 18\n",
      "iteration: 19\n",
      "iteration: 20\n",
      "iteration: 21\n",
      "iteration: 22\n",
      "iteration: 23\n",
      "iteration: 24\n",
      "iteration: 25\n",
      "iteration: 26\n",
      "iteration: 27\n",
      "iteration: 28\n",
      "iteration: 29\n",
      "iteration: 30\n",
      "iteration: 31\n"
     ]
    },
    {
     "name": "stderr",
     "output_type": "stream",
     "text": [
      "/home/wanxinli/miniconda3/lib/python3.9/site-packages/ot/bregman.py:517: UserWarning: Sinkhorn did not converge. You might want to increase the number of iterations `numItermax` or the regularization parameter `reg`.\n",
      "  warnings.warn(\"Sinkhorn did not converge. You might want to \"\n"
     ]
    },
    {
     "name": "stdout",
     "output_type": "stream",
     "text": [
      "iteration: 32\n",
      "iteration: 33\n",
      "iteration: 34\n",
      "iteration: 35\n",
      "iteration: 36\n",
      "iteration: 37\n",
      "iteration: 38\n",
      "iteration: 39\n",
      "iteration: 40\n",
      "iteration: 41\n",
      "iteration: 42\n",
      "iteration: 43\n",
      "iteration: 44\n",
      "iteration: 45\n",
      "iteration: 46\n",
      "iteration: 47\n",
      "iteration: 48\n",
      "iteration: 49\n",
      "iteration: 50\n",
      "iteration: 51\n"
     ]
    },
    {
     "name": "stderr",
     "output_type": "stream",
     "text": [
      "/home/wanxinli/miniconda3/lib/python3.9/site-packages/ot/bregman.py:517: UserWarning: Sinkhorn did not converge. You might want to increase the number of iterations `numItermax` or the regularization parameter `reg`.\n",
      "  warnings.warn(\"Sinkhorn did not converge. You might want to \"\n"
     ]
    },
    {
     "name": "stdout",
     "output_type": "stream",
     "text": [
      "iteration: 52\n",
      "iteration: 53\n"
     ]
    },
    {
     "name": "stderr",
     "output_type": "stream",
     "text": [
      "/home/wanxinli/miniconda3/lib/python3.9/site-packages/ot/bregman.py:517: UserWarning: Sinkhorn did not converge. You might want to increase the number of iterations `numItermax` or the regularization parameter `reg`.\n",
      "  warnings.warn(\"Sinkhorn did not converge. You might want to \"\n"
     ]
    },
    {
     "name": "stdout",
     "output_type": "stream",
     "text": [
      "iteration: 54\n",
      "iteration: 55\n",
      "iteration: 56\n",
      "iteration: 57\n",
      "iteration: 58\n",
      "iteration: 59\n",
      "iteration: 60\n",
      "iteration: 61\n",
      "iteration: 62\n"
     ]
    },
    {
     "name": "stderr",
     "output_type": "stream",
     "text": [
      "/home/wanxinli/miniconda3/lib/python3.9/site-packages/ot/bregman.py:517: UserWarning: Sinkhorn did not converge. You might want to increase the number of iterations `numItermax` or the regularization parameter `reg`.\n",
      "  warnings.warn(\"Sinkhorn did not converge. You might want to \"\n"
     ]
    },
    {
     "name": "stdout",
     "output_type": "stream",
     "text": [
      "iteration: 63\n",
      "iteration: 64\n"
     ]
    },
    {
     "name": "stderr",
     "output_type": "stream",
     "text": [
      "/home/wanxinli/miniconda3/lib/python3.9/site-packages/ot/bregman.py:517: UserWarning: Sinkhorn did not converge. You might want to increase the number of iterations `numItermax` or the regularization parameter `reg`.\n",
      "  warnings.warn(\"Sinkhorn did not converge. You might want to \"\n"
     ]
    },
    {
     "name": "stdout",
     "output_type": "stream",
     "text": [
      "iteration: 65\n",
      "iteration: 66\n",
      "iteration: 67\n",
      "iteration: 68\n",
      "iteration: 69\n",
      "iteration: 70\n"
     ]
    },
    {
     "name": "stderr",
     "output_type": "stream",
     "text": [
      "/home/wanxinli/miniconda3/lib/python3.9/site-packages/ot/bregman.py:517: UserWarning: Sinkhorn did not converge. You might want to increase the number of iterations `numItermax` or the regularization parameter `reg`.\n",
      "  warnings.warn(\"Sinkhorn did not converge. You might want to \"\n"
     ]
    },
    {
     "name": "stdout",
     "output_type": "stream",
     "text": [
      "iteration: 71\n"
     ]
    },
    {
     "name": "stderr",
     "output_type": "stream",
     "text": [
      "/home/wanxinli/miniconda3/lib/python3.9/site-packages/ot/bregman.py:517: UserWarning: Sinkhorn did not converge. You might want to increase the number of iterations `numItermax` or the regularization parameter `reg`.\n",
      "  warnings.warn(\"Sinkhorn did not converge. You might want to \"\n"
     ]
    },
    {
     "name": "stdout",
     "output_type": "stream",
     "text": [
      "iteration: 72\n",
      "iteration: 73\n",
      "iteration: 74\n",
      "iteration: 75\n",
      "iteration: 76\n",
      "iteration: 77\n"
     ]
    },
    {
     "name": "stderr",
     "output_type": "stream",
     "text": [
      "/home/wanxinli/miniconda3/lib/python3.9/site-packages/ot/bregman.py:517: UserWarning: Sinkhorn did not converge. You might want to increase the number of iterations `numItermax` or the regularization parameter `reg`.\n",
      "  warnings.warn(\"Sinkhorn did not converge. You might want to \"\n"
     ]
    },
    {
     "name": "stdout",
     "output_type": "stream",
     "text": [
      "iteration: 78\n",
      "iteration: 79\n",
      "iteration: 80\n",
      "iteration: 81\n",
      "iteration: 82\n",
      "iteration: 83\n",
      "iteration: 84\n",
      "iteration: 85\n",
      "iteration: 86\n",
      "iteration: 87\n",
      "iteration: 88\n",
      "iteration: 89\n",
      "iteration: 90\n",
      "iteration: 91\n",
      "iteration: 92\n"
     ]
    },
    {
     "name": "stderr",
     "output_type": "stream",
     "text": [
      "/home/wanxinli/miniconda3/lib/python3.9/site-packages/ot/bregman.py:517: UserWarning: Sinkhorn did not converge. You might want to increase the number of iterations `numItermax` or the regularization parameter `reg`.\n",
      "  warnings.warn(\"Sinkhorn did not converge. You might want to \"\n"
     ]
    },
    {
     "name": "stdout",
     "output_type": "stream",
     "text": [
      "iteration: 93\n",
      "iteration: 94\n",
      "iteration: 95\n"
     ]
    },
    {
     "name": "stderr",
     "output_type": "stream",
     "text": [
      "/home/wanxinli/miniconda3/lib/python3.9/site-packages/ot/bregman.py:517: UserWarning: Sinkhorn did not converge. You might want to increase the number of iterations `numItermax` or the regularization parameter `reg`.\n",
      "  warnings.warn(\"Sinkhorn did not converge. You might want to \"\n"
     ]
    },
    {
     "name": "stdout",
     "output_type": "stream",
     "text": [
      "iteration: 96\n"
     ]
    },
    {
     "name": "stderr",
     "output_type": "stream",
     "text": [
      "/home/wanxinli/miniconda3/lib/python3.9/site-packages/ot/bregman.py:517: UserWarning: Sinkhorn did not converge. You might want to increase the number of iterations `numItermax` or the regularization parameter `reg`.\n",
      "  warnings.warn(\"Sinkhorn did not converge. You might want to \"\n"
     ]
    },
    {
     "name": "stdout",
     "output_type": "stream",
     "text": [
      "iteration: 97\n",
      "iteration: 98\n",
      "iteration: 99\n"
     ]
    },
    {
     "data": {
      "text/plain": [
       "array([[ 326986.81693005,  426496.24978262,  927734.01435784,\n",
       "        1288647.59233696,  702584.21322798, 1178882.52103365],\n",
       "       [ 309538.89169035,  409964.16057547,  956980.99333949,\n",
       "        1354768.2430356 ,  726120.03826248, 1199236.31199403],\n",
       "       [ 326758.43257997,  412957.82463734,  924024.4408119 ,\n",
       "        1338660.41792245,  714602.48615624, 1205073.61062445],\n",
       "       [ 327034.36888501,  434719.60515335,  893567.13254687,\n",
       "        1347212.59828491,  697322.72188767, 1158602.55978918],\n",
       "       [ 304534.12820013,  408209.04062341,  936503.09017366,\n",
       "        1344234.64025969,  675519.20558872, 1109359.80000524],\n",
       "       [ 314883.36358107,  407538.95282513,  922434.79419148,\n",
       "        1304355.10750035,  673520.22337744, 1111114.05354745],\n",
       "       [ 294227.52557442,  388547.87762535,  944195.48071901,\n",
       "        1310117.59857294,  725116.23997643, 1181271.62657682],\n",
       "       [ 319084.80191586,  417786.73097626,  920427.51902706,\n",
       "        1313952.91349702,  705342.05846138, 1192591.79727994],\n",
       "       [ 327360.27150801,  425387.06555959,  926413.71183996,\n",
       "        1325720.91888998,  690605.1433924 , 1132107.90164737],\n",
       "       [ 317284.59271748,  411986.81954797,  930920.55373256,\n",
       "        1335098.45739338,  660497.9436966 , 1073496.04525503],\n",
       "       [ 315472.24997499,  414077.95334539,  899377.2368522 ,\n",
       "        1297981.66012657,  703501.85825139, 1130866.24861548],\n",
       "       [ 306273.0684395 ,  403229.98873936,  914113.39340564,\n",
       "        1348867.03470389,  703609.34886367, 1144294.66480629],\n",
       "       [ 308064.41248058,  417797.18729966,  922342.94521808,\n",
       "        1330553.63618324,  737175.56748561, 1175931.20549138],\n",
       "       [ 324106.29911776,  417530.48318569,  926022.917043  ,\n",
       "        1347714.79212171,  697117.29019858, 1130123.80939973],\n",
       "       [ 328065.84070144,  424523.19440066,  919323.04553193,\n",
       "        1305665.49920741,  679147.06016872, 1089068.55569498],\n",
       "       [ 328729.34233383,  431745.21060461,  887090.10428037,\n",
       "        1313095.93058422,  709110.70686072, 1168170.73118855],\n",
       "       [ 327957.70708389,  425159.99658616,  934859.33838035,\n",
       "        1297954.15470398,  706551.83300918, 1146138.96154563],\n",
       "       [ 323118.25335497,  413223.12671624,  911605.95420291,\n",
       "        1280006.99903888,  639812.48731294, 1042993.77907677],\n",
       "       [ 331890.50533416,  439361.68685135,  910386.78109873,\n",
       "        1309930.13480995,  715269.81095248, 1157921.44281987],\n",
       "       [ 324085.27180496,  427671.7745583 ,  930358.79674105,\n",
       "        1292142.01231516,  725351.48008636, 1217595.33521827],\n",
       "       [ 321900.31084187,  430091.2288352 ,  923735.27227856,\n",
       "        1339617.10836218,  741015.0927766 , 1234043.43546052],\n",
       "       [ 325683.94344687,  425823.4480564 ,  899095.30221455,\n",
       "        1350590.08532593,  704164.20320858, 1178408.71290671],\n",
       "       [ 326160.17769591,  425992.17024516,  912482.457792  ,\n",
       "        1343307.16932386,  718907.15191109, 1198013.7760224 ],\n",
       "       [ 314980.61952673,  418960.13416102,  903151.44008794,\n",
       "        1347009.40894801,  707953.65016364, 1171323.31885737],\n",
       "       [ 324163.27445235,  434889.65152569,  929983.23927488,\n",
       "        1299306.47824606,  711191.30357761, 1137720.83488812],\n",
       "       [ 314394.13855496,  431664.53659763,  939281.45292989,\n",
       "        1380788.36883026,  741451.17733343, 1223484.09440202],\n",
       "       [ 316062.4042661 ,  427895.26885657,  905652.9363521 ,\n",
       "        1315118.12311595,  694814.47776387, 1142703.54609038],\n",
       "       [ 310225.63095559,  417887.4862097 ,  920090.66031671,\n",
       "        1346400.55179263,  702516.30576865, 1154842.73584372],\n",
       "       [ 319675.85011558,  419035.46409646,  920806.83523191,\n",
       "        1314982.08092523,  681432.15913181, 1128301.8013104 ],\n",
       "       [ 321782.82182536,  429526.21640221,  918325.84991785,\n",
       "        1344807.36988457,  703063.37063467, 1099786.30312773],\n",
       "       [ 318192.73604115,  408848.7965183 ,  913316.44035923,\n",
       "        1322753.87147767,  647891.57953703, 1113011.9451239 ],\n",
       "       [ 328428.08551135,  439956.7376236 ,  924095.74085924,\n",
       "        1303046.41321517,  674947.54900635, 1116409.76015101],\n",
       "       [ 319114.81768781,  428124.24718464,  923711.3648432 ,\n",
       "        1354345.0134735 ,  713257.70448945, 1180165.47918859],\n",
       "       [ 308233.17415886,  404816.84928729,  912453.36356228,\n",
       "        1300439.46473642,  684057.86310005, 1118555.38348324],\n",
       "       [ 324163.2021895 ,  435923.01742574,  924485.13207165,\n",
       "        1324092.57862548,  725470.82440212, 1189595.00068701],\n",
       "       [ 303946.82213897,  393259.70233753,  955325.0887403 ,\n",
       "        1382566.403606  ,  714654.67684191, 1205694.42048612],\n",
       "       [ 310004.52608886,  417630.35923086,  942438.28927881,\n",
       "        1330408.32522093,  687072.22346074, 1119386.1632866 ],\n",
       "       [ 323730.7138402 ,  421619.06692772,  954193.90157136,\n",
       "        1351109.12375983,  691572.95556795, 1161801.93754876],\n",
       "       [ 322181.54166601,  427083.74792014,  913991.3797496 ,\n",
       "        1304408.49433597,  682396.3852121 , 1097304.40758183],\n",
       "       [ 333321.85332799,  426100.07675841,  895768.80218226,\n",
       "        1328753.85622186,  713594.38626499, 1172851.07555154],\n",
       "       [ 352727.33484665,  461856.49737679,  904619.34504965,\n",
       "        1298806.2404626 ,  692316.91251182, 1133710.11219853],\n",
       "       [ 334967.00383619,  425027.00276119,  933216.5006823 ,\n",
       "        1312402.37106528,  708197.15720697, 1134074.23056461],\n",
       "       [ 318307.48431005,  424981.93916754,  922150.91482059,\n",
       "        1341436.01738143,  723674.13654448, 1166179.229121  ],\n",
       "       [ 304613.15682957,  417221.69985441,  907288.86620065,\n",
       "        1336257.93279402,  726550.19278557, 1187271.94201502],\n",
       "       [ 323601.01936817,  437838.85346211,  917510.34664469,\n",
       "        1326553.40236111,  685137.41741789, 1108690.91891479],\n",
       "       [ 310215.79563813,  411831.86181085,  904742.00929167,\n",
       "        1384566.98417422,  717507.60643958, 1159526.94351068],\n",
       "       [ 302761.72130873,  410655.04778123,  921159.08088812,\n",
       "        1367457.20633615,  710250.34600083, 1143944.02213064],\n",
       "       [ 295560.83807478,  398998.88726892,  898343.7690489 ,\n",
       "        1329854.1269632 ,  706448.6894033 , 1161743.12294893],\n",
       "       [ 313725.3341761 ,  407544.41322797,  938987.26165033,\n",
       "        1368255.74466247,  721515.14942796, 1158864.38199638],\n",
       "       [ 323963.65224891,  433529.86649301,  919708.92688541,\n",
       "        1334525.92634277,  702468.50088766, 1165127.94651124],\n",
       "       [ 311721.89208446,  417624.00402395,  884347.71825773,\n",
       "        1352001.65446365,  686557.73519371, 1176802.04535691],\n",
       "       [ 336015.95462166,  430532.15270587,  942619.11271073,\n",
       "        1347496.85818575,  717241.22861874, 1190761.73144325],\n",
       "       [ 300568.14766714,  407783.36351507,  934186.90716092,\n",
       "        1334427.90184545,  693069.85844411, 1105651.70468789],\n",
       "       [ 302489.21109906,  398502.48896088,  928117.58670972,\n",
       "        1379872.7925312 ,  724342.97607662, 1184201.89630649],\n",
       "       [ 323229.66537315,  416584.13676869,  978272.37007968,\n",
       "        1369598.84568161,  747317.76278757, 1223497.76659646],\n",
       "       [ 313796.09454721,  420693.94123077,  911624.66732101,\n",
       "        1356971.61175517,  705786.67159394, 1153458.82946032],\n",
       "       [ 327720.43478688,  423442.4323048 ,  920307.90130354,\n",
       "        1342881.4030991 ,  673226.10280376, 1182285.44290232],\n",
       "       [ 327001.99503903,  428135.85214665,  912441.70670718,\n",
       "        1322674.53372195,  690083.75713224, 1157920.46444879],\n",
       "       [ 313158.30524183,  407510.79130692,  950619.94835196,\n",
       "        1374199.03816147,  710085.12371451, 1182890.60695887],\n",
       "       [ 333529.60795573,  431536.95843346,  928892.90303653,\n",
       "        1342613.96192481,  712201.86828673, 1200296.87208125],\n",
       "       [ 308841.53225212,  419374.20573746,  893271.84224333,\n",
       "        1319825.38458668,  711976.82402962, 1169597.52266824],\n",
       "       [ 320532.13175696,  416697.63794602,  905949.70653276,\n",
       "        1337290.56411502,  704283.62083705, 1168861.93282968],\n",
       "       [ 296471.48674999,  402503.59359944,  939889.85101592,\n",
       "        1317106.50722023,  682737.69690212, 1147732.9944902 ],\n",
       "       [ 330784.20208394,  417107.94393612,  909142.1706487 ,\n",
       "        1306069.93932367,  711401.01489577, 1153874.37321168],\n",
       "       [ 335866.78036713,  440474.50166208,  896637.14106278,\n",
       "        1337324.41870127,  686083.50390099, 1131941.65772234],\n",
       "       [ 337602.55183068,  435186.67040458,  898162.34337173,\n",
       "        1344480.62372025,  698174.39191651, 1202190.25290092],\n",
       "       [ 313849.29600136,  421632.2782997 ,  931682.10301506,\n",
       "        1348887.93153667,  680517.53312725, 1112698.97513416],\n",
       "       [ 324924.05889379,  414137.65174111,  886053.16914997,\n",
       "        1342734.7850365 ,  707676.59770884, 1163792.57441834],\n",
       "       [ 313977.52917727,  406465.84042346,  908169.99847133,\n",
       "        1317407.93882951,  692327.37946968, 1117989.60023592],\n",
       "       [ 317586.52959446,  410927.34807963,  892588.28194127,\n",
       "        1290701.13049676,  683322.10194321, 1161692.69875807],\n",
       "       [ 338450.65512052,  439969.17975996,  914907.70688983,\n",
       "        1299960.54017182,  715434.97979686, 1181218.03116112],\n",
       "       [ 326619.77406675,  429993.94581272,  892447.35576795,\n",
       "        1334718.19534589,  692983.60194395, 1206446.67531449],\n",
       "       [ 296008.05997799,  389985.54071585,  942545.19566644,\n",
       "        1327422.60292066,  701113.86810758, 1105080.41989109],\n",
       "       [ 328491.69551732,  432041.85468544,  935315.5278143 ,\n",
       "        1361941.95249817,  744700.57715931, 1171018.49836037],\n",
       "       [ 332479.53426686,  431186.58388045,  917916.83008442,\n",
       "        1336893.14957176,  700794.06492566, 1143284.57426969],\n",
       "       [ 322322.72145099,  417594.58160282,  915551.20060495,\n",
       "        1344177.62968733,  694712.7766501 , 1111629.46975429],\n",
       "       [ 327562.50540825,  420403.96757884,  931303.78974987,\n",
       "        1328319.71548951,  685084.20600798, 1067860.89980268],\n",
       "       [ 312250.03938616,  410134.79487544,  931737.01634542,\n",
       "        1327055.63721529,  663521.58212967, 1098455.51408008],\n",
       "       [ 332276.21606991,  428496.51371863,  928135.10102526,\n",
       "        1345454.9385591 ,  718066.10989888, 1202499.80592735],\n",
       "       [ 316227.43352958,  423128.87172142,  896863.24128299,\n",
       "        1325408.70174598,  723026.30169688, 1207591.35207779],\n",
       "       [ 328944.57559286,  430033.50582663,  937728.57458835,\n",
       "        1352595.11065955,  693013.16070312, 1160065.80692123],\n",
       "       [ 332809.27138542,  426386.45538748,  908527.39006944,\n",
       "        1311375.01154794,  684919.06906841, 1114893.43428135],\n",
       "       [ 315973.16211738,  414029.5266083 ,  930392.43616383,\n",
       "        1324474.11753662,  665528.33255887, 1109519.38953691],\n",
       "       [ 314929.99968355,  415085.66847722,  941724.95257383,\n",
       "        1372492.2073357 ,  727642.85807043, 1179066.48215588],\n",
       "       [ 324347.94755453,  433574.06242906,  881078.47527484,\n",
       "        1327112.51532067,  692911.47446791, 1185647.65558852],\n",
       "       [ 321073.8513389 ,  423001.90412234,  913220.5706563 ,\n",
       "        1324879.4149273 ,  727084.54070261, 1220112.52689868],\n",
       "       [ 328627.54581538,  430429.2773066 ,  958742.93508853,\n",
       "        1316851.63546094,  710211.87250254, 1150126.62566435],\n",
       "       [ 338723.07461841,  434457.44580002,  948192.09972168,\n",
       "        1301393.97757749,  705777.67251265, 1140688.74514674],\n",
       "       [ 330110.60040724,  434721.51262861,  923227.74216186,\n",
       "        1342769.83953464,  705692.49791381, 1161019.02144796],\n",
       "       [ 317542.60393434,  412037.36528883,  941346.95014028,\n",
       "        1356576.51283692,  697939.77018345, 1145638.48559562],\n",
       "       [ 312774.1563761 ,  417126.68224633,  895526.33993949,\n",
       "        1314012.8409652 ,  713434.59911405, 1184607.00695801],\n",
       "       [ 327416.10506628,  419904.16864   ,  932111.37618305,\n",
       "        1342565.36103886,  682856.08409482, 1119413.05059905],\n",
       "       [ 328822.18555419,  415270.78933267,  913853.44070482,\n",
       "        1367865.9295043 ,  694036.30244418, 1141579.86851462],\n",
       "       [ 341785.50793086,  444890.20006622,  932378.91004726,\n",
       "        1368978.79933273,  723335.69141162, 1143538.1231442 ],\n",
       "       [ 313490.17832321,  417768.072663  ,  935307.92616953,\n",
       "        1353088.75307336,  712116.264996  , 1162692.91628807],\n",
       "       [ 332542.76492195,  432579.37945633,  948832.88384135,\n",
       "        1344663.77420604,  712933.88125008, 1139578.6795906 ],\n",
       "       [ 311210.21421269,  409610.72148025,  928002.61715943,\n",
       "        1357889.53108097,  691498.14455269, 1140284.04166405],\n",
       "       [ 328783.72293284,  429653.55104207,  917337.63241446,\n",
       "        1341840.01551921,  704476.9426947 , 1113102.74262639],\n",
       "       [ 328564.47215431,  440209.53468249,  934126.71553389,\n",
       "        1349316.58692289,  721284.84054034, 1164347.58984587],\n",
       "       [ 320769.57417436,  429975.99118206,  895022.36916224,\n",
       "        1274156.01806074,  638156.82720165, 1080895.44490752]])"
      ]
     },
     "execution_count": 8,
     "metadata": {},
     "output_type": "execute_result"
    }
   ],
   "source": [
    "\"\"\" \n",
    "Run multiple iterations using linear regression\n",
    "\"\"\"\n",
    "score_path = os.path.join(output_dir, \"exp4_linear_score_\"+str(n_components)+\".csv\")\n",
    "male_count = 120\n",
    "female_count = 100\n",
    "\n",
    "multi_proc_cts(score_path, n_components, admid_diagnosis_df, custom_train_reps, \\\n",
    "    male_count, female_count, model_func = linear_model.LinearRegression, iteration=100)"
   ]
  },
  {
   "cell_type": "code",
   "execution_count": 20,
   "metadata": {},
   "outputs": [],
   "source": [
    "# score_path = os.path.join(output_dir, \"exp4_linear_score.csv\")\n",
    "# save_path = \"../../outputs/mimic/exp4_linear_res.png\"\n",
    "\n",
    "# box_plot_cts_short(score_path, save_path=save_path)"
   ]
  },
  {
   "cell_type": "code",
   "execution_count": 41,
   "metadata": {},
   "outputs": [
    {
     "name": "stdout",
     "output_type": "stream",
     "text": [
      "mae ratio using linear is: 0.7649548494940779\n",
      "rmse ratio using linear is: 0.8643828397937844\n",
      "mae ratio using poisson is: 0.8451120341533844\n",
      "rmse ratio using poisson is: 0.9154057848628719\n",
      "mae ratio to TCA using linear is: 0.8337621334316695\n",
      "rmse ratio to TCA using linear is: 0.9037384005721683\n",
      "mae ratio to TCA using poisson is: 0.755543446360696\n",
      "rmse ratio to TCA using poisson is: 0.8536507917842849\n"
     ]
    },
    {
     "data": {
      "image/png": "[encoded data removed]",
      "text/plain": [
       "<Figure size 950x800 with 4 Axes>"
      ]
     },
     "metadata": {},
     "output_type": "display_data"
    }
   ],
   "source": [
    "\"\"\" \n",
    "Combine plots for MIMIC experiment 4 together\n",
    "\"\"\"\n",
    "n_components = 50\n",
    "def special_div(x, y):\n",
    "    \"\"\" \n",
    "    Special division operation\n",
    "    \"\"\"\n",
    "    if y == 0:\n",
    "        y = 1e-5\n",
    "    return x/y\n",
    "\n",
    "fig, axes = plt.subplots(nrows=2, ncols=2)\n",
    "fig.set_figheight(8)\n",
    "fig.set_figwidth(9.5)\n",
    "title_size = 15\n",
    "text_size = 12\n",
    "linear_score_path = os.path.join(output_dir, \"exp4_linear_score_\"+str(n_components)+\".csv\")\n",
    "\n",
    "linear_scores_df = pd.read_csv(linear_score_path, index_col=None, header=0)\n",
    "\n",
    "target_mae = linear_scores_df['target_mae']\n",
    "target_rmse = linear_scores_df['target_rmse']\n",
    "\n",
    "trans_target_mae = linear_scores_df['trans_target_mae']\n",
    "trans_target_rmse = linear_scores_df['trans_target_rmse']\n",
    "\n",
    "# transported source to source mae\n",
    "trans_target_target_mae = [special_div(i, j) for i, j in zip(trans_target_mae, target_mae)]\n",
    "print(\"mae ratio using linear is:\", median(trans_target_target_mae))\n",
    "# transported source to source rmse\n",
    "trans_target_target_rmse = [special_div(i, j) for i, j in zip(trans_target_rmse, target_rmse)]\n",
    "print(\"rmse ratio using linear is:\", median(trans_target_target_rmse))\n",
    "\n",
    "\n",
    "# Pandas dataframe\n",
    "data = pd.DataFrame({\n",
    "    'MAE ratio': trans_target_target_mae,\n",
    "    'RMSE ratio': trans_target_target_rmse\n",
    "})\n",
    "\n",
    "# Plot the dataframe\n",
    "ax = data[['MAE ratio', 'RMSE ratio']].plot(kind='box', ax=axes[0][0])\n",
    "\n",
    "# Plot the baseline\n",
    "ax.axhline(y = 1, color = 'r', linestyle = '-')\n",
    "\n",
    "ax.tick_params(labelsize=text_size)\n",
    "ax.set_ylim(0.64, 1.08)\n",
    "ax.set_title(r\"$\\bf{(a)}$ Compared to basic using Linear\", x=0.42, fontsize=title_size)\n",
    "\n",
    "\n",
    "######################################################\n",
    "\n",
    "poisson_score_path = os.path.join(output_dir, \"exp4_poisson_score_\"+str(n_components)+\".csv\")\n",
    "\n",
    "poisson_scores_df = pd.read_csv(poisson_score_path, index_col=None, header=0)\n",
    "\n",
    "target_mae = poisson_scores_df['target_mae']\n",
    "target_rmse = poisson_scores_df['target_rmse']\n",
    "\n",
    "trans_target_mae = poisson_scores_df['trans_target_mae']\n",
    "trans_target_rmse = poisson_scores_df['trans_target_rmse']\n",
    "\n",
    "# transported source to source mae\n",
    "trans_target_target_mae = [special_div(i, j) for i, j in zip(trans_target_mae, target_mae)]\n",
    "print(\"mae ratio using poisson is:\", median(trans_target_target_mae))\n",
    "\n",
    "# transported source to source rmse\n",
    "trans_target_target_rmse = [special_div(i, j) for i, j in zip(trans_target_rmse, target_rmse)]\n",
    "print(\"rmse ratio using poisson is:\", median(trans_target_target_rmse))\n",
    "\n",
    "\n",
    "# Pandas dataframe\n",
    "data = pd.DataFrame({\n",
    "    'MAE ratio': trans_target_target_mae,\n",
    "    'RMSE ratio': trans_target_target_rmse\n",
    "})\n",
    "\n",
    "# Plot the dataframe\n",
    "ax = data[['MAE ratio', 'RMSE ratio']].plot(kind='box', ax=axes[0][1])\n",
    "\n",
    "# Plot the baseline\n",
    "ax.axhline(y = 1, color = 'r', linestyle = '-')\n",
    "\n",
    "ax.tick_params(labelsize=text_size)\n",
    "ax.set_ylim(0.64, 1.08)\n",
    "ax.set_title(r\"$\\bf{(b)}$ Compared to basic using Poisson\", x=0.42, fontsize=title_size)\n",
    "\n",
    "#####################################################\n",
    "tca_linear_score_path = os.path.join(output_dir, \"exp4_tca_linear_score.csv\")\n",
    "\n",
    "tca_linear_scores_df = pd.read_csv(tca_linear_score_path, index_col=None, header=0)\n",
    "\n",
    "ot_target_mae = linear_scores_df['trans_target_mae']\n",
    "ot_target_rmse = linear_scores_df['trans_target_rmse']\n",
    "\n",
    "tca_target_mae = tca_linear_scores_df['trans_target_mae']\n",
    "tca_target_rmse = tca_linear_scores_df['trans_target_rmse']\n",
    "\n",
    "# transported source to source mae\n",
    "trans_target_target_mae = [special_div(i, j) for i, j in zip(ot_target_mae, tca_target_mae)]\n",
    "print(\"mae ratio to TCA using linear is:\", median(trans_target_target_mae))\n",
    "\n",
    "# transported source to source rmse\n",
    "trans_target_target_rmse = [special_div(i, j) for i, j in zip(ot_target_rmse, tca_target_rmse)]\n",
    "print(\"rmse ratio to TCA using linear is:\", median(trans_target_target_rmse))\n",
    "\n",
    "# Pandas dataframe\n",
    "data = pd.DataFrame({\n",
    "    'MAE ratio': trans_target_target_mae,\n",
    "    'RMSE ratio': trans_target_target_rmse\n",
    "})\n",
    "\n",
    "# Plot the dataframe\n",
    "ax = data[['MAE ratio', 'RMSE ratio']].plot(kind='box', ax=axes[1][0])\n",
    "\n",
    "# Plot the baseline\n",
    "ax.axhline(y = 1, color = 'r', linestyle = '-')\n",
    "\n",
    "ax.tick_params(labelsize=text_size)\n",
    "ax.set_ylim(0.64, 1.08)\n",
    "ax.set_title(r\"$\\bf{(c)}$ Compared to TCA using Linear\", x=0.40, fontsize=title_size)\n",
    "\n",
    "\n",
    "####################################################\n",
    "tca_poisson_score_path = os.path.join(output_dir, \"exp4_tca_poisson_score.csv\")\n",
    "\n",
    "tca_poisson_scores_df = pd.read_csv(tca_linear_score_path, index_col=None, header=0)\n",
    "\n",
    "ot_target_mae = poisson_scores_df['trans_target_mae']\n",
    "ot_target_rmse = poisson_scores_df['trans_target_rmse']\n",
    "\n",
    "tca_target_mae = tca_poisson_scores_df['trans_target_mae']\n",
    "tca_target_rmse = tca_poisson_scores_df['trans_target_rmse']\n",
    "\n",
    "# transported source to source mae\n",
    "trans_target_target_mae = [special_div(i, j) for i, j in zip(ot_target_mae, tca_target_mae)]\n",
    "print(\"mae ratio to TCA using poisson is:\", median(trans_target_target_mae))\n",
    "\n",
    "# transported source to source rmse\n",
    "trans_target_target_rmse = [special_div(i, j) for i, j in zip(ot_target_rmse, tca_target_rmse)]\n",
    "print(\"rmse ratio to TCA using poisson is:\", median(trans_target_target_rmse))\n",
    "\n",
    "# Pandas dataframe\n",
    "data = pd.DataFrame({\n",
    "    'MAE ratio': trans_target_target_mae,\n",
    "    'RMSE ratio': trans_target_target_rmse\n",
    "})\n",
    "\n",
    "# Plot the dataframe\n",
    "ax = data[['MAE ratio', 'RMSE ratio']].plot(kind='box', ax=axes[1][1])\n",
    "\n",
    "# Plot the baseline\n",
    "ax.axhline(y = 1, color = 'r', linestyle = '-')\n",
    "\n",
    "ax.tick_params(labelsize=text_size)\n",
    "ax.set_ylim(0.64, 1.08)\n",
    "ax.set_title(r\"$\\bf{(d)}$ Compared to TCA using Poisson\", x=0.42, fontsize=title_size)\n",
    "save_path = os.path.join(output_dir, \"exp4_res.pdf\")\n",
    "plt.savefig(save_path, bbox_inches='tight')"
   ]
  },
  {
   "cell_type": "code",
   "execution_count": null,
   "metadata": {},
   "outputs": [],
   "source": []
  }
 ],
 "metadata": {
  "kernelspec": {
   "display_name": "base",
   "language": "python",
   "name": "python3"
  },
  "language_info": {
   "codemirror_mode": {
    "name": "ipython",
    "version": 3
   },
   "file_extension": ".py",
   "mimetype": "text/x-python",
   "name": "python",
   "nbconvert_exporter": "python",
   "pygments_lexer": "ipython3",
   "version": "3.9.12"
  },
  "orig_nbformat": 4,
  "vscode": {
   "interpreter": {
    "hash": "e0a164c7fb95af65e1e713e004e1e0ea55c462cdd13e4bdabca6fd60bd9f3176"
   }
  }
 },
 "nbformat": 4,
 "nbformat_minor": 2
}
