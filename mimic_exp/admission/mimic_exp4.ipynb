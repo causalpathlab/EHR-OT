{
 "cells": [
  {
   "attachments": {},
   "cell_type": "markdown",
   "metadata": {},
   "source": [
    "# Explore the relationship between hospitalization duration and diagnosis codes"
   ]
  },
  {
   "cell_type": "code",
   "execution_count": 1,
   "metadata": {},
   "outputs": [
    {
     "name": "stderr",
     "output_type": "stream",
     "text": [
      "/home/wanxinli/miniconda3/lib/python3.9/site-packages/tqdm/auto.py:22: TqdmWarning: IProgress not found. Please update jupyter and ipywidgets. See https://ipywidgets.readthedocs.io/en/stable/user_install.html\n",
      "  from .autonotebook import tqdm as notebook_tqdm\n"
     ]
    }
   ],
   "source": [
    "import sys\n",
    "sys.path.append(\"/home/wanxinli/deep_patient/\")\n",
    "\n",
    "from ast import literal_eval\n",
    "from common import *\n",
    "from mimic_common import *\n",
    "from multiprocess import Pool\n",
    "import os\n",
    "import random\n",
    "from sklearn.linear_model import LogisticRegression\n",
    "from sklearn.svm import SVC\n",
    "from sklearn.svm import SVR\n",
    "from sklearn.decomposition import PCA\n",
    "from sklearn.metrics import precision_score, recall_score, accuracy_score, f1_score\n",
    "import time\n"
   ]
  },
  {
   "cell_type": "code",
   "execution_count": 2,
   "metadata": {},
   "outputs": [
    {
     "name": "stdout",
     "output_type": "stream",
     "text": [
      "Will save outputs to /home/wanxinli/deep_patient/outputs/mimic\n"
     ]
    }
   ],
   "source": [
    "output_dir = os.path.join(os.path.expanduser(\"~\"), f\"deep_patient/outputs/mimic\")\n",
    "print(f\"Will save outputs to {output_dir}\")"
   ]
  },
  {
   "cell_type": "code",
   "execution_count": 3,
   "metadata": {},
   "outputs": [
    {
     "name": "stdout",
     "output_type": "stream",
     "text": [
      "         adm_type gender                                          ICD codes  \\\n",
      "admid                                                                         \n",
      "172335  EMERGENCY      F  [403.01, 486, 582.81, 585.5, 425.4, 276.2, 710...   \n",
      "173633  EMERGENCY      F  [403.01, 585.6, 583.81, 710.0, 558.9, 287.5, 2...   \n",
      "174105  EMERGENCY      M               [531.00, 410.71, 285.9, 414.01, 725]   \n",
      "109976  EMERGENCY      M                             [191.5, 331.4, 530.81]   \n",
      "178393   ELECTIVE      M       [414.01, 411.1, 482.83, 285.9, 272.0, 305.1]   \n",
      "...           ...    ...                                                ...   \n",
      "172304   ELECTIVE      F       [202.80, 348.5, 784.3, 401.9, 272.0, 530.81]   \n",
      "152542  EMERGENCY      M  [566, 250.62, 357.2, V58.67, 427.31, 401.9, 42...   \n",
      "161999  EMERGENCY      M  [434.11, 348.5, 348.4, 430, 348.30, 997.31, 51...   \n",
      "189314  EMERGENCY      F  [346.80, 784.3, 745.5, 781.94, 368.40, 781.3, ...   \n",
      "168949  EMERGENCY      M  [052.9, 416.2, 201.92, 135, 276.69, 517.8, 427...   \n",
      "\n",
      "         duration                                   diagnosis  label  \n",
      "admid                                                                 \n",
      "172335   530460.0                                    LEG PAIN      0  \n",
      "173633   574560.0                              ABDOMINAL PAIN      0  \n",
      "174105   425460.0                      GASTROINTESTINAL BLEED      0  \n",
      "109976  1284240.0                               HYDROCEPHALUS      0  \n",
      "178393   485280.0                                     USA/SDA      0  \n",
      "...           ...                                         ...    ...  \n",
      "172304   449700.0                        LEFT BRAIN TUMOR/SDA      0  \n",
      "152542   415740.0                          PERIRECTAL ABSCESS      0  \n",
      "161999   692940.0                            STROKE;TELEMETRY      0  \n",
      "189314   150060.0  STROKE;TELEMETRY;TRANSIENT ISCHEMIC ATTACK      0  \n",
      "168949   688980.0                              ABDOMINAL PAIN      0  \n",
      "\n",
      "[58976 rows x 6 columns]\n",
      "female: 26026\n",
      "male: 32950\n"
     ]
    }
   ],
   "source": [
    "\"\"\" \n",
    "Read in the original dataframe\n",
    "\"\"\"\n",
    "admid_diagnosis_df = pd.read_csv(\"../../outputs/mimic/ADMID_DIAGNOSIS.csv\", index_col=0, header=0, converters={'ICD codes': literal_eval})\n",
    "print(admid_diagnosis_df)\n",
    "\n",
    "\"\"\" \n",
    "Print number of patients for each category\n",
    "\"\"\"\n",
    "print(\"female:\", admid_diagnosis_df.loc[(admid_diagnosis_df['gender'] == 'F')].shape[0])\n",
    "print(\"male:\", admid_diagnosis_df.loc[(admid_diagnosis_df['gender'] == 'M')].shape[0])\n"
   ]
  },
  {
   "cell_type": "code",
   "execution_count": 5,
   "metadata": {},
   "outputs": [],
   "source": [
    "\"\"\"\n",
    "Train deep patient model and generate representations for targets and sources\n",
    "\"\"\"\n",
    "\n",
    "def custom_train_reps(target_features, source_features, n_components, pca_explain=False):\n",
    "    \"\"\" \n",
    "    Customized training algorithm for generating target representations and source representations\n",
    "\n",
    "    :param bool pca_explain: print the explained variance of each components\n",
    "    \n",
    "    :returns: target representations, source representations\n",
    "    \"\"\"\n",
    "    source_pca = PCA(n_components=n_components)\n",
    "    target_pca = PCA(n_components=n_components)\n",
    "    target_reps = target_pca.fit_transform(target_features)\n",
    "    source_reps = source_pca.fit_transform(source_features)\n",
    "\n",
    "    if pca_explain:\n",
    "        source_exp_var = source_pca.explained_variance_ratio_\n",
    "        source_cum_sum_var = np.cumsum(source_exp_var)\n",
    "        target_exp_var = target_pca.explained_variance_ratio_\n",
    "        target_cum_sum_var = np.cumsum(target_exp_var)\n",
    "        print(\"Cummulative variance explained by the source PCA is:\", source_cum_sum_var)\n",
    "        print(\"Cummulative variance explained by the target PCA is:\", target_cum_sum_var)\n",
    "\n",
    "    return target_reps, source_reps"
   ]
  },
  {
   "cell_type": "code",
   "execution_count": 6,
   "metadata": {},
   "outputs": [
    {
     "data": {
      "text/plain": [
       "(311598.8831611434,\n",
       " 437852.5763781627,\n",
       " 780161.856774614,\n",
       " 1115338.2473082338,\n",
       " 612561.8710742671,\n",
       " 990269.3340301445)"
      ]
     },
     "execution_count": 6,
     "metadata": {},
     "output_type": "execute_result"
    }
   ],
   "source": [
    "n_components = 50\n",
    "model_func = linear_model.LinearRegression\n",
    "entire_proc_cts(n_components, admid_diagnosis_df, custom_train_reps, model_func, male_count = 120, female_count = 100, pca_explain=False)"
   ]
  },
  {
   "cell_type": "code",
   "execution_count": 7,
   "metadata": {},
   "outputs": [
    {
     "name": "stdout",
     "output_type": "stream",
     "text": [
      "iteration: 0\n",
      "iteration: 1\n",
      "iteration: 2\n",
      "cannot fit the regression model\n",
      "iteration: 3\n",
      "cannot fit the regression model\n",
      "iteration: 4\n"
     ]
    },
    {
     "name": "stderr",
     "output_type": "stream",
     "text": [
      "/home/wanxinli/miniconda3/lib/python3.9/site-packages/ot/bregman.py:517: UserWarning: Sinkhorn did not converge. You might want to increase the number of iterations `numItermax` or the regularization parameter `reg`.\n",
      "  warnings.warn(\"Sinkhorn did not converge. You might want to \"\n"
     ]
    },
    {
     "name": "stdout",
     "output_type": "stream",
     "text": [
      "iteration: 5\n"
     ]
    },
    {
     "name": "stderr",
     "output_type": "stream",
     "text": [
      "/home/wanxinli/miniconda3/lib/python3.9/site-packages/ot/bregman.py:517: UserWarning: Sinkhorn did not converge. You might want to increase the number of iterations `numItermax` or the regularization parameter `reg`.\n",
      "  warnings.warn(\"Sinkhorn did not converge. You might want to \"\n"
     ]
    },
    {
     "name": "stdout",
     "output_type": "stream",
     "text": [
      "iteration: 6\n",
      "iteration: 7\n",
      "iteration: 8\n",
      "iteration: 9\n"
     ]
    },
    {
     "name": "stderr",
     "output_type": "stream",
     "text": [
      "/home/wanxinli/miniconda3/lib/python3.9/site-packages/ot/bregman.py:517: UserWarning: Sinkhorn did not converge. You might want to increase the number of iterations `numItermax` or the regularization parameter `reg`.\n",
      "  warnings.warn(\"Sinkhorn did not converge. You might want to \"\n"
     ]
    },
    {
     "name": "stdout",
     "output_type": "stream",
     "text": [
      "iteration: 10\n",
      "cannot fit the regression model\n",
      "iteration: 11\n",
      "iteration: 12\n",
      "iteration: 13\n",
      "iteration: 14\n"
     ]
    },
    {
     "name": "stderr",
     "output_type": "stream",
     "text": [
      "/home/wanxinli/miniconda3/lib/python3.9/site-packages/ot/bregman.py:517: UserWarning: Sinkhorn did not converge. You might want to increase the number of iterations `numItermax` or the regularization parameter `reg`.\n",
      "  warnings.warn(\"Sinkhorn did not converge. You might want to \"\n"
     ]
    },
    {
     "name": "stdout",
     "output_type": "stream",
     "text": [
      "iteration: 15\n",
      "iteration: 16\n",
      "iteration: 17\n",
      "iteration: 18\n"
     ]
    },
    {
     "name": "stderr",
     "output_type": "stream",
     "text": [
      "/home/wanxinli/miniconda3/lib/python3.9/site-packages/ot/bregman.py:517: UserWarning: Sinkhorn did not converge. You might want to increase the number of iterations `numItermax` or the regularization parameter `reg`.\n",
      "  warnings.warn(\"Sinkhorn did not converge. You might want to \"\n"
     ]
    },
    {
     "name": "stdout",
     "output_type": "stream",
     "text": [
      "iteration: 19\n"
     ]
    },
    {
     "name": "stderr",
     "output_type": "stream",
     "text": [
      "/home/wanxinli/miniconda3/lib/python3.9/site-packages/ot/bregman.py:517: UserWarning: Sinkhorn did not converge. You might want to increase the number of iterations `numItermax` or the regularization parameter `reg`.\n",
      "  warnings.warn(\"Sinkhorn did not converge. You might want to \"\n"
     ]
    },
    {
     "name": "stdout",
     "output_type": "stream",
     "text": [
      "iteration: 20\n"
     ]
    },
    {
     "name": "stderr",
     "output_type": "stream",
     "text": [
      "/home/wanxinli/miniconda3/lib/python3.9/site-packages/ot/bregman.py:517: UserWarning: Sinkhorn did not converge. You might want to increase the number of iterations `numItermax` or the regularization parameter `reg`.\n",
      "  warnings.warn(\"Sinkhorn did not converge. You might want to \"\n"
     ]
    },
    {
     "name": "stdout",
     "output_type": "stream",
     "text": [
      "iteration: 21\n"
     ]
    },
    {
     "name": "stderr",
     "output_type": "stream",
     "text": [
      "/home/wanxinli/miniconda3/lib/python3.9/site-packages/ot/bregman.py:517: UserWarning: Sinkhorn did not converge. You might want to increase the number of iterations `numItermax` or the regularization parameter `reg`.\n",
      "  warnings.warn(\"Sinkhorn did not converge. You might want to \"\n"
     ]
    },
    {
     "name": "stdout",
     "output_type": "stream",
     "text": [
      "iteration: 22\n",
      "iteration: 23\n",
      "cannot fit the regression model\n",
      "iteration: 24\n"
     ]
    },
    {
     "name": "stderr",
     "output_type": "stream",
     "text": [
      "/home/wanxinli/miniconda3/lib/python3.9/site-packages/ot/bregman.py:517: UserWarning: Sinkhorn did not converge. You might want to increase the number of iterations `numItermax` or the regularization parameter `reg`.\n",
      "  warnings.warn(\"Sinkhorn did not converge. You might want to \"\n"
     ]
    },
    {
     "name": "stdout",
     "output_type": "stream",
     "text": [
      "iteration: 25\n",
      "iteration: 26\n",
      "iteration: 27\n",
      "iteration: 28\n",
      "iteration: 29\n",
      "iteration: 30\n",
      "cannot fit the regression model\n",
      "iteration: 31\n",
      "iteration: 32\n",
      "iteration: 33\n",
      "cannot fit the regression model\n",
      "iteration: 34\n",
      "iteration: 35\n"
     ]
    },
    {
     "name": "stderr",
     "output_type": "stream",
     "text": [
      "/home/wanxinli/miniconda3/lib/python3.9/site-packages/ot/bregman.py:517: UserWarning: Sinkhorn did not converge. You might want to increase the number of iterations `numItermax` or the regularization parameter `reg`.\n",
      "  warnings.warn(\"Sinkhorn did not converge. You might want to \"\n"
     ]
    },
    {
     "name": "stdout",
     "output_type": "stream",
     "text": [
      "iteration: 36\n",
      "cannot fit the regression model\n",
      "iteration: 37\n"
     ]
    },
    {
     "name": "stderr",
     "output_type": "stream",
     "text": [
      "/home/wanxinli/miniconda3/lib/python3.9/site-packages/ot/bregman.py:517: UserWarning: Sinkhorn did not converge. You might want to increase the number of iterations `numItermax` or the regularization parameter `reg`.\n",
      "  warnings.warn(\"Sinkhorn did not converge. You might want to \"\n"
     ]
    },
    {
     "name": "stdout",
     "output_type": "stream",
     "text": [
      "iteration: 38\n",
      "iteration: 39\n",
      "cannot fit the regression model\n",
      "iteration: 40\n",
      "iteration: 41\n"
     ]
    },
    {
     "name": "stderr",
     "output_type": "stream",
     "text": [
      "/home/wanxinli/miniconda3/lib/python3.9/site-packages/ot/bregman.py:517: UserWarning: Sinkhorn did not converge. You might want to increase the number of iterations `numItermax` or the regularization parameter `reg`.\n",
      "  warnings.warn(\"Sinkhorn did not converge. You might want to \"\n"
     ]
    },
    {
     "name": "stdout",
     "output_type": "stream",
     "text": [
      "iteration: 42\n"
     ]
    },
    {
     "name": "stderr",
     "output_type": "stream",
     "text": [
      "/home/wanxinli/miniconda3/lib/python3.9/site-packages/ot/bregman.py:517: UserWarning: Sinkhorn did not converge. You might want to increase the number of iterations `numItermax` or the regularization parameter `reg`.\n",
      "  warnings.warn(\"Sinkhorn did not converge. You might want to \"\n"
     ]
    },
    {
     "name": "stdout",
     "output_type": "stream",
     "text": [
      "iteration: 43\n",
      "iteration: 44\n"
     ]
    },
    {
     "name": "stderr",
     "output_type": "stream",
     "text": [
      "/home/wanxinli/miniconda3/lib/python3.9/site-packages/ot/bregman.py:517: UserWarning: Sinkhorn did not converge. You might want to increase the number of iterations `numItermax` or the regularization parameter `reg`.\n",
      "  warnings.warn(\"Sinkhorn did not converge. You might want to \"\n"
     ]
    },
    {
     "name": "stdout",
     "output_type": "stream",
     "text": [
      "iteration: 45\n"
     ]
    },
    {
     "name": "stderr",
     "output_type": "stream",
     "text": [
      "/home/wanxinli/miniconda3/lib/python3.9/site-packages/ot/bregman.py:517: UserWarning: Sinkhorn did not converge. You might want to increase the number of iterations `numItermax` or the regularization parameter `reg`.\n",
      "  warnings.warn(\"Sinkhorn did not converge. You might want to \"\n"
     ]
    },
    {
     "name": "stdout",
     "output_type": "stream",
     "text": [
      "iteration: 46\n"
     ]
    },
    {
     "name": "stderr",
     "output_type": "stream",
     "text": [
      "/home/wanxinli/miniconda3/lib/python3.9/site-packages/ot/bregman.py:517: UserWarning: Sinkhorn did not converge. You might want to increase the number of iterations `numItermax` or the regularization parameter `reg`.\n",
      "  warnings.warn(\"Sinkhorn did not converge. You might want to \"\n"
     ]
    },
    {
     "name": "stdout",
     "output_type": "stream",
     "text": [
      "iteration: 47\n"
     ]
    },
    {
     "name": "stderr",
     "output_type": "stream",
     "text": [
      "/home/wanxinli/miniconda3/lib/python3.9/site-packages/ot/bregman.py:517: UserWarning: Sinkhorn did not converge. You might want to increase the number of iterations `numItermax` or the regularization parameter `reg`.\n",
      "  warnings.warn(\"Sinkhorn did not converge. You might want to \"\n"
     ]
    },
    {
     "name": "stdout",
     "output_type": "stream",
     "text": [
      "iteration: 48\n"
     ]
    },
    {
     "name": "stderr",
     "output_type": "stream",
     "text": [
      "/home/wanxinli/miniconda3/lib/python3.9/site-packages/ot/bregman.py:517: UserWarning: Sinkhorn did not converge. You might want to increase the number of iterations `numItermax` or the regularization parameter `reg`.\n",
      "  warnings.warn(\"Sinkhorn did not converge. You might want to \"\n"
     ]
    },
    {
     "name": "stdout",
     "output_type": "stream",
     "text": [
      "iteration: 49\n",
      "iteration: 50\n",
      "iteration: 51\n"
     ]
    },
    {
     "name": "stderr",
     "output_type": "stream",
     "text": [
      "/home/wanxinli/miniconda3/lib/python3.9/site-packages/ot/bregman.py:517: UserWarning: Sinkhorn did not converge. You might want to increase the number of iterations `numItermax` or the regularization parameter `reg`.\n",
      "  warnings.warn(\"Sinkhorn did not converge. You might want to \"\n"
     ]
    },
    {
     "name": "stdout",
     "output_type": "stream",
     "text": [
      "iteration: 52\n",
      "iteration: 53\n"
     ]
    },
    {
     "name": "stderr",
     "output_type": "stream",
     "text": [
      "/home/wanxinli/miniconda3/lib/python3.9/site-packages/ot/bregman.py:517: UserWarning: Sinkhorn did not converge. You might want to increase the number of iterations `numItermax` or the regularization parameter `reg`.\n",
      "  warnings.warn(\"Sinkhorn did not converge. You might want to \"\n"
     ]
    },
    {
     "name": "stdout",
     "output_type": "stream",
     "text": [
      "iteration: 54\n"
     ]
    },
    {
     "name": "stderr",
     "output_type": "stream",
     "text": [
      "/home/wanxinli/miniconda3/lib/python3.9/site-packages/ot/bregman.py:517: UserWarning: Sinkhorn did not converge. You might want to increase the number of iterations `numItermax` or the regularization parameter `reg`.\n",
      "  warnings.warn(\"Sinkhorn did not converge. You might want to \"\n"
     ]
    },
    {
     "name": "stdout",
     "output_type": "stream",
     "text": [
      "iteration: 55\n",
      "iteration: 56\n",
      "cannot fit the regression model\n",
      "iteration: 57\n"
     ]
    },
    {
     "name": "stderr",
     "output_type": "stream",
     "text": [
      "/home/wanxinli/miniconda3/lib/python3.9/site-packages/ot/bregman.py:517: UserWarning: Sinkhorn did not converge. You might want to increase the number of iterations `numItermax` or the regularization parameter `reg`.\n",
      "  warnings.warn(\"Sinkhorn did not converge. You might want to \"\n"
     ]
    },
    {
     "name": "stdout",
     "output_type": "stream",
     "text": [
      "iteration: 58\n"
     ]
    },
    {
     "name": "stderr",
     "output_type": "stream",
     "text": [
      "/home/wanxinli/miniconda3/lib/python3.9/site-packages/ot/bregman.py:517: UserWarning: Sinkhorn did not converge. You might want to increase the number of iterations `numItermax` or the regularization parameter `reg`.\n",
      "  warnings.warn(\"Sinkhorn did not converge. You might want to \"\n"
     ]
    },
    {
     "name": "stdout",
     "output_type": "stream",
     "text": [
      "iteration: 59\n",
      "iteration: 60\n"
     ]
    },
    {
     "name": "stderr",
     "output_type": "stream",
     "text": [
      "/home/wanxinli/miniconda3/lib/python3.9/site-packages/ot/bregman.py:517: UserWarning: Sinkhorn did not converge. You might want to increase the number of iterations `numItermax` or the regularization parameter `reg`.\n",
      "  warnings.warn(\"Sinkhorn did not converge. You might want to \"\n"
     ]
    },
    {
     "name": "stdout",
     "output_type": "stream",
     "text": [
      "iteration: 61\n",
      "iteration: 62\n",
      "iteration: 63\n",
      "cannot fit the regression model\n",
      "iteration: 64\n"
     ]
    },
    {
     "name": "stderr",
     "output_type": "stream",
     "text": [
      "/home/wanxinli/miniconda3/lib/python3.9/site-packages/ot/bregman.py:517: UserWarning: Sinkhorn did not converge. You might want to increase the number of iterations `numItermax` or the regularization parameter `reg`.\n",
      "  warnings.warn(\"Sinkhorn did not converge. You might want to \"\n"
     ]
    },
    {
     "name": "stdout",
     "output_type": "stream",
     "text": [
      "iteration: 65\n",
      "iteration: 66\n"
     ]
    },
    {
     "name": "stderr",
     "output_type": "stream",
     "text": [
      "/home/wanxinli/miniconda3/lib/python3.9/site-packages/ot/bregman.py:517: UserWarning: Sinkhorn did not converge. You might want to increase the number of iterations `numItermax` or the regularization parameter `reg`.\n",
      "  warnings.warn(\"Sinkhorn did not converge. You might want to \"\n"
     ]
    },
    {
     "name": "stdout",
     "output_type": "stream",
     "text": [
      "iteration: 67\n"
     ]
    },
    {
     "name": "stderr",
     "output_type": "stream",
     "text": [
      "/home/wanxinli/miniconda3/lib/python3.9/site-packages/ot/bregman.py:517: UserWarning: Sinkhorn did not converge. You might want to increase the number of iterations `numItermax` or the regularization parameter `reg`.\n",
      "  warnings.warn(\"Sinkhorn did not converge. You might want to \"\n"
     ]
    },
    {
     "name": "stdout",
     "output_type": "stream",
     "text": [
      "iteration: 68\n"
     ]
    },
    {
     "name": "stderr",
     "output_type": "stream",
     "text": [
      "/home/wanxinli/miniconda3/lib/python3.9/site-packages/ot/bregman.py:517: UserWarning: Sinkhorn did not converge. You might want to increase the number of iterations `numItermax` or the regularization parameter `reg`.\n",
      "  warnings.warn(\"Sinkhorn did not converge. You might want to \"\n"
     ]
    },
    {
     "name": "stdout",
     "output_type": "stream",
     "text": [
      "iteration: 69\n",
      "cannot fit the regression model\n",
      "iteration: 70\n",
      "iteration: 71\n"
     ]
    },
    {
     "name": "stderr",
     "output_type": "stream",
     "text": [
      "/home/wanxinli/miniconda3/lib/python3.9/site-packages/ot/bregman.py:517: UserWarning: Sinkhorn did not converge. You might want to increase the number of iterations `numItermax` or the regularization parameter `reg`.\n",
      "  warnings.warn(\"Sinkhorn did not converge. You might want to \"\n"
     ]
    },
    {
     "name": "stdout",
     "output_type": "stream",
     "text": [
      "iteration: 72\n"
     ]
    },
    {
     "name": "stderr",
     "output_type": "stream",
     "text": [
      "/home/wanxinli/miniconda3/lib/python3.9/site-packages/ot/bregman.py:517: UserWarning: Sinkhorn did not converge. You might want to increase the number of iterations `numItermax` or the regularization parameter `reg`.\n",
      "  warnings.warn(\"Sinkhorn did not converge. You might want to \"\n"
     ]
    },
    {
     "name": "stdout",
     "output_type": "stream",
     "text": [
      "iteration: 73\n",
      "iteration: 74\n"
     ]
    },
    {
     "name": "stderr",
     "output_type": "stream",
     "text": [
      "/home/wanxinli/miniconda3/lib/python3.9/site-packages/ot/bregman.py:517: UserWarning: Sinkhorn did not converge. You might want to increase the number of iterations `numItermax` or the regularization parameter `reg`.\n",
      "  warnings.warn(\"Sinkhorn did not converge. You might want to \"\n"
     ]
    },
    {
     "name": "stdout",
     "output_type": "stream",
     "text": [
      "iteration: 75\n",
      "iteration: 76\n",
      "iteration: 77\n"
     ]
    },
    {
     "name": "stderr",
     "output_type": "stream",
     "text": [
      "/home/wanxinli/miniconda3/lib/python3.9/site-packages/ot/bregman.py:517: UserWarning: Sinkhorn did not converge. You might want to increase the number of iterations `numItermax` or the regularization parameter `reg`.\n",
      "  warnings.warn(\"Sinkhorn did not converge. You might want to \"\n"
     ]
    },
    {
     "name": "stdout",
     "output_type": "stream",
     "text": [
      "iteration: 78\n",
      "cannot fit the regression model\n",
      "iteration: 79\n",
      "iteration: 80\n"
     ]
    },
    {
     "name": "stderr",
     "output_type": "stream",
     "text": [
      "/home/wanxinli/miniconda3/lib/python3.9/site-packages/ot/bregman.py:517: UserWarning: Sinkhorn did not converge. You might want to increase the number of iterations `numItermax` or the regularization parameter `reg`.\n",
      "  warnings.warn(\"Sinkhorn did not converge. You might want to \"\n"
     ]
    },
    {
     "name": "stdout",
     "output_type": "stream",
     "text": [
      "iteration: 81\n",
      "cannot fit the regression model\n",
      "iteration: 82\n"
     ]
    },
    {
     "name": "stderr",
     "output_type": "stream",
     "text": [
      "/home/wanxinli/miniconda3/lib/python3.9/site-packages/ot/bregman.py:517: UserWarning: Sinkhorn did not converge. You might want to increase the number of iterations `numItermax` or the regularization parameter `reg`.\n",
      "  warnings.warn(\"Sinkhorn did not converge. You might want to \"\n"
     ]
    },
    {
     "name": "stdout",
     "output_type": "stream",
     "text": [
      "iteration: 83\n"
     ]
    },
    {
     "name": "stderr",
     "output_type": "stream",
     "text": [
      "/home/wanxinli/miniconda3/lib/python3.9/site-packages/ot/bregman.py:517: UserWarning: Sinkhorn did not converge. You might want to increase the number of iterations `numItermax` or the regularization parameter `reg`.\n",
      "  warnings.warn(\"Sinkhorn did not converge. You might want to \"\n"
     ]
    },
    {
     "name": "stdout",
     "output_type": "stream",
     "text": [
      "iteration: 84\n"
     ]
    },
    {
     "name": "stderr",
     "output_type": "stream",
     "text": [
      "/home/wanxinli/miniconda3/lib/python3.9/site-packages/ot/bregman.py:517: UserWarning: Sinkhorn did not converge. You might want to increase the number of iterations `numItermax` or the regularization parameter `reg`.\n",
      "  warnings.warn(\"Sinkhorn did not converge. You might want to \"\n"
     ]
    },
    {
     "name": "stdout",
     "output_type": "stream",
     "text": [
      "iteration: 85\n",
      "iteration: 86\n"
     ]
    },
    {
     "name": "stderr",
     "output_type": "stream",
     "text": [
      "/home/wanxinli/miniconda3/lib/python3.9/site-packages/ot/bregman.py:517: UserWarning: Sinkhorn did not converge. You might want to increase the number of iterations `numItermax` or the regularization parameter `reg`.\n",
      "  warnings.warn(\"Sinkhorn did not converge. You might want to \"\n"
     ]
    },
    {
     "name": "stdout",
     "output_type": "stream",
     "text": [
      "iteration: 87\n",
      "iteration: 88\n",
      "iteration: 89\n",
      "iteration: 90\n"
     ]
    },
    {
     "name": "stderr",
     "output_type": "stream",
     "text": [
      "/home/wanxinli/miniconda3/lib/python3.9/site-packages/ot/bregman.py:517: UserWarning: Sinkhorn did not converge. You might want to increase the number of iterations `numItermax` or the regularization parameter `reg`.\n",
      "  warnings.warn(\"Sinkhorn did not converge. You might want to \"\n"
     ]
    },
    {
     "name": "stdout",
     "output_type": "stream",
     "text": [
      "iteration: 91\n",
      "cannot fit the regression model\n",
      "iteration: 92\n",
      "iteration: 93\n",
      "iteration: 94\n",
      "cannot fit the regression model\n",
      "iteration: 95\n",
      "cannot fit the regression model\n",
      "iteration: 96\n",
      "iteration: 97\n"
     ]
    },
    {
     "name": "stderr",
     "output_type": "stream",
     "text": [
      "/home/wanxinli/miniconda3/lib/python3.9/site-packages/ot/bregman.py:517: UserWarning: Sinkhorn did not converge. You might want to increase the number of iterations `numItermax` or the regularization parameter `reg`.\n",
      "  warnings.warn(\"Sinkhorn did not converge. You might want to \"\n"
     ]
    },
    {
     "name": "stdout",
     "output_type": "stream",
     "text": [
      "iteration: 98\n"
     ]
    },
    {
     "name": "stderr",
     "output_type": "stream",
     "text": [
      "/home/wanxinli/miniconda3/lib/python3.9/site-packages/ot/bregman.py:517: UserWarning: Sinkhorn did not converge. You might want to increase the number of iterations `numItermax` or the regularization parameter `reg`.\n",
      "  warnings.warn(\"Sinkhorn did not converge. You might want to \"\n"
     ]
    },
    {
     "name": "stdout",
     "output_type": "stream",
     "text": [
      "iteration: 99\n",
      "cannot fit the regression model\n"
     ]
    },
    {
     "data": {
      "text/plain": [
       "array([[4.13108503e+005, 5.83572906e+005, 9.73060216e+005,\n",
       "        1.76717767e+006, 8.30053905e+005, 1.26005133e+006],\n",
       "       [2.32998120e+005, 3.19330254e+005, 8.15634074e+005,\n",
       "        1.51075498e+006, 6.84429733e+005, 1.44258987e+006],\n",
       "       [6.91431995e-310, 6.91431997e-310, 6.91431997e-310,\n",
       "        6.91431992e-310, 6.91431991e-310, 6.91431989e-310],\n",
       "       [6.91431997e-310, 6.91431995e-310, 6.91431991e-310,\n",
       "        6.91431994e-310, 6.91431992e-310, 6.91431995e-310],\n",
       "       [2.52609375e+005, 3.67926301e+005, 9.00299622e+005,\n",
       "        1.42495119e+006, 7.72954180e+005, 1.30066403e+006],\n",
       "       [2.03784560e+005, 2.57899607e+005, 8.28266499e+005,\n",
       "        1.52431837e+006, 7.31799162e+005, 1.52272948e+006],\n",
       "       [2.21334861e+005, 3.22184344e+005, 8.26660986e+005,\n",
       "        1.39423676e+006, 6.18024915e+005, 1.06813177e+006],\n",
       "       [3.42714341e+005, 4.89137732e+005, 8.30931867e+005,\n",
       "        1.33579985e+006, 6.31680121e+005, 9.82126740e+005],\n",
       "       [2.73907049e+005, 4.39260207e+005, 1.09459754e+006,\n",
       "        4.27240174e+006, 6.80985165e+005, 1.38150252e+006],\n",
       "       [2.61515754e+005, 3.55534049e+005, 7.60255282e+005,\n",
       "        1.33386385e+006, 7.26331843e+005, 1.16430404e+006],\n",
       "       [0.00000000e+000, 8.48798317e-314, 6.90752070e-310,\n",
       "        6.91431991e-310, 6.91431997e-310, 6.91431997e-310],\n",
       "       [2.60920384e+005, 3.60012456e+005, 8.18846298e+005,\n",
       "        1.90898504e+006, 6.37376800e+005, 9.74277075e+005],\n",
       "       [2.97964819e+005, 5.17379571e+005, 7.40533934e+005,\n",
       "        1.19679774e+006, 6.13877995e+005, 9.73085032e+005],\n",
       "       [1.87731813e+005, 2.61288627e+005, 7.52624655e+005,\n",
       "        1.28570088e+006, 7.28849302e+005, 1.35711269e+006],\n",
       "       [2.31938158e+005, 3.30330497e+005, 8.55107850e+005,\n",
       "        1.64857047e+006, 8.05355395e+005, 1.54576540e+006],\n",
       "       [3.56683201e+005, 5.03364699e+005, 7.41376538e+005,\n",
       "        1.05076364e+006, 6.15573003e+005, 8.44733851e+005],\n",
       "       [3.13765647e+005, 5.02123231e+005, 1.23833989e+006,\n",
       "        5.32803112e+006, 7.26855518e+005, 1.14963476e+006],\n",
       "       [2.22521236e+005, 3.19075990e+005, 7.48060278e+005,\n",
       "        1.19973304e+006, 7.45315963e+005, 1.30317775e+006],\n",
       "       [2.32923014e+005, 3.29200357e+005, 6.04626806e+005,\n",
       "        9.22558137e+005, 5.10661140e+005, 7.71420140e+005],\n",
       "       [2.47964415e+005, 3.55154196e+005, 6.61944598e+005,\n",
       "        1.24508257e+006, 7.23162215e+005, 1.42949897e+006],\n",
       "       [2.46667028e+005, 3.67585169e+005, 7.48141071e+005,\n",
       "        1.15149338e+006, 7.04607240e+005, 1.16158691e+006],\n",
       "       [2.59125737e+005, 3.84156238e+005, 6.05738820e+005,\n",
       "        8.28343978e+005, 5.27507173e+005, 7.48773815e+005],\n",
       "       [2.98788000e+005, 4.44417032e+005, 7.65338256e+005,\n",
       "        1.10462005e+006, 7.58692208e+005, 1.28708194e+006],\n",
       "       [6.91431986e-310, 6.91431986e-310, 6.91431994e-310,\n",
       "        6.91431996e-310, 6.91431991e-310, 6.91431996e-310],\n",
       "       [2.58258170e+005, 4.02355663e+005, 8.07225633e+005,\n",
       "        1.34214175e+006, 6.43314793e+005, 1.12380973e+006],\n",
       "       [3.08518131e+005, 4.25314125e+005, 6.72773632e+005,\n",
       "        1.22463140e+006, 6.70583431e+005, 1.14322807e+006],\n",
       "       [2.31130537e+005, 3.31360460e+005, 7.59022331e+005,\n",
       "        1.20575071e+006, 5.35638742e+005, 7.69841967e+005],\n",
       "       [2.42871050e+005, 3.32844002e+005, 8.72005288e+005,\n",
       "        1.80152347e+006, 7.29199484e+005, 1.56360315e+006],\n",
       "       [2.89934970e+005, 4.34106185e+005, 7.08265011e+005,\n",
       "        1.04956328e+006, 6.69547756e+005, 1.00023528e+006],\n",
       "       [2.34638677e+005, 3.46658322e+005, 8.28963006e+005,\n",
       "        1.48641804e+006, 7.26926116e+005, 1.36880620e+006],\n",
       "       [6.91431991e-310, 6.91431997e-310, 6.91431997e-310,\n",
       "        6.91431992e-310, 6.91431995e-310, 6.91431992e-310],\n",
       "       [3.11905669e+005, 5.48198054e+005, 8.20797551e+005,\n",
       "        2.34401349e+006, 5.87644350e+005, 9.32604748e+005],\n",
       "       [2.34689901e+005, 3.44166602e+005, 7.92294778e+005,\n",
       "        1.24534149e+006, 6.95002183e+005, 1.17690644e+006],\n",
       "       [6.91431995e-310, 6.91431996e-310, 6.91431989e-310,\n",
       "        6.91431989e-310, 6.91431992e-310, 6.91431995e-310],\n",
       "       [2.68938299e+005, 5.23886324e+005, 7.63472962e+005,\n",
       "        1.14135436e+006, 6.42288285e+005, 9.14438034e+005],\n",
       "       [2.75977839e+005, 3.95491821e+005, 7.11761851e+005,\n",
       "        1.49188329e+006, 6.17590017e+005, 1.22333852e+006],\n",
       "       [6.91431996e-310, 6.91431997e-310, 6.91431995e-310,\n",
       "        6.91431996e-310, 6.91431989e-310, 6.91431989e-310],\n",
       "       [2.93602613e+005, 4.37676843e+005, 7.09513687e+005,\n",
       "        1.29611453e+006, 6.12176468e+005, 9.97204034e+005],\n",
       "       [2.77579629e+005, 3.94998297e+005, 9.06960795e+005,\n",
       "        1.41453630e+006, 7.47303233e+005, 1.08272725e+006],\n",
       "       [6.91431997e-310, 6.91431994e-310, 6.91431991e-310,\n",
       "        6.91431997e-310, 6.91431996e-310, 4.94065646e-324],\n",
       "       [2.48437053e+005, 3.78807072e+005, 8.09774681e+005,\n",
       "        1.51666258e+006, 6.87861144e+005, 1.12882206e+006],\n",
       "       [2.33772931e+005, 3.05640654e+005, 6.95617078e+005,\n",
       "        1.01007150e+006, 5.73957203e+005, 8.97448381e+005],\n",
       "       [2.09468786e+005, 2.92028926e+005, 5.74672651e+005,\n",
       "        9.23464554e+005, 4.99055367e+005, 7.78842297e+005],\n",
       "       [2.00195194e+005, 3.58577731e+005, 7.53315007e+005,\n",
       "        1.71518314e+006, 7.23063983e+005, 1.62475505e+006],\n",
       "       [3.31668827e+005, 4.36300228e+005, 8.66618869e+005,\n",
       "        1.75810265e+006, 5.63933898e+005, 8.88393810e+005],\n",
       "       [3.02924117e+005, 4.37459432e+005, 9.37073600e+005,\n",
       "        1.95529256e+006, 7.40853198e+005, 1.52371175e+006],\n",
       "       [2.98689080e+005, 3.98369096e+005, 9.76396349e+005,\n",
       "        2.04827896e+006, 6.51759570e+005, 1.36177812e+006],\n",
       "       [1.78507306e+005, 2.36623328e+005, 8.30096503e+005,\n",
       "        1.72604159e+006, 6.51329720e+005, 1.57166558e+006],\n",
       "       [2.55228590e+005, 3.71778807e+005, 9.50727061e+005,\n",
       "        1.93002734e+006, 7.79091740e+005, 1.63438932e+006],\n",
       "       [2.74411714e+005, 4.12987757e+005, 7.02759668e+005,\n",
       "        1.22270053e+006, 6.34419473e+005, 9.67332782e+005],\n",
       "       [3.60546362e+005, 5.04561959e+005, 7.84563400e+005,\n",
       "        1.26463855e+006, 6.76702202e+005, 9.35215931e+005],\n",
       "       [1.80351780e+005, 2.53754113e+005, 5.57473485e+005,\n",
       "        7.74594000e+005, 5.12285523e+005, 7.08912699e+005],\n",
       "       [2.73859585e+005, 3.89418818e+005, 8.71385252e+005,\n",
       "        1.63620660e+006, 7.51277110e+005, 1.44344410e+006],\n",
       "       [2.54815597e+005, 3.39347118e+005, 8.97733066e+005,\n",
       "        1.63695931e+006, 6.99606017e+005, 1.37213973e+006],\n",
       "       [2.14548302e+005, 3.40187242e+005, 8.69283198e+005,\n",
       "        1.69709774e+006, 5.79636704e+005, 8.18481503e+005],\n",
       "       [3.74440845e+005, 5.03785453e+005, 6.46652105e+005,\n",
       "        9.77548772e+005, 6.39339939e+005, 1.02597691e+006],\n",
       "       [6.91414484e-310, 6.91414484e-310, 6.91414477e-310,\n",
       "        6.91414484e-310, 6.91431990e-310, 6.91414484e-310],\n",
       "       [2.66517546e+005, 3.78232107e+005, 8.57080953e+005,\n",
       "        1.74000048e+006, 6.64979403e+005, 1.07205018e+006],\n",
       "       [3.09605038e+005, 4.30181628e+005, 8.05030313e+005,\n",
       "        1.24579129e+006, 7.81674127e+005, 1.21525758e+006],\n",
       "       [2.77837032e+005, 4.20872914e+005, 9.10709201e+005,\n",
       "        1.84495001e+006, 8.11201560e+005, 1.64314258e+006],\n",
       "       [3.50390474e+005, 6.32203585e+005, 9.19265324e+005,\n",
       "        1.65442197e+006, 7.61682507e+005, 1.49626644e+006],\n",
       "       [2.50862344e+005, 3.52194486e+005, 6.99930275e+005,\n",
       "        1.53693209e+006, 5.39099167e+005, 9.73022744e+005],\n",
       "       [2.63956334e+005, 4.14221882e+005, 7.17552994e+005,\n",
       "        1.34755483e+006, 6.74817910e+005, 1.20613317e+006],\n",
       "       [6.91414468e-310, 6.91414468e-310, 6.91414468e-310,\n",
       "        6.91414468e-310, 6.91414468e-310, 1.45502333e-320],\n",
       "       [2.35261775e+005, 3.96282037e+005, 6.89468922e+005,\n",
       "        1.07227338e+006, 6.45243528e+005, 9.72045239e+005],\n",
       "       [2.48151287e+005, 4.21854167e+005, 7.16868930e+005,\n",
       "        1.24886055e+006, 5.64518949e+005, 9.82544479e+005],\n",
       "       [1.90061710e+005, 2.79206202e+005, 6.97488412e+005,\n",
       "        1.39060616e+006, 6.38217973e+005, 1.44709922e+006],\n",
       "       [2.50339559e+005, 4.32380670e+005, 8.13182034e+005,\n",
       "        1.25534872e+006, 6.63084167e+005, 1.01823722e+006],\n",
       "       [2.38988930e+005, 3.43707384e+005, 9.15039177e+005,\n",
       "        1.84992591e+006, 8.29440510e+005, 1.82154229e+006],\n",
       "       [6.91414468e-310, 6.91414468e-310, 6.91414468e-310,\n",
       "        6.91414468e-310, 6.91414468e-310, 6.91414468e-310],\n",
       "       [3.56067375e+005, 4.87851098e+005, 7.77863394e+005,\n",
       "        1.34230734e+006, 6.24630715e+005, 1.14881735e+006],\n",
       "       [2.95813019e+005, 4.25413994e+005, 8.41775585e+005,\n",
       "        1.34244870e+006, 7.12161794e+005, 1.11809179e+006],\n",
       "       [3.30121314e+005, 5.27240033e+005, 8.98888166e+005,\n",
       "        1.51245935e+006, 5.91736677e+005, 8.92753516e+005],\n",
       "       [2.67375701e+005, 4.04863499e+005, 8.23858294e+005,\n",
       "        1.53240705e+006, 7.15738137e+005, 1.36355978e+006],\n",
       "       [1.99567403e+005, 2.73448623e+005, 9.22158121e+005,\n",
       "        1.60440880e+006, 7.91098271e+005, 1.41428273e+006],\n",
       "       [2.10781237e+005, 3.00582737e+005, 7.61700906e+005,\n",
       "        1.81552885e+006, 5.53119452e+005, 9.30565523e+005],\n",
       "       [2.86832024e+005, 4.49197775e+005, 6.26389343e+005,\n",
       "        9.27724658e+005, 6.10119636e+005, 9.35090007e+005],\n",
       "       [2.08393196e+005, 2.72167557e+005, 7.81261118e+005,\n",
       "        1.32790736e+006, 5.86052311e+005, 9.46593996e+005],\n",
       "       [6.91414468e-310, 6.91414468e-310, 6.91414468e-310,\n",
       "        6.91414468e-310, 6.91414468e-310, 6.91414468e-310],\n",
       "       [2.00428054e+005, 2.92445044e+005, 9.89945875e+005,\n",
       "        1.96550095e+006, 7.82478200e+005, 1.72765740e+006],\n",
       "       [2.63379050e+005, 3.91404274e+005, 9.50542513e+005,\n",
       "        1.89993511e+006, 8.17537811e+005, 1.80255361e+006],\n",
       "       [6.91414468e-310, 6.91414468e-310, 6.91414468e-310,\n",
       "        6.91414468e-310, 6.91414468e-310, 6.91414468e-310],\n",
       "       [2.29160751e+005, 3.35894837e+005, 5.48873022e+005,\n",
       "        8.15022705e+005, 4.65391759e+005, 6.62006669e+005],\n",
       "       [2.32118895e+005, 3.26967567e+005, 5.98296293e+005,\n",
       "        9.50956669e+005, 5.32878255e+005, 8.81322951e+005],\n",
       "       [2.56833237e+005, 3.82872361e+005, 6.84305441e+005,\n",
       "        1.08656956e+006, 6.23177115e+005, 1.03793035e+006],\n",
       "       [4.13854662e+005, 7.42880182e+005, 8.23891058e+005,\n",
       "        1.23231257e+006, 6.31310247e+005, 1.00620418e+006],\n",
       "       [2.52567944e+005, 3.36336655e+005, 8.47890728e+005,\n",
       "        1.33977101e+006, 6.63919550e+005, 1.04606615e+006],\n",
       "       [2.80123360e+005, 3.91352107e+005, 6.25866607e+005,\n",
       "        9.51037327e+005, 5.20190856e+005, 7.36212162e+005],\n",
       "       [3.22010407e+005, 5.52620231e+005, 9.36520567e+005,\n",
       "        1.69045882e+006, 8.29015135e+005, 1.57044785e+006],\n",
       "       [2.53444140e+005, 3.48977092e+005, 6.82298715e+005,\n",
       "        1.31402977e+006, 4.94593517e+005, 7.21507964e+005],\n",
       "       [2.80547698e+005, 3.90095070e+005, 6.14971576e+005,\n",
       "        9.23921157e+005, 5.45825617e+005, 8.01079264e+005],\n",
       "       [6.91414036e-310, 6.91414036e-310, 6.91414036e-310,\n",
       "        6.91414036e-310, 6.91414036e-310, 6.91414036e-310],\n",
       "       [2.29441472e+005, 3.29345082e+005, 6.76348421e+005,\n",
       "        1.04362506e+006, 6.21031328e+005, 1.00504923e+006],\n",
       "       [2.47410355e+005, 3.40443842e+005, 7.65554804e+005,\n",
       "        1.43308786e+006, 6.46896654e+005, 1.22232663e+006],\n",
       "       [6.91414034e-310, 6.91414036e-310, 6.91414035e-310,\n",
       "        6.91414035e-310, 6.91414036e-310, 6.91414036e-310],\n",
       "       [6.91414035e-310, 6.91414036e-310, 6.91414036e-310,\n",
       "        6.91414036e-310, 6.91414035e-310, 6.91414477e-310],\n",
       "       [3.42063469e+005, 5.30159121e+005, 9.16050203e+005,\n",
       "        1.55000226e+006, 7.32852577e+005, 1.23758867e+006],\n",
       "       [3.04571170e+005, 4.77123960e+005, 7.16735240e+005,\n",
       "        1.02023974e+006, 6.13651838e+005, 9.73036189e+005],\n",
       "       [2.78721314e+005, 3.76764493e+005, 7.78752847e+005,\n",
       "        1.69552330e+006, 5.88432756e+005, 1.03456992e+006],\n",
       "       [6.91414036e-310, 6.91414036e-310, 6.91414036e-310,\n",
       "        6.91414036e-310, 6.91414036e-310, 6.91414036e-310]])"
      ]
     },
     "execution_count": 7,
     "metadata": {},
     "output_type": "execute_result"
    }
   ],
   "source": [
    "\"\"\" \n",
    "Run multiple iterations using Poission regression\n",
    "\"\"\"\n",
    "score_path = os.path.join(output_dir, \"exp4_poission_score.csv\")\n",
    "male_count = 120\n",
    "female_count = 100\n",
    "\n",
    "multi_proc_cts(score_path, n_components, admid_diagnosis_df, custom_train_reps, \\\n",
    "    male_count, female_count, model_func = linear_model.PoissonRegressor, iteration=100)"
   ]
  },
  {
   "cell_type": "code",
   "execution_count": 3,
   "metadata": {},
   "outputs": [
    {
     "data": {
      "text/plain": [
       "<Figure size 640x480 with 0 Axes>"
      ]
     },
     "metadata": {},
     "output_type": "display_data"
    },
    {
     "data": {
      "image/png": "[encoded data removed]",
      "text/plain": [
       "<Figure size 640x480 with 1 Axes>"
      ]
     },
     "metadata": {},
     "output_type": "display_data"
    },
    {
     "data": {
      "text/plain": [
       "(0.862666047728569, 0.8818435628939592)"
      ]
     },
     "execution_count": 3,
     "metadata": {},
     "output_type": "execute_result"
    }
   ],
   "source": [
    "score_path = os.path.join(output_dir, \"exp4_poisson_score.csv\")\n",
    "\n",
    "save_path = \"../../outputs/mimic/exp4_poisson_res.png\"\n",
    "box_plot_cts_short(score_path, save_path=save_path)\n"
   ]
  },
  {
   "cell_type": "code",
   "execution_count": 9,
   "metadata": {},
   "outputs": [
    {
     "name": "stdout",
     "output_type": "stream",
     "text": [
      "iteration: 0\n"
     ]
    },
    {
     "name": "stderr",
     "output_type": "stream",
     "text": [
      "/home/wanxinli/miniconda3/lib/python3.9/site-packages/ot/bregman.py:517: UserWarning: Sinkhorn did not converge. You might want to increase the number of iterations `numItermax` or the regularization parameter `reg`.\n",
      "  warnings.warn(\"Sinkhorn did not converge. You might want to \"\n"
     ]
    },
    {
     "name": "stdout",
     "output_type": "stream",
     "text": [
      "iteration: 1\n",
      "iteration: 2\n"
     ]
    },
    {
     "name": "stderr",
     "output_type": "stream",
     "text": [
      "/home/wanxinli/miniconda3/lib/python3.9/site-packages/ot/bregman.py:517: UserWarning: Sinkhorn did not converge. You might want to increase the number of iterations `numItermax` or the regularization parameter `reg`.\n",
      "  warnings.warn(\"Sinkhorn did not converge. You might want to \"\n"
     ]
    },
    {
     "name": "stdout",
     "output_type": "stream",
     "text": [
      "iteration: 3\n",
      "iteration: 4\n"
     ]
    },
    {
     "name": "stderr",
     "output_type": "stream",
     "text": [
      "/home/wanxinli/miniconda3/lib/python3.9/site-packages/ot/bregman.py:517: UserWarning: Sinkhorn did not converge. You might want to increase the number of iterations `numItermax` or the regularization parameter `reg`.\n",
      "  warnings.warn(\"Sinkhorn did not converge. You might want to \"\n"
     ]
    },
    {
     "name": "stdout",
     "output_type": "stream",
     "text": [
      "iteration: 5\n"
     ]
    },
    {
     "name": "stderr",
     "output_type": "stream",
     "text": [
      "/home/wanxinli/miniconda3/lib/python3.9/site-packages/ot/bregman.py:517: UserWarning: Sinkhorn did not converge. You might want to increase the number of iterations `numItermax` or the regularization parameter `reg`.\n",
      "  warnings.warn(\"Sinkhorn did not converge. You might want to \"\n"
     ]
    },
    {
     "name": "stdout",
     "output_type": "stream",
     "text": [
      "iteration: 6\n"
     ]
    },
    {
     "name": "stderr",
     "output_type": "stream",
     "text": [
      "/home/wanxinli/miniconda3/lib/python3.9/site-packages/ot/bregman.py:517: UserWarning: Sinkhorn did not converge. You might want to increase the number of iterations `numItermax` or the regularization parameter `reg`.\n",
      "  warnings.warn(\"Sinkhorn did not converge. You might want to \"\n"
     ]
    },
    {
     "name": "stdout",
     "output_type": "stream",
     "text": [
      "iteration: 7\n"
     ]
    },
    {
     "name": "stderr",
     "output_type": "stream",
     "text": [
      "/home/wanxinli/miniconda3/lib/python3.9/site-packages/ot/bregman.py:517: UserWarning: Sinkhorn did not converge. You might want to increase the number of iterations `numItermax` or the regularization parameter `reg`.\n",
      "  warnings.warn(\"Sinkhorn did not converge. You might want to \"\n"
     ]
    },
    {
     "name": "stdout",
     "output_type": "stream",
     "text": [
      "iteration: 8\n"
     ]
    },
    {
     "name": "stderr",
     "output_type": "stream",
     "text": [
      "/home/wanxinli/miniconda3/lib/python3.9/site-packages/ot/bregman.py:517: UserWarning: Sinkhorn did not converge. You might want to increase the number of iterations `numItermax` or the regularization parameter `reg`.\n",
      "  warnings.warn(\"Sinkhorn did not converge. You might want to \"\n"
     ]
    },
    {
     "name": "stdout",
     "output_type": "stream",
     "text": [
      "iteration: 9\n",
      "iteration: 10\n",
      "iteration: 11\n"
     ]
    },
    {
     "name": "stderr",
     "output_type": "stream",
     "text": [
      "/home/wanxinli/miniconda3/lib/python3.9/site-packages/ot/bregman.py:517: UserWarning: Sinkhorn did not converge. You might want to increase the number of iterations `numItermax` or the regularization parameter `reg`.\n",
      "  warnings.warn(\"Sinkhorn did not converge. You might want to \"\n"
     ]
    },
    {
     "name": "stdout",
     "output_type": "stream",
     "text": [
      "iteration: 12\n"
     ]
    },
    {
     "name": "stderr",
     "output_type": "stream",
     "text": [
      "/home/wanxinli/miniconda3/lib/python3.9/site-packages/ot/bregman.py:517: UserWarning: Sinkhorn did not converge. You might want to increase the number of iterations `numItermax` or the regularization parameter `reg`.\n",
      "  warnings.warn(\"Sinkhorn did not converge. You might want to \"\n"
     ]
    },
    {
     "name": "stdout",
     "output_type": "stream",
     "text": [
      "iteration: 13\n"
     ]
    },
    {
     "name": "stderr",
     "output_type": "stream",
     "text": [
      "/home/wanxinli/miniconda3/lib/python3.9/site-packages/ot/bregman.py:517: UserWarning: Sinkhorn did not converge. You might want to increase the number of iterations `numItermax` or the regularization parameter `reg`.\n",
      "  warnings.warn(\"Sinkhorn did not converge. You might want to \"\n"
     ]
    },
    {
     "name": "stdout",
     "output_type": "stream",
     "text": [
      "iteration: 14\n",
      "iteration: 15\n"
     ]
    },
    {
     "name": "stderr",
     "output_type": "stream",
     "text": [
      "/home/wanxinli/miniconda3/lib/python3.9/site-packages/ot/bregman.py:517: UserWarning: Sinkhorn did not converge. You might want to increase the number of iterations `numItermax` or the regularization parameter `reg`.\n",
      "  warnings.warn(\"Sinkhorn did not converge. You might want to \"\n"
     ]
    },
    {
     "name": "stdout",
     "output_type": "stream",
     "text": [
      "iteration: 16\n"
     ]
    },
    {
     "name": "stderr",
     "output_type": "stream",
     "text": [
      "/home/wanxinli/miniconda3/lib/python3.9/site-packages/ot/bregman.py:517: UserWarning: Sinkhorn did not converge. You might want to increase the number of iterations `numItermax` or the regularization parameter `reg`.\n",
      "  warnings.warn(\"Sinkhorn did not converge. You might want to \"\n"
     ]
    },
    {
     "name": "stdout",
     "output_type": "stream",
     "text": [
      "iteration: 17\n",
      "iteration: 18\n",
      "iteration: 19\n",
      "iteration: 20\n"
     ]
    },
    {
     "name": "stderr",
     "output_type": "stream",
     "text": [
      "/home/wanxinli/miniconda3/lib/python3.9/site-packages/ot/bregman.py:517: UserWarning: Sinkhorn did not converge. You might want to increase the number of iterations `numItermax` or the regularization parameter `reg`.\n",
      "  warnings.warn(\"Sinkhorn did not converge. You might want to \"\n"
     ]
    },
    {
     "name": "stdout",
     "output_type": "stream",
     "text": [
      "iteration: 21\n"
     ]
    },
    {
     "name": "stderr",
     "output_type": "stream",
     "text": [
      "/home/wanxinli/miniconda3/lib/python3.9/site-packages/ot/bregman.py:517: UserWarning: Sinkhorn did not converge. You might want to increase the number of iterations `numItermax` or the regularization parameter `reg`.\n",
      "  warnings.warn(\"Sinkhorn did not converge. You might want to \"\n"
     ]
    },
    {
     "name": "stdout",
     "output_type": "stream",
     "text": [
      "iteration: 22\n"
     ]
    },
    {
     "name": "stderr",
     "output_type": "stream",
     "text": [
      "/home/wanxinli/miniconda3/lib/python3.9/site-packages/ot/bregman.py:517: UserWarning: Sinkhorn did not converge. You might want to increase the number of iterations `numItermax` or the regularization parameter `reg`.\n",
      "  warnings.warn(\"Sinkhorn did not converge. You might want to \"\n"
     ]
    },
    {
     "name": "stdout",
     "output_type": "stream",
     "text": [
      "iteration: 23\n"
     ]
    },
    {
     "name": "stderr",
     "output_type": "stream",
     "text": [
      "/home/wanxinli/miniconda3/lib/python3.9/site-packages/ot/bregman.py:517: UserWarning: Sinkhorn did not converge. You might want to increase the number of iterations `numItermax` or the regularization parameter `reg`.\n",
      "  warnings.warn(\"Sinkhorn did not converge. You might want to \"\n"
     ]
    },
    {
     "name": "stdout",
     "output_type": "stream",
     "text": [
      "iteration: 24\n"
     ]
    },
    {
     "name": "stderr",
     "output_type": "stream",
     "text": [
      "/home/wanxinli/miniconda3/lib/python3.9/site-packages/ot/bregman.py:517: UserWarning: Sinkhorn did not converge. You might want to increase the number of iterations `numItermax` or the regularization parameter `reg`.\n",
      "  warnings.warn(\"Sinkhorn did not converge. You might want to \"\n"
     ]
    },
    {
     "name": "stdout",
     "output_type": "stream",
     "text": [
      "iteration: 25\n"
     ]
    },
    {
     "name": "stderr",
     "output_type": "stream",
     "text": [
      "/home/wanxinli/miniconda3/lib/python3.9/site-packages/ot/bregman.py:517: UserWarning: Sinkhorn did not converge. You might want to increase the number of iterations `numItermax` or the regularization parameter `reg`.\n",
      "  warnings.warn(\"Sinkhorn did not converge. You might want to \"\n"
     ]
    },
    {
     "name": "stdout",
     "output_type": "stream",
     "text": [
      "iteration: 26\n",
      "iteration: 27\n"
     ]
    },
    {
     "name": "stderr",
     "output_type": "stream",
     "text": [
      "/home/wanxinli/miniconda3/lib/python3.9/site-packages/ot/bregman.py:517: UserWarning: Sinkhorn did not converge. You might want to increase the number of iterations `numItermax` or the regularization parameter `reg`.\n",
      "  warnings.warn(\"Sinkhorn did not converge. You might want to \"\n"
     ]
    },
    {
     "name": "stdout",
     "output_type": "stream",
     "text": [
      "iteration: 28\n",
      "iteration: 29\n",
      "iteration: 30\n",
      "iteration: 31\n",
      "iteration: 32\n"
     ]
    },
    {
     "name": "stderr",
     "output_type": "stream",
     "text": [
      "/home/wanxinli/miniconda3/lib/python3.9/site-packages/ot/bregman.py:517: UserWarning: Sinkhorn did not converge. You might want to increase the number of iterations `numItermax` or the regularization parameter `reg`.\n",
      "  warnings.warn(\"Sinkhorn did not converge. You might want to \"\n"
     ]
    },
    {
     "name": "stdout",
     "output_type": "stream",
     "text": [
      "iteration: 33\n"
     ]
    },
    {
     "name": "stderr",
     "output_type": "stream",
     "text": [
      "/home/wanxinli/miniconda3/lib/python3.9/site-packages/ot/bregman.py:517: UserWarning: Sinkhorn did not converge. You might want to increase the number of iterations `numItermax` or the regularization parameter `reg`.\n",
      "  warnings.warn(\"Sinkhorn did not converge. You might want to \"\n"
     ]
    },
    {
     "name": "stdout",
     "output_type": "stream",
     "text": [
      "iteration: 34\n",
      "iteration: 35\n"
     ]
    },
    {
     "name": "stderr",
     "output_type": "stream",
     "text": [
      "/home/wanxinli/miniconda3/lib/python3.9/site-packages/ot/bregman.py:517: UserWarning: Sinkhorn did not converge. You might want to increase the number of iterations `numItermax` or the regularization parameter `reg`.\n",
      "  warnings.warn(\"Sinkhorn did not converge. You might want to \"\n"
     ]
    },
    {
     "name": "stdout",
     "output_type": "stream",
     "text": [
      "iteration: 36\n",
      "iteration: 37\n",
      "iteration: 38\n"
     ]
    },
    {
     "name": "stderr",
     "output_type": "stream",
     "text": [
      "/home/wanxinli/miniconda3/lib/python3.9/site-packages/ot/bregman.py:517: UserWarning: Sinkhorn did not converge. You might want to increase the number of iterations `numItermax` or the regularization parameter `reg`.\n",
      "  warnings.warn(\"Sinkhorn did not converge. You might want to \"\n"
     ]
    },
    {
     "name": "stdout",
     "output_type": "stream",
     "text": [
      "iteration: 39\n",
      "iteration: 40\n"
     ]
    },
    {
     "name": "stderr",
     "output_type": "stream",
     "text": [
      "/home/wanxinli/miniconda3/lib/python3.9/site-packages/ot/bregman.py:517: UserWarning: Sinkhorn did not converge. You might want to increase the number of iterations `numItermax` or the regularization parameter `reg`.\n",
      "  warnings.warn(\"Sinkhorn did not converge. You might want to \"\n"
     ]
    },
    {
     "name": "stdout",
     "output_type": "stream",
     "text": [
      "iteration: 41\n"
     ]
    },
    {
     "name": "stderr",
     "output_type": "stream",
     "text": [
      "/home/wanxinli/miniconda3/lib/python3.9/site-packages/ot/bregman.py:517: UserWarning: Sinkhorn did not converge. You might want to increase the number of iterations `numItermax` or the regularization parameter `reg`.\n",
      "  warnings.warn(\"Sinkhorn did not converge. You might want to \"\n"
     ]
    },
    {
     "name": "stdout",
     "output_type": "stream",
     "text": [
      "iteration: 42\n"
     ]
    },
    {
     "name": "stderr",
     "output_type": "stream",
     "text": [
      "/home/wanxinli/miniconda3/lib/python3.9/site-packages/ot/bregman.py:517: UserWarning: Sinkhorn did not converge. You might want to increase the number of iterations `numItermax` or the regularization parameter `reg`.\n",
      "  warnings.warn(\"Sinkhorn did not converge. You might want to \"\n"
     ]
    },
    {
     "name": "stdout",
     "output_type": "stream",
     "text": [
      "iteration: 43\n",
      "iteration: 44\n"
     ]
    },
    {
     "name": "stderr",
     "output_type": "stream",
     "text": [
      "/home/wanxinli/miniconda3/lib/python3.9/site-packages/ot/bregman.py:517: UserWarning: Sinkhorn did not converge. You might want to increase the number of iterations `numItermax` or the regularization parameter `reg`.\n",
      "  warnings.warn(\"Sinkhorn did not converge. You might want to \"\n"
     ]
    },
    {
     "name": "stdout",
     "output_type": "stream",
     "text": [
      "iteration: 45\n"
     ]
    },
    {
     "name": "stderr",
     "output_type": "stream",
     "text": [
      "/home/wanxinli/miniconda3/lib/python3.9/site-packages/ot/bregman.py:517: UserWarning: Sinkhorn did not converge. You might want to increase the number of iterations `numItermax` or the regularization parameter `reg`.\n",
      "  warnings.warn(\"Sinkhorn did not converge. You might want to \"\n"
     ]
    },
    {
     "name": "stdout",
     "output_type": "stream",
     "text": [
      "iteration: 46\n"
     ]
    },
    {
     "name": "stderr",
     "output_type": "stream",
     "text": [
      "/home/wanxinli/miniconda3/lib/python3.9/site-packages/ot/bregman.py:517: UserWarning: Sinkhorn did not converge. You might want to increase the number of iterations `numItermax` or the regularization parameter `reg`.\n",
      "  warnings.warn(\"Sinkhorn did not converge. You might want to \"\n"
     ]
    },
    {
     "name": "stdout",
     "output_type": "stream",
     "text": [
      "iteration: 47\n",
      "iteration: 48\n"
     ]
    },
    {
     "name": "stderr",
     "output_type": "stream",
     "text": [
      "/home/wanxinli/miniconda3/lib/python3.9/site-packages/ot/bregman.py:517: UserWarning: Sinkhorn did not converge. You might want to increase the number of iterations `numItermax` or the regularization parameter `reg`.\n",
      "  warnings.warn(\"Sinkhorn did not converge. You might want to \"\n"
     ]
    },
    {
     "name": "stdout",
     "output_type": "stream",
     "text": [
      "iteration: 49\n",
      "iteration: 50\n",
      "iteration: 51\n"
     ]
    },
    {
     "name": "stderr",
     "output_type": "stream",
     "text": [
      "/home/wanxinli/miniconda3/lib/python3.9/site-packages/ot/bregman.py:517: UserWarning: Sinkhorn did not converge. You might want to increase the number of iterations `numItermax` or the regularization parameter `reg`.\n",
      "  warnings.warn(\"Sinkhorn did not converge. You might want to \"\n"
     ]
    },
    {
     "name": "stdout",
     "output_type": "stream",
     "text": [
      "iteration: 52\n"
     ]
    },
    {
     "name": "stderr",
     "output_type": "stream",
     "text": [
      "/home/wanxinli/miniconda3/lib/python3.9/site-packages/ot/bregman.py:517: UserWarning: Sinkhorn did not converge. You might want to increase the number of iterations `numItermax` or the regularization parameter `reg`.\n",
      "  warnings.warn(\"Sinkhorn did not converge. You might want to \"\n"
     ]
    },
    {
     "name": "stdout",
     "output_type": "stream",
     "text": [
      "iteration: 53\n",
      "iteration: 54\n",
      "iteration: 55\n",
      "iteration: 56\n",
      "iteration: 57\n",
      "iteration: 58\n",
      "iteration: 59\n",
      "iteration: 60\n",
      "iteration: 61\n"
     ]
    },
    {
     "name": "stderr",
     "output_type": "stream",
     "text": [
      "/home/wanxinli/miniconda3/lib/python3.9/site-packages/ot/bregman.py:517: UserWarning: Sinkhorn did not converge. You might want to increase the number of iterations `numItermax` or the regularization parameter `reg`.\n",
      "  warnings.warn(\"Sinkhorn did not converge. You might want to \"\n"
     ]
    },
    {
     "name": "stdout",
     "output_type": "stream",
     "text": [
      "iteration: 62\n",
      "iteration: 63\n",
      "iteration: 64\n",
      "iteration: 65\n",
      "iteration: 66\n"
     ]
    },
    {
     "name": "stderr",
     "output_type": "stream",
     "text": [
      "/home/wanxinli/miniconda3/lib/python3.9/site-packages/ot/bregman.py:517: UserWarning: Sinkhorn did not converge. You might want to increase the number of iterations `numItermax` or the regularization parameter `reg`.\n",
      "  warnings.warn(\"Sinkhorn did not converge. You might want to \"\n"
     ]
    },
    {
     "name": "stdout",
     "output_type": "stream",
     "text": [
      "iteration: 67\n",
      "iteration: 68\n",
      "iteration: 69\n",
      "iteration: 70\n"
     ]
    },
    {
     "name": "stderr",
     "output_type": "stream",
     "text": [
      "/home/wanxinli/miniconda3/lib/python3.9/site-packages/ot/bregman.py:517: UserWarning: Sinkhorn did not converge. You might want to increase the number of iterations `numItermax` or the regularization parameter `reg`.\n",
      "  warnings.warn(\"Sinkhorn did not converge. You might want to \"\n"
     ]
    },
    {
     "name": "stdout",
     "output_type": "stream",
     "text": [
      "iteration: 71\n"
     ]
    },
    {
     "name": "stderr",
     "output_type": "stream",
     "text": [
      "/home/wanxinli/miniconda3/lib/python3.9/site-packages/ot/bregman.py:517: UserWarning: Sinkhorn did not converge. You might want to increase the number of iterations `numItermax` or the regularization parameter `reg`.\n",
      "  warnings.warn(\"Sinkhorn did not converge. You might want to \"\n"
     ]
    },
    {
     "name": "stdout",
     "output_type": "stream",
     "text": [
      "iteration: 72\n"
     ]
    },
    {
     "name": "stderr",
     "output_type": "stream",
     "text": [
      "/home/wanxinli/miniconda3/lib/python3.9/site-packages/ot/bregman.py:517: UserWarning: Sinkhorn did not converge. You might want to increase the number of iterations `numItermax` or the regularization parameter `reg`.\n",
      "  warnings.warn(\"Sinkhorn did not converge. You might want to \"\n"
     ]
    },
    {
     "name": "stdout",
     "output_type": "stream",
     "text": [
      "iteration: 73\n"
     ]
    },
    {
     "name": "stderr",
     "output_type": "stream",
     "text": [
      "/home/wanxinli/miniconda3/lib/python3.9/site-packages/ot/bregman.py:517: UserWarning: Sinkhorn did not converge. You might want to increase the number of iterations `numItermax` or the regularization parameter `reg`.\n",
      "  warnings.warn(\"Sinkhorn did not converge. You might want to \"\n"
     ]
    },
    {
     "name": "stdout",
     "output_type": "stream",
     "text": [
      "iteration: 74\n",
      "iteration: 75\n",
      "iteration: 76\n"
     ]
    },
    {
     "name": "stderr",
     "output_type": "stream",
     "text": [
      "/home/wanxinli/miniconda3/lib/python3.9/site-packages/ot/bregman.py:517: UserWarning: Sinkhorn did not converge. You might want to increase the number of iterations `numItermax` or the regularization parameter `reg`.\n",
      "  warnings.warn(\"Sinkhorn did not converge. You might want to \"\n"
     ]
    },
    {
     "name": "stdout",
     "output_type": "stream",
     "text": [
      "iteration: 77\n"
     ]
    },
    {
     "name": "stderr",
     "output_type": "stream",
     "text": [
      "/home/wanxinli/miniconda3/lib/python3.9/site-packages/ot/bregman.py:517: UserWarning: Sinkhorn did not converge. You might want to increase the number of iterations `numItermax` or the regularization parameter `reg`.\n",
      "  warnings.warn(\"Sinkhorn did not converge. You might want to \"\n"
     ]
    },
    {
     "name": "stdout",
     "output_type": "stream",
     "text": [
      "iteration: 78\n",
      "iteration: 79\n"
     ]
    },
    {
     "name": "stderr",
     "output_type": "stream",
     "text": [
      "/home/wanxinli/miniconda3/lib/python3.9/site-packages/ot/bregman.py:517: UserWarning: Sinkhorn did not converge. You might want to increase the number of iterations `numItermax` or the regularization parameter `reg`.\n",
      "  warnings.warn(\"Sinkhorn did not converge. You might want to \"\n"
     ]
    },
    {
     "name": "stdout",
     "output_type": "stream",
     "text": [
      "iteration: 80\n"
     ]
    },
    {
     "name": "stderr",
     "output_type": "stream",
     "text": [
      "/home/wanxinli/miniconda3/lib/python3.9/site-packages/ot/bregman.py:517: UserWarning: Sinkhorn did not converge. You might want to increase the number of iterations `numItermax` or the regularization parameter `reg`.\n",
      "  warnings.warn(\"Sinkhorn did not converge. You might want to \"\n"
     ]
    },
    {
     "name": "stdout",
     "output_type": "stream",
     "text": [
      "iteration: 81\n",
      "iteration: 82\n"
     ]
    },
    {
     "name": "stderr",
     "output_type": "stream",
     "text": [
      "/home/wanxinli/miniconda3/lib/python3.9/site-packages/ot/bregman.py:517: UserWarning: Sinkhorn did not converge. You might want to increase the number of iterations `numItermax` or the regularization parameter `reg`.\n",
      "  warnings.warn(\"Sinkhorn did not converge. You might want to \"\n"
     ]
    },
    {
     "name": "stdout",
     "output_type": "stream",
     "text": [
      "iteration: 83\n",
      "iteration: 84\n",
      "iteration: 85\n"
     ]
    },
    {
     "name": "stderr",
     "output_type": "stream",
     "text": [
      "/home/wanxinli/miniconda3/lib/python3.9/site-packages/ot/bregman.py:517: UserWarning: Sinkhorn did not converge. You might want to increase the number of iterations `numItermax` or the regularization parameter `reg`.\n",
      "  warnings.warn(\"Sinkhorn did not converge. You might want to \"\n"
     ]
    },
    {
     "name": "stdout",
     "output_type": "stream",
     "text": [
      "iteration: 86\n"
     ]
    },
    {
     "name": "stderr",
     "output_type": "stream",
     "text": [
      "/home/wanxinli/miniconda3/lib/python3.9/site-packages/ot/bregman.py:517: UserWarning: Sinkhorn did not converge. You might want to increase the number of iterations `numItermax` or the regularization parameter `reg`.\n",
      "  warnings.warn(\"Sinkhorn did not converge. You might want to \"\n"
     ]
    },
    {
     "name": "stdout",
     "output_type": "stream",
     "text": [
      "iteration: 87\n"
     ]
    },
    {
     "name": "stderr",
     "output_type": "stream",
     "text": [
      "/home/wanxinli/miniconda3/lib/python3.9/site-packages/ot/bregman.py:517: UserWarning: Sinkhorn did not converge. You might want to increase the number of iterations `numItermax` or the regularization parameter `reg`.\n",
      "  warnings.warn(\"Sinkhorn did not converge. You might want to \"\n"
     ]
    },
    {
     "name": "stdout",
     "output_type": "stream",
     "text": [
      "iteration: 88\n",
      "iteration: 89\n",
      "iteration: 90\n",
      "iteration: 91\n",
      "iteration: 92\n",
      "iteration: 93\n",
      "iteration: 94\n",
      "iteration: 95\n",
      "iteration: 96\n",
      "iteration: 97\n",
      "iteration: 98\n"
     ]
    },
    {
     "name": "stderr",
     "output_type": "stream",
     "text": [
      "/home/wanxinli/miniconda3/lib/python3.9/site-packages/ot/bregman.py:517: UserWarning: Sinkhorn did not converge. You might want to increase the number of iterations `numItermax` or the regularization parameter `reg`.\n",
      "  warnings.warn(\"Sinkhorn did not converge. You might want to \"\n"
     ]
    },
    {
     "name": "stdout",
     "output_type": "stream",
     "text": [
      "iteration: 99\n"
     ]
    },
    {
     "data": {
      "text/plain": [
       "array([[ 339476.47877289,  487931.5632407 ,  850640.61727636,\n",
       "        1325823.96376841,  791516.67226336, 1253206.05636733],\n",
       "       [ 310120.43016104,  425456.98953928,  842572.71505153,\n",
       "        1133714.75130909,  626008.66242959, 1069811.31670198],\n",
       "       [ 444791.06103008,  632666.54402803, 1217798.81865289,\n",
       "        1706397.14050685,  831200.30716438, 1515753.98376378],\n",
       "       [ 310613.74219788,  430634.12505416,  919656.3600892 ,\n",
       "        1229787.9675443 ,  687264.74817813,  985549.58692069],\n",
       "       [ 626954.05168439, 1030498.33764636, 1272106.90815208,\n",
       "        1687479.93183641,  954034.59119225, 1386951.26213327],\n",
       "       [ 263352.60590678,  377928.38006409,  689487.59291351,\n",
       "         950637.91839833,  529303.31033133,  749679.65191675],\n",
       "       [ 290013.53766417,  400854.0490143 ,  894903.95295857,\n",
       "        1308493.31274432,  644835.17683299, 1030841.20867849],\n",
       "       [ 409731.24233021,  578279.25664266,  837773.46675371,\n",
       "        1639110.98596132,  736216.99361528, 1665491.17687222],\n",
       "       [ 307392.64786775,  452765.16596096,  762427.0019513 ,\n",
       "        1114999.9938196 ,  690358.48361654, 1096182.6599947 ],\n",
       "       [ 289832.82323016,  418361.82664476,  864632.62603607,\n",
       "        1278703.31802121,  675372.59303768, 1242679.54610704],\n",
       "       [ 381767.86317285,  577464.36098518,  979457.78028969,\n",
       "        1419969.53436243,  834078.78041823, 1412355.45660715],\n",
       "       [ 656887.7153064 , 1135673.65078586,  936496.93479599,\n",
       "        1186902.01716867,  767878.78205575, 1075093.72509451],\n",
       "       [ 345062.82317961,  479264.02188747,  996682.92511817,\n",
       "        1447350.43358483,  770566.49911191, 1257278.07637832],\n",
       "       [ 455991.10615578,  684167.22712815, 1195296.62105556,\n",
       "        1630822.31180738,  757495.71790024, 1364771.57616395],\n",
       "       [ 377941.68958726,  504709.98064193,  941032.01015922,\n",
       "        1303207.81982094,  722834.44046922, 1201015.16269648],\n",
       "       [ 367635.0302788 ,  528781.1244744 ,  761214.54901751,\n",
       "        1077101.45022095,  670678.72855687,  988433.3981997 ],\n",
       "       [ 344311.79214207,  468389.47163255,  822874.86026325,\n",
       "        1226497.13176919,  704386.89574973, 1101507.64623792],\n",
       "       [ 448125.15876186,  594260.54132758,  956024.39040338,\n",
       "        1391658.2048137 ,  706053.74085905, 1323573.03376167],\n",
       "       [ 514921.69994043,  794914.41391532, 1205542.61989679,\n",
       "        1549567.7147156 ,  790194.84404528, 1298304.00847805],\n",
       "       [ 329688.69862243,  479248.02162097,  961067.86911703,\n",
       "        1489666.41186095,  745439.92969576, 1348466.92541517],\n",
       "       [ 232231.82219691,  318738.85693778,  727447.69294423,\n",
       "        1127301.35765773,  610801.95430228, 1128093.52102676],\n",
       "       [ 293174.20336192,  424378.30445863,  928778.42653851,\n",
       "        1183746.13714481,  657786.25974534,  961177.99711019],\n",
       "       [ 263244.54131217,  381488.18252678,  759090.53429138,\n",
       "        1090842.81931261,  635950.41695394,  991128.62129393],\n",
       "       [ 384211.10223866,  550872.07513381, 1227757.3283885 ,\n",
       "        1667861.85080075,  810777.71002732, 1506943.70397487],\n",
       "       [ 431006.69444063,  640017.40655753,  899993.73696237,\n",
       "        1194503.01202116,  665547.41943989, 1029929.06929445],\n",
       "       [ 274510.26186682,  389077.9511695 ,  829332.3393587 ,\n",
       "        1151241.26785662,  610274.57419656,  977357.05812834],\n",
       "       [ 428227.97617312,  599117.20208953,  820221.64132069,\n",
       "        1097215.69049837,  720230.96798845,  984998.44754555],\n",
       "       [ 391435.33434514,  529298.98418483,  940860.16574997,\n",
       "        1492699.18003414,  730000.11064868, 1337862.56912451],\n",
       "       [ 361167.67306345,  601695.48421899,  785328.68145438,\n",
       "        1123480.40289824,  664989.22877889, 1053484.16639024],\n",
       "       [ 309770.97306914,  425597.4287303 , 1058557.79542874,\n",
       "        1545213.43840847,  733623.65013983, 1263851.69665292],\n",
       "       [ 325624.7624918 ,  483752.89808729,  981782.39267657,\n",
       "        1863362.32074601,  814917.95271538, 1810146.41211654],\n",
       "       [ 460076.19430586,  639761.32314077,  893756.42918375,\n",
       "        1195675.56671466,  724326.81213916, 1041748.24249923],\n",
       "       [ 546409.49335964,  764684.03989039, 1044238.9219058 ,\n",
       "        1306436.42007833,  701019.04267511,  997549.40113718],\n",
       "       [ 385778.29694334,  531665.70010961, 1182360.7014374 ,\n",
       "        1748870.70048031,  832637.91987842, 1496139.70643902],\n",
       "       [ 372420.40715092,  520169.6883697 ,  987017.82313068,\n",
       "        1439863.57912655,  730706.76981956, 1166717.57504896],\n",
       "       [ 297370.67745309,  406696.01672684,  714923.94332463,\n",
       "         971780.73793416,  563395.57951266,  794831.53896763],\n",
       "       [ 485797.69322434, 1003491.81752789, 1041336.48790566,\n",
       "        1490278.55252109,  856506.25069133, 1336017.92224343],\n",
       "       [ 402344.47766752,  617928.05462389, 1121755.9208368 ,\n",
       "        1650798.78467517,  802943.69054735, 1319768.33134341],\n",
       "       [ 379616.67436376,  516485.76719053,  787305.80952848,\n",
       "        1025309.79353467,  718693.43241663, 1056895.98486236],\n",
       "       [ 335455.89951611,  514019.8261483 ,  710610.6889682 ,\n",
       "        1558359.59156103,  727362.91198062, 1508917.39363131],\n",
       "       [ 339889.93171097,  458700.96544184,  970134.14558501,\n",
       "        1422930.08308688,  751161.03326376, 1274971.4661821 ],\n",
       "       [ 340138.54598452,  548477.13657351,  857568.84314666,\n",
       "        1342732.42279386,  722227.40880483, 1275401.97448705],\n",
       "       [ 440680.88984687,  731617.33340322, 1036028.7051044 ,\n",
       "        1365289.80971554,  782938.21522758, 1269006.45087545],\n",
       "       [ 343648.59854263,  490006.95309637,  954596.6197743 ,\n",
       "        1418153.3334279 ,  715403.90865691, 1068126.22356416],\n",
       "       [ 539471.32071841,  852179.13294757,  921482.31337409,\n",
       "        1122536.78648323,  692697.07483462,  921383.00694201],\n",
       "       [ 389162.11579455,  520210.15710522,  719351.43615531,\n",
       "        1183415.21357718,  663047.41609467, 1139553.1086459 ],\n",
       "       [ 340084.64899122,  461536.42252238,  810507.96548102,\n",
       "        1178533.93452216,  623603.26900744,  971861.51918367],\n",
       "       [ 386788.68095025,  530927.24887717, 1005454.46980137,\n",
       "        1311392.00435596,  895456.66297852, 1445325.14069916],\n",
       "       [ 370233.22672161,  521889.92467446,  852249.52910369,\n",
       "        1080132.08309875,  581428.85292924,  839352.96949168],\n",
       "       [ 337575.91958708,  482944.78114828,  611551.83996341,\n",
       "         806456.10952087,  503934.44976706,  690633.57661929],\n",
       "       [ 247664.42922921,  341915.6865726 ,  806273.99823968,\n",
       "        1437437.37872345,  764862.99947183, 1498269.47968032],\n",
       "       [ 282292.32269629,  417153.32727873,  742904.70960058,\n",
       "        1308502.74760079,  690002.99728651, 1328963.08000979],\n",
       "       [ 355718.92207486,  492963.09104309, 1064225.82171059,\n",
       "        1537532.64907809,  767316.62871936, 1185908.68520563],\n",
       "       [ 334834.33710763,  462161.50508776,  752678.49936744,\n",
       "        1193824.80904523,  671751.89137004, 1166962.50444804],\n",
       "       [ 310516.47019738,  420612.22782938,  842575.71271836,\n",
       "        1155446.77777408,  668576.12463653, 1056859.48287911],\n",
       "       [ 290014.60843883,  413006.33897402,  679253.17924614,\n",
       "         888241.12397393,  518894.85571571,  724830.20927538],\n",
       "       [ 352568.47267067,  477757.28653609,  940921.54465825,\n",
       "        1249217.53320007,  747410.40440546, 1096672.40676628],\n",
       "       [ 401317.58448428,  545422.17985098,  951755.60180445,\n",
       "        1674829.40755373,  842840.31605676, 1681391.44728979],\n",
       "       [ 197962.96726296,  283836.99065359,  660296.45415861,\n",
       "        1016349.54207244,  508221.83238818,  818916.76972786],\n",
       "       [ 321661.70258425,  483175.68625266, 1025411.85021956,\n",
       "        1626966.15101146,  776560.78974041, 1439893.71680038],\n",
       "       [ 234143.04351939,  315782.9150751 ,  775036.16520761,\n",
       "        1074694.06523126,  630634.43340086,  943671.9311467 ],\n",
       "       [ 368583.91641678,  564383.23244658, 1106073.99285001,\n",
       "        1503364.18048738,  777978.461459  , 1195942.32568352],\n",
       "       [ 437619.24478457,  669708.97954443, 1009992.58007981,\n",
       "        1235693.81519478,  717330.736263  ,  933144.27781985],\n",
       "       [ 312929.34397201,  450467.65336364, 1013878.82235814,\n",
       "        1611154.4076946 ,  882248.27892239, 1593525.42430204],\n",
       "       [ 510575.86852722,  747838.77018836,  914845.82713718,\n",
       "        1349641.79790684,  786776.70929845, 1120219.1358934 ],\n",
       "       [ 334252.02080856,  467909.01348084,  820304.6206717 ,\n",
       "        1355097.25768438,  704728.36444488, 1242932.80338383],\n",
       "       [ 469031.76378607,  654921.31337485, 1633878.7969767 ,\n",
       "        2607696.39402494, 1122505.55036425, 2171251.29272673],\n",
       "       [ 348268.06286743,  535565.68729529,  906087.68851659,\n",
       "        1375635.00723162,  795468.00985199, 1407849.32882848],\n",
       "       [ 416612.4701848 ,  654965.68774627,  927493.82201163,\n",
       "        1788839.82244095,  864256.33240049, 1680154.91066861],\n",
       "       [ 349634.9872446 ,  522030.0404604 ,  830727.04991464,\n",
       "        1369854.42852533,  717949.8278813 , 1300259.51696624],\n",
       "       [ 256275.49610884,  383791.35796842,  852650.43634007,\n",
       "        1457050.56798403,  737888.08595307, 1418794.00039535],\n",
       "       [ 253737.66257589,  367863.09943483,  793529.41831232,\n",
       "        1515309.04421299,  714580.97509927, 1503547.51526197],\n",
       "       [ 344170.49254652,  496464.25841048,  785460.7626108 ,\n",
       "        1076790.8333289 ,  612096.85603149,  854967.38243466],\n",
       "       [ 373514.99968697,  519560.91082431, 1117382.84138341,\n",
       "        1630667.48227028,  788659.89007078, 1265011.18845561],\n",
       "       [ 401237.72369086,  615670.36144327,  991343.71700658,\n",
       "        1361937.5998158 ,  753920.30984667, 1138639.37933243],\n",
       "       [ 316109.26317077,  394760.13287685, 1167384.41377712,\n",
       "        1558313.5762642 ,  746624.95124318, 1320178.08626015],\n",
       "       [ 334420.75749814,  500503.18159327,  752914.19624654,\n",
       "        1251284.19076478,  585636.34570919, 1014730.29570115],\n",
       "       [ 349702.86826165,  508029.64178718, 1057388.77134953,\n",
       "        1392685.64345056,  631021.26129246, 1093142.77226183],\n",
       "       [ 361899.42850315,  567531.77624852, 1140568.96438202,\n",
       "        1742368.66578278,  761461.93662271, 1526531.63497904],\n",
       "       [ 317199.74805884,  453982.49242497, 1337877.0152219 ,\n",
       "        1984259.31209288,  939716.00263122, 1535874.95674771],\n",
       "       [ 460749.100719  ,  645680.80066243, 1163410.40537854,\n",
       "        1839885.63877944, 1040655.4892985 , 1808426.34347845],\n",
       "       [ 355680.58278506,  479613.47673504, 1039100.51098293,\n",
       "        1500260.87474142,  765016.71998074, 1326204.07482269],\n",
       "       [ 478095.68640394,  772742.80235613, 1120287.92004781,\n",
       "        1510270.86711048,  796745.69255684, 1173273.3823263 ],\n",
       "       [ 335472.6623544 ,  449042.55948846, 1083105.07901386,\n",
       "        1616522.89101072,  777758.64159103, 1325154.53938943],\n",
       "       [ 235830.20143034,  316100.68809143,  875998.71708648,\n",
       "        1340924.39031772,  693312.87697588, 1137241.04970658],\n",
       "       [ 242799.45441128,  329229.05083308,  817030.50064787,\n",
       "        1176488.22527395,  575411.81714406,  887042.69923649],\n",
       "       [ 413160.38714886,  556605.47005175, 1021414.78211026,\n",
       "        1395589.13760907,  837441.01152945, 1346242.3186084 ],\n",
       "       [ 280781.41486776,  416776.32491809,  727859.62592716,\n",
       "        1056527.42635829,  629669.96456587, 1007705.70382023],\n",
       "       [ 365663.65919476,  489177.37285062, 1025376.48761369,\n",
       "        1701097.96964904,  828824.05188298, 1602043.18213026],\n",
       "       [ 227408.14882018,  312609.24365095,  645277.83974009,\n",
       "        1092091.08068755,  575300.38517812, 1062705.43397469],\n",
       "       [ 247777.75669865,  370968.6377135 ,  872782.95988378,\n",
       "        1521072.1958978 ,  706460.83989542, 1328299.05417105],\n",
       "       [ 364276.23375803,  565382.35399352, 1098208.99644607,\n",
       "        1427701.07488128,  812212.5178253 , 1219311.28041425],\n",
       "       [ 261467.44811039,  503076.88670696,  876056.19974837,\n",
       "        1260094.27457556,  741307.69436819, 1194663.48520868],\n",
       "       [ 259136.78454692,  351586.8340103 ,  829207.969305  ,\n",
       "        1056626.56783464,  600174.58134104,  820689.79503491],\n",
       "       [ 260036.24906492,  332275.68112589,  822069.87179926,\n",
       "        1199106.88344251,  641337.38396408, 1057654.46921679],\n",
       "       [ 322575.91523111,  438961.95458207,  631803.12253669,\n",
       "         962724.2169536 ,  648496.26189081,  970824.14820998],\n",
       "       [ 355244.48608151,  507035.0784583 ,  996626.83447496,\n",
       "        1409344.9113503 ,  764255.78810342, 1275096.84222997],\n",
       "       [ 293681.8550772 ,  394018.08710133,  829292.71301758,\n",
       "        1321987.09137789,  756438.1095813 , 1267765.68097752],\n",
       "       [ 295577.60339714,  431006.76891998,  706099.0573533 ,\n",
       "        1141660.41576979,  586875.87066174, 1058553.3965547 ],\n",
       "       [ 348762.93368044,  547288.87972263,  880543.4570633 ,\n",
       "        1163373.89574503,  702632.06525766, 1097092.84834589]])"
      ]
     },
     "execution_count": 9,
     "metadata": {},
     "output_type": "execute_result"
    }
   ],
   "source": [
    "\"\"\" \n",
    "Run multiple iterations using linear regression\n",
    "\"\"\"\n",
    "score_path = os.path.join(output_dir, \"exp4_linear_score.csv\")\n",
    "male_count = 120\n",
    "female_count = 100\n",
    "\n",
    "multi_proc_cts(score_path, n_components, admid_diagnosis_df, custom_train_reps, \\\n",
    "    male_count, female_count, model_func = linear_model.LinearRegression, iteration=100)"
   ]
  },
  {
   "cell_type": "code",
   "execution_count": 4,
   "metadata": {},
   "outputs": [
    {
     "data": {
      "text/plain": [
       "<Figure size 640x480 with 0 Axes>"
      ]
     },
     "metadata": {},
     "output_type": "display_data"
    },
    {
     "data": {
      "image/png": "[encoded data removed]",
      "text/plain": [
       "<Figure size 640x480 with 1 Axes>"
      ]
     },
     "metadata": {},
     "output_type": "display_data"
    },
    {
     "data": {
      "text/plain": [
       "(0.7797166457971639, 0.8921478660891887)"
      ]
     },
     "execution_count": 4,
     "metadata": {},
     "output_type": "execute_result"
    }
   ],
   "source": [
    "score_path = os.path.join(output_dir, \"exp4_linear_score.csv\")\n",
    "save_path = \"../../outputs/mimic/exp4_linear_res.png\"\n",
    "\n",
    "box_plot_cts_short(score_path, save_path=save_path)"
   ]
  },
  {
   "cell_type": "code",
   "execution_count": 33,
   "metadata": {},
   "outputs": [
    {
     "data": {
      "image/png": "[encoded data removed]",
      "text/plain": [
       "<Figure size 800x400 with 2 Axes>"
      ]
     },
     "metadata": {},
     "output_type": "display_data"
    }
   ],
   "source": [
    "def special_div(x, y):\n",
    "    \"\"\" \n",
    "    Special division operation\n",
    "    \"\"\"\n",
    "    if y == 0:\n",
    "        y = 1e-5\n",
    "    return x/y\n",
    "\n",
    "fig, axes = plt.subplots(nrows=1, ncols=2)\n",
    "fig.set_figheight(4)\n",
    "fig.set_figwidth(8)\n",
    "\n",
    "# plt.subplot(1,2,1)\n",
    "score_path = os.path.join(output_dir, \"exp4_linear_score.csv\")\n",
    "\n",
    "scores_df = pd.read_csv(score_path, index_col=None, header=0)\n",
    "\n",
    "source_mae = scores_df['source_mae']\n",
    "source_rmse = scores_df['source_rmse']\n",
    "\n",
    "trans_source_mae = scores_df['trans_source_mae']\n",
    "trans_source_rmse = scores_df['trans_source_rmse']\n",
    "\n",
    "# transported source to source mae\n",
    "trans_source_source_mae = [special_div(i, j) for i, j in zip(trans_source_mae, source_mae)]\n",
    "\n",
    "# transported source to source rmse\n",
    "trans_source_source_rmse = [special_div(i, j) for i, j in zip(trans_source_rmse, source_rmse)]\n",
    "\n",
    "\n",
    "# Pandas dataframe\n",
    "data = pd.DataFrame({\n",
    "    'MAE': trans_source_source_mae,\n",
    "    'RMSE': trans_source_source_rmse\n",
    "})\n",
    "\n",
    "# Plot the dataframe\n",
    "ax = data[['MAE', 'RMSE']].plot(kind='box', ax=axes[0])\n",
    "\n",
    "# Plot the baseline\n",
    "ax.axhline(y = 1, color = 'r', linestyle = '-')\n",
    "\n",
    "ax.tick_params(labelsize=15)\n",
    "ax.set_title(\"(a) Linear\", fontweight='bold', loc='left')\n",
    "\n",
    "######################################################\n",
    "\n",
    "score_path = os.path.join(output_dir, \"exp4_poisson_score.csv\")\n",
    "\n",
    "scores_df = pd.read_csv(score_path, index_col=None, header=0)\n",
    "\n",
    "source_mae = scores_df['source_mae']\n",
    "source_rmse = scores_df['source_rmse']\n",
    "\n",
    "trans_source_mae = scores_df['trans_source_mae']\n",
    "trans_source_rmse = scores_df['trans_source_rmse']\n",
    "\n",
    "# transported source to source mae\n",
    "trans_source_source_mae = [special_div(i, j) for i, j in zip(trans_source_mae, source_mae)]\n",
    "\n",
    "# transported source to source rmse\n",
    "trans_source_source_rmse = [special_div(i, j) for i, j in zip(trans_source_rmse, source_rmse)]\n",
    "\n",
    "\n",
    "# Pandas dataframe\n",
    "data = pd.DataFrame({\n",
    "    'MAE': trans_source_source_mae,\n",
    "    'RMSE': trans_source_source_rmse\n",
    "})\n",
    "\n",
    "# Plot the dataframe\n",
    "ax = data[['MAE', 'RMSE']].plot(kind='box', ax=axes[1])\n",
    "\n",
    "# Plot the baseline\n",
    "ax.axhline(y = 1, color = 'r', linestyle = '-')\n",
    "\n",
    "ax.tick_params(labelsize=15)\n",
    "plt.title(\"(b) Poisson\", fontweight='bold', loc='left')\n",
    "plt.tight_layout()\n",
    "\n",
    "save_path = os.path.join(output_dir, \"exp4_res.pdf\")\n",
    "plt.savefig(save_path, bbox_inches='tight')\n",
    "plt.show()"
   ]
  },
  {
   "cell_type": "code",
   "execution_count": null,
   "metadata": {},
   "outputs": [],
   "source": []
  },
  {
   "cell_type": "code",
   "execution_count": null,
   "metadata": {},
   "outputs": [],
   "source": []
  },
  {
   "cell_type": "code",
   "execution_count": null,
   "metadata": {},
   "outputs": [],
   "source": []
  }
 ],
 "metadata": {
  "kernelspec": {
   "display_name": "Python 3",
   "language": "python",
   "name": "python3"
  },
  "language_info": {
   "codemirror_mode": {
    "name": "ipython",
    "version": 3
   },
   "file_extension": ".py",
   "mimetype": "text/x-python",
   "name": "python",
   "nbconvert_exporter": "python",
   "pygments_lexer": "ipython3",
   "version": "3.8.10"
  },
  "orig_nbformat": 4,
  "vscode": {
   "interpreter": {
    "hash": "916dbcbb3f70747c44a77c7bcd40155683ae19c65e1c03b4aa3499c5328201f1"
   }
  }
 },
 "nbformat": 4,
 "nbformat_minor": 2
}
