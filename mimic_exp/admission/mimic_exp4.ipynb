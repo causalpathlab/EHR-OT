{
 "cells": [
  {
   "cell_type": "code",
   "execution_count": 1,
   "metadata": {},
   "outputs": [
    {
     "data": {
      "text/plain": [
       "' \\nExplore the relatinoship between ICU stay and diagnoise codes\\n'"
      ]
     },
     "execution_count": 1,
     "metadata": {},
     "output_type": "execute_result"
    }
   ],
   "source": [
    "\"\"\" \n",
    "Explore the relatinoship between hospitalization duration and diagnoise codes\n",
    "\"\"\""
   ]
  },
  {
   "cell_type": "code",
   "execution_count": 2,
   "metadata": {},
   "outputs": [],
   "source": [
    "import sys\n",
    "sys.path.append(\"/home/wanxinli/deep_patient/\")\n",
    "\n",
    "from ast import literal_eval\n",
    "from common import *\n",
    "from mimic_common import *\n",
    "from multiprocess import Pool\n",
    "import os\n",
    "import random\n",
    "from sklearn.linear_model import LogisticRegression\n",
    "from sklearn.svm import SVC\n",
    "from sklearn.svm import SVR\n",
    "from sklearn.decomposition import PCA\n",
    "from sklearn.metrics import precision_score, recall_score, accuracy_score, f1_score\n",
    "import time\n"
   ]
  },
  {
   "cell_type": "code",
   "execution_count": 3,
   "metadata": {},
   "outputs": [
    {
     "name": "stdout",
     "output_type": "stream",
     "text": [
      "Will save outputs to /home/wanxinli/deep_patient/outputs/mimic\n"
     ]
    }
   ],
   "source": [
    "output_dir = os.path.join(os.path.expanduser(\"~\"), f\"deep_patient/outputs/mimic\")\n",
    "print(f\"Will save outputs to {output_dir}\")"
   ]
  },
  {
   "cell_type": "code",
   "execution_count": 4,
   "metadata": {},
   "outputs": [
    {
     "name": "stdout",
     "output_type": "stream",
     "text": [
      "         adm_type gender                                          ICD codes  \\\n",
      "admid                                                                         \n",
      "172335  EMERGENCY      F  [40301, 486, 58281, 5855, 4254, 2762, 7100, 27...   \n",
      "173633  EMERGENCY      F  [40301, 5856, 58381, 7100, 5589, 2875, 28521, ...   \n",
      "174105  EMERGENCY      M                   [53100, 41071, 2859, 41401, 725]   \n",
      "109976  EMERGENCY      M                                [1915, 3314, 53081]   \n",
      "178393   ELECTIVE      M             [41401, 4111, 48283, 2859, 2720, 3051]   \n",
      "...           ...    ...                                                ...   \n",
      "172304   ELECTIVE      F             [20280, 3485, 7843, 4019, 2720, 53081]   \n",
      "152542  EMERGENCY      M  [566, 25062, 3572, V5867, 42731, 4019, 4280, 5...   \n",
      "161999  EMERGENCY      M  [43411, 3485, 3484, 430, 34830, 99731, 51883, ...   \n",
      "189314  EMERGENCY      F  [34680, 7843, 7455, 78194, 36840, 7813, 7820, ...   \n",
      "168949  EMERGENCY      M  [0529, 4162, 20192, 135, 27669, 5178, 42731, V...   \n",
      "\n",
      "         duration                                   diagnosis  label  \n",
      "admid                                                                 \n",
      "172335   530460.0                                    LEG PAIN      0  \n",
      "173633   574560.0                              ABDOMINAL PAIN      0  \n",
      "174105   425460.0                      GASTROINTESTINAL BLEED      0  \n",
      "109976  1284240.0                               HYDROCEPHALUS      0  \n",
      "178393   485280.0                                     USA/SDA      0  \n",
      "...           ...                                         ...    ...  \n",
      "172304   449700.0                        LEFT BRAIN TUMOR/SDA      0  \n",
      "152542   415740.0                          PERIRECTAL ABSCESS      0  \n",
      "161999   692940.0                            STROKE;TELEMETRY      0  \n",
      "189314   150060.0  STROKE;TELEMETRY;TRANSIENT ISCHEMIC ATTACK      0  \n",
      "168949   688980.0                              ABDOMINAL PAIN      0  \n",
      "\n",
      "[58976 rows x 6 columns]\n",
      "female: 26026\n",
      "male: 32950\n"
     ]
    }
   ],
   "source": [
    "\"\"\" \n",
    "Read in the original dataframe\n",
    "\"\"\"\n",
    "admid_diagnosis_df = pd.read_csv(\"../../outputs/mimic/ADMID_DIAGNOSIS.csv\", index_col=0, header=0, converters={'ICD codes': literal_eval})\n",
    "print(admid_diagnosis_df)\n",
    "\n",
    "\"\"\" \n",
    "Print number of patients for each category\n",
    "\"\"\"\n",
    "print(\"female:\", admid_diagnosis_df.loc[(admid_diagnosis_df['gender'] == 'F')].shape[0])\n",
    "print(\"male:\", admid_diagnosis_df.loc[(admid_diagnosis_df['gender'] == 'M')].shape[0])\n"
   ]
  },
  {
   "cell_type": "code",
   "execution_count": 5,
   "metadata": {},
   "outputs": [],
   "source": [
    "\"\"\"\n",
    "Train deep patient model and generate representations for targets and sources\n",
    "\"\"\"\n",
    "\n",
    "def custom_train_reps(target_features, source_features, n_components, pca_explain=False):\n",
    "    \"\"\" \n",
    "    Customized training algorithm for generating target representations and source representations\n",
    "\n",
    "    :param bool pca_explain: print the explained variance of each components\n",
    "    \n",
    "    :returns: target representations, source representations\n",
    "    \"\"\"\n",
    "    source_pca = PCA(n_components=n_components)\n",
    "    target_pca = PCA(n_components=n_components)\n",
    "    target_reps = target_pca.fit_transform(target_features)\n",
    "    source_reps = source_pca.fit_transform(source_features)\n",
    "\n",
    "    if pca_explain:\n",
    "        source_exp_var = source_pca.explained_variance_ratio_\n",
    "        source_cum_sum_var = np.cumsum(source_exp_var)\n",
    "        target_exp_var = target_pca.explained_variance_ratio_\n",
    "        target_cum_sum_var = np.cumsum(target_exp_var)\n",
    "        print(\"Cummulative variance explained by the source PCA is:\", source_cum_sum_var)\n",
    "        print(\"Cummulative variance explained by the target PCA is:\", target_cum_sum_var)\n",
    "\n",
    "    return target_reps, source_reps"
   ]
  },
  {
   "cell_type": "code",
   "execution_count": 6,
   "metadata": {},
   "outputs": [
    {
     "name": "stderr",
     "output_type": "stream",
     "text": [
      "/home/wanxinli/miniconda3/lib/python3.9/site-packages/ot/bregman.py:517: UserWarning: Sinkhorn did not converge. You might want to increase the number of iterations `numItermax` or the regularization parameter `reg`.\n",
      "  warnings.warn(\"Sinkhorn did not converge. You might want to \"\n"
     ]
    },
    {
     "data": {
      "text/plain": [
       "(334311.5404340183,\n",
       " 590570.5903603239,\n",
       " 961072.2389908503,\n",
       " 1341315.3840741697,\n",
       " 773031.2252811207,\n",
       " 1124120.8826016937)"
      ]
     },
     "execution_count": 6,
     "metadata": {},
     "output_type": "execute_result"
    }
   ],
   "source": [
    "n_components = 50\n",
    "model_func = linear_model.LinearRegression\n",
    "entire_proc_cts(n_components, admid_diagnosis_df, custom_train_reps, model_func, male_count = 120, female_count = 100, pca_explain=False)"
   ]
  },
  {
   "cell_type": "code",
   "execution_count": 8,
   "metadata": {},
   "outputs": [
    {
     "name": "stdout",
     "output_type": "stream",
     "text": [
      "iteration: 0\n"
     ]
    },
    {
     "name": "stderr",
     "output_type": "stream",
     "text": [
      "/home/wanxinli/miniconda3/lib/python3.9/site-packages/ot/bregman.py:517: UserWarning: Sinkhorn did not converge. You might want to increase the number of iterations `numItermax` or the regularization parameter `reg`.\n",
      "  warnings.warn(\"Sinkhorn did not converge. You might want to \"\n"
     ]
    },
    {
     "name": "stdout",
     "output_type": "stream",
     "text": [
      "iteration: 1\n",
      "iteration: 2\n",
      "iteration: 3\n"
     ]
    },
    {
     "name": "stderr",
     "output_type": "stream",
     "text": [
      "/home/wanxinli/miniconda3/lib/python3.9/site-packages/ot/bregman.py:517: UserWarning: Sinkhorn did not converge. You might want to increase the number of iterations `numItermax` or the regularization parameter `reg`.\n",
      "  warnings.warn(\"Sinkhorn did not converge. You might want to \"\n"
     ]
    },
    {
     "name": "stdout",
     "output_type": "stream",
     "text": [
      "iteration: 4\n"
     ]
    },
    {
     "name": "stderr",
     "output_type": "stream",
     "text": [
      "/home/wanxinli/miniconda3/lib/python3.9/site-packages/ot/bregman.py:517: UserWarning: Sinkhorn did not converge. You might want to increase the number of iterations `numItermax` or the regularization parameter `reg`.\n",
      "  warnings.warn(\"Sinkhorn did not converge. You might want to \"\n"
     ]
    },
    {
     "name": "stdout",
     "output_type": "stream",
     "text": [
      "iteration: 5\n"
     ]
    },
    {
     "name": "stderr",
     "output_type": "stream",
     "text": [
      "/home/wanxinli/miniconda3/lib/python3.9/site-packages/ot/bregman.py:517: UserWarning: Sinkhorn did not converge. You might want to increase the number of iterations `numItermax` or the regularization parameter `reg`.\n",
      "  warnings.warn(\"Sinkhorn did not converge. You might want to \"\n"
     ]
    },
    {
     "name": "stdout",
     "output_type": "stream",
     "text": [
      "iteration: 6\n",
      "iteration: 7\n"
     ]
    },
    {
     "name": "stderr",
     "output_type": "stream",
     "text": [
      "/home/wanxinli/miniconda3/lib/python3.9/site-packages/ot/bregman.py:517: UserWarning: Sinkhorn did not converge. You might want to increase the number of iterations `numItermax` or the regularization parameter `reg`.\n",
      "  warnings.warn(\"Sinkhorn did not converge. You might want to \"\n"
     ]
    },
    {
     "name": "stdout",
     "output_type": "stream",
     "text": [
      "iteration: 8\n",
      "iteration: 9\n",
      "iteration: 10\n",
      "iteration: 11\n"
     ]
    },
    {
     "name": "stderr",
     "output_type": "stream",
     "text": [
      "/home/wanxinli/miniconda3/lib/python3.9/site-packages/ot/bregman.py:517: UserWarning: Sinkhorn did not converge. You might want to increase the number of iterations `numItermax` or the regularization parameter `reg`.\n",
      "  warnings.warn(\"Sinkhorn did not converge. You might want to \"\n"
     ]
    },
    {
     "name": "stdout",
     "output_type": "stream",
     "text": [
      "iteration: 12\n",
      "iteration: 13\n"
     ]
    },
    {
     "name": "stderr",
     "output_type": "stream",
     "text": [
      "/home/wanxinli/miniconda3/lib/python3.9/site-packages/ot/bregman.py:517: UserWarning: Sinkhorn did not converge. You might want to increase the number of iterations `numItermax` or the regularization parameter `reg`.\n",
      "  warnings.warn(\"Sinkhorn did not converge. You might want to \"\n"
     ]
    },
    {
     "name": "stdout",
     "output_type": "stream",
     "text": [
      "iteration: 14\n"
     ]
    },
    {
     "name": "stderr",
     "output_type": "stream",
     "text": [
      "/home/wanxinli/miniconda3/lib/python3.9/site-packages/ot/bregman.py:517: UserWarning: Sinkhorn did not converge. You might want to increase the number of iterations `numItermax` or the regularization parameter `reg`.\n",
      "  warnings.warn(\"Sinkhorn did not converge. You might want to \"\n"
     ]
    },
    {
     "name": "stdout",
     "output_type": "stream",
     "text": [
      "iteration: 15\n",
      "iteration: 16\n",
      "iteration: 17\n",
      "iteration: 18\n"
     ]
    },
    {
     "name": "stderr",
     "output_type": "stream",
     "text": [
      "/home/wanxinli/miniconda3/lib/python3.9/site-packages/ot/bregman.py:517: UserWarning: Sinkhorn did not converge. You might want to increase the number of iterations `numItermax` or the regularization parameter `reg`.\n",
      "  warnings.warn(\"Sinkhorn did not converge. You might want to \"\n"
     ]
    },
    {
     "name": "stdout",
     "output_type": "stream",
     "text": [
      "iteration: 19\n"
     ]
    },
    {
     "name": "stderr",
     "output_type": "stream",
     "text": [
      "/home/wanxinli/miniconda3/lib/python3.9/site-packages/ot/bregman.py:517: UserWarning: Sinkhorn did not converge. You might want to increase the number of iterations `numItermax` or the regularization parameter `reg`.\n",
      "  warnings.warn(\"Sinkhorn did not converge. You might want to \"\n"
     ]
    },
    {
     "name": "stdout",
     "output_type": "stream",
     "text": [
      "iteration: 20\n",
      "iteration: 21\n"
     ]
    },
    {
     "name": "stderr",
     "output_type": "stream",
     "text": [
      "/home/wanxinli/miniconda3/lib/python3.9/site-packages/ot/bregman.py:517: UserWarning: Sinkhorn did not converge. You might want to increase the number of iterations `numItermax` or the regularization parameter `reg`.\n",
      "  warnings.warn(\"Sinkhorn did not converge. You might want to \"\n"
     ]
    },
    {
     "name": "stdout",
     "output_type": "stream",
     "text": [
      "iteration: 22\n"
     ]
    },
    {
     "name": "stderr",
     "output_type": "stream",
     "text": [
      "/home/wanxinli/miniconda3/lib/python3.9/site-packages/ot/bregman.py:517: UserWarning: Sinkhorn did not converge. You might want to increase the number of iterations `numItermax` or the regularization parameter `reg`.\n",
      "  warnings.warn(\"Sinkhorn did not converge. You might want to \"\n"
     ]
    },
    {
     "name": "stdout",
     "output_type": "stream",
     "text": [
      "iteration: 23\n"
     ]
    },
    {
     "name": "stderr",
     "output_type": "stream",
     "text": [
      "/home/wanxinli/miniconda3/lib/python3.9/site-packages/ot/bregman.py:517: UserWarning: Sinkhorn did not converge. You might want to increase the number of iterations `numItermax` or the regularization parameter `reg`.\n",
      "  warnings.warn(\"Sinkhorn did not converge. You might want to \"\n"
     ]
    },
    {
     "name": "stdout",
     "output_type": "stream",
     "text": [
      "iteration: 24\n"
     ]
    },
    {
     "name": "stderr",
     "output_type": "stream",
     "text": [
      "/home/wanxinli/miniconda3/lib/python3.9/site-packages/ot/bregman.py:517: UserWarning: Sinkhorn did not converge. You might want to increase the number of iterations `numItermax` or the regularization parameter `reg`.\n",
      "  warnings.warn(\"Sinkhorn did not converge. You might want to \"\n"
     ]
    },
    {
     "name": "stdout",
     "output_type": "stream",
     "text": [
      "iteration: 25\n",
      "iteration: 26\n",
      "iteration: 27\n"
     ]
    },
    {
     "name": "stderr",
     "output_type": "stream",
     "text": [
      "/home/wanxinli/miniconda3/lib/python3.9/site-packages/ot/bregman.py:517: UserWarning: Sinkhorn did not converge. You might want to increase the number of iterations `numItermax` or the regularization parameter `reg`.\n",
      "  warnings.warn(\"Sinkhorn did not converge. You might want to \"\n"
     ]
    },
    {
     "name": "stdout",
     "output_type": "stream",
     "text": [
      "iteration: 28\n",
      "iteration: 29\n"
     ]
    },
    {
     "name": "stderr",
     "output_type": "stream",
     "text": [
      "/home/wanxinli/miniconda3/lib/python3.9/site-packages/ot/bregman.py:517: UserWarning: Sinkhorn did not converge. You might want to increase the number of iterations `numItermax` or the regularization parameter `reg`.\n",
      "  warnings.warn(\"Sinkhorn did not converge. You might want to \"\n"
     ]
    },
    {
     "name": "stdout",
     "output_type": "stream",
     "text": [
      "iteration: 30\n"
     ]
    },
    {
     "name": "stderr",
     "output_type": "stream",
     "text": [
      "/home/wanxinli/miniconda3/lib/python3.9/site-packages/ot/bregman.py:517: UserWarning: Sinkhorn did not converge. You might want to increase the number of iterations `numItermax` or the regularization parameter `reg`.\n",
      "  warnings.warn(\"Sinkhorn did not converge. You might want to \"\n"
     ]
    },
    {
     "name": "stdout",
     "output_type": "stream",
     "text": [
      "iteration: 31\n",
      "iteration: 32\n",
      "iteration: 33\n"
     ]
    },
    {
     "name": "stderr",
     "output_type": "stream",
     "text": [
      "/home/wanxinli/miniconda3/lib/python3.9/site-packages/ot/bregman.py:517: UserWarning: Sinkhorn did not converge. You might want to increase the number of iterations `numItermax` or the regularization parameter `reg`.\n",
      "  warnings.warn(\"Sinkhorn did not converge. You might want to \"\n"
     ]
    },
    {
     "name": "stdout",
     "output_type": "stream",
     "text": [
      "iteration: 34\n",
      "iteration: 35\n",
      "iteration: 36\n",
      "iteration: 37\n"
     ]
    },
    {
     "name": "stderr",
     "output_type": "stream",
     "text": [
      "/home/wanxinli/miniconda3/lib/python3.9/site-packages/ot/bregman.py:517: UserWarning: Sinkhorn did not converge. You might want to increase the number of iterations `numItermax` or the regularization parameter `reg`.\n",
      "  warnings.warn(\"Sinkhorn did not converge. You might want to \"\n"
     ]
    },
    {
     "name": "stdout",
     "output_type": "stream",
     "text": [
      "iteration: 38\n",
      "iteration: 39\n"
     ]
    },
    {
     "name": "stderr",
     "output_type": "stream",
     "text": [
      "/home/wanxinli/miniconda3/lib/python3.9/site-packages/ot/bregman.py:517: UserWarning: Sinkhorn did not converge. You might want to increase the number of iterations `numItermax` or the regularization parameter `reg`.\n",
      "  warnings.warn(\"Sinkhorn did not converge. You might want to \"\n"
     ]
    },
    {
     "name": "stdout",
     "output_type": "stream",
     "text": [
      "iteration: 40\n"
     ]
    },
    {
     "name": "stderr",
     "output_type": "stream",
     "text": [
      "/home/wanxinli/miniconda3/lib/python3.9/site-packages/ot/bregman.py:517: UserWarning: Sinkhorn did not converge. You might want to increase the number of iterations `numItermax` or the regularization parameter `reg`.\n",
      "  warnings.warn(\"Sinkhorn did not converge. You might want to \"\n"
     ]
    },
    {
     "name": "stdout",
     "output_type": "stream",
     "text": [
      "iteration: 41\n",
      "iteration: 42\n",
      "iteration: 43\n"
     ]
    },
    {
     "name": "stderr",
     "output_type": "stream",
     "text": [
      "/home/wanxinli/miniconda3/lib/python3.9/site-packages/ot/bregman.py:517: UserWarning: Sinkhorn did not converge. You might want to increase the number of iterations `numItermax` or the regularization parameter `reg`.\n",
      "  warnings.warn(\"Sinkhorn did not converge. You might want to \"\n"
     ]
    },
    {
     "name": "stdout",
     "output_type": "stream",
     "text": [
      "iteration: 44\n"
     ]
    },
    {
     "name": "stderr",
     "output_type": "stream",
     "text": [
      "/home/wanxinli/miniconda3/lib/python3.9/site-packages/ot/bregman.py:517: UserWarning: Sinkhorn did not converge. You might want to increase the number of iterations `numItermax` or the regularization parameter `reg`.\n",
      "  warnings.warn(\"Sinkhorn did not converge. You might want to \"\n"
     ]
    },
    {
     "name": "stdout",
     "output_type": "stream",
     "text": [
      "iteration: 45\n",
      "iteration: 46\n"
     ]
    },
    {
     "name": "stderr",
     "output_type": "stream",
     "text": [
      "/home/wanxinli/miniconda3/lib/python3.9/site-packages/ot/bregman.py:517: UserWarning: Sinkhorn did not converge. You might want to increase the number of iterations `numItermax` or the regularization parameter `reg`.\n",
      "  warnings.warn(\"Sinkhorn did not converge. You might want to \"\n"
     ]
    },
    {
     "name": "stdout",
     "output_type": "stream",
     "text": [
      "iteration: 47\n",
      "iteration: 48\n"
     ]
    },
    {
     "name": "stderr",
     "output_type": "stream",
     "text": [
      "/home/wanxinli/miniconda3/lib/python3.9/site-packages/ot/bregman.py:517: UserWarning: Sinkhorn did not converge. You might want to increase the number of iterations `numItermax` or the regularization parameter `reg`.\n",
      "  warnings.warn(\"Sinkhorn did not converge. You might want to \"\n"
     ]
    },
    {
     "name": "stdout",
     "output_type": "stream",
     "text": [
      "iteration: 49\n",
      "iteration: 50\n"
     ]
    },
    {
     "name": "stderr",
     "output_type": "stream",
     "text": [
      "/home/wanxinli/miniconda3/lib/python3.9/site-packages/ot/bregman.py:517: UserWarning: Sinkhorn did not converge. You might want to increase the number of iterations `numItermax` or the regularization parameter `reg`.\n",
      "  warnings.warn(\"Sinkhorn did not converge. You might want to \"\n"
     ]
    },
    {
     "name": "stdout",
     "output_type": "stream",
     "text": [
      "iteration: 51\n"
     ]
    },
    {
     "name": "stderr",
     "output_type": "stream",
     "text": [
      "/home/wanxinli/miniconda3/lib/python3.9/site-packages/ot/bregman.py:517: UserWarning: Sinkhorn did not converge. You might want to increase the number of iterations `numItermax` or the regularization parameter `reg`.\n",
      "  warnings.warn(\"Sinkhorn did not converge. You might want to \"\n"
     ]
    },
    {
     "name": "stdout",
     "output_type": "stream",
     "text": [
      "iteration: 52\n",
      "iteration: 53\n"
     ]
    },
    {
     "name": "stderr",
     "output_type": "stream",
     "text": [
      "/home/wanxinli/miniconda3/lib/python3.9/site-packages/ot/bregman.py:517: UserWarning: Sinkhorn did not converge. You might want to increase the number of iterations `numItermax` or the regularization parameter `reg`.\n",
      "  warnings.warn(\"Sinkhorn did not converge. You might want to \"\n"
     ]
    },
    {
     "name": "stdout",
     "output_type": "stream",
     "text": [
      "iteration: 54\n"
     ]
    },
    {
     "name": "stderr",
     "output_type": "stream",
     "text": [
      "/home/wanxinli/miniconda3/lib/python3.9/site-packages/ot/bregman.py:517: UserWarning: Sinkhorn did not converge. You might want to increase the number of iterations `numItermax` or the regularization parameter `reg`.\n",
      "  warnings.warn(\"Sinkhorn did not converge. You might want to \"\n"
     ]
    },
    {
     "name": "stdout",
     "output_type": "stream",
     "text": [
      "iteration: 55\n",
      "iteration: 56\n"
     ]
    },
    {
     "name": "stderr",
     "output_type": "stream",
     "text": [
      "/home/wanxinli/miniconda3/lib/python3.9/site-packages/ot/bregman.py:517: UserWarning: Sinkhorn did not converge. You might want to increase the number of iterations `numItermax` or the regularization parameter `reg`.\n",
      "  warnings.warn(\"Sinkhorn did not converge. You might want to \"\n"
     ]
    },
    {
     "name": "stdout",
     "output_type": "stream",
     "text": [
      "iteration: 57\n",
      "iteration: 58\n",
      "iteration: 59\n",
      "iteration: 60\n",
      "iteration: 61\n",
      "iteration: 62\n",
      "iteration: 63\n",
      "iteration: 64\n"
     ]
    },
    {
     "name": "stderr",
     "output_type": "stream",
     "text": [
      "/home/wanxinli/miniconda3/lib/python3.9/site-packages/ot/bregman.py:517: UserWarning: Sinkhorn did not converge. You might want to increase the number of iterations `numItermax` or the regularization parameter `reg`.\n",
      "  warnings.warn(\"Sinkhorn did not converge. You might want to \"\n"
     ]
    },
    {
     "name": "stdout",
     "output_type": "stream",
     "text": [
      "iteration: 65\n"
     ]
    },
    {
     "name": "stderr",
     "output_type": "stream",
     "text": [
      "/home/wanxinli/miniconda3/lib/python3.9/site-packages/ot/bregman.py:517: UserWarning: Sinkhorn did not converge. You might want to increase the number of iterations `numItermax` or the regularization parameter `reg`.\n",
      "  warnings.warn(\"Sinkhorn did not converge. You might want to \"\n"
     ]
    },
    {
     "name": "stdout",
     "output_type": "stream",
     "text": [
      "iteration: 66\n",
      "iteration: 67\n"
     ]
    },
    {
     "name": "stderr",
     "output_type": "stream",
     "text": [
      "/home/wanxinli/miniconda3/lib/python3.9/site-packages/ot/bregman.py:517: UserWarning: Sinkhorn did not converge. You might want to increase the number of iterations `numItermax` or the regularization parameter `reg`.\n",
      "  warnings.warn(\"Sinkhorn did not converge. You might want to \"\n"
     ]
    },
    {
     "name": "stdout",
     "output_type": "stream",
     "text": [
      "iteration: 68\n"
     ]
    },
    {
     "name": "stderr",
     "output_type": "stream",
     "text": [
      "/home/wanxinli/miniconda3/lib/python3.9/site-packages/ot/bregman.py:517: UserWarning: Sinkhorn did not converge. You might want to increase the number of iterations `numItermax` or the regularization parameter `reg`.\n",
      "  warnings.warn(\"Sinkhorn did not converge. You might want to \"\n"
     ]
    },
    {
     "name": "stdout",
     "output_type": "stream",
     "text": [
      "iteration: 69\n"
     ]
    },
    {
     "name": "stderr",
     "output_type": "stream",
     "text": [
      "/home/wanxinli/miniconda3/lib/python3.9/site-packages/ot/bregman.py:517: UserWarning: Sinkhorn did not converge. You might want to increase the number of iterations `numItermax` or the regularization parameter `reg`.\n",
      "  warnings.warn(\"Sinkhorn did not converge. You might want to \"\n"
     ]
    },
    {
     "name": "stdout",
     "output_type": "stream",
     "text": [
      "iteration: 70\n"
     ]
    },
    {
     "name": "stderr",
     "output_type": "stream",
     "text": [
      "/home/wanxinli/miniconda3/lib/python3.9/site-packages/ot/bregman.py:517: UserWarning: Sinkhorn did not converge. You might want to increase the number of iterations `numItermax` or the regularization parameter `reg`.\n",
      "  warnings.warn(\"Sinkhorn did not converge. You might want to \"\n"
     ]
    },
    {
     "name": "stdout",
     "output_type": "stream",
     "text": [
      "iteration: 71\n",
      "iteration: 72\n"
     ]
    },
    {
     "name": "stderr",
     "output_type": "stream",
     "text": [
      "/home/wanxinli/miniconda3/lib/python3.9/site-packages/ot/bregman.py:517: UserWarning: Sinkhorn did not converge. You might want to increase the number of iterations `numItermax` or the regularization parameter `reg`.\n",
      "  warnings.warn(\"Sinkhorn did not converge. You might want to \"\n"
     ]
    },
    {
     "name": "stdout",
     "output_type": "stream",
     "text": [
      "iteration: 73\n",
      "iteration: 74\n",
      "iteration: 75\n"
     ]
    },
    {
     "name": "stderr",
     "output_type": "stream",
     "text": [
      "/home/wanxinli/miniconda3/lib/python3.9/site-packages/ot/bregman.py:517: UserWarning: Sinkhorn did not converge. You might want to increase the number of iterations `numItermax` or the regularization parameter `reg`.\n",
      "  warnings.warn(\"Sinkhorn did not converge. You might want to \"\n"
     ]
    },
    {
     "name": "stdout",
     "output_type": "stream",
     "text": [
      "iteration: 76\n"
     ]
    },
    {
     "name": "stderr",
     "output_type": "stream",
     "text": [
      "/home/wanxinli/miniconda3/lib/python3.9/site-packages/ot/bregman.py:517: UserWarning: Sinkhorn did not converge. You might want to increase the number of iterations `numItermax` or the regularization parameter `reg`.\n",
      "  warnings.warn(\"Sinkhorn did not converge. You might want to \"\n"
     ]
    },
    {
     "name": "stdout",
     "output_type": "stream",
     "text": [
      "iteration: 77\n",
      "iteration: 78\n",
      "iteration: 79\n",
      "iteration: 80\n"
     ]
    },
    {
     "name": "stderr",
     "output_type": "stream",
     "text": [
      "/home/wanxinli/miniconda3/lib/python3.9/site-packages/ot/bregman.py:517: UserWarning: Sinkhorn did not converge. You might want to increase the number of iterations `numItermax` or the regularization parameter `reg`.\n",
      "  warnings.warn(\"Sinkhorn did not converge. You might want to \"\n"
     ]
    },
    {
     "name": "stdout",
     "output_type": "stream",
     "text": [
      "iteration: 81\n"
     ]
    },
    {
     "name": "stderr",
     "output_type": "stream",
     "text": [
      "/home/wanxinli/miniconda3/lib/python3.9/site-packages/ot/bregman.py:517: UserWarning: Sinkhorn did not converge. You might want to increase the number of iterations `numItermax` or the regularization parameter `reg`.\n",
      "  warnings.warn(\"Sinkhorn did not converge. You might want to \"\n"
     ]
    },
    {
     "name": "stdout",
     "output_type": "stream",
     "text": [
      "iteration: 82\n",
      "iteration: 83\n"
     ]
    },
    {
     "name": "stderr",
     "output_type": "stream",
     "text": [
      "/home/wanxinli/miniconda3/lib/python3.9/site-packages/ot/bregman.py:517: UserWarning: Sinkhorn did not converge. You might want to increase the number of iterations `numItermax` or the regularization parameter `reg`.\n",
      "  warnings.warn(\"Sinkhorn did not converge. You might want to \"\n"
     ]
    },
    {
     "name": "stdout",
     "output_type": "stream",
     "text": [
      "iteration: 84\n",
      "iteration: 85\n",
      "iteration: 86\n",
      "iteration: 87\n",
      "iteration: 88\n"
     ]
    },
    {
     "name": "stderr",
     "output_type": "stream",
     "text": [
      "/home/wanxinli/miniconda3/lib/python3.9/site-packages/ot/bregman.py:517: UserWarning: Sinkhorn did not converge. You might want to increase the number of iterations `numItermax` or the regularization parameter `reg`.\n",
      "  warnings.warn(\"Sinkhorn did not converge. You might want to \"\n"
     ]
    },
    {
     "name": "stdout",
     "output_type": "stream",
     "text": [
      "iteration: 89\n"
     ]
    },
    {
     "name": "stderr",
     "output_type": "stream",
     "text": [
      "/home/wanxinli/miniconda3/lib/python3.9/site-packages/ot/bregman.py:517: UserWarning: Sinkhorn did not converge. You might want to increase the number of iterations `numItermax` or the regularization parameter `reg`.\n",
      "  warnings.warn(\"Sinkhorn did not converge. You might want to \"\n"
     ]
    },
    {
     "name": "stdout",
     "output_type": "stream",
     "text": [
      "iteration: 90\n"
     ]
    },
    {
     "name": "stderr",
     "output_type": "stream",
     "text": [
      "/home/wanxinli/miniconda3/lib/python3.9/site-packages/ot/bregman.py:517: UserWarning: Sinkhorn did not converge. You might want to increase the number of iterations `numItermax` or the regularization parameter `reg`.\n",
      "  warnings.warn(\"Sinkhorn did not converge. You might want to \"\n"
     ]
    },
    {
     "name": "stdout",
     "output_type": "stream",
     "text": [
      "iteration: 91\n",
      "iteration: 92\n",
      "iteration: 93\n",
      "iteration: 94\n",
      "iteration: 95\n",
      "iteration: 96\n"
     ]
    },
    {
     "name": "stderr",
     "output_type": "stream",
     "text": [
      "/home/wanxinli/miniconda3/lib/python3.9/site-packages/ot/bregman.py:517: UserWarning: Sinkhorn did not converge. You might want to increase the number of iterations `numItermax` or the regularization parameter `reg`.\n",
      "  warnings.warn(\"Sinkhorn did not converge. You might want to \"\n"
     ]
    },
    {
     "name": "stdout",
     "output_type": "stream",
     "text": [
      "iteration: 97\n",
      "iteration: 98\n"
     ]
    },
    {
     "name": "stderr",
     "output_type": "stream",
     "text": [
      "/home/wanxinli/miniconda3/lib/python3.9/site-packages/ot/bregman.py:517: UserWarning: Sinkhorn did not converge. You might want to increase the number of iterations `numItermax` or the regularization parameter `reg`.\n",
      "  warnings.warn(\"Sinkhorn did not converge. You might want to \"\n"
     ]
    },
    {
     "name": "stdout",
     "output_type": "stream",
     "text": [
      "iteration: 99\n"
     ]
    },
    {
     "data": {
      "text/plain": [
       "array([[ 561258.64960339, 1032664.67887416,  840710.46131808,\n",
       "        1032968.40284715,  666503.6153465 ,  911000.97492717],\n",
       "       [ 281331.0810333 ,  403563.99164077, 1137274.31389561,\n",
       "        1462097.30649756,  805676.05384389, 1265431.6885048 ],\n",
       "       [ 338699.16042295,  565651.63578519,  732944.7720585 ,\n",
       "        1187384.39380451,  633573.79447436, 1135479.77158349],\n",
       "       [ 335719.81224271,  476885.50211844, 1192142.65527575,\n",
       "        1717801.32673146,  837172.42832766, 1681759.10460732],\n",
       "       [ 362642.88250898,  480431.1493389 , 1051933.80738868,\n",
       "        1361879.33180291,  821226.47328366, 1091811.19104605],\n",
       "       [ 325670.6740543 ,  471966.72392787,  795321.43249341,\n",
       "        1094614.51442585,  563692.41775969,  909647.66684087],\n",
       "       [ 355963.04825259,  493128.38829625, 1192705.77460079,\n",
       "        1577829.55978581,  777491.81622143, 1360428.36756378],\n",
       "       [ 452541.17386314,  892635.28963744,  955983.20939259,\n",
       "        1288019.45953474,  749326.74335464, 1091114.99125548],\n",
       "       [ 296650.27122806,  415744.87451425,  607116.7379526 ,\n",
       "         833550.68229598,  545497.92394458,  854910.74972405],\n",
       "       [ 395741.83099384,  704694.16100529, 1496868.31853126,\n",
       "        1972557.91908086,  833994.98320617, 1407758.17936224],\n",
       "       [ 252844.8096864 ,  333652.03862478,  636744.4525129 ,\n",
       "         927743.36928032,  499690.00527929,  693547.71305081],\n",
       "       [ 264988.98489415,  339395.21763544,  876783.19302257,\n",
       "        1335255.02705136,  717955.81116372, 1239715.27204361],\n",
       "       [ 282194.63870526,  445596.43053442,  648330.3422394 ,\n",
       "         924460.75012335,  560616.28671268,  847093.00328922],\n",
       "       [ 490998.92972758,  700428.0344173 , 1190077.23964484,\n",
       "        1735917.54165577,  931858.23755207, 1567114.08836675],\n",
       "       [ 471162.50684295,  641329.63949121, 1148716.02230603,\n",
       "        1444748.02425218,  768093.79098447, 1205830.52416637],\n",
       "       [ 310076.55061406,  396950.45146975,  939283.30987215,\n",
       "        1160217.24130449,  614762.69172534,  992075.33154643],\n",
       "       [ 383123.04655953,  594301.7974723 ,  964292.71298276,\n",
       "        1261539.48027155,  680487.22028608, 1048016.88294661],\n",
       "       [ 497072.29580659,  900294.33396027,  844917.03421007,\n",
       "        1453823.21502961,  727378.71753218, 1413762.40164514],\n",
       "       [ 450194.11104593,  699466.53999418, 1004307.1181805 ,\n",
       "        1446241.65180644,  828692.27539478, 1257964.29762402],\n",
       "       [ 309802.76924235,  424763.36963889,  779479.58054741,\n",
       "        1197948.60694988,  642471.12703198, 1084575.62121979],\n",
       "       [ 291629.9082024 ,  448575.00883492,  766591.90644686,\n",
       "        1004370.95469884,  561667.22568646,  968811.03812751],\n",
       "       [ 364525.82588589,  664167.27863952,  730853.32710376,\n",
       "        1074580.09070176,  613918.27115098,  979764.71231428],\n",
       "       [ 411085.30180681,  624728.95369335, 1032517.20357094,\n",
       "        1598191.61019074,  881320.66470174, 1479682.48316354],\n",
       "       [ 465143.46514031,  652150.0938664 , 1039454.49474024,\n",
       "        1445817.15034516,  803588.53421027, 1420908.32104641],\n",
       "       [ 359139.79611898,  493200.61315591, 1190700.66579459,\n",
       "        1652262.32684533,  807567.14088034, 1441858.77927115],\n",
       "       [ 422135.72950145,  856257.95763256, 1084773.48613946,\n",
       "        1558835.3448876 ,  887399.74786685, 1494729.44566008],\n",
       "       [ 480170.83005814,  668075.00797731, 1242352.16038577,\n",
       "        1711805.99400882,  895210.99450403, 1584256.97085071],\n",
       "       [ 413647.56786542,  585292.89970879,  917421.0186787 ,\n",
       "        1419311.12431201,  853017.58981322, 1393280.03217957],\n",
       "       [ 355539.7410232 ,  552558.41581576,  987437.9072838 ,\n",
       "        1616717.68523941,  773535.80431837, 1438935.8738122 ],\n",
       "       [ 338474.29199345,  617141.59228049,  810963.65914436,\n",
       "        1256831.71206116,  656840.41137162, 1197144.67850692],\n",
       "       [ 319506.61696463,  441916.03223509, 1190047.58971289,\n",
       "        1741739.85622897,  857337.51720557, 1641721.57558622],\n",
       "       [ 275037.36773084,  334160.72252062,  813915.54182679,\n",
       "        1093403.10687305,  619972.49594573,  940410.39773869],\n",
       "       [ 407163.47835245,  625948.63648717, 1102546.36940242,\n",
       "        1545459.61157958,  843505.84180523, 1305776.01369197],\n",
       "       [ 365681.56234351,  507771.46996041, 1040369.0153683 ,\n",
       "        1445544.77416173,  799607.94199304, 1225535.16927854],\n",
       "       [ 356326.05820353,  495620.48669023, 1009792.79705775,\n",
       "        1387666.40317333,  791743.59317933, 1256839.34733785],\n",
       "       [ 515276.71521843,  788342.19209681, 1640863.15196579,\n",
       "        2009490.55610162, 1019495.90116662, 1640409.70220734],\n",
       "       [ 253279.24263778,  378566.90033015,  499286.64664382,\n",
       "         669045.36326889,  427087.44833023,  624522.52087387],\n",
       "       [ 337327.48042676,  459296.5948566 ,  806908.46344437,\n",
       "        1454035.68937357,  679982.80496636, 1296709.64869046],\n",
       "       [ 335584.38061677,  427975.09883593,  884480.60622823,\n",
       "        1131839.80033089,  716484.03827881, 1070116.41039219],\n",
       "       [ 395021.82439895,  574817.15073564,  876423.32531807,\n",
       "        1174316.18356959,  772937.61827292, 1093500.18767765],\n",
       "       [ 343969.21552579,  543048.00062156, 1050506.98603858,\n",
       "        1403207.17068843,  784446.81338104, 1106610.95063736],\n",
       "       [ 383410.28461443,  627565.77788557,  778438.19839639,\n",
       "        1115369.33626075,  573678.15934604,  889811.73073964],\n",
       "       [ 368871.12146707,  464949.92415062, 1006625.67808582,\n",
       "        1758316.31736212,  897489.71257758, 1828486.51064153],\n",
       "       [ 397088.60875012,  517961.80624664, 1043088.90957476,\n",
       "        1722780.09893307,  776127.99863997, 1329097.6565273 ],\n",
       "       [ 444567.3453363 ,  694005.76404524,  863615.95192631,\n",
       "        1432688.12594625,  665858.14673246, 1300227.08340677],\n",
       "       [ 299739.19937338,  426859.82008773,  736758.20314621,\n",
       "         930844.26735693,  566802.77427729,  760768.97313342],\n",
       "       [ 304208.84645917,  406432.96235546,  908278.47824998,\n",
       "        1274400.94312383,  827089.12936931, 1201228.05477786],\n",
       "       [ 241229.07558963,  321172.56164208,  831420.816007  ,\n",
       "        1380919.55052965,  772875.70133894, 1408208.89545978],\n",
       "       [ 341743.94232637,  489253.2178691 ,  730281.46754607,\n",
       "        1076871.64209314,  642589.33326166, 1078285.88622337],\n",
       "       [ 319702.9844527 ,  431376.82510211,  791664.22136344,\n",
       "        1191688.6191538 ,  675949.46479524, 1085874.12047359],\n",
       "       [ 576166.52736994,  972561.48822201,  911723.34468498,\n",
       "        1155206.14439115,  857334.87160523, 1143934.91388672],\n",
       "       [ 282885.01398244,  374055.07238308, 1105238.95204643,\n",
       "        1572672.03200308,  791393.99812547, 1439617.03922346],\n",
       "       [ 276977.51837623,  392494.93274797, 1136694.19552234,\n",
       "        1553848.94585063,  821142.26602322, 1292304.76896278],\n",
       "       [ 269415.89482979,  364566.55527272, 1039511.82043177,\n",
       "        1832886.617823  ,  779848.05448424, 1524541.3770175 ],\n",
       "       [ 381882.55668011,  527122.45197496,  885260.94327344,\n",
       "        1122343.10990656,  624447.99472392,  764282.2157051 ],\n",
       "       [ 302061.40434648,  438341.37597743,  842115.30006374,\n",
       "        1107941.63378108,  602476.12453316,  882207.65874633],\n",
       "       [ 258801.68073141,  370141.22709051,  708660.86175805,\n",
       "         916034.56679274,  556399.87184454,  729619.72528108],\n",
       "       [ 310268.93332431,  454345.73265882,  951524.14435883,\n",
       "        1546022.38987219,  811590.67310667, 1430781.72492965],\n",
       "       [ 396378.94338509,  538993.75008282,  738104.9148311 ,\n",
       "        1048439.45670239,  655660.01383677,  939540.30336466],\n",
       "       [ 436187.6842332 ,  596717.18013152,  857710.31856288,\n",
       "        1168127.90855779,  682909.7567145 , 1045073.76014345],\n",
       "       [ 366626.44446426,  539640.62384632,  608719.54438493,\n",
       "         857902.00179519,  498389.31071134,  748291.04349701],\n",
       "       [ 401439.5788011 ,  597234.6300164 ,  759644.19790513,\n",
       "        1196420.18531555,  662516.01132068, 1109664.85789682],\n",
       "       [ 410940.1438857 ,  632076.76777413,  970586.44771738,\n",
       "        1286679.98680662,  755141.53686109, 1254080.10392261],\n",
       "       [ 359446.12207792,  495189.1412774 ,  633078.07565103,\n",
       "         824502.30900579,  542727.18755394,  762212.22801786],\n",
       "       [ 313083.5078841 ,  485888.33798899,  806674.5845761 ,\n",
       "        1256367.70112259,  666778.67399299, 1138175.6191897 ],\n",
       "       [ 372636.5312871 ,  511294.84080456,  751598.92047473,\n",
       "        1021374.5542319 ,  650129.91049868,  953492.27636738],\n",
       "       [ 377908.12212067,  623981.66580943, 1211861.16526198,\n",
       "        1711034.80347383,  827265.93116202, 1362305.0352293 ],\n",
       "       [ 310781.35180154,  409379.82526557, 1233214.57737079,\n",
       "        1770307.36300799,  970032.73022087, 1575607.51011479],\n",
       "       [ 311103.59333924,  415110.24806687,  979582.8634055 ,\n",
       "        1375326.42677228,  853667.89508262, 1304572.65840182],\n",
       "       [ 433026.28234138,  703583.69361751, 1203694.92499686,\n",
       "        1555720.94956373,  837685.36846533, 1313865.39156651],\n",
       "       [ 503056.38364228,  905658.022434  , 1277426.81858457,\n",
       "        1818614.61979874,  908851.64174381, 1463972.93868872],\n",
       "       [ 406660.79894206,  576707.46121611, 1073315.43840525,\n",
       "        1412352.21032059,  698817.64917826, 1302642.47695415],\n",
       "       [ 440399.00926633,  606143.04102476,  976113.44063147,\n",
       "        1299631.62334185,  788526.07510744, 1173479.90834661],\n",
       "       [ 450531.89735584,  755229.82213831, 1283531.4485613 ,\n",
       "        1845527.49956557,  938386.77662726, 1761255.98445418],\n",
       "       [ 333515.39950818,  451339.7566098 ,  907756.89349194,\n",
       "        1332297.85710894,  744458.87393116, 1310778.05490046],\n",
       "       [ 562413.59405108, 1047590.25051532, 1261470.10086887,\n",
       "        1635989.78165212,  889004.40038199, 1443124.18621212],\n",
       "       [ 471705.29640682,  725711.64535795, 1097172.28397712,\n",
       "        1367038.57043925,  830247.97075966, 1193920.9926372 ],\n",
       "       [ 248252.73395503,  352059.0525473 , 1382338.73473625,\n",
       "        2235767.90655253,  967318.28840555, 1933505.49437812],\n",
       "       [ 377713.73250766,  622711.31187932, 1021029.55976928,\n",
       "        1402522.35321166,  755870.56795604, 1169031.15488782],\n",
       "       [ 273391.62706486,  378369.36716681,  679280.17611939,\n",
       "        1057285.84471005,  602684.3238788 , 1060682.95456802],\n",
       "       [ 361891.88448074,  476590.12141097, 1057895.195435  ,\n",
       "        1304214.02167034,  680692.39221394,  969658.67258934],\n",
       "       [ 404930.22075599,  579826.69124012,  939733.01634875,\n",
       "        1342764.24313911,  714168.3089619 , 1165643.62151855],\n",
       "       [ 307971.45844986,  411359.02238622,  761898.69866262,\n",
       "        1089122.10970876,  638048.73416632,  980816.36748417],\n",
       "       [ 284084.6867771 ,  379898.04434388,  972477.81621151,\n",
       "        1388524.58757989,  733075.37857944, 1335891.17036422],\n",
       "       [ 315985.34640238,  507557.98459605,  908801.72976524,\n",
       "        1460735.80180338,  751090.38663965, 1324319.55711123],\n",
       "       [ 332292.6702715 ,  459751.02101618,  637177.77966221,\n",
       "         830434.44750234,  562153.72809647,  796315.53277548],\n",
       "       [ 264330.4419079 ,  359123.60297739,  922830.14408287,\n",
       "        1379867.75129444,  752975.74226621, 1363372.41126692],\n",
       "       [ 552804.55517888,  780591.1212402 , 1012051.62439639,\n",
       "        1291055.38451522,  779734.56652318, 1176110.29132652],\n",
       "       [ 292518.89898762,  376290.48762528,  836708.96773873,\n",
       "        1241127.66914294,  604625.65855316, 1005444.55100148],\n",
       "       [ 437286.70080126,  611676.92318997,  901210.82252068,\n",
       "        1291691.47102798,  728165.79046054, 1041254.12692238],\n",
       "       [ 580430.92787288,  887857.6082525 , 1041946.67509614,\n",
       "        1523289.81586504,  884674.45191156, 1485670.14622527],\n",
       "       [ 330278.35762721,  450256.16812736,  780874.42111223,\n",
       "        1335147.28334403,  726741.21470535, 1190431.99736674],\n",
       "       [ 296203.34309242,  556373.472596  ,  793389.85594888,\n",
       "        1042626.24863716,  625576.08546498,  903135.88311935],\n",
       "       [ 229518.44481769,  334335.22033771,  678196.11860788,\n",
       "        1150237.8782633 ,  587394.69907965, 1057374.81874215],\n",
       "       [ 400850.72046597,  520879.74109582,  953239.1983471 ,\n",
       "        1273440.78474131,  653032.37779306, 1025481.19789165],\n",
       "       [ 380400.76484627,  505402.04289298, 1133932.78372402,\n",
       "        1395071.01051376,  735422.66585452, 1112201.25673509],\n",
       "       [ 347310.44688249,  493175.79036879, 1111009.12410637,\n",
       "        1569913.36553935,  930838.35182334, 1513843.85542518],\n",
       "       [ 341384.09341477,  535298.92273079,  847777.26045628,\n",
       "        1136331.86023033,  758706.76554213, 1094467.7908115 ],\n",
       "       [ 386513.44009061,  555803.46013702,  990558.92729661,\n",
       "        1362101.32912604,  764527.59267994, 1180012.4713525 ],\n",
       "       [ 354709.37202868,  487579.2188517 ,  887216.00267841,\n",
       "        1083436.98328913,  589022.0691331 ,  817697.09939621]])"
      ]
     },
     "execution_count": 8,
     "metadata": {},
     "output_type": "execute_result"
    }
   ],
   "source": [
    "\"\"\" \n",
    "Run multiple iterations\n",
    "\"\"\"\n",
    "score_path = os.path.join(output_dir, \"exp4_score.csv\")\n",
    "male_count = 120\n",
    "female_count = 100\n",
    "\n",
    "multi_proc_cts(score_path, n_components, admid_diagnosis_df, custom_train_reps, \\\n",
    "    male_count, female_count, model_func = linear_model.LinearRegression, iteration=100)"
   ]
  },
  {
   "cell_type": "code",
   "execution_count": 9,
   "metadata": {},
   "outputs": [
    {
     "data": {
      "text/plain": [
       "<Figure size 640x480 with 0 Axes>"
      ]
     },
     "metadata": {},
     "output_type": "display_data"
    },
    {
     "data": {
      "image/png": "[encoded data removed]",
      "text/plain": [
       "<Figure size 750x350 with 1 Axes>"
      ]
     },
     "metadata": {},
     "output_type": "display_data"
    },
    {
     "data": {
      "text/plain": [
       "(0.7839468758130604, 0.9016576053399086)"
      ]
     },
     "execution_count": 9,
     "metadata": {},
     "output_type": "execute_result"
    }
   ],
   "source": [
    "box_plot_cts_short(score_path)"
   ]
  },
  {
   "cell_type": "code",
   "execution_count": null,
   "metadata": {},
   "outputs": [],
   "source": []
  }
 ],
 "metadata": {
  "kernelspec": {
   "display_name": "Python 3 (ipykernel)",
   "language": "python",
   "name": "python3"
  },
  "language_info": {
   "codemirror_mode": {
    "name": "ipython",
    "version": 3
   },
   "file_extension": ".py",
   "mimetype": "text/x-python",
   "name": "python",
   "nbconvert_exporter": "python",
   "pygments_lexer": "ipython3",
   "version": "3.9.12"
  },
  "orig_nbformat": 4,
  "vscode": {
   "interpreter": {
    "hash": "e0a164c7fb95af65e1e713e004e1e0ea55c462cdd13e4bdabca6fd60bd9f3176"
   }
  }
 },
 "nbformat": 4,
 "nbformat_minor": 2
}
