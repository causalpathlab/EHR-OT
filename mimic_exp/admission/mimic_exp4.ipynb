{
 "cells": [
  {
   "attachments": {},
   "cell_type": "markdown",
   "metadata": {},
   "source": [
    "# Explore the relationship between hospitalization duration and diagnosis codes"
   ]
  },
  {
   "cell_type": "code",
   "execution_count": 12,
   "metadata": {},
   "outputs": [],
   "source": [
    "import sys\n",
    "sys.path.append(\"/home/wanxinli/deep_patient/\")\n",
    "\n",
    "from ast import literal_eval\n",
    "from common import *\n",
    "from mimic_common import *\n",
    "from multiprocess import Pool\n",
    "import os\n",
    "import random\n",
    "from sklearn.linear_model import LogisticRegression\n",
    "from sklearn.svm import SVC\n",
    "from sklearn.svm import SVR\n",
    "from sklearn.decomposition import PCA\n",
    "from sklearn.metrics import precision_score, recall_score, accuracy_score, f1_score\n",
    "import time\n"
   ]
  },
  {
   "cell_type": "code",
   "execution_count": 13,
   "metadata": {},
   "outputs": [
    {
     "name": "stdout",
     "output_type": "stream",
     "text": [
      "Will save outputs to /home/wanxinli/deep_patient/outputs/mimic\n"
     ]
    }
   ],
   "source": [
    "output_dir = os.path.join(os.path.expanduser(\"~\"), f\"deep_patient/outputs/mimic\")\n",
    "print(f\"Will save outputs to {output_dir}\")"
   ]
  },
  {
   "cell_type": "code",
   "execution_count": 14,
   "metadata": {},
   "outputs": [
    {
     "name": "stdout",
     "output_type": "stream",
     "text": [
      "         adm_type gender                                          ICD codes  \\\n",
      "admid                                                                         \n",
      "172335  EMERGENCY      F  [403.01, 486, 582.81, 585.5, 425.4, 276.2, 710...   \n",
      "173633  EMERGENCY      F  [403.01, 585.6, 583.81, 710.0, 558.9, 287.5, 2...   \n",
      "174105  EMERGENCY      M               [531.00, 410.71, 285.9, 414.01, 725]   \n",
      "109976  EMERGENCY      M                             [191.5, 331.4, 530.81]   \n",
      "178393   ELECTIVE      M       [414.01, 411.1, 482.83, 285.9, 272.0, 305.1]   \n",
      "...           ...    ...                                                ...   \n",
      "172304   ELECTIVE      F       [202.80, 348.5, 784.3, 401.9, 272.0, 530.81]   \n",
      "152542  EMERGENCY      M  [566, 250.62, 357.2, V58.67, 427.31, 401.9, 42...   \n",
      "161999  EMERGENCY      M  [434.11, 348.5, 348.4, 430, 348.30, 997.31, 51...   \n",
      "189314  EMERGENCY      F  [346.80, 784.3, 745.5, 781.94, 368.40, 781.3, ...   \n",
      "168949  EMERGENCY      M  [052.9, 416.2, 201.92, 135, 276.69, 517.8, 427...   \n",
      "\n",
      "         duration                                   diagnosis  label  \n",
      "admid                                                                 \n",
      "172335   530460.0                                    LEG PAIN      0  \n",
      "173633   574560.0                              ABDOMINAL PAIN      0  \n",
      "174105   425460.0                      GASTROINTESTINAL BLEED      0  \n",
      "109976  1284240.0                               HYDROCEPHALUS      0  \n",
      "178393   485280.0                                     USA/SDA      0  \n",
      "...           ...                                         ...    ...  \n",
      "172304   449700.0                        LEFT BRAIN TUMOR/SDA      0  \n",
      "152542   415740.0                          PERIRECTAL ABSCESS      0  \n",
      "161999   692940.0                            STROKE;TELEMETRY      0  \n",
      "189314   150060.0  STROKE;TELEMETRY;TRANSIENT ISCHEMIC ATTACK      0  \n",
      "168949   688980.0                              ABDOMINAL PAIN      0  \n",
      "\n",
      "[58976 rows x 6 columns]\n",
      "female: 26026\n",
      "male: 32950\n"
     ]
    }
   ],
   "source": [
    "\"\"\" \n",
    "Read in the original dataframe\n",
    "\"\"\"\n",
    "admid_diagnosis_df = pd.read_csv(\"../../outputs/mimic/ADMID_DIAGNOSIS.csv\", index_col=0, header=0, converters={'ICD codes': literal_eval})\n",
    "print(admid_diagnosis_df)\n",
    "\n",
    "\"\"\" \n",
    "Print number of patients for each category\n",
    "\"\"\"\n",
    "print(\"female:\", admid_diagnosis_df.loc[(admid_diagnosis_df['gender'] == 'F')].shape[0])\n",
    "print(\"male:\", admid_diagnosis_df.loc[(admid_diagnosis_df['gender'] == 'M')].shape[0])\n"
   ]
  },
  {
   "cell_type": "code",
   "execution_count": 15,
   "metadata": {},
   "outputs": [],
   "source": [
    "\"\"\"\n",
    "Train deep patient model and generate representations for targets and sources\n",
    "\"\"\"\n",
    "\n",
    "def custom_train_reps(target_features, source_features, n_components, pca_explain=False):\n",
    "    \"\"\" \n",
    "    Customized training algorithm for generating target representations and source representations\n",
    "\n",
    "    :param bool pca_explain: print the explained variance of each components\n",
    "    \n",
    "    :returns: target representations, source representations\n",
    "    \"\"\"\n",
    "    source_pca = PCA(n_components=n_components)\n",
    "    target_pca = PCA(n_components=n_components)\n",
    "    target_reps = target_pca.fit_transform(target_features)\n",
    "    source_reps = source_pca.fit_transform(source_features)\n",
    "\n",
    "    if pca_explain:\n",
    "        source_exp_var = source_pca.explained_variance_ratio_\n",
    "        source_cum_sum_var = np.cumsum(source_exp_var)\n",
    "        target_exp_var = target_pca.explained_variance_ratio_\n",
    "        target_cum_sum_var = np.cumsum(target_exp_var)\n",
    "        print(\"Cummulative variance explained by the source PCA is:\", source_cum_sum_var)\n",
    "        print(\"Cummulative variance explained by the target PCA is:\", target_cum_sum_var)\n",
    "\n",
    "    return target_reps, source_reps"
   ]
  },
  {
   "cell_type": "code",
   "execution_count": 16,
   "metadata": {},
   "outputs": [
    {
     "name": "stderr",
     "output_type": "stream",
     "text": [
      "/home/wanxinli/miniconda3/lib/python3.9/site-packages/ot/bregman.py:517: UserWarning: Sinkhorn did not converge. You might want to increase the number of iterations `numItermax` or the regularization parameter `reg`.\n",
      "  warnings.warn(\"Sinkhorn did not converge. You might want to \"\n"
     ]
    },
    {
     "data": {
      "text/plain": [
       "(167361.0880579403,\n",
       " 232711.97498810067,\n",
       " 960377.8945263275,\n",
       " 1397240.7329677464,\n",
       " 683045.9752492488,\n",
       " 1087430.9872007938)"
      ]
     },
     "execution_count": 16,
     "metadata": {},
     "output_type": "execute_result"
    }
   ],
   "source": [
    "n_components = 80\n",
    "model_func = linear_model.LinearRegression\n",
    "entire_proc_cts(n_components, admid_diagnosis_df, custom_train_reps, model_func, male_count = 120, female_count = 100, pca_explain=False)"
   ]
  },
  {
   "cell_type": "code",
   "execution_count": 17,
   "metadata": {},
   "outputs": [
    {
     "name": "stdout",
     "output_type": "stream",
     "text": [
      "iteration: 0\n",
      "cannot fit the regression model\n",
      "iteration: 1\n"
     ]
    },
    {
     "name": "stderr",
     "output_type": "stream",
     "text": [
      "/home/wanxinli/miniconda3/lib/python3.9/site-packages/ot/bregman.py:517: UserWarning: Sinkhorn did not converge. You might want to increase the number of iterations `numItermax` or the regularization parameter `reg`.\n",
      "  warnings.warn(\"Sinkhorn did not converge. You might want to \"\n"
     ]
    },
    {
     "name": "stdout",
     "output_type": "stream",
     "text": [
      "iteration: 2\n",
      "cannot fit the regression model\n",
      "iteration: 3\n",
      "iteration: 4\n"
     ]
    },
    {
     "name": "stderr",
     "output_type": "stream",
     "text": [
      "/home/wanxinli/miniconda3/lib/python3.9/site-packages/ot/bregman.py:517: UserWarning: Sinkhorn did not converge. You might want to increase the number of iterations `numItermax` or the regularization parameter `reg`.\n",
      "  warnings.warn(\"Sinkhorn did not converge. You might want to \"\n"
     ]
    },
    {
     "name": "stdout",
     "output_type": "stream",
     "text": [
      "iteration: 5\n"
     ]
    },
    {
     "name": "stderr",
     "output_type": "stream",
     "text": [
      "/home/wanxinli/miniconda3/lib/python3.9/site-packages/ot/bregman.py:517: UserWarning: Sinkhorn did not converge. You might want to increase the number of iterations `numItermax` or the regularization parameter `reg`.\n",
      "  warnings.warn(\"Sinkhorn did not converge. You might want to \"\n"
     ]
    },
    {
     "name": "stdout",
     "output_type": "stream",
     "text": [
      "iteration: 6\n",
      "cannot fit the regression model\n",
      "iteration: 7\n",
      "iteration: 8\n"
     ]
    },
    {
     "name": "stderr",
     "output_type": "stream",
     "text": [
      "/home/wanxinli/miniconda3/lib/python3.9/site-packages/ot/bregman.py:517: UserWarning: Sinkhorn did not converge. You might want to increase the number of iterations `numItermax` or the regularization parameter `reg`.\n",
      "  warnings.warn(\"Sinkhorn did not converge. You might want to \"\n"
     ]
    },
    {
     "name": "stdout",
     "output_type": "stream",
     "text": [
      "iteration: 9\n"
     ]
    },
    {
     "name": "stderr",
     "output_type": "stream",
     "text": [
      "/home/wanxinli/.local/lib/python3.9/site-packages/sklearn/linear_model/_glm/glm.py:284: ConvergenceWarning: lbfgs failed to converge (status=1):\n",
      "STOP: TOTAL NO. of ITERATIONS REACHED LIMIT.\n",
      "\n",
      "Increase the number of iterations (max_iter) or scale the data as shown in:\n",
      "    https://scikit-learn.org/stable/modules/preprocessing.html\n",
      "  self.n_iter_ = _check_optimize_result(\"lbfgs\", opt_res)\n",
      "/home/wanxinli/miniconda3/lib/python3.9/site-packages/ot/bregman.py:517: UserWarning: Sinkhorn did not converge. You might want to increase the number of iterations `numItermax` or the regularization parameter `reg`.\n",
      "  warnings.warn(\"Sinkhorn did not converge. You might want to \"\n"
     ]
    },
    {
     "name": "stdout",
     "output_type": "stream",
     "text": [
      "iteration: 10\n"
     ]
    },
    {
     "name": "stderr",
     "output_type": "stream",
     "text": [
      "/home/wanxinli/miniconda3/lib/python3.9/site-packages/ot/bregman.py:517: UserWarning: Sinkhorn did not converge. You might want to increase the number of iterations `numItermax` or the regularization parameter `reg`.\n",
      "  warnings.warn(\"Sinkhorn did not converge. You might want to \"\n"
     ]
    },
    {
     "name": "stdout",
     "output_type": "stream",
     "text": [
      "iteration: 11\n"
     ]
    },
    {
     "name": "stderr",
     "output_type": "stream",
     "text": [
      "/home/wanxinli/miniconda3/lib/python3.9/site-packages/ot/bregman.py:517: UserWarning: Sinkhorn did not converge. You might want to increase the number of iterations `numItermax` or the regularization parameter `reg`.\n",
      "  warnings.warn(\"Sinkhorn did not converge. You might want to \"\n"
     ]
    },
    {
     "name": "stdout",
     "output_type": "stream",
     "text": [
      "iteration: 12\n"
     ]
    },
    {
     "name": "stderr",
     "output_type": "stream",
     "text": [
      "/home/wanxinli/miniconda3/lib/python3.9/site-packages/ot/bregman.py:517: UserWarning: Sinkhorn did not converge. You might want to increase the number of iterations `numItermax` or the regularization parameter `reg`.\n",
      "  warnings.warn(\"Sinkhorn did not converge. You might want to \"\n"
     ]
    },
    {
     "name": "stdout",
     "output_type": "stream",
     "text": [
      "iteration: 13\n",
      "iteration: 14\n",
      "cannot fit the regression model\n",
      "iteration: 15\n"
     ]
    },
    {
     "name": "stderr",
     "output_type": "stream",
     "text": [
      "/home/wanxinli/miniconda3/lib/python3.9/site-packages/ot/bregman.py:517: UserWarning: Sinkhorn did not converge. You might want to increase the number of iterations `numItermax` or the regularization parameter `reg`.\n",
      "  warnings.warn(\"Sinkhorn did not converge. You might want to \"\n"
     ]
    },
    {
     "name": "stdout",
     "output_type": "stream",
     "text": [
      "iteration: 16\n",
      "iteration: 17\n"
     ]
    },
    {
     "name": "stderr",
     "output_type": "stream",
     "text": [
      "/home/wanxinli/.local/lib/python3.9/site-packages/sklearn/linear_model/_glm/glm.py:284: ConvergenceWarning: lbfgs failed to converge (status=1):\n",
      "STOP: TOTAL NO. of ITERATIONS REACHED LIMIT.\n",
      "\n",
      "Increase the number of iterations (max_iter) or scale the data as shown in:\n",
      "    https://scikit-learn.org/stable/modules/preprocessing.html\n",
      "  self.n_iter_ = _check_optimize_result(\"lbfgs\", opt_res)\n"
     ]
    },
    {
     "name": "stdout",
     "output_type": "stream",
     "text": [
      "iteration: 18\n",
      "cannot fit the regression model\n",
      "iteration: 19\n",
      "cannot fit the regression model\n",
      "iteration: 20\n",
      "cannot fit the regression model\n",
      "iteration: 21\n",
      "iteration: 22\n"
     ]
    },
    {
     "name": "stderr",
     "output_type": "stream",
     "text": [
      "/home/wanxinli/miniconda3/lib/python3.9/site-packages/ot/bregman.py:517: UserWarning: Sinkhorn did not converge. You might want to increase the number of iterations `numItermax` or the regularization parameter `reg`.\n",
      "  warnings.warn(\"Sinkhorn did not converge. You might want to \"\n"
     ]
    },
    {
     "name": "stdout",
     "output_type": "stream",
     "text": [
      "iteration: 23\n",
      "iteration: 24\n",
      "iteration: 25\n"
     ]
    },
    {
     "name": "stderr",
     "output_type": "stream",
     "text": [
      "/home/wanxinli/.local/lib/python3.9/site-packages/sklearn/linear_model/_glm/glm.py:284: ConvergenceWarning: lbfgs failed to converge (status=1):\n",
      "STOP: TOTAL NO. of ITERATIONS REACHED LIMIT.\n",
      "\n",
      "Increase the number of iterations (max_iter) or scale the data as shown in:\n",
      "    https://scikit-learn.org/stable/modules/preprocessing.html\n",
      "  self.n_iter_ = _check_optimize_result(\"lbfgs\", opt_res)\n"
     ]
    },
    {
     "name": "stdout",
     "output_type": "stream",
     "text": [
      "iteration: 26\n"
     ]
    },
    {
     "name": "stderr",
     "output_type": "stream",
     "text": [
      "/home/wanxinli/.local/lib/python3.9/site-packages/sklearn/linear_model/_glm/glm.py:284: ConvergenceWarning: lbfgs failed to converge (status=1):\n",
      "STOP: TOTAL NO. of ITERATIONS REACHED LIMIT.\n",
      "\n",
      "Increase the number of iterations (max_iter) or scale the data as shown in:\n",
      "    https://scikit-learn.org/stable/modules/preprocessing.html\n",
      "  self.n_iter_ = _check_optimize_result(\"lbfgs\", opt_res)\n",
      "/home/wanxinli/miniconda3/lib/python3.9/site-packages/ot/bregman.py:517: UserWarning: Sinkhorn did not converge. You might want to increase the number of iterations `numItermax` or the regularization parameter `reg`.\n",
      "  warnings.warn(\"Sinkhorn did not converge. You might want to \"\n"
     ]
    },
    {
     "name": "stdout",
     "output_type": "stream",
     "text": [
      "iteration: 27\n",
      "iteration: 28\n"
     ]
    },
    {
     "name": "stderr",
     "output_type": "stream",
     "text": [
      "/home/wanxinli/miniconda3/lib/python3.9/site-packages/ot/bregman.py:517: UserWarning: Sinkhorn did not converge. You might want to increase the number of iterations `numItermax` or the regularization parameter `reg`.\n",
      "  warnings.warn(\"Sinkhorn did not converge. You might want to \"\n"
     ]
    },
    {
     "name": "stdout",
     "output_type": "stream",
     "text": [
      "iteration: 29\n",
      "iteration: 30\n",
      "iteration: 31\n",
      "iteration: 32\n"
     ]
    },
    {
     "name": "stderr",
     "output_type": "stream",
     "text": [
      "/home/wanxinli/miniconda3/lib/python3.9/site-packages/ot/bregman.py:517: UserWarning: Sinkhorn did not converge. You might want to increase the number of iterations `numItermax` or the regularization parameter `reg`.\n",
      "  warnings.warn(\"Sinkhorn did not converge. You might want to \"\n"
     ]
    },
    {
     "name": "stdout",
     "output_type": "stream",
     "text": [
      "iteration: 33\n"
     ]
    },
    {
     "name": "stderr",
     "output_type": "stream",
     "text": [
      "/home/wanxinli/.local/lib/python3.9/site-packages/sklearn/linear_model/_glm/glm.py:284: ConvergenceWarning: lbfgs failed to converge (status=1):\n",
      "STOP: TOTAL NO. of ITERATIONS REACHED LIMIT.\n",
      "\n",
      "Increase the number of iterations (max_iter) or scale the data as shown in:\n",
      "    https://scikit-learn.org/stable/modules/preprocessing.html\n",
      "  self.n_iter_ = _check_optimize_result(\"lbfgs\", opt_res)\n",
      "/home/wanxinli/miniconda3/lib/python3.9/site-packages/ot/bregman.py:517: UserWarning: Sinkhorn did not converge. You might want to increase the number of iterations `numItermax` or the regularization parameter `reg`.\n",
      "  warnings.warn(\"Sinkhorn did not converge. You might want to \"\n"
     ]
    },
    {
     "name": "stdout",
     "output_type": "stream",
     "text": [
      "iteration: 34\n",
      "cannot fit the regression model\n",
      "iteration: 35\n"
     ]
    },
    {
     "name": "stderr",
     "output_type": "stream",
     "text": [
      "/home/wanxinli/miniconda3/lib/python3.9/site-packages/ot/bregman.py:517: UserWarning: Sinkhorn did not converge. You might want to increase the number of iterations `numItermax` or the regularization parameter `reg`.\n",
      "  warnings.warn(\"Sinkhorn did not converge. You might want to \"\n"
     ]
    },
    {
     "name": "stdout",
     "output_type": "stream",
     "text": [
      "iteration: 36\n"
     ]
    },
    {
     "name": "stderr",
     "output_type": "stream",
     "text": [
      "/home/wanxinli/miniconda3/lib/python3.9/site-packages/ot/bregman.py:517: UserWarning: Sinkhorn did not converge. You might want to increase the number of iterations `numItermax` or the regularization parameter `reg`.\n",
      "  warnings.warn(\"Sinkhorn did not converge. You might want to \"\n"
     ]
    },
    {
     "name": "stdout",
     "output_type": "stream",
     "text": [
      "iteration: 37\n",
      "iteration: 38\n"
     ]
    },
    {
     "name": "stderr",
     "output_type": "stream",
     "text": [
      "/home/wanxinli/.local/lib/python3.9/site-packages/sklearn/linear_model/_glm/glm.py:284: ConvergenceWarning: lbfgs failed to converge (status=1):\n",
      "STOP: TOTAL NO. of ITERATIONS REACHED LIMIT.\n",
      "\n",
      "Increase the number of iterations (max_iter) or scale the data as shown in:\n",
      "    https://scikit-learn.org/stable/modules/preprocessing.html\n",
      "  self.n_iter_ = _check_optimize_result(\"lbfgs\", opt_res)\n"
     ]
    },
    {
     "name": "stdout",
     "output_type": "stream",
     "text": [
      "iteration: 39\n",
      "iteration: 40\n"
     ]
    },
    {
     "name": "stderr",
     "output_type": "stream",
     "text": [
      "/home/wanxinli/miniconda3/lib/python3.9/site-packages/ot/bregman.py:517: UserWarning: Sinkhorn did not converge. You might want to increase the number of iterations `numItermax` or the regularization parameter `reg`.\n",
      "  warnings.warn(\"Sinkhorn did not converge. You might want to \"\n"
     ]
    },
    {
     "name": "stdout",
     "output_type": "stream",
     "text": [
      "iteration: 41\n",
      "cannot fit the regression model\n",
      "iteration: 42\n"
     ]
    },
    {
     "name": "stderr",
     "output_type": "stream",
     "text": [
      "/home/wanxinli/.local/lib/python3.9/site-packages/sklearn/linear_model/_glm/glm.py:284: ConvergenceWarning: lbfgs failed to converge (status=1):\n",
      "STOP: TOTAL NO. of ITERATIONS REACHED LIMIT.\n",
      "\n",
      "Increase the number of iterations (max_iter) or scale the data as shown in:\n",
      "    https://scikit-learn.org/stable/modules/preprocessing.html\n",
      "  self.n_iter_ = _check_optimize_result(\"lbfgs\", opt_res)\n"
     ]
    },
    {
     "name": "stdout",
     "output_type": "stream",
     "text": [
      "iteration: 43\n",
      "cannot fit the regression model\n",
      "iteration: 44\n"
     ]
    },
    {
     "name": "stderr",
     "output_type": "stream",
     "text": [
      "/home/wanxinli/miniconda3/lib/python3.9/site-packages/ot/bregman.py:517: UserWarning: Sinkhorn did not converge. You might want to increase the number of iterations `numItermax` or the regularization parameter `reg`.\n",
      "  warnings.warn(\"Sinkhorn did not converge. You might want to \"\n"
     ]
    },
    {
     "name": "stdout",
     "output_type": "stream",
     "text": [
      "iteration: 45\n"
     ]
    },
    {
     "name": "stderr",
     "output_type": "stream",
     "text": [
      "/home/wanxinli/miniconda3/lib/python3.9/site-packages/ot/bregman.py:517: UserWarning: Sinkhorn did not converge. You might want to increase the number of iterations `numItermax` or the regularization parameter `reg`.\n",
      "  warnings.warn(\"Sinkhorn did not converge. You might want to \"\n"
     ]
    },
    {
     "name": "stdout",
     "output_type": "stream",
     "text": [
      "iteration: 46\n"
     ]
    },
    {
     "name": "stderr",
     "output_type": "stream",
     "text": [
      "/home/wanxinli/miniconda3/lib/python3.9/site-packages/ot/bregman.py:517: UserWarning: Sinkhorn did not converge. You might want to increase the number of iterations `numItermax` or the regularization parameter `reg`.\n",
      "  warnings.warn(\"Sinkhorn did not converge. You might want to \"\n"
     ]
    },
    {
     "name": "stdout",
     "output_type": "stream",
     "text": [
      "iteration: 47\n"
     ]
    },
    {
     "name": "stderr",
     "output_type": "stream",
     "text": [
      "/home/wanxinli/miniconda3/lib/python3.9/site-packages/ot/bregman.py:517: UserWarning: Sinkhorn did not converge. You might want to increase the number of iterations `numItermax` or the regularization parameter `reg`.\n",
      "  warnings.warn(\"Sinkhorn did not converge. You might want to \"\n"
     ]
    },
    {
     "name": "stdout",
     "output_type": "stream",
     "text": [
      "iteration: 48\n"
     ]
    },
    {
     "name": "stderr",
     "output_type": "stream",
     "text": [
      "/home/wanxinli/.local/lib/python3.9/site-packages/sklearn/linear_model/_glm/glm.py:284: ConvergenceWarning: lbfgs failed to converge (status=1):\n",
      "STOP: TOTAL NO. of ITERATIONS REACHED LIMIT.\n",
      "\n",
      "Increase the number of iterations (max_iter) or scale the data as shown in:\n",
      "    https://scikit-learn.org/stable/modules/preprocessing.html\n",
      "  self.n_iter_ = _check_optimize_result(\"lbfgs\", opt_res)\n"
     ]
    },
    {
     "name": "stdout",
     "output_type": "stream",
     "text": [
      "iteration: 49\n",
      "cannot fit the regression model\n",
      "iteration: 50\n"
     ]
    },
    {
     "name": "stderr",
     "output_type": "stream",
     "text": [
      "/home/wanxinli/miniconda3/lib/python3.9/site-packages/ot/bregman.py:517: UserWarning: Sinkhorn did not converge. You might want to increase the number of iterations `numItermax` or the regularization parameter `reg`.\n",
      "  warnings.warn(\"Sinkhorn did not converge. You might want to \"\n"
     ]
    },
    {
     "name": "stdout",
     "output_type": "stream",
     "text": [
      "iteration: 51\n",
      "iteration: 52\n"
     ]
    },
    {
     "name": "stderr",
     "output_type": "stream",
     "text": [
      "/home/wanxinli/miniconda3/lib/python3.9/site-packages/ot/bregman.py:517: UserWarning: Sinkhorn did not converge. You might want to increase the number of iterations `numItermax` or the regularization parameter `reg`.\n",
      "  warnings.warn(\"Sinkhorn did not converge. You might want to \"\n"
     ]
    },
    {
     "name": "stdout",
     "output_type": "stream",
     "text": [
      "iteration: 53\n"
     ]
    },
    {
     "name": "stderr",
     "output_type": "stream",
     "text": [
      "/home/wanxinli/miniconda3/lib/python3.9/site-packages/ot/bregman.py:517: UserWarning: Sinkhorn did not converge. You might want to increase the number of iterations `numItermax` or the regularization parameter `reg`.\n",
      "  warnings.warn(\"Sinkhorn did not converge. You might want to \"\n"
     ]
    },
    {
     "name": "stdout",
     "output_type": "stream",
     "text": [
      "iteration: 54\n"
     ]
    },
    {
     "name": "stderr",
     "output_type": "stream",
     "text": [
      "/home/wanxinli/miniconda3/lib/python3.9/site-packages/ot/bregman.py:517: UserWarning: Sinkhorn did not converge. You might want to increase the number of iterations `numItermax` or the regularization parameter `reg`.\n",
      "  warnings.warn(\"Sinkhorn did not converge. You might want to \"\n"
     ]
    },
    {
     "name": "stdout",
     "output_type": "stream",
     "text": [
      "iteration: 55\n"
     ]
    },
    {
     "name": "stderr",
     "output_type": "stream",
     "text": [
      "/home/wanxinli/miniconda3/lib/python3.9/site-packages/ot/bregman.py:517: UserWarning: Sinkhorn did not converge. You might want to increase the number of iterations `numItermax` or the regularization parameter `reg`.\n",
      "  warnings.warn(\"Sinkhorn did not converge. You might want to \"\n"
     ]
    },
    {
     "name": "stdout",
     "output_type": "stream",
     "text": [
      "iteration: 56\n"
     ]
    },
    {
     "name": "stderr",
     "output_type": "stream",
     "text": [
      "/home/wanxinli/miniconda3/lib/python3.9/site-packages/ot/bregman.py:517: UserWarning: Sinkhorn did not converge. You might want to increase the number of iterations `numItermax` or the regularization parameter `reg`.\n",
      "  warnings.warn(\"Sinkhorn did not converge. You might want to \"\n"
     ]
    },
    {
     "name": "stdout",
     "output_type": "stream",
     "text": [
      "iteration: 57\n"
     ]
    },
    {
     "name": "stderr",
     "output_type": "stream",
     "text": [
      "/home/wanxinli/.local/lib/python3.9/site-packages/sklearn/linear_model/_glm/glm.py:284: ConvergenceWarning: lbfgs failed to converge (status=1):\n",
      "STOP: TOTAL NO. of ITERATIONS REACHED LIMIT.\n",
      "\n",
      "Increase the number of iterations (max_iter) or scale the data as shown in:\n",
      "    https://scikit-learn.org/stable/modules/preprocessing.html\n",
      "  self.n_iter_ = _check_optimize_result(\"lbfgs\", opt_res)\n"
     ]
    },
    {
     "name": "stdout",
     "output_type": "stream",
     "text": [
      "iteration: 58\n",
      "iteration: 59\n"
     ]
    },
    {
     "name": "stderr",
     "output_type": "stream",
     "text": [
      "/home/wanxinli/miniconda3/lib/python3.9/site-packages/ot/bregman.py:517: UserWarning: Sinkhorn did not converge. You might want to increase the number of iterations `numItermax` or the regularization parameter `reg`.\n",
      "  warnings.warn(\"Sinkhorn did not converge. You might want to \"\n"
     ]
    },
    {
     "name": "stdout",
     "output_type": "stream",
     "text": [
      "iteration: 60\n",
      "iteration: 61\n",
      "cannot fit the regression model\n",
      "iteration: 62\n"
     ]
    },
    {
     "name": "stderr",
     "output_type": "stream",
     "text": [
      "/home/wanxinli/.local/lib/python3.9/site-packages/sklearn/linear_model/_glm/glm.py:284: ConvergenceWarning: lbfgs failed to converge (status=1):\n",
      "STOP: TOTAL NO. of ITERATIONS REACHED LIMIT.\n",
      "\n",
      "Increase the number of iterations (max_iter) or scale the data as shown in:\n",
      "    https://scikit-learn.org/stable/modules/preprocessing.html\n",
      "  self.n_iter_ = _check_optimize_result(\"lbfgs\", opt_res)\n",
      "/home/wanxinli/miniconda3/lib/python3.9/site-packages/ot/bregman.py:517: UserWarning: Sinkhorn did not converge. You might want to increase the number of iterations `numItermax` or the regularization parameter `reg`.\n",
      "  warnings.warn(\"Sinkhorn did not converge. You might want to \"\n"
     ]
    },
    {
     "name": "stdout",
     "output_type": "stream",
     "text": [
      "iteration: 63\n",
      "iteration: 64\n"
     ]
    },
    {
     "name": "stderr",
     "output_type": "stream",
     "text": [
      "/home/wanxinli/.local/lib/python3.9/site-packages/sklearn/linear_model/_glm/glm.py:284: ConvergenceWarning: lbfgs failed to converge (status=1):\n",
      "STOP: TOTAL NO. of ITERATIONS REACHED LIMIT.\n",
      "\n",
      "Increase the number of iterations (max_iter) or scale the data as shown in:\n",
      "    https://scikit-learn.org/stable/modules/preprocessing.html\n",
      "  self.n_iter_ = _check_optimize_result(\"lbfgs\", opt_res)\n",
      "/home/wanxinli/miniconda3/lib/python3.9/site-packages/ot/bregman.py:517: UserWarning: Sinkhorn did not converge. You might want to increase the number of iterations `numItermax` or the regularization parameter `reg`.\n",
      "  warnings.warn(\"Sinkhorn did not converge. You might want to \"\n"
     ]
    },
    {
     "name": "stdout",
     "output_type": "stream",
     "text": [
      "iteration: 65\n"
     ]
    },
    {
     "name": "stderr",
     "output_type": "stream",
     "text": [
      "/home/wanxinli/miniconda3/lib/python3.9/site-packages/ot/bregman.py:517: UserWarning: Sinkhorn did not converge. You might want to increase the number of iterations `numItermax` or the regularization parameter `reg`.\n",
      "  warnings.warn(\"Sinkhorn did not converge. You might want to \"\n"
     ]
    },
    {
     "name": "stdout",
     "output_type": "stream",
     "text": [
      "iteration: 66\n",
      "cannot fit the regression model\n",
      "iteration: 67\n"
     ]
    },
    {
     "name": "stderr",
     "output_type": "stream",
     "text": [
      "/home/wanxinli/miniconda3/lib/python3.9/site-packages/ot/bregman.py:517: UserWarning: Sinkhorn did not converge. You might want to increase the number of iterations `numItermax` or the regularization parameter `reg`.\n",
      "  warnings.warn(\"Sinkhorn did not converge. You might want to \"\n"
     ]
    },
    {
     "name": "stdout",
     "output_type": "stream",
     "text": [
      "iteration: 68\n"
     ]
    },
    {
     "name": "stderr",
     "output_type": "stream",
     "text": [
      "/home/wanxinli/miniconda3/lib/python3.9/site-packages/ot/bregman.py:517: UserWarning: Sinkhorn did not converge. You might want to increase the number of iterations `numItermax` or the regularization parameter `reg`.\n",
      "  warnings.warn(\"Sinkhorn did not converge. You might want to \"\n"
     ]
    },
    {
     "name": "stdout",
     "output_type": "stream",
     "text": [
      "iteration: 69\n",
      "iteration: 70\n",
      "iteration: 71\n",
      "iteration: 72\n"
     ]
    },
    {
     "name": "stderr",
     "output_type": "stream",
     "text": [
      "/home/wanxinli/miniconda3/lib/python3.9/site-packages/ot/bregman.py:517: UserWarning: Sinkhorn did not converge. You might want to increase the number of iterations `numItermax` or the regularization parameter `reg`.\n",
      "  warnings.warn(\"Sinkhorn did not converge. You might want to \"\n"
     ]
    },
    {
     "name": "stdout",
     "output_type": "stream",
     "text": [
      "iteration: 73\n"
     ]
    },
    {
     "name": "stderr",
     "output_type": "stream",
     "text": [
      "/home/wanxinli/miniconda3/lib/python3.9/site-packages/ot/bregman.py:517: UserWarning: Sinkhorn did not converge. You might want to increase the number of iterations `numItermax` or the regularization parameter `reg`.\n",
      "  warnings.warn(\"Sinkhorn did not converge. You might want to \"\n"
     ]
    },
    {
     "name": "stdout",
     "output_type": "stream",
     "text": [
      "iteration: 74\n",
      "cannot fit the regression model\n",
      "iteration: 75\n",
      "cannot fit the regression model\n",
      "iteration: 76\n",
      "cannot fit the regression model\n",
      "iteration: 77\n"
     ]
    },
    {
     "name": "stderr",
     "output_type": "stream",
     "text": [
      "/home/wanxinli/miniconda3/lib/python3.9/site-packages/ot/bregman.py:517: UserWarning: Sinkhorn did not converge. You might want to increase the number of iterations `numItermax` or the regularization parameter `reg`.\n",
      "  warnings.warn(\"Sinkhorn did not converge. You might want to \"\n"
     ]
    },
    {
     "name": "stdout",
     "output_type": "stream",
     "text": [
      "iteration: 78\n"
     ]
    },
    {
     "name": "stderr",
     "output_type": "stream",
     "text": [
      "/home/wanxinli/miniconda3/lib/python3.9/site-packages/ot/bregman.py:517: UserWarning: Sinkhorn did not converge. You might want to increase the number of iterations `numItermax` or the regularization parameter `reg`.\n",
      "  warnings.warn(\"Sinkhorn did not converge. You might want to \"\n"
     ]
    },
    {
     "name": "stdout",
     "output_type": "stream",
     "text": [
      "iteration: 79\n",
      "iteration: 80\n"
     ]
    },
    {
     "name": "stderr",
     "output_type": "stream",
     "text": [
      "/home/wanxinli/miniconda3/lib/python3.9/site-packages/ot/bregman.py:517: UserWarning: Sinkhorn did not converge. You might want to increase the number of iterations `numItermax` or the regularization parameter `reg`.\n",
      "  warnings.warn(\"Sinkhorn did not converge. You might want to \"\n"
     ]
    },
    {
     "name": "stdout",
     "output_type": "stream",
     "text": [
      "iteration: 81\n"
     ]
    },
    {
     "name": "stderr",
     "output_type": "stream",
     "text": [
      "/home/wanxinli/miniconda3/lib/python3.9/site-packages/ot/bregman.py:517: UserWarning: Sinkhorn did not converge. You might want to increase the number of iterations `numItermax` or the regularization parameter `reg`.\n",
      "  warnings.warn(\"Sinkhorn did not converge. You might want to \"\n"
     ]
    },
    {
     "name": "stdout",
     "output_type": "stream",
     "text": [
      "iteration: 82\n",
      "iteration: 83\n"
     ]
    },
    {
     "name": "stderr",
     "output_type": "stream",
     "text": [
      "/home/wanxinli/.local/lib/python3.9/site-packages/sklearn/linear_model/_glm/glm.py:284: ConvergenceWarning: lbfgs failed to converge (status=1):\n",
      "STOP: TOTAL NO. of ITERATIONS REACHED LIMIT.\n",
      "\n",
      "Increase the number of iterations (max_iter) or scale the data as shown in:\n",
      "    https://scikit-learn.org/stable/modules/preprocessing.html\n",
      "  self.n_iter_ = _check_optimize_result(\"lbfgs\", opt_res)\n"
     ]
    },
    {
     "name": "stdout",
     "output_type": "stream",
     "text": [
      "iteration: 84\n"
     ]
    },
    {
     "name": "stderr",
     "output_type": "stream",
     "text": [
      "/home/wanxinli/.local/lib/python3.9/site-packages/sklearn/linear_model/_glm/glm.py:284: ConvergenceWarning: lbfgs failed to converge (status=1):\n",
      "STOP: TOTAL NO. of ITERATIONS REACHED LIMIT.\n",
      "\n",
      "Increase the number of iterations (max_iter) or scale the data as shown in:\n",
      "    https://scikit-learn.org/stable/modules/preprocessing.html\n",
      "  self.n_iter_ = _check_optimize_result(\"lbfgs\", opt_res)\n"
     ]
    },
    {
     "name": "stdout",
     "output_type": "stream",
     "text": [
      "iteration: 85\n"
     ]
    },
    {
     "name": "stderr",
     "output_type": "stream",
     "text": [
      "/home/wanxinli/.local/lib/python3.9/site-packages/sklearn/linear_model/_glm/glm.py:284: ConvergenceWarning: lbfgs failed to converge (status=1):\n",
      "STOP: TOTAL NO. of ITERATIONS REACHED LIMIT.\n",
      "\n",
      "Increase the number of iterations (max_iter) or scale the data as shown in:\n",
      "    https://scikit-learn.org/stable/modules/preprocessing.html\n",
      "  self.n_iter_ = _check_optimize_result(\"lbfgs\", opt_res)\n",
      "/home/wanxinli/miniconda3/lib/python3.9/site-packages/ot/bregman.py:517: UserWarning: Sinkhorn did not converge. You might want to increase the number of iterations `numItermax` or the regularization parameter `reg`.\n",
      "  warnings.warn(\"Sinkhorn did not converge. You might want to \"\n"
     ]
    },
    {
     "name": "stdout",
     "output_type": "stream",
     "text": [
      "iteration: 86\n",
      "iteration: 87\n",
      "iteration: 88\n",
      "iteration: 89\n",
      "iteration: 90\n",
      "iteration: 91\n"
     ]
    },
    {
     "name": "stderr",
     "output_type": "stream",
     "text": [
      "/home/wanxinli/miniconda3/lib/python3.9/site-packages/ot/bregman.py:517: UserWarning: Sinkhorn did not converge. You might want to increase the number of iterations `numItermax` or the regularization parameter `reg`.\n",
      "  warnings.warn(\"Sinkhorn did not converge. You might want to \"\n"
     ]
    },
    {
     "name": "stdout",
     "output_type": "stream",
     "text": [
      "iteration: 92\n",
      "cannot fit the regression model\n",
      "iteration: 93\n"
     ]
    },
    {
     "name": "stderr",
     "output_type": "stream",
     "text": [
      "/home/wanxinli/miniconda3/lib/python3.9/site-packages/ot/bregman.py:517: UserWarning: Sinkhorn did not converge. You might want to increase the number of iterations `numItermax` or the regularization parameter `reg`.\n",
      "  warnings.warn(\"Sinkhorn did not converge. You might want to \"\n"
     ]
    },
    {
     "name": "stdout",
     "output_type": "stream",
     "text": [
      "iteration: 94\n",
      "cannot fit the regression model\n",
      "iteration: 95\n",
      "iteration: 96\n",
      "iteration: 97\n"
     ]
    },
    {
     "name": "stderr",
     "output_type": "stream",
     "text": [
      "/home/wanxinli/miniconda3/lib/python3.9/site-packages/ot/bregman.py:517: UserWarning: Sinkhorn did not converge. You might want to increase the number of iterations `numItermax` or the regularization parameter `reg`.\n",
      "  warnings.warn(\"Sinkhorn did not converge. You might want to \"\n"
     ]
    },
    {
     "name": "stdout",
     "output_type": "stream",
     "text": [
      "iteration: 98\n",
      "iteration: 99\n",
      "cannot fit the regression model\n"
     ]
    },
    {
     "data": {
      "text/plain": [
       "array([[4.66908687e-310, 4.66908654e-310, 4.66908687e-310,\n",
       "        4.66908654e-310, 6.92956921e-310, 6.92956921e-310],\n",
       "       [1.85576849e+005, 2.68730313e+005, 1.01666099e+006,\n",
       "        1.57565496e+006, 7.68546526e+005, 1.33923802e+006],\n",
       "       [6.92956921e-310, 6.92956921e-310, 6.92956921e-310,\n",
       "        6.92956921e-310, 6.92956921e-310, 6.92956921e-310],\n",
       "       [1.17978141e+005, 1.62511071e+005, 9.03118900e+005,\n",
       "        1.91440301e+006, 5.57421777e+005, 9.15125437e+005],\n",
       "       [1.10117349e+005, 1.77539088e+005, 8.21745238e+005,\n",
       "        1.27206318e+006, 7.12091801e+005, 1.07923678e+006],\n",
       "       [1.62735495e+005, 2.54997551e+005, 7.12942363e+005,\n",
       "        1.06975388e+006, 6.21875690e+005, 8.56922019e+005],\n",
       "       [6.92956921e-310, 6.92956921e-310, 6.92956921e-310,\n",
       "        6.92956921e-310, 6.92956921e-310, 6.92956921e-310],\n",
       "       [1.44639645e+005, 2.23274845e+005, 7.80288116e+005,\n",
       "        1.36122638e+006, 5.69417819e+005, 9.72645414e+005],\n",
       "       [1.43052339e+005, 2.12305709e+005, 8.13029398e+005,\n",
       "        1.48505699e+006, 7.46095695e+005, 1.41224501e+006],\n",
       "       [1.22451952e+005, 1.87208715e+005, 9.04782743e+005,\n",
       "        1.50689204e+006, 7.88712363e+005, 1.39711120e+006],\n",
       "       [9.47990157e+004, 1.42684479e+005, 7.52108272e+005,\n",
       "        1.12124491e+006, 6.44746100e+005, 9.61446923e+005],\n",
       "       [8.53308819e+004, 1.21304305e+005, 7.24098608e+005,\n",
       "        1.19646268e+006, 6.99138871e+005, 1.37266859e+006],\n",
       "       [1.16267029e+005, 1.59495853e+005, 9.36747182e+005,\n",
       "        1.87875213e+006, 8.80381622e+005, 1.98579930e+006],\n",
       "       [1.29752442e+005, 2.48674942e+005, 9.91311606e+005,\n",
       "        1.81028776e+006, 7.21985094e+005, 1.14373843e+006],\n",
       "       [6.92956921e-310, 6.92956921e-310, 6.92956921e-310,\n",
       "        6.92956921e-310, 6.92956921e-310, 6.92956921e-310],\n",
       "       [8.14920340e+004, 1.62564204e+005, 8.08964111e+005,\n",
       "        1.68483082e+006, 7.22641554e+005, 1.23237784e+006],\n",
       "       [1.45398368e+005, 1.98810044e+005, 8.85644879e+005,\n",
       "        2.41312105e+006, 5.30767166e+005, 7.33324773e+005],\n",
       "       [8.80091898e+004, 1.23758813e+005, 8.64923606e+005,\n",
       "        1.40751883e+006, 6.46535300e+005, 1.18054093e+006],\n",
       "       [6.92984380e-310, 6.92984380e-310, 6.92984380e-310,\n",
       "        6.92984380e-310, 6.92984380e-310, 6.92984380e-310],\n",
       "       [6.92984380e-310, 6.92984380e-310, 6.92984380e-310,\n",
       "        6.92984380e-310, 6.92984380e-310, 6.92984380e-310],\n",
       "       [6.92984380e-310, 6.92984380e-310, 6.92984380e-310,\n",
       "        6.92984380e-310, 6.92984380e-310, 6.92984380e-310],\n",
       "       [1.13365742e+005, 1.74294712e+005, 8.68971837e+005,\n",
       "        1.78033581e+006, 7.51528464e+005, 1.50001521e+006],\n",
       "       [1.36775626e+005, 2.12957668e+005, 9.75772902e+005,\n",
       "        1.85176506e+006, 6.58366576e+005, 1.17248885e+006],\n",
       "       [8.61154517e+004, 1.18310827e+005, 8.74300026e+005,\n",
       "        1.49146611e+006, 6.24857104e+005, 9.90796822e+005],\n",
       "       [1.09307330e+005, 1.60789422e+005, 9.27833730e+005,\n",
       "        1.43465562e+006, 6.95807286e+005, 1.14186673e+006],\n",
       "       [1.23523924e+005, 2.09360461e+005, 1.04249464e+006,\n",
       "        2.46271650e+006, 7.87888489e+005, 1.54789374e+006],\n",
       "       [1.90575987e+005, 2.84860443e+005, 9.26654999e+005,\n",
       "        1.41815601e+006, 7.84929197e+005, 1.27722814e+006],\n",
       "       [1.42827753e+005, 2.07362261e+005, 7.63038790e+005,\n",
       "        1.47312047e+006, 6.54152378e+005, 1.28929896e+006],\n",
       "       [1.91771077e+005, 2.81952584e+005, 8.01590643e+005,\n",
       "        1.24210317e+006, 7.39468247e+005, 1.02913389e+006],\n",
       "       [2.18016741e+005, 4.06812796e+005, 1.04402221e+006,\n",
       "        2.21891377e+006, 7.84509872e+005, 1.21969061e+006],\n",
       "       [1.12215698e+005, 1.69281255e+005, 8.42154718e+005,\n",
       "        1.44627006e+006, 6.44782988e+005, 1.29358899e+006],\n",
       "       [1.10039429e+005, 1.65098312e+005, 7.79200880e+005,\n",
       "        1.21388961e+006, 6.42541946e+005, 1.04048162e+006],\n",
       "       [1.26266240e+005, 2.00227945e+005, 9.17759297e+005,\n",
       "        1.48237031e+006, 8.49072022e+005, 1.39893195e+006],\n",
       "       [9.29883710e+004, 1.32667054e+005, 1.13296168e+006,\n",
       "        1.97171619e+006, 8.87529710e+005, 1.60945176e+006],\n",
       "       [6.92956963e-310, 6.92956533e-310, 6.92956533e-310,\n",
       "        6.92956533e-310, 6.92956533e-310, 6.92956582e-310],\n",
       "       [9.09385083e+004, 1.49452605e+005, 7.65333010e+005,\n",
       "        1.17197492e+006, 5.94186340e+005, 9.28271436e+005],\n",
       "       [7.84385506e+004, 1.33307906e+005, 8.70439839e+005,\n",
       "        1.60087791e+006, 8.09097968e+005, 1.52947446e+006],\n",
       "       [1.08057098e+005, 1.72772325e+005, 6.94223288e+005,\n",
       "        1.24234186e+006, 6.01172464e+005, 1.08838279e+006],\n",
       "       [9.12041272e+004, 1.37372161e+005, 9.36591120e+005,\n",
       "        2.34599657e+006, 7.58321794e+005, 1.34211099e+006],\n",
       "       [1.39384476e+005, 2.09574812e+005, 6.09101686e+005,\n",
       "        1.01068074e+006, 5.18301843e+005, 8.73204109e+005],\n",
       "       [9.61823485e+004, 1.67954350e+005, 7.04555891e+005,\n",
       "        1.25979932e+006, 5.74299119e+005, 9.88552442e+005],\n",
       "       [6.92956975e-310, 6.92956975e-310, 6.92956975e-310,\n",
       "        6.92956975e-310, 6.92956975e-310, 6.92956975e-310],\n",
       "       [1.26479375e+005, 1.87772033e+005, 7.03227817e+005,\n",
       "        1.09805812e+006, 6.40806893e+005, 1.16091157e+006],\n",
       "       [6.92956975e-310, 6.92956975e-310, 6.92956975e-310,\n",
       "        6.92956975e-310, 6.92956586e-310, 6.92956586e-310],\n",
       "       [1.31964063e+005, 1.88660226e+005, 6.05950511e+005,\n",
       "        9.09306985e+005, 5.06816006e+005, 7.40117141e+005],\n",
       "       [1.05183223e+005, 1.80821352e+005, 7.23462481e+005,\n",
       "        1.22606907e+006, 6.71547599e+005, 1.21245321e+006],\n",
       "       [1.01854930e+005, 1.64934414e+005, 1.13208971e+006,\n",
       "        3.51953157e+006, 7.56408769e+005, 1.12183157e+006],\n",
       "       [1.59719885e+005, 3.52394311e+005, 9.96392806e+005,\n",
       "        1.77689955e+006, 7.96612152e+005, 1.61831167e+006],\n",
       "       [9.76843775e+004, 1.37944744e+005, 8.03703677e+005,\n",
       "        1.41455991e+006, 6.73842337e+005, 1.18385249e+006],\n",
       "       [6.92956910e-310, 6.92956910e-310, 6.92956910e-310,\n",
       "        6.92956976e-310, 6.92956976e-310, 6.92956976e-310],\n",
       "       [1.32185669e+005, 1.90097950e+005, 8.45170380e+005,\n",
       "        1.72153322e+006, 6.51244015e+005, 1.14554439e+006],\n",
       "       [1.12000922e+005, 1.66874090e+005, 7.05406815e+005,\n",
       "        1.25433628e+006, 5.42607170e+005, 8.99763249e+005],\n",
       "       [1.25489614e+005, 3.36285808e+005, 8.18676749e+005,\n",
       "        1.53713328e+006, 6.86352896e+005, 1.25404943e+006],\n",
       "       [1.84761574e+005, 2.80633980e+005, 8.08699960e+005,\n",
       "        1.27750761e+006, 6.55388261e+005, 9.08885442e+005],\n",
       "       [1.44600573e+005, 2.35534502e+005, 1.11538324e+006,\n",
       "        2.26630326e+006, 7.04143310e+005, 1.47851791e+006],\n",
       "       [1.06329167e+005, 1.68737863e+005, 9.61723785e+005,\n",
       "        2.11754052e+006, 5.07851708e+005, 8.24268374e+005],\n",
       "       [1.60188789e+005, 2.24276201e+005, 1.09350181e+006,\n",
       "        1.70237559e+006, 8.70238148e+005, 1.42112533e+006],\n",
       "       [8.65572734e+004, 1.25019356e+005, 1.20454681e+006,\n",
       "        2.70661797e+006, 8.86836707e+005, 1.72696767e+006],\n",
       "       [1.57626139e+005, 2.11196631e+005, 7.88700800e+005,\n",
       "        1.20401064e+006, 6.31641001e+005, 1.07311205e+006],\n",
       "       [1.41742290e+005, 2.12495365e+005, 9.84213923e+005,\n",
       "        1.89314271e+006, 7.32657511e+005, 1.57898037e+006],\n",
       "       [1.81394152e+005, 2.68105228e+005, 8.23876070e+005,\n",
       "        1.12938383e+006, 7.87881119e+005, 1.14874786e+006],\n",
       "       [6.92956530e-310, 6.92956530e-310, 6.92956530e-310,\n",
       "        6.92956530e-310, 6.92956530e-310, 6.92956530e-310],\n",
       "       [1.64702246e+005, 2.24610159e+005, 9.38379828e+005,\n",
       "        1.53568834e+006, 7.77445835e+005, 1.27071813e+006],\n",
       "       [7.88583248e+004, 1.20038459e+005, 6.97397365e+005,\n",
       "        1.31303086e+006, 5.44395737e+005, 8.54387879e+005],\n",
       "       [1.65431171e+005, 2.81705107e+005, 1.64485489e+006,\n",
       "        3.68225707e+006, 6.80427722e+005, 1.14005265e+006],\n",
       "       [1.26132454e+005, 1.88965289e+005, 7.23019867e+005,\n",
       "        1.06479254e+006, 6.12864512e+005, 8.93143951e+005],\n",
       "       [6.92955197e-310, 6.92955197e-310, 6.92955197e-310,\n",
       "        6.92955197e-310, 6.92955642e-310, 6.92955202e-310],\n",
       "       [1.35216058e+005, 2.09849877e+005, 8.69835619e+005,\n",
       "        1.30570487e+006, 6.62669230e+005, 1.02503690e+006],\n",
       "       [1.85742468e+005, 2.60944308e+005, 8.59513106e+005,\n",
       "        1.56460933e+006, 7.71618008e+005, 1.45134823e+006],\n",
       "       [1.64766588e+005, 2.41328875e+005, 6.69758235e+005,\n",
       "        1.06717540e+006, 6.28478028e+005, 9.36591185e+005],\n",
       "       [1.24669506e+005, 1.90004670e+005, 8.49938240e+005,\n",
       "        1.54334391e+006, 7.30770869e+005, 1.41946487e+006],\n",
       "       [9.53034039e+004, 1.40807253e+005, 8.53476521e+005,\n",
       "        1.39105529e+006, 7.20265448e+005, 1.16813704e+006],\n",
       "       [9.78162088e+004, 1.42494561e+005, 6.95527086e+005,\n",
       "        1.11665874e+006, 5.76877296e+005, 9.57757670e+005],\n",
       "       [1.44000096e+005, 2.46775300e+005, 8.33051387e+005,\n",
       "        1.31354695e+006, 6.87327389e+005, 1.14162982e+006],\n",
       "       [6.92955202e-310, 6.92955202e-310, 6.92955202e-310,\n",
       "        6.92955201e-310, 6.92955201e-310, 6.92955203e-310],\n",
       "       [6.92955202e-310, 6.92955202e-310, 6.92955201e-310,\n",
       "        6.92955203e-310, 6.92955201e-310, 6.92955202e-310],\n",
       "       [6.92956913e-310, 6.92955202e-310, 6.92955202e-310,\n",
       "        6.92955198e-310, 6.92955199e-310, 6.92955202e-310],\n",
       "       [1.07615475e+005, 1.70691407e+005, 7.71636784e+005,\n",
       "        1.29177835e+006, 6.08906043e+005, 1.08433625e+006],\n",
       "       [1.52314732e+005, 2.07681168e+005, 1.00611815e+006,\n",
       "        1.64740389e+006, 8.06197764e+005, 1.35553872e+006],\n",
       "       [1.08967543e+005, 1.54793617e+005, 8.06124603e+005,\n",
       "        1.35909309e+006, 5.78150750e+005, 9.90152801e+005],\n",
       "       [1.97067621e+005, 3.36283546e+005, 8.46743961e+005,\n",
       "        1.30662279e+006, 6.00303007e+005, 9.04563152e+005],\n",
       "       [1.40255569e+005, 2.03031827e+005, 5.87693029e+005,\n",
       "        9.80076809e+005, 5.68761182e+005, 9.70287594e+005],\n",
       "       [1.34311647e+005, 1.89334002e+005, 1.03660032e+006,\n",
       "        1.90504300e+006, 8.48582857e+005, 1.32482554e+006],\n",
       "       [1.24955538e+005, 1.73084723e+005, 6.88059434e+005,\n",
       "        1.00734656e+006, 6.82878677e+005, 1.02605442e+006],\n",
       "       [1.13248923e+005, 1.71154444e+005, 9.04277030e+005,\n",
       "        1.51062368e+006, 6.28296711e+005, 1.06833811e+006],\n",
       "       [1.23125684e+005, 1.82784413e+005, 1.75987672e+006,\n",
       "        5.83765727e+006, 5.95433071e+005, 1.07066427e+006],\n",
       "       [1.48607742e+005, 2.48231539e+005, 9.95953116e+005,\n",
       "        1.83115282e+006, 8.66626992e+005, 1.59345701e+006],\n",
       "       [1.22989518e+005, 1.81777153e+005, 8.59559567e+005,\n",
       "        1.34069752e+006, 6.99954538e+005, 1.09267556e+006],\n",
       "       [1.18444232e+005, 1.63373913e+005, 1.01481473e+006,\n",
       "        1.77267908e+006, 7.59983469e+005, 1.31769466e+006],\n",
       "       [8.89346464e+004, 1.26394624e+005, 6.63142570e+005,\n",
       "        1.15938370e+006, 5.85529211e+005, 1.12948544e+006],\n",
       "       [1.13116281e+005, 1.63747250e+005, 7.53797278e+005,\n",
       "        1.29225112e+006, 6.22545713e+005, 1.15160706e+006],\n",
       "       [1.80642535e+005, 3.30809702e+005, 7.94905489e+005,\n",
       "        1.21881652e+006, 5.91528611e+005, 8.69579810e+005],\n",
       "       [6.92984387e-310, 6.92984387e-310, 6.92984387e-310,\n",
       "        6.92984387e-310, 6.92984387e-310, 6.92984387e-310],\n",
       "       [1.11582471e+005, 1.71154131e+005, 8.20758125e+005,\n",
       "        1.48093087e+006, 7.14172934e+005, 1.51180180e+006],\n",
       "       [6.92984387e-310, 6.92984387e-310, 6.92984387e-310,\n",
       "        6.92984387e-310, 6.92984387e-310, 6.92984387e-310],\n",
       "       [1.55117633e+005, 2.16844023e+005, 9.87127548e+005,\n",
       "        3.32670718e+006, 6.42265979e+005, 1.00318841e+006],\n",
       "       [1.17935224e+005, 1.89322596e+005, 7.60467736e+005,\n",
       "        1.19230535e+006, 6.74944267e+005, 1.06226309e+006],\n",
       "       [1.21246239e+005, 1.98733125e+005, 9.21328743e+005,\n",
       "        1.72578121e+006, 8.56544551e+005, 1.71480796e+006],\n",
       "       [1.05613561e+005, 1.54367318e+005, 7.89630280e+005,\n",
       "        1.42863887e+006, 6.92049658e+005, 1.24243108e+006],\n",
       "       [6.92984387e-310, 6.92984387e-310, 6.92984387e-310,\n",
       "        6.92984387e-310, 6.92984387e-310, 6.92984387e-310]])"
      ]
     },
     "execution_count": 17,
     "metadata": {},
     "output_type": "execute_result"
    }
   ],
   "source": [
    "\"\"\" \n",
    "Run multiple iterations using Poisson regression\n",
    "\"\"\"\n",
    "score_path = os.path.join(output_dir, \"exp4_poisson_score_\"+str(n_components)+\".csv\")\n",
    "male_count = 120\n",
    "female_count = 100\n",
    "\n",
    "multi_proc_cts(score_path, n_components, admid_diagnosis_df, custom_train_reps, \\\n",
    "    male_count, female_count, model_func = linear_model.PoissonRegressor, iteration=100)"
   ]
  },
  {
   "cell_type": "code",
   "execution_count": 18,
   "metadata": {},
   "outputs": [],
   "source": [
    "# score_path = os.path.join(output_dir, \"exp4_poisson_score_\"+str(n_components)+\".csv\")\n",
    "\n",
    "# save_path = \"../../outputs/mimic/exp4_poisson_res.png\"\n",
    "# box_plot_cts_short(score_path, save_path=save_path)\n"
   ]
  },
  {
   "cell_type": "code",
   "execution_count": 19,
   "metadata": {},
   "outputs": [
    {
     "name": "stdout",
     "output_type": "stream",
     "text": [
      "iteration: 0\n",
      "iteration: 1\n",
      "iteration: 2\n",
      "iteration: 3\n",
      "iteration: 4\n",
      "iteration: 5\n"
     ]
    },
    {
     "name": "stderr",
     "output_type": "stream",
     "text": [
      "/home/wanxinli/miniconda3/lib/python3.9/site-packages/ot/bregman.py:517: UserWarning: Sinkhorn did not converge. You might want to increase the number of iterations `numItermax` or the regularization parameter `reg`.\n",
      "  warnings.warn(\"Sinkhorn did not converge. You might want to \"\n"
     ]
    },
    {
     "name": "stdout",
     "output_type": "stream",
     "text": [
      "iteration: 6\n",
      "iteration: 7\n",
      "iteration: 8\n"
     ]
    },
    {
     "name": "stderr",
     "output_type": "stream",
     "text": [
      "/home/wanxinli/miniconda3/lib/python3.9/site-packages/ot/bregman.py:517: UserWarning: Sinkhorn did not converge. You might want to increase the number of iterations `numItermax` or the regularization parameter `reg`.\n",
      "  warnings.warn(\"Sinkhorn did not converge. You might want to \"\n"
     ]
    },
    {
     "name": "stdout",
     "output_type": "stream",
     "text": [
      "iteration: 9\n"
     ]
    },
    {
     "name": "stderr",
     "output_type": "stream",
     "text": [
      "/home/wanxinli/miniconda3/lib/python3.9/site-packages/ot/bregman.py:517: UserWarning: Sinkhorn did not converge. You might want to increase the number of iterations `numItermax` or the regularization parameter `reg`.\n",
      "  warnings.warn(\"Sinkhorn did not converge. You might want to \"\n"
     ]
    },
    {
     "name": "stdout",
     "output_type": "stream",
     "text": [
      "iteration: 10\n",
      "iteration: 11\n",
      "iteration: 12\n"
     ]
    },
    {
     "name": "stderr",
     "output_type": "stream",
     "text": [
      "/home/wanxinli/miniconda3/lib/python3.9/site-packages/ot/bregman.py:517: UserWarning: Sinkhorn did not converge. You might want to increase the number of iterations `numItermax` or the regularization parameter `reg`.\n",
      "  warnings.warn(\"Sinkhorn did not converge. You might want to \"\n"
     ]
    },
    {
     "name": "stdout",
     "output_type": "stream",
     "text": [
      "iteration: 13\n",
      "iteration: 14\n"
     ]
    },
    {
     "name": "stderr",
     "output_type": "stream",
     "text": [
      "/home/wanxinli/miniconda3/lib/python3.9/site-packages/ot/bregman.py:517: UserWarning: Sinkhorn did not converge. You might want to increase the number of iterations `numItermax` or the regularization parameter `reg`.\n",
      "  warnings.warn(\"Sinkhorn did not converge. You might want to \"\n"
     ]
    },
    {
     "name": "stdout",
     "output_type": "stream",
     "text": [
      "iteration: 15\n"
     ]
    },
    {
     "name": "stderr",
     "output_type": "stream",
     "text": [
      "/home/wanxinli/miniconda3/lib/python3.9/site-packages/ot/bregman.py:517: UserWarning: Sinkhorn did not converge. You might want to increase the number of iterations `numItermax` or the regularization parameter `reg`.\n",
      "  warnings.warn(\"Sinkhorn did not converge. You might want to \"\n"
     ]
    },
    {
     "name": "stdout",
     "output_type": "stream",
     "text": [
      "iteration: 16\n",
      "iteration: 17\n",
      "iteration: 18\n",
      "iteration: 19\n",
      "iteration: 20\n"
     ]
    },
    {
     "name": "stderr",
     "output_type": "stream",
     "text": [
      "/home/wanxinli/miniconda3/lib/python3.9/site-packages/ot/bregman.py:517: UserWarning: Sinkhorn did not converge. You might want to increase the number of iterations `numItermax` or the regularization parameter `reg`.\n",
      "  warnings.warn(\"Sinkhorn did not converge. You might want to \"\n"
     ]
    },
    {
     "name": "stdout",
     "output_type": "stream",
     "text": [
      "iteration: 21\n"
     ]
    },
    {
     "name": "stderr",
     "output_type": "stream",
     "text": [
      "/home/wanxinli/miniconda3/lib/python3.9/site-packages/ot/bregman.py:517: UserWarning: Sinkhorn did not converge. You might want to increase the number of iterations `numItermax` or the regularization parameter `reg`.\n",
      "  warnings.warn(\"Sinkhorn did not converge. You might want to \"\n"
     ]
    },
    {
     "name": "stdout",
     "output_type": "stream",
     "text": [
      "iteration: 22\n"
     ]
    },
    {
     "name": "stderr",
     "output_type": "stream",
     "text": [
      "/home/wanxinli/miniconda3/lib/python3.9/site-packages/ot/bregman.py:517: UserWarning: Sinkhorn did not converge. You might want to increase the number of iterations `numItermax` or the regularization parameter `reg`.\n",
      "  warnings.warn(\"Sinkhorn did not converge. You might want to \"\n"
     ]
    },
    {
     "name": "stdout",
     "output_type": "stream",
     "text": [
      "iteration: 23\n"
     ]
    },
    {
     "name": "stderr",
     "output_type": "stream",
     "text": [
      "/home/wanxinli/miniconda3/lib/python3.9/site-packages/ot/bregman.py:517: UserWarning: Sinkhorn did not converge. You might want to increase the number of iterations `numItermax` or the regularization parameter `reg`.\n",
      "  warnings.warn(\"Sinkhorn did not converge. You might want to \"\n"
     ]
    },
    {
     "name": "stdout",
     "output_type": "stream",
     "text": [
      "iteration: 24\n",
      "iteration: 25\n"
     ]
    },
    {
     "name": "stderr",
     "output_type": "stream",
     "text": [
      "/home/wanxinli/miniconda3/lib/python3.9/site-packages/ot/bregman.py:517: UserWarning: Sinkhorn did not converge. You might want to increase the number of iterations `numItermax` or the regularization parameter `reg`.\n",
      "  warnings.warn(\"Sinkhorn did not converge. You might want to \"\n"
     ]
    },
    {
     "name": "stdout",
     "output_type": "stream",
     "text": [
      "iteration: 26\n",
      "iteration: 27\n"
     ]
    },
    {
     "name": "stderr",
     "output_type": "stream",
     "text": [
      "/home/wanxinli/miniconda3/lib/python3.9/site-packages/ot/bregman.py:517: UserWarning: Sinkhorn did not converge. You might want to increase the number of iterations `numItermax` or the regularization parameter `reg`.\n",
      "  warnings.warn(\"Sinkhorn did not converge. You might want to \"\n"
     ]
    },
    {
     "name": "stdout",
     "output_type": "stream",
     "text": [
      "iteration: 28\n",
      "iteration: 29\n"
     ]
    },
    {
     "name": "stderr",
     "output_type": "stream",
     "text": [
      "/home/wanxinli/miniconda3/lib/python3.9/site-packages/ot/bregman.py:517: UserWarning: Sinkhorn did not converge. You might want to increase the number of iterations `numItermax` or the regularization parameter `reg`.\n",
      "  warnings.warn(\"Sinkhorn did not converge. You might want to \"\n"
     ]
    },
    {
     "name": "stdout",
     "output_type": "stream",
     "text": [
      "iteration: 30\n",
      "iteration: 31\n",
      "iteration: 32\n",
      "iteration: 33\n"
     ]
    },
    {
     "name": "stderr",
     "output_type": "stream",
     "text": [
      "/home/wanxinli/miniconda3/lib/python3.9/site-packages/ot/bregman.py:517: UserWarning: Sinkhorn did not converge. You might want to increase the number of iterations `numItermax` or the regularization parameter `reg`.\n",
      "  warnings.warn(\"Sinkhorn did not converge. You might want to \"\n"
     ]
    },
    {
     "name": "stdout",
     "output_type": "stream",
     "text": [
      "iteration: 34\n",
      "iteration: 35\n"
     ]
    },
    {
     "name": "stderr",
     "output_type": "stream",
     "text": [
      "/home/wanxinli/miniconda3/lib/python3.9/site-packages/ot/bregman.py:517: UserWarning: Sinkhorn did not converge. You might want to increase the number of iterations `numItermax` or the regularization parameter `reg`.\n",
      "  warnings.warn(\"Sinkhorn did not converge. You might want to \"\n"
     ]
    },
    {
     "name": "stdout",
     "output_type": "stream",
     "text": [
      "iteration: 36\n",
      "iteration: 37\n",
      "iteration: 38\n",
      "iteration: 39\n",
      "iteration: 40\n"
     ]
    },
    {
     "name": "stderr",
     "output_type": "stream",
     "text": [
      "/home/wanxinli/miniconda3/lib/python3.9/site-packages/ot/bregman.py:517: UserWarning: Sinkhorn did not converge. You might want to increase the number of iterations `numItermax` or the regularization parameter `reg`.\n",
      "  warnings.warn(\"Sinkhorn did not converge. You might want to \"\n"
     ]
    },
    {
     "name": "stdout",
     "output_type": "stream",
     "text": [
      "iteration: 41\n"
     ]
    },
    {
     "name": "stderr",
     "output_type": "stream",
     "text": [
      "/home/wanxinli/miniconda3/lib/python3.9/site-packages/ot/bregman.py:517: UserWarning: Sinkhorn did not converge. You might want to increase the number of iterations `numItermax` or the regularization parameter `reg`.\n",
      "  warnings.warn(\"Sinkhorn did not converge. You might want to \"\n"
     ]
    },
    {
     "name": "stdout",
     "output_type": "stream",
     "text": [
      "iteration: 42\n"
     ]
    },
    {
     "name": "stderr",
     "output_type": "stream",
     "text": [
      "/home/wanxinli/miniconda3/lib/python3.9/site-packages/ot/bregman.py:517: UserWarning: Sinkhorn did not converge. You might want to increase the number of iterations `numItermax` or the regularization parameter `reg`.\n",
      "  warnings.warn(\"Sinkhorn did not converge. You might want to \"\n"
     ]
    },
    {
     "name": "stdout",
     "output_type": "stream",
     "text": [
      "iteration: 43\n",
      "iteration: 44\n"
     ]
    },
    {
     "name": "stderr",
     "output_type": "stream",
     "text": [
      "/home/wanxinli/miniconda3/lib/python3.9/site-packages/ot/bregman.py:517: UserWarning: Sinkhorn did not converge. You might want to increase the number of iterations `numItermax` or the regularization parameter `reg`.\n",
      "  warnings.warn(\"Sinkhorn did not converge. You might want to \"\n"
     ]
    },
    {
     "name": "stdout",
     "output_type": "stream",
     "text": [
      "iteration: 45\n",
      "iteration: 46\n",
      "iteration: 47\n"
     ]
    },
    {
     "name": "stderr",
     "output_type": "stream",
     "text": [
      "/home/wanxinli/miniconda3/lib/python3.9/site-packages/ot/bregman.py:517: UserWarning: Sinkhorn did not converge. You might want to increase the number of iterations `numItermax` or the regularization parameter `reg`.\n",
      "  warnings.warn(\"Sinkhorn did not converge. You might want to \"\n"
     ]
    },
    {
     "name": "stdout",
     "output_type": "stream",
     "text": [
      "iteration: 48\n",
      "iteration: 49\n"
     ]
    },
    {
     "name": "stderr",
     "output_type": "stream",
     "text": [
      "/home/wanxinli/miniconda3/lib/python3.9/site-packages/ot/bregman.py:517: UserWarning: Sinkhorn did not converge. You might want to increase the number of iterations `numItermax` or the regularization parameter `reg`.\n",
      "  warnings.warn(\"Sinkhorn did not converge. You might want to \"\n"
     ]
    },
    {
     "name": "stdout",
     "output_type": "stream",
     "text": [
      "iteration: 50\n",
      "iteration: 51\n"
     ]
    },
    {
     "name": "stderr",
     "output_type": "stream",
     "text": [
      "/home/wanxinli/miniconda3/lib/python3.9/site-packages/ot/bregman.py:517: UserWarning: Sinkhorn did not converge. You might want to increase the number of iterations `numItermax` or the regularization parameter `reg`.\n",
      "  warnings.warn(\"Sinkhorn did not converge. You might want to \"\n"
     ]
    },
    {
     "name": "stdout",
     "output_type": "stream",
     "text": [
      "iteration: 52\n",
      "iteration: 53\n",
      "iteration: 54\n"
     ]
    },
    {
     "name": "stderr",
     "output_type": "stream",
     "text": [
      "/home/wanxinli/miniconda3/lib/python3.9/site-packages/ot/bregman.py:517: UserWarning: Sinkhorn did not converge. You might want to increase the number of iterations `numItermax` or the regularization parameter `reg`.\n",
      "  warnings.warn(\"Sinkhorn did not converge. You might want to \"\n"
     ]
    },
    {
     "name": "stdout",
     "output_type": "stream",
     "text": [
      "iteration: 55\n",
      "iteration: 56\n"
     ]
    },
    {
     "name": "stderr",
     "output_type": "stream",
     "text": [
      "/home/wanxinli/miniconda3/lib/python3.9/site-packages/ot/bregman.py:517: UserWarning: Sinkhorn did not converge. You might want to increase the number of iterations `numItermax` or the regularization parameter `reg`.\n",
      "  warnings.warn(\"Sinkhorn did not converge. You might want to \"\n"
     ]
    },
    {
     "name": "stdout",
     "output_type": "stream",
     "text": [
      "iteration: 57\n"
     ]
    },
    {
     "name": "stderr",
     "output_type": "stream",
     "text": [
      "/home/wanxinli/miniconda3/lib/python3.9/site-packages/ot/bregman.py:517: UserWarning: Sinkhorn did not converge. You might want to increase the number of iterations `numItermax` or the regularization parameter `reg`.\n",
      "  warnings.warn(\"Sinkhorn did not converge. You might want to \"\n"
     ]
    },
    {
     "name": "stdout",
     "output_type": "stream",
     "text": [
      "iteration: 58\n"
     ]
    },
    {
     "name": "stderr",
     "output_type": "stream",
     "text": [
      "/home/wanxinli/miniconda3/lib/python3.9/site-packages/ot/bregman.py:517: UserWarning: Sinkhorn did not converge. You might want to increase the number of iterations `numItermax` or the regularization parameter `reg`.\n",
      "  warnings.warn(\"Sinkhorn did not converge. You might want to \"\n"
     ]
    },
    {
     "name": "stdout",
     "output_type": "stream",
     "text": [
      "iteration: 59\n",
      "iteration: 60\n"
     ]
    },
    {
     "name": "stderr",
     "output_type": "stream",
     "text": [
      "/home/wanxinli/miniconda3/lib/python3.9/site-packages/ot/bregman.py:517: UserWarning: Sinkhorn did not converge. You might want to increase the number of iterations `numItermax` or the regularization parameter `reg`.\n",
      "  warnings.warn(\"Sinkhorn did not converge. You might want to \"\n"
     ]
    },
    {
     "name": "stdout",
     "output_type": "stream",
     "text": [
      "iteration: 61\n",
      "iteration: 62\n",
      "iteration: 63\n"
     ]
    },
    {
     "name": "stderr",
     "output_type": "stream",
     "text": [
      "/home/wanxinli/miniconda3/lib/python3.9/site-packages/ot/bregman.py:517: UserWarning: Sinkhorn did not converge. You might want to increase the number of iterations `numItermax` or the regularization parameter `reg`.\n",
      "  warnings.warn(\"Sinkhorn did not converge. You might want to \"\n"
     ]
    },
    {
     "name": "stdout",
     "output_type": "stream",
     "text": [
      "iteration: 64\n"
     ]
    },
    {
     "name": "stderr",
     "output_type": "stream",
     "text": [
      "/home/wanxinli/miniconda3/lib/python3.9/site-packages/ot/bregman.py:517: UserWarning: Sinkhorn did not converge. You might want to increase the number of iterations `numItermax` or the regularization parameter `reg`.\n",
      "  warnings.warn(\"Sinkhorn did not converge. You might want to \"\n"
     ]
    },
    {
     "name": "stdout",
     "output_type": "stream",
     "text": [
      "iteration: 65\n",
      "iteration: 66\n"
     ]
    },
    {
     "name": "stderr",
     "output_type": "stream",
     "text": [
      "/home/wanxinli/miniconda3/lib/python3.9/site-packages/ot/bregman.py:517: UserWarning: Sinkhorn did not converge. You might want to increase the number of iterations `numItermax` or the regularization parameter `reg`.\n",
      "  warnings.warn(\"Sinkhorn did not converge. You might want to \"\n"
     ]
    },
    {
     "name": "stdout",
     "output_type": "stream",
     "text": [
      "iteration: 67\n",
      "iteration: 68\n"
     ]
    },
    {
     "name": "stderr",
     "output_type": "stream",
     "text": [
      "/home/wanxinli/miniconda3/lib/python3.9/site-packages/ot/bregman.py:517: UserWarning: Sinkhorn did not converge. You might want to increase the number of iterations `numItermax` or the regularization parameter `reg`.\n",
      "  warnings.warn(\"Sinkhorn did not converge. You might want to \"\n"
     ]
    },
    {
     "name": "stdout",
     "output_type": "stream",
     "text": [
      "iteration: 69\n",
      "iteration: 70\n",
      "iteration: 71\n"
     ]
    },
    {
     "name": "stderr",
     "output_type": "stream",
     "text": [
      "/home/wanxinli/miniconda3/lib/python3.9/site-packages/ot/bregman.py:517: UserWarning: Sinkhorn did not converge. You might want to increase the number of iterations `numItermax` or the regularization parameter `reg`.\n",
      "  warnings.warn(\"Sinkhorn did not converge. You might want to \"\n"
     ]
    },
    {
     "name": "stdout",
     "output_type": "stream",
     "text": [
      "iteration: 72\n"
     ]
    },
    {
     "name": "stderr",
     "output_type": "stream",
     "text": [
      "/home/wanxinli/miniconda3/lib/python3.9/site-packages/ot/bregman.py:517: UserWarning: Sinkhorn did not converge. You might want to increase the number of iterations `numItermax` or the regularization parameter `reg`.\n",
      "  warnings.warn(\"Sinkhorn did not converge. You might want to \"\n"
     ]
    },
    {
     "name": "stdout",
     "output_type": "stream",
     "text": [
      "iteration: 73\n",
      "iteration: 74\n",
      "iteration: 75\n"
     ]
    },
    {
     "name": "stderr",
     "output_type": "stream",
     "text": [
      "/home/wanxinli/miniconda3/lib/python3.9/site-packages/ot/bregman.py:517: UserWarning: Sinkhorn did not converge. You might want to increase the number of iterations `numItermax` or the regularization parameter `reg`.\n",
      "  warnings.warn(\"Sinkhorn did not converge. You might want to \"\n"
     ]
    },
    {
     "name": "stdout",
     "output_type": "stream",
     "text": [
      "iteration: 76\n",
      "iteration: 77\n",
      "iteration: 78\n",
      "iteration: 79\n",
      "iteration: 80\n"
     ]
    },
    {
     "name": "stderr",
     "output_type": "stream",
     "text": [
      "/home/wanxinli/miniconda3/lib/python3.9/site-packages/ot/bregman.py:517: UserWarning: Sinkhorn did not converge. You might want to increase the number of iterations `numItermax` or the regularization parameter `reg`.\n",
      "  warnings.warn(\"Sinkhorn did not converge. You might want to \"\n"
     ]
    },
    {
     "name": "stdout",
     "output_type": "stream",
     "text": [
      "iteration: 81\n"
     ]
    },
    {
     "name": "stderr",
     "output_type": "stream",
     "text": [
      "/home/wanxinli/miniconda3/lib/python3.9/site-packages/ot/bregman.py:517: UserWarning: Sinkhorn did not converge. You might want to increase the number of iterations `numItermax` or the regularization parameter `reg`.\n",
      "  warnings.warn(\"Sinkhorn did not converge. You might want to \"\n"
     ]
    },
    {
     "name": "stdout",
     "output_type": "stream",
     "text": [
      "iteration: 82\n",
      "iteration: 83\n"
     ]
    },
    {
     "name": "stderr",
     "output_type": "stream",
     "text": [
      "/home/wanxinli/miniconda3/lib/python3.9/site-packages/ot/bregman.py:517: UserWarning: Sinkhorn did not converge. You might want to increase the number of iterations `numItermax` or the regularization parameter `reg`.\n",
      "  warnings.warn(\"Sinkhorn did not converge. You might want to \"\n"
     ]
    },
    {
     "name": "stdout",
     "output_type": "stream",
     "text": [
      "iteration: 84\n",
      "iteration: 85\n",
      "iteration: 86\n",
      "iteration: 87\n"
     ]
    },
    {
     "name": "stderr",
     "output_type": "stream",
     "text": [
      "/home/wanxinli/miniconda3/lib/python3.9/site-packages/ot/bregman.py:517: UserWarning: Sinkhorn did not converge. You might want to increase the number of iterations `numItermax` or the regularization parameter `reg`.\n",
      "  warnings.warn(\"Sinkhorn did not converge. You might want to \"\n"
     ]
    },
    {
     "name": "stdout",
     "output_type": "stream",
     "text": [
      "iteration: 88\n"
     ]
    },
    {
     "name": "stderr",
     "output_type": "stream",
     "text": [
      "/home/wanxinli/miniconda3/lib/python3.9/site-packages/ot/bregman.py:517: UserWarning: Sinkhorn did not converge. You might want to increase the number of iterations `numItermax` or the regularization parameter `reg`.\n",
      "  warnings.warn(\"Sinkhorn did not converge. You might want to \"\n"
     ]
    },
    {
     "name": "stdout",
     "output_type": "stream",
     "text": [
      "iteration: 89\n",
      "iteration: 90\n"
     ]
    },
    {
     "name": "stderr",
     "output_type": "stream",
     "text": [
      "/home/wanxinli/miniconda3/lib/python3.9/site-packages/ot/bregman.py:517: UserWarning: Sinkhorn did not converge. You might want to increase the number of iterations `numItermax` or the regularization parameter `reg`.\n",
      "  warnings.warn(\"Sinkhorn did not converge. You might want to \"\n"
     ]
    },
    {
     "name": "stdout",
     "output_type": "stream",
     "text": [
      "iteration: 91\n",
      "iteration: 92\n",
      "iteration: 93\n"
     ]
    },
    {
     "name": "stderr",
     "output_type": "stream",
     "text": [
      "/home/wanxinli/miniconda3/lib/python3.9/site-packages/ot/bregman.py:517: UserWarning: Sinkhorn did not converge. You might want to increase the number of iterations `numItermax` or the regularization parameter `reg`.\n",
      "  warnings.warn(\"Sinkhorn did not converge. You might want to \"\n"
     ]
    },
    {
     "name": "stdout",
     "output_type": "stream",
     "text": [
      "iteration: 94\n"
     ]
    },
    {
     "name": "stderr",
     "output_type": "stream",
     "text": [
      "/home/wanxinli/miniconda3/lib/python3.9/site-packages/ot/bregman.py:517: UserWarning: Sinkhorn did not converge. You might want to increase the number of iterations `numItermax` or the regularization parameter `reg`.\n",
      "  warnings.warn(\"Sinkhorn did not converge. You might want to \"\n"
     ]
    },
    {
     "name": "stdout",
     "output_type": "stream",
     "text": [
      "iteration: 95\n"
     ]
    },
    {
     "name": "stderr",
     "output_type": "stream",
     "text": [
      "/home/wanxinli/miniconda3/lib/python3.9/site-packages/ot/bregman.py:517: UserWarning: Sinkhorn did not converge. You might want to increase the number of iterations `numItermax` or the regularization parameter `reg`.\n",
      "  warnings.warn(\"Sinkhorn did not converge. You might want to \"\n"
     ]
    },
    {
     "name": "stdout",
     "output_type": "stream",
     "text": [
      "iteration: 96\n"
     ]
    },
    {
     "name": "stderr",
     "output_type": "stream",
     "text": [
      "/home/wanxinli/miniconda3/lib/python3.9/site-packages/ot/bregman.py:517: UserWarning: Sinkhorn did not converge. You might want to increase the number of iterations `numItermax` or the regularization parameter `reg`.\n",
      "  warnings.warn(\"Sinkhorn did not converge. You might want to \"\n"
     ]
    },
    {
     "name": "stdout",
     "output_type": "stream",
     "text": [
      "iteration: 97\n",
      "iteration: 98\n",
      "iteration: 99\n"
     ]
    },
    {
     "name": "stderr",
     "output_type": "stream",
     "text": [
      "/home/wanxinli/miniconda3/lib/python3.9/site-packages/ot/bregman.py:517: UserWarning: Sinkhorn did not converge. You might want to increase the number of iterations `numItermax` or the regularization parameter `reg`.\n",
      "  warnings.warn(\"Sinkhorn did not converge. You might want to \"\n"
     ]
    },
    {
     "data": {
      "text/plain": [
       "array([[ 128113.58398482,  193941.57040287,  751924.16106593,\n",
       "        1155097.28205223,  553960.93374919,  907433.87909868],\n",
       "       [ 191541.61833413,  282456.65465693,  995580.85638253,\n",
       "        1282764.68037206,  673669.43208922,  992070.15318968],\n",
       "       [ 218211.73917178,  286809.95732611, 1042088.30367706,\n",
       "        1483562.14554397,  765694.58808639, 1373525.29110355],\n",
       "       [ 116246.45943749,  162477.33837438,  938918.50653275,\n",
       "        1259385.28954521,  638724.97753884, 1067323.27559054],\n",
       "       [ 157655.11623088,  218152.499174  ,  743674.77102826,\n",
       "        1097703.3375511 ,  507939.11594311,  969022.93992984],\n",
       "       [ 218689.12541963,  304655.03069595,  832743.05905541,\n",
       "        1112761.85878628,  669037.20952718, 1009595.85781291],\n",
       "       [ 259513.41324498,  362836.10442846,  921807.81429191,\n",
       "        1483432.09988627,  728212.92863718, 1257402.7692285 ],\n",
       "       [ 199293.7589334 ,  276954.01171895,  856283.01456796,\n",
       "        1151182.05661348,  649445.32952707,  988998.83195566],\n",
       "       [ 152636.35226349,  285552.69684077, 1086406.34242588,\n",
       "        1613089.48506958,  823409.85854278, 1398683.69383716],\n",
       "       [ 199061.87337483,  272589.93369936,  775893.28604805,\n",
       "         972459.17173668,  565748.6450898 ,  824200.42022783],\n",
       "       [ 171104.06059921,  240632.49240724, 1038592.0513636 ,\n",
       "        1358979.44372423,  673841.10978347,  963508.3007402 ],\n",
       "       [ 177651.10519982,  253499.8675499 , 1054943.90503729,\n",
       "        1800701.99115648,  787635.10218753, 1674987.61882836],\n",
       "       [ 196760.46504517,  392648.14802314, 1236452.35072933,\n",
       "        1744487.48295052,  813710.29066301, 1352412.14343871],\n",
       "       [ 152091.86438475,  215193.82507794,  864084.19633858,\n",
       "        1503372.99380436,  765554.39165712, 1448890.35097889],\n",
       "       [ 226005.9411284 ,  310736.81745862,  946367.82325987,\n",
       "        1308995.07694202,  720869.80623905, 1174469.67520628],\n",
       "       [ 230550.98976955,  359362.58184734,  924822.14099184,\n",
       "        1188178.90970634,  705835.82657914, 1103202.1290938 ],\n",
       "       [ 204374.086621  ,  300144.33340735,  803911.64283098,\n",
       "        1084636.79594666,  590479.20527778,  918022.72906359],\n",
       "       [ 216716.48454168,  297949.0919741 , 1279209.00092208,\n",
       "        1815644.27472994,  922500.96472545, 1646279.06027874],\n",
       "       [ 202194.25070154,  279037.04783466,  890742.39920257,\n",
       "        1251613.14973753,  713387.1797676 , 1053254.59265215],\n",
       "       [ 174009.86291536,  248604.46846974, 1250638.74068424,\n",
       "        1596555.58504459,  876938.99832644, 1399206.70873574],\n",
       "       [ 145275.99444626,  207578.39298734,  843045.0207378 ,\n",
       "        1476057.03140788,  704438.50774068, 1412735.38336367],\n",
       "       [ 171157.96326126,  241033.50012726,  687467.95829693,\n",
       "         896847.55900523,  509968.70991986,  770474.85700023],\n",
       "       [ 165512.39696894,  240113.71212233,  755875.91156458,\n",
       "         990004.83936556,  664365.2211674 ,  924286.66946313],\n",
       "       [ 144169.93565294,  205525.24707916, 1078526.55316084,\n",
       "        1399657.35832875,  744879.47510424, 1316781.04268658],\n",
       "       [ 229933.52104829,  345251.90172138, 1113300.78187834,\n",
       "        1441377.57053402,  730216.44210435, 1172190.38992025],\n",
       "       [ 250781.52875151,  342609.23167095, 1057863.77839022,\n",
       "        1524926.42906946,  868203.77868454, 1404222.584328  ],\n",
       "       [ 181953.67926571,  251297.95612359,  846246.03573727,\n",
       "        1163520.5829606 ,  631173.30733065,  963187.74365491],\n",
       "       [ 235824.80279656,  339717.93429939, 1070221.85947824,\n",
       "        1534276.02918282,  871229.42872278, 1229009.89499712],\n",
       "       [ 246529.88943495,  428006.15919565, 1025592.99401131,\n",
       "        1360060.57042379,  791409.62038463, 1329366.3754381 ],\n",
       "       [ 179744.47675256,  253546.23531515, 1099731.24744148,\n",
       "        1459477.08968992,  668308.68091376, 1168871.29373143],\n",
       "       [ 156717.44671118,  267996.3186841 , 1144650.80591519,\n",
       "        1532146.30342172,  723921.41071475, 1200630.9881616 ],\n",
       "       [ 136647.43845623,  187785.22064671,  854992.55246535,\n",
       "        1169850.42643689,  671201.78616479, 1034593.00507989],\n",
       "       [ 179187.35546877,  266083.82929911,  903401.87730361,\n",
       "        1547966.95459921,  756172.2536953 , 1436448.78266238],\n",
       "       [ 186894.27839533,  267209.89703117,  902574.74251359,\n",
       "        1174097.30546347,  661249.17805404,  976940.99829859],\n",
       "       [ 167724.59228395,  234503.74281447,  805682.81699932,\n",
       "        1043006.75478423,  604357.01820924,  874732.04096531],\n",
       "       [ 145371.68807382,  214596.45726679,  932890.93999518,\n",
       "        1280377.67376359,  685480.16544314, 1057340.61543438],\n",
       "       [ 142539.70150223,  218293.39466343,  619843.01626108,\n",
       "         940403.92344234,  551605.26658973, 1007601.49296056],\n",
       "       [ 173565.80840125,  240796.17992599,  801615.10849299,\n",
       "        1115002.18470062,  658383.37568025, 1038296.17804859],\n",
       "       [ 148600.91405093,  215045.38694687,  905610.74215525,\n",
       "        1219481.43636946,  699092.4624556 , 1101388.07991646],\n",
       "       [ 182959.60750054,  275714.05317795,  612042.77777367,\n",
       "         814735.42470668,  545729.03395444,  737501.21421999],\n",
       "       [ 263302.14295198,  409625.21007979, 1123371.72917646,\n",
       "        1463555.32494672,  767870.78624758, 1321186.49870483],\n",
       "       [ 151914.86019322,  211553.44853662,  980807.7268194 ,\n",
       "        1287404.95575717,  665380.64223714, 1086221.41019998],\n",
       "       [ 248214.31169547,  375026.4607445 ,  876853.59855083,\n",
       "        1462349.4247683 ,  661894.33391755, 1262103.14163814],\n",
       "       [ 174654.54134199,  309723.10975152,  984473.44880321,\n",
       "        1388889.69054427,  758867.56738283, 1242707.64362233],\n",
       "       [ 240176.68773074,  326813.18481781, 1027304.21819912,\n",
       "        1518535.33355996,  869982.43590948, 1403114.43327338],\n",
       "       [ 252859.77321048,  337438.72648446, 1112513.75830956,\n",
       "        1665850.9912112 ,  856690.29372529, 1517086.48943264],\n",
       "       [ 265642.51185177,  370231.3821288 , 1200625.24473357,\n",
       "        1460838.03341038,  798984.42385167, 1230200.83032956],\n",
       "       [ 296772.02312018,  412219.24297773,  838765.93932   ,\n",
       "        1070057.96444149,  703346.04781228,  973555.17316325],\n",
       "       [ 161922.8210622 ,  237943.1840075 , 1120584.13761837,\n",
       "        1486261.40657814,  757405.2893209 , 1196418.82237879],\n",
       "       [ 173345.9982874 ,  255822.34909322,  995384.4689766 ,\n",
       "        1485269.53192109,  746816.07108986, 1405833.04789484],\n",
       "       [ 229811.56538373,  337951.20107695,  998735.86561036,\n",
       "        1358403.28614026,  742366.61283069, 1159402.78405685],\n",
       "       [ 171124.90533136,  240619.78914499, 1005446.57187241,\n",
       "        1567090.62258832,  814879.83741708, 1554450.59210112],\n",
       "       [ 140429.29711056,  198991.16964289,  938129.42805294,\n",
       "        1287665.02449302,  656864.86883617, 1153152.43972997],\n",
       "       [ 358141.93199468,  619590.20073297, 1096969.70180502,\n",
       "        1498714.3546814 ,  775008.37769619, 1198229.145987  ],\n",
       "       [ 291928.55703944,  525996.75406166, 1443496.61746826,\n",
       "        1934306.1406997 ,  852591.91715394, 1361990.88772997],\n",
       "       [ 113914.87708358,  160752.29356931,  914781.27525761,\n",
       "        1340380.8673213 ,  637912.15377912, 1088120.89508445],\n",
       "       [ 160043.41347152,  224352.39802488, 1026881.02729992,\n",
       "        1341201.20342569,  668271.79528414, 1240590.92826989],\n",
       "       [ 144865.5308091 ,  193620.13036468,  817421.96752655,\n",
       "        1221980.23124424,  662839.43303361, 1104922.15641179],\n",
       "       [ 153054.24282315,  230990.58234226,  799280.19706195,\n",
       "        1266101.31554606,  690450.1589042 , 1172529.01296517],\n",
       "       [ 230531.75994285,  321308.64001932,  961321.35556238,\n",
       "        1252593.43532824,  760632.99894859, 1194201.95856683],\n",
       "       [ 153722.44822125,  225681.89062173,  933312.79356801,\n",
       "        1204923.24159806,  658173.7384607 , 1085249.39895099],\n",
       "       [ 155368.45268393,  243968.64896793, 1084644.49505221,\n",
       "        1784618.21741125,  765556.76461406, 1523388.7036695 ],\n",
       "       [ 167021.59176543,  237858.79249955,  869248.02392675,\n",
       "        1255596.03630435,  752700.11318627, 1182253.8247347 ],\n",
       "       [ 330572.86797535,  466239.16618092, 1357071.20687212,\n",
       "        1769319.80855346,  911905.03358777, 1486842.77547898],\n",
       "       [ 118988.19417024,  167378.82149673,  934146.95157091,\n",
       "        1181316.22290393,  642255.19024782, 1083297.9081781 ],\n",
       "       [ 133424.35491979,  180776.88820514,  809020.29673019,\n",
       "        1077955.36108439,  644282.35459808,  942646.79125865],\n",
       "       [ 286644.56380909,  414146.57265538, 1343484.89449792,\n",
       "        1846730.8907207 ,  941221.91061577, 1416422.95059422],\n",
       "       [ 180782.81665886,  264193.8335982 ,  923638.52354354,\n",
       "        1133801.48557349,  575762.2396389 ,  857663.39222756],\n",
       "       [ 247112.81083692,  348363.32493648, 1078065.15069897,\n",
       "        1524164.55025116,  852871.95887456, 1309479.58437695],\n",
       "       [ 267020.49547189,  384703.71942729, 1177382.59281637,\n",
       "        1568254.80343615,  863696.71667414, 1348183.48751021],\n",
       "       [ 183978.65094615,  271577.66251919, 1018775.75939191,\n",
       "        1349951.15988935,  810307.76835336, 1282056.92860765],\n",
       "       [ 152366.27148771,  210309.12508045,  885092.7063707 ,\n",
       "        1333041.55420999,  778126.243235  , 1374050.19965883],\n",
       "       [ 223297.94720059,  315583.26915893,  903348.4363763 ,\n",
       "        1118145.69794682,  696716.14454734, 1038242.91383355],\n",
       "       [ 177468.69726978,  250477.31100549,  999564.75034212,\n",
       "        1392159.72368194,  777688.47762705, 1214544.9224264 ],\n",
       "       [ 141826.00713491,  206273.56783633,  801421.4360563 ,\n",
       "        1163421.55755574,  603088.77632491,  964481.50959048],\n",
       "       [ 226841.02769409,  400768.53280113, 1264603.42611237,\n",
       "        1685377.03936912,  834742.79133097, 1427168.49215584],\n",
       "       [ 216585.06880705,  328197.79266161, 1049904.30551994,\n",
       "        1359610.70129939,  706313.95324677, 1251201.60700704],\n",
       "       [ 322432.68432424,  428726.36485531, 1248283.70772772,\n",
       "        1638488.06289047,  932216.71989715, 1500792.27489764],\n",
       "       [ 186445.03874477,  279611.7586244 ,  860836.34048463,\n",
       "        1188464.22951481,  681089.31232775, 1049586.46961654],\n",
       "       [ 201935.34065011,  280808.29663714, 1395162.85486825,\n",
       "        2057453.78154266,  845929.46714842, 1766198.79797306],\n",
       "       [ 195308.55202161,  250233.52056687,  945345.12702733,\n",
       "        1321168.92465389,  713997.23677998, 1210840.28361348],\n",
       "       [ 139045.36419772,  217234.57834671,  963633.593712  ,\n",
       "        1513369.47595529,  728980.91661194, 1448285.24098642],\n",
       "       [ 184661.42143393,  294857.2640648 , 1148642.71568692,\n",
       "        1428709.5635801 ,  694407.46947568, 1004435.88721895],\n",
       "       [ 154496.30606059,  224360.17163203,  917925.21568389,\n",
       "        1542496.2793389 ,  729795.06107826, 1490102.39713085],\n",
       "       [ 248334.54339454,  388467.72033396,  820030.30104185,\n",
       "        1143714.28654728,  733841.07918571, 1071742.10403847],\n",
       "       [ 160218.31184183,  221682.25304812,  802306.09811085,\n",
       "        1142663.87224208,  639451.86517132, 1017436.33998862],\n",
       "       [ 149548.66958987,  235315.20415082,  775983.95896426,\n",
       "        1116051.76928251,  692174.87190439, 1070301.69675555],\n",
       "       [ 181056.52223276,  259528.18314048, 1099779.61730394,\n",
       "        1360469.51202079,  649826.79770669,  976357.96004639],\n",
       "       [ 189448.44688976,  265632.72935191,  879729.85325574,\n",
       "        1103783.74554743,  558113.17620559,  793854.24973104],\n",
       "       [ 127987.00147117,  188204.7600664 ,  993581.73894872,\n",
       "        1529687.32543316,  828941.86522748, 1446615.78155221],\n",
       "       [ 235052.45646202,  313996.5254292 ,  789224.22130072,\n",
       "        1326471.20225761,  660978.9938973 , 1255143.17885889],\n",
       "       [ 143233.21173491,  203248.90402776, 1134890.48009909,\n",
       "        1436008.13711164,  707436.27325554, 1156857.74991519],\n",
       "       [ 223365.53869484,  315983.55075977, 1211245.23526526,\n",
       "        1588277.87644105,  728733.50444732, 1297465.65477697],\n",
       "       [ 173601.68499326,  238381.84010755, 1154264.71689838,\n",
       "        1596091.00616252,  771702.05161357, 1363802.61400336],\n",
       "       [ 295586.8922192 ,  471715.92105641, 1033367.15336404,\n",
       "        1375505.48475664,  845588.00408795, 1193171.80133921],\n",
       "       [ 192447.99104601,  261163.57423351,  945569.9779754 ,\n",
       "        1208659.65728604,  709798.08985016, 1054432.59543076],\n",
       "       [ 135276.22410469,  202955.71914682,  885673.66452536,\n",
       "        1558024.75046649,  674603.06433161, 1367333.22739015],\n",
       "       [ 214287.64707917,  329655.54680891,  824482.83958817,\n",
       "        1147946.71486705,  659375.51307976, 1076298.52939724],\n",
       "       [ 134029.7962551 ,  211330.04772164,  722210.84216559,\n",
       "        1067840.55527956,  635967.92039739,  945754.20140104],\n",
       "       [ 145236.75306739,  213031.3460724 ,  943131.25042016,\n",
       "        1309787.19190294,  704788.83922641, 1135765.61159213]])"
      ]
     },
     "execution_count": 19,
     "metadata": {},
     "output_type": "execute_result"
    }
   ],
   "source": [
    "\"\"\" \n",
    "Run multiple iterations using linear regression\n",
    "\"\"\"\n",
    "score_path = os.path.join(output_dir, \"exp4_linear_score_\"+str(n_components)+\".csv\")\n",
    "male_count = 120\n",
    "female_count = 100\n",
    "\n",
    "multi_proc_cts(score_path, n_components, admid_diagnosis_df, custom_train_reps, \\\n",
    "    male_count, female_count, model_func = linear_model.LinearRegression, iteration=100)"
   ]
  },
  {
   "cell_type": "code",
   "execution_count": 20,
   "metadata": {},
   "outputs": [],
   "source": [
    "# score_path = os.path.join(output_dir, \"exp4_linear_score.csv\")\n",
    "# save_path = \"../../outputs/mimic/exp4_linear_res.png\"\n",
    "\n",
    "# box_plot_cts_short(score_path, save_path=save_path)"
   ]
  },
  {
   "cell_type": "code",
   "execution_count": 21,
   "metadata": {},
   "outputs": [
    {
     "data": {
      "image/png": "[encoded data removed]",
      "text/plain": [
       "<Figure size 800x800 with 4 Axes>"
      ]
     },
     "metadata": {},
     "output_type": "display_data"
    }
   ],
   "source": [
    "def special_div(x, y):\n",
    "    \"\"\" \n",
    "    Special division operation\n",
    "    \"\"\"\n",
    "    if y == 0:\n",
    "        y = 1e-5\n",
    "    return x/y\n",
    "\n",
    "fig, axes = plt.subplots(nrows=2, ncols=2)\n",
    "fig.set_figheight(8)\n",
    "fig.set_figwidth(8)\n",
    "title_size = 15\n",
    "text_size = 12\n",
    "# plt.subplot(1,2,1)\n",
    "score_path = os.path.join(output_dir, \"exp4_linear_score_\"+str(n_components)+\".csv\")\n",
    "\n",
    "scores_df = pd.read_csv(score_path, index_col=None, header=0)\n",
    "\n",
    "source_mae = scores_df['source_mae']\n",
    "source_rmse = scores_df['source_rmse']\n",
    "\n",
    "trans_source_mae = scores_df['trans_source_mae']\n",
    "trans_source_rmse = scores_df['trans_source_rmse']\n",
    "\n",
    "# transported source to source mae\n",
    "trans_source_source_mae = [special_div(i, j) for i, j in zip(trans_source_mae, source_mae)]\n",
    "\n",
    "# transported source to source rmse\n",
    "trans_source_source_rmse = [special_div(i, j) for i, j in zip(trans_source_rmse, source_rmse)]\n",
    "\n",
    "\n",
    "# Pandas dataframe\n",
    "data = pd.DataFrame({\n",
    "    'MAE': trans_source_source_mae,\n",
    "    'RMSE': trans_source_source_rmse\n",
    "})\n",
    "\n",
    "# Plot the dataframe\n",
    "ax = data[['MAE', 'RMSE']].plot(kind='box', ax=axes[0][0])\n",
    "\n",
    "# Plot the baseline\n",
    "ax.axhline(y = 1, color = 'r', linestyle = '-')\n",
    "\n",
    "ax.tick_params(labelsize=text_size)\n",
    "ax.set_title(r\"$\\bf{(a)}$ $M_2$ Linear\", x=0.08, fontsize=title_size)\n",
    "# r'$\\bf{(b)}$ Trans target embedding'\n",
    "ax.set_ylim(0, 1.25)\n",
    "\n",
    "\n",
    "######################################################\n",
    "\n",
    "score_path = os.path.join(output_dir, \"exp4_poisson_score_\"+str(n_components)+\".csv\")\n",
    "\n",
    "scores_df = pd.read_csv(score_path, index_col=None, header=0)\n",
    "\n",
    "source_mae = scores_df['source_mae']\n",
    "source_rmse = scores_df['source_rmse']\n",
    "\n",
    "trans_source_mae = scores_df['trans_source_mae']\n",
    "trans_source_rmse = scores_df['trans_source_rmse']\n",
    "\n",
    "# transported source to source mae\n",
    "trans_source_source_mae = [special_div(i, j) for i, j in zip(trans_source_mae, source_mae)]\n",
    "\n",
    "# transported source to source rmse\n",
    "trans_source_source_rmse = [special_div(i, j) for i, j in zip(trans_source_rmse, source_rmse)]\n",
    "\n",
    "\n",
    "# Pandas dataframe\n",
    "data = pd.DataFrame({\n",
    "    'MAE': trans_source_source_mae,\n",
    "    'RMSE': trans_source_source_rmse\n",
    "})\n",
    "\n",
    "# Plot the dataframe\n",
    "ax = data[['MAE', 'RMSE']].plot(kind='box', ax=axes[0][1])\n",
    "\n",
    "# Plot the baseline\n",
    "ax.axhline(y = 1, color = 'r', linestyle = '-')\n",
    "\n",
    "ax.tick_params(labelsize=text_size)\n",
    "ax.set_ylim(0, 1.25)\n",
    "ax.set_title(r\"$\\bf{(b)}$ $M_2$ Poisson\", x=0.11, fontsize=title_size)\n",
    "\n",
    "########################### exp5 ###########################\n",
    "score_path = os.path.join(output_dir, \"exp5_linear_score_\"+str(n_components)+\".csv\")\n",
    "\n",
    "scores_df = pd.read_csv(score_path, index_col=None, header=0)\n",
    "\n",
    "source_mae = scores_df['source_mae']\n",
    "source_rmse = scores_df['source_rmse']\n",
    "\n",
    "trans_source_mae = scores_df['trans_source_mae']\n",
    "trans_source_rmse = scores_df['trans_source_rmse']\n",
    "\n",
    "# transported source to source mae\n",
    "trans_source_source_mae = [special_div(i, j) for i, j in zip(trans_source_mae, source_mae)]\n",
    "\n",
    "# transported source to source rmse\n",
    "trans_source_source_rmse = [special_div(i, j) for i, j in zip(trans_source_rmse, source_rmse)]\n",
    "\n",
    "\n",
    "# Pandas dataframe\n",
    "data = pd.DataFrame({\n",
    "    'MAE': trans_source_source_mae,\n",
    "    'RMSE': trans_source_source_rmse\n",
    "})\n",
    "\n",
    "# Plot the dataframe\n",
    "ax = data[['MAE', 'RMSE']].plot(kind='box', ax=axes[1][0])\n",
    "\n",
    "# Plot the baseline\n",
    "ax.axhline(y = 1, color = 'r', linestyle = '-')\n",
    "\n",
    "ax.tick_params(labelsize=text_size)\n",
    "ax.set_ylim(0, 1.25)\n",
    "ax.set_title(r\"$\\bf{(c)}$ $M_3$ Linear\", x=0.08, fontsize=title_size)\n",
    "\n",
    "######################################################\n",
    "\n",
    "score_path = os.path.join(output_dir, \"exp5_poisson_score_\"+str(n_components)+\".csv\")\n",
    "\n",
    "scores_df = pd.read_csv(score_path, index_col=None, header=0)\n",
    "\n",
    "source_mae = scores_df['source_mae']\n",
    "source_rmse = scores_df['source_rmse']\n",
    "\n",
    "trans_source_mae = scores_df['trans_source_mae']\n",
    "trans_source_rmse = scores_df['trans_source_rmse']\n",
    "\n",
    "# transported source to source mae\n",
    "trans_source_source_mae = [special_div(i, j) for i, j in zip(trans_source_mae, source_mae)]\n",
    "\n",
    "# transported source to source rmse\n",
    "trans_source_source_rmse = [special_div(i, j) for i, j in zip(trans_source_rmse, source_rmse)]\n",
    "\n",
    "\n",
    "# Pandas dataframe\n",
    "data = pd.DataFrame({\n",
    "    'MAE': trans_source_source_mae,\n",
    "    'RMSE': trans_source_source_rmse\n",
    "})\n",
    "\n",
    "# Plot the dataframe\n",
    "ax = data[['MAE', 'RMSE']].plot(kind='box', ax=axes[1][1])\n",
    "\n",
    "# Plot the baseline\n",
    "ax.axhline(y = 1, color = 'r', linestyle = '-')\n",
    "\n",
    "ax.tick_params(labelsize=text_size)\n",
    "ax.set_ylim(0, 1.25)\n",
    "ax.set_title(r\"$\\bf{(d)}$ $M_3$ Poisson\", x=0.11, fontsize=title_size)\n",
    "plt.tight_layout()\n",
    "\n",
    "save_path = os.path.join(output_dir, \"exp4_exp5_res_\"+str(n_components)+\".pdf\")\n",
    "plt.savefig(save_path, bbox_inches='tight')\n",
    "plt.show()\n",
    "\n"
   ]
  },
  {
   "cell_type": "code",
   "execution_count": null,
   "metadata": {},
   "outputs": [],
   "source": []
  }
 ],
 "metadata": {
  "kernelspec": {
   "display_name": "base",
   "language": "python",
   "name": "python3"
  },
  "language_info": {
   "codemirror_mode": {
    "name": "ipython",
    "version": 3
   },
   "file_extension": ".py",
   "mimetype": "text/x-python",
   "name": "python",
   "nbconvert_exporter": "python",
   "pygments_lexer": "ipython3",
   "version": "3.9.12"
  },
  "orig_nbformat": 4,
  "vscode": {
   "interpreter": {
    "hash": "e0a164c7fb95af65e1e713e004e1e0ea55c462cdd13e4bdabca6fd60bd9f3176"
   }
  }
 },
 "nbformat": 4,
 "nbformat_minor": 2
}
