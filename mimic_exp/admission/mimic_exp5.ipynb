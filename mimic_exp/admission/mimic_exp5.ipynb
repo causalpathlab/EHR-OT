{
 "cells": [
  {
   "attachments": {},
   "cell_type": "markdown",
   "metadata": {},
   "source": [
    "# Regression task: the time interval between two consecutive visits for the same patient ~ ICD diagnosis code"
   ]
  },
  {
   "attachments": {},
   "cell_type": "markdown",
   "metadata": {},
   "source": [
    "## Prepare the dataset"
   ]
  },
  {
   "cell_type": "code",
   "execution_count": 1,
   "metadata": {},
   "outputs": [
    {
     "data": {
      "text/plain": [
       "' \\nPatient ID -> admission ID\\n'"
      ]
     },
     "execution_count": 1,
     "metadata": {},
     "output_type": "execute_result"
    }
   ],
   "source": [
    "\"\"\" \n",
    "Patient ID -> admission ID\n",
    "\"\"\""
   ]
  },
  {
   "cell_type": "code",
   "execution_count": 2,
   "metadata": {},
   "outputs": [],
   "source": [
    "import sys\n",
    "sys.path.append(\"/home/wanxinli/deep_patient/\")\n",
    "\n",
    "from datetime import datetime\n",
    "from mimic_common import *\n",
    "import os\n",
    "import pandas as pd\n",
    "from sklearn.decomposition import PCA\n",
    "\n"
   ]
  },
  {
   "cell_type": "code",
   "execution_count": 3,
   "metadata": {},
   "outputs": [
    {
     "name": "stdout",
     "output_type": "stream",
     "text": [
      "Will save outputs to /home/wanxinli/deep_patient/outputs/mimic\n",
      "Will read data from /home/wanxinli/deep_patient/mimic_exp/mimiciii\n"
     ]
    }
   ],
   "source": [
    "output_dir = os.path.join(os.path.expanduser(\"~\"), f\"deep_patient/outputs/mimic\")\n",
    "print(f\"Will save outputs to {output_dir}\")\n",
    "data_dir = os.path.join(os.path.expanduser(\"~\"), f\"deep_patient/mimic_exp/mimiciii\")\n",
    "print(f\"Will read data from {data_dir}\")"
   ]
  },
  {
   "cell_type": "code",
   "execution_count": 4,
   "metadata": {},
   "outputs": [],
   "source": [
    "admission_file = os.path.join(data_dir, \"ADMISSIONS.csv\")\n",
    "diagnosis_file = os.path.join(data_dir, \"DIAGNOSES_ICD.csv\")\n",
    "patient_file = os.path.join(data_dir, \"PATIENTS.csv\")"
   ]
  },
  {
   "cell_type": "code",
   "execution_count": 5,
   "metadata": {},
   "outputs": [],
   "source": [
    "pid_adms, pid_gender, adm_date, admid_codes, pid_visits = build_maps(admission_file, diagnosis_file, patient_file)\n"
   ]
  },
  {
   "cell_type": "code",
   "execution_count": 6,
   "metadata": {},
   "outputs": [],
   "source": [
    "# print(pid_visits)"
   ]
  },
  {
   "cell_type": "code",
   "execution_count": 7,
   "metadata": {},
   "outputs": [
    {
     "data": {
      "text/html": [
       "<div>\n",
       "<style scoped>\n",
       "    .dataframe tbody tr th:only-of-type {\n",
       "        vertical-align: middle;\n",
       "    }\n",
       "\n",
       "    .dataframe tbody tr th {\n",
       "        vertical-align: top;\n",
       "    }\n",
       "\n",
       "    .dataframe thead th {\n",
       "        text-align: right;\n",
       "    }\n",
       "</style>\n",
       "<table border=\"1\" class=\"dataframe\">\n",
       "  <thead>\n",
       "    <tr style=\"text-align: right;\">\n",
       "      <th></th>\n",
       "      <th>gender</th>\n",
       "      <th>duration</th>\n",
       "      <th>ICD codes</th>\n",
       "    </tr>\n",
       "  </thead>\n",
       "  <tbody>\n",
       "    <tr>\n",
       "      <th>0</th>\n",
       "      <td>M</td>\n",
       "      <td>130162740.0</td>\n",
       "      <td>[41401, 4111, 4241, V4582, 2724, 4019, 60000, ...</td>\n",
       "    </tr>\n",
       "    <tr>\n",
       "      <th>1</th>\n",
       "      <td>M</td>\n",
       "      <td>145197420.0</td>\n",
       "      <td>[41071, 4280, 4254, 42731, 9971, 4260, 41401, ...</td>\n",
       "    </tr>\n",
       "    <tr>\n",
       "      <th>2</th>\n",
       "      <td>M</td>\n",
       "      <td>1082040.0</td>\n",
       "      <td>[41401, 4111, 496, 4019, 3051, 53081, 60000, V...</td>\n",
       "    </tr>\n",
       "    <tr>\n",
       "      <th>3</th>\n",
       "      <td>M</td>\n",
       "      <td>94491660.0</td>\n",
       "      <td>[99831, 99811, 41511, 4538, 99672, 496, 41401,...</td>\n",
       "    </tr>\n",
       "    <tr>\n",
       "      <th>4</th>\n",
       "      <td>M</td>\n",
       "      <td>20640960.0</td>\n",
       "      <td>[5715, 5722, 2867, 45620, 3453, 48241, 51881, ...</td>\n",
       "    </tr>\n",
       "    <tr>\n",
       "      <th>...</th>\n",
       "      <td>...</td>\n",
       "      <td>...</td>\n",
       "      <td>...</td>\n",
       "    </tr>\n",
       "    <tr>\n",
       "      <th>12451</th>\n",
       "      <td>M</td>\n",
       "      <td>9735840.0</td>\n",
       "      <td>[42731, 56211, V1051]</td>\n",
       "    </tr>\n",
       "    <tr>\n",
       "      <th>12452</th>\n",
       "      <td>M</td>\n",
       "      <td>8103720.0</td>\n",
       "      <td>[99859, 0389, 99592, 78552, 5849, 5990, 42830,...</td>\n",
       "    </tr>\n",
       "    <tr>\n",
       "      <th>12453</th>\n",
       "      <td>F</td>\n",
       "      <td>2644440.0</td>\n",
       "      <td>[4373, 4019, 2449, 59651, 49390, V1052]</td>\n",
       "    </tr>\n",
       "    <tr>\n",
       "      <th>12454</th>\n",
       "      <td>F</td>\n",
       "      <td>1994400.0</td>\n",
       "      <td>[5363, 5641]</td>\n",
       "    </tr>\n",
       "    <tr>\n",
       "      <th>12455</th>\n",
       "      <td>F</td>\n",
       "      <td>107847480.0</td>\n",
       "      <td>[53642, 5793, 5370, 56782, 78909, E8798, 5363,...</td>\n",
       "    </tr>\n",
       "  </tbody>\n",
       "</table>\n",
       "<p>12456 rows × 3 columns</p>\n",
       "</div>"
      ],
      "text/plain": [
       "      gender     duration                                          ICD codes\n",
       "0          M  130162740.0  [41401, 4111, 4241, V4582, 2724, 4019, 60000, ...\n",
       "1          M  145197420.0  [41071, 4280, 4254, 42731, 9971, 4260, 41401, ...\n",
       "2          M    1082040.0  [41401, 4111, 496, 4019, 3051, 53081, 60000, V...\n",
       "3          M   94491660.0  [99831, 99811, 41511, 4538, 99672, 496, 41401,...\n",
       "4          M   20640960.0  [5715, 5722, 2867, 45620, 3453, 48241, 51881, ...\n",
       "...      ...          ...                                                ...\n",
       "12451      M    9735840.0                              [42731, 56211, V1051]\n",
       "12452      M    8103720.0  [99859, 0389, 99592, 78552, 5849, 5990, 42830,...\n",
       "12453      F    2644440.0            [4373, 4019, 2449, 59651, 49390, V1052]\n",
       "12454      F    1994400.0                                       [5363, 5641]\n",
       "12455      F  107847480.0  [53642, 5793, 5370, 56782, 78909, E8798, 5363,...\n",
       "\n",
       "[12456 rows x 3 columns]"
      ]
     },
     "execution_count": 7,
     "metadata": {},
     "output_type": "execute_result"
    }
   ],
   "source": [
    "# construct codes (ICD codes for the first visits), and durations (time interval until the next visit)\n",
    "\n",
    "codes = []\n",
    "durations = []\n",
    "genders = []\n",
    "for pid, visits in pid_visits.items():\n",
    "    for i, cur_visit in enumerate(visits):\n",
    "        if i == len(visits)-1: # stop on the last element\n",
    "            break \n",
    "        next_visit = visits[i+1]\n",
    "        # print(next_visit)\n",
    "        cur_codes = cur_visit[1]\n",
    "        # print(codes)\n",
    "        duration = (next_visit[0]-cur_visit[0]).total_seconds()\n",
    "        codes.append(cur_codes)\n",
    "        durations.append(duration)\n",
    "        genders.append(pid_gender[pid])\n",
    "\n",
    "\n",
    "cons_visits_df = pd.DataFrame(columns=['gender', 'duration', 'ICD codes'])\n",
    "cons_visits_df['gender'] = genders\n",
    "cons_visits_df['duration'] = durations\n",
    "cons_visits_df['ICD codes'] = codes\n",
    "cons_visits_df.to_csv(os.path.join(output_dir, \"CONS_VISITS.csv\"), index=False, header=True)\n",
    "\n",
    "cons_visits_df"
   ]
  },
  {
   "cell_type": "code",
   "execution_count": 8,
   "metadata": {},
   "outputs": [
    {
     "name": "stdout",
     "output_type": "stream",
     "text": [
      "female count is: 5627\n",
      "male count is: 6829\n"
     ]
    }
   ],
   "source": [
    "\"\"\" \n",
    "Outputs consecutive visit stats\n",
    "\"\"\"\n",
    "female_count = cons_visits_df.loc[(cons_visits_df['gender'] == 'F')].shape[0]\n",
    "male_count = cons_visits_df.loc[(cons_visits_df['gender'] == 'M')].shape[0]\n",
    "print(\"female count is:\", female_count)\n",
    "print(\"male count is:\", male_count)"
   ]
  },
  {
   "cell_type": "code",
   "execution_count": 9,
   "metadata": {},
   "outputs": [],
   "source": [
    "\"\"\"\n",
    "Train deep patient model and generate representations for targets and sources\n",
    "\"\"\"\n",
    "\n",
    "def custom_train_reps(target_features, source_features, n_components, pca_explain=False):\n",
    "    \"\"\" \n",
    "    Customized training algorithm for generating target representations and source representations\n",
    "\n",
    "    :param bool pca_explain: print the explained variance of each components\n",
    "    \n",
    "    :returns: target representations, source representations\n",
    "    \"\"\"\n",
    "    source_pca = PCA(n_components=n_components)\n",
    "    target_pca = PCA(n_components=n_components)\n",
    "    target_reps = target_pca.fit_transform(target_features)\n",
    "    source_reps = source_pca.fit_transform(source_features)\n",
    "\n",
    "    if pca_explain:\n",
    "        source_exp_var = source_pca.explained_variance_ratio_\n",
    "        source_cum_sum_var = np.cumsum(source_exp_var)\n",
    "        target_exp_var = target_pca.explained_variance_ratio_\n",
    "        target_cum_sum_var = np.cumsum(target_exp_var)\n",
    "        print(\"Cummulative variance explained by the source PCA is:\", source_cum_sum_var)\n",
    "        print(\"Cummulative variance explained by the target PCA is:\", target_cum_sum_var)\n",
    "\n",
    "    return target_reps, source_reps"
   ]
  },
  {
   "cell_type": "code",
   "execution_count": 11,
   "metadata": {},
   "outputs": [
    {
     "name": "stderr",
     "output_type": "stream",
     "text": [
      "/home/wanxinli/miniconda3/lib/python3.9/site-packages/ot/bregman.py:517: UserWarning: Sinkhorn did not converge. You might want to increase the number of iterations `numItermax` or the regularization parameter `reg`.\n",
      "  warnings.warn(\"Sinkhorn did not converge. You might want to \"\n"
     ]
    },
    {
     "data": {
      "text/plain": [
       "(34519726.7440978,\n",
       " 49348158.01071208,\n",
       " 42982453.05733716,\n",
       " 53613048.60264041,\n",
       " 39791017.56730453,\n",
       " 51558314.85717534)"
      ]
     },
     "execution_count": 11,
     "metadata": {},
     "output_type": "execute_result"
    }
   ],
   "source": [
    "n_components = 50\n",
    "model_func = linear_model.LinearRegression\n",
    "entire_proc_cts(n_components, cons_visits_df, custom_train_reps, model_func, male_count = 120, female_count = 100, pca_explain=False)"
   ]
  },
  {
   "cell_type": "code",
   "execution_count": 13,
   "metadata": {},
   "outputs": [
    {
     "name": "stdout",
     "output_type": "stream",
     "text": [
      "iteration: 0\n",
      "iteration: 1\n",
      "iteration: 2\n"
     ]
    },
    {
     "name": "stderr",
     "output_type": "stream",
     "text": [
      "/home/wanxinli/miniconda3/lib/python3.9/site-packages/ot/bregman.py:517: UserWarning: Sinkhorn did not converge. You might want to increase the number of iterations `numItermax` or the regularization parameter `reg`.\n",
      "  warnings.warn(\"Sinkhorn did not converge. You might want to \"\n"
     ]
    },
    {
     "name": "stdout",
     "output_type": "stream",
     "text": [
      "iteration: 3\n"
     ]
    },
    {
     "name": "stderr",
     "output_type": "stream",
     "text": [
      "/home/wanxinli/miniconda3/lib/python3.9/site-packages/ot/bregman.py:517: UserWarning: Sinkhorn did not converge. You might want to increase the number of iterations `numItermax` or the regularization parameter `reg`.\n",
      "  warnings.warn(\"Sinkhorn did not converge. You might want to \"\n"
     ]
    },
    {
     "name": "stdout",
     "output_type": "stream",
     "text": [
      "iteration: 4\n"
     ]
    },
    {
     "name": "stderr",
     "output_type": "stream",
     "text": [
      "/home/wanxinli/miniconda3/lib/python3.9/site-packages/ot/bregman.py:517: UserWarning: Sinkhorn did not converge. You might want to increase the number of iterations `numItermax` or the regularization parameter `reg`.\n",
      "  warnings.warn(\"Sinkhorn did not converge. You might want to \"\n"
     ]
    },
    {
     "name": "stdout",
     "output_type": "stream",
     "text": [
      "iteration: 5\n",
      "iteration: 6\n",
      "iteration: 7\n",
      "iteration: 8\n",
      "iteration: 9\n",
      "iteration: 10\n",
      "iteration: 11\n"
     ]
    },
    {
     "name": "stderr",
     "output_type": "stream",
     "text": [
      "/home/wanxinli/miniconda3/lib/python3.9/site-packages/ot/bregman.py:517: UserWarning: Sinkhorn did not converge. You might want to increase the number of iterations `numItermax` or the regularization parameter `reg`.\n",
      "  warnings.warn(\"Sinkhorn did not converge. You might want to \"\n"
     ]
    },
    {
     "name": "stdout",
     "output_type": "stream",
     "text": [
      "iteration: 12\n",
      "iteration: 13\n"
     ]
    },
    {
     "name": "stderr",
     "output_type": "stream",
     "text": [
      "/home/wanxinli/miniconda3/lib/python3.9/site-packages/ot/bregman.py:517: UserWarning: Sinkhorn did not converge. You might want to increase the number of iterations `numItermax` or the regularization parameter `reg`.\n",
      "  warnings.warn(\"Sinkhorn did not converge. You might want to \"\n"
     ]
    },
    {
     "name": "stdout",
     "output_type": "stream",
     "text": [
      "iteration: 14\n",
      "iteration: 15\n",
      "iteration: 16\n",
      "iteration: 17\n",
      "iteration: 18\n"
     ]
    },
    {
     "name": "stderr",
     "output_type": "stream",
     "text": [
      "/home/wanxinli/miniconda3/lib/python3.9/site-packages/ot/bregman.py:517: UserWarning: Sinkhorn did not converge. You might want to increase the number of iterations `numItermax` or the regularization parameter `reg`.\n",
      "  warnings.warn(\"Sinkhorn did not converge. You might want to \"\n"
     ]
    },
    {
     "name": "stdout",
     "output_type": "stream",
     "text": [
      "iteration: 19\n"
     ]
    },
    {
     "name": "stderr",
     "output_type": "stream",
     "text": [
      "/home/wanxinli/miniconda3/lib/python3.9/site-packages/ot/bregman.py:517: UserWarning: Sinkhorn did not converge. You might want to increase the number of iterations `numItermax` or the regularization parameter `reg`.\n",
      "  warnings.warn(\"Sinkhorn did not converge. You might want to \"\n"
     ]
    },
    {
     "name": "stdout",
     "output_type": "stream",
     "text": [
      "iteration: 20\n",
      "iteration: 21\n",
      "iteration: 22\n",
      "iteration: 23\n",
      "iteration: 24\n"
     ]
    },
    {
     "name": "stderr",
     "output_type": "stream",
     "text": [
      "/home/wanxinli/miniconda3/lib/python3.9/site-packages/ot/bregman.py:517: UserWarning: Sinkhorn did not converge. You might want to increase the number of iterations `numItermax` or the regularization parameter `reg`.\n",
      "  warnings.warn(\"Sinkhorn did not converge. You might want to \"\n"
     ]
    },
    {
     "name": "stdout",
     "output_type": "stream",
     "text": [
      "iteration: 25\n",
      "iteration: 26\n",
      "iteration: 27\n"
     ]
    },
    {
     "name": "stderr",
     "output_type": "stream",
     "text": [
      "/home/wanxinli/miniconda3/lib/python3.9/site-packages/ot/bregman.py:517: UserWarning: Sinkhorn did not converge. You might want to increase the number of iterations `numItermax` or the regularization parameter `reg`.\n",
      "  warnings.warn(\"Sinkhorn did not converge. You might want to \"\n"
     ]
    },
    {
     "name": "stdout",
     "output_type": "stream",
     "text": [
      "iteration: 28\n",
      "iteration: 29\n"
     ]
    },
    {
     "name": "stderr",
     "output_type": "stream",
     "text": [
      "/home/wanxinli/miniconda3/lib/python3.9/site-packages/ot/bregman.py:517: UserWarning: Sinkhorn did not converge. You might want to increase the number of iterations `numItermax` or the regularization parameter `reg`.\n",
      "  warnings.warn(\"Sinkhorn did not converge. You might want to \"\n"
     ]
    },
    {
     "name": "stdout",
     "output_type": "stream",
     "text": [
      "iteration: 30\n",
      "iteration: 31\n",
      "iteration: 32\n",
      "iteration: 33\n",
      "iteration: 34\n",
      "iteration: 35\n",
      "iteration: 36\n",
      "iteration: 37\n"
     ]
    },
    {
     "name": "stderr",
     "output_type": "stream",
     "text": [
      "/home/wanxinli/miniconda3/lib/python3.9/site-packages/ot/bregman.py:517: UserWarning: Sinkhorn did not converge. You might want to increase the number of iterations `numItermax` or the regularization parameter `reg`.\n",
      "  warnings.warn(\"Sinkhorn did not converge. You might want to \"\n"
     ]
    },
    {
     "name": "stdout",
     "output_type": "stream",
     "text": [
      "iteration: 38\n",
      "iteration: 39\n",
      "iteration: 40\n",
      "iteration: 41\n",
      "iteration: 42\n"
     ]
    },
    {
     "name": "stderr",
     "output_type": "stream",
     "text": [
      "/home/wanxinli/miniconda3/lib/python3.9/site-packages/ot/bregman.py:517: UserWarning: Sinkhorn did not converge. You might want to increase the number of iterations `numItermax` or the regularization parameter `reg`.\n",
      "  warnings.warn(\"Sinkhorn did not converge. You might want to \"\n"
     ]
    },
    {
     "name": "stdout",
     "output_type": "stream",
     "text": [
      "iteration: 43\n",
      "iteration: 44\n"
     ]
    },
    {
     "name": "stderr",
     "output_type": "stream",
     "text": [
      "/home/wanxinli/miniconda3/lib/python3.9/site-packages/ot/bregman.py:517: UserWarning: Sinkhorn did not converge. You might want to increase the number of iterations `numItermax` or the regularization parameter `reg`.\n",
      "  warnings.warn(\"Sinkhorn did not converge. You might want to \"\n"
     ]
    },
    {
     "name": "stdout",
     "output_type": "stream",
     "text": [
      "iteration: 45\n"
     ]
    },
    {
     "name": "stderr",
     "output_type": "stream",
     "text": [
      "/home/wanxinli/miniconda3/lib/python3.9/site-packages/ot/bregman.py:517: UserWarning: Sinkhorn did not converge. You might want to increase the number of iterations `numItermax` or the regularization parameter `reg`.\n",
      "  warnings.warn(\"Sinkhorn did not converge. You might want to \"\n"
     ]
    },
    {
     "name": "stdout",
     "output_type": "stream",
     "text": [
      "iteration: 46\n"
     ]
    },
    {
     "name": "stderr",
     "output_type": "stream",
     "text": [
      "/home/wanxinli/miniconda3/lib/python3.9/site-packages/ot/bregman.py:517: UserWarning: Sinkhorn did not converge. You might want to increase the number of iterations `numItermax` or the regularization parameter `reg`.\n",
      "  warnings.warn(\"Sinkhorn did not converge. You might want to \"\n"
     ]
    },
    {
     "name": "stdout",
     "output_type": "stream",
     "text": [
      "iteration: 47\n",
      "iteration: 48\n"
     ]
    },
    {
     "name": "stderr",
     "output_type": "stream",
     "text": [
      "/home/wanxinli/miniconda3/lib/python3.9/site-packages/ot/bregman.py:517: UserWarning: Sinkhorn did not converge. You might want to increase the number of iterations `numItermax` or the regularization parameter `reg`.\n",
      "  warnings.warn(\"Sinkhorn did not converge. You might want to \"\n"
     ]
    },
    {
     "name": "stdout",
     "output_type": "stream",
     "text": [
      "iteration: 49\n",
      "iteration: 50\n"
     ]
    },
    {
     "name": "stderr",
     "output_type": "stream",
     "text": [
      "/home/wanxinli/miniconda3/lib/python3.9/site-packages/ot/bregman.py:517: UserWarning: Sinkhorn did not converge. You might want to increase the number of iterations `numItermax` or the regularization parameter `reg`.\n",
      "  warnings.warn(\"Sinkhorn did not converge. You might want to \"\n"
     ]
    },
    {
     "name": "stdout",
     "output_type": "stream",
     "text": [
      "iteration: 51\n"
     ]
    },
    {
     "name": "stderr",
     "output_type": "stream",
     "text": [
      "/home/wanxinli/miniconda3/lib/python3.9/site-packages/ot/bregman.py:517: UserWarning: Sinkhorn did not converge. You might want to increase the number of iterations `numItermax` or the regularization parameter `reg`.\n",
      "  warnings.warn(\"Sinkhorn did not converge. You might want to \"\n"
     ]
    },
    {
     "name": "stdout",
     "output_type": "stream",
     "text": [
      "iteration: 52\n",
      "iteration: 53\n",
      "iteration: 54\n"
     ]
    },
    {
     "name": "stderr",
     "output_type": "stream",
     "text": [
      "/home/wanxinli/miniconda3/lib/python3.9/site-packages/ot/bregman.py:517: UserWarning: Sinkhorn did not converge. You might want to increase the number of iterations `numItermax` or the regularization parameter `reg`.\n",
      "  warnings.warn(\"Sinkhorn did not converge. You might want to \"\n"
     ]
    },
    {
     "name": "stdout",
     "output_type": "stream",
     "text": [
      "iteration: 55\n",
      "iteration: 56\n"
     ]
    },
    {
     "name": "stderr",
     "output_type": "stream",
     "text": [
      "/home/wanxinli/miniconda3/lib/python3.9/site-packages/ot/bregman.py:517: UserWarning: Sinkhorn did not converge. You might want to increase the number of iterations `numItermax` or the regularization parameter `reg`.\n",
      "  warnings.warn(\"Sinkhorn did not converge. You might want to \"\n"
     ]
    },
    {
     "name": "stdout",
     "output_type": "stream",
     "text": [
      "iteration: 57\n"
     ]
    },
    {
     "name": "stderr",
     "output_type": "stream",
     "text": [
      "/home/wanxinli/miniconda3/lib/python3.9/site-packages/ot/bregman.py:517: UserWarning: Sinkhorn did not converge. You might want to increase the number of iterations `numItermax` or the regularization parameter `reg`.\n",
      "  warnings.warn(\"Sinkhorn did not converge. You might want to \"\n"
     ]
    },
    {
     "name": "stdout",
     "output_type": "stream",
     "text": [
      "iteration: 58\n"
     ]
    },
    {
     "name": "stderr",
     "output_type": "stream",
     "text": [
      "/home/wanxinli/miniconda3/lib/python3.9/site-packages/ot/bregman.py:517: UserWarning: Sinkhorn did not converge. You might want to increase the number of iterations `numItermax` or the regularization parameter `reg`.\n",
      "  warnings.warn(\"Sinkhorn did not converge. You might want to \"\n"
     ]
    },
    {
     "name": "stdout",
     "output_type": "stream",
     "text": [
      "iteration: 59\n",
      "iteration: 60\n"
     ]
    },
    {
     "name": "stderr",
     "output_type": "stream",
     "text": [
      "/home/wanxinli/miniconda3/lib/python3.9/site-packages/ot/bregman.py:517: UserWarning: Sinkhorn did not converge. You might want to increase the number of iterations `numItermax` or the regularization parameter `reg`.\n",
      "  warnings.warn(\"Sinkhorn did not converge. You might want to \"\n"
     ]
    },
    {
     "name": "stdout",
     "output_type": "stream",
     "text": [
      "iteration: 61\n",
      "iteration: 62\n",
      "iteration: 63\n"
     ]
    },
    {
     "name": "stderr",
     "output_type": "stream",
     "text": [
      "/home/wanxinli/miniconda3/lib/python3.9/site-packages/ot/bregman.py:517: UserWarning: Sinkhorn did not converge. You might want to increase the number of iterations `numItermax` or the regularization parameter `reg`.\n",
      "  warnings.warn(\"Sinkhorn did not converge. You might want to \"\n"
     ]
    },
    {
     "name": "stdout",
     "output_type": "stream",
     "text": [
      "iteration: 64\n",
      "iteration: 65\n"
     ]
    },
    {
     "name": "stderr",
     "output_type": "stream",
     "text": [
      "/home/wanxinli/miniconda3/lib/python3.9/site-packages/ot/bregman.py:517: UserWarning: Sinkhorn did not converge. You might want to increase the number of iterations `numItermax` or the regularization parameter `reg`.\n",
      "  warnings.warn(\"Sinkhorn did not converge. You might want to \"\n"
     ]
    },
    {
     "name": "stdout",
     "output_type": "stream",
     "text": [
      "iteration: 66\n",
      "iteration: 67\n",
      "iteration: 68\n"
     ]
    },
    {
     "name": "stderr",
     "output_type": "stream",
     "text": [
      "/home/wanxinli/miniconda3/lib/python3.9/site-packages/ot/bregman.py:517: UserWarning: Sinkhorn did not converge. You might want to increase the number of iterations `numItermax` or the regularization parameter `reg`.\n",
      "  warnings.warn(\"Sinkhorn did not converge. You might want to \"\n"
     ]
    },
    {
     "name": "stdout",
     "output_type": "stream",
     "text": [
      "iteration: 69\n"
     ]
    },
    {
     "name": "stderr",
     "output_type": "stream",
     "text": [
      "/home/wanxinli/miniconda3/lib/python3.9/site-packages/ot/bregman.py:517: UserWarning: Sinkhorn did not converge. You might want to increase the number of iterations `numItermax` or the regularization parameter `reg`.\n",
      "  warnings.warn(\"Sinkhorn did not converge. You might want to \"\n"
     ]
    },
    {
     "name": "stdout",
     "output_type": "stream",
     "text": [
      "iteration: 70\n",
      "iteration: 71\n"
     ]
    },
    {
     "name": "stderr",
     "output_type": "stream",
     "text": [
      "/home/wanxinli/miniconda3/lib/python3.9/site-packages/ot/bregman.py:517: UserWarning: Sinkhorn did not converge. You might want to increase the number of iterations `numItermax` or the regularization parameter `reg`.\n",
      "  warnings.warn(\"Sinkhorn did not converge. You might want to \"\n"
     ]
    },
    {
     "name": "stdout",
     "output_type": "stream",
     "text": [
      "iteration: 72\n",
      "iteration: 73\n"
     ]
    },
    {
     "name": "stderr",
     "output_type": "stream",
     "text": [
      "/home/wanxinli/miniconda3/lib/python3.9/site-packages/ot/bregman.py:517: UserWarning: Sinkhorn did not converge. You might want to increase the number of iterations `numItermax` or the regularization parameter `reg`.\n",
      "  warnings.warn(\"Sinkhorn did not converge. You might want to \"\n"
     ]
    },
    {
     "name": "stdout",
     "output_type": "stream",
     "text": [
      "iteration: 74\n"
     ]
    },
    {
     "name": "stderr",
     "output_type": "stream",
     "text": [
      "/home/wanxinli/miniconda3/lib/python3.9/site-packages/ot/bregman.py:517: UserWarning: Sinkhorn did not converge. You might want to increase the number of iterations `numItermax` or the regularization parameter `reg`.\n",
      "  warnings.warn(\"Sinkhorn did not converge. You might want to \"\n"
     ]
    },
    {
     "name": "stdout",
     "output_type": "stream",
     "text": [
      "iteration: 75\n",
      "iteration: 76\n"
     ]
    },
    {
     "name": "stderr",
     "output_type": "stream",
     "text": [
      "/home/wanxinli/miniconda3/lib/python3.9/site-packages/ot/bregman.py:517: UserWarning: Sinkhorn did not converge. You might want to increase the number of iterations `numItermax` or the regularization parameter `reg`.\n",
      "  warnings.warn(\"Sinkhorn did not converge. You might want to \"\n"
     ]
    },
    {
     "name": "stdout",
     "output_type": "stream",
     "text": [
      "iteration: 77\n",
      "iteration: 78\n"
     ]
    },
    {
     "name": "stderr",
     "output_type": "stream",
     "text": [
      "/home/wanxinli/miniconda3/lib/python3.9/site-packages/ot/bregman.py:517: UserWarning: Sinkhorn did not converge. You might want to increase the number of iterations `numItermax` or the regularization parameter `reg`.\n",
      "  warnings.warn(\"Sinkhorn did not converge. You might want to \"\n"
     ]
    },
    {
     "name": "stdout",
     "output_type": "stream",
     "text": [
      "iteration: 79\n"
     ]
    },
    {
     "name": "stderr",
     "output_type": "stream",
     "text": [
      "/home/wanxinli/miniconda3/lib/python3.9/site-packages/ot/bregman.py:517: UserWarning: Sinkhorn did not converge. You might want to increase the number of iterations `numItermax` or the regularization parameter `reg`.\n",
      "  warnings.warn(\"Sinkhorn did not converge. You might want to \"\n"
     ]
    },
    {
     "name": "stdout",
     "output_type": "stream",
     "text": [
      "iteration: 80\n",
      "iteration: 81\n",
      "iteration: 82\n",
      "iteration: 83\n",
      "iteration: 84\n"
     ]
    },
    {
     "name": "stderr",
     "output_type": "stream",
     "text": [
      "/home/wanxinli/miniconda3/lib/python3.9/site-packages/ot/bregman.py:517: UserWarning: Sinkhorn did not converge. You might want to increase the number of iterations `numItermax` or the regularization parameter `reg`.\n",
      "  warnings.warn(\"Sinkhorn did not converge. You might want to \"\n"
     ]
    },
    {
     "name": "stdout",
     "output_type": "stream",
     "text": [
      "iteration: 85\n"
     ]
    },
    {
     "name": "stderr",
     "output_type": "stream",
     "text": [
      "/home/wanxinli/miniconda3/lib/python3.9/site-packages/ot/bregman.py:517: UserWarning: Sinkhorn did not converge. You might want to increase the number of iterations `numItermax` or the regularization parameter `reg`.\n",
      "  warnings.warn(\"Sinkhorn did not converge. You might want to \"\n"
     ]
    },
    {
     "name": "stdout",
     "output_type": "stream",
     "text": [
      "iteration: 86\n",
      "iteration: 87\n",
      "iteration: 88\n"
     ]
    },
    {
     "name": "stderr",
     "output_type": "stream",
     "text": [
      "/home/wanxinli/miniconda3/lib/python3.9/site-packages/ot/bregman.py:517: UserWarning: Sinkhorn did not converge. You might want to increase the number of iterations `numItermax` or the regularization parameter `reg`.\n",
      "  warnings.warn(\"Sinkhorn did not converge. You might want to \"\n"
     ]
    },
    {
     "name": "stdout",
     "output_type": "stream",
     "text": [
      "iteration: 89\n"
     ]
    },
    {
     "name": "stderr",
     "output_type": "stream",
     "text": [
      "/home/wanxinli/miniconda3/lib/python3.9/site-packages/ot/bregman.py:517: UserWarning: Sinkhorn did not converge. You might want to increase the number of iterations `numItermax` or the regularization parameter `reg`.\n",
      "  warnings.warn(\"Sinkhorn did not converge. You might want to \"\n"
     ]
    },
    {
     "name": "stdout",
     "output_type": "stream",
     "text": [
      "iteration: 90\n",
      "iteration: 91\n"
     ]
    },
    {
     "name": "stderr",
     "output_type": "stream",
     "text": [
      "/home/wanxinli/miniconda3/lib/python3.9/site-packages/ot/bregman.py:517: UserWarning: Sinkhorn did not converge. You might want to increase the number of iterations `numItermax` or the regularization parameter `reg`.\n",
      "  warnings.warn(\"Sinkhorn did not converge. You might want to \"\n"
     ]
    },
    {
     "name": "stdout",
     "output_type": "stream",
     "text": [
      "iteration: 92\n",
      "iteration: 93\n",
      "iteration: 94\n",
      "iteration: 95\n",
      "iteration: 96\n"
     ]
    },
    {
     "name": "stderr",
     "output_type": "stream",
     "text": [
      "/home/wanxinli/miniconda3/lib/python3.9/site-packages/ot/bregman.py:517: UserWarning: Sinkhorn did not converge. You might want to increase the number of iterations `numItermax` or the regularization parameter `reg`.\n",
      "  warnings.warn(\"Sinkhorn did not converge. You might want to \"\n"
     ]
    },
    {
     "name": "stdout",
     "output_type": "stream",
     "text": [
      "iteration: 97\n"
     ]
    },
    {
     "name": "stderr",
     "output_type": "stream",
     "text": [
      "/home/wanxinli/miniconda3/lib/python3.9/site-packages/ot/bregman.py:517: UserWarning: Sinkhorn did not converge. You might want to increase the number of iterations `numItermax` or the regularization parameter `reg`.\n",
      "  warnings.warn(\"Sinkhorn did not converge. You might want to \"\n"
     ]
    },
    {
     "name": "stdout",
     "output_type": "stream",
     "text": [
      "iteration: 98\n"
     ]
    },
    {
     "name": "stderr",
     "output_type": "stream",
     "text": [
      "/home/wanxinli/miniconda3/lib/python3.9/site-packages/ot/bregman.py:517: UserWarning: Sinkhorn did not converge. You might want to increase the number of iterations `numItermax` or the regularization parameter `reg`.\n",
      "  warnings.warn(\"Sinkhorn did not converge. You might want to \"\n"
     ]
    },
    {
     "name": "stdout",
     "output_type": "stream",
     "text": [
      "iteration: 99\n"
     ]
    },
    {
     "data": {
      "text/plain": [
       "array([[36883669.65567892, 51961707.55373504, 50678070.7097654 ,\n",
       "        67482163.8030879 , 47914185.19688696, 63379266.16161672],\n",
       "       [29842702.13841722, 43643780.50105147, 48113264.78363384,\n",
       "        69575549.76753898, 44384291.6063962 , 65879727.57898752],\n",
       "       [27078770.21508212, 42017103.04216892, 42476908.89823696,\n",
       "        55686980.15142758, 38426802.82438891, 51832781.74741042],\n",
       "       [35658392.25397453, 54019133.55289261, 52559633.31638248,\n",
       "        68482394.23278981, 47363298.98232397, 68422637.1808754 ],\n",
       "       [32760703.35911833, 47216832.42600156, 47729951.84243596,\n",
       "        65808083.33843751, 44787158.39295986, 63625035.07647277],\n",
       "       [26701817.25798034, 39305615.96431127, 41536045.86366253,\n",
       "        54126076.44593313, 34168662.54910908, 43689061.40254717],\n",
       "       [31373899.83209838, 43937327.9107194 , 38558299.17627967,\n",
       "        50946804.54612491, 33926699.92264866, 46718000.45518016],\n",
       "       [22931243.30904353, 35526954.71189315, 40740762.20173529,\n",
       "        53724685.57793304, 34189043.87860459, 48541758.12571174],\n",
       "       [32138218.47808937, 47541206.53042342, 41985401.04525637,\n",
       "        57159022.14612215, 36723114.01352534, 53398693.55836079],\n",
       "       [25781117.93449811, 40335768.1265019 , 38593498.59230468,\n",
       "        58904222.33102301, 33891369.67761497, 57046490.63420777],\n",
       "       [22823072.42713853, 32091319.78637369, 39448369.00042134,\n",
       "        54313034.93660504, 36315768.11917581, 53725474.27156484],\n",
       "       [31789646.61394549, 46711056.64564609, 50528498.00710543,\n",
       "        65943826.56020337, 41953096.94717543, 60323246.89417014],\n",
       "       [27068788.40651158, 40166703.90569535, 43288981.83834996,\n",
       "        61674209.10494827, 35721263.04233909, 55846915.73173288],\n",
       "       [35347503.9874603 , 48073032.60603302, 48348675.69941094,\n",
       "        65417030.61362957, 46594342.55705974, 63646076.47774763],\n",
       "       [35590631.00370979, 50032494.70025634, 49579635.40058656,\n",
       "        64984037.75343322, 45643767.79903764, 60626807.2815617 ],\n",
       "       [29064290.19585017, 40483472.33245002, 45789112.14407956,\n",
       "        60356926.79593685, 36697364.12297757, 48221900.89198251],\n",
       "       [35227695.98070859, 51397155.56020456, 49879302.42154012,\n",
       "        66233694.3965316 , 47161198.2991471 , 62459420.15168891],\n",
       "       [31546350.97287435, 47445208.02339214, 38939286.77879   ,\n",
       "        50447704.50703647, 36430441.74321534, 46376341.11345632],\n",
       "       [36521415.60467312, 53575172.73977031, 49724354.94307115,\n",
       "        64160474.29497962, 42846722.72014192, 55535249.44203656],\n",
       "       [22619303.67257686, 31629633.21941319, 36560043.26052949,\n",
       "        51241134.21167026, 35478440.22777624, 53376537.50134268],\n",
       "       [33199089.55796235, 46106295.61712099, 43631879.47043881,\n",
       "        58333360.52311121, 41236233.28741027, 57278938.47335384],\n",
       "       [23858332.2968795 , 33482189.05262704, 45162065.55651169,\n",
       "        66763838.93234834, 43243515.10889734, 63493673.3256571 ],\n",
       "       [34514845.82187657, 47319729.12185415, 59372301.99940429,\n",
       "        79535465.86330463, 50440551.15952299, 69056605.8483177 ],\n",
       "       [32773814.18635548, 49181374.45229697, 44992010.70908001,\n",
       "        63549729.65542164, 39465000.19946864, 56799787.32783559],\n",
       "       [36349657.29885344, 54183520.29443194, 47312807.34679569,\n",
       "        59711280.23595341, 40721167.63616008, 52265431.76618419],\n",
       "       [27962145.10244675, 40932747.79615109, 37583543.89604755,\n",
       "        50924860.42038195, 33087565.15333391, 47427580.32848539],\n",
       "       [31361491.35940553, 40840305.57329836, 50044513.79619796,\n",
       "        68748093.72916375, 42420506.83720113, 62820568.71098022],\n",
       "       [36487032.52150614, 50869804.14785311, 45635070.72657324,\n",
       "        58667940.81471093, 39253963.75309815, 53293326.03558478],\n",
       "       [33253205.67338733, 48386884.69022335, 55622154.91246167,\n",
       "        72631299.48453516, 49017304.50466095, 67492201.59024452],\n",
       "       [31312005.21035076, 44461487.02375609, 58162051.7908451 ,\n",
       "        75349429.75650853, 49117023.25664012, 65169912.29810463],\n",
       "       [31952101.69207331, 44833186.76105551, 42169411.44940756,\n",
       "        60807029.18316144, 39575272.39832803, 57708011.51075631],\n",
       "       [34989032.08842745, 49971805.54823429, 43714978.9413303 ,\n",
       "        56307042.48909934, 41633504.30430788, 53757550.2782368 ],\n",
       "       [29822260.91198623, 42394757.43074802, 37734810.6736216 ,\n",
       "        50907089.50750088, 36295983.81958559, 50698485.71329437],\n",
       "       [29214062.46286452, 48327229.81165239, 37725299.9559835 ,\n",
       "        52746201.57442143, 35386956.78344413, 49653120.39875174],\n",
       "       [36048322.39685078, 53138675.53535758, 50626842.05739724,\n",
       "        70378562.9272771 , 42707297.6242774 , 61941359.15399182],\n",
       "       [36653801.96528886, 53148252.43433642, 52975715.47861467,\n",
       "        67819917.80623291, 44522309.1352943 , 55512410.88301464],\n",
       "       [24594457.73688737, 36300160.33698417, 36967840.995859  ,\n",
       "        51956820.66299014, 34034837.96467362, 49818891.87705576],\n",
       "       [33100305.25879879, 46379892.83509576, 42422450.40763517,\n",
       "        53604163.98547981, 37672469.65609086, 48171558.77668767],\n",
       "       [33031989.6847504 , 42642890.36260399, 45946048.69875803,\n",
       "        64474398.68290725, 43869423.21744717, 63541960.3615542 ],\n",
       "       [22277440.59535436, 31527358.11061226, 38648492.46076643,\n",
       "        54605065.35982022, 35791666.03679505, 54423152.67946488],\n",
       "       [37475944.89370335, 55196956.7987766 , 52458303.92490727,\n",
       "        68354720.68091285, 50153737.07948159, 62603913.57904817],\n",
       "       [33488418.11185052, 47216541.47026173, 40854662.93275673,\n",
       "        54231633.74940425, 34882856.5115414 , 48116275.21750575],\n",
       "       [37572715.62036929, 46905354.11034401, 46407183.65967506,\n",
       "        59972974.82721862, 42263847.35577424, 58164028.02905347],\n",
       "       [29911969.67860301, 48594692.84516017, 39991770.11528742,\n",
       "        53351825.34404255, 35467472.17642179, 50492728.0094423 ],\n",
       "       [30894555.31469098, 46766889.16798923, 43993221.41516911,\n",
       "        57366234.8103961 , 36236786.70779911, 52545626.70851947],\n",
       "       [31477599.91276057, 46135150.89820576, 50017805.80984875,\n",
       "        63474845.89793219, 43336426.88784171, 56976414.10066032],\n",
       "       [30521008.04914946, 43955857.51375818, 39743479.65096965,\n",
       "        50736187.25422256, 33231699.57829626, 45289961.68689214],\n",
       "       [27380832.65143367, 38133626.00444374, 49445335.84346874,\n",
       "        67376777.70341127, 47612379.10554951, 62018163.7285319 ],\n",
       "       [28968446.32070683, 43976103.20550775, 55776507.96509326,\n",
       "        80294001.5107505 , 48201488.29293214, 75742934.51090065],\n",
       "       [36564040.07927799, 49681132.86923634, 52466612.09097368,\n",
       "        67583928.95425951, 46032085.16759105, 63727380.723508  ],\n",
       "       [35293925.95885533, 48480860.50957886, 45925024.976366  ,\n",
       "        59588933.61016729, 40760183.23363879, 56364149.21703393],\n",
       "       [33077271.77220657, 47057078.47927078, 50326858.31686732,\n",
       "        67796942.42916359, 43524951.99052372, 60844179.65480773],\n",
       "       [34672292.52269449, 47384666.39427304, 54441795.16650905,\n",
       "        68524648.60910219, 48760190.33270368, 64327290.19181034],\n",
       "       [23776731.50824867, 34655362.48924308, 43745013.91987815,\n",
       "        64405296.82317428, 39558286.19284037, 60782695.3072721 ],\n",
       "       [37722935.13203473, 48471947.17412926, 41950346.7949961 ,\n",
       "        53353924.48079621, 37949827.39722753, 47426739.74449722],\n",
       "       [30487125.15479163, 44365976.96613166, 40662007.32162561,\n",
       "        63771948.93753745, 39215185.08784711, 59318153.90713276],\n",
       "       [26761022.19214307, 39236770.8761152 , 44774378.51219048,\n",
       "        67561882.91391695, 42344196.11639608, 64349360.40323219],\n",
       "       [36777109.86140155, 53139937.76823293, 49259296.19923984,\n",
       "        64084612.24223651, 43509722.98386314, 57285286.07712884],\n",
       "       [35135972.46176106, 50200879.81812435, 46249176.94558241,\n",
       "        59850887.55340138, 44427438.43435821, 56846575.37432413],\n",
       "       [30404672.7608446 , 40592325.20141563, 40731853.10060565,\n",
       "        51762283.88015369, 39244273.40890422, 50159037.47469059],\n",
       "       [36191436.34031519, 48283862.78121912, 39681672.50850704,\n",
       "        56063969.80510402, 38953205.25100915, 50786805.71255415],\n",
       "       [29714755.37962233, 43818501.69251551, 38181222.22950092,\n",
       "        53164925.66241593, 33250848.09453227, 45930769.27214734],\n",
       "       [24139843.47530384, 36930206.12241966, 43658294.25536657,\n",
       "        68145777.22378741, 42554248.48207696, 67675234.07054335],\n",
       "       [29391382.92158306, 43629650.69394433, 38547159.40062875,\n",
       "        50575581.55930692, 35943297.48491508, 49495881.33958098],\n",
       "       [33783738.23661707, 47715594.1314069 , 41070661.31929636,\n",
       "        52473163.23034359, 36530639.4686239 , 46540383.2918879 ],\n",
       "       [28528098.17382808, 38811550.45115162, 47503481.80671904,\n",
       "        69298664.87011014, 40359006.89501059, 63852077.32383174],\n",
       "       [28408144.30998482, 41508748.41007058, 34889163.52227089,\n",
       "        46803664.36500236, 29772982.68010322, 42012992.15404753],\n",
       "       [33838329.33522402, 46083216.72001743, 54977761.76567855,\n",
       "        68165528.59571846, 49365481.27370422, 63546317.9875564 ],\n",
       "       [38823148.71620043, 56405532.76781975, 43226936.99039306,\n",
       "        57181513.97294952, 39593964.06606538, 52458188.46273945],\n",
       "       [24066425.53817264, 35137525.94514312, 38143754.94077193,\n",
       "        60062000.10801746, 38743689.00005809, 60962654.97054726],\n",
       "       [45004400.11094318, 62302616.3440455 , 53007871.62430444,\n",
       "        63063842.54990397, 43328686.41061693, 55099395.60282168],\n",
       "       [33837127.95995547, 46712635.38266413, 42968776.62913123,\n",
       "        56217013.06311394, 35987992.90533149, 49890049.74705023],\n",
       "       [32348493.41733102, 48740706.65037729, 41567522.63069255,\n",
       "        52390351.22638088, 37977561.37277193, 49601305.92855184],\n",
       "       [26239050.28841069, 38705966.13794265, 46168763.65625606,\n",
       "        67395435.06127556, 42124543.18255724, 64751894.41637641],\n",
       "       [32440459.33630266, 47548859.76966349, 45869920.77959184,\n",
       "        63632394.63509703, 43657616.46356073, 61057650.41762209],\n",
       "       [18439090.69584548, 28167264.69662175, 38743556.75077371,\n",
       "        55479089.96388932, 34748037.42216878, 54767909.81781179],\n",
       "       [25266845.10801366, 39733854.10761156, 40895784.72344749,\n",
       "        51056456.21641158, 34899082.93795549, 47155840.3407718 ],\n",
       "       [38183808.79469008, 50933401.83095061, 49891342.2374846 ,\n",
       "        65587255.3075905 , 43268095.70664456, 58190676.56766225],\n",
       "       [35497017.97929451, 52294505.03509563, 40009259.64423525,\n",
       "        54303194.95743512, 39842449.91794209, 54110830.26835855],\n",
       "       [29060092.73481372, 45301458.86952424, 50421971.24104599,\n",
       "        74994721.15939046, 42935691.2288109 , 69878553.67708929],\n",
       "       [30846245.27738054, 42669509.99650036, 44695517.30407541,\n",
       "        62483520.38487127, 38833434.887229  , 58936042.84856334],\n",
       "       [32514750.46090525, 42745235.02498861, 48176253.11094414,\n",
       "        65000354.19568396, 39269057.39607633, 59939106.18019422],\n",
       "       [28837743.29494902, 42597970.15972932, 50947130.18417342,\n",
       "        74863391.86792818, 46439598.51858976, 71025214.04317108],\n",
       "       [27242243.30255629, 37375113.67342643, 55432731.02040292,\n",
       "        70683122.87943144, 40962330.69272225, 56905708.24468888],\n",
       "       [39271875.84231068, 54781976.15264472, 56145935.11740632,\n",
       "        73905768.176749  , 46050656.82843737, 63036205.73712099],\n",
       "       [26183461.21388516, 37003667.39873546, 41855573.36697145,\n",
       "        56618184.2541737 , 38907796.12235139, 53797643.70295288],\n",
       "       [37104791.22432072, 53507672.55870172, 46124511.38787978,\n",
       "        59661017.4662241 , 43019505.9377761 , 56473437.26049501],\n",
       "       [20124551.30205481, 27675022.93433775, 37555991.15827169,\n",
       "        55291619.19275133, 34445365.54856532, 52675000.58321729],\n",
       "       [29743384.24403989, 42230190.41475281, 39311864.91353937,\n",
       "        51890720.31325272, 36663648.48298254, 52748258.71856198],\n",
       "       [29180013.42820823, 41974654.24985494, 45218101.33954661,\n",
       "        68477984.57443139, 39825807.63328928, 60704828.53029811],\n",
       "       [26073875.43709987, 37333526.90454961, 48230698.33225871,\n",
       "        64701568.84192274, 39252662.29212356, 57333725.60644368],\n",
       "       [27977910.9475652 , 38800919.96701843, 42477776.91319124,\n",
       "        58028821.52130728, 38368606.66374431, 56134392.71349045],\n",
       "       [33968910.97683766, 49940788.36682881, 51431451.51623601,\n",
       "        66118987.70022792, 49662512.81791312, 66079536.88043348],\n",
       "       [32511875.21187383, 45098825.18752982, 49008677.49574628,\n",
       "        62955038.467058  , 43108189.68759199, 58371475.37155757],\n",
       "       [33200191.92159444, 46359793.28053913, 45390158.91516779,\n",
       "        64371963.12818938, 42205767.85952621, 58362713.43700963],\n",
       "       [36028056.032444  , 49385392.52411539, 50190785.49547724,\n",
       "        64807766.88615973, 38010281.15206566, 52407692.29940816],\n",
       "       [32399001.01350536, 48969390.73414075, 43371258.11365359,\n",
       "        59549949.2711107 , 35420835.8271455 , 50367737.77955375],\n",
       "       [30447153.33056338, 42731787.312733  , 55138156.55629042,\n",
       "        70284006.2530642 , 45931648.54433335, 61025317.26449757],\n",
       "       [28459334.27556565, 40951956.94831217, 48961995.74743993,\n",
       "        67001657.07691067, 41830659.38869701, 59632435.6598247 ],\n",
       "       [33820374.41537849, 54477760.45508847, 41045486.18624384,\n",
       "        59640225.30575497, 35871095.14447732, 53183939.07561595]])"
      ]
     },
     "execution_count": 13,
     "metadata": {},
     "output_type": "execute_result"
    }
   ],
   "source": [
    "\"\"\" \n",
    "Run multiple iterations\n",
    "\"\"\"\n",
    "score_path = os.path.join(output_dir, \"exp5_score.csv\")\n",
    "male_count = 120\n",
    "female_count = 100\n",
    "\n",
    "multi_proc_cts(score_path, n_components, cons_visits_df, custom_train_reps, \\\n",
    "    male_count, female_count, model_func = linear_model.LinearRegression, iteration=100)"
   ]
  },
  {
   "cell_type": "code",
   "execution_count": 14,
   "metadata": {},
   "outputs": [
    {
     "data": {
      "text/plain": [
       "<Figure size 640x480 with 0 Axes>"
      ]
     },
     "metadata": {},
     "output_type": "display_data"
    },
    {
     "data": {
      "image/png": "[encoded data removed]",
      "text/plain": [
       "<Figure size 750x350 with 1 Axes>"
      ]
     },
     "metadata": {},
     "output_type": "display_data"
    },
    {
     "data": {
      "text/plain": [
       "(0.8887448554654767, 0.930474376630074)"
      ]
     },
     "execution_count": 14,
     "metadata": {},
     "output_type": "execute_result"
    }
   ],
   "source": [
    "box_plot_cts_short(score_path)"
   ]
  },
  {
   "cell_type": "code",
   "execution_count": null,
   "metadata": {},
   "outputs": [],
   "source": []
  }
 ],
 "metadata": {
  "kernelspec": {
   "display_name": "base",
   "language": "python",
   "name": "python3"
  },
  "language_info": {
   "codemirror_mode": {
    "name": "ipython",
    "version": 3
   },
   "file_extension": ".py",
   "mimetype": "text/x-python",
   "name": "python",
   "nbconvert_exporter": "python",
   "pygments_lexer": "ipython3",
   "version": "3.9.12"
  },
  "orig_nbformat": 4,
  "vscode": {
   "interpreter": {
    "hash": "e0a164c7fb95af65e1e713e004e1e0ea55c462cdd13e4bdabca6fd60bd9f3176"
   }
  }
 },
 "nbformat": 4,
 "nbformat_minor": 2
}
