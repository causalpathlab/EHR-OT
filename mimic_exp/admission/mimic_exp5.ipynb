{
 "cells": [
  {
   "attachments": {},
   "cell_type": "markdown",
   "metadata": {},
   "source": [
    "# Regression task: the time interval between two consecutive visits for the same patient ~ ICD diagnosis code"
   ]
  },
  {
   "attachments": {},
   "cell_type": "markdown",
   "metadata": {},
   "source": [
    "## Prepare the dataset"
   ]
  },
  {
   "cell_type": "code",
   "execution_count": 17,
   "metadata": {},
   "outputs": [
    {
     "data": {
      "text/plain": [
       "' \\nPatient ID -> admission ID\\n'"
      ]
     },
     "execution_count": 17,
     "metadata": {},
     "output_type": "execute_result"
    }
   ],
   "source": [
    "\"\"\" \n",
    "Patient ID -> admission ID\n",
    "\"\"\""
   ]
  },
  {
   "cell_type": "code",
   "execution_count": 18,
   "metadata": {},
   "outputs": [],
   "source": [
    "import sys\n",
    "sys.path.append(\"/home/wanxinli/deep_patient/\")\n",
    "\n",
    "from datetime import datetime\n",
    "from mimic_common import *\n",
    "import os\n",
    "import pandas as pd\n",
    "from sklearn.decomposition import PCA\n",
    "from sklearn import gaussian_process\n",
    "\n"
   ]
  },
  {
   "cell_type": "code",
   "execution_count": 19,
   "metadata": {},
   "outputs": [
    {
     "name": "stdout",
     "output_type": "stream",
     "text": [
      "Will save outputs to /home/wanxinli/deep_patient/outputs/mimic\n",
      "Will read data from /home/wanxinli/deep_patient/mimic_exp/mimiciii\n"
     ]
    }
   ],
   "source": [
    "output_dir = os.path.join(os.path.expanduser(\"~\"), f\"deep_patient/outputs/mimic\")\n",
    "print(f\"Will save outputs to {output_dir}\")\n",
    "data_dir = os.path.join(os.path.expanduser(\"~\"), f\"deep_patient/mimic_exp/mimiciii\")\n",
    "print(f\"Will read data from {data_dir}\")"
   ]
  },
  {
   "cell_type": "code",
   "execution_count": 20,
   "metadata": {},
   "outputs": [],
   "source": [
    "admission_file = os.path.join(data_dir, \"ADMISSIONS.csv\")\n",
    "diagnosis_file = os.path.join(data_dir, \"DIAGNOSES_ICD.csv\")\n",
    "patient_file = os.path.join(data_dir, \"PATIENTS.csv\")"
   ]
  },
  {
   "cell_type": "code",
   "execution_count": 21,
   "metadata": {},
   "outputs": [],
   "source": [
    "pid_adms, pid_gender, adm_date, admid_codes, pid_visits = build_maps(admission_file, diagnosis_file, patient_file)\n"
   ]
  },
  {
   "cell_type": "code",
   "execution_count": 22,
   "metadata": {},
   "outputs": [],
   "source": [
    "# print(pid_visits)"
   ]
  },
  {
   "cell_type": "code",
   "execution_count": 23,
   "metadata": {},
   "outputs": [
    {
     "data": {
      "text/html": [
       "<div>\n",
       "<style scoped>\n",
       "    .dataframe tbody tr th:only-of-type {\n",
       "        vertical-align: middle;\n",
       "    }\n",
       "\n",
       "    .dataframe tbody tr th {\n",
       "        vertical-align: top;\n",
       "    }\n",
       "\n",
       "    .dataframe thead th {\n",
       "        text-align: right;\n",
       "    }\n",
       "</style>\n",
       "<table border=\"1\" class=\"dataframe\">\n",
       "  <thead>\n",
       "    <tr style=\"text-align: right;\">\n",
       "      <th></th>\n",
       "      <th>gender</th>\n",
       "      <th>duration</th>\n",
       "      <th>ICD codes</th>\n",
       "    </tr>\n",
       "  </thead>\n",
       "  <tbody>\n",
       "    <tr>\n",
       "      <th>0</th>\n",
       "      <td>M</td>\n",
       "      <td>130162740.0</td>\n",
       "      <td>[41401, 4111, 4241, V4582, 2724, 4019, 60000, ...</td>\n",
       "    </tr>\n",
       "    <tr>\n",
       "      <th>1</th>\n",
       "      <td>M</td>\n",
       "      <td>145197420.0</td>\n",
       "      <td>[41071, 4280, 4254, 42731, 9971, 4260, 41401, ...</td>\n",
       "    </tr>\n",
       "    <tr>\n",
       "      <th>2</th>\n",
       "      <td>M</td>\n",
       "      <td>1082040.0</td>\n",
       "      <td>[41401, 4111, 496, 4019, 3051, 53081, 60000, V...</td>\n",
       "    </tr>\n",
       "    <tr>\n",
       "      <th>3</th>\n",
       "      <td>M</td>\n",
       "      <td>94491660.0</td>\n",
       "      <td>[99831, 99811, 41511, 4538, 99672, 496, 41401,...</td>\n",
       "    </tr>\n",
       "    <tr>\n",
       "      <th>4</th>\n",
       "      <td>M</td>\n",
       "      <td>20640960.0</td>\n",
       "      <td>[5715, 5722, 2867, 45620, 3453, 48241, 51881, ...</td>\n",
       "    </tr>\n",
       "    <tr>\n",
       "      <th>...</th>\n",
       "      <td>...</td>\n",
       "      <td>...</td>\n",
       "      <td>...</td>\n",
       "    </tr>\n",
       "    <tr>\n",
       "      <th>12451</th>\n",
       "      <td>M</td>\n",
       "      <td>9735840.0</td>\n",
       "      <td>[42731, 56211, V1051]</td>\n",
       "    </tr>\n",
       "    <tr>\n",
       "      <th>12452</th>\n",
       "      <td>M</td>\n",
       "      <td>8103720.0</td>\n",
       "      <td>[99859, 0389, 99592, 78552, 5849, 5990, 42830,...</td>\n",
       "    </tr>\n",
       "    <tr>\n",
       "      <th>12453</th>\n",
       "      <td>F</td>\n",
       "      <td>2644440.0</td>\n",
       "      <td>[4373, 4019, 2449, 59651, 49390, V1052]</td>\n",
       "    </tr>\n",
       "    <tr>\n",
       "      <th>12454</th>\n",
       "      <td>F</td>\n",
       "      <td>1994400.0</td>\n",
       "      <td>[5363, 5641]</td>\n",
       "    </tr>\n",
       "    <tr>\n",
       "      <th>12455</th>\n",
       "      <td>F</td>\n",
       "      <td>107847480.0</td>\n",
       "      <td>[53642, 5793, 5370, 56782, 78909, E8798, 5363,...</td>\n",
       "    </tr>\n",
       "  </tbody>\n",
       "</table>\n",
       "<p>12456 rows × 3 columns</p>\n",
       "</div>"
      ],
      "text/plain": [
       "      gender     duration                                          ICD codes\n",
       "0          M  130162740.0  [41401, 4111, 4241, V4582, 2724, 4019, 60000, ...\n",
       "1          M  145197420.0  [41071, 4280, 4254, 42731, 9971, 4260, 41401, ...\n",
       "2          M    1082040.0  [41401, 4111, 496, 4019, 3051, 53081, 60000, V...\n",
       "3          M   94491660.0  [99831, 99811, 41511, 4538, 99672, 496, 41401,...\n",
       "4          M   20640960.0  [5715, 5722, 2867, 45620, 3453, 48241, 51881, ...\n",
       "...      ...          ...                                                ...\n",
       "12451      M    9735840.0                              [42731, 56211, V1051]\n",
       "12452      M    8103720.0  [99859, 0389, 99592, 78552, 5849, 5990, 42830,...\n",
       "12453      F    2644440.0            [4373, 4019, 2449, 59651, 49390, V1052]\n",
       "12454      F    1994400.0                                       [5363, 5641]\n",
       "12455      F  107847480.0  [53642, 5793, 5370, 56782, 78909, E8798, 5363,...\n",
       "\n",
       "[12456 rows x 3 columns]"
      ]
     },
     "execution_count": 23,
     "metadata": {},
     "output_type": "execute_result"
    }
   ],
   "source": [
    "# construct codes (ICD codes for the first visits), and durations (time interval until the next visit)\n",
    "\n",
    "codes = []\n",
    "durations = []\n",
    "genders = []\n",
    "for pid, visits in pid_visits.items():\n",
    "    for i, cur_visit in enumerate(visits):\n",
    "        if i == len(visits)-1: # stop on the last element\n",
    "            break \n",
    "        next_visit = visits[i+1]\n",
    "        # print(next_visit)\n",
    "        cur_codes = cur_visit[1]\n",
    "        # print(codes)\n",
    "        duration = (next_visit[0]-cur_visit[0]).total_seconds()\n",
    "        codes.append(cur_codes)\n",
    "        durations.append(duration)\n",
    "        genders.append(pid_gender[pid])\n",
    "\n",
    "\n",
    "cons_visits_df = pd.DataFrame(columns=['gender', 'duration', 'ICD codes'])\n",
    "cons_visits_df['gender'] = genders\n",
    "cons_visits_df['duration'] = durations\n",
    "cons_visits_df['ICD codes'] = codes\n",
    "cons_visits_df.to_csv(os.path.join(output_dir, \"CONS_VISITS.csv\"), index=False, header=True)\n",
    "\n",
    "cons_visits_df"
   ]
  },
  {
   "cell_type": "code",
   "execution_count": 24,
   "metadata": {},
   "outputs": [
    {
     "name": "stdout",
     "output_type": "stream",
     "text": [
      "female count is: 5627\n",
      "male count is: 6829\n"
     ]
    }
   ],
   "source": [
    "\"\"\" \n",
    "Outputs consecutive visit stats\n",
    "\"\"\"\n",
    "female_count = cons_visits_df.loc[(cons_visits_df['gender'] == 'F')].shape[0]\n",
    "male_count = cons_visits_df.loc[(cons_visits_df['gender'] == 'M')].shape[0]\n",
    "print(\"female count is:\", female_count)\n",
    "print(\"male count is:\", male_count)"
   ]
  },
  {
   "cell_type": "code",
   "execution_count": 25,
   "metadata": {},
   "outputs": [],
   "source": [
    "\"\"\"\n",
    "Train deep patient model and generate representations for targets and sources\n",
    "\"\"\"\n",
    "\n",
    "def custom_train_reps(target_features, source_features, n_components, pca_explain=False):\n",
    "    \"\"\" \n",
    "    Customized training algorithm for generating target representations and source representations\n",
    "\n",
    "    :param bool pca_explain: print the explained variance of each components\n",
    "    \n",
    "    :returns: target representations, source representations\n",
    "    \"\"\"\n",
    "    source_pca = PCA(n_components=n_components)\n",
    "    target_pca = PCA(n_components=n_components)\n",
    "    target_reps = target_pca.fit_transform(target_features)\n",
    "    source_reps = source_pca.fit_transform(source_features)\n",
    "\n",
    "    if pca_explain:\n",
    "        source_exp_var = source_pca.explained_variance_ratio_\n",
    "        source_cum_sum_var = np.cumsum(source_exp_var)\n",
    "        target_exp_var = target_pca.explained_variance_ratio_\n",
    "        target_cum_sum_var = np.cumsum(target_exp_var)\n",
    "        print(\"Cummulative variance explained by the source PCA is:\", source_cum_sum_var)\n",
    "        print(\"Cummulative variance explained by the target PCA is:\", target_cum_sum_var)\n",
    "\n",
    "    return target_reps, source_reps"
   ]
  },
  {
   "cell_type": "code",
   "execution_count": 26,
   "metadata": {},
   "outputs": [
    {
     "name": "stderr",
     "output_type": "stream",
     "text": [
      "/home/wanxinli/miniconda3/lib/python3.9/site-packages/ot/bregman.py:517: UserWarning: Sinkhorn did not converge. You might want to increase the number of iterations `numItermax` or the regularization parameter `reg`.\n",
      "  warnings.warn(\"Sinkhorn did not converge. You might want to \"\n"
     ]
    },
    {
     "data": {
      "text/plain": [
       "(29791838.681487437,\n",
       " 44404842.21037529,\n",
       " 53740043.07811273,\n",
       " 84916650.18747346,\n",
       " 48242156.09049678,\n",
       " 71502398.81927487)"
      ]
     },
     "execution_count": 26,
     "metadata": {},
     "output_type": "execute_result"
    }
   ],
   "source": [
    "n_components = 20\n",
    "model_func = linear_model.PoissonRegressor\n",
    "entire_proc_cts(n_components, cons_visits_df, custom_train_reps, model_func, male_count = 120, female_count = 100, pca_explain=False)"
   ]
  },
  {
   "cell_type": "code",
   "execution_count": 27,
   "metadata": {},
   "outputs": [
    {
     "data": {
      "text/plain": [
       "(33228197.62828556,\n",
       " 47866465.50980365,\n",
       " 46739915.57833557,\n",
       " 63854683.81844482,\n",
       " 43072916.08147015,\n",
       " 60437979.88141065)"
      ]
     },
     "execution_count": 27,
     "metadata": {},
     "output_type": "execute_result"
    }
   ],
   "source": [
    "model_func = linear_model.LinearRegression\n",
    "entire_proc_cts(n_components, cons_visits_df, custom_train_reps, model_func, male_count = 120, female_count = 100, pca_explain=False)"
   ]
  },
  {
   "cell_type": "code",
   "execution_count": 28,
   "metadata": {},
   "outputs": [
    {
     "name": "stdout",
     "output_type": "stream",
     "text": [
      "iteration: 0\n",
      "iteration: 1\n",
      "iteration: 2\n",
      "iteration: 3\n",
      "iteration: 4\n"
     ]
    },
    {
     "name": "stderr",
     "output_type": "stream",
     "text": [
      "/home/wanxinli/miniconda3/lib/python3.9/site-packages/ot/bregman.py:517: UserWarning: Sinkhorn did not converge. You might want to increase the number of iterations `numItermax` or the regularization parameter `reg`.\n",
      "  warnings.warn(\"Sinkhorn did not converge. You might want to \"\n"
     ]
    },
    {
     "name": "stdout",
     "output_type": "stream",
     "text": [
      "iteration: 5\n",
      "iteration: 6\n",
      "iteration: 7\n"
     ]
    },
    {
     "name": "stderr",
     "output_type": "stream",
     "text": [
      "/home/wanxinli/miniconda3/lib/python3.9/site-packages/ot/bregman.py:517: UserWarning: Sinkhorn did not converge. You might want to increase the number of iterations `numItermax` or the regularization parameter `reg`.\n",
      "  warnings.warn(\"Sinkhorn did not converge. You might want to \"\n"
     ]
    },
    {
     "name": "stdout",
     "output_type": "stream",
     "text": [
      "iteration: 8\n",
      "iteration: 9\n",
      "iteration: 10\n",
      "iteration: 11\n"
     ]
    },
    {
     "name": "stderr",
     "output_type": "stream",
     "text": [
      "/home/wanxinli/miniconda3/lib/python3.9/site-packages/ot/bregman.py:517: UserWarning: Sinkhorn did not converge. You might want to increase the number of iterations `numItermax` or the regularization parameter `reg`.\n",
      "  warnings.warn(\"Sinkhorn did not converge. You might want to \"\n"
     ]
    },
    {
     "name": "stdout",
     "output_type": "stream",
     "text": [
      "iteration: 12\n",
      "iteration: 13\n",
      "iteration: 14\n",
      "iteration: 15\n"
     ]
    },
    {
     "name": "stderr",
     "output_type": "stream",
     "text": [
      "/home/wanxinli/miniconda3/lib/python3.9/site-packages/ot/bregman.py:517: UserWarning: Sinkhorn did not converge. You might want to increase the number of iterations `numItermax` or the regularization parameter `reg`.\n",
      "  warnings.warn(\"Sinkhorn did not converge. You might want to \"\n"
     ]
    },
    {
     "name": "stdout",
     "output_type": "stream",
     "text": [
      "iteration: 16\n",
      "iteration: 17\n",
      "iteration: 18\n",
      "iteration: 19\n"
     ]
    },
    {
     "name": "stderr",
     "output_type": "stream",
     "text": [
      "/home/wanxinli/miniconda3/lib/python3.9/site-packages/ot/bregman.py:517: UserWarning: Sinkhorn did not converge. You might want to increase the number of iterations `numItermax` or the regularization parameter `reg`.\n",
      "  warnings.warn(\"Sinkhorn did not converge. You might want to \"\n"
     ]
    },
    {
     "name": "stdout",
     "output_type": "stream",
     "text": [
      "iteration: 20\n"
     ]
    },
    {
     "name": "stderr",
     "output_type": "stream",
     "text": [
      "/home/wanxinli/miniconda3/lib/python3.9/site-packages/ot/bregman.py:517: UserWarning: Sinkhorn did not converge. You might want to increase the number of iterations `numItermax` or the regularization parameter `reg`.\n",
      "  warnings.warn(\"Sinkhorn did not converge. You might want to \"\n"
     ]
    },
    {
     "name": "stdout",
     "output_type": "stream",
     "text": [
      "iteration: 21\n",
      "iteration: 22\n"
     ]
    },
    {
     "name": "stderr",
     "output_type": "stream",
     "text": [
      "/home/wanxinli/miniconda3/lib/python3.9/site-packages/ot/bregman.py:517: UserWarning: Sinkhorn did not converge. You might want to increase the number of iterations `numItermax` or the regularization parameter `reg`.\n",
      "  warnings.warn(\"Sinkhorn did not converge. You might want to \"\n"
     ]
    },
    {
     "name": "stdout",
     "output_type": "stream",
     "text": [
      "iteration: 23\n",
      "iteration: 24\n"
     ]
    },
    {
     "name": "stderr",
     "output_type": "stream",
     "text": [
      "/home/wanxinli/miniconda3/lib/python3.9/site-packages/ot/bregman.py:517: UserWarning: Sinkhorn did not converge. You might want to increase the number of iterations `numItermax` or the regularization parameter `reg`.\n",
      "  warnings.warn(\"Sinkhorn did not converge. You might want to \"\n"
     ]
    },
    {
     "name": "stdout",
     "output_type": "stream",
     "text": [
      "iteration: 25\n"
     ]
    },
    {
     "name": "stderr",
     "output_type": "stream",
     "text": [
      "/home/wanxinli/miniconda3/lib/python3.9/site-packages/ot/bregman.py:517: UserWarning: Sinkhorn did not converge. You might want to increase the number of iterations `numItermax` or the regularization parameter `reg`.\n",
      "  warnings.warn(\"Sinkhorn did not converge. You might want to \"\n"
     ]
    },
    {
     "name": "stdout",
     "output_type": "stream",
     "text": [
      "iteration: 26\n"
     ]
    },
    {
     "name": "stderr",
     "output_type": "stream",
     "text": [
      "/home/wanxinli/miniconda3/lib/python3.9/site-packages/ot/bregman.py:517: UserWarning: Sinkhorn did not converge. You might want to increase the number of iterations `numItermax` or the regularization parameter `reg`.\n",
      "  warnings.warn(\"Sinkhorn did not converge. You might want to \"\n"
     ]
    },
    {
     "name": "stdout",
     "output_type": "stream",
     "text": [
      "iteration: 27\n",
      "iteration: 28\n",
      "iteration: 29\n",
      "iteration: 30\n",
      "iteration: 31\n",
      "iteration: 32\n",
      "iteration: 33\n"
     ]
    },
    {
     "name": "stderr",
     "output_type": "stream",
     "text": [
      "/home/wanxinli/miniconda3/lib/python3.9/site-packages/ot/bregman.py:517: UserWarning: Sinkhorn did not converge. You might want to increase the number of iterations `numItermax` or the regularization parameter `reg`.\n",
      "  warnings.warn(\"Sinkhorn did not converge. You might want to \"\n"
     ]
    },
    {
     "name": "stdout",
     "output_type": "stream",
     "text": [
      "iteration: 34\n",
      "iteration: 35\n",
      "iteration: 36\n",
      "iteration: 37\n",
      "iteration: 38\n"
     ]
    },
    {
     "name": "stderr",
     "output_type": "stream",
     "text": [
      "/home/wanxinli/miniconda3/lib/python3.9/site-packages/ot/bregman.py:517: UserWarning: Sinkhorn did not converge. You might want to increase the number of iterations `numItermax` or the regularization parameter `reg`.\n",
      "  warnings.warn(\"Sinkhorn did not converge. You might want to \"\n"
     ]
    },
    {
     "name": "stdout",
     "output_type": "stream",
     "text": [
      "iteration: 39\n",
      "iteration: 40\n",
      "iteration: 41\n",
      "iteration: 42\n"
     ]
    },
    {
     "name": "stderr",
     "output_type": "stream",
     "text": [
      "/home/wanxinli/miniconda3/lib/python3.9/site-packages/ot/bregman.py:517: UserWarning: Sinkhorn did not converge. You might want to increase the number of iterations `numItermax` or the regularization parameter `reg`.\n",
      "  warnings.warn(\"Sinkhorn did not converge. You might want to \"\n"
     ]
    },
    {
     "name": "stdout",
     "output_type": "stream",
     "text": [
      "iteration: 43\n",
      "iteration: 44\n",
      "iteration: 45\n",
      "iteration: 46\n",
      "iteration: 47\n",
      "iteration: 48\n",
      "iteration: 49\n",
      "iteration: 50\n",
      "iteration: 51\n",
      "iteration: 52\n",
      "iteration: 53\n",
      "iteration: 54\n",
      "iteration: 55\n",
      "iteration: 56\n",
      "iteration: 57\n",
      "iteration: 58\n"
     ]
    },
    {
     "name": "stderr",
     "output_type": "stream",
     "text": [
      "/home/wanxinli/miniconda3/lib/python3.9/site-packages/ot/bregman.py:517: UserWarning: Sinkhorn did not converge. You might want to increase the number of iterations `numItermax` or the regularization parameter `reg`.\n",
      "  warnings.warn(\"Sinkhorn did not converge. You might want to \"\n"
     ]
    },
    {
     "name": "stdout",
     "output_type": "stream",
     "text": [
      "iteration: 59\n",
      "iteration: 60\n"
     ]
    },
    {
     "name": "stderr",
     "output_type": "stream",
     "text": [
      "/home/wanxinli/miniconda3/lib/python3.9/site-packages/ot/bregman.py:517: UserWarning: Sinkhorn did not converge. You might want to increase the number of iterations `numItermax` or the regularization parameter `reg`.\n",
      "  warnings.warn(\"Sinkhorn did not converge. You might want to \"\n"
     ]
    },
    {
     "name": "stdout",
     "output_type": "stream",
     "text": [
      "iteration: 61\n",
      "iteration: 62\n",
      "iteration: 63\n"
     ]
    },
    {
     "name": "stderr",
     "output_type": "stream",
     "text": [
      "/home/wanxinli/miniconda3/lib/python3.9/site-packages/ot/bregman.py:517: UserWarning: Sinkhorn did not converge. You might want to increase the number of iterations `numItermax` or the regularization parameter `reg`.\n",
      "  warnings.warn(\"Sinkhorn did not converge. You might want to \"\n"
     ]
    },
    {
     "name": "stdout",
     "output_type": "stream",
     "text": [
      "iteration: 64\n",
      "iteration: 65\n",
      "iteration: 66\n",
      "iteration: 67\n",
      "iteration: 68\n",
      "iteration: 69\n",
      "iteration: 70\n",
      "iteration: 71\n",
      "iteration: 72\n",
      "iteration: 73\n"
     ]
    },
    {
     "name": "stderr",
     "output_type": "stream",
     "text": [
      "/home/wanxinli/miniconda3/lib/python3.9/site-packages/ot/bregman.py:517: UserWarning: Sinkhorn did not converge. You might want to increase the number of iterations `numItermax` or the regularization parameter `reg`.\n",
      "  warnings.warn(\"Sinkhorn did not converge. You might want to \"\n"
     ]
    },
    {
     "name": "stdout",
     "output_type": "stream",
     "text": [
      "iteration: 74\n",
      "iteration: 75\n",
      "iteration: 76\n"
     ]
    },
    {
     "name": "stderr",
     "output_type": "stream",
     "text": [
      "/home/wanxinli/miniconda3/lib/python3.9/site-packages/ot/bregman.py:517: UserWarning: Sinkhorn did not converge. You might want to increase the number of iterations `numItermax` or the regularization parameter `reg`.\n",
      "  warnings.warn(\"Sinkhorn did not converge. You might want to \"\n"
     ]
    },
    {
     "name": "stdout",
     "output_type": "stream",
     "text": [
      "iteration: 77\n",
      "iteration: 78\n",
      "iteration: 79\n",
      "iteration: 80\n"
     ]
    },
    {
     "name": "stderr",
     "output_type": "stream",
     "text": [
      "/home/wanxinli/miniconda3/lib/python3.9/site-packages/ot/bregman.py:517: UserWarning: Sinkhorn did not converge. You might want to increase the number of iterations `numItermax` or the regularization parameter `reg`.\n",
      "  warnings.warn(\"Sinkhorn did not converge. You might want to \"\n"
     ]
    },
    {
     "name": "stdout",
     "output_type": "stream",
     "text": [
      "iteration: 81\n",
      "iteration: 82\n",
      "iteration: 83\n",
      "iteration: 84\n",
      "iteration: 85\n",
      "iteration: 86\n",
      "iteration: 87\n",
      "iteration: 88\n",
      "iteration: 89\n",
      "iteration: 90\n",
      "iteration: 91\n",
      "iteration: 92\n",
      "iteration: 93\n",
      "iteration: 94\n",
      "iteration: 95\n",
      "iteration: 96\n",
      "iteration: 97\n"
     ]
    },
    {
     "name": "stderr",
     "output_type": "stream",
     "text": [
      "/home/wanxinli/miniconda3/lib/python3.9/site-packages/ot/bregman.py:517: UserWarning: Sinkhorn did not converge. You might want to increase the number of iterations `numItermax` or the regularization parameter `reg`.\n",
      "  warnings.warn(\"Sinkhorn did not converge. You might want to \"\n"
     ]
    },
    {
     "name": "stdout",
     "output_type": "stream",
     "text": [
      "iteration: 98\n",
      "iteration: 99\n"
     ]
    },
    {
     "data": {
      "text/plain": [
       "array([[3.64140225e+07, 5.53404754e+07, 5.26218810e+07, 8.56987710e+07,\n",
       "        4.12875354e+07, 5.99005579e+07],\n",
       "       [4.31309365e+07, 6.02939935e+07, 4.37911134e+07, 5.92787525e+07,\n",
       "        3.84532216e+07, 4.83359285e+07],\n",
       "       [3.23977925e+07, 4.86688638e+07, 4.61734211e+07, 9.33343766e+07,\n",
       "        3.85216059e+07, 5.78237365e+07],\n",
       "       [3.45519858e+07, 5.25400699e+07, 5.43217358e+07, 8.48578458e+07,\n",
       "        4.16660945e+07, 6.13648834e+07],\n",
       "       [3.35644725e+07, 5.05315804e+07, 4.27658893e+07, 7.94172797e+07,\n",
       "        3.36774174e+07, 5.60269655e+07],\n",
       "       [2.90908973e+07, 4.41467965e+07, 4.67978970e+07, 6.89513397e+07,\n",
       "        4.05115328e+07, 6.03527860e+07],\n",
       "       [2.85827021e+07, 4.05274152e+07, 3.43691268e+07, 5.46644687e+07,\n",
       "        3.34322215e+07, 4.97661425e+07],\n",
       "       [2.13261766e+07, 3.29702856e+07, 3.68251184e+07, 5.57039811e+07,\n",
       "        3.00182798e+07, 4.76499030e+07],\n",
       "       [2.72567047e+07, 4.11737139e+07, 6.33955757e+07, 1.29014730e+08,\n",
       "        4.32664749e+07, 6.63449255e+07],\n",
       "       [3.88952293e+07, 5.65839538e+07, 5.25086002e+07, 8.48238128e+07,\n",
       "        4.11595823e+07, 6.14126005e+07],\n",
       "       [3.18742897e+07, 4.46235794e+07, 4.46207937e+07, 7.07193359e+07,\n",
       "        3.59699744e+07, 5.17221575e+07],\n",
       "       [3.00549619e+07, 4.48589098e+07, 4.24002244e+07, 7.85363957e+07,\n",
       "        3.09689212e+07, 4.63470311e+07],\n",
       "       [3.98732797e+07, 5.80120826e+07, 4.22302585e+07, 6.11645236e+07,\n",
       "        3.90290137e+07, 5.34072789e+07],\n",
       "       [3.03244693e+07, 4.90132505e+07, 1.03416623e+08, 5.57796672e+08,\n",
       "        3.88286167e+07, 6.37907296e+07],\n",
       "       [3.72513184e+07, 5.61432450e+07, 4.61070480e+07, 7.07209308e+07,\n",
       "        3.54649521e+07, 4.93833426e+07],\n",
       "       [3.34201210e+07, 4.93971926e+07, 4.04738588e+07, 6.01135730e+07,\n",
       "        3.40842657e+07, 4.78142928e+07],\n",
       "       [3.73968446e+07, 5.59638547e+07, 6.15080547e+07, 1.25372145e+08,\n",
       "        3.83983361e+07, 5.20584971e+07],\n",
       "       [2.94479292e+07, 4.12087282e+07, 5.74761418e+07, 1.19674180e+08,\n",
       "        3.58485975e+07, 5.01572704e+07],\n",
       "       [2.94860912e+07, 3.99591172e+07, 3.60064030e+07, 5.17912555e+07,\n",
       "        3.16110275e+07, 4.63762149e+07],\n",
       "       [2.84581722e+07, 4.23071379e+07, 3.86768619e+07, 5.97432416e+07,\n",
       "        3.31483908e+07, 5.34752303e+07],\n",
       "       [3.16590558e+07, 4.59130163e+07, 4.52465952e+07, 7.14569137e+07,\n",
       "        4.54397609e+07, 7.19378039e+07],\n",
       "       [2.47799068e+07, 3.75492147e+07, 3.23547523e+07, 4.48792615e+07,\n",
       "        3.07452473e+07, 4.47742186e+07],\n",
       "       [2.25271175e+07, 3.45527621e+07, 4.31637283e+07, 7.22376844e+07,\n",
       "        3.70136973e+07, 6.35070550e+07],\n",
       "       [2.59060333e+07, 3.86515111e+07, 4.06947713e+07, 6.77543954e+07,\n",
       "        3.84153864e+07, 6.55739712e+07],\n",
       "       [3.70739616e+07, 5.30324395e+07, 6.13260906e+07, 1.34675739e+08,\n",
       "        4.46250345e+07, 6.34113399e+07],\n",
       "       [3.12601456e+07, 4.41042339e+07, 5.11583464e+07, 7.43225223e+07,\n",
       "        4.79706602e+07, 7.09941170e+07],\n",
       "       [3.41283515e+07, 4.87152295e+07, 6.57315238e+07, 1.20524124e+08,\n",
       "        3.95373914e+07, 6.33141535e+07],\n",
       "       [3.87235538e+07, 5.80391188e+07, 5.98407115e+07, 1.29126951e+08,\n",
       "        3.91708040e+07, 5.99787204e+07],\n",
       "       [3.93852899e+07, 5.18161275e+07, 5.00525809e+07, 1.01113579e+08,\n",
       "        3.46334914e+07, 4.19908825e+07],\n",
       "       [3.91614626e+07, 5.41238367e+07, 4.78343577e+07, 6.32279965e+07,\n",
       "        3.84000799e+07, 4.97955821e+07],\n",
       "       [3.72426539e+07, 5.20779913e+07, 4.38894352e+07, 6.32933536e+07,\n",
       "        3.65393855e+07, 5.31321029e+07],\n",
       "       [3.88022486e+07, 6.01114769e+07, 4.54950440e+07, 6.11142368e+07,\n",
       "        4.09123078e+07, 5.40312817e+07],\n",
       "       [3.42079641e+07, 5.06231104e+07, 4.00181392e+07, 6.13657358e+07,\n",
       "        3.29399109e+07, 4.88848751e+07],\n",
       "       [3.33222959e+07, 5.55500213e+07, 4.79606838e+07, 9.33162682e+07,\n",
       "        3.87207470e+07, 5.39959515e+07],\n",
       "       [3.35404556e+07, 4.73483026e+07, 4.20847938e+07, 6.36829340e+07,\n",
       "        3.92517279e+07, 6.18191219e+07],\n",
       "       [3.30076410e+07, 4.86111457e+07, 3.66271064e+07, 4.86792482e+07,\n",
       "        3.02839164e+07, 4.05336345e+07],\n",
       "       [3.48692149e+07, 5.22828563e+07, 3.95961339e+07, 5.52013497e+07,\n",
       "        3.49567779e+07, 4.90424755e+07],\n",
       "       [3.18554536e+07, 4.11345234e+07, 3.60114187e+07, 5.56762553e+07,\n",
       "        3.31380500e+07, 5.03421781e+07],\n",
       "       [3.07844129e+07, 4.81350845e+07, 4.84396237e+07, 7.88512013e+07,\n",
       "        3.49966462e+07, 5.42550705e+07],\n",
       "       [3.01874796e+07, 4.40091436e+07, 3.97727715e+07, 6.51571087e+07,\n",
       "        3.46166890e+07, 5.15479191e+07],\n",
       "       [3.26004267e+07, 4.86973777e+07, 3.73848109e+07, 5.66040043e+07,\n",
       "        3.78387713e+07, 5.66943045e+07],\n",
       "       [2.63773936e+07, 3.76152997e+07, 4.00171099e+07, 6.57683278e+07,\n",
       "        3.24221660e+07, 5.41510076e+07],\n",
       "       [3.91976526e+07, 5.50996593e+07, 4.12994371e+07, 5.81907525e+07,\n",
       "        3.63237156e+07, 4.48024342e+07],\n",
       "       [3.73486164e+07, 5.23235961e+07, 4.12982540e+07, 5.79483783e+07,\n",
       "        3.90565272e+07, 5.52020101e+07],\n",
       "       [3.04601886e+07, 4.10596415e+07, 4.71029075e+07, 7.37298549e+07,\n",
       "        4.26362484e+07, 6.26504092e+07],\n",
       "       [3.33725547e+07, 4.75495652e+07, 3.78099494e+07, 5.71896498e+07,\n",
       "        3.52892677e+07, 5.58045259e+07],\n",
       "       [3.66563247e+07, 5.42718531e+07, 3.74810002e+07, 5.27941758e+07,\n",
       "        3.41228906e+07, 4.73422287e+07],\n",
       "       [3.25959997e+07, 4.88704512e+07, 4.75881381e+07, 8.20734952e+07,\n",
       "        3.48238091e+07, 5.87073424e+07],\n",
       "       [3.01703824e+07, 4.44291131e+07, 5.05906496e+07, 9.11497356e+07,\n",
       "        3.95021664e+07, 6.32818312e+07],\n",
       "       [3.34298610e+07, 4.82201751e+07, 7.75005856e+07, 2.78834144e+08,\n",
       "        3.79266933e+07, 5.09072298e+07],\n",
       "       [3.00311065e+07, 4.83678742e+07, 3.78181712e+07, 6.34702572e+07,\n",
       "        3.49010553e+07, 4.95129177e+07],\n",
       "       [3.17005640e+07, 4.37245021e+07, 4.34421379e+07, 6.33234367e+07,\n",
       "        4.18650728e+07, 5.81680782e+07],\n",
       "       [4.91556362e+07, 6.50222393e+07, 6.68371791e+07, 1.28911765e+08,\n",
       "        4.41975104e+07, 5.49355368e+07],\n",
       "       [3.07970831e+07, 4.56718304e+07, 4.98717028e+07, 7.70671783e+07,\n",
       "        4.03766193e+07, 6.34338478e+07],\n",
       "       [2.95618007e+07, 4.97365601e+07, 4.12249420e+07, 1.16326352e+08,\n",
       "        2.66283656e+07, 3.99731286e+07],\n",
       "       [3.64117783e+07, 5.39126786e+07, 4.77311649e+07, 7.40751349e+07,\n",
       "        3.62177324e+07, 5.33061972e+07],\n",
       "       [2.41007348e+07, 3.27945268e+07, 4.36758280e+07, 7.09650926e+07,\n",
       "        3.83365323e+07, 5.90866210e+07],\n",
       "       [3.20477481e+07, 4.74738062e+07, 4.52372087e+07, 7.34973554e+07,\n",
       "        3.40450844e+07, 4.97880563e+07],\n",
       "       [3.34121191e+07, 4.65421122e+07, 4.19938169e+07, 6.74665031e+07,\n",
       "        3.75966122e+07, 5.57667451e+07],\n",
       "       [3.30355951e+07, 5.21313543e+07, 5.47581953e+07, 1.32613143e+08,\n",
       "        3.85967400e+07, 5.20050791e+07],\n",
       "       [4.15477498e+07, 6.11216867e+07, 6.92723168e+07, 1.78419876e+08,\n",
       "        4.01263249e+07, 5.49529824e+07],\n",
       "       [3.82966478e+07, 5.62437313e+07, 4.75714919e+07, 6.44917053e+07,\n",
       "        4.05612449e+07, 5.78805497e+07],\n",
       "       [3.36674258e+07, 4.85620107e+07, 4.94395489e+07, 8.22075974e+07,\n",
       "        4.29821680e+07, 6.18404399e+07],\n",
       "       [3.27879868e+07, 4.66058739e+07, 5.14141922e+07, 8.41777192e+07,\n",
       "        4.11618525e+07, 5.74395394e+07],\n",
       "       [3.33875400e+07, 4.68185246e+07, 4.26189444e+07, 5.85823006e+07,\n",
       "        3.72132767e+07, 5.12066800e+07],\n",
       "       [3.71707279e+07, 5.72675029e+07, 5.86896553e+07, 1.08224832e+08,\n",
       "        3.48793398e+07, 5.15907126e+07],\n",
       "       [2.95361830e+07, 4.44863945e+07, 3.78496994e+07, 5.38924327e+07,\n",
       "        3.37922528e+07, 4.86559984e+07],\n",
       "       [3.03278223e+07, 4.87620832e+07, 4.64243958e+07, 6.99894606e+07,\n",
       "        4.28286761e+07, 6.46339957e+07],\n",
       "       [3.03197888e+07, 4.12191259e+07, 3.77614593e+07, 5.43446771e+07,\n",
       "        3.54361179e+07, 5.06078976e+07],\n",
       "       [3.24385675e+07, 4.97296937e+07, 4.92008660e+07, 8.04684979e+07,\n",
       "        3.57237337e+07, 5.11719814e+07],\n",
       "       [2.89805580e+07, 4.33984519e+07, 3.75761312e+07, 5.60945443e+07,\n",
       "        3.19493247e+07, 4.73471224e+07],\n",
       "       [3.14743158e+07, 4.46823577e+07, 3.66491372e+07, 4.83416199e+07,\n",
       "        3.65011656e+07, 5.03294266e+07],\n",
       "       [3.28256980e+07, 4.53847866e+07, 4.99647753e+07, 9.19435299e+07,\n",
       "        4.39526244e+07, 6.93098303e+07],\n",
       "       [4.24496390e+07, 5.65275904e+07, 4.49641089e+07, 6.20911878e+07,\n",
       "        4.33839570e+07, 5.89721020e+07],\n",
       "       [2.57968649e+07, 4.04435104e+07, 9.30355865e+07, 5.26793142e+08,\n",
       "        3.54629406e+07, 6.06703277e+07],\n",
       "       [3.18425809e+07, 4.49655188e+07, 3.59616112e+07, 4.91009102e+07,\n",
       "        3.39431389e+07, 4.91264478e+07],\n",
       "       [2.81322656e+07, 4.59966011e+07, 4.11387152e+07, 6.00424056e+07,\n",
       "        3.83040631e+07, 5.71835395e+07],\n",
       "       [2.82540377e+07, 4.66621825e+07, 4.32184478e+07, 6.95042485e+07,\n",
       "        3.41476146e+07, 5.24793130e+07],\n",
       "       [3.98307000e+07, 5.55153439e+07, 4.91378649e+07, 7.67162442e+07,\n",
       "        4.03070735e+07, 5.42484780e+07],\n",
       "       [3.55693352e+07, 5.09504376e+07, 5.06784764e+07, 9.69633825e+07,\n",
       "        3.87979417e+07, 5.86215781e+07],\n",
       "       [2.97169379e+07, 4.46055829e+07, 5.04572645e+07, 7.94880712e+07,\n",
       "        3.64177750e+07, 5.36510820e+07],\n",
       "       [3.27457083e+07, 4.69015820e+07, 3.55668573e+07, 4.82023698e+07,\n",
       "        3.17206818e+07, 4.37567814e+07],\n",
       "       [3.33948398e+07, 4.76370527e+07, 4.15517157e+07, 6.56319628e+07,\n",
       "        3.40587255e+07, 4.58467072e+07],\n",
       "       [3.78037572e+07, 5.51742284e+07, 4.61919885e+07, 6.19190644e+07,\n",
       "        4.05886993e+07, 5.29209312e+07],\n",
       "       [2.91189864e+07, 4.39811226e+07, 4.97051471e+07, 1.18966935e+08,\n",
       "        3.12796534e+07, 4.54437595e+07],\n",
       "       [3.74609476e+07, 5.41417423e+07, 3.97867543e+07, 5.36832287e+07,\n",
       "        3.45175510e+07, 4.52286861e+07],\n",
       "       [4.27653132e+07, 5.79780024e+07, 5.45255563e+07, 7.81882430e+07,\n",
       "        4.50474678e+07, 6.54432906e+07],\n",
       "       [3.38719423e+07, 5.14554991e+07, 5.43520571e+07, 9.07302579e+07,\n",
       "        4.75238894e+07, 7.37542355e+07],\n",
       "       [3.16589276e+07, 4.92331621e+07, 4.55525553e+07, 1.13477275e+08,\n",
       "        3.61884150e+07, 5.20451228e+07],\n",
       "       [2.79845817e+07, 4.54060612e+07, 3.20167447e+07, 4.66475843e+07,\n",
       "        3.04341038e+07, 4.54939738e+07],\n",
       "       [2.68243630e+07, 4.11552491e+07, 4.33897338e+07, 8.67507890e+07,\n",
       "        3.22494354e+07, 4.75077714e+07],\n",
       "       [3.08459483e+07, 4.80322649e+07, 5.54007248e+07, 8.27132017e+07,\n",
       "        5.04735366e+07, 7.55912438e+07],\n",
       "       [4.33432545e+07, 6.39585144e+07, 4.28147405e+07, 5.88733604e+07,\n",
       "        3.68683308e+07, 4.87555578e+07],\n",
       "       [3.46850644e+07, 4.98057175e+07, 4.67184346e+07, 6.19698812e+07,\n",
       "        3.66699184e+07, 5.00447569e+07],\n",
       "       [2.98838936e+07, 4.10072218e+07, 3.72246854e+07, 5.45643844e+07,\n",
       "        3.34748581e+07, 4.55303845e+07],\n",
       "       [3.08300404e+07, 4.41123465e+07, 3.31238614e+07, 4.95667194e+07,\n",
       "        3.08370225e+07, 4.54709822e+07],\n",
       "       [3.06870325e+07, 4.55312209e+07, 5.06655015e+07, 7.60408127e+07,\n",
       "        3.92538067e+07, 5.84284850e+07],\n",
       "       [3.79299648e+07, 5.87427715e+07, 3.92622960e+07, 5.95880976e+07,\n",
       "        3.83458187e+07, 5.60444057e+07],\n",
       "       [2.73634687e+07, 4.36559095e+07, 4.33437251e+07, 6.57475630e+07,\n",
       "        3.87434479e+07, 5.88946950e+07],\n",
       "       [3.23871704e+07, 4.91890028e+07, 3.80010766e+07, 5.71651209e+07,\n",
       "        3.42382232e+07, 5.17510883e+07]])"
      ]
     },
     "execution_count": 28,
     "metadata": {},
     "output_type": "execute_result"
    }
   ],
   "source": [
    "\"\"\" \n",
    "Run multiple iterations using Poisson regression\n",
    "\"\"\"\n",
    "\n",
    "score_path = os.path.join(output_dir, \"exp5_poisson_score_\"+str(n_components)+\".csv\")\n",
    "male_count = 120\n",
    "female_count = 100\n",
    "\n",
    "multi_proc_cts(score_path, n_components, cons_visits_df, custom_train_reps, \\\n",
    "    male_count, female_count, model_func = linear_model.PoissonRegressor, iteration=100)"
   ]
  },
  {
   "cell_type": "code",
   "execution_count": 29,
   "metadata": {},
   "outputs": [],
   "source": [
    "# score_path = os.path.join(output_dir, \"exp5_poisson_score_\"+str(n_components)+\".csv\")\n",
    "\n",
    "# save_path = \"../../outputs/mimic/exp5_poisson_res.png\"\n",
    "\n",
    "# box_plot_cts_short(score_path, save_path=save_path)"
   ]
  },
  {
   "cell_type": "code",
   "execution_count": 30,
   "metadata": {},
   "outputs": [
    {
     "name": "stdout",
     "output_type": "stream",
     "text": [
      "iteration: 0\n",
      "iteration: 1\n",
      "iteration: 2\n",
      "iteration: 3\n"
     ]
    },
    {
     "name": "stderr",
     "output_type": "stream",
     "text": [
      "/home/wanxinli/miniconda3/lib/python3.9/site-packages/ot/bregman.py:517: UserWarning: Sinkhorn did not converge. You might want to increase the number of iterations `numItermax` or the regularization parameter `reg`.\n",
      "  warnings.warn(\"Sinkhorn did not converge. You might want to \"\n"
     ]
    },
    {
     "name": "stdout",
     "output_type": "stream",
     "text": [
      "iteration: 4\n"
     ]
    },
    {
     "name": "stderr",
     "output_type": "stream",
     "text": [
      "/home/wanxinli/miniconda3/lib/python3.9/site-packages/ot/bregman.py:517: UserWarning: Sinkhorn did not converge. You might want to increase the number of iterations `numItermax` or the regularization parameter `reg`.\n",
      "  warnings.warn(\"Sinkhorn did not converge. You might want to \"\n"
     ]
    },
    {
     "name": "stdout",
     "output_type": "stream",
     "text": [
      "iteration: 5\n",
      "iteration: 6\n"
     ]
    },
    {
     "name": "stderr",
     "output_type": "stream",
     "text": [
      "/home/wanxinli/miniconda3/lib/python3.9/site-packages/ot/bregman.py:517: UserWarning: Sinkhorn did not converge. You might want to increase the number of iterations `numItermax` or the regularization parameter `reg`.\n",
      "  warnings.warn(\"Sinkhorn did not converge. You might want to \"\n"
     ]
    },
    {
     "name": "stdout",
     "output_type": "stream",
     "text": [
      "iteration: 7\n",
      "iteration: 8\n",
      "iteration: 9\n",
      "iteration: 10\n"
     ]
    },
    {
     "name": "stderr",
     "output_type": "stream",
     "text": [
      "/home/wanxinli/miniconda3/lib/python3.9/site-packages/ot/bregman.py:517: UserWarning: Sinkhorn did not converge. You might want to increase the number of iterations `numItermax` or the regularization parameter `reg`.\n",
      "  warnings.warn(\"Sinkhorn did not converge. You might want to \"\n"
     ]
    },
    {
     "name": "stdout",
     "output_type": "stream",
     "text": [
      "iteration: 11\n",
      "iteration: 12\n",
      "iteration: 13\n",
      "iteration: 14\n",
      "iteration: 15\n",
      "iteration: 16\n",
      "iteration: 17\n",
      "iteration: 18\n",
      "iteration: 19\n",
      "iteration: 20\n"
     ]
    },
    {
     "name": "stderr",
     "output_type": "stream",
     "text": [
      "/home/wanxinli/miniconda3/lib/python3.9/site-packages/ot/bregman.py:517: UserWarning: Sinkhorn did not converge. You might want to increase the number of iterations `numItermax` or the regularization parameter `reg`.\n",
      "  warnings.warn(\"Sinkhorn did not converge. You might want to \"\n"
     ]
    },
    {
     "name": "stdout",
     "output_type": "stream",
     "text": [
      "iteration: 21\n",
      "iteration: 22\n",
      "iteration: 23\n",
      "iteration: 24\n",
      "iteration: 25\n",
      "iteration: 26\n",
      "iteration: 27\n"
     ]
    },
    {
     "name": "stderr",
     "output_type": "stream",
     "text": [
      "/home/wanxinli/miniconda3/lib/python3.9/site-packages/ot/bregman.py:517: UserWarning: Sinkhorn did not converge. You might want to increase the number of iterations `numItermax` or the regularization parameter `reg`.\n",
      "  warnings.warn(\"Sinkhorn did not converge. You might want to \"\n"
     ]
    },
    {
     "name": "stdout",
     "output_type": "stream",
     "text": [
      "iteration: 28\n",
      "iteration: 29\n",
      "iteration: 30\n",
      "iteration: 31\n",
      "iteration: 32\n",
      "iteration: 33\n"
     ]
    },
    {
     "name": "stderr",
     "output_type": "stream",
     "text": [
      "/home/wanxinli/miniconda3/lib/python3.9/site-packages/ot/bregman.py:517: UserWarning: Sinkhorn did not converge. You might want to increase the number of iterations `numItermax` or the regularization parameter `reg`.\n",
      "  warnings.warn(\"Sinkhorn did not converge. You might want to \"\n"
     ]
    },
    {
     "name": "stdout",
     "output_type": "stream",
     "text": [
      "iteration: 34\n"
     ]
    },
    {
     "name": "stderr",
     "output_type": "stream",
     "text": [
      "/home/wanxinli/miniconda3/lib/python3.9/site-packages/ot/bregman.py:517: UserWarning: Sinkhorn did not converge. You might want to increase the number of iterations `numItermax` or the regularization parameter `reg`.\n",
      "  warnings.warn(\"Sinkhorn did not converge. You might want to \"\n"
     ]
    },
    {
     "name": "stdout",
     "output_type": "stream",
     "text": [
      "iteration: 35\n"
     ]
    },
    {
     "name": "stderr",
     "output_type": "stream",
     "text": [
      "/home/wanxinli/miniconda3/lib/python3.9/site-packages/ot/bregman.py:517: UserWarning: Sinkhorn did not converge. You might want to increase the number of iterations `numItermax` or the regularization parameter `reg`.\n",
      "  warnings.warn(\"Sinkhorn did not converge. You might want to \"\n"
     ]
    },
    {
     "name": "stdout",
     "output_type": "stream",
     "text": [
      "iteration: 36\n",
      "iteration: 37\n"
     ]
    },
    {
     "name": "stderr",
     "output_type": "stream",
     "text": [
      "/home/wanxinli/miniconda3/lib/python3.9/site-packages/ot/bregman.py:517: UserWarning: Sinkhorn did not converge. You might want to increase the number of iterations `numItermax` or the regularization parameter `reg`.\n",
      "  warnings.warn(\"Sinkhorn did not converge. You might want to \"\n"
     ]
    },
    {
     "name": "stdout",
     "output_type": "stream",
     "text": [
      "iteration: 38\n"
     ]
    },
    {
     "name": "stderr",
     "output_type": "stream",
     "text": [
      "/home/wanxinli/miniconda3/lib/python3.9/site-packages/ot/bregman.py:517: UserWarning: Sinkhorn did not converge. You might want to increase the number of iterations `numItermax` or the regularization parameter `reg`.\n",
      "  warnings.warn(\"Sinkhorn did not converge. You might want to \"\n"
     ]
    },
    {
     "name": "stdout",
     "output_type": "stream",
     "text": [
      "iteration: 39\n",
      "iteration: 40\n",
      "iteration: 41\n",
      "iteration: 42\n",
      "iteration: 43\n"
     ]
    },
    {
     "name": "stderr",
     "output_type": "stream",
     "text": [
      "/home/wanxinli/miniconda3/lib/python3.9/site-packages/ot/bregman.py:517: UserWarning: Sinkhorn did not converge. You might want to increase the number of iterations `numItermax` or the regularization parameter `reg`.\n",
      "  warnings.warn(\"Sinkhorn did not converge. You might want to \"\n"
     ]
    },
    {
     "name": "stdout",
     "output_type": "stream",
     "text": [
      "iteration: 44\n"
     ]
    },
    {
     "name": "stderr",
     "output_type": "stream",
     "text": [
      "/home/wanxinli/miniconda3/lib/python3.9/site-packages/ot/bregman.py:517: UserWarning: Sinkhorn did not converge. You might want to increase the number of iterations `numItermax` or the regularization parameter `reg`.\n",
      "  warnings.warn(\"Sinkhorn did not converge. You might want to \"\n"
     ]
    },
    {
     "name": "stdout",
     "output_type": "stream",
     "text": [
      "iteration: 45\n",
      "iteration: 46\n",
      "iteration: 47\n"
     ]
    },
    {
     "name": "stderr",
     "output_type": "stream",
     "text": [
      "/home/wanxinli/miniconda3/lib/python3.9/site-packages/ot/bregman.py:517: UserWarning: Sinkhorn did not converge. You might want to increase the number of iterations `numItermax` or the regularization parameter `reg`.\n",
      "  warnings.warn(\"Sinkhorn did not converge. You might want to \"\n"
     ]
    },
    {
     "name": "stdout",
     "output_type": "stream",
     "text": [
      "iteration: 48\n",
      "iteration: 49\n"
     ]
    },
    {
     "name": "stderr",
     "output_type": "stream",
     "text": [
      "/home/wanxinli/miniconda3/lib/python3.9/site-packages/ot/bregman.py:517: UserWarning: Sinkhorn did not converge. You might want to increase the number of iterations `numItermax` or the regularization parameter `reg`.\n",
      "  warnings.warn(\"Sinkhorn did not converge. You might want to \"\n"
     ]
    },
    {
     "name": "stdout",
     "output_type": "stream",
     "text": [
      "iteration: 50\n",
      "iteration: 51\n",
      "iteration: 52\n",
      "iteration: 53\n",
      "iteration: 54\n",
      "iteration: 55\n",
      "iteration: 56\n",
      "iteration: 57\n",
      "iteration: 58\n"
     ]
    },
    {
     "name": "stderr",
     "output_type": "stream",
     "text": [
      "/home/wanxinli/miniconda3/lib/python3.9/site-packages/ot/bregman.py:517: UserWarning: Sinkhorn did not converge. You might want to increase the number of iterations `numItermax` or the regularization parameter `reg`.\n",
      "  warnings.warn(\"Sinkhorn did not converge. You might want to \"\n"
     ]
    },
    {
     "name": "stdout",
     "output_type": "stream",
     "text": [
      "iteration: 59\n"
     ]
    },
    {
     "name": "stderr",
     "output_type": "stream",
     "text": [
      "/home/wanxinli/miniconda3/lib/python3.9/site-packages/ot/bregman.py:517: UserWarning: Sinkhorn did not converge. You might want to increase the number of iterations `numItermax` or the regularization parameter `reg`.\n",
      "  warnings.warn(\"Sinkhorn did not converge. You might want to \"\n"
     ]
    },
    {
     "name": "stdout",
     "output_type": "stream",
     "text": [
      "iteration: 60\n"
     ]
    },
    {
     "name": "stderr",
     "output_type": "stream",
     "text": [
      "/home/wanxinli/miniconda3/lib/python3.9/site-packages/ot/bregman.py:517: UserWarning: Sinkhorn did not converge. You might want to increase the number of iterations `numItermax` or the regularization parameter `reg`.\n",
      "  warnings.warn(\"Sinkhorn did not converge. You might want to \"\n"
     ]
    },
    {
     "name": "stdout",
     "output_type": "stream",
     "text": [
      "iteration: 61\n",
      "iteration: 62\n",
      "iteration: 63\n",
      "iteration: 64\n",
      "iteration: 65\n"
     ]
    },
    {
     "name": "stderr",
     "output_type": "stream",
     "text": [
      "/home/wanxinli/miniconda3/lib/python3.9/site-packages/ot/bregman.py:517: UserWarning: Sinkhorn did not converge. You might want to increase the number of iterations `numItermax` or the regularization parameter `reg`.\n",
      "  warnings.warn(\"Sinkhorn did not converge. You might want to \"\n"
     ]
    },
    {
     "name": "stdout",
     "output_type": "stream",
     "text": [
      "iteration: 66\n",
      "iteration: 67\n",
      "iteration: 68\n",
      "iteration: 69\n",
      "iteration: 70\n",
      "iteration: 71\n",
      "iteration: 72\n"
     ]
    },
    {
     "name": "stderr",
     "output_type": "stream",
     "text": [
      "/home/wanxinli/miniconda3/lib/python3.9/site-packages/ot/bregman.py:517: UserWarning: Sinkhorn did not converge. You might want to increase the number of iterations `numItermax` or the regularization parameter `reg`.\n",
      "  warnings.warn(\"Sinkhorn did not converge. You might want to \"\n"
     ]
    },
    {
     "name": "stdout",
     "output_type": "stream",
     "text": [
      "iteration: 73\n",
      "iteration: 74\n",
      "iteration: 75\n"
     ]
    },
    {
     "name": "stderr",
     "output_type": "stream",
     "text": [
      "/home/wanxinli/miniconda3/lib/python3.9/site-packages/ot/bregman.py:517: UserWarning: Sinkhorn did not converge. You might want to increase the number of iterations `numItermax` or the regularization parameter `reg`.\n",
      "  warnings.warn(\"Sinkhorn did not converge. You might want to \"\n"
     ]
    },
    {
     "name": "stdout",
     "output_type": "stream",
     "text": [
      "iteration: 76\n"
     ]
    },
    {
     "name": "stderr",
     "output_type": "stream",
     "text": [
      "/home/wanxinli/miniconda3/lib/python3.9/site-packages/ot/bregman.py:517: UserWarning: Sinkhorn did not converge. You might want to increase the number of iterations `numItermax` or the regularization parameter `reg`.\n",
      "  warnings.warn(\"Sinkhorn did not converge. You might want to \"\n"
     ]
    },
    {
     "name": "stdout",
     "output_type": "stream",
     "text": [
      "iteration: 77\n",
      "iteration: 78\n",
      "iteration: 79\n"
     ]
    },
    {
     "name": "stderr",
     "output_type": "stream",
     "text": [
      "/home/wanxinli/miniconda3/lib/python3.9/site-packages/ot/bregman.py:517: UserWarning: Sinkhorn did not converge. You might want to increase the number of iterations `numItermax` or the regularization parameter `reg`.\n",
      "  warnings.warn(\"Sinkhorn did not converge. You might want to \"\n"
     ]
    },
    {
     "name": "stdout",
     "output_type": "stream",
     "text": [
      "iteration: 80\n",
      "iteration: 81\n",
      "iteration: 82\n",
      "iteration: 83\n",
      "iteration: 84\n",
      "iteration: 85\n",
      "iteration: 86\n",
      "iteration: 87\n",
      "iteration: 88\n",
      "iteration: 89\n",
      "iteration: 90\n",
      "iteration: 91\n",
      "iteration: 92\n",
      "iteration: 93\n"
     ]
    },
    {
     "name": "stderr",
     "output_type": "stream",
     "text": [
      "/home/wanxinli/miniconda3/lib/python3.9/site-packages/ot/bregman.py:517: UserWarning: Sinkhorn did not converge. You might want to increase the number of iterations `numItermax` or the regularization parameter `reg`.\n",
      "  warnings.warn(\"Sinkhorn did not converge. You might want to \"\n"
     ]
    },
    {
     "name": "stdout",
     "output_type": "stream",
     "text": [
      "iteration: 94\n",
      "iteration: 95\n",
      "iteration: 96\n",
      "iteration: 97\n",
      "iteration: 98\n",
      "iteration: 99\n"
     ]
    },
    {
     "data": {
      "text/plain": [
       "array([[41826629.41682713, 60266233.57892653, 41920813.76484368,\n",
       "        53372340.68307205, 40613137.59792712, 51292553.98074965],\n",
       "       [38444194.35328344, 52841925.64515185, 39233937.10473385,\n",
       "        49113534.96960729, 36665301.69581527, 47240202.09033557],\n",
       "       [30221833.0958898 , 46349704.2510138 , 36323621.88561714,\n",
       "        50751046.73242512, 34202409.2516145 , 49084063.66108678],\n",
       "       [40771205.56703936, 57190463.16419734, 45856821.58725139,\n",
       "        63944009.06888263, 43429436.10721308, 61749289.43858214],\n",
       "       [41685025.93419811, 56642290.01333436, 45254548.86452449,\n",
       "        57962362.48961519, 42870026.42068712, 56824725.59907165],\n",
       "       [30832304.13894251, 41166749.99413188, 42988892.5549381 ,\n",
       "        63322726.93014434, 40691745.01552015, 60810564.14844792],\n",
       "       [30004065.05913629, 40597965.6514059 , 36721162.22757008,\n",
       "        49828606.56591182, 35991579.95842145, 49971205.27504229],\n",
       "       [40083819.58370329, 61345666.91768181, 40938555.41117657,\n",
       "        57598524.16705558, 38083513.7194166 , 54424354.70082993],\n",
       "       [39596137.69169584, 54745348.75619216, 38476567.59452113,\n",
       "        47251035.16494555, 35938557.49244227, 43672850.5189699 ],\n",
       "       [37849276.91784775, 51199560.32626632, 41679560.06140138,\n",
       "        54427791.71444992, 41788626.92868613, 54285775.5225875 ],\n",
       "       [35829669.70037469, 53505744.26528384, 40003437.20073755,\n",
       "        55581905.12768043, 39743589.88536894, 55133596.6093799 ],\n",
       "       [32832443.81592847, 44134466.78910965, 38127715.76283231,\n",
       "        55957766.92955361, 34835683.73805227, 52237859.62008099],\n",
       "       [48344089.93146039, 63542110.77964537, 47868722.35466367,\n",
       "        62176926.31680664, 45558287.74897133, 59625745.50886707],\n",
       "       [28489302.54773054, 43461698.16981892, 39065257.60922662,\n",
       "        65835115.0111032 , 38365898.21136484, 65275536.97690975],\n",
       "       [44251646.84880218, 64317140.00009887, 45812978.69267621,\n",
       "        64721440.42753755, 43540494.29163365, 61997924.49053865],\n",
       "       [29766389.75893178, 43885238.78968432, 39472991.65982771,\n",
       "        54586345.46519767, 35619072.23380433, 51048742.11994273],\n",
       "       [36635225.01497486, 51995475.31758039, 34650335.48567659,\n",
       "        47308465.8125936 , 33689941.2516975 , 45894423.41308881],\n",
       "       [30441155.85366706, 40334829.29719733, 34359132.46416377,\n",
       "        47786224.14468144, 33165277.27492963, 46621332.56587376],\n",
       "       [33002064.00524029, 43816140.27300276, 38756795.69464348,\n",
       "        54395404.61481373, 35744909.1054317 , 53599774.04182873],\n",
       "       [32956721.50125851, 49853991.54115563, 41617464.04711815,\n",
       "        66711498.61103261, 38201016.01505907, 64047631.93250655],\n",
       "       [37023824.83261228, 53123779.51165974, 38237997.35722307,\n",
       "        51691237.03983393, 38090260.39197676, 52109199.48388639],\n",
       "       [42002971.79734618, 59782953.64830776, 46697039.48873074,\n",
       "        65278912.18438721, 43334289.44832949, 62879981.69402316],\n",
       "       [37514747.84309329, 54354573.4785684 , 40331948.20890301,\n",
       "        56034131.3922467 , 39180581.19432577, 53535433.31294516],\n",
       "       [29268361.0508656 , 45491651.30652083, 33163770.24157142,\n",
       "        49274201.10238316, 32908943.449537  , 48355854.17643335],\n",
       "       [36036658.33134572, 53427118.75850545, 42541809.52368595,\n",
       "        59437626.33750441, 40879613.31946667, 57967081.56099201],\n",
       "       [44254839.6051508 , 61967916.06512279, 52764093.46684909,\n",
       "        70044717.08472693, 47974305.94475304, 66088086.58376183],\n",
       "       [39271706.10849425, 50823025.52833   , 39330910.84731263,\n",
       "        47794416.0299423 , 36511141.11064991, 44534707.48978595],\n",
       "       [35569139.91128159, 50540413.79291878, 45998293.25710082,\n",
       "        64212051.37755444, 44463615.102415  , 63950245.12758735],\n",
       "       [38271994.75357645, 50802732.77922144, 35323875.61918256,\n",
       "        45993215.29011448, 33048625.11358018, 44067243.70781419],\n",
       "       [34070060.66177997, 49292737.59288343, 37407915.95611143,\n",
       "        53889271.35624665, 36325396.360425  , 52541404.31393573],\n",
       "       [36606313.07124349, 52907830.98279832, 36608393.21955825,\n",
       "        52906698.42915316, 37243539.54092225, 53733558.21853901],\n",
       "       [31322987.30114109, 45399611.76168358, 39541728.16856035,\n",
       "        50620782.14443051, 38558464.62637445, 49379520.08734798],\n",
       "       [32926171.29747683, 43242624.93716896, 36648088.54169375,\n",
       "        51726402.75938759, 34905658.74955519, 49021857.02899512],\n",
       "       [31268218.32633108, 47573082.53484104, 42335439.9592775 ,\n",
       "        63820249.15718196, 37249685.25311901, 59100186.78459654],\n",
       "       [31026266.78859233, 42084303.09475189, 38283977.36310558,\n",
       "        53360536.50358351, 36308684.70416931, 51798380.48686056],\n",
       "       [30023331.26233349, 43680368.26534101, 38612287.99274278,\n",
       "        54915016.05265144, 36047201.39914069, 52260314.40750366],\n",
       "       [43058571.04262618, 59034765.73448429, 47819077.13993572,\n",
       "        59980225.85182539, 44528639.702347  , 58886564.23640189],\n",
       "       [35299951.89379933, 49986409.0046805 , 46655843.91951068,\n",
       "        70540635.74955663, 43898122.75723233, 66083525.0314362 ],\n",
       "       [29004102.70093004, 41207725.29431489, 36249539.47149128,\n",
       "        53984369.25534164, 36411137.43070104, 54542209.04349025],\n",
       "       [34520612.22263409, 46116755.45400961, 37009246.35374647,\n",
       "        48971479.72640379, 35979452.71770461, 47306609.78567547],\n",
       "       [30963069.44613116, 44438155.70548761, 42487876.59360578,\n",
       "        54134538.69907168, 39960163.2747613 , 53203852.20450979],\n",
       "       [27822703.72665887, 41658611.44225226, 37030874.61784718,\n",
       "        53076775.61530644, 36792728.65652339, 52482811.45284726],\n",
       "       [34452684.96603314, 49358946.8683041 , 41840886.00730866,\n",
       "        58222402.68754279, 38690992.04574874, 56171006.53748583],\n",
       "       [38666251.0360479 , 52155254.66415162, 50344057.71929008,\n",
       "        69786799.46359399, 46040659.29601612, 66129112.72112355],\n",
       "       [29672545.61130513, 43276483.46436182, 34116913.10140736,\n",
       "        45884897.18000872, 31554365.48420764, 43214948.50933938],\n",
       "       [34259662.70589683, 47465374.23155206, 40713630.3912162 ,\n",
       "        53417893.78629056, 37017693.11763536, 51413272.05802418],\n",
       "       [35804882.65340977, 50692366.00770102, 36201035.35888898,\n",
       "        46871407.59384647, 34527589.05259134, 45009272.09075179],\n",
       "       [26668974.80178662, 39772745.45246314, 37662788.34026675,\n",
       "        59992162.5015898 , 35890849.88486888, 59351072.21268844],\n",
       "       [42606594.08358069, 62312880.02795938, 44242676.55598422,\n",
       "        59205481.05063371, 43445987.66754843, 59110399.32712841],\n",
       "       [39967346.22544462, 55190130.85327347, 43747518.81646177,\n",
       "        63882420.33432081, 43300251.93651076, 62408755.77227361],\n",
       "       [40992804.8815894 , 57452503.78968474, 37114284.60702702,\n",
       "        47025546.81166533, 34961065.20158468, 42806085.28325583],\n",
       "       [32799221.41674031, 47331226.33564451, 38617683.92622536,\n",
       "        60347011.40357371, 38712350.25458351, 59924886.82854678],\n",
       "       [44241943.67005153, 62880264.32229619, 38051722.60411522,\n",
       "        46509065.87692127, 35689849.48135476, 43305840.80898252],\n",
       "       [40734879.32513224, 60566916.56369375, 43212636.99437267,\n",
       "        54386763.44332575, 39661908.57090002, 51391132.32086769],\n",
       "       [34805985.27231087, 48064197.223969  , 39330016.90794814,\n",
       "        58194578.01245149, 37244757.22209669, 54915846.90331668],\n",
       "       [39733944.53064429, 54214193.73053771, 37657410.4104404 ,\n",
       "        47007389.98155792, 36711359.37008612, 46539568.09916465],\n",
       "       [26906247.50891751, 39707512.94995578, 35684645.81068944,\n",
       "        51500291.46207229, 31244941.17286248, 47306314.85925345],\n",
       "       [27288457.18061639, 38851906.02842366, 36392251.04330007,\n",
       "        50090852.3462913 , 34038424.24151127, 47238715.81006168],\n",
       "       [34856311.68610159, 51582191.90585396, 43081074.2420251 ,\n",
       "        56647461.72008594, 40082726.18893957, 54565081.82188086],\n",
       "       [40676826.10023287, 61744020.46985611, 43521122.80742544,\n",
       "        61553865.42513374, 41710181.524555  , 59888590.31508487],\n",
       "       [38421317.94692149, 50266367.79521906, 42065237.20542498,\n",
       "        52175501.53799152, 40649205.3366846 , 49320367.59837186],\n",
       "       [42243302.11533149, 58337320.39908034, 44821892.73953635,\n",
       "        61049986.56518757, 42020029.49702411, 57002335.07611983],\n",
       "       [42443692.37288924, 60504864.36721618, 48146056.42103654,\n",
       "        65185545.23478065, 43160390.18749553, 60583542.01691385],\n",
       "       [33615297.00098596, 50820512.03085437, 40657246.82653318,\n",
       "        59988863.4843116 , 39737143.06340931, 59373255.26831458],\n",
       "       [37166012.28760384, 51021640.50761216, 42017485.7859343 ,\n",
       "        53093806.16726284, 39822480.46517722, 50032888.4717606 ],\n",
       "       [34125281.19856193, 47919713.35672501, 42790338.75196176,\n",
       "        60497006.33695229, 38826852.54084159, 57730425.35647865],\n",
       "       [34408286.1767414 , 51765322.01895837, 41886121.21806931,\n",
       "        54416019.2676578 , 37191155.06366569, 50670543.31627489],\n",
       "       [36184651.19378129, 51168517.93532971, 43450915.74457534,\n",
       "        62186254.32808065, 41449701.04326021, 61799771.41236798],\n",
       "       [35621713.87063732, 50912055.63064016, 35146424.07741827,\n",
       "        52674743.01213144, 32363092.6375996 , 48015848.20696672],\n",
       "       [32087203.89889373, 42563282.00775991, 40509224.02725422,\n",
       "        52283840.81104495, 38730161.79764636, 51981708.92009828],\n",
       "       [33332097.3287076 , 45665946.25639133, 38110473.07397062,\n",
       "        62665477.81402501, 36434418.17400852, 58929319.48357498],\n",
       "       [34044078.32826305, 45833053.53900351, 36429900.69213272,\n",
       "        49378835.84718672, 37083499.76628885, 49990041.29409268],\n",
       "       [40825882.30454221, 57653667.18522513, 40331586.01530841,\n",
       "        50371011.40102395, 37055221.12410893, 46204539.26134735],\n",
       "       [31759684.26474903, 47383420.5705516 , 39526280.70179827,\n",
       "        58788164.34794497, 37956897.52705066, 57805755.54761364],\n",
       "       [25402926.60324734, 35765477.11018022, 39989299.5447699 ,\n",
       "        61823070.384231  , 38995244.94692646, 60075259.57074686],\n",
       "       [32271620.4411116 , 51972030.8167015 , 40414537.60464863,\n",
       "        55475239.81050063, 39107590.88156663, 55297705.08980551],\n",
       "       [35461934.01284972, 48694309.24364262, 39450348.5553686 ,\n",
       "        50446955.55288205, 37759884.25378135, 48313740.74413893],\n",
       "       [36491929.51417556, 53226866.96163637, 38863771.71790551,\n",
       "        51801094.1487881 , 38040713.20212448, 51630879.05218503],\n",
       "       [37120778.04504714, 47783486.99335161, 37761175.09305009,\n",
       "        49961002.58999915, 35173674.93969846, 46640859.69509423],\n",
       "       [30071633.62767732, 38921188.78244817, 38288844.41189062,\n",
       "        53379231.43790864, 35904999.75426146, 50785830.74434298],\n",
       "       [27212932.31548462, 38064575.10661449, 38244925.91511576,\n",
       "        55423392.85652065, 35332016.85079242, 53760605.31694775],\n",
       "       [29751932.64763619, 42916065.09094723, 33770796.27641967,\n",
       "        46330804.80918987, 31053478.05125495, 44415759.00688561],\n",
       "       [42054276.26065619, 58290768.54863381, 38647956.22327746,\n",
       "        53428519.30221122, 38902499.97277322, 51414623.22967563],\n",
       "       [28630191.43919569, 39961649.69774387, 41909921.79783451,\n",
       "        64796252.07652164, 38598983.6830886 , 62315998.73275697],\n",
       "       [37332888.61350942, 54823848.25101331, 39755140.31972308,\n",
       "        52166402.52560844, 38188443.73818972, 52266097.09650329],\n",
       "       [28866421.08104111, 39671788.5596186 , 39534531.29748926,\n",
       "        61238317.92751461, 35946835.74005773, 58322859.79209936],\n",
       "       [29324617.21767379, 48670915.41618426, 42659987.76176541,\n",
       "        59842469.0427798 , 39762936.76862345, 58919169.3043618 ],\n",
       "       [35325114.16729061, 50246598.72213873, 33335424.63107494,\n",
       "        46405266.06184507, 33421314.3341857 , 48580862.84383018],\n",
       "       [32614911.59554191, 52568879.81275929, 36814246.60982048,\n",
       "        55853377.64392295, 37159508.50587776, 58381481.27615139],\n",
       "       [41844287.85275559, 57420678.06746718, 44523733.38892433,\n",
       "        62087795.05351435, 40977124.83274434, 57141012.33403376],\n",
       "       [35515937.04380651, 49336470.98435822, 36219094.01460811,\n",
       "        48832395.87278183, 33641716.99521398, 45762712.4684326 ],\n",
       "       [33759473.90283051, 48428920.42046629, 39772007.4087617 ,\n",
       "        55156413.02107251, 39648626.225137  , 54882556.16864999],\n",
       "       [43482160.29103508, 61635881.41827419, 46746009.9776527 ,\n",
       "        61432678.5636588 , 43771839.06927282, 58788475.60984939],\n",
       "       [40427473.45433795, 56124252.28418943, 44003403.99966832,\n",
       "        63502709.66889314, 42649122.27851277, 60368343.0977584 ],\n",
       "       [44091206.75631459, 65293445.90798433, 40197272.37053632,\n",
       "        53372216.69942677, 35250851.84548607, 47430100.81489487],\n",
       "       [32814253.5113295 , 45929662.53324857, 40320893.59821128,\n",
       "        57458380.62790697, 42257717.38095964, 59094906.3545325 ],\n",
       "       [35257867.69414792, 48733983.3321918 , 46937540.56649864,\n",
       "        68953475.73225929, 45951946.20763581, 66380945.70452034],\n",
       "       [36031627.70390277, 50154306.61496112, 37899551.32935911,\n",
       "        50450319.69671132, 34143326.09673699, 46869808.29364787],\n",
       "       [43516249.46295573, 61187422.58221107, 48229614.9015364 ,\n",
       "        57675359.80939879, 42334952.10383591, 51776640.157227  ],\n",
       "       [36974596.84382738, 55231042.09679992, 47638034.28605239,\n",
       "        61218245.43869613, 41878761.57076862, 55168584.58926165]])"
      ]
     },
     "execution_count": 30,
     "metadata": {},
     "output_type": "execute_result"
    }
   ],
   "source": [
    "\"\"\" \n",
    "Run multiple iterations using Linear regression\n",
    "\"\"\"\n",
    "\n",
    "score_path = os.path.join(output_dir, \"exp5_linear_score_\"+str(n_components)+\".csv\")\n",
    "multi_proc_cts(score_path, n_components, cons_visits_df, custom_train_reps, \\\n",
    "    male_count, female_count, model_func = linear_model.LinearRegression, iteration=100)"
   ]
  },
  {
   "cell_type": "code",
   "execution_count": 32,
   "metadata": {},
   "outputs": [],
   "source": [
    "# score_path = os.path.join(output_dir, \"exp5_linear_score.csv\")\n",
    "# save_path = \"../../outputs/mimic/exp5_linear_res.png\"\n",
    "\n",
    "# box_plot_cts_short(score_path, save_path=save_path)"
   ]
  },
  {
   "cell_type": "code",
   "execution_count": 33,
   "metadata": {},
   "outputs": [
    {
     "data": {
      "image/png": "[encoded data removed]",
      "text/plain": [
       "<Figure size 800x400 with 2 Axes>"
      ]
     },
     "metadata": {},
     "output_type": "display_data"
    }
   ],
   "source": [
    "def special_div(x, y):\n",
    "    \"\"\" \n",
    "    Special division operation\n",
    "    \"\"\"\n",
    "    if y == 0:\n",
    "        y = 1e-5\n",
    "    return x/y\n",
    "\n",
    "fig, axes = plt.subplots(nrows=1, ncols=2)\n",
    "fig.set_figheight(4)\n",
    "fig.set_figwidth(8)\n",
    "title_size = 15\n",
    "text_size = 12\n",
    "\n",
    "# plt.subplot(1,2,1)\n",
    "score_path = os.path.join(output_dir, \"exp5_linear_score_\"+str(n_components)+\".csv\")\n",
    "\n",
    "scores_df = pd.read_csv(score_path, index_col=None, header=0)\n",
    "\n",
    "source_mae = scores_df['source_mae']\n",
    "source_rmse = scores_df['source_rmse']\n",
    "\n",
    "trans_source_mae = scores_df['trans_source_mae']\n",
    "trans_source_rmse = scores_df['trans_source_rmse']\n",
    "\n",
    "# transported source to source mae\n",
    "trans_source_source_mae = [special_div(i, j) for i, j in zip(trans_source_mae, source_mae)]\n",
    "\n",
    "# transported source to source rmse\n",
    "trans_source_source_rmse = [special_div(i, j) for i, j in zip(trans_source_rmse, source_rmse)]\n",
    "\n",
    "\n",
    "# Pandas dataframe\n",
    "data = pd.DataFrame({\n",
    "    'MAE': trans_source_source_mae,\n",
    "    'RMSE': trans_source_source_rmse\n",
    "})\n",
    "\n",
    "# Plot the dataframe\n",
    "ax = data[['MAE', 'RMSE']].plot(kind='box', ax=axes[0])\n",
    "\n",
    "# Plot the baseline\n",
    "ax.axhline(y = 1, color = 'r', linestyle = '-')\n",
    "\n",
    "ax.tick_params(labelsize=text_size)\n",
    "ax.set_ylim(0, 1.2)\n",
    "ax.set_title(\"(a) Linear\", fontweight='bold', loc='left', fontsize=title_size)\n",
    "\n",
    "######################################################\n",
    "\n",
    "score_path = os.path.join(output_dir, \"exp5_poisson_score_\"+str(n_components)+\".csv\")\n",
    "\n",
    "scores_df = pd.read_csv(score_path, index_col=None, header=0)\n",
    "\n",
    "source_mae = scores_df['source_mae']\n",
    "source_rmse = scores_df['source_rmse']\n",
    "\n",
    "trans_source_mae = scores_df['trans_source_mae']\n",
    "trans_source_rmse = scores_df['trans_source_rmse']\n",
    "\n",
    "# transported source to source mae\n",
    "trans_source_source_mae = [special_div(i, j) for i, j in zip(trans_source_mae, source_mae)]\n",
    "\n",
    "# transported source to source rmse\n",
    "trans_source_source_rmse = [special_div(i, j) for i, j in zip(trans_source_rmse, source_rmse)]\n",
    "\n",
    "\n",
    "# Pandas dataframe\n",
    "data = pd.DataFrame({\n",
    "    'MAE': trans_source_source_mae,\n",
    "    'RMSE': trans_source_source_rmse\n",
    "})\n",
    "\n",
    "# Plot the dataframe\n",
    "ax = data[['MAE', 'RMSE']].plot(kind='box', ax=axes[1])\n",
    "\n",
    "# Plot the baseline\n",
    "ax.axhline(y = 1, color = 'r', linestyle = '-')\n",
    "\n",
    "ax.tick_params(labelsize=text_size)\n",
    "ax.set_ylim(0, 1.2)\n",
    "plt.title(\"(b) Poisson\", fontweight='bold', loc='left', fontsize=title_size)\n",
    "plt.tight_layout()\n",
    "\n",
    "save_path = os.path.join(output_dir, \"exp5_res_\"+str(n_components)+\".pdf\")\n",
    "plt.savefig(save_path, bbox_inches='tight')\n",
    "plt.show()"
   ]
  },
  {
   "cell_type": "code",
   "execution_count": null,
   "metadata": {},
   "outputs": [],
   "source": []
  }
 ],
 "metadata": {
  "kernelspec": {
   "display_name": "base",
   "language": "python",
   "name": "python3"
  },
  "language_info": {
   "codemirror_mode": {
    "name": "ipython",
    "version": 3
   },
   "file_extension": ".py",
   "mimetype": "text/x-python",
   "name": "python",
   "nbconvert_exporter": "python",
   "pygments_lexer": "ipython3",
   "version": "3.9.12"
  },
  "orig_nbformat": 4,
  "vscode": {
   "interpreter": {
    "hash": "e0a164c7fb95af65e1e713e004e1e0ea55c462cdd13e4bdabca6fd60bd9f3176"
   }
  }
 },
 "nbformat": 4,
 "nbformat_minor": 2
}
