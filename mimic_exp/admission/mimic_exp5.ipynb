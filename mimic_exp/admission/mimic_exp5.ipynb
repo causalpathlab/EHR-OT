{
 "cells": [
  {
   "attachments": {},
   "cell_type": "markdown",
   "metadata": {},
   "source": [
    "# Regression task: the time interval between two consecutive visits for the same patient ~ ICD diagnosis code"
   ]
  },
  {
   "attachments": {},
   "cell_type": "markdown",
   "metadata": {},
   "source": [
    "## Prepare the dataset"
   ]
  },
  {
   "cell_type": "code",
   "execution_count": 1,
   "metadata": {},
   "outputs": [
    {
     "data": {
      "text/plain": [
       "' \\nPatient ID -> admission ID\\n'"
      ]
     },
     "execution_count": 1,
     "metadata": {},
     "output_type": "execute_result"
    }
   ],
   "source": [
    "\"\"\" \n",
    "Patient ID -> admission ID\n",
    "\"\"\""
   ]
  },
  {
   "cell_type": "code",
   "execution_count": 2,
   "metadata": {},
   "outputs": [
    {
     "name": "stderr",
     "output_type": "stream",
     "text": [
      "/home/wanxinli/miniconda3/lib/python3.9/site-packages/tqdm/auto.py:22: TqdmWarning: IProgress not found. Please update jupyter and ipywidgets. See https://ipywidgets.readthedocs.io/en/stable/user_install.html\n",
      "  from .autonotebook import tqdm as notebook_tqdm\n"
     ]
    }
   ],
   "source": [
    "import sys\n",
    "sys.path.append(\"/home/wanxinli/deep_patient/\")\n",
    "\n",
    "from datetime import datetime\n",
    "from mimic_common import *\n",
    "import os\n",
    "import pandas as pd\n",
    "from sklearn.decomposition import PCA\n",
    "from sklearn import gaussian_process\n",
    "\n"
   ]
  },
  {
   "cell_type": "code",
   "execution_count": 3,
   "metadata": {},
   "outputs": [
    {
     "name": "stdout",
     "output_type": "stream",
     "text": [
      "Will save outputs to /home/wanxinli/deep_patient/outputs/mimic\n",
      "Will read data from /home/wanxinli/deep_patient/mimic_exp/mimiciii\n"
     ]
    }
   ],
   "source": [
    "output_dir = os.path.join(os.path.expanduser(\"~\"), f\"deep_patient/outputs/mimic\")\n",
    "print(f\"Will save outputs to {output_dir}\")\n",
    "data_dir = os.path.join(os.path.expanduser(\"~\"), f\"deep_patient/mimic_exp/mimiciii\")\n",
    "print(f\"Will read data from {data_dir}\")"
   ]
  },
  {
   "cell_type": "code",
   "execution_count": 4,
   "metadata": {},
   "outputs": [],
   "source": [
    "admission_file = os.path.join(data_dir, \"ADMISSIONS.csv\")\n",
    "diagnosis_file = os.path.join(data_dir, \"DIAGNOSES_ICD.csv\")\n",
    "patient_file = os.path.join(data_dir, \"PATIENTS.csv\")"
   ]
  },
  {
   "cell_type": "code",
   "execution_count": 5,
   "metadata": {},
   "outputs": [],
   "source": [
    "pid_adms, pid_gender, adm_date, admid_codes, pid_visits = build_maps(admission_file, diagnosis_file, patient_file)\n"
   ]
  },
  {
   "cell_type": "code",
   "execution_count": 6,
   "metadata": {},
   "outputs": [],
   "source": [
    "# print(pid_visits)"
   ]
  },
  {
   "cell_type": "code",
   "execution_count": 7,
   "metadata": {},
   "outputs": [
    {
     "data": {
      "text/html": [
       "<div>\n",
       "<style scoped>\n",
       "    .dataframe tbody tr th:only-of-type {\n",
       "        vertical-align: middle;\n",
       "    }\n",
       "\n",
       "    .dataframe tbody tr th {\n",
       "        vertical-align: top;\n",
       "    }\n",
       "\n",
       "    .dataframe thead th {\n",
       "        text-align: right;\n",
       "    }\n",
       "</style>\n",
       "<table border=\"1\" class=\"dataframe\">\n",
       "  <thead>\n",
       "    <tr style=\"text-align: right;\">\n",
       "      <th></th>\n",
       "      <th>gender</th>\n",
       "      <th>duration</th>\n",
       "      <th>ICD codes</th>\n",
       "    </tr>\n",
       "  </thead>\n",
       "  <tbody>\n",
       "    <tr>\n",
       "      <th>0</th>\n",
       "      <td>M</td>\n",
       "      <td>130162740.0</td>\n",
       "      <td>[41401, 4111, 4241, V4582, 2724, 4019, 60000, ...</td>\n",
       "    </tr>\n",
       "    <tr>\n",
       "      <th>1</th>\n",
       "      <td>M</td>\n",
       "      <td>145197420.0</td>\n",
       "      <td>[41071, 4280, 4254, 42731, 9971, 4260, 41401, ...</td>\n",
       "    </tr>\n",
       "    <tr>\n",
       "      <th>2</th>\n",
       "      <td>M</td>\n",
       "      <td>1082040.0</td>\n",
       "      <td>[41401, 4111, 496, 4019, 3051, 53081, 60000, V...</td>\n",
       "    </tr>\n",
       "    <tr>\n",
       "      <th>3</th>\n",
       "      <td>M</td>\n",
       "      <td>94491660.0</td>\n",
       "      <td>[99831, 99811, 41511, 4538, 99672, 496, 41401,...</td>\n",
       "    </tr>\n",
       "    <tr>\n",
       "      <th>4</th>\n",
       "      <td>M</td>\n",
       "      <td>20640960.0</td>\n",
       "      <td>[5715, 5722, 2867, 45620, 3453, 48241, 51881, ...</td>\n",
       "    </tr>\n",
       "    <tr>\n",
       "      <th>...</th>\n",
       "      <td>...</td>\n",
       "      <td>...</td>\n",
       "      <td>...</td>\n",
       "    </tr>\n",
       "    <tr>\n",
       "      <th>12451</th>\n",
       "      <td>M</td>\n",
       "      <td>9735840.0</td>\n",
       "      <td>[42731, 56211, V1051]</td>\n",
       "    </tr>\n",
       "    <tr>\n",
       "      <th>12452</th>\n",
       "      <td>M</td>\n",
       "      <td>8103720.0</td>\n",
       "      <td>[99859, 0389, 99592, 78552, 5849, 5990, 42830,...</td>\n",
       "    </tr>\n",
       "    <tr>\n",
       "      <th>12453</th>\n",
       "      <td>F</td>\n",
       "      <td>2644440.0</td>\n",
       "      <td>[4373, 4019, 2449, 59651, 49390, V1052]</td>\n",
       "    </tr>\n",
       "    <tr>\n",
       "      <th>12454</th>\n",
       "      <td>F</td>\n",
       "      <td>1994400.0</td>\n",
       "      <td>[5363, 5641]</td>\n",
       "    </tr>\n",
       "    <tr>\n",
       "      <th>12455</th>\n",
       "      <td>F</td>\n",
       "      <td>107847480.0</td>\n",
       "      <td>[53642, 5793, 5370, 56782, 78909, E8798, 5363,...</td>\n",
       "    </tr>\n",
       "  </tbody>\n",
       "</table>\n",
       "<p>12456 rows × 3 columns</p>\n",
       "</div>"
      ],
      "text/plain": [
       "      gender     duration                                          ICD codes\n",
       "0          M  130162740.0  [41401, 4111, 4241, V4582, 2724, 4019, 60000, ...\n",
       "1          M  145197420.0  [41071, 4280, 4254, 42731, 9971, 4260, 41401, ...\n",
       "2          M    1082040.0  [41401, 4111, 496, 4019, 3051, 53081, 60000, V...\n",
       "3          M   94491660.0  [99831, 99811, 41511, 4538, 99672, 496, 41401,...\n",
       "4          M   20640960.0  [5715, 5722, 2867, 45620, 3453, 48241, 51881, ...\n",
       "...      ...          ...                                                ...\n",
       "12451      M    9735840.0                              [42731, 56211, V1051]\n",
       "12452      M    8103720.0  [99859, 0389, 99592, 78552, 5849, 5990, 42830,...\n",
       "12453      F    2644440.0            [4373, 4019, 2449, 59651, 49390, V1052]\n",
       "12454      F    1994400.0                                       [5363, 5641]\n",
       "12455      F  107847480.0  [53642, 5793, 5370, 56782, 78909, E8798, 5363,...\n",
       "\n",
       "[12456 rows x 3 columns]"
      ]
     },
     "execution_count": 7,
     "metadata": {},
     "output_type": "execute_result"
    }
   ],
   "source": [
    "# construct codes (ICD codes for the first visits), and durations (time interval until the next visit)\n",
    "\n",
    "codes = []\n",
    "durations = []\n",
    "genders = []\n",
    "for pid, visits in pid_visits.items():\n",
    "    for i, cur_visit in enumerate(visits):\n",
    "        if i == len(visits)-1: # stop on the last element\n",
    "            break \n",
    "        next_visit = visits[i+1]\n",
    "        # print(next_visit)\n",
    "        cur_codes = cur_visit[1]\n",
    "        # print(codes)\n",
    "        duration = (next_visit[0]-cur_visit[0]).total_seconds()\n",
    "        codes.append(cur_codes)\n",
    "        durations.append(duration)\n",
    "        genders.append(pid_gender[pid])\n",
    "\n",
    "\n",
    "cons_visits_df = pd.DataFrame(columns=['gender', 'duration', 'ICD codes'])\n",
    "cons_visits_df['gender'] = genders\n",
    "cons_visits_df['duration'] = durations\n",
    "cons_visits_df['ICD codes'] = codes\n",
    "cons_visits_df.to_csv(os.path.join(output_dir, \"CONS_VISITS.csv\"), index=False, header=True)\n",
    "\n",
    "cons_visits_df"
   ]
  },
  {
   "cell_type": "code",
   "execution_count": 8,
   "metadata": {},
   "outputs": [
    {
     "name": "stdout",
     "output_type": "stream",
     "text": [
      "female count is: 5627\n",
      "male count is: 6829\n"
     ]
    }
   ],
   "source": [
    "\"\"\" \n",
    "Outputs consecutive visit stats\n",
    "\"\"\"\n",
    "female_count = cons_visits_df.loc[(cons_visits_df['gender'] == 'F')].shape[0]\n",
    "male_count = cons_visits_df.loc[(cons_visits_df['gender'] == 'M')].shape[0]\n",
    "print(\"female count is:\", female_count)\n",
    "print(\"male count is:\", male_count)"
   ]
  },
  {
   "cell_type": "code",
   "execution_count": 9,
   "metadata": {},
   "outputs": [],
   "source": [
    "\"\"\"\n",
    "Train deep patient model and generate representations for targets and sources\n",
    "\"\"\"\n",
    "\n",
    "def custom_train_reps(target_features, source_features, n_components, pca_explain=False):\n",
    "    \"\"\" \n",
    "    Customized training algorithm for generating target representations and source representations\n",
    "\n",
    "    :param bool pca_explain: print the explained variance of each components\n",
    "    \n",
    "    :returns: target representations, source representations\n",
    "    \"\"\"\n",
    "    source_pca = PCA(n_components=n_components)\n",
    "    target_pca = PCA(n_components=n_components)\n",
    "    target_reps = target_pca.fit_transform(target_features)\n",
    "    source_reps = source_pca.fit_transform(source_features)\n",
    "\n",
    "    if pca_explain:\n",
    "        source_exp_var = source_pca.explained_variance_ratio_\n",
    "        source_cum_sum_var = np.cumsum(source_exp_var)\n",
    "        target_exp_var = target_pca.explained_variance_ratio_\n",
    "        target_cum_sum_var = np.cumsum(target_exp_var)\n",
    "        print(\"Cummulative variance explained by the source PCA is:\", source_cum_sum_var)\n",
    "        print(\"Cummulative variance explained by the target PCA is:\", target_cum_sum_var)\n",
    "\n",
    "    return target_reps, source_reps"
   ]
  },
  {
   "cell_type": "code",
   "execution_count": 10,
   "metadata": {},
   "outputs": [
    {
     "data": {
      "text/plain": [
       "(21953060.72000801,\n",
       " 34205649.9998991,\n",
       " 469216587.4514893,\n",
       " 4041851855.702548,\n",
       " 36540680.31783919,\n",
       " 58158727.19578475)"
      ]
     },
     "execution_count": 10,
     "metadata": {},
     "output_type": "execute_result"
    }
   ],
   "source": [
    "n_components = 50\n",
    "model_func = linear_model.PoissonRegressor\n",
    "entire_proc_cts(n_components, cons_visits_df, custom_train_reps, model_func, male_count = 120, female_count = 100, pca_explain=False)"
   ]
  },
  {
   "cell_type": "code",
   "execution_count": 11,
   "metadata": {},
   "outputs": [
    {
     "data": {
      "text/plain": [
       "(32398207.2632488,\n",
       " 46705008.66182081,\n",
       " 45610881.770895936,\n",
       " 64092019.82989011,\n",
       " 40707236.717793494,\n",
       " 59716592.300502874)"
      ]
     },
     "execution_count": 11,
     "metadata": {},
     "output_type": "execute_result"
    }
   ],
   "source": [
    "model_func = linear_model.LinearRegression\n",
    "entire_proc_cts(n_components, cons_visits_df, custom_train_reps, model_func, male_count = 120, female_count = 100, pca_explain=False)"
   ]
  },
  {
   "cell_type": "code",
   "execution_count": 12,
   "metadata": {},
   "outputs": [
    {
     "name": "stdout",
     "output_type": "stream",
     "text": [
      "iteration: 0\n",
      "iteration: 1\n",
      "iteration: 2\n",
      "iteration: 3\n",
      "iteration: 4\n",
      "iteration: 5\n"
     ]
    },
    {
     "name": "stderr",
     "output_type": "stream",
     "text": [
      "/home/wanxinli/miniconda3/lib/python3.9/site-packages/ot/bregman.py:517: UserWarning: Sinkhorn did not converge. You might want to increase the number of iterations `numItermax` or the regularization parameter `reg`.\n",
      "  warnings.warn(\"Sinkhorn did not converge. You might want to \"\n"
     ]
    },
    {
     "name": "stdout",
     "output_type": "stream",
     "text": [
      "iteration: 6\n",
      "iteration: 7\n",
      "iteration: 8\n",
      "iteration: 9\n",
      "iteration: 10\n",
      "iteration: 11\n"
     ]
    },
    {
     "name": "stderr",
     "output_type": "stream",
     "text": [
      "/home/wanxinli/miniconda3/lib/python3.9/site-packages/ot/bregman.py:517: UserWarning: Sinkhorn did not converge. You might want to increase the number of iterations `numItermax` or the regularization parameter `reg`.\n",
      "  warnings.warn(\"Sinkhorn did not converge. You might want to \"\n"
     ]
    },
    {
     "name": "stdout",
     "output_type": "stream",
     "text": [
      "iteration: 12\n",
      "iteration: 13\n",
      "iteration: 14\n",
      "iteration: 15\n",
      "iteration: 16\n",
      "iteration: 17\n",
      "iteration: 18\n",
      "iteration: 19\n",
      "iteration: 20\n",
      "iteration: 21\n",
      "iteration: 22\n",
      "iteration: 23\n",
      "iteration: 24\n",
      "iteration: 25\n",
      "iteration: 26\n",
      "iteration: 27\n",
      "iteration: 28\n"
     ]
    },
    {
     "name": "stderr",
     "output_type": "stream",
     "text": [
      "/home/wanxinli/miniconda3/lib/python3.9/site-packages/ot/bregman.py:517: UserWarning: Sinkhorn did not converge. You might want to increase the number of iterations `numItermax` or the regularization parameter `reg`.\n",
      "  warnings.warn(\"Sinkhorn did not converge. You might want to \"\n"
     ]
    },
    {
     "name": "stdout",
     "output_type": "stream",
     "text": [
      "iteration: 29\n"
     ]
    },
    {
     "name": "stderr",
     "output_type": "stream",
     "text": [
      "/home/wanxinli/miniconda3/lib/python3.9/site-packages/ot/bregman.py:517: UserWarning: Sinkhorn did not converge. You might want to increase the number of iterations `numItermax` or the regularization parameter `reg`.\n",
      "  warnings.warn(\"Sinkhorn did not converge. You might want to \"\n"
     ]
    },
    {
     "name": "stdout",
     "output_type": "stream",
     "text": [
      "iteration: 30\n",
      "iteration: 31\n",
      "iteration: 32\n",
      "iteration: 33\n",
      "iteration: 34\n",
      "iteration: 35\n",
      "iteration: 36\n",
      "iteration: 37\n",
      "iteration: 38\n",
      "iteration: 39\n",
      "iteration: 40\n",
      "iteration: 41\n",
      "iteration: 42\n",
      "iteration: 43\n",
      "iteration: 44\n",
      "iteration: 45\n",
      "iteration: 46\n",
      "iteration: 47\n"
     ]
    },
    {
     "name": "stderr",
     "output_type": "stream",
     "text": [
      "/home/wanxinli/miniconda3/lib/python3.9/site-packages/ot/bregman.py:517: UserWarning: Sinkhorn did not converge. You might want to increase the number of iterations `numItermax` or the regularization parameter `reg`.\n",
      "  warnings.warn(\"Sinkhorn did not converge. You might want to \"\n"
     ]
    },
    {
     "name": "stdout",
     "output_type": "stream",
     "text": [
      "iteration: 48\n",
      "iteration: 49\n",
      "iteration: 50\n",
      "iteration: 51\n",
      "iteration: 52\n",
      "iteration: 53\n",
      "iteration: 54\n",
      "iteration: 55\n",
      "iteration: 56\n",
      "iteration: 57\n",
      "iteration: 58\n"
     ]
    },
    {
     "name": "stderr",
     "output_type": "stream",
     "text": [
      "/home/wanxinli/miniconda3/lib/python3.9/site-packages/ot/bregman.py:517: UserWarning: Sinkhorn did not converge. You might want to increase the number of iterations `numItermax` or the regularization parameter `reg`.\n",
      "  warnings.warn(\"Sinkhorn did not converge. You might want to \"\n"
     ]
    },
    {
     "name": "stdout",
     "output_type": "stream",
     "text": [
      "iteration: 59\n",
      "iteration: 60\n",
      "iteration: 61\n",
      "iteration: 62\n",
      "iteration: 63\n",
      "iteration: 64\n",
      "iteration: 65\n",
      "iteration: 66\n",
      "iteration: 67\n"
     ]
    },
    {
     "name": "stderr",
     "output_type": "stream",
     "text": [
      "/home/wanxinli/miniconda3/lib/python3.9/site-packages/ot/bregman.py:517: UserWarning: Sinkhorn did not converge. You might want to increase the number of iterations `numItermax` or the regularization parameter `reg`.\n",
      "  warnings.warn(\"Sinkhorn did not converge. You might want to \"\n"
     ]
    },
    {
     "name": "stdout",
     "output_type": "stream",
     "text": [
      "iteration: 68\n",
      "iteration: 69\n",
      "iteration: 70\n",
      "iteration: 71\n",
      "iteration: 72\n",
      "iteration: 73\n",
      "iteration: 74\n",
      "iteration: 75\n",
      "iteration: 76\n"
     ]
    },
    {
     "name": "stderr",
     "output_type": "stream",
     "text": [
      "/home/wanxinli/miniconda3/lib/python3.9/site-packages/ot/bregman.py:517: UserWarning: Sinkhorn did not converge. You might want to increase the number of iterations `numItermax` or the regularization parameter `reg`.\n",
      "  warnings.warn(\"Sinkhorn did not converge. You might want to \"\n"
     ]
    },
    {
     "name": "stdout",
     "output_type": "stream",
     "text": [
      "iteration: 77\n"
     ]
    },
    {
     "name": "stderr",
     "output_type": "stream",
     "text": [
      "/home/wanxinli/miniconda3/lib/python3.9/site-packages/ot/bregman.py:517: UserWarning: Sinkhorn did not converge. You might want to increase the number of iterations `numItermax` or the regularization parameter `reg`.\n",
      "  warnings.warn(\"Sinkhorn did not converge. You might want to \"\n"
     ]
    },
    {
     "name": "stdout",
     "output_type": "stream",
     "text": [
      "iteration: 78\n",
      "iteration: 79\n",
      "iteration: 80\n"
     ]
    },
    {
     "name": "stderr",
     "output_type": "stream",
     "text": [
      "/home/wanxinli/miniconda3/lib/python3.9/site-packages/ot/bregman.py:517: UserWarning: Sinkhorn did not converge. You might want to increase the number of iterations `numItermax` or the regularization parameter `reg`.\n",
      "  warnings.warn(\"Sinkhorn did not converge. You might want to \"\n"
     ]
    },
    {
     "name": "stdout",
     "output_type": "stream",
     "text": [
      "iteration: 81\n",
      "iteration: 82\n",
      "iteration: 83\n",
      "iteration: 84\n",
      "iteration: 85\n",
      "iteration: 86\n",
      "iteration: 87\n",
      "iteration: 88\n"
     ]
    },
    {
     "name": "stderr",
     "output_type": "stream",
     "text": [
      "/home/wanxinli/miniconda3/lib/python3.9/site-packages/ot/bregman.py:517: UserWarning: Sinkhorn did not converge. You might want to increase the number of iterations `numItermax` or the regularization parameter `reg`.\n",
      "  warnings.warn(\"Sinkhorn did not converge. You might want to \"\n"
     ]
    },
    {
     "name": "stdout",
     "output_type": "stream",
     "text": [
      "iteration: 89\n",
      "iteration: 90\n",
      "iteration: 91\n",
      "iteration: 92\n"
     ]
    },
    {
     "name": "stderr",
     "output_type": "stream",
     "text": [
      "/home/wanxinli/miniconda3/lib/python3.9/site-packages/ot/bregman.py:517: UserWarning: Sinkhorn did not converge. You might want to increase the number of iterations `numItermax` or the regularization parameter `reg`.\n",
      "  warnings.warn(\"Sinkhorn did not converge. You might want to \"\n"
     ]
    },
    {
     "name": "stdout",
     "output_type": "stream",
     "text": [
      "iteration: 93\n"
     ]
    },
    {
     "name": "stderr",
     "output_type": "stream",
     "text": [
      "/home/wanxinli/miniconda3/lib/python3.9/site-packages/ot/bregman.py:517: UserWarning: Sinkhorn did not converge. You might want to increase the number of iterations `numItermax` or the regularization parameter `reg`.\n",
      "  warnings.warn(\"Sinkhorn did not converge. You might want to \"\n"
     ]
    },
    {
     "name": "stdout",
     "output_type": "stream",
     "text": [
      "iteration: 94\n"
     ]
    },
    {
     "name": "stderr",
     "output_type": "stream",
     "text": [
      "/home/wanxinli/miniconda3/lib/python3.9/site-packages/ot/bregman.py:517: UserWarning: Sinkhorn did not converge. You might want to increase the number of iterations `numItermax` or the regularization parameter `reg`.\n",
      "  warnings.warn(\"Sinkhorn did not converge. You might want to \"\n"
     ]
    },
    {
     "name": "stdout",
     "output_type": "stream",
     "text": [
      "iteration: 95\n",
      "iteration: 96\n",
      "iteration: 97\n",
      "iteration: 98\n",
      "iteration: 99\n"
     ]
    },
    {
     "data": {
      "text/plain": [
       "array([[2.03930584e+07, 3.26081471e+07, 2.26411384e+08, 1.18100149e+09,\n",
       "        4.03486435e+07, 6.16645479e+07],\n",
       "       [2.23127847e+07, 3.49039473e+07, 4.80133703e+08, 4.25355858e+09,\n",
       "        3.91637917e+07, 6.24070305e+07],\n",
       "       [2.15351876e+07, 3.37615303e+07, 2.20940868e+08, 1.25052971e+09,\n",
       "        3.86528913e+07, 6.04361994e+07],\n",
       "       [2.13381399e+07, 3.41823901e+07, 6.11341936e+08, 5.30945793e+09,\n",
       "        3.65243372e+07, 6.01811520e+07],\n",
       "       [2.05269457e+07, 3.29557624e+07, 1.67303851e+08, 6.50044623e+08,\n",
       "        3.88215826e+07, 6.10291069e+07],\n",
       "       [2.04493510e+07, 3.28928000e+07, 3.37714583e+08, 2.03698366e+09,\n",
       "        3.79462196e+07, 6.07975509e+07],\n",
       "       [2.12251553e+07, 3.35056772e+07, 2.41232731e+08, 1.60865468e+09,\n",
       "        4.00873282e+07, 6.33821388e+07],\n",
       "       [2.04990222e+07, 3.22648095e+07, 3.09646164e+08, 1.80313288e+09,\n",
       "        3.92861824e+07, 6.34995420e+07],\n",
       "       [2.14422132e+07, 3.34682645e+07, 3.32620668e+08, 2.43153569e+09,\n",
       "        3.92619444e+07, 6.19352003e+07],\n",
       "       [2.07286038e+07, 3.33169629e+07, 1.44464874e+09, 1.37790072e+10,\n",
       "        3.91444377e+07, 6.02294058e+07],\n",
       "       [2.02041243e+07, 3.24390497e+07, 1.66134757e+08, 8.61778706e+08,\n",
       "        3.71338284e+07, 6.06241695e+07],\n",
       "       [2.14679350e+07, 3.38386483e+07, 1.94101933e+08, 1.12381958e+09,\n",
       "        3.81510826e+07, 6.01859847e+07],\n",
       "       [2.18587566e+07, 3.41911857e+07, 6.05599860e+08, 3.78602196e+09,\n",
       "        4.07263801e+07, 6.18648886e+07],\n",
       "       [2.05033212e+07, 3.26508439e+07, 5.53619211e+08, 4.23910421e+09,\n",
       "        4.00236567e+07, 6.16629299e+07],\n",
       "       [2.09612489e+07, 3.37919459e+07, 1.49619099e+08, 6.97711231e+08,\n",
       "        3.90736008e+07, 6.15368540e+07],\n",
       "       [2.04944469e+07, 3.28089348e+07, 4.81238121e+08, 4.05684861e+09,\n",
       "        3.87877087e+07, 6.18674894e+07],\n",
       "       [2.04551362e+07, 3.30108802e+07, 4.57106167e+08, 2.96623014e+09,\n",
       "        3.92575280e+07, 6.05942828e+07],\n",
       "       [2.01906567e+07, 3.22552212e+07, 1.06321495e+08, 4.22536498e+08,\n",
       "        3.74432216e+07, 5.85409633e+07],\n",
       "       [2.13130173e+07, 3.35859998e+07, 3.51199101e+08, 2.78190648e+09,\n",
       "        3.79729010e+07, 6.07455310e+07],\n",
       "       [2.15894030e+07, 3.42399565e+07, 1.59792662e+08, 6.78086005e+08,\n",
       "        3.84090992e+07, 6.15288022e+07],\n",
       "       [2.15696334e+07, 3.38412592e+07, 9.29940251e+08, 8.52762996e+09,\n",
       "        3.93459429e+07, 6.14261871e+07],\n",
       "       [2.12300052e+07, 3.34855874e+07, 3.78931952e+08, 2.83666347e+09,\n",
       "        3.95283908e+07, 6.25050452e+07],\n",
       "       [2.11061489e+07, 3.32511859e+07, 3.19066314e+08, 2.14716743e+09,\n",
       "        3.67568110e+07, 5.96298106e+07],\n",
       "       [2.15113173e+07, 3.38119012e+07, 4.63187172e+08, 3.15906642e+09,\n",
       "        3.98974457e+07, 6.21125518e+07],\n",
       "       [2.23716306e+07, 3.48382241e+07, 6.85960356e+08, 6.19984102e+09,\n",
       "        3.84795527e+07, 6.19222332e+07],\n",
       "       [2.17594453e+07, 3.39845425e+07, 1.51455444e+08, 7.88436493e+08,\n",
       "        3.79522055e+07, 5.89322106e+07],\n",
       "       [2.09993650e+07, 3.25374936e+07, 2.18164125e+08, 1.19681921e+09,\n",
       "        3.96652233e+07, 6.17224626e+07],\n",
       "       [2.21817802e+07, 3.43302856e+07, 4.32319542e+08, 3.42671402e+09,\n",
       "        4.04632644e+07, 6.20213172e+07],\n",
       "       [2.03649247e+07, 3.28816011e+07, 2.07461020e+08, 1.24651904e+09,\n",
       "        3.76383479e+07, 5.84083175e+07],\n",
       "       [2.11783244e+07, 3.31971305e+07, 4.55454366e+08, 3.00957246e+09,\n",
       "        3.99154109e+07, 6.25422349e+07],\n",
       "       [2.14563524e+07, 3.37243445e+07, 2.70654286e+08, 1.53699032e+09,\n",
       "        3.93012741e+07, 6.17828145e+07],\n",
       "       [2.17450388e+07, 3.42371510e+07, 3.58204636e+08, 2.44501084e+09,\n",
       "        3.91961520e+07, 6.30062234e+07],\n",
       "       [2.04321597e+07, 3.24868177e+07, 8.56531271e+08, 7.88289985e+09,\n",
       "        4.04472267e+07, 6.33516852e+07],\n",
       "       [2.15130189e+07, 3.34566859e+07, 5.93790729e+08, 4.90891226e+09,\n",
       "        4.19729485e+07, 6.29188944e+07],\n",
       "       [2.20611974e+07, 3.42961010e+07, 2.52267186e+08, 1.41056975e+09,\n",
       "        3.94492353e+07, 6.11279374e+07],\n",
       "       [2.07081223e+07, 3.34055164e+07, 1.53384501e+08, 8.34675185e+08,\n",
       "        3.98830625e+07, 6.24414768e+07],\n",
       "       [2.15883819e+07, 3.34664655e+07, 7.53995366e+08, 5.60826612e+09,\n",
       "        3.96079198e+07, 6.10242469e+07],\n",
       "       [2.11830224e+07, 3.36346569e+07, 2.10752238e+08, 1.26899588e+09,\n",
       "        4.16739926e+07, 6.54361477e+07],\n",
       "       [2.19617843e+07, 3.42159225e+07, 1.59759511e+08, 7.43478611e+08,\n",
       "        3.96415423e+07, 6.15300223e+07],\n",
       "       [2.09503846e+07, 3.29219307e+07, 1.37511297e+08, 5.44960148e+08,\n",
       "        3.62662719e+07, 5.67982705e+07],\n",
       "       [2.25811844e+07, 3.46533510e+07, 9.06163809e+07, 2.88077104e+08,\n",
       "        3.82189207e+07, 6.13573409e+07],\n",
       "       [2.17494301e+07, 3.35213685e+07, 1.76858743e+08, 9.82136556e+08,\n",
       "        4.10247980e+07, 6.37742907e+07],\n",
       "       [2.12778624e+07, 3.36947334e+07, 3.96584351e+08, 3.17733165e+09,\n",
       "        4.01323691e+07, 6.38247560e+07],\n",
       "       [2.03581077e+07, 3.31882268e+07, 2.55076025e+08, 1.44675798e+09,\n",
       "        3.84324360e+07, 5.86698039e+07],\n",
       "       [2.12881578e+07, 3.39035577e+07, 1.25000994e+08, 4.94707894e+08,\n",
       "        3.84601294e+07, 6.07268374e+07],\n",
       "       [2.07153205e+07, 3.28242924e+07, 1.25008914e+09, 9.07556857e+09,\n",
       "        4.00470993e+07, 6.27579640e+07],\n",
       "       [2.03612438e+07, 3.28494780e+07, 4.86922081e+08, 4.11220187e+09,\n",
       "        3.84888679e+07, 6.14279403e+07],\n",
       "       [2.17175984e+07, 3.35535302e+07, 2.45992772e+08, 1.52859349e+09,\n",
       "        3.99065601e+07, 6.27010901e+07],\n",
       "       [2.27388509e+07, 3.65328055e+07, 1.44449692e+08, 5.40356859e+08,\n",
       "        3.84258111e+07, 5.92551372e+07],\n",
       "       [2.25258861e+07, 3.45102057e+07, 6.00202644e+08, 5.09769108e+09,\n",
       "        3.81431700e+07, 6.08417872e+07],\n",
       "       [2.08291038e+07, 3.33070804e+07, 1.60579457e+08, 7.69060513e+08,\n",
       "        3.80157620e+07, 6.12911179e+07],\n",
       "       [2.10332553e+07, 3.31075641e+07, 4.03146533e+08, 3.27579365e+09,\n",
       "        4.07575100e+07, 6.26264816e+07],\n",
       "       [2.14923664e+07, 3.37751771e+07, 7.40940461e+08, 6.54728803e+09,\n",
       "        3.95439893e+07, 6.14106517e+07],\n",
       "       [2.09786749e+07, 3.29508572e+07, 2.97816080e+08, 1.85689504e+09,\n",
       "        3.82049744e+07, 5.98432435e+07],\n",
       "       [2.11927266e+07, 3.34187088e+07, 3.11780610e+08, 2.09009240e+09,\n",
       "        3.56124635e+07, 5.76851202e+07],\n",
       "       [1.97512635e+07, 3.18642909e+07, 2.33686076e+08, 1.35507651e+09,\n",
       "        3.90127911e+07, 6.18190661e+07],\n",
       "       [2.05993106e+07, 3.29784992e+07, 3.88257642e+08, 2.75900299e+09,\n",
       "        3.69190117e+07, 6.17518807e+07],\n",
       "       [2.17002668e+07, 3.45548726e+07, 1.59826274e+08, 8.40934191e+08,\n",
       "        3.85678799e+07, 5.92576256e+07],\n",
       "       [2.13823012e+07, 3.34775554e+07, 3.06412824e+08, 2.15683546e+09,\n",
       "        3.82365657e+07, 6.14749142e+07],\n",
       "       [2.09934965e+07, 3.29237340e+07, 2.61158703e+08, 1.75939430e+09,\n",
       "        3.85698902e+07, 5.98770641e+07],\n",
       "       [1.96313269e+07, 3.18907844e+07, 8.69598775e+08, 7.59592567e+09,\n",
       "        4.02439484e+07, 6.16647156e+07],\n",
       "       [2.40909418e+07, 3.70876888e+07, 1.46426258e+08, 6.91749579e+08,\n",
       "        3.69633083e+07, 5.96540478e+07],\n",
       "       [2.09838001e+07, 3.32896562e+07, 5.85237261e+08, 3.79289851e+09,\n",
       "        3.82616026e+07, 6.14428284e+07],\n",
       "       [2.21399823e+07, 3.37951434e+07, 1.09866217e+09, 9.95735026e+09,\n",
       "        3.96954645e+07, 6.28878752e+07],\n",
       "       [2.09294990e+07, 3.33261249e+07, 3.43472455e+08, 2.40513823e+09,\n",
       "        3.93359382e+07, 6.11821592e+07],\n",
       "       [2.03904984e+07, 3.22248531e+07, 2.36101971e+08, 1.65517092e+09,\n",
       "        3.87408824e+07, 6.14684966e+07],\n",
       "       [2.19292901e+07, 3.45488366e+07, 1.30901397e+09, 1.17813778e+10,\n",
       "        3.86972933e+07, 6.20230527e+07],\n",
       "       [2.09308773e+07, 3.33836736e+07, 1.51425946e+08, 6.45549688e+08,\n",
       "        3.93893564e+07, 6.12786471e+07],\n",
       "       [2.14882361e+07, 3.38005290e+07, 4.78342604e+08, 4.01260733e+09,\n",
       "        4.05182506e+07, 6.43956643e+07],\n",
       "       [2.07720522e+07, 3.30167818e+07, 2.17856516e+08, 1.18410700e+09,\n",
       "        3.94196435e+07, 6.11796518e+07],\n",
       "       [2.12189789e+07, 3.29045206e+07, 4.66819231e+08, 3.70476112e+09,\n",
       "        4.09779014e+07, 6.25506658e+07],\n",
       "       [2.14419653e+07, 3.35411090e+07, 4.43542093e+08, 3.60561236e+09,\n",
       "        3.96523046e+07, 6.17017048e+07],\n",
       "       [2.22139663e+07, 3.44069159e+07, 1.78276126e+08, 1.10441742e+09,\n",
       "        3.83371784e+07, 6.11063417e+07],\n",
       "       [2.14248747e+07, 3.33382015e+07, 4.43078064e+08, 3.71121031e+09,\n",
       "        3.83860717e+07, 6.13644064e+07],\n",
       "       [2.20026251e+07, 3.38034866e+07, 2.15568450e+08, 1.21142823e+09,\n",
       "        3.66538957e+07, 5.89360181e+07],\n",
       "       [2.08857462e+07, 3.27884685e+07, 6.68182680e+08, 5.11197603e+09,\n",
       "        3.96979251e+07, 6.24849891e+07],\n",
       "       [2.25566119e+07, 3.47697414e+07, 1.30652122e+08, 5.75426932e+08,\n",
       "        3.88622039e+07, 6.03243050e+07],\n",
       "       [2.10258677e+07, 3.28898811e+07, 5.28237804e+08, 3.11935817e+09,\n",
       "        4.02532778e+07, 6.18197078e+07],\n",
       "       [2.10626481e+07, 3.31186390e+07, 7.33321015e+08, 6.22931252e+09,\n",
       "        3.70174629e+07, 5.83239376e+07],\n",
       "       [2.23463071e+07, 3.43552395e+07, 5.82005106e+08, 3.72963190e+09,\n",
       "        4.06563291e+07, 6.45134634e+07],\n",
       "       [2.08110065e+07, 3.26401140e+07, 3.44628737e+08, 2.70779585e+09,\n",
       "        3.93467863e+07, 6.19124603e+07],\n",
       "       [2.10656336e+07, 3.35641250e+07, 6.64785161e+08, 5.66716009e+09,\n",
       "        3.79192522e+07, 6.05848164e+07],\n",
       "       [2.17834743e+07, 3.32194341e+07, 1.54924464e+08, 4.99423895e+08,\n",
       "        3.73555598e+07, 5.92658641e+07],\n",
       "       [2.17514220e+07, 3.41310417e+07, 2.67598797e+08, 1.69916088e+09,\n",
       "        3.86515595e+07, 6.02920112e+07],\n",
       "       [2.16439019e+07, 3.35343750e+07, 4.15173108e+08, 3.20939987e+09,\n",
       "        4.15892349e+07, 6.40982814e+07],\n",
       "       [2.26354136e+07, 3.46706552e+07, 1.20991737e+08, 4.58822692e+08,\n",
       "        3.99839103e+07, 6.31674660e+07],\n",
       "       [2.14678611e+07, 3.36026767e+07, 2.40460923e+08, 1.41944416e+09,\n",
       "        4.02725599e+07, 6.18051868e+07],\n",
       "       [2.06886856e+07, 3.29265764e+07, 2.93106011e+08, 2.14552116e+09,\n",
       "        4.02400447e+07, 6.38134128e+07],\n",
       "       [2.15901154e+07, 3.36284229e+07, 5.67928943e+08, 4.26712271e+09,\n",
       "        4.01807433e+07, 6.27324564e+07],\n",
       "       [2.15192493e+07, 3.36035286e+07, 2.16314053e+08, 8.44973643e+08,\n",
       "        3.76974578e+07, 6.15255496e+07],\n",
       "       [2.18214127e+07, 3.41152928e+07, 7.96486995e+08, 7.17219943e+09,\n",
       "        3.95114013e+07, 6.31158082e+07],\n",
       "       [2.18864662e+07, 3.45935592e+07, 6.90530833e+08, 6.30294475e+09,\n",
       "        3.97052757e+07, 6.18469911e+07],\n",
       "       [2.13362726e+07, 3.35679010e+07, 5.69062630e+07, 1.43148052e+08,\n",
       "        4.06991766e+07, 6.19115361e+07],\n",
       "       [2.20765719e+07, 3.50116353e+07, 4.95551129e+08, 2.94148336e+09,\n",
       "        3.99920272e+07, 6.23056866e+07],\n",
       "       [2.26440245e+07, 3.52302463e+07, 8.32143988e+07, 2.01305861e+08,\n",
       "        3.85880593e+07, 6.14326390e+07],\n",
       "       [2.04340725e+07, 3.20934358e+07, 2.39796503e+08, 1.04322693e+09,\n",
       "        3.81077151e+07, 6.09862527e+07],\n",
       "       [2.16290053e+07, 3.40390071e+07, 1.48932568e+09, 1.39994399e+10,\n",
       "        4.03874349e+07, 6.37760277e+07],\n",
       "       [2.08186424e+07, 3.35790538e+07, 9.73019232e+07, 2.56824622e+08,\n",
       "        3.60847421e+07, 5.87369315e+07],\n",
       "       [2.16677133e+07, 3.41279714e+07, 3.31222047e+08, 2.23391939e+09,\n",
       "        3.94427886e+07, 6.30515711e+07],\n",
       "       [2.28104634e+07, 3.58046765e+07, 1.99449385e+08, 1.23145968e+09,\n",
       "        3.88865595e+07, 6.13512414e+07]])"
      ]
     },
     "execution_count": 12,
     "metadata": {},
     "output_type": "execute_result"
    }
   ],
   "source": [
    "\"\"\" \n",
    "Run multiple iterations using Poisson regression\n",
    "\"\"\"\n",
    "\n",
    "score_path = os.path.join(output_dir, \"exp5_poisson_score_\"+str(n_components)+\".csv\")\n",
    "male_count = 120\n",
    "female_count = 100\n",
    "\n",
    "multi_proc_cts(score_path, n_components, cons_visits_df, custom_train_reps, \\\n",
    "    male_count, female_count, model_func = linear_model.PoissonRegressor, iteration=100)"
   ]
  },
  {
   "cell_type": "code",
   "execution_count": 13,
   "metadata": {},
   "outputs": [],
   "source": [
    "# score_path = os.path.join(output_dir, \"exp5_poisson_score_\"+str(n_components)+\".csv\")\n",
    "\n",
    "# save_path = \"../../outputs/mimic/exp5_poisson_res.png\"\n",
    "\n",
    "# box_plot_cts_short(score_path, save_path=save_path)"
   ]
  },
  {
   "cell_type": "code",
   "execution_count": 11,
   "metadata": {},
   "outputs": [
    {
     "name": "stdout",
     "output_type": "stream",
     "text": [
      "iteration: 0\n",
      "iteration: 1\n",
      "iteration: 2\n",
      "iteration: 3\n",
      "iteration: 4\n",
      "iteration: 5\n",
      "iteration: 6\n",
      "iteration: 7\n",
      "iteration: 8\n",
      "iteration: 9\n",
      "iteration: 10\n",
      "iteration: 11\n",
      "iteration: 12\n",
      "iteration: 13\n",
      "iteration: 14\n",
      "iteration: 15\n",
      "iteration: 16\n",
      "iteration: 17\n",
      "iteration: 18\n",
      "iteration: 19\n",
      "iteration: 20\n",
      "iteration: 21\n",
      "iteration: 22\n",
      "iteration: 23\n",
      "iteration: 24\n",
      "iteration: 25\n",
      "iteration: 26\n",
      "iteration: 27\n",
      "iteration: 28\n",
      "iteration: 29\n",
      "iteration: 30\n",
      "iteration: 31\n",
      "iteration: 32\n",
      "iteration: 33\n",
      "iteration: 34\n",
      "iteration: 35\n",
      "iteration: 36\n",
      "iteration: 37\n",
      "iteration: 38\n",
      "iteration: 39\n",
      "iteration: 40\n",
      "iteration: 41\n",
      "iteration: 42\n",
      "iteration: 43\n",
      "iteration: 44\n",
      "iteration: 45\n",
      "iteration: 46\n",
      "iteration: 47\n",
      "iteration: 48\n",
      "iteration: 49\n",
      "iteration: 50\n",
      "iteration: 51\n",
      "iteration: 52\n",
      "iteration: 53\n",
      "iteration: 54\n",
      "iteration: 55\n",
      "iteration: 56\n",
      "iteration: 57\n",
      "iteration: 58\n",
      "iteration: 59\n",
      "iteration: 60\n",
      "iteration: 61\n",
      "iteration: 62\n",
      "iteration: 63\n",
      "iteration: 64\n",
      "iteration: 65\n",
      "iteration: 66\n",
      "iteration: 67\n",
      "iteration: 68\n",
      "iteration: 69\n",
      "iteration: 70\n",
      "iteration: 71\n",
      "iteration: 72\n",
      "iteration: 73\n",
      "iteration: 74\n",
      "iteration: 75\n",
      "iteration: 76\n",
      "iteration: 77\n",
      "iteration: 78\n",
      "iteration: 79\n",
      "iteration: 80\n",
      "iteration: 81\n",
      "iteration: 82\n",
      "iteration: 83\n",
      "iteration: 84\n",
      "iteration: 85\n",
      "iteration: 86\n",
      "iteration: 87\n",
      "iteration: 88\n",
      "iteration: 89\n",
      "iteration: 90\n",
      "iteration: 91\n",
      "iteration: 92\n",
      "iteration: 93\n",
      "iteration: 94\n",
      "iteration: 95\n",
      "iteration: 96\n",
      "iteration: 97\n",
      "iteration: 98\n",
      "iteration: 99\n"
     ]
    },
    {
     "data": {
      "text/plain": [
       "array([[36463402.36558644, 52521505.04997672, 37463647.13915147,\n",
       "        53148427.71622931, 37033523.40415076, 53023410.05728646],\n",
       "       [36511493.48537087, 52564063.3494779 , 37514981.36606564,\n",
       "        53187334.71223929, 37079244.87397592, 53025458.15990821],\n",
       "       [36499325.84728251, 52524070.23318066, 37423089.75765695,\n",
       "        53090308.07773064, 37014584.13938624, 53015072.11459717],\n",
       "       [36496527.06762452, 52536116.60809615, 37480157.85042676,\n",
       "        53121801.4984943 , 37175533.28779148, 53108874.0402846 ],\n",
       "       [36492225.88572169, 52597466.25463954, 37312471.70664828,\n",
       "        52945350.46384124, 36964875.19382763, 53017835.56764922],\n",
       "       [36472742.07819061, 52528515.12147976, 37327920.07312699,\n",
       "        53047370.77831607, 36956371.40699937, 52992818.71871962],\n",
       "       [36508995.78989878, 52538896.23810674, 37492271.10132203,\n",
       "        53182247.86851934, 37182453.84288353, 53142670.1382173 ],\n",
       "       [36508176.34669128, 52548274.65578027, 37349497.89737742,\n",
       "        53091481.64775448, 37081908.82246762, 53004454.2938017 ],\n",
       "       [36451438.53762005, 52483225.69463771, 37455962.17115518,\n",
       "        53132835.5025177 , 37074685.25734267, 52999262.02890981],\n",
       "       [36503212.02608301, 52534411.01832189, 37524581.54769466,\n",
       "        53173080.9016144 , 36935195.41145946, 52856592.0439603 ],\n",
       "       [36503663.24408404, 52574782.00450826, 37345778.135966  ,\n",
       "        53034321.94842835, 37097899.59750006, 53095344.47435118],\n",
       "       [36482891.71124768, 52539234.44646303, 37504841.60215096,\n",
       "        53187687.36738873, 37069026.60903125, 53116684.91758694],\n",
       "       [36483294.8086481 , 52566115.4656095 , 37396980.10201634,\n",
       "        53036933.27694626, 37003873.53761209, 52980373.53452975],\n",
       "       [36490515.90222299, 52536048.19446699, 37456619.66037732,\n",
       "        53126559.86766022, 37011618.27177218, 53008765.38480348],\n",
       "       [36500937.59686218, 52524631.26532399, 37475759.36519562,\n",
       "        53136170.85136411, 37186247.00216943, 53019012.30678961],\n",
       "       [36533436.69851869, 52597110.66199036, 37456750.25583284,\n",
       "        53093817.8394335 , 37014650.28452712, 52950269.30696465],\n",
       "       [36488790.61153922, 52531483.43227819, 37424157.17712288,\n",
       "        53179640.00409345, 37150778.52780811, 53158676.36185815],\n",
       "       [36510081.69217617, 52553969.46222345, 37335304.73356889,\n",
       "        53095181.95306428, 37144336.24534182, 53095845.07363158],\n",
       "       [36502255.37039657, 52606469.14900246, 37328500.58604105,\n",
       "        52977086.57158643, 37096810.80511519, 53074330.3793247 ],\n",
       "       [36496795.94430946, 52537162.14527374, 37521130.94253891,\n",
       "        53206625.35202923, 36993973.95926915, 52984979.17771076],\n",
       "       [36487579.34177152, 52530773.15819387, 37342967.02740025,\n",
       "        53051796.8048262 , 37085978.0050915 , 52984196.0151469 ],\n",
       "       [36474187.20409239, 52545407.05697511, 37442442.82991017,\n",
       "        53106288.46092512, 37105055.60767896, 53129924.52913565],\n",
       "       [36500577.62736765, 52553260.89611309, 37427327.4942701 ,\n",
       "        53137965.77000318, 37004581.65255195, 52943020.30999684],\n",
       "       [36458388.17292908, 52475550.19791044, 37461536.90062542,\n",
       "        53145762.79118411, 36982113.31646831, 52962049.5251248 ],\n",
       "       [36487329.08083729, 52522387.891777  , 37489093.49576111,\n",
       "        53085455.87777778, 37076557.35878244, 52980237.95074978],\n",
       "       [36480873.62693085, 52521535.32122301, 37335925.361276  ,\n",
       "        53013585.18403912, 37162435.49965642, 53076903.05373587],\n",
       "       [36515905.09280555, 52556937.8204574 , 37388900.85418247,\n",
       "        53094678.48362041, 37149590.05945329, 53063972.89545837],\n",
       "       [36508414.72693121, 52533364.41941454, 37493890.42267206,\n",
       "        53127876.41486031, 37014329.01028354, 52946437.45050865],\n",
       "       [36499956.66468876, 52554099.69273914, 37439570.4435087 ,\n",
       "        53086233.01209657, 37071283.56882903, 53057245.15031361],\n",
       "       [36490073.00312216, 52524004.34950563, 37459858.8454223 ,\n",
       "        53061629.2035347 , 37009559.24566443, 52926055.50303517],\n",
       "       [36487891.96209179, 52533795.99398367, 37467446.17875268,\n",
       "        53097720.678178  , 37025989.15318991, 52984954.5977383 ],\n",
       "       [36512378.02306883, 52565938.30293683, 37408400.19223566,\n",
       "        53126354.46973395, 37102700.36116534, 53046816.89116418],\n",
       "       [36516254.61555046, 52578321.22736879, 37322915.88459373,\n",
       "        53014284.30884239, 37028640.36923134, 53024335.09963781],\n",
       "       [36477506.99377182, 52524116.05905601, 37494421.81040577,\n",
       "        53234171.92241425, 37029821.47114034, 52980753.45290571],\n",
       "       [36509162.62810174, 52546863.24542901, 37346354.59041978,\n",
       "        53083196.31935391, 37014368.87261285, 52962161.56880816],\n",
       "       [36491247.8571117 , 52568265.92577096, 37444764.10640303,\n",
       "        53131245.11472239, 37006578.98805063, 52997077.48629393],\n",
       "       [36496480.50873458, 52526043.11148326, 37419029.11559564,\n",
       "        53133281.44144139, 37063464.32854439, 53039210.06604465],\n",
       "       [36512919.39867892, 52548905.52690045, 37441522.46907508,\n",
       "        53191145.22510133, 36988974.06248116, 53004033.52643095],\n",
       "       [36482670.60076941, 52509899.03485963, 37542723.42860614,\n",
       "        53222015.53161887, 37080290.37761278, 53025204.49464853],\n",
       "       [36494445.69684352, 52535368.32373817, 37411776.48269908,\n",
       "        53125575.95627667, 37042371.92151862, 53040843.20813553],\n",
       "       [36485793.85451763, 52542570.66318281, 37394728.17662285,\n",
       "        53056074.58713188, 37011946.71856984, 53047242.74536657],\n",
       "       [36490178.9639414 , 52546922.58786698, 37433092.51079016,\n",
       "        53136665.09820917, 37086454.94618444, 53089686.72710391],\n",
       "       [36471250.09808274, 52520335.83578303, 37446958.0497636 ,\n",
       "        53184811.97074689, 37102744.4768929 , 53054099.25043358],\n",
       "       [36515114.77697816, 52559710.27514517, 37454269.58135541,\n",
       "        53125878.33136384, 37193965.60940227, 53125225.09338336],\n",
       "       [36483980.68627781, 52537181.224161  , 37429741.84129449,\n",
       "        53116593.56679453, 37096695.86017993, 53138830.65543728],\n",
       "       [36504292.67623676, 52538154.2583173 , 37549981.57208516,\n",
       "        53196964.58432533, 37145075.49668872, 53039546.1090092 ],\n",
       "       [36493747.06461591, 52533726.16890181, 37342080.69335177,\n",
       "        53059143.67070752, 37092777.99195293, 53076632.01831248],\n",
       "       [36493000.30305704, 52529215.49465036, 37471030.60238174,\n",
       "        53168606.7444716 , 37124390.46733001, 53008303.6876538 ],\n",
       "       [36515991.92015027, 52557668.30343751, 37385678.82173306,\n",
       "        53046555.63420327, 37060484.06758086, 53023652.39432041],\n",
       "       [36468954.14257093, 52540978.14378848, 37455395.38319493,\n",
       "        53126099.65696159, 37034668.86033455, 53011097.41301647],\n",
       "       [36510215.27603547, 52556006.92430001, 37349624.89880349,\n",
       "        53092447.30581611, 37045885.13961603, 53065607.5809358 ],\n",
       "       [36471592.34755675, 52505030.74201313, 37482925.04225618,\n",
       "        53231100.10923646, 37201957.43691715, 53098317.84842394],\n",
       "       [36482462.17619631, 52570645.47103623, 37446883.89955965,\n",
       "        53121717.8140282 , 37120131.27351425, 53069385.29078232],\n",
       "       [36458529.05803459, 52512476.31589681, 37492907.16751216,\n",
       "        53133399.91481221, 36979407.1696079 , 52958015.4799621 ],\n",
       "       [36514687.85325468, 52550683.45988778, 37482373.72695234,\n",
       "        53154285.32560811, 37087139.61184895, 53011806.94146293],\n",
       "       [36488382.36748958, 52543950.40297519, 37392337.68655539,\n",
       "        53046701.80926236, 37128199.53696766, 53119532.81083111],\n",
       "       [36509436.61395402, 52548093.30032978, 37400435.83424751,\n",
       "        53046868.80934651, 37090637.14592701, 52993385.34665591],\n",
       "       [36467442.14590102, 52513099.49178087, 37549146.4218601 ,\n",
       "        53232969.60312885, 37189195.62644461, 53184399.36133   ],\n",
       "       [36479995.00487368, 52526822.69417677, 37435932.69355429,\n",
       "        53084667.68017282, 36991613.15812725, 52953307.78321724],\n",
       "       [36488459.06989934, 52555572.20308653, 37362626.17053293,\n",
       "        53059443.56220026, 37113479.1486308 , 53082976.24670601],\n",
       "       [36495028.19974592, 52518220.45887994, 37568885.60767608,\n",
       "        53208774.90118379, 37116643.15380564, 53056896.22221342],\n",
       "       [36467889.32688674, 52539589.76371577, 37462504.60206661,\n",
       "        53156564.29229596, 37000750.05154542, 52995120.95771726],\n",
       "       [36481843.83942553, 52535408.40428208, 37490323.65914479,\n",
       "        53201683.64373542, 36943399.69328318, 52989110.87435316],\n",
       "       [36503879.70140008, 52549994.34389836, 37415761.31451076,\n",
       "        53095866.29074622, 37101749.32406276, 53061557.03168548],\n",
       "       [36505142.32448442, 52550719.29918928, 37358456.06967206,\n",
       "        53117079.67396166, 36999964.32919261, 53029427.13448336],\n",
       "       [36473618.73142422, 52516623.54872054, 37453717.74902583,\n",
       "        53167596.2838093 , 37046036.41334455, 53034875.70019654],\n",
       "       [36495594.01072046, 52535317.1382458 , 37398350.05989579,\n",
       "        53114755.8832399 , 37095682.93368354, 53063502.11241375],\n",
       "       [36508809.52017696, 52542021.29654343, 37413086.29216421,\n",
       "        53107701.04761945, 37001644.92786382, 53032325.7584667 ],\n",
       "       [36476044.78307917, 52514868.7747538 , 37474598.57855926,\n",
       "        53135091.13242508, 37097246.84568477, 53056751.8188458 ],\n",
       "       [36493450.86793287, 52560089.29607237, 37477141.28378381,\n",
       "        53164134.45279297, 37003657.95873405, 53048009.82542495],\n",
       "       [36451722.16894338, 52518917.26104467, 37373476.81387197,\n",
       "        53088410.13487588, 37120875.73359901, 53041455.83499444],\n",
       "       [36494162.2814744 , 52528353.8712915 , 37452125.42806487,\n",
       "        53095768.14470441, 37086512.94315688, 53017087.63235278],\n",
       "       [36497012.38699247, 52532198.76830985, 37394651.91835351,\n",
       "        53046153.12333058, 37030353.58310438, 52975787.97360492],\n",
       "       [36476912.42691159, 52513511.26935206, 37462265.88608208,\n",
       "        53180511.27197064, 37165331.33702075, 53188298.20018022],\n",
       "       [36488260.02146491, 52527132.82630952, 37549165.5328164 ,\n",
       "        53218437.42494764, 37142151.34982067, 53081877.79878948],\n",
       "       [36498417.68698041, 52537689.28150459, 37365481.98298495,\n",
       "        53077515.15601692, 37126003.86495789, 53049351.8867074 ],\n",
       "       [36451635.42809206, 52479455.68842099, 37524481.14508146,\n",
       "        53245897.1199156 , 37101577.32674399, 53099151.24980441],\n",
       "       [36519032.12913784, 52564398.96187185, 37347743.79097936,\n",
       "        53060349.1210065 , 36921932.12998582, 52883447.16821335],\n",
       "       [36496923.22334173, 52544963.67136371, 37405959.70426301,\n",
       "        53093130.86890978, 37065659.89282436, 53051705.37792653],\n",
       "       [36494046.32849754, 52545183.74972787, 37442049.65578704,\n",
       "        53082845.09100075, 36995822.16595407, 53019576.39247495],\n",
       "       [36493495.76692769, 52527544.67403438, 37404868.97753745,\n",
       "        53105872.46135383, 37149099.04461847, 53043312.27822539],\n",
       "       [36494955.5048648 , 52554763.50664585, 37336492.91962791,\n",
       "        53086437.88076942, 37052200.8901388 , 52988091.72896808],\n",
       "       [36509160.12735928, 52558457.95305298, 37486631.91532929,\n",
       "        53157423.41167813, 37049031.82551958, 52955567.62965349],\n",
       "       [36507772.1335999 , 52544380.25107909, 37416571.23218195,\n",
       "        53066620.76063431, 36983430.72433092, 52928877.81278336],\n",
       "       [36452837.45631968, 52556685.63992373, 37505280.84493984,\n",
       "        53113795.62958939, 36974536.56993601, 52951222.48813027],\n",
       "       [36482811.96413001, 52516368.22646192, 37470220.82855434,\n",
       "        53108906.08968499, 37157122.50113174, 53108622.68311716],\n",
       "       [36484711.92586464, 52526460.47681388, 37325289.90756603,\n",
       "        53019146.56669629, 37030911.33594083, 52970050.53122075],\n",
       "       [36462834.14933676, 52501064.09852573, 37449557.18166824,\n",
       "        53192536.20825209, 37107381.41533004, 53088434.0135451 ],\n",
       "       [36512635.1935321 , 52531373.2912424 , 37462756.2634126 ,\n",
       "        53069446.18884882, 37132629.59679886, 53036583.45782605],\n",
       "       [36482523.98680596, 52566092.86950274, 37548934.58746315,\n",
       "        53182920.74300329, 37078096.40357874, 53060748.30831618],\n",
       "       [36489325.91292461, 52534379.1352671 , 37422728.28935361,\n",
       "        53032841.40600016, 37087805.35306194, 53032996.07053299],\n",
       "       [36490678.40174485, 52579590.14792296, 37415115.78048712,\n",
       "        53060443.86384062, 37150459.35694665, 53133923.85081819],\n",
       "       [36518170.22908461, 52580514.09366955, 37335291.1819203 ,\n",
       "        53059083.52793175, 37041797.50358251, 53009158.30252351],\n",
       "       [36484214.70683265, 52518149.46815643, 37458667.07614397,\n",
       "        53191692.97377123, 37092472.13781226, 53080109.03108484],\n",
       "       [36502536.90600636, 52543183.02203251, 37501236.18078277,\n",
       "        53195812.65774363, 37131460.24147102, 53095889.19354257],\n",
       "       [36496852.66165452, 52522615.72857551, 37506095.61428522,\n",
       "        53188966.38716286, 37173319.79877638, 53122231.71877396],\n",
       "       [36510956.76035859, 52565047.81017242, 37505019.74285527,\n",
       "        53162371.15160631, 37079190.13525353, 53014831.11970123],\n",
       "       [36504103.84833127, 52561060.39776628, 37467234.68983533,\n",
       "        53217681.23860788, 37102105.62708437, 53054567.51881719],\n",
       "       [36497860.82851993, 52553622.82076298, 37386993.67611136,\n",
       "        53117485.76121692, 37041058.79362446, 52972717.97513547],\n",
       "       [36480668.61553395, 52540616.78758349, 37399221.62884501,\n",
       "        53089965.68781952, 37117399.95532064, 53054808.71395522]])"
      ]
     },
     "execution_count": 11,
     "metadata": {},
     "output_type": "execute_result"
    }
   ],
   "source": [
    "\"\"\" \n",
    "Run multiple iterations using Linear regression\n",
    "\"\"\"\n",
    "\n",
    "score_path = os.path.join(output_dir, \"exp5_linear_score_\"+str(n_components)+\".csv\")\n",
    "multi_proc_cts(score_path, n_components, cons_visits_df, custom_train_reps, \\\n",
    "    male_count, female_count, model_func = linear_model.LinearRegression, iteration=100)"
   ]
  },
  {
   "cell_type": "code",
   "execution_count": 48,
   "metadata": {},
   "outputs": [],
   "source": [
    "# score_path = os.path.join(output_dir, \"exp5_linear_score.csv\")\n",
    "# save_path = \"../../outputs/mimic/exp5_linear_res.png\"\n",
    "\n",
    "# box_plot_cts_short(score_path, save_path=save_path)"
   ]
  },
  {
   "cell_type": "code",
   "execution_count": 49,
   "metadata": {},
   "outputs": [
    {
     "data": {
      "image/png": "[encoded data removed]",
      "text/plain": [
       "<Figure size 800x400 with 2 Axes>"
      ]
     },
     "metadata": {},
     "output_type": "display_data"
    }
   ],
   "source": [
    "def special_div(x, y):\n",
    "    \"\"\" \n",
    "    Special division operation\n",
    "    \"\"\"\n",
    "    if y == 0:\n",
    "        y = 1e-5\n",
    "    return x/y\n",
    "\n",
    "fig, axes = plt.subplots(nrows=1, ncols=2)\n",
    "fig.set_figheight(4)\n",
    "fig.set_figwidth(8)\n",
    "title_size = 15\n",
    "text_size = 12\n",
    "\n",
    "# plt.subplot(1,2,1)\n",
    "score_path = os.path.join(output_dir, \"exp5_linear_score_\"+str(n_components)+\".csv\")\n",
    "\n",
    "scores_df = pd.read_csv(score_path, index_col=None, header=0)\n",
    "\n",
    "source_mae = scores_df['source_mae']\n",
    "source_rmse = scores_df['source_rmse']\n",
    "\n",
    "trans_source_mae = scores_df['trans_source_mae']\n",
    "trans_source_rmse = scores_df['trans_source_rmse']\n",
    "\n",
    "# transported source to source mae\n",
    "trans_source_source_mae = [special_div(i, j) for i, j in zip(trans_source_mae, source_mae)]\n",
    "\n",
    "# transported source to source rmse\n",
    "trans_source_source_rmse = [special_div(i, j) for i, j in zip(trans_source_rmse, source_rmse)]\n",
    "\n",
    "\n",
    "# Pandas dataframe\n",
    "data = pd.DataFrame({\n",
    "    'MAE': trans_source_source_mae,\n",
    "    'RMSE': trans_source_source_rmse\n",
    "})\n",
    "\n",
    "# Plot the dataframe\n",
    "ax = data[['MAE', 'RMSE']].plot(kind='box', ax=axes[0])\n",
    "\n",
    "# Plot the baseline\n",
    "ax.axhline(y = 1, color = 'r', linestyle = '-')\n",
    "\n",
    "ax.tick_params(labelsize=text_size)\n",
    "ax.set_ylim(0, 1.2)\n",
    "ax.set_title(\"(a) Linear\", fontweight='bold', loc='left', fontsize=title_size)\n",
    "\n",
    "######################################################\n",
    "\n",
    "score_path = os.path.join(output_dir, \"exp5_poisson_score_\"+str(n_components)+\".csv\")\n",
    "\n",
    "scores_df = pd.read_csv(score_path, index_col=None, header=0)\n",
    "\n",
    "source_mae = scores_df['source_mae']\n",
    "source_rmse = scores_df['source_rmse']\n",
    "\n",
    "trans_source_mae = scores_df['trans_source_mae']\n",
    "trans_source_rmse = scores_df['trans_source_rmse']\n",
    "\n",
    "# transported source to source mae\n",
    "trans_source_source_mae = [special_div(i, j) for i, j in zip(trans_source_mae, source_mae)]\n",
    "\n",
    "# transported source to source rmse\n",
    "trans_source_source_rmse = [special_div(i, j) for i, j in zip(trans_source_rmse, source_rmse)]\n",
    "\n",
    "\n",
    "# Pandas dataframe\n",
    "data = pd.DataFrame({\n",
    "    'MAE': trans_source_source_mae,\n",
    "    'RMSE': trans_source_source_rmse\n",
    "})\n",
    "\n",
    "# Plot the dataframe\n",
    "ax = data[['MAE', 'RMSE']].plot(kind='box', ax=axes[1])\n",
    "\n",
    "# Plot the baseline\n",
    "ax.axhline(y = 1, color = 'r', linestyle = '-')\n",
    "\n",
    "ax.tick_params(labelsize=text_size)\n",
    "ax.set_ylim(0, 1.2)\n",
    "plt.title(\"(b) Poisson\", fontweight='bold', loc='left', fontsize=title_size)\n",
    "plt.tight_layout()\n",
    "\n",
    "save_path = os.path.join(output_dir, \"exp5_res_\"+str(n_components)+\".pdf\")\n",
    "plt.savefig(save_path, bbox_inches='tight')\n",
    "plt.show()"
   ]
  },
  {
   "cell_type": "code",
   "execution_count": null,
   "metadata": {},
   "outputs": [],
   "source": []
  }
 ],
 "metadata": {
  "kernelspec": {
   "display_name": "base",
   "language": "python",
   "name": "python3"
  },
  "language_info": {
   "codemirror_mode": {
    "name": "ipython",
    "version": 3
   },
   "file_extension": ".py",
   "mimetype": "text/x-python",
   "name": "python",
   "nbconvert_exporter": "python",
   "pygments_lexer": "ipython3",
   "version": "3.9.12"
  },
  "orig_nbformat": 4,
  "vscode": {
   "interpreter": {
    "hash": "e0a164c7fb95af65e1e713e004e1e0ea55c462cdd13e4bdabca6fd60bd9f3176"
   }
  }
 },
 "nbformat": 4,
 "nbformat_minor": 2
}
