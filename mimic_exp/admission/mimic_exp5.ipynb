{
 "cells": [
  {
   "attachments": {},
   "cell_type": "markdown",
   "metadata": {},
   "source": [
    "# Regression task: the time interval between two consecutive visits for the same patient ~ ICD diagnosis code"
   ]
  },
  {
   "attachments": {},
   "cell_type": "markdown",
   "metadata": {},
   "source": [
    "## Prepare the dataset"
   ]
  },
  {
   "cell_type": "code",
   "execution_count": 1,
   "metadata": {},
   "outputs": [
    {
     "data": {
      "text/plain": [
       "' \\nPatient ID -> admission ID\\n'"
      ]
     },
     "execution_count": 1,
     "metadata": {},
     "output_type": "execute_result"
    }
   ],
   "source": [
    "\"\"\" \n",
    "Patient ID -> admission ID\n",
    "\"\"\""
   ]
  },
  {
   "cell_type": "code",
   "execution_count": 2,
   "metadata": {},
   "outputs": [
    {
     "name": "stderr",
     "output_type": "stream",
     "text": [
      "/home/wanxinli/miniconda3/lib/python3.9/site-packages/tqdm/auto.py:22: TqdmWarning: IProgress not found. Please update jupyter and ipywidgets. See https://ipywidgets.readthedocs.io/en/stable/user_install.html\n",
      "  from .autonotebook import tqdm as notebook_tqdm\n"
     ]
    }
   ],
   "source": [
    "import sys\n",
    "sys.path.append(\"/home/wanxinli/deep_patient/\")\n",
    "\n",
    "from datetime import datetime\n",
    "from mimic_common import *\n",
    "import os\n",
    "import pandas as pd\n",
    "from sklearn.decomposition import PCA\n",
    "from sklearn import gaussian_process\n",
    "\n"
   ]
  },
  {
   "cell_type": "code",
   "execution_count": 3,
   "metadata": {},
   "outputs": [
    {
     "name": "stdout",
     "output_type": "stream",
     "text": [
      "Will save outputs to /home/wanxinli/deep_patient/outputs/mimic\n",
      "Will read data from /home/wanxinli/deep_patient/mimic_exp/mimiciii\n"
     ]
    }
   ],
   "source": [
    "output_dir = os.path.join(os.path.expanduser(\"~\"), f\"deep_patient/outputs/mimic\")\n",
    "print(f\"Will save outputs to {output_dir}\")\n",
    "data_dir = os.path.join(os.path.expanduser(\"~\"), f\"deep_patient/mimic_exp/mimiciii\")\n",
    "print(f\"Will read data from {data_dir}\")"
   ]
  },
  {
   "cell_type": "code",
   "execution_count": 4,
   "metadata": {},
   "outputs": [],
   "source": [
    "admission_file = os.path.join(data_dir, \"ADMISSIONS.csv\")\n",
    "diagnosis_file = os.path.join(data_dir, \"DIAGNOSES_ICD.csv\")\n",
    "patient_file = os.path.join(data_dir, \"PATIENTS.csv\")"
   ]
  },
  {
   "cell_type": "code",
   "execution_count": 5,
   "metadata": {},
   "outputs": [],
   "source": [
    "pid_adms, pid_gender, adm_date, admid_codes, pid_visits = build_maps(admission_file, diagnosis_file, patient_file)\n"
   ]
  },
  {
   "cell_type": "code",
   "execution_count": 6,
   "metadata": {},
   "outputs": [],
   "source": [
    "# print(pid_visits)"
   ]
  },
  {
   "cell_type": "code",
   "execution_count": 7,
   "metadata": {},
   "outputs": [
    {
     "data": {
      "text/html": [
       "<div>\n",
       "<style scoped>\n",
       "    .dataframe tbody tr th:only-of-type {\n",
       "        vertical-align: middle;\n",
       "    }\n",
       "\n",
       "    .dataframe tbody tr th {\n",
       "        vertical-align: top;\n",
       "    }\n",
       "\n",
       "    .dataframe thead th {\n",
       "        text-align: right;\n",
       "    }\n",
       "</style>\n",
       "<table border=\"1\" class=\"dataframe\">\n",
       "  <thead>\n",
       "    <tr style=\"text-align: right;\">\n",
       "      <th></th>\n",
       "      <th>gender</th>\n",
       "      <th>duration</th>\n",
       "      <th>ICD codes</th>\n",
       "    </tr>\n",
       "  </thead>\n",
       "  <tbody>\n",
       "    <tr>\n",
       "      <th>0</th>\n",
       "      <td>M</td>\n",
       "      <td>130162740.0</td>\n",
       "      <td>[41401, 4111, 4241, V4582, 2724, 4019, 60000, ...</td>\n",
       "    </tr>\n",
       "    <tr>\n",
       "      <th>1</th>\n",
       "      <td>M</td>\n",
       "      <td>145197420.0</td>\n",
       "      <td>[41071, 4280, 4254, 42731, 9971, 4260, 41401, ...</td>\n",
       "    </tr>\n",
       "    <tr>\n",
       "      <th>2</th>\n",
       "      <td>M</td>\n",
       "      <td>1082040.0</td>\n",
       "      <td>[41401, 4111, 496, 4019, 3051, 53081, 60000, V...</td>\n",
       "    </tr>\n",
       "    <tr>\n",
       "      <th>3</th>\n",
       "      <td>M</td>\n",
       "      <td>94491660.0</td>\n",
       "      <td>[99831, 99811, 41511, 4538, 99672, 496, 41401,...</td>\n",
       "    </tr>\n",
       "    <tr>\n",
       "      <th>4</th>\n",
       "      <td>M</td>\n",
       "      <td>20640960.0</td>\n",
       "      <td>[5715, 5722, 2867, 45620, 3453, 48241, 51881, ...</td>\n",
       "    </tr>\n",
       "    <tr>\n",
       "      <th>...</th>\n",
       "      <td>...</td>\n",
       "      <td>...</td>\n",
       "      <td>...</td>\n",
       "    </tr>\n",
       "    <tr>\n",
       "      <th>12451</th>\n",
       "      <td>M</td>\n",
       "      <td>9735840.0</td>\n",
       "      <td>[42731, 56211, V1051]</td>\n",
       "    </tr>\n",
       "    <tr>\n",
       "      <th>12452</th>\n",
       "      <td>M</td>\n",
       "      <td>8103720.0</td>\n",
       "      <td>[99859, 0389, 99592, 78552, 5849, 5990, 42830,...</td>\n",
       "    </tr>\n",
       "    <tr>\n",
       "      <th>12453</th>\n",
       "      <td>F</td>\n",
       "      <td>2644440.0</td>\n",
       "      <td>[4373, 4019, 2449, 59651, 49390, V1052]</td>\n",
       "    </tr>\n",
       "    <tr>\n",
       "      <th>12454</th>\n",
       "      <td>F</td>\n",
       "      <td>1994400.0</td>\n",
       "      <td>[5363, 5641]</td>\n",
       "    </tr>\n",
       "    <tr>\n",
       "      <th>12455</th>\n",
       "      <td>F</td>\n",
       "      <td>107847480.0</td>\n",
       "      <td>[53642, 5793, 5370, 56782, 78909, E8798, 5363,...</td>\n",
       "    </tr>\n",
       "  </tbody>\n",
       "</table>\n",
       "<p>12456 rows × 3 columns</p>\n",
       "</div>"
      ],
      "text/plain": [
       "      gender     duration                                          ICD codes\n",
       "0          M  130162740.0  [41401, 4111, 4241, V4582, 2724, 4019, 60000, ...\n",
       "1          M  145197420.0  [41071, 4280, 4254, 42731, 9971, 4260, 41401, ...\n",
       "2          M    1082040.0  [41401, 4111, 496, 4019, 3051, 53081, 60000, V...\n",
       "3          M   94491660.0  [99831, 99811, 41511, 4538, 99672, 496, 41401,...\n",
       "4          M   20640960.0  [5715, 5722, 2867, 45620, 3453, 48241, 51881, ...\n",
       "...      ...          ...                                                ...\n",
       "12451      M    9735840.0                              [42731, 56211, V1051]\n",
       "12452      M    8103720.0  [99859, 0389, 99592, 78552, 5849, 5990, 42830,...\n",
       "12453      F    2644440.0            [4373, 4019, 2449, 59651, 49390, V1052]\n",
       "12454      F    1994400.0                                       [5363, 5641]\n",
       "12455      F  107847480.0  [53642, 5793, 5370, 56782, 78909, E8798, 5363,...\n",
       "\n",
       "[12456 rows x 3 columns]"
      ]
     },
     "execution_count": 7,
     "metadata": {},
     "output_type": "execute_result"
    }
   ],
   "source": [
    "# construct codes (ICD codes for the first visits), and durations (time interval until the next visit)\n",
    "\n",
    "codes = []\n",
    "durations = []\n",
    "genders = []\n",
    "for pid, visits in pid_visits.items():\n",
    "    for i, cur_visit in enumerate(visits):\n",
    "        if i == len(visits)-1: # stop on the last element\n",
    "            break \n",
    "        next_visit = visits[i+1]\n",
    "        # print(next_visit)\n",
    "        cur_codes = cur_visit[1]\n",
    "        # print(codes)\n",
    "        duration = (next_visit[0]-cur_visit[0]).total_seconds()\n",
    "        codes.append(cur_codes)\n",
    "        durations.append(duration)\n",
    "        genders.append(pid_gender[pid])\n",
    "\n",
    "\n",
    "cons_visits_df = pd.DataFrame(columns=['gender', 'duration', 'ICD codes'])\n",
    "cons_visits_df['gender'] = genders\n",
    "cons_visits_df['duration'] = durations\n",
    "cons_visits_df['ICD codes'] = codes\n",
    "cons_visits_df.to_csv(os.path.join(output_dir, \"CONS_VISITS.csv\"), index=False, header=True)\n",
    "\n",
    "cons_visits_df"
   ]
  },
  {
   "cell_type": "code",
   "execution_count": 8,
   "metadata": {},
   "outputs": [
    {
     "name": "stdout",
     "output_type": "stream",
     "text": [
      "female count is: 5627\n",
      "male count is: 6829\n"
     ]
    }
   ],
   "source": [
    "\"\"\" \n",
    "Outputs consecutive visit stats\n",
    "\"\"\"\n",
    "female_count = cons_visits_df.loc[(cons_visits_df['gender'] == 'F')].shape[0]\n",
    "male_count = cons_visits_df.loc[(cons_visits_df['gender'] == 'M')].shape[0]\n",
    "print(\"female count is:\", female_count)\n",
    "print(\"male count is:\", male_count)"
   ]
  },
  {
   "cell_type": "code",
   "execution_count": 9,
   "metadata": {},
   "outputs": [],
   "source": [
    "\"\"\"\n",
    "Train deep patient model and generate representations for targets and sources\n",
    "\"\"\"\n",
    "\n",
    "def custom_train_reps(target_features, source_features, n_components, pca_explain=False):\n",
    "    \"\"\" \n",
    "    Customized training algorithm for generating target representations and source representations\n",
    "\n",
    "    :param bool pca_explain: print the explained variance of each components\n",
    "    \n",
    "    :returns: target representations, source representations\n",
    "    \"\"\"\n",
    "    source_pca = PCA(n_components=n_components)\n",
    "    target_pca = PCA(n_components=n_components)\n",
    "    target_reps = target_pca.fit_transform(target_features)\n",
    "    source_reps = source_pca.fit_transform(source_features)\n",
    "\n",
    "    if pca_explain:\n",
    "        source_exp_var = source_pca.explained_variance_ratio_\n",
    "        source_cum_sum_var = np.cumsum(source_exp_var)\n",
    "        target_exp_var = target_pca.explained_variance_ratio_\n",
    "        target_cum_sum_var = np.cumsum(target_exp_var)\n",
    "        print(\"Cummulative variance explained by the source PCA is:\", source_cum_sum_var)\n",
    "        print(\"Cummulative variance explained by the target PCA is:\", target_cum_sum_var)\n",
    "\n",
    "    return target_reps, source_reps"
   ]
  },
  {
   "cell_type": "code",
   "execution_count": 10,
   "metadata": {},
   "outputs": [
    {
     "name": "stderr",
     "output_type": "stream",
     "text": [
      "/home/wanxinli/miniconda3/lib/python3.9/site-packages/ot/bregman.py:517: UserWarning: Sinkhorn did not converge. You might want to increase the number of iterations `numItermax` or the regularization parameter `reg`.\n",
      "  warnings.warn(\"Sinkhorn did not converge. You might want to \"\n"
     ]
    },
    {
     "data": {
      "text/plain": [
       "(27222331.023922157,\n",
       " 43095781.13765925,\n",
       " 128453696.76289152,\n",
       " 348522953.0986901,\n",
       " 48399322.037903205,\n",
       " 71454208.57420577)"
      ]
     },
     "execution_count": 10,
     "metadata": {},
     "output_type": "execute_result"
    }
   ],
   "source": [
    "n_components = 50\n",
    "model_func = linear_model.PoissonRegressor\n",
    "entire_proc_cts(n_components, cons_visits_df, custom_train_reps, model_func, male_count = 120, female_count = 100, pca_explain=False)"
   ]
  },
  {
   "cell_type": "code",
   "execution_count": 11,
   "metadata": {},
   "outputs": [
    {
     "data": {
      "text/plain": [
       "(29501398.738379408,\n",
       " 43939742.90696447,\n",
       " 51149129.997832336,\n",
       " 68165241.73314053,\n",
       " 46814445.96117932,\n",
       " 65704355.264626876)"
      ]
     },
     "execution_count": 11,
     "metadata": {},
     "output_type": "execute_result"
    }
   ],
   "source": [
    "model_func = linear_model.LinearRegression\n",
    "entire_proc_cts(n_components, cons_visits_df, custom_train_reps, model_func, male_count = 120, female_count = 100, pca_explain=False)"
   ]
  },
  {
   "cell_type": "code",
   "execution_count": 12,
   "metadata": {},
   "outputs": [
    {
     "name": "stdout",
     "output_type": "stream",
     "text": [
      "iteration: 0\n",
      "iteration: 1\n"
     ]
    },
    {
     "name": "stderr",
     "output_type": "stream",
     "text": [
      "/home/wanxinli/miniconda3/lib/python3.9/site-packages/ot/bregman.py:517: UserWarning: Sinkhorn did not converge. You might want to increase the number of iterations `numItermax` or the regularization parameter `reg`.\n",
      "  warnings.warn(\"Sinkhorn did not converge. You might want to \"\n"
     ]
    },
    {
     "name": "stdout",
     "output_type": "stream",
     "text": [
      "iteration: 2\n",
      "iteration: 3\n"
     ]
    },
    {
     "name": "stderr",
     "output_type": "stream",
     "text": [
      "/home/wanxinli/miniconda3/lib/python3.9/site-packages/ot/bregman.py:517: UserWarning: Sinkhorn did not converge. You might want to increase the number of iterations `numItermax` or the regularization parameter `reg`.\n",
      "  warnings.warn(\"Sinkhorn did not converge. You might want to \"\n"
     ]
    },
    {
     "name": "stdout",
     "output_type": "stream",
     "text": [
      "iteration: 4\n",
      "iteration: 5\n"
     ]
    },
    {
     "name": "stderr",
     "output_type": "stream",
     "text": [
      "/home/wanxinli/.local/lib/python3.9/site-packages/sklearn/linear_model/_glm/glm.py:284: ConvergenceWarning: lbfgs failed to converge (status=1):\n",
      "STOP: TOTAL NO. of ITERATIONS REACHED LIMIT.\n",
      "\n",
      "Increase the number of iterations (max_iter) or scale the data as shown in:\n",
      "    https://scikit-learn.org/stable/modules/preprocessing.html\n",
      "  self.n_iter_ = _check_optimize_result(\"lbfgs\", opt_res)\n"
     ]
    },
    {
     "name": "stdout",
     "output_type": "stream",
     "text": [
      "iteration: 6\n"
     ]
    },
    {
     "name": "stderr",
     "output_type": "stream",
     "text": [
      "/home/wanxinli/miniconda3/lib/python3.9/site-packages/ot/bregman.py:517: UserWarning: Sinkhorn did not converge. You might want to increase the number of iterations `numItermax` or the regularization parameter `reg`.\n",
      "  warnings.warn(\"Sinkhorn did not converge. You might want to \"\n"
     ]
    },
    {
     "name": "stdout",
     "output_type": "stream",
     "text": [
      "iteration: 7\n",
      "iteration: 8\n",
      "iteration: 9\n",
      "iteration: 10\n",
      "iteration: 11\n",
      "iteration: 12\n",
      "iteration: 13\n",
      "iteration: 14\n",
      "iteration: 15\n",
      "iteration: 16\n"
     ]
    },
    {
     "name": "stderr",
     "output_type": "stream",
     "text": [
      "/home/wanxinli/miniconda3/lib/python3.9/site-packages/ot/bregman.py:517: UserWarning: Sinkhorn did not converge. You might want to increase the number of iterations `numItermax` or the regularization parameter `reg`.\n",
      "  warnings.warn(\"Sinkhorn did not converge. You might want to \"\n"
     ]
    },
    {
     "name": "stdout",
     "output_type": "stream",
     "text": [
      "iteration: 17\n"
     ]
    },
    {
     "name": "stderr",
     "output_type": "stream",
     "text": [
      "/home/wanxinli/miniconda3/lib/python3.9/site-packages/ot/bregman.py:517: UserWarning: Sinkhorn did not converge. You might want to increase the number of iterations `numItermax` or the regularization parameter `reg`.\n",
      "  warnings.warn(\"Sinkhorn did not converge. You might want to \"\n"
     ]
    },
    {
     "name": "stdout",
     "output_type": "stream",
     "text": [
      "iteration: 18\n",
      "iteration: 19\n"
     ]
    },
    {
     "name": "stderr",
     "output_type": "stream",
     "text": [
      "/home/wanxinli/miniconda3/lib/python3.9/site-packages/ot/bregman.py:517: UserWarning: Sinkhorn did not converge. You might want to increase the number of iterations `numItermax` or the regularization parameter `reg`.\n",
      "  warnings.warn(\"Sinkhorn did not converge. You might want to \"\n"
     ]
    },
    {
     "name": "stdout",
     "output_type": "stream",
     "text": [
      "iteration: 20\n",
      "iteration: 21\n",
      "iteration: 22\n"
     ]
    },
    {
     "name": "stderr",
     "output_type": "stream",
     "text": [
      "/home/wanxinli/miniconda3/lib/python3.9/site-packages/ot/bregman.py:517: UserWarning: Sinkhorn did not converge. You might want to increase the number of iterations `numItermax` or the regularization parameter `reg`.\n",
      "  warnings.warn(\"Sinkhorn did not converge. You might want to \"\n"
     ]
    },
    {
     "name": "stdout",
     "output_type": "stream",
     "text": [
      "iteration: 23\n",
      "iteration: 24\n",
      "iteration: 25\n",
      "iteration: 26\n"
     ]
    },
    {
     "name": "stderr",
     "output_type": "stream",
     "text": [
      "/home/wanxinli/miniconda3/lib/python3.9/site-packages/ot/bregman.py:517: UserWarning: Sinkhorn did not converge. You might want to increase the number of iterations `numItermax` or the regularization parameter `reg`.\n",
      "  warnings.warn(\"Sinkhorn did not converge. You might want to \"\n"
     ]
    },
    {
     "name": "stdout",
     "output_type": "stream",
     "text": [
      "iteration: 27\n"
     ]
    },
    {
     "name": "stderr",
     "output_type": "stream",
     "text": [
      "/home/wanxinli/miniconda3/lib/python3.9/site-packages/ot/bregman.py:517: UserWarning: Sinkhorn did not converge. You might want to increase the number of iterations `numItermax` or the regularization parameter `reg`.\n",
      "  warnings.warn(\"Sinkhorn did not converge. You might want to \"\n"
     ]
    },
    {
     "name": "stdout",
     "output_type": "stream",
     "text": [
      "iteration: 28\n"
     ]
    },
    {
     "name": "stderr",
     "output_type": "stream",
     "text": [
      "/home/wanxinli/miniconda3/lib/python3.9/site-packages/ot/bregman.py:517: UserWarning: Sinkhorn did not converge. You might want to increase the number of iterations `numItermax` or the regularization parameter `reg`.\n",
      "  warnings.warn(\"Sinkhorn did not converge. You might want to \"\n"
     ]
    },
    {
     "name": "stdout",
     "output_type": "stream",
     "text": [
      "iteration: 29\n",
      "iteration: 30\n"
     ]
    },
    {
     "name": "stderr",
     "output_type": "stream",
     "text": [
      "/home/wanxinli/miniconda3/lib/python3.9/site-packages/ot/bregman.py:517: UserWarning: Sinkhorn did not converge. You might want to increase the number of iterations `numItermax` or the regularization parameter `reg`.\n",
      "  warnings.warn(\"Sinkhorn did not converge. You might want to \"\n"
     ]
    },
    {
     "name": "stdout",
     "output_type": "stream",
     "text": [
      "iteration: 31\n"
     ]
    },
    {
     "name": "stderr",
     "output_type": "stream",
     "text": [
      "/home/wanxinli/miniconda3/lib/python3.9/site-packages/ot/bregman.py:517: UserWarning: Sinkhorn did not converge. You might want to increase the number of iterations `numItermax` or the regularization parameter `reg`.\n",
      "  warnings.warn(\"Sinkhorn did not converge. You might want to \"\n"
     ]
    },
    {
     "name": "stdout",
     "output_type": "stream",
     "text": [
      "iteration: 32\n",
      "iteration: 33\n"
     ]
    },
    {
     "name": "stderr",
     "output_type": "stream",
     "text": [
      "/home/wanxinli/miniconda3/lib/python3.9/site-packages/ot/bregman.py:517: UserWarning: Sinkhorn did not converge. You might want to increase the number of iterations `numItermax` or the regularization parameter `reg`.\n",
      "  warnings.warn(\"Sinkhorn did not converge. You might want to \"\n"
     ]
    },
    {
     "name": "stdout",
     "output_type": "stream",
     "text": [
      "iteration: 34\n"
     ]
    },
    {
     "name": "stderr",
     "output_type": "stream",
     "text": [
      "/home/wanxinli/miniconda3/lib/python3.9/site-packages/ot/bregman.py:517: UserWarning: Sinkhorn did not converge. You might want to increase the number of iterations `numItermax` or the regularization parameter `reg`.\n",
      "  warnings.warn(\"Sinkhorn did not converge. You might want to \"\n"
     ]
    },
    {
     "name": "stdout",
     "output_type": "stream",
     "text": [
      "iteration: 35\n"
     ]
    },
    {
     "name": "stderr",
     "output_type": "stream",
     "text": [
      "/home/wanxinli/miniconda3/lib/python3.9/site-packages/ot/bregman.py:517: UserWarning: Sinkhorn did not converge. You might want to increase the number of iterations `numItermax` or the regularization parameter `reg`.\n",
      "  warnings.warn(\"Sinkhorn did not converge. You might want to \"\n"
     ]
    },
    {
     "name": "stdout",
     "output_type": "stream",
     "text": [
      "iteration: 36\n"
     ]
    },
    {
     "name": "stderr",
     "output_type": "stream",
     "text": [
      "/home/wanxinli/miniconda3/lib/python3.9/site-packages/ot/bregman.py:517: UserWarning: Sinkhorn did not converge. You might want to increase the number of iterations `numItermax` or the regularization parameter `reg`.\n",
      "  warnings.warn(\"Sinkhorn did not converge. You might want to \"\n"
     ]
    },
    {
     "name": "stdout",
     "output_type": "stream",
     "text": [
      "iteration: 37\n",
      "iteration: 38\n",
      "iteration: 39\n",
      "iteration: 40\n"
     ]
    },
    {
     "name": "stderr",
     "output_type": "stream",
     "text": [
      "/home/wanxinli/miniconda3/lib/python3.9/site-packages/ot/bregman.py:517: UserWarning: Sinkhorn did not converge. You might want to increase the number of iterations `numItermax` or the regularization parameter `reg`.\n",
      "  warnings.warn(\"Sinkhorn did not converge. You might want to \"\n"
     ]
    },
    {
     "name": "stdout",
     "output_type": "stream",
     "text": [
      "iteration: 41\n"
     ]
    },
    {
     "name": "stderr",
     "output_type": "stream",
     "text": [
      "/home/wanxinli/miniconda3/lib/python3.9/site-packages/ot/bregman.py:517: UserWarning: Sinkhorn did not converge. You might want to increase the number of iterations `numItermax` or the regularization parameter `reg`.\n",
      "  warnings.warn(\"Sinkhorn did not converge. You might want to \"\n"
     ]
    },
    {
     "name": "stdout",
     "output_type": "stream",
     "text": [
      "iteration: 42\n",
      "iteration: 43\n"
     ]
    },
    {
     "name": "stderr",
     "output_type": "stream",
     "text": [
      "/home/wanxinli/miniconda3/lib/python3.9/site-packages/ot/bregman.py:517: UserWarning: Sinkhorn did not converge. You might want to increase the number of iterations `numItermax` or the regularization parameter `reg`.\n",
      "  warnings.warn(\"Sinkhorn did not converge. You might want to \"\n"
     ]
    },
    {
     "name": "stdout",
     "output_type": "stream",
     "text": [
      "iteration: 44\n"
     ]
    },
    {
     "name": "stderr",
     "output_type": "stream",
     "text": [
      "/home/wanxinli/miniconda3/lib/python3.9/site-packages/ot/bregman.py:517: UserWarning: Sinkhorn did not converge. You might want to increase the number of iterations `numItermax` or the regularization parameter `reg`.\n",
      "  warnings.warn(\"Sinkhorn did not converge. You might want to \"\n"
     ]
    },
    {
     "name": "stdout",
     "output_type": "stream",
     "text": [
      "iteration: 45\n",
      "iteration: 46\n",
      "iteration: 47\n",
      "iteration: 48\n",
      "iteration: 49\n",
      "iteration: 50\n",
      "iteration: 51\n"
     ]
    },
    {
     "name": "stderr",
     "output_type": "stream",
     "text": [
      "/home/wanxinli/miniconda3/lib/python3.9/site-packages/ot/bregman.py:517: UserWarning: Sinkhorn did not converge. You might want to increase the number of iterations `numItermax` or the regularization parameter `reg`.\n",
      "  warnings.warn(\"Sinkhorn did not converge. You might want to \"\n"
     ]
    },
    {
     "name": "stdout",
     "output_type": "stream",
     "text": [
      "iteration: 52\n",
      "iteration: 53\n"
     ]
    },
    {
     "name": "stderr",
     "output_type": "stream",
     "text": [
      "/home/wanxinli/miniconda3/lib/python3.9/site-packages/ot/bregman.py:517: UserWarning: Sinkhorn did not converge. You might want to increase the number of iterations `numItermax` or the regularization parameter `reg`.\n",
      "  warnings.warn(\"Sinkhorn did not converge. You might want to \"\n"
     ]
    },
    {
     "name": "stdout",
     "output_type": "stream",
     "text": [
      "iteration: 54\n"
     ]
    },
    {
     "name": "stderr",
     "output_type": "stream",
     "text": [
      "/home/wanxinli/miniconda3/lib/python3.9/site-packages/ot/bregman.py:517: UserWarning: Sinkhorn did not converge. You might want to increase the number of iterations `numItermax` or the regularization parameter `reg`.\n",
      "  warnings.warn(\"Sinkhorn did not converge. You might want to \"\n"
     ]
    },
    {
     "name": "stdout",
     "output_type": "stream",
     "text": [
      "iteration: 55\n"
     ]
    },
    {
     "name": "stderr",
     "output_type": "stream",
     "text": [
      "/home/wanxinli/miniconda3/lib/python3.9/site-packages/ot/bregman.py:517: UserWarning: Sinkhorn did not converge. You might want to increase the number of iterations `numItermax` or the regularization parameter `reg`.\n",
      "  warnings.warn(\"Sinkhorn did not converge. You might want to \"\n"
     ]
    },
    {
     "name": "stdout",
     "output_type": "stream",
     "text": [
      "iteration: 56\n",
      "iteration: 57\n",
      "iteration: 58\n",
      "iteration: 59\n",
      "iteration: 60\n",
      "iteration: 61\n",
      "iteration: 62\n",
      "iteration: 63\n",
      "iteration: 64\n",
      "iteration: 65\n"
     ]
    },
    {
     "name": "stderr",
     "output_type": "stream",
     "text": [
      "/home/wanxinli/miniconda3/lib/python3.9/site-packages/ot/bregman.py:517: UserWarning: Sinkhorn did not converge. You might want to increase the number of iterations `numItermax` or the regularization parameter `reg`.\n",
      "  warnings.warn(\"Sinkhorn did not converge. You might want to \"\n"
     ]
    },
    {
     "name": "stdout",
     "output_type": "stream",
     "text": [
      "iteration: 66\n",
      "iteration: 67\n",
      "iteration: 68\n"
     ]
    },
    {
     "name": "stderr",
     "output_type": "stream",
     "text": [
      "/home/wanxinli/miniconda3/lib/python3.9/site-packages/ot/bregman.py:517: UserWarning: Sinkhorn did not converge. You might want to increase the number of iterations `numItermax` or the regularization parameter `reg`.\n",
      "  warnings.warn(\"Sinkhorn did not converge. You might want to \"\n"
     ]
    },
    {
     "name": "stdout",
     "output_type": "stream",
     "text": [
      "iteration: 69\n"
     ]
    },
    {
     "name": "stderr",
     "output_type": "stream",
     "text": [
      "/home/wanxinli/miniconda3/lib/python3.9/site-packages/ot/bregman.py:517: UserWarning: Sinkhorn did not converge. You might want to increase the number of iterations `numItermax` or the regularization parameter `reg`.\n",
      "  warnings.warn(\"Sinkhorn did not converge. You might want to \"\n"
     ]
    },
    {
     "name": "stdout",
     "output_type": "stream",
     "text": [
      "iteration: 70\n"
     ]
    },
    {
     "name": "stderr",
     "output_type": "stream",
     "text": [
      "/home/wanxinli/miniconda3/lib/python3.9/site-packages/ot/bregman.py:517: UserWarning: Sinkhorn did not converge. You might want to increase the number of iterations `numItermax` or the regularization parameter `reg`.\n",
      "  warnings.warn(\"Sinkhorn did not converge. You might want to \"\n"
     ]
    },
    {
     "name": "stdout",
     "output_type": "stream",
     "text": [
      "iteration: 71\n",
      "iteration: 72\n"
     ]
    },
    {
     "name": "stderr",
     "output_type": "stream",
     "text": [
      "/home/wanxinli/miniconda3/lib/python3.9/site-packages/ot/bregman.py:517: UserWarning: Sinkhorn did not converge. You might want to increase the number of iterations `numItermax` or the regularization parameter `reg`.\n",
      "  warnings.warn(\"Sinkhorn did not converge. You might want to \"\n"
     ]
    },
    {
     "name": "stdout",
     "output_type": "stream",
     "text": [
      "iteration: 73\n",
      "iteration: 74\n",
      "iteration: 75\n"
     ]
    },
    {
     "name": "stderr",
     "output_type": "stream",
     "text": [
      "/home/wanxinli/miniconda3/lib/python3.9/site-packages/ot/bregman.py:517: UserWarning: Sinkhorn did not converge. You might want to increase the number of iterations `numItermax` or the regularization parameter `reg`.\n",
      "  warnings.warn(\"Sinkhorn did not converge. You might want to \"\n"
     ]
    },
    {
     "name": "stdout",
     "output_type": "stream",
     "text": [
      "iteration: 76\n"
     ]
    },
    {
     "name": "stderr",
     "output_type": "stream",
     "text": [
      "/home/wanxinli/miniconda3/lib/python3.9/site-packages/ot/bregman.py:517: UserWarning: Sinkhorn did not converge. You might want to increase the number of iterations `numItermax` or the regularization parameter `reg`.\n",
      "  warnings.warn(\"Sinkhorn did not converge. You might want to \"\n"
     ]
    },
    {
     "name": "stdout",
     "output_type": "stream",
     "text": [
      "iteration: 77\n",
      "iteration: 78\n",
      "iteration: 79\n",
      "iteration: 80\n",
      "iteration: 81\n",
      "iteration: 82\n"
     ]
    },
    {
     "name": "stderr",
     "output_type": "stream",
     "text": [
      "/home/wanxinli/miniconda3/lib/python3.9/site-packages/ot/bregman.py:517: UserWarning: Sinkhorn did not converge. You might want to increase the number of iterations `numItermax` or the regularization parameter `reg`.\n",
      "  warnings.warn(\"Sinkhorn did not converge. You might want to \"\n"
     ]
    },
    {
     "name": "stdout",
     "output_type": "stream",
     "text": [
      "iteration: 83\n",
      "iteration: 84\n",
      "iteration: 85\n"
     ]
    },
    {
     "name": "stderr",
     "output_type": "stream",
     "text": [
      "/home/wanxinli/miniconda3/lib/python3.9/site-packages/ot/bregman.py:517: UserWarning: Sinkhorn did not converge. You might want to increase the number of iterations `numItermax` or the regularization parameter `reg`.\n",
      "  warnings.warn(\"Sinkhorn did not converge. You might want to \"\n"
     ]
    },
    {
     "name": "stdout",
     "output_type": "stream",
     "text": [
      "iteration: 86\n",
      "iteration: 87\n",
      "iteration: 88\n",
      "iteration: 89\n"
     ]
    },
    {
     "name": "stderr",
     "output_type": "stream",
     "text": [
      "/home/wanxinli/miniconda3/lib/python3.9/site-packages/ot/bregman.py:517: UserWarning: Sinkhorn did not converge. You might want to increase the number of iterations `numItermax` or the regularization parameter `reg`.\n",
      "  warnings.warn(\"Sinkhorn did not converge. You might want to \"\n"
     ]
    },
    {
     "name": "stdout",
     "output_type": "stream",
     "text": [
      "iteration: 90\n",
      "iteration: 91\n"
     ]
    },
    {
     "name": "stderr",
     "output_type": "stream",
     "text": [
      "/home/wanxinli/miniconda3/lib/python3.9/site-packages/ot/bregman.py:517: UserWarning: Sinkhorn did not converge. You might want to increase the number of iterations `numItermax` or the regularization parameter `reg`.\n",
      "  warnings.warn(\"Sinkhorn did not converge. You might want to \"\n"
     ]
    },
    {
     "name": "stdout",
     "output_type": "stream",
     "text": [
      "iteration: 92\n"
     ]
    },
    {
     "name": "stderr",
     "output_type": "stream",
     "text": [
      "/home/wanxinli/miniconda3/lib/python3.9/site-packages/ot/bregman.py:517: UserWarning: Sinkhorn did not converge. You might want to increase the number of iterations `numItermax` or the regularization parameter `reg`.\n",
      "  warnings.warn(\"Sinkhorn did not converge. You might want to \"\n"
     ]
    },
    {
     "name": "stdout",
     "output_type": "stream",
     "text": [
      "iteration: 93\n",
      "iteration: 94\n"
     ]
    },
    {
     "name": "stderr",
     "output_type": "stream",
     "text": [
      "/home/wanxinli/miniconda3/lib/python3.9/site-packages/ot/bregman.py:517: UserWarning: Sinkhorn did not converge. You might want to increase the number of iterations `numItermax` or the regularization parameter `reg`.\n",
      "  warnings.warn(\"Sinkhorn did not converge. You might want to \"\n"
     ]
    },
    {
     "name": "stdout",
     "output_type": "stream",
     "text": [
      "iteration: 95\n"
     ]
    },
    {
     "name": "stderr",
     "output_type": "stream",
     "text": [
      "/home/wanxinli/miniconda3/lib/python3.9/site-packages/ot/bregman.py:517: UserWarning: Sinkhorn did not converge. You might want to increase the number of iterations `numItermax` or the regularization parameter `reg`.\n",
      "  warnings.warn(\"Sinkhorn did not converge. You might want to \"\n"
     ]
    },
    {
     "name": "stdout",
     "output_type": "stream",
     "text": [
      "iteration: 96\n",
      "iteration: 97\n"
     ]
    },
    {
     "name": "stderr",
     "output_type": "stream",
     "text": [
      "/home/wanxinli/miniconda3/lib/python3.9/site-packages/ot/bregman.py:517: UserWarning: Sinkhorn did not converge. You might want to increase the number of iterations `numItermax` or the regularization parameter `reg`.\n",
      "  warnings.warn(\"Sinkhorn did not converge. You might want to \"\n"
     ]
    },
    {
     "name": "stdout",
     "output_type": "stream",
     "text": [
      "iteration: 98\n"
     ]
    },
    {
     "name": "stderr",
     "output_type": "stream",
     "text": [
      "/home/wanxinli/miniconda3/lib/python3.9/site-packages/ot/bregman.py:517: UserWarning: Sinkhorn did not converge. You might want to increase the number of iterations `numItermax` or the regularization parameter `reg`.\n",
      "  warnings.warn(\"Sinkhorn did not converge. You might want to \"\n"
     ]
    },
    {
     "name": "stdout",
     "output_type": "stream",
     "text": [
      "iteration: 99\n"
     ]
    },
    {
     "data": {
      "text/plain": [
       "array([[2.12947088e+07, 3.42850583e+07, 4.23206363e+07, 6.89416370e+07,\n",
       "        3.05856750e+07, 5.29060133e+07],\n",
       "       [1.26871214e+07, 1.89890136e+07, 4.20886611e+07, 7.27709306e+07,\n",
       "        3.37358813e+07, 5.84831013e+07],\n",
       "       [2.56329091e+07, 3.70975381e+07, 4.00875927e+07, 5.57888934e+07,\n",
       "        4.09172809e+07, 5.98169989e+07],\n",
       "       [2.19583732e+07, 3.37712644e+07, 6.09529497e+07, 1.23466780e+08,\n",
       "        4.20724497e+07, 6.32335035e+07],\n",
       "       [2.11413447e+07, 3.02993094e+07, 2.11617073e+08, 1.20341894e+09,\n",
       "        4.36764196e+07, 6.67388500e+07],\n",
       "       [2.15913293e+07, 3.43298111e+07, 4.56338639e+08, 2.41069556e+09,\n",
       "        3.45785168e+07, 5.01873890e+07],\n",
       "       [2.92467807e+07, 4.49853135e+07, 9.44788960e+07, 2.62070370e+08,\n",
       "        3.83772686e+07, 5.33426783e+07],\n",
       "       [2.42116188e+07, 3.59606992e+07, 7.52835015e+07, 1.69055360e+08,\n",
       "        3.86091276e+07, 5.57652326e+07],\n",
       "       [2.42512182e+07, 3.76176690e+07, 3.65439147e+08, 3.22101144e+09,\n",
       "        3.93272309e+07, 6.11008626e+07],\n",
       "       [2.26655763e+07, 3.36848462e+07, 8.90393411e+07, 2.39120297e+08,\n",
       "        3.80340501e+07, 5.26842174e+07],\n",
       "       [1.65217674e+07, 2.57859893e+07, 7.74655343e+07, 2.75855307e+08,\n",
       "        3.59552368e+07, 5.75763250e+07],\n",
       "       [2.24642212e+07, 3.74339651e+07, 6.75548535e+07, 2.02220720e+08,\n",
       "        3.15032176e+07, 5.12890808e+07],\n",
       "       [2.29291263e+07, 3.47469624e+07, 7.01468073e+07, 1.46987249e+08,\n",
       "        3.86045877e+07, 6.16010444e+07],\n",
       "       [2.95264426e+07, 4.42218793e+07, 8.00524307e+07, 1.93975267e+08,\n",
       "        4.22678116e+07, 6.21181666e+07],\n",
       "       [1.59993700e+07, 2.41949770e+07, 5.85891142e+07, 1.20406409e+08,\n",
       "        3.02986715e+07, 4.82127082e+07],\n",
       "       [3.32286898e+07, 4.97404287e+07, 1.57826624e+08, 9.20083366e+08,\n",
       "        3.46462700e+07, 4.62776368e+07],\n",
       "       [1.97963657e+07, 2.91391315e+07, 7.81931283e+07, 2.68410688e+08,\n",
       "        3.29147016e+07, 5.23332037e+07],\n",
       "       [2.62661452e+07, 3.85273080e+07, 2.47228175e+08, 1.06493162e+09,\n",
       "        4.46574447e+07, 7.12467547e+07],\n",
       "       [2.66189709e+07, 4.34904132e+07, 2.16785140e+08, 1.04418447e+09,\n",
       "        4.24847048e+07, 6.75451792e+07],\n",
       "       [1.77451699e+07, 3.02043257e+07, 1.19249232e+08, 6.62004249e+08,\n",
       "        3.59609529e+07, 5.42613747e+07],\n",
       "       [2.47874099e+07, 3.60533319e+07, 8.10707933e+07, 2.79480947e+08,\n",
       "        3.74151243e+07, 6.01055905e+07],\n",
       "       [1.79003550e+07, 2.84112763e+07, 6.06340537e+07, 1.09060011e+08,\n",
       "        3.63060650e+07, 5.48521371e+07],\n",
       "       [1.81082765e+07, 3.01598783e+07, 5.69418981e+07, 1.10424684e+08,\n",
       "        4.07396886e+07, 6.82116176e+07],\n",
       "       [2.28575347e+07, 3.76803391e+07, 4.20366573e+07, 7.06471149e+07,\n",
       "        3.28058556e+07, 5.31899199e+07],\n",
       "       [1.69071820e+07, 2.65193300e+07, 5.15076103e+07, 9.07677613e+07,\n",
       "        3.07437303e+07, 4.64600557e+07],\n",
       "       [2.45636583e+07, 3.84925551e+07, 7.24370639e+07, 2.02815276e+08,\n",
       "        3.20667534e+07, 4.95097569e+07],\n",
       "       [2.53510952e+07, 4.03892254e+07, 7.33696551e+07, 1.41011687e+08,\n",
       "        4.26118861e+07, 6.34460183e+07],\n",
       "       [1.74584363e+07, 2.84771086e+07, 5.04390785e+07, 9.06014183e+07,\n",
       "        3.31625137e+07, 5.73501212e+07],\n",
       "       [2.74965475e+07, 4.06794996e+07, 6.20512495e+07, 1.22855788e+08,\n",
       "        4.25121470e+07, 6.91856428e+07],\n",
       "       [2.43397770e+07, 4.30346644e+07, 5.39201935e+07, 9.24832225e+07,\n",
       "        3.18871986e+07, 4.78302593e+07],\n",
       "       [3.05310544e+07, 5.21858440e+07, 1.20045053e+08, 3.87168737e+08,\n",
       "        3.84989190e+07, 5.97956955e+07],\n",
       "       [2.28470055e+07, 3.43933087e+07, 6.54474953e+07, 1.99596111e+08,\n",
       "        3.96823469e+07, 6.68045926e+07],\n",
       "       [2.77839652e+07, 4.49923497e+07, 9.73932462e+07, 2.18294969e+08,\n",
       "        4.29742342e+07, 6.61008798e+07],\n",
       "       [2.65303417e+07, 4.13632363e+07, 8.44633689e+07, 1.58412342e+08,\n",
       "        3.93695830e+07, 5.74479036e+07],\n",
       "       [2.77643893e+07, 4.43697671e+07, 1.27727177e+08, 7.22870040e+08,\n",
       "        3.54731161e+07, 5.02194436e+07],\n",
       "       [2.43381102e+07, 3.46490570e+07, 7.27129545e+07, 2.04268840e+08,\n",
       "        3.62745837e+07, 5.55192930e+07],\n",
       "       [1.82502149e+07, 2.81013654e+07, 7.78801802e+07, 2.89276022e+08,\n",
       "        2.94940863e+07, 4.84400291e+07],\n",
       "       [3.40657082e+07, 4.93532326e+07, 7.34561702e+07, 1.77701012e+08,\n",
       "        3.48055996e+07, 4.60562336e+07],\n",
       "       [2.53679237e+07, 4.00624188e+07, 6.25827905e+07, 1.20044052e+08,\n",
       "        3.42174575e+07, 5.66478515e+07],\n",
       "       [2.38826369e+07, 3.48972976e+07, 7.01843719e+07, 1.96579006e+08,\n",
       "        2.82081116e+07, 3.77728796e+07],\n",
       "       [2.24094208e+07, 3.43529210e+07, 7.52270448e+07, 1.98271945e+08,\n",
       "        3.06185427e+07, 4.78155735e+07],\n",
       "       [2.79161188e+07, 4.18541750e+07, 6.91858705e+07, 1.42749359e+08,\n",
       "        4.11507497e+07, 6.23891171e+07],\n",
       "       [1.53997758e+07, 2.36451387e+07, 4.84244342e+07, 1.01061946e+08,\n",
       "        3.18865964e+07, 5.07702299e+07],\n",
       "       [2.84971392e+07, 4.27859763e+07, 5.82223442e+07, 1.22477479e+08,\n",
       "        3.61352342e+07, 5.54067993e+07],\n",
       "       [2.99706979e+07, 4.78461689e+07, 7.64914197e+07, 2.88358708e+08,\n",
       "        3.88774525e+07, 5.62914572e+07],\n",
       "       [2.16541321e+07, 3.49162806e+07, 8.94173174e+08, 6.01869258e+09,\n",
       "        3.81304298e+07, 5.44770678e+07],\n",
       "       [2.71750595e+07, 4.78928413e+07, 6.37243467e+07, 1.24406064e+08,\n",
       "        4.03678225e+07, 6.32798763e+07],\n",
       "       [1.59739056e+07, 2.39353202e+07, 5.50302018e+07, 8.77626780e+07,\n",
       "        3.93032936e+07, 6.38188697e+07],\n",
       "       [2.20637734e+07, 3.97803386e+07, 7.77786066e+07, 2.12169520e+08,\n",
       "        3.39352666e+07, 5.50466594e+07],\n",
       "       [2.33682223e+07, 3.45857326e+07, 5.42602126e+07, 1.08405031e+08,\n",
       "        3.57349386e+07, 5.55599035e+07],\n",
       "       [2.38014948e+07, 3.66852015e+07, 5.92176917e+07, 9.68789679e+07,\n",
       "        3.84432140e+07, 5.49898416e+07],\n",
       "       [2.16616882e+07, 3.22598158e+07, 3.40448566e+07, 5.30340442e+07,\n",
       "        2.65518400e+07, 3.89243585e+07],\n",
       "       [1.57375102e+07, 2.37078151e+07, 6.02029057e+07, 1.70836387e+08,\n",
       "        3.39972983e+07, 5.98376127e+07],\n",
       "       [2.09271212e+07, 3.46879061e+07, 6.05792868e+07, 1.08758905e+08,\n",
       "        4.22207134e+07, 6.95828785e+07],\n",
       "       [2.11293481e+07, 3.33179420e+07, 5.30604109e+07, 1.01865679e+08,\n",
       "        3.53305044e+07, 5.88812072e+07],\n",
       "       [2.45522511e+07, 3.59720437e+07, 6.64925243e+07, 1.06831802e+08,\n",
       "        4.22384128e+07, 6.17892363e+07],\n",
       "       [3.18165563e+07, 4.77574186e+07, 5.85394452e+07, 1.04229696e+08,\n",
       "        3.98275364e+07, 5.99004065e+07],\n",
       "       [2.20710818e+07, 3.24902549e+07, 7.44040394e+07, 1.88299688e+08,\n",
       "        3.61326747e+07, 5.24790333e+07],\n",
       "       [1.91113873e+07, 2.79647459e+07, 5.02909415e+07, 7.57516893e+07,\n",
       "        4.39531097e+07, 6.67638927e+07],\n",
       "       [1.80970549e+07, 2.90325193e+07, 1.00533428e+08, 3.16572787e+08,\n",
       "        4.34216738e+07, 6.87073800e+07],\n",
       "       [2.45334080e+07, 3.23519308e+07, 4.13114819e+07, 7.13931533e+07,\n",
       "        3.31077929e+07, 4.61781018e+07],\n",
       "       [2.17980809e+07, 3.31640174e+07, 5.64567501e+07, 1.27539165e+08,\n",
       "        3.62745023e+07, 5.24868607e+07],\n",
       "       [2.10872545e+07, 3.38111591e+07, 1.12123879e+08, 4.20386878e+08,\n",
       "        5.11623914e+07, 8.19262060e+07],\n",
       "       [3.28738887e+07, 5.04505385e+07, 3.21814483e+08, 2.23893880e+09,\n",
       "        3.40640121e+07, 5.29824524e+07],\n",
       "       [2.19753284e+07, 3.45029720e+07, 7.71443382e+07, 2.32926270e+08,\n",
       "        4.15091086e+07, 6.17108870e+07],\n",
       "       [1.97224906e+07, 3.21645775e+07, 1.41717856e+08, 7.31861961e+08,\n",
       "        2.55807383e+07, 4.05626558e+07],\n",
       "       [1.94046488e+07, 3.29862275e+07, 6.45966723e+07, 1.56136776e+08,\n",
       "        3.16658591e+07, 5.08600935e+07],\n",
       "       [2.45106371e+07, 3.81206731e+07, 7.58183792e+07, 1.94040440e+08,\n",
       "        4.05634179e+07, 6.26748038e+07],\n",
       "       [2.30075771e+07, 3.47416124e+07, 8.30970381e+07, 2.77157483e+08,\n",
       "        3.37177429e+07, 5.60751617e+07],\n",
       "       [2.12166495e+07, 3.74187683e+07, 5.67254743e+07, 9.29149549e+07,\n",
       "        3.73709106e+07, 5.72677710e+07],\n",
       "       [2.50137148e+07, 3.78386624e+07, 1.12511436e+08, 2.96966490e+08,\n",
       "        4.40662422e+07, 6.68958902e+07],\n",
       "       [2.72442369e+07, 4.11035971e+07, 1.41915416e+08, 7.78015817e+08,\n",
       "        4.30642504e+07, 6.18805079e+07],\n",
       "       [2.11009247e+07, 3.15269910e+07, 2.71593016e+08, 1.01822505e+09,\n",
       "        4.01528600e+07, 6.19752822e+07],\n",
       "       [2.98426131e+07, 4.68105224e+07, 1.13608779e+08, 3.80685853e+08,\n",
       "        3.33366872e+07, 4.92227952e+07],\n",
       "       [2.74510156e+07, 4.60298651e+07, 6.52863822e+07, 1.22875223e+08,\n",
       "        4.06845045e+07, 5.83957860e+07],\n",
       "       [1.99471577e+07, 2.88615787e+07, 7.06732064e+07, 1.52406556e+08,\n",
       "        3.50168879e+07, 5.55275908e+07],\n",
       "       [2.17089505e+07, 3.24361983e+07, 1.33739418e+08, 4.46898335e+08,\n",
       "        4.03359366e+07, 7.02774242e+07],\n",
       "       [1.86496390e+07, 2.90787906e+07, 5.03691132e+07, 8.00453195e+07,\n",
       "        4.15268452e+07, 6.63384352e+07],\n",
       "       [2.13941578e+07, 3.34268299e+07, 8.28005413e+07, 2.34020186e+08,\n",
       "        4.44775488e+07, 7.12039022e+07],\n",
       "       [2.34801268e+07, 3.59328040e+07, 6.21603185e+07, 1.61014979e+08,\n",
       "        3.30050564e+07, 5.15838875e+07],\n",
       "       [1.94051813e+07, 2.88846484e+07, 1.97724280e+08, 1.03171039e+09,\n",
       "        4.19343601e+07, 6.94302012e+07],\n",
       "       [2.33707796e+07, 3.51760331e+07, 2.74811831e+09, 2.45027586e+10,\n",
       "        4.00986615e+07, 6.26080604e+07],\n",
       "       [2.25482192e+07, 3.77855399e+07, 6.99829406e+07, 2.78689267e+08,\n",
       "        3.52309816e+07, 5.09961671e+07],\n",
       "       [3.01234941e+07, 5.05035438e+07, 1.44213752e+08, 4.72096591e+08,\n",
       "        3.90115375e+07, 6.02194389e+07],\n",
       "       [1.94523861e+07, 3.02909505e+07, 3.46338329e+07, 4.92125876e+07,\n",
       "        3.15824887e+07, 4.67091940e+07],\n",
       "       [2.20527903e+07, 3.57735492e+07, 8.80290726e+07, 1.85268578e+08,\n",
       "        3.84550525e+07, 6.35215583e+07],\n",
       "       [2.25664833e+07, 3.68602179e+07, 8.74530677e+07, 2.77027341e+08,\n",
       "        3.96327855e+07, 5.85815973e+07],\n",
       "       [2.29478207e+07, 3.43147337e+07, 6.87169760e+07, 1.50619164e+08,\n",
       "        4.63578450e+07, 7.14255073e+07],\n",
       "       [3.46613115e+07, 5.70080033e+07, 1.13676863e+08, 3.00143028e+08,\n",
       "        3.98080042e+07, 5.54598300e+07],\n",
       "       [2.70118595e+07, 4.30468119e+07, 5.26353699e+07, 8.51284837e+07,\n",
       "        3.80420079e+07, 6.02720070e+07],\n",
       "       [2.21300108e+07, 3.70297518e+07, 6.41513595e+07, 1.30247613e+08,\n",
       "        3.42857001e+07, 4.84375367e+07],\n",
       "       [2.30686241e+07, 3.56465967e+07, 5.75013543e+07, 1.10088071e+08,\n",
       "        3.96205938e+07, 6.02127784e+07],\n",
       "       [1.96928908e+07, 3.28567673e+07, 6.80390752e+07, 1.95147479e+08,\n",
       "        3.70883529e+07, 5.80123202e+07],\n",
       "       [3.03654357e+07, 4.83353899e+07, 5.37145235e+07, 9.81139886e+07,\n",
       "        3.40565219e+07, 4.93927657e+07],\n",
       "       [1.70646936e+07, 2.71273882e+07, 8.55708267e+07, 3.10819153e+08,\n",
       "        4.72839819e+07, 7.49926364e+07],\n",
       "       [2.72409054e+07, 4.29792541e+07, 2.26173895e+08, 5.09932813e+08,\n",
       "        3.63075443e+07, 5.26680596e+07],\n",
       "       [2.06719034e+07, 3.17103817e+07, 1.01508534e+09, 8.01689013e+09,\n",
       "        3.78898297e+07, 6.20551961e+07],\n",
       "       [2.24699341e+07, 3.56669426e+07, 5.58897182e+07, 1.16060854e+08,\n",
       "        3.42727829e+07, 5.35400901e+07],\n",
       "       [2.02521780e+07, 3.07560610e+07, 5.35485353e+07, 8.79345937e+07,\n",
       "        3.06997718e+07, 5.13204211e+07],\n",
       "       [2.07901742e+07, 3.53042230e+07, 1.38607218e+08, 8.38690531e+08,\n",
       "        3.57739493e+07, 5.42906461e+07]])"
      ]
     },
     "execution_count": 12,
     "metadata": {},
     "output_type": "execute_result"
    }
   ],
   "source": [
    "\"\"\" \n",
    "Run multiple iterations using Poission regression\n",
    "\"\"\"\n",
    "\n",
    "score_path = os.path.join(output_dir, \"exp5_poission_score.csv\")\n",
    "male_count = 120\n",
    "female_count = 100\n",
    "\n",
    "multi_proc_cts(score_path, n_components, cons_visits_df, custom_train_reps, \\\n",
    "    male_count, female_count, model_func = linear_model.PoissonRegressor, iteration=100)"
   ]
  },
  {
   "cell_type": "code",
   "execution_count": 6,
   "metadata": {},
   "outputs": [
    {
     "data": {
      "text/plain": [
       "<Figure size 640x480 with 0 Axes>"
      ]
     },
     "metadata": {},
     "output_type": "display_data"
    },
    {
     "data": {
      "image/png": "[encoded data removed]",
      "text/plain": [
       "<Figure size 640x480 with 1 Axes>"
      ]
     },
     "metadata": {},
     "output_type": "display_data"
    },
    {
     "data": {
      "text/plain": [
       "(0.5149940132146082, 0.3203022864604853)"
      ]
     },
     "execution_count": 6,
     "metadata": {},
     "output_type": "execute_result"
    }
   ],
   "source": [
    "score_path = os.path.join(output_dir, \"exp5_poisson_score.csv\")\n",
    "\n",
    "save_path = \"../../outputs/mimic/exp5_poisson_res.png\"\n",
    "\n",
    "box_plot_cts_short(score_path, save_path=save_path)"
   ]
  },
  {
   "cell_type": "code",
   "execution_count": 14,
   "metadata": {},
   "outputs": [
    {
     "name": "stdout",
     "output_type": "stream",
     "text": [
      "iteration: 0\n"
     ]
    },
    {
     "name": "stderr",
     "output_type": "stream",
     "text": [
      "/home/wanxinli/miniconda3/lib/python3.9/site-packages/ot/bregman.py:517: UserWarning: Sinkhorn did not converge. You might want to increase the number of iterations `numItermax` or the regularization parameter `reg`.\n",
      "  warnings.warn(\"Sinkhorn did not converge. You might want to \"\n"
     ]
    },
    {
     "name": "stdout",
     "output_type": "stream",
     "text": [
      "iteration: 1\n"
     ]
    },
    {
     "name": "stderr",
     "output_type": "stream",
     "text": [
      "/home/wanxinli/miniconda3/lib/python3.9/site-packages/ot/bregman.py:517: UserWarning: Sinkhorn did not converge. You might want to increase the number of iterations `numItermax` or the regularization parameter `reg`.\n",
      "  warnings.warn(\"Sinkhorn did not converge. You might want to \"\n"
     ]
    },
    {
     "name": "stdout",
     "output_type": "stream",
     "text": [
      "iteration: 2\n",
      "iteration: 3\n"
     ]
    },
    {
     "name": "stderr",
     "output_type": "stream",
     "text": [
      "/home/wanxinli/miniconda3/lib/python3.9/site-packages/ot/bregman.py:517: UserWarning: Sinkhorn did not converge. You might want to increase the number of iterations `numItermax` or the regularization parameter `reg`.\n",
      "  warnings.warn(\"Sinkhorn did not converge. You might want to \"\n"
     ]
    },
    {
     "name": "stdout",
     "output_type": "stream",
     "text": [
      "iteration: 4\n",
      "iteration: 5\n"
     ]
    },
    {
     "name": "stderr",
     "output_type": "stream",
     "text": [
      "/home/wanxinli/miniconda3/lib/python3.9/site-packages/ot/bregman.py:517: UserWarning: Sinkhorn did not converge. You might want to increase the number of iterations `numItermax` or the regularization parameter `reg`.\n",
      "  warnings.warn(\"Sinkhorn did not converge. You might want to \"\n"
     ]
    },
    {
     "name": "stdout",
     "output_type": "stream",
     "text": [
      "iteration: 6\n"
     ]
    },
    {
     "name": "stderr",
     "output_type": "stream",
     "text": [
      "/home/wanxinli/miniconda3/lib/python3.9/site-packages/ot/bregman.py:517: UserWarning: Sinkhorn did not converge. You might want to increase the number of iterations `numItermax` or the regularization parameter `reg`.\n",
      "  warnings.warn(\"Sinkhorn did not converge. You might want to \"\n"
     ]
    },
    {
     "name": "stdout",
     "output_type": "stream",
     "text": [
      "iteration: 7\n",
      "iteration: 8\n",
      "iteration: 9\n"
     ]
    },
    {
     "name": "stderr",
     "output_type": "stream",
     "text": [
      "/home/wanxinli/miniconda3/lib/python3.9/site-packages/ot/bregman.py:517: UserWarning: Sinkhorn did not converge. You might want to increase the number of iterations `numItermax` or the regularization parameter `reg`.\n",
      "  warnings.warn(\"Sinkhorn did not converge. You might want to \"\n"
     ]
    },
    {
     "name": "stdout",
     "output_type": "stream",
     "text": [
      "iteration: 10\n"
     ]
    },
    {
     "name": "stderr",
     "output_type": "stream",
     "text": [
      "/home/wanxinli/miniconda3/lib/python3.9/site-packages/ot/bregman.py:517: UserWarning: Sinkhorn did not converge. You might want to increase the number of iterations `numItermax` or the regularization parameter `reg`.\n",
      "  warnings.warn(\"Sinkhorn did not converge. You might want to \"\n"
     ]
    },
    {
     "name": "stdout",
     "output_type": "stream",
     "text": [
      "iteration: 11\n",
      "iteration: 12\n",
      "iteration: 13\n",
      "iteration: 14\n"
     ]
    },
    {
     "name": "stderr",
     "output_type": "stream",
     "text": [
      "/home/wanxinli/miniconda3/lib/python3.9/site-packages/ot/bregman.py:517: UserWarning: Sinkhorn did not converge. You might want to increase the number of iterations `numItermax` or the regularization parameter `reg`.\n",
      "  warnings.warn(\"Sinkhorn did not converge. You might want to \"\n"
     ]
    },
    {
     "name": "stdout",
     "output_type": "stream",
     "text": [
      "iteration: 15\n"
     ]
    },
    {
     "name": "stderr",
     "output_type": "stream",
     "text": [
      "/home/wanxinli/miniconda3/lib/python3.9/site-packages/ot/bregman.py:517: UserWarning: Sinkhorn did not converge. You might want to increase the number of iterations `numItermax` or the regularization parameter `reg`.\n",
      "  warnings.warn(\"Sinkhorn did not converge. You might want to \"\n"
     ]
    },
    {
     "name": "stdout",
     "output_type": "stream",
     "text": [
      "iteration: 16\n",
      "iteration: 17\n",
      "iteration: 18\n"
     ]
    },
    {
     "name": "stderr",
     "output_type": "stream",
     "text": [
      "/home/wanxinli/miniconda3/lib/python3.9/site-packages/ot/bregman.py:517: UserWarning: Sinkhorn did not converge. You might want to increase the number of iterations `numItermax` or the regularization parameter `reg`.\n",
      "  warnings.warn(\"Sinkhorn did not converge. You might want to \"\n"
     ]
    },
    {
     "name": "stdout",
     "output_type": "stream",
     "text": [
      "iteration: 19\n"
     ]
    },
    {
     "name": "stderr",
     "output_type": "stream",
     "text": [
      "/home/wanxinli/miniconda3/lib/python3.9/site-packages/ot/bregman.py:517: UserWarning: Sinkhorn did not converge. You might want to increase the number of iterations `numItermax` or the regularization parameter `reg`.\n",
      "  warnings.warn(\"Sinkhorn did not converge. You might want to \"\n"
     ]
    },
    {
     "name": "stdout",
     "output_type": "stream",
     "text": [
      "iteration: 20\n",
      "iteration: 21\n",
      "iteration: 22\n"
     ]
    },
    {
     "name": "stderr",
     "output_type": "stream",
     "text": [
      "/home/wanxinli/miniconda3/lib/python3.9/site-packages/ot/bregman.py:517: UserWarning: Sinkhorn did not converge. You might want to increase the number of iterations `numItermax` or the regularization parameter `reg`.\n",
      "  warnings.warn(\"Sinkhorn did not converge. You might want to \"\n"
     ]
    },
    {
     "name": "stdout",
     "output_type": "stream",
     "text": [
      "iteration: 23\n"
     ]
    },
    {
     "name": "stderr",
     "output_type": "stream",
     "text": [
      "/home/wanxinli/miniconda3/lib/python3.9/site-packages/ot/bregman.py:517: UserWarning: Sinkhorn did not converge. You might want to increase the number of iterations `numItermax` or the regularization parameter `reg`.\n",
      "  warnings.warn(\"Sinkhorn did not converge. You might want to \"\n"
     ]
    },
    {
     "name": "stdout",
     "output_type": "stream",
     "text": [
      "iteration: 24\n",
      "iteration: 25\n"
     ]
    },
    {
     "name": "stderr",
     "output_type": "stream",
     "text": [
      "/home/wanxinli/miniconda3/lib/python3.9/site-packages/ot/bregman.py:517: UserWarning: Sinkhorn did not converge. You might want to increase the number of iterations `numItermax` or the regularization parameter `reg`.\n",
      "  warnings.warn(\"Sinkhorn did not converge. You might want to \"\n"
     ]
    },
    {
     "name": "stdout",
     "output_type": "stream",
     "text": [
      "iteration: 26\n"
     ]
    },
    {
     "name": "stderr",
     "output_type": "stream",
     "text": [
      "/home/wanxinli/miniconda3/lib/python3.9/site-packages/ot/bregman.py:517: UserWarning: Sinkhorn did not converge. You might want to increase the number of iterations `numItermax` or the regularization parameter `reg`.\n",
      "  warnings.warn(\"Sinkhorn did not converge. You might want to \"\n"
     ]
    },
    {
     "name": "stdout",
     "output_type": "stream",
     "text": [
      "iteration: 27\n",
      "iteration: 28\n",
      "iteration: 29\n",
      "iteration: 30\n",
      "iteration: 31\n"
     ]
    },
    {
     "name": "stderr",
     "output_type": "stream",
     "text": [
      "/home/wanxinli/miniconda3/lib/python3.9/site-packages/ot/bregman.py:517: UserWarning: Sinkhorn did not converge. You might want to increase the number of iterations `numItermax` or the regularization parameter `reg`.\n",
      "  warnings.warn(\"Sinkhorn did not converge. You might want to \"\n"
     ]
    },
    {
     "name": "stdout",
     "output_type": "stream",
     "text": [
      "iteration: 32\n",
      "iteration: 33\n",
      "iteration: 34\n",
      "iteration: 35\n",
      "iteration: 36\n",
      "iteration: 37\n",
      "iteration: 38\n"
     ]
    },
    {
     "name": "stderr",
     "output_type": "stream",
     "text": [
      "/home/wanxinli/miniconda3/lib/python3.9/site-packages/ot/bregman.py:517: UserWarning: Sinkhorn did not converge. You might want to increase the number of iterations `numItermax` or the regularization parameter `reg`.\n",
      "  warnings.warn(\"Sinkhorn did not converge. You might want to \"\n"
     ]
    },
    {
     "name": "stdout",
     "output_type": "stream",
     "text": [
      "iteration: 39\n",
      "iteration: 40\n",
      "iteration: 41\n",
      "iteration: 42\n"
     ]
    },
    {
     "name": "stderr",
     "output_type": "stream",
     "text": [
      "/home/wanxinli/miniconda3/lib/python3.9/site-packages/ot/bregman.py:517: UserWarning: Sinkhorn did not converge. You might want to increase the number of iterations `numItermax` or the regularization parameter `reg`.\n",
      "  warnings.warn(\"Sinkhorn did not converge. You might want to \"\n"
     ]
    },
    {
     "name": "stdout",
     "output_type": "stream",
     "text": [
      "iteration: 43\n"
     ]
    },
    {
     "name": "stderr",
     "output_type": "stream",
     "text": [
      "/home/wanxinli/miniconda3/lib/python3.9/site-packages/ot/bregman.py:517: UserWarning: Sinkhorn did not converge. You might want to increase the number of iterations `numItermax` or the regularization parameter `reg`.\n",
      "  warnings.warn(\"Sinkhorn did not converge. You might want to \"\n"
     ]
    },
    {
     "name": "stdout",
     "output_type": "stream",
     "text": [
      "iteration: 44\n"
     ]
    },
    {
     "name": "stderr",
     "output_type": "stream",
     "text": [
      "/home/wanxinli/miniconda3/lib/python3.9/site-packages/ot/bregman.py:517: UserWarning: Sinkhorn did not converge. You might want to increase the number of iterations `numItermax` or the regularization parameter `reg`.\n",
      "  warnings.warn(\"Sinkhorn did not converge. You might want to \"\n"
     ]
    },
    {
     "name": "stdout",
     "output_type": "stream",
     "text": [
      "iteration: 45\n"
     ]
    },
    {
     "name": "stderr",
     "output_type": "stream",
     "text": [
      "/home/wanxinli/miniconda3/lib/python3.9/site-packages/ot/bregman.py:517: UserWarning: Sinkhorn did not converge. You might want to increase the number of iterations `numItermax` or the regularization parameter `reg`.\n",
      "  warnings.warn(\"Sinkhorn did not converge. You might want to \"\n"
     ]
    },
    {
     "name": "stdout",
     "output_type": "stream",
     "text": [
      "iteration: 46\n"
     ]
    },
    {
     "name": "stderr",
     "output_type": "stream",
     "text": [
      "/home/wanxinli/miniconda3/lib/python3.9/site-packages/ot/bregman.py:517: UserWarning: Sinkhorn did not converge. You might want to increase the number of iterations `numItermax` or the regularization parameter `reg`.\n",
      "  warnings.warn(\"Sinkhorn did not converge. You might want to \"\n"
     ]
    },
    {
     "name": "stdout",
     "output_type": "stream",
     "text": [
      "iteration: 47\n",
      "iteration: 48\n",
      "iteration: 49\n"
     ]
    },
    {
     "name": "stderr",
     "output_type": "stream",
     "text": [
      "/home/wanxinli/miniconda3/lib/python3.9/site-packages/ot/bregman.py:517: UserWarning: Sinkhorn did not converge. You might want to increase the number of iterations `numItermax` or the regularization parameter `reg`.\n",
      "  warnings.warn(\"Sinkhorn did not converge. You might want to \"\n"
     ]
    },
    {
     "name": "stdout",
     "output_type": "stream",
     "text": [
      "iteration: 50\n",
      "iteration: 51\n"
     ]
    },
    {
     "name": "stderr",
     "output_type": "stream",
     "text": [
      "/home/wanxinli/miniconda3/lib/python3.9/site-packages/ot/bregman.py:517: UserWarning: Sinkhorn did not converge. You might want to increase the number of iterations `numItermax` or the regularization parameter `reg`.\n",
      "  warnings.warn(\"Sinkhorn did not converge. You might want to \"\n"
     ]
    },
    {
     "name": "stdout",
     "output_type": "stream",
     "text": [
      "iteration: 52\n",
      "iteration: 53\n"
     ]
    },
    {
     "name": "stderr",
     "output_type": "stream",
     "text": [
      "/home/wanxinli/miniconda3/lib/python3.9/site-packages/ot/bregman.py:517: UserWarning: Sinkhorn did not converge. You might want to increase the number of iterations `numItermax` or the regularization parameter `reg`.\n",
      "  warnings.warn(\"Sinkhorn did not converge. You might want to \"\n"
     ]
    },
    {
     "name": "stdout",
     "output_type": "stream",
     "text": [
      "iteration: 54\n"
     ]
    },
    {
     "name": "stderr",
     "output_type": "stream",
     "text": [
      "/home/wanxinli/miniconda3/lib/python3.9/site-packages/ot/bregman.py:517: UserWarning: Sinkhorn did not converge. You might want to increase the number of iterations `numItermax` or the regularization parameter `reg`.\n",
      "  warnings.warn(\"Sinkhorn did not converge. You might want to \"\n"
     ]
    },
    {
     "name": "stdout",
     "output_type": "stream",
     "text": [
      "iteration: 55\n",
      "iteration: 56\n",
      "iteration: 57\n",
      "iteration: 58\n"
     ]
    },
    {
     "name": "stderr",
     "output_type": "stream",
     "text": [
      "/home/wanxinli/miniconda3/lib/python3.9/site-packages/ot/bregman.py:517: UserWarning: Sinkhorn did not converge. You might want to increase the number of iterations `numItermax` or the regularization parameter `reg`.\n",
      "  warnings.warn(\"Sinkhorn did not converge. You might want to \"\n"
     ]
    },
    {
     "name": "stdout",
     "output_type": "stream",
     "text": [
      "iteration: 59\n"
     ]
    },
    {
     "name": "stderr",
     "output_type": "stream",
     "text": [
      "/home/wanxinli/miniconda3/lib/python3.9/site-packages/ot/bregman.py:517: UserWarning: Sinkhorn did not converge. You might want to increase the number of iterations `numItermax` or the regularization parameter `reg`.\n",
      "  warnings.warn(\"Sinkhorn did not converge. You might want to \"\n"
     ]
    },
    {
     "name": "stdout",
     "output_type": "stream",
     "text": [
      "iteration: 60\n",
      "iteration: 61\n",
      "iteration: 62\n",
      "iteration: 63\n"
     ]
    },
    {
     "name": "stderr",
     "output_type": "stream",
     "text": [
      "/home/wanxinli/miniconda3/lib/python3.9/site-packages/ot/bregman.py:517: UserWarning: Sinkhorn did not converge. You might want to increase the number of iterations `numItermax` or the regularization parameter `reg`.\n",
      "  warnings.warn(\"Sinkhorn did not converge. You might want to \"\n"
     ]
    },
    {
     "name": "stdout",
     "output_type": "stream",
     "text": [
      "iteration: 64\n",
      "iteration: 65\n",
      "iteration: 66\n",
      "iteration: 67\n",
      "iteration: 68\n"
     ]
    },
    {
     "name": "stderr",
     "output_type": "stream",
     "text": [
      "/home/wanxinli/miniconda3/lib/python3.9/site-packages/ot/bregman.py:517: UserWarning: Sinkhorn did not converge. You might want to increase the number of iterations `numItermax` or the regularization parameter `reg`.\n",
      "  warnings.warn(\"Sinkhorn did not converge. You might want to \"\n"
     ]
    },
    {
     "name": "stdout",
     "output_type": "stream",
     "text": [
      "iteration: 69\n"
     ]
    },
    {
     "name": "stderr",
     "output_type": "stream",
     "text": [
      "/home/wanxinli/miniconda3/lib/python3.9/site-packages/ot/bregman.py:517: UserWarning: Sinkhorn did not converge. You might want to increase the number of iterations `numItermax` or the regularization parameter `reg`.\n",
      "  warnings.warn(\"Sinkhorn did not converge. You might want to \"\n"
     ]
    },
    {
     "name": "stdout",
     "output_type": "stream",
     "text": [
      "iteration: 70\n",
      "iteration: 71\n",
      "iteration: 72\n",
      "iteration: 73\n",
      "iteration: 74\n",
      "iteration: 75\n",
      "iteration: 76\n",
      "iteration: 77\n",
      "iteration: 78\n",
      "iteration: 79\n",
      "iteration: 80\n",
      "iteration: 81\n",
      "iteration: 82\n"
     ]
    },
    {
     "name": "stderr",
     "output_type": "stream",
     "text": [
      "/home/wanxinli/miniconda3/lib/python3.9/site-packages/ot/bregman.py:517: UserWarning: Sinkhorn did not converge. You might want to increase the number of iterations `numItermax` or the regularization parameter `reg`.\n",
      "  warnings.warn(\"Sinkhorn did not converge. You might want to \"\n"
     ]
    },
    {
     "name": "stdout",
     "output_type": "stream",
     "text": [
      "iteration: 83\n"
     ]
    },
    {
     "name": "stderr",
     "output_type": "stream",
     "text": [
      "/home/wanxinli/miniconda3/lib/python3.9/site-packages/ot/bregman.py:517: UserWarning: Sinkhorn did not converge. You might want to increase the number of iterations `numItermax` or the regularization parameter `reg`.\n",
      "  warnings.warn(\"Sinkhorn did not converge. You might want to \"\n"
     ]
    },
    {
     "name": "stdout",
     "output_type": "stream",
     "text": [
      "iteration: 84\n",
      "iteration: 85\n",
      "iteration: 86\n",
      "iteration: 87\n"
     ]
    },
    {
     "name": "stderr",
     "output_type": "stream",
     "text": [
      "/home/wanxinli/miniconda3/lib/python3.9/site-packages/ot/bregman.py:517: UserWarning: Sinkhorn did not converge. You might want to increase the number of iterations `numItermax` or the regularization parameter `reg`.\n",
      "  warnings.warn(\"Sinkhorn did not converge. You might want to \"\n"
     ]
    },
    {
     "name": "stdout",
     "output_type": "stream",
     "text": [
      "iteration: 88\n",
      "iteration: 89\n"
     ]
    },
    {
     "name": "stderr",
     "output_type": "stream",
     "text": [
      "/home/wanxinli/miniconda3/lib/python3.9/site-packages/ot/bregman.py:517: UserWarning: Sinkhorn did not converge. You might want to increase the number of iterations `numItermax` or the regularization parameter `reg`.\n",
      "  warnings.warn(\"Sinkhorn did not converge. You might want to \"\n"
     ]
    },
    {
     "name": "stdout",
     "output_type": "stream",
     "text": [
      "iteration: 90\n"
     ]
    },
    {
     "name": "stderr",
     "output_type": "stream",
     "text": [
      "/home/wanxinli/miniconda3/lib/python3.9/site-packages/ot/bregman.py:517: UserWarning: Sinkhorn did not converge. You might want to increase the number of iterations `numItermax` or the regularization parameter `reg`.\n",
      "  warnings.warn(\"Sinkhorn did not converge. You might want to \"\n"
     ]
    },
    {
     "name": "stdout",
     "output_type": "stream",
     "text": [
      "iteration: 91\n"
     ]
    },
    {
     "name": "stderr",
     "output_type": "stream",
     "text": [
      "/home/wanxinli/miniconda3/lib/python3.9/site-packages/ot/bregman.py:517: UserWarning: Sinkhorn did not converge. You might want to increase the number of iterations `numItermax` or the regularization parameter `reg`.\n",
      "  warnings.warn(\"Sinkhorn did not converge. You might want to \"\n"
     ]
    },
    {
     "name": "stdout",
     "output_type": "stream",
     "text": [
      "iteration: 92\n",
      "iteration: 93\n",
      "iteration: 94\n",
      "iteration: 95\n",
      "iteration: 96\n"
     ]
    },
    {
     "name": "stderr",
     "output_type": "stream",
     "text": [
      "/home/wanxinli/miniconda3/lib/python3.9/site-packages/ot/bregman.py:517: UserWarning: Sinkhorn did not converge. You might want to increase the number of iterations `numItermax` or the regularization parameter `reg`.\n",
      "  warnings.warn(\"Sinkhorn did not converge. You might want to \"\n"
     ]
    },
    {
     "name": "stdout",
     "output_type": "stream",
     "text": [
      "iteration: 97\n"
     ]
    },
    {
     "name": "stderr",
     "output_type": "stream",
     "text": [
      "/home/wanxinli/miniconda3/lib/python3.9/site-packages/ot/bregman.py:517: UserWarning: Sinkhorn did not converge. You might want to increase the number of iterations `numItermax` or the regularization parameter `reg`.\n",
      "  warnings.warn(\"Sinkhorn did not converge. You might want to \"\n"
     ]
    },
    {
     "name": "stdout",
     "output_type": "stream",
     "text": [
      "iteration: 98\n"
     ]
    },
    {
     "name": "stderr",
     "output_type": "stream",
     "text": [
      "/home/wanxinli/miniconda3/lib/python3.9/site-packages/ot/bregman.py:517: UserWarning: Sinkhorn did not converge. You might want to increase the number of iterations `numItermax` or the regularization parameter `reg`.\n",
      "  warnings.warn(\"Sinkhorn did not converge. You might want to \"\n"
     ]
    },
    {
     "name": "stdout",
     "output_type": "stream",
     "text": [
      "iteration: 99\n"
     ]
    },
    {
     "name": "stderr",
     "output_type": "stream",
     "text": [
      "/home/wanxinli/miniconda3/lib/python3.9/site-packages/ot/bregman.py:517: UserWarning: Sinkhorn did not converge. You might want to increase the number of iterations `numItermax` or the regularization parameter `reg`.\n",
      "  warnings.warn(\"Sinkhorn did not converge. You might want to \"\n"
     ]
    },
    {
     "data": {
      "text/plain": [
       "array([[25063608.48100429, 37491138.02033283, 45230856.51219375,\n",
       "        66696068.93041818, 41538359.36502391, 63064062.29317391],\n",
       "       [25424971.98022331, 39670597.04232305, 42790467.70727548,\n",
       "        60037784.13715401, 38984792.85350785, 57740211.44917104],\n",
       "       [27894104.61128198, 41411567.58799347, 45625648.30868935,\n",
       "        62950671.73739213, 41647585.054989  , 60508551.42035352],\n",
       "       [29907897.45842775, 43758334.78648678, 37720976.15117052,\n",
       "        49705485.99511475, 35966661.84533343, 46655222.46547013],\n",
       "       [28159132.113075  , 42243595.83244244, 43174452.98100125,\n",
       "        55644877.91154604, 38266748.484229  , 53180429.4691897 ],\n",
       "       [27671001.33624268, 37800674.85852852, 50736447.4509057 ,\n",
       "        63194783.62603384, 45640021.11512522, 59487382.87723941],\n",
       "       [37752624.03668736, 54256552.18693066, 46941612.76854925,\n",
       "        60643123.21513226, 45602734.90677162, 59102739.26440953],\n",
       "       [26976968.88295706, 39997742.23649899, 35547389.33046269,\n",
       "        49265034.11113601, 35152392.01167054, 47943467.39710037],\n",
       "       [34018964.77294689, 52239236.71936848, 47746408.34520044,\n",
       "        63727452.15815066, 41701776.95304622, 58900785.96594308],\n",
       "       [27828749.48741871, 40055152.90887395, 42978941.77549455,\n",
       "        64227052.83460007, 39125688.78133038, 61662185.35572072],\n",
       "       [33020552.7364863 , 47954405.53460956, 46774775.87440506,\n",
       "        64843373.67360362, 43580410.86005507, 60376199.10779547],\n",
       "       [30151754.06995084, 44302086.48251743, 42459155.9521343 ,\n",
       "        58261956.76003347, 41551664.94263969, 60934750.36809152],\n",
       "       [26879194.6682433 , 41855970.05258942, 43604883.23243604,\n",
       "        60237490.50258321, 38146689.81280599, 54750594.18414104],\n",
       "       [32678241.67332434, 47899070.30103502, 44220241.15506905,\n",
       "        59980140.33689705, 41533654.12116224, 57014496.32523051],\n",
       "       [31027206.52292769, 43874166.80458212, 46293824.19481625,\n",
       "        59924167.34860762, 39048425.27871916, 56164276.16870961],\n",
       "       [30430813.83715134, 46216307.19130939, 47260944.86878826,\n",
       "        65296291.56145328, 41523747.20403562, 60548538.26397485],\n",
       "       [23960249.10038347, 33362762.74921868, 38787920.95966171,\n",
       "        53190679.05059812, 40099468.90502963, 54784482.63618842],\n",
       "       [29070861.67403289, 44839520.4112817 , 40815787.88910282,\n",
       "        60767069.62257809, 38581173.39238283, 57805595.61024333],\n",
       "       [32042329.09574271, 43279306.70267059, 49538523.63783774,\n",
       "        67666158.67084539, 44176581.24809439, 62443097.72335874],\n",
       "       [24707473.29775035, 37822803.00536788, 44110374.78175413,\n",
       "        62714465.58710829, 41708613.38558485, 61827073.88391212],\n",
       "       [33643976.67952414, 43961178.65182312, 40150830.01853711,\n",
       "        48670005.61859447, 37821049.2023029 , 47213929.30509424],\n",
       "       [32209406.90654404, 46505742.56014948, 43435482.40159257,\n",
       "        61075191.74197948, 37146287.78379454, 56171711.56707125],\n",
       "       [26490919.95781623, 38527460.84271691, 39090392.18389164,\n",
       "        56532845.12363313, 36561738.874894  , 52351644.61588902],\n",
       "       [31712184.82490527, 45268217.16899686, 40996632.18783214,\n",
       "        55581518.36911871, 36409167.56767785, 49570496.16980414],\n",
       "       [36936165.56382073, 53407130.71261554, 53863267.05268853,\n",
       "        70044233.19289808, 49245961.83138128, 66905129.11249827],\n",
       "       [27466387.99728756, 40615150.62236106, 46158364.69144687,\n",
       "        65944303.06851772, 42150141.95405545, 62592767.27328673],\n",
       "       [27305975.34759172, 38750783.30102433, 49834916.4619286 ,\n",
       "        69677645.20174274, 44958886.92035558, 67194319.73099384],\n",
       "       [30066213.17161053, 42288639.64305155, 41408176.41236375,\n",
       "        52599162.95819108, 32888529.1689471 , 44940142.04191683],\n",
       "       [28985489.0082827 , 38691993.09435879, 47268388.25073156,\n",
       "        64005844.21058371, 37486120.15634155, 54942293.1554408 ],\n",
       "       [32540901.21540715, 46842892.91386843, 50763697.68497381,\n",
       "        70201540.2791397 , 46993261.41382352, 66632383.88107929],\n",
       "       [27327561.72155694, 43075717.36176822, 46030834.45127422,\n",
       "        73796151.41885847, 47520304.26156899, 75025550.40472741],\n",
       "       [30482791.44183576, 48997758.02962363, 40144587.79613515,\n",
       "        50721048.14902373, 36644381.83851948, 49208596.82177592],\n",
       "       [35648812.15168206, 50448948.37053196, 41559900.7690409 ,\n",
       "        52114445.79720476, 36924692.23169509, 50850630.60036942],\n",
       "       [34154874.21503399, 49683906.69418751, 42797470.52901552,\n",
       "        58489077.36791335, 39766235.0443377 , 55672091.30131493],\n",
       "       [31933784.89446057, 46263491.72607843, 48020901.78422454,\n",
       "        73097095.73894489, 44879661.24012579, 68256973.18562819],\n",
       "       [30472631.09276276, 45461188.51671094, 36798021.7643837 ,\n",
       "        48759446.84127886, 36728847.36343855, 48159419.81138525],\n",
       "       [32348069.40479762, 45479727.08888155, 52448212.33647078,\n",
       "        70519148.18219708, 45251770.06083635, 65831383.72569035],\n",
       "       [34288027.65951928, 51276297.75460192, 56470877.44863322,\n",
       "        75454827.92824982, 47872347.75597904, 68267657.15832642],\n",
       "       [38370998.09034516, 55459200.10392317, 43248595.54852234,\n",
       "        58701359.3396458 , 40509496.73255966, 55104244.95605528],\n",
       "       [40201881.99031119, 60445009.50644191, 49881703.16614515,\n",
       "        63971141.34303515, 42305556.57142709, 58164686.84994625],\n",
       "       [24923380.11910454, 38620067.49522616, 36049907.46807924,\n",
       "        49430673.1043803 , 32376208.78543489, 47846053.370897  ],\n",
       "       [30877111.56771582, 44065040.96318926, 40739038.51259128,\n",
       "        52626671.6343594 , 33688249.37021243, 44075453.52684383],\n",
       "       [33325260.73538512, 47419943.03177246, 45039768.85869807,\n",
       "        65362608.15873526, 42189932.93952013, 62929258.23494108],\n",
       "       [31449282.15704181, 43379788.94207453, 44936100.70932385,\n",
       "        60597347.49644448, 42353922.03546608, 58366139.99230446],\n",
       "       [21846013.96679882, 30169241.91779745, 34344396.05014774,\n",
       "        50439854.69401193, 30606522.52835797, 47758551.46703623],\n",
       "       [34744081.6714032 , 53009282.64691775, 44953096.36377032,\n",
       "        62809001.71264825, 43647743.24136016, 60937182.38791402],\n",
       "       [34853065.25796912, 51320522.28390758, 47823727.02252522,\n",
       "        62985149.23840151, 43863175.00752047, 58239890.69591817],\n",
       "       [23733363.44710346, 34110579.88508819, 43641205.31440117,\n",
       "        60032401.05547635, 37300181.02054068, 54579892.90522663],\n",
       "       [33662646.82401654, 48089033.7874674 , 42695798.61504108,\n",
       "        53489818.68336302, 36503850.21991991, 48806312.10818373],\n",
       "       [37446653.15579631, 54329650.79297433, 44791294.48648262,\n",
       "        58711445.51727817, 40769738.16330414, 52068661.64046332],\n",
       "       [30671286.32970221, 44649713.93533527, 50861158.01017676,\n",
       "        66466297.47838644, 42155453.54705562, 58952521.80961256],\n",
       "       [36073421.08199647, 48318788.67184991, 55252371.24241243,\n",
       "        74512305.88445634, 49532419.58922227, 68962946.97254182],\n",
       "       [32597266.03666441, 46625764.72537187, 49913591.45889947,\n",
       "        69887275.8769426 , 46784303.51162638, 66914318.86156736],\n",
       "       [29953153.06763408, 43357234.56586373, 45869220.71854411,\n",
       "        59641112.49834077, 41577491.45799527, 56223666.42009718],\n",
       "       [32968632.92681338, 47431601.99206695, 39415120.31968222,\n",
       "        52602871.73524547, 42468038.97644633, 56728297.44039542],\n",
       "       [30995534.78383012, 46952837.97906367, 41301612.01140933,\n",
       "        60654263.00317431, 36604316.01849803, 56612270.12097972],\n",
       "       [24601880.77089892, 36773623.99169182, 39263426.11561815,\n",
       "        55309676.07475441, 34139504.86848918, 51054332.99969694],\n",
       "       [23855695.25313045, 35261129.67462083, 34425191.70710348,\n",
       "        49414775.89534967, 32632819.54203881, 48014262.49715085],\n",
       "       [27242677.12802304, 38502184.2503015 , 42686446.58531105,\n",
       "        63812690.40127256, 39624577.84607921, 59293568.38882612],\n",
       "       [28208576.17168204, 42889779.37856272, 44723759.21778638,\n",
       "        62127782.52361332, 38508501.82402789, 59138374.21065501],\n",
       "       [26041800.92098197, 38872521.84942229, 39598973.1571295 ,\n",
       "        57970977.56509081, 34549787.37057252, 53148852.50113098],\n",
       "       [26344741.24534373, 34281109.079538  , 52766077.28940951,\n",
       "        74619947.30624025, 48649294.53675798, 69399732.75688991],\n",
       "       [29584186.03738939, 41193639.21281105, 41808288.45719376,\n",
       "        58569851.59750497, 39299441.86048695, 56825294.81682199],\n",
       "       [27339079.58370405, 41739505.7552224 , 58299809.09806217,\n",
       "        84650879.57374248, 55829452.04731327, 79422246.54215051],\n",
       "       [25326137.48813871, 40589836.76075903, 44573538.34764151,\n",
       "        63713498.50317048, 36748121.56633935, 54405308.53972288],\n",
       "       [27817854.89839036, 40897322.37974013, 50888505.65037295,\n",
       "        69208929.90421069, 43750072.89660831, 63145905.64600564],\n",
       "       [28157878.82967192, 38799813.68649887, 41916689.9823835 ,\n",
       "        62617127.42671637, 40145570.00245055, 63346220.10640542],\n",
       "       [37740260.02360472, 52597245.25275996, 50797972.35535707,\n",
       "        66812928.59718271, 44128845.90320212, 61249804.34244294],\n",
       "       [22815456.17143525, 31978906.47638506, 36670963.82141946,\n",
       "        48133410.43072037, 34777684.48378868, 48230915.3067351 ],\n",
       "       [32663253.48992308, 47253526.97092687, 51421746.22038826,\n",
       "        68742647.20417182, 43074306.68378785, 63840296.89173393],\n",
       "       [30207148.38083063, 45893007.52860011, 46525346.44931693,\n",
       "        69128371.93357326, 42710885.69894478, 62341904.50596849],\n",
       "       [30749594.09567266, 43440171.20464996, 38426158.81075013,\n",
       "        57346343.64651524, 40567025.1624466 , 57873371.31065843],\n",
       "       [30265116.06743965, 42637105.16050529, 39817557.84265029,\n",
       "        51118715.06800482, 35734236.96044864, 48925256.61166073],\n",
       "       [28853391.83851136, 41274234.9904494 , 44740294.63505025,\n",
       "        61432770.366163  , 41317557.72685084, 60113022.7826876 ],\n",
       "       [39639508.80346105, 57326054.96071667, 45258549.5526977 ,\n",
       "        59741550.0509632 , 45037844.1601458 , 56799118.67058466],\n",
       "       [31854715.02014146, 44716475.78879789, 51149576.16500709,\n",
       "        66112445.64922824, 41939369.88143108, 58296155.98865253],\n",
       "       [30127008.76149416, 39880782.80979759, 53748325.13855305,\n",
       "        72022557.41175707, 44457574.03574371, 63512382.50011361],\n",
       "       [30446837.32515823, 44130806.76343625, 44123227.31655093,\n",
       "        60567555.43879601, 36917260.93084818, 51331450.48110184],\n",
       "       [34929628.3586395 , 46890447.69280794, 55465436.04908977,\n",
       "        75895364.12974942, 49658742.26439211, 68279122.75027356],\n",
       "       [27739246.98029522, 38161780.18096413, 37488768.78927106,\n",
       "        52403228.07927484, 34740454.19468346, 50918378.19335355],\n",
       "       [24216265.67451232, 36667461.38071403, 45521247.0579378 ,\n",
       "        65189740.21835955, 37762980.67504596, 60991146.08913729],\n",
       "       [23845169.44251884, 34658941.54684781, 36557542.55428474,\n",
       "        51301252.13391724, 31014152.32252164, 45631184.96140432],\n",
       "       [31581694.17211606, 46552327.81541832, 50685166.98489836,\n",
       "        67432344.37736478, 42984061.52204642, 60744627.9583143 ],\n",
       "       [30011868.96820825, 42021506.68843448, 48705353.7028237 ,\n",
       "        64487264.83677657, 46030673.51001126, 60988295.88098415],\n",
       "       [26571065.67682198, 38211055.50369491, 48510148.17085542,\n",
       "        68531205.90386058, 44404468.9066585 , 68216030.42508017],\n",
       "       [22047866.50741982, 33919926.10391301, 46275385.44122711,\n",
       "        69318274.76884018, 42434326.28127717, 64897379.44794539],\n",
       "       [34541788.76200226, 49329891.6408276 , 50847164.77499516,\n",
       "        63056681.08146833, 45085270.90799998, 58472201.51068372],\n",
       "       [33240499.65850955, 49976214.03285732, 46294558.15091458,\n",
       "        59488558.41678452, 43407119.9191062 , 56900435.50288599],\n",
       "       [30843750.71330196, 46067027.71765386, 44268910.4460955 ,\n",
       "        56494112.63568247, 40641555.6745951 , 55172897.30599723],\n",
       "       [31481221.96642017, 44356477.20243032, 41366598.10152908,\n",
       "        56584167.58970181, 37948438.35182364, 55508620.04390927],\n",
       "       [33835309.11705927, 46689045.01947688, 46554557.34163468,\n",
       "        59435411.54919079, 37689274.9409548 , 50217523.68767744],\n",
       "       [34697488.98276047, 47456590.15508658, 51673357.70415549,\n",
       "        70619338.34683384, 48357059.27755124, 65292790.05641771],\n",
       "       [29385348.82939177, 44130719.69481315, 44367168.64906567,\n",
       "        60189122.41402646, 40122599.01098447, 55559252.0187768 ],\n",
       "       [27267449.50652903, 39540463.61246   , 36807341.29079706,\n",
       "        48128807.92917955, 37600375.25092615, 50809842.04012816],\n",
       "       [27348025.67020471, 39789356.43628662, 40594011.59872622,\n",
       "        60012092.64162745, 37348015.70140859, 58224830.42894671],\n",
       "       [29964776.5525574 , 45278144.10758443, 52653923.67212777,\n",
       "        75701957.22517279, 45853479.76585197, 68538945.13894758],\n",
       "       [33174353.28192014, 47041930.85784048, 45531268.95602828,\n",
       "        61205803.47907052, 38188881.96545114, 52044390.0080982 ],\n",
       "       [36820685.64072783, 51542022.97082572, 51820843.37923133,\n",
       "        70333622.73863952, 49342221.42130744, 67784291.92301834],\n",
       "       [35145923.87987825, 47447117.80333859, 51852825.13328695,\n",
       "        72129113.78816843, 51384292.48773704, 72504855.75097913],\n",
       "       [23764347.27022466, 33435514.78878704, 41113245.30285915,\n",
       "        62185555.12427849, 40767453.52349085, 60822815.20665132]])"
      ]
     },
     "execution_count": 14,
     "metadata": {},
     "output_type": "execute_result"
    }
   ],
   "source": [
    "\"\"\" \n",
    "Run multiple iterations using Linear regression\n",
    "\"\"\"\n",
    "\n",
    "score_path = os.path.join(output_dir, \"exp5_linear_score.csv\")\n",
    "multi_proc_cts(score_path, n_components, cons_visits_df, custom_train_reps, \\\n",
    "    male_count, female_count, model_func = linear_model.LinearRegression, iteration=100)"
   ]
  },
  {
   "cell_type": "code",
   "execution_count": 7,
   "metadata": {},
   "outputs": [
    {
     "data": {
      "text/plain": [
       "<Figure size 640x480 with 0 Axes>"
      ]
     },
     "metadata": {},
     "output_type": "display_data"
    },
    {
     "data": {
      "image/png": "[encoded data removed]",
      "text/plain": [
       "<Figure size 640x480 with 1 Axes>"
      ]
     },
     "metadata": {},
     "output_type": "display_data"
    },
    {
     "data": {
      "text/plain": [
       "(0.9129872434396801, 0.9420167901701181)"
      ]
     },
     "execution_count": 7,
     "metadata": {},
     "output_type": "execute_result"
    }
   ],
   "source": [
    "score_path = os.path.join(output_dir, \"exp5_linear_score.csv\")\n",
    "save_path = \"../../outputs/mimic/exp5_linear_res.png\"\n",
    "\n",
    "box_plot_cts_short(score_path, save_path=save_path)"
   ]
  },
  {
   "cell_type": "code",
   "execution_count": 5,
   "metadata": {},
   "outputs": [
    {
     "data": {
      "image/png": "[encoded data removed]",
      "text/plain": [
       "<Figure size 800x400 with 2 Axes>"
      ]
     },
     "metadata": {},
     "output_type": "display_data"
    }
   ],
   "source": [
    "def special_div(x, y):\n",
    "    \"\"\" \n",
    "    Special division operation\n",
    "    \"\"\"\n",
    "    if y == 0:\n",
    "        y = 1e-5\n",
    "    return x/y\n",
    "\n",
    "fig, axes = plt.subplots(nrows=1, ncols=2)\n",
    "fig.set_figheight(4)\n",
    "fig.set_figwidth(8)\n",
    "title_size = 15\n",
    "text_size = 12\n",
    "\n",
    "# plt.subplot(1,2,1)\n",
    "score_path = os.path.join(output_dir, \"exp5_linear_score.csv\")\n",
    "\n",
    "scores_df = pd.read_csv(score_path, index_col=None, header=0)\n",
    "\n",
    "source_mae = scores_df['source_mae']\n",
    "source_rmse = scores_df['source_rmse']\n",
    "\n",
    "trans_source_mae = scores_df['trans_source_mae']\n",
    "trans_source_rmse = scores_df['trans_source_rmse']\n",
    "\n",
    "# transported source to source mae\n",
    "trans_source_source_mae = [special_div(i, j) for i, j in zip(trans_source_mae, source_mae)]\n",
    "\n",
    "# transported source to source rmse\n",
    "trans_source_source_rmse = [special_div(i, j) for i, j in zip(trans_source_rmse, source_rmse)]\n",
    "\n",
    "\n",
    "# Pandas dataframe\n",
    "data = pd.DataFrame({\n",
    "    'MAE': trans_source_source_mae,\n",
    "    'RMSE': trans_source_source_rmse\n",
    "})\n",
    "\n",
    "# Plot the dataframe\n",
    "ax = data[['MAE', 'RMSE']].plot(kind='box', ax=axes[0])\n",
    "\n",
    "# Plot the baseline\n",
    "ax.axhline(y = 1, color = 'r', linestyle = '-')\n",
    "\n",
    "ax.tick_params(labelsize=text_size)\n",
    "ax.set_ylim(0, 1.2)\n",
    "ax.set_title(\"(a) Linear\", fontweight='bold', loc='left', fontsize=title_size)\n",
    "\n",
    "######################################################\n",
    "\n",
    "score_path = os.path.join(output_dir, \"exp5_poisson_score.csv\")\n",
    "\n",
    "scores_df = pd.read_csv(score_path, index_col=None, header=0)\n",
    "\n",
    "source_mae = scores_df['source_mae']\n",
    "source_rmse = scores_df['source_rmse']\n",
    "\n",
    "trans_source_mae = scores_df['trans_source_mae']\n",
    "trans_source_rmse = scores_df['trans_source_rmse']\n",
    "\n",
    "# transported source to source mae\n",
    "trans_source_source_mae = [special_div(i, j) for i, j in zip(trans_source_mae, source_mae)]\n",
    "\n",
    "# transported source to source rmse\n",
    "trans_source_source_rmse = [special_div(i, j) for i, j in zip(trans_source_rmse, source_rmse)]\n",
    "\n",
    "\n",
    "# Pandas dataframe\n",
    "data = pd.DataFrame({\n",
    "    'MAE': trans_source_source_mae,\n",
    "    'RMSE': trans_source_source_rmse\n",
    "})\n",
    "\n",
    "# Plot the dataframe\n",
    "ax = data[['MAE', 'RMSE']].plot(kind='box', ax=axes[1])\n",
    "\n",
    "# Plot the baseline\n",
    "ax.axhline(y = 1, color = 'r', linestyle = '-')\n",
    "\n",
    "ax.tick_params(labelsize=text_size)\n",
    "ax.set_ylim(0, 1.2)\n",
    "plt.title(\"(b) Poisson\", fontweight='bold', loc='left', fontsize=title_size)\n",
    "plt.tight_layout()\n",
    "\n",
    "save_path = os.path.join(output_dir, \"exp5_res.pdf\")\n",
    "plt.savefig(save_path, bbox_inches='tight')\n",
    "plt.show()"
   ]
  },
  {
   "cell_type": "code",
   "execution_count": null,
   "metadata": {},
   "outputs": [],
   "source": []
  }
 ],
 "metadata": {
  "kernelspec": {
   "display_name": "base",
   "language": "python",
   "name": "python3"
  },
  "language_info": {
   "codemirror_mode": {
    "name": "ipython",
    "version": 3
   },
   "file_extension": ".py",
   "mimetype": "text/x-python",
   "name": "python",
   "nbconvert_exporter": "python",
   "pygments_lexer": "ipython3",
   "version": "3.9.12"
  },
  "orig_nbformat": 4,
  "vscode": {
   "interpreter": {
    "hash": "e0a164c7fb95af65e1e713e004e1e0ea55c462cdd13e4bdabca6fd60bd9f3176"
   }
  }
 },
 "nbformat": 4,
 "nbformat_minor": 2
}
