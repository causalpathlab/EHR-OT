{
 "cells": [
  {
   "attachments": {},
   "cell_type": "markdown",
   "metadata": {},
   "source": [
    "# Regression task: the time interval between two consecutive visits for the same patient ~ ICD diagnosis code"
   ]
  },
  {
   "attachments": {},
   "cell_type": "markdown",
   "metadata": {},
   "source": [
    "## Prepare the dataset"
   ]
  },
  {
   "cell_type": "code",
   "execution_count": null,
   "metadata": {},
   "outputs": [],
   "source": [
    "\"\"\" \n",
    "Patient ID -> admission ID\n",
    "\"\"\""
   ]
  },
  {
   "cell_type": "code",
   "execution_count": 1,
   "metadata": {},
   "outputs": [
    {
     "ename": "ModuleNotFoundError",
     "evalue": "No module named 'cPickle'",
     "output_type": "error",
     "traceback": [
      "\u001b[0;31m---------------------------------------------------------------------------\u001b[0m",
      "\u001b[0;31mModuleNotFoundError\u001b[0m                       Traceback (most recent call last)",
      "Cell \u001b[0;32mIn[1], line 3\u001b[0m\n\u001b[1;32m      1\u001b[0m \u001b[39mimport\u001b[39;00m \u001b[39mos\u001b[39;00m\n\u001b[1;32m      2\u001b[0m \u001b[39mimport\u001b[39;00m \u001b[39msys\u001b[39;00m\n\u001b[0;32m----> 3\u001b[0m \u001b[39mimport\u001b[39;00m \u001b[39mcPickle\u001b[39;00m \u001b[39mas\u001b[39;00m \u001b[39mpickle\u001b[39;00m\n\u001b[1;32m      4\u001b[0m \u001b[39mfrom\u001b[39;00m \u001b[39mdatetime\u001b[39;00m \u001b[39mimport\u001b[39;00m datetime\n",
      "\u001b[0;31mModuleNotFoundError\u001b[0m: No module named 'cPickle'"
     ]
    }
   ],
   "source": [
    "import os\n",
    "import sys\n",
    "from datetime import datetime\n"
   ]
  },
  {
   "cell_type": "code",
   "execution_count": null,
   "metadata": {},
   "outputs": [],
   "source": [
    "output_dir = os.path.join(os.path.expanduser(\"~\"), f\"deep_patient/outputs/mimic\")\n",
    "print(f\"Will save outputs to {output_dir}\")\n",
    "data_dir = os.path.join(os.path.expanduser(\"~\"), f\"deep_patient/mimic_exp/mimiciii\")\n",
    "print(f\"Will read data from {data_dir}\")"
   ]
  },
  {
   "cell_type": "code",
   "execution_count": null,
   "metadata": {},
   "outputs": [],
   "source": [
    "admissionFile = \"/home/wanxinli/deep_patient/mimic_exp/mimiciii/ADMISSIONS.csv\"\n",
    "diagnosisFile = sys.argv[2]"
   ]
  },
  {
   "cell_type": "code",
   "execution_count": null,
   "metadata": {},
   "outputs": [],
   "source": [
    "# This script processes MIMIC-III dataset and builds longitudinal diagnosis records for patients with at least two visits.\n",
    "# The output data are cPickled, and suitable for training Doctor AI or RETAIN\n",
    "# Written by Edward Choi (mp2893@gatech.edu)\n",
    "# Usage: Put this script to the foler where MIMIC-III CSV files are located. Then execute the below command.\n",
    "# python process_mimic.py ADMISSIONS.csv DIAGNOSES_ICD.csv <output file> \n",
    "\n",
    "# Output files\n",
    "# <output file>.seqs: Dataset that follows the format described in the README.md.\n",
    "# <output file>.types: Python dictionary that maps string diagnosis codes to integer diagnosis codes.\n",
    "# <output file>.3digitICD9.seqs: Dataset that follows the format described in the README.md. This uses only the first 3 digits of the ICD9 diagnosis code.\n",
    "# <output file>.3digitICD9.types: Python dictionary that maps 3-digit string diagnosis codes to integer diagnosis codes.\n",
    "\n",
    "import sys\n",
    "import cPickle as pickle\n",
    "from datetime import datetime\n",
    "\n",
    "\n",
    "if __name__ == '__main__':\n",
    "\tadmissionFile = sys.argv[1]\n",
    "\tdiagnosisFile = sys.argv[2]\n",
    "\toutFile = sys.argv[3]\n",
    "\n",
    "\tprint 'Building pid-admission mapping, admission-date mapping'\n",
    "\tpidAdmMap = {}\n",
    "\tadmDateMap = {}\n",
    "\tinfd = open(admissionFile, 'r')\n",
    "\tinfd.readline()\n",
    "\tfor line in infd:\n",
    "\t\ttokens = line.strip().split(',')\n",
    "\t\tpid = int(tokens[1])\n",
    "\t\tadmId = int(tokens[2])\n",
    "\t\tadmTime = datetime.strptime(tokens[3], '%Y-%m-%d %H:%M:%S')\n",
    "\t\tadmDateMap[admId] = admTime\n",
    "\t\tif pid in pidAdmMap: pidAdmMap[pid].append(admId)\n",
    "\t\telse: pidAdmMap[pid] = [admId]\n",
    "\tinfd.close()\n",
    "\n",
    "\tprint 'Building admission-dxList mapping' # not necessary\n",
    "\tadmDxMap = {}\n",
    "\tadmDxMap_3digit = {}\n",
    "\tinfd = open(diagnosisFile, 'r')\n",
    "\tinfd.readline()\n",
    "\tfor line in infd:\n",
    "\t\ttokens = line.strip().split(',')\n",
    "\t\tadmId = int(tokens[2])\n",
    "\t\tdxStr = 'D_' + convert_to_icd9(tokens[4][1:-1]) ############## Uncomment this line and comment the line below, if you want to use the entire ICD9 digits.\n",
    "\t\tdxStr_3digit = 'D_' + convert_to_3digit_icd9(tokens[4][1:-1])\n",
    "\n",
    "\t\tif admId in admDxMap: \n",
    "\t\t\tadmDxMap[admId].append(dxStr)\n",
    "\t\telse: \n",
    "\t\t\tadmDxMap[admId] = [dxStr]\n",
    "\n",
    "\t\tif admId in admDxMap_3digit: \n",
    "\t\t\tadmDxMap_3digit[admId].append(dxStr_3digit)\n",
    "\t\telse: \n",
    "\t\t\tadmDxMap_3digit[admId] = [dxStr_3digit]\n",
    "\tinfd.close()\n",
    " \n",
    "\tprint 'Building pid-sortedVisits mapping'\n",
    "\tpidSeqMap = {}\n",
    "\tpidSeqMap_3digit = {}\n",
    "\tfor pid, admIdList in pidAdmMap.iteritems():\n",
    "\t\tif len(admIdList) < 2: continue\n",
    "\n",
    "\t\tsortedList = sorted([(admDateMap[admId], admDxMap[admId]) for admId in admIdList])\n",
    "\t\tpidSeqMap[pid] = sortedList\n",
    "\n",
    "\t\tsortedList_3digit = sorted([(admDateMap[admId], admDxMap_3digit[admId]) for admId in admIdList])\n",
    "\t\tpidSeqMap_3digit[pid] = sortedList_3digit\n",
    "\t\n",
    "\tprint 'Building pids, dates, strSeqs'\n",
    "\tpids = []\n",
    "\tdates = []\n",
    "\tseqs = []\n",
    "\tfor pid, visits in pidSeqMap.iteritems():\n",
    "\t\tpids.append(pid)\n",
    "\t\tseq = []\n",
    "\t\tdate = []\n",
    "\t\tfor visit in visits:\n",
    "\t\t\tdate.append(visit[0])\n",
    "\t\t\tseq.append(visit[1])\n",
    "\t\tdates.append(date)\n",
    "\t\tseqs.append(seq)\n",
    "\t\n",
    "\tprint 'Building pids, dates, strSeqs for 3digit ICD9 code'\n",
    "\tseqs_3digit = []\n",
    "\tfor pid, visits in pidSeqMap_3digit.iteritems():\n",
    "\t\tseq = []\n",
    "\t\tfor visit in visits:\n",
    "\t\t\tseq.append(visit[1])\n",
    "\t\tseqs_3digit.append(seq)\n",
    "\t\n",
    "\tprint 'Converting strSeqs to intSeqs, and making types'\n",
    "\ttypes = {}\n",
    "\tnewSeqs = []\n",
    "\tfor patient in seqs:\n",
    "\t\tnewPatient = []\n",
    "\t\tfor visit in patient:\n",
    "\t\t\tnewVisit = []\n",
    "\t\t\tfor code in visit:\n",
    "\t\t\t\tif code in types:\n",
    "\t\t\t\t\tnewVisit.append(types[code])\n",
    "\t\t\t\telse:\n",
    "\t\t\t\t\ttypes[code] = len(types)\n",
    "\t\t\t\t\tnewVisit.append(types[code])\n",
    "\t\t\tnewPatient.append(newVisit)\n",
    "\t\tnewSeqs.append(newPatient)\n",
    "\t\n",
    "\tprint 'Converting strSeqs to intSeqs, and making types for 3digit ICD9 code'\n",
    "\ttypes_3digit = {}\n",
    "\tnewSeqs_3digit = []\n",
    "\tfor patient in seqs_3digit:\n",
    "\t\tnewPatient = []\n",
    "\t\tfor visit in patient:\n",
    "\t\t\tnewVisit = []\n",
    "\t\t\tfor code in set(visit):\n",
    "\t\t\t\tif code in types_3digit:\n",
    "\t\t\t\t\tnewVisit.append(types_3digit[code])\n",
    "\t\t\t\telse:\n",
    "\t\t\t\t\ttypes_3digit[code] = len(types_3digit)\n",
    "\t\t\t\t\tnewVisit.append(types_3digit[code])\n",
    "\t\t\tnewPatient.append(newVisit)\n",
    "\t\tnewSeqs_3digit.append(newPatient)\n",
    "\t\n",
    "\tprint 'Re-formatting to Med2Vec dataset'\n",
    "\tseqs = []\n",
    "\tfor patient in newSeqs:\n",
    "\t\tseqs.extend(patient)\n",
    "\t\tseqs.append([-1])\n",
    "\tseqs = seqs[:-1]\n",
    "\n",
    "\tseqs_3digit = []\n",
    "\tfor patient in newSeqs_3digit:\n",
    "\t\tseqs_3digit.extend(patient)\n",
    "\t\tseqs_3digit.append([-1])\n",
    "\tseqs_3digit = seqs_3digit[:-1]\n",
    "\n",
    "\tpickle.dump(seqs, open(outFile+'.seqs', 'wb'), -1)\n",
    "\tpickle.dump(types, open(outFile+'.types', 'wb'), -1)\n",
    "\tpickle.dump(seqs_3digit, open(outFile+'.3digitICD9.seqs', 'wb'), -1)\n",
    "\tpickle.dump(types_3digit, open(outFile+'.3digitICD9.types', 'wb'), -1)"
   ]
  }
 ],
 "metadata": {
  "kernelspec": {
   "display_name": "Python 3",
   "language": "python",
   "name": "python3"
  },
  "language_info": {
   "codemirror_mode": {
    "name": "ipython",
    "version": 3
   },
   "file_extension": ".py",
   "mimetype": "text/x-python",
   "name": "python",
   "nbconvert_exporter": "python",
   "pygments_lexer": "ipython3",
   "version": "3.9.5"
  },
  "orig_nbformat": 4,
  "vscode": {
   "interpreter": {
    "hash": "f9f85f796d01129d0dd105a088854619f454435301f6ffec2fea96ecbd9be4ac"
   }
  }
 },
 "nbformat": 4,
 "nbformat_minor": 2
}
