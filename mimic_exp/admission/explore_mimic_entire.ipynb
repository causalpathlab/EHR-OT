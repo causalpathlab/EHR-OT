{
 "cells": [
  {
   "cell_type": "code",
   "execution_count": 1,
   "metadata": {},
   "outputs": [
    {
     "data": {
      "text/plain": [
       "' \\nGoals: Find the candidate features (ICD codes) and response (ICD code)\\nIdeally, we want features to have different frequencies for different domains\\n\\nExplore in the following way:\\n- Target/source features by (frequency, ratio, description)\\n- Correlation matrix (target vs source feature correlation)\\n\\n'"
      ]
     },
     "execution_count": 1,
     "metadata": {},
     "output_type": "execute_result"
    }
   ],
   "source": [
    "\"\"\" \n",
    "Goals: Find the candidate features (ICD codes) and response (ICD code)\n",
    "Ideally, we want features to have different frequencies for different domains\n",
    "\n",
    "Explore in the following way:\n",
    "- Target/source features by (frequency, ratio, description)\n",
    "- Correlation matrix (target vs source feature correlation)\n",
    "\n",
    "\"\"\""
   ]
  },
  {
   "cell_type": "code",
   "execution_count": 1,
   "metadata": {},
   "outputs": [
    {
     "name": "stderr",
     "output_type": "stream",
     "text": [
      "/home/wanxinli/miniconda3/lib/python3.9/site-packages/tqdm/auto.py:22: TqdmWarning: IProgress not found. Please update jupyter and ipywidgets. See https://ipywidgets.readthedocs.io/en/stable/user_install.html\n",
      "  from .autonotebook import tqdm as notebook_tqdm\n"
     ]
    }
   ],
   "source": [
    "import sys\n",
    "sys.path.append(\"/home/wanxinli/EHR-OT/\")\n",
    "\n",
    "import collections\n",
    "from common import *\n",
    "from ast import literal_eval\n",
    "# %matplotlib notebook\n",
    "import matplotlib.pyplot as plt\n",
    "import math\n",
    "from mpl_toolkits import mplot3d\n",
    "import numpy as np\n",
    "import pandas as pd\n",
    "import random\n",
    "from select_codes import *\n",
    "from sklearn.linear_model import LogisticRegression\n",
    "from sklearn.svm import SVC\n",
    "from sklearn.decomposition import PCA\n",
    "from sklearn.metrics import precision_score, recall_score, accuracy_score\n",
    "import seaborn as sns\n"
   ]
  },
  {
   "cell_type": "code",
   "execution_count": 2,
   "metadata": {},
   "outputs": [],
   "source": [
    "def divide_dataset(df, divide_feature, group_1, group_2):\n",
    "    \"\"\" \n",
    "    Divide dataset into group 1 (key value group_1) and group 2 (key value group_2) \\\n",
    "        by dividing feature divide_feature\n",
    "\n",
    "    Returns: group 1 relative frequency dictionary, group 2 relative frequency dictionary, \\\n",
    "        group 1 total number of codes, group 2 total number of codes \\\n",
    "        total number of unique codes \n",
    "    \"\"\"\n",
    "    print(\"df shape is:\", df.shape)\n",
    "    group_1_df = df.loc[df[divide_feature] == group_1]\n",
    "    print(\"group_1_df shape is:\", group_1_df.shape)\n",
    "    group_1_codes = []\n",
    "    for _, row in group_1_df.iterrows():\n",
    "        group_1_codes.extend(row['ICD codes'])\n",
    "    group_1_freq_dict = dict(collections.Counter(group_1_codes))\n",
    "    group_1_total = sum(group_1_freq_dict.values())\n",
    "    group_1_freq_dict = {k: v / group_1_total for k, v in group_1_freq_dict.items()}\n",
    "\n",
    "    group_2_df = df.loc[df[divide_feature] == group_2]\n",
    "    print(\"group_2_df shape is:\", group_2_df.shape)\n",
    "    group_2_codes = []\n",
    "    for _, row in group_2_df.iterrows():\n",
    "        group_2_codes.extend(row['ICD codes'])\n",
    "    group_2_freq_dict = dict(collections.Counter(group_2_codes))\n",
    "    group_2_total = sum(group_2_freq_dict.values())\n",
    "    group_2_freq_dict = {k: v / group_2_total for k, v in group_2_freq_dict.items()}\n",
    "\n",
    "    unique_codes = list(group_1_freq_dict.keys())\n",
    "    unique_codes.extend(list(group_2_freq_dict.keys()))\n",
    "    num_unique_codes = len(list(set(unique_codes)))\n",
    "\n",
    "    return group_1_freq_dict, group_2_freq_dict, group_1_total, group_2_total, num_unique_codes\n"
   ]
  },
  {
   "cell_type": "code",
   "execution_count": 10,
   "metadata": {},
   "outputs": [],
   "source": [
    "def find_differ_codes(dict_1, dict_2, diff_percent):\n",
    "    \"\"\" \n",
    "    Find codes in dictionary 1 (dict_1) and and dictionary 2 (dict 2) \\\n",
    "        with relative frequencies differing by diff_percent, \n",
    "    \n",
    "    Returns: the codes differing by diff_percent\n",
    "    \"\"\"\n",
    "    diff_codes = []\n",
    "    for key, value in dict_1.items():\n",
    "        # print(key, value)\n",
    "        if key in dict_2:\n",
    "            if abs(dict_2[key] - value) > diff_percent:\n",
    "                diff_codes.append(key)\n",
    "                print(f\"code {key}: dictionary 1 frequency - {value}, dictionary 2 frequency - {dict_2[key]}\")\n",
    "        elif value > diff_percent:\n",
    "            diff_codes.append\n",
    "            print(f\"code {key}: dictionary 1 frequency - {value}, dictionary 2 frequency - 0\")\n",
    "\n",
    "    for key, value in dict_2.items():\n",
    "        if key not in dict_1 and value > diff_percent:\n",
    "            diff_codes.append(key)\n",
    "            print(f\"code {key}: dictionary 1 frequency - 0, dictionary 2 frequency - {value}\")\n",
    "\n",
    "    dict_diff_1 = {}\n",
    "    dict_diff_2 = {}\n",
    "\n",
    "    for key, value in dict_1.items():\n",
    "        if key in diff_codes:\n",
    "            dict_diff_1[key] = value\n",
    "\n",
    "    for key, value in dict_2.items():\n",
    "        if key in diff_codes:\n",
    "            dict_diff_2[key] = value  \n",
    "\n",
    "    return diff_codes, dict_diff_1, dict_diff_2\n"
   ]
  },
  {
   "cell_type": "code",
   "execution_count": 6,
   "metadata": {},
   "outputs": [],
   "source": [
    "\"\"\" \n",
    "Read in dataset and select codes\n",
    "\"\"\"\n",
    "\n",
    "df_path = \"/home/wanxinli/EHR-OT/outputs/mimic/ADMID_DIAGNOSIS.csv\"\n",
    "admid_diag_df = pd.read_csv(df_path, index_col=0, header=0, converters={'ICD codes': literal_eval})\n",
    "admid_diag_df\n",
    "\n",
    "male_freq_dict, female_freq_dict = construct_freq_dict_group(admid_diag_df, 'gender', 'M', 'F')\n",
    "male_min_count = 120\n",
    "female_min_count = 100\n",
    "selected_codes = select_codes(male_freq_dict, female_freq_dict, male_min_count*2, female_min_count*2)"
   ]
  },
  {
   "cell_type": "code",
   "execution_count": 5,
   "metadata": {},
   "outputs": [
    {
     "name": "stdout",
     "output_type": "stream",
     "text": [
      "(57734, 6)\n",
      "(58976, 6)\n"
     ]
    },
    {
     "data": {
      "text/html": [
       "<div>\n",
       "<style scoped>\n",
       "    .dataframe tbody tr th:only-of-type {\n",
       "        vertical-align: middle;\n",
       "    }\n",
       "\n",
       "    .dataframe tbody tr th {\n",
       "        vertical-align: top;\n",
       "    }\n",
       "\n",
       "    .dataframe thead th {\n",
       "        text-align: right;\n",
       "    }\n",
       "</style>\n",
       "<table border=\"1\" class=\"dataframe\">\n",
       "  <thead>\n",
       "    <tr style=\"text-align: right;\">\n",
       "      <th></th>\n",
       "      <th>adm_type</th>\n",
       "      <th>gender</th>\n",
       "      <th>ICD codes</th>\n",
       "      <th>duration</th>\n",
       "      <th>diagnosis</th>\n",
       "      <th>label</th>\n",
       "    </tr>\n",
       "    <tr>\n",
       "      <th>admid</th>\n",
       "      <th></th>\n",
       "      <th></th>\n",
       "      <th></th>\n",
       "      <th></th>\n",
       "      <th></th>\n",
       "      <th></th>\n",
       "    </tr>\n",
       "  </thead>\n",
       "  <tbody>\n",
       "    <tr>\n",
       "      <th>172335</th>\n",
       "      <td>EMERGENCY</td>\n",
       "      <td>F</td>\n",
       "      <td>[486, 425.4, 276.2, 276.7, 458.29, 287.5, 285....</td>\n",
       "      <td>530460.0</td>\n",
       "      <td>LEG PAIN</td>\n",
       "      <td>0</td>\n",
       "    </tr>\n",
       "    <tr>\n",
       "      <th>173633</th>\n",
       "      <td>EMERGENCY</td>\n",
       "      <td>F</td>\n",
       "      <td>[585.6, 583.81, 287.5, 285.21, 458.29, 327.23,...</td>\n",
       "      <td>574560.0</td>\n",
       "      <td>ABDOMINAL PAIN</td>\n",
       "      <td>0</td>\n",
       "    </tr>\n",
       "    <tr>\n",
       "      <th>174105</th>\n",
       "      <td>EMERGENCY</td>\n",
       "      <td>M</td>\n",
       "      <td>[410.71, 285.9, 414.01]</td>\n",
       "      <td>425460.0</td>\n",
       "      <td>GASTROINTESTINAL BLEED</td>\n",
       "      <td>0</td>\n",
       "    </tr>\n",
       "    <tr>\n",
       "      <th>109976</th>\n",
       "      <td>EMERGENCY</td>\n",
       "      <td>M</td>\n",
       "      <td>[331.4, 530.81]</td>\n",
       "      <td>1284240.0</td>\n",
       "      <td>HYDROCEPHALUS</td>\n",
       "      <td>0</td>\n",
       "    </tr>\n",
       "    <tr>\n",
       "      <th>178393</th>\n",
       "      <td>ELECTIVE</td>\n",
       "      <td>M</td>\n",
       "      <td>[414.01, 411.1, 285.9, 272.0, 305.1]</td>\n",
       "      <td>485280.0</td>\n",
       "      <td>USA/SDA</td>\n",
       "      <td>0</td>\n",
       "    </tr>\n",
       "    <tr>\n",
       "      <th>...</th>\n",
       "      <td>...</td>\n",
       "      <td>...</td>\n",
       "      <td>...</td>\n",
       "      <td>...</td>\n",
       "      <td>...</td>\n",
       "      <td>...</td>\n",
       "    </tr>\n",
       "    <tr>\n",
       "      <th>172304</th>\n",
       "      <td>ELECTIVE</td>\n",
       "      <td>F</td>\n",
       "      <td>[348.5, 401.9, 272.0, 530.81]</td>\n",
       "      <td>449700.0</td>\n",
       "      <td>LEFT BRAIN TUMOR/SDA</td>\n",
       "      <td>0</td>\n",
       "    </tr>\n",
       "    <tr>\n",
       "      <th>152542</th>\n",
       "      <td>EMERGENCY</td>\n",
       "      <td>M</td>\n",
       "      <td>[357.2, V58.67, 427.31, 401.9, 428.0, 530.81, ...</td>\n",
       "      <td>415740.0</td>\n",
       "      <td>PERIRECTAL ABSCESS</td>\n",
       "      <td>0</td>\n",
       "    </tr>\n",
       "    <tr>\n",
       "      <th>161999</th>\n",
       "      <td>EMERGENCY</td>\n",
       "      <td>M</td>\n",
       "      <td>[434.11, 348.5, 348.4, 430, 348.30, 997.31, 59...</td>\n",
       "      <td>692940.0</td>\n",
       "      <td>STROKE;TELEMETRY</td>\n",
       "      <td>0</td>\n",
       "    </tr>\n",
       "    <tr>\n",
       "      <th>189314</th>\n",
       "      <td>EMERGENCY</td>\n",
       "      <td>F</td>\n",
       "      <td>[745.5, 311]</td>\n",
       "      <td>150060.0</td>\n",
       "      <td>STROKE;TELEMETRY;TRANSIENT ISCHEMIC ATTACK</td>\n",
       "      <td>0</td>\n",
       "    </tr>\n",
       "    <tr>\n",
       "      <th>168949</th>\n",
       "      <td>EMERGENCY</td>\n",
       "      <td>M</td>\n",
       "      <td>[427.31, V58.61, 458.29]</td>\n",
       "      <td>688980.0</td>\n",
       "      <td>ABDOMINAL PAIN</td>\n",
       "      <td>0</td>\n",
       "    </tr>\n",
       "  </tbody>\n",
       "</table>\n",
       "<p>57734 rows × 6 columns</p>\n",
       "</div>"
      ],
      "text/plain": [
       "         adm_type gender                                          ICD codes  \\\n",
       "admid                                                                         \n",
       "172335  EMERGENCY      F  [486, 425.4, 276.2, 276.7, 458.29, 287.5, 285....   \n",
       "173633  EMERGENCY      F  [585.6, 583.81, 287.5, 285.21, 458.29, 327.23,...   \n",
       "174105  EMERGENCY      M                            [410.71, 285.9, 414.01]   \n",
       "109976  EMERGENCY      M                                    [331.4, 530.81]   \n",
       "178393   ELECTIVE      M               [414.01, 411.1, 285.9, 272.0, 305.1]   \n",
       "...           ...    ...                                                ...   \n",
       "172304   ELECTIVE      F                      [348.5, 401.9, 272.0, 530.81]   \n",
       "152542  EMERGENCY      M  [357.2, V58.67, 427.31, 401.9, 428.0, 530.81, ...   \n",
       "161999  EMERGENCY      M  [434.11, 348.5, 348.4, 430, 348.30, 997.31, 59...   \n",
       "189314  EMERGENCY      F                                       [745.5, 311]   \n",
       "168949  EMERGENCY      M                           [427.31, V58.61, 458.29]   \n",
       "\n",
       "         duration                                   diagnosis  label  \n",
       "admid                                                                 \n",
       "172335   530460.0                                    LEG PAIN      0  \n",
       "173633   574560.0                              ABDOMINAL PAIN      0  \n",
       "174105   425460.0                      GASTROINTESTINAL BLEED      0  \n",
       "109976  1284240.0                               HYDROCEPHALUS      0  \n",
       "178393   485280.0                                     USA/SDA      0  \n",
       "...           ...                                         ...    ...  \n",
       "172304   449700.0                        LEFT BRAIN TUMOR/SDA      0  \n",
       "152542   415740.0                          PERIRECTAL ABSCESS      0  \n",
       "161999   692940.0                            STROKE;TELEMETRY      0  \n",
       "189314   150060.0  STROKE;TELEMETRY;TRANSIENT ISCHEMIC ATTACK      0  \n",
       "168949   688980.0                              ABDOMINAL PAIN      0  \n",
       "\n",
       "[57734 rows x 6 columns]"
      ]
     },
     "execution_count": 5,
     "metadata": {},
     "output_type": "execute_result"
    }
   ],
   "source": [
    "# preprocess the dataset to keep only the top codes\n",
    "\n",
    "admid_diag_filtered_df = admid_diag_df.copy(deep=True)\n",
    "empty_indices = []\n",
    "for index, row in admid_diag_filtered_df.iterrows():\n",
    "    codes = row['ICD codes']\n",
    "    filtered_codes = [code for code in codes if code in selected_codes]\n",
    "    admid_diag_filtered_df.at[index, 'ICD codes'] = filtered_codes\n",
    "    if len(filtered_codes) == 0:\n",
    "        empty_indices.append(index)\n",
    "admid_diag_filtered_df = admid_diag_filtered_df.drop(empty_indices)\n",
    "print(admid_diag_filtered_df.shape)\n",
    "print(admid_diag_df.shape)\n",
    "\n",
    "all_codes = []\n",
    "for index, row in admid_diag_filtered_df.iterrows():\n",
    "    all_codes.extend(row['ICD codes'])\n",
    "\n",
    "\n",
    "data_path = \"../../outputs/mimic/ADMID_DIAGNOSIS_selected.csv\"\n",
    "admid_diag_filtered_df.to_csv(data_path, index=True, header=True)\n",
    "admid_diag_filtered_df\n"
   ]
  },
  {
   "attachments": {},
   "cell_type": "markdown",
   "metadata": {},
   "source": [
    "# Divide by gender"
   ]
  },
  {
   "cell_type": "code",
   "execution_count": 13,
   "metadata": {},
   "outputs": [
    {
     "name": "stdout",
     "output_type": "stream",
     "text": [
      "df shape is: (58976, 6)\n",
      "group_1_df shape is: (32950, 6)\n",
      "group_2_df shape is: (26026, 6)\n",
      "male total number of code is: 362773\n",
      "female total number of code is: 288274\n",
      "number of unique codes is: 6985\n",
      "avg percent is: 0.00014316392269148176\n"
     ]
    }
   ],
   "source": [
    "\"\"\" \n",
    "Calculates ICD code frequencies for target and source\n",
    "\"\"\"\n",
    "male_freq_dict, female_freq_dict, male_total, female_total, num_unique_codes = divide_dataset(admid_diag_df, 'gender', 'M', 'F')\n",
    "print(\"male total number of code is:\", male_total)\n",
    "print(\"female total number of code is:\", female_total)\n",
    "print(\"number of unique codes is:\", num_unique_codes)\n",
    "avg_percent = 1/num_unique_codes\n",
    "print(\"avg percent is:\", avg_percent)"
   ]
  },
  {
   "cell_type": "code",
   "execution_count": 14,
   "metadata": {},
   "outputs": [
    {
     "name": "stdout",
     "output_type": "stream",
     "text": [
      "code 285.9: dictionary 1 frequency - 0.007379270232349155, dictionary 2 frequency - 0.009466687942721161\n",
      "code 414.01: dictionary 1 frequency - 0.022347308096247517, dictionary 2 frequency - 0.014992680574730985\n",
      "code 411.1: dictionary 1 frequency - 0.003299584037400799, dictionary 2 frequency - 0.0016165176186544745\n",
      "code 305.1: dictionary 1 frequency - 0.0058080397383487746, dictionary 2 frequency - 0.004339621332482291\n",
      "code 599.0: dictionary 1 frequency - 0.006968545068128003, dictionary 2 frequency - 0.013969348605840277\n",
      "code 274.9: dictionary 1 frequency - 0.004217513431264179, dictionary 2 frequency - 0.0019148449045005792\n",
      "code V10.46: dictionary 1 frequency - 0.003327149484663963, dictionary 2 frequency - 0\n",
      "code 428.33: dictionary 1 frequency - 0.0012156362243055574, dictionary 2 frequency - 0.002702290182257158\n",
      "code 428.0: dictionary 1 frequency - 0.01930959580784678, dictionary 2 frequency - 0.021181237295073436\n",
      "code V45.81: dictionary 1 frequency - 0.005954136608843546, dictionary 2 frequency - 0.003108154047884998\n",
      "code 493.90: dictionary 1 frequency - 0.0024202462697058493, dictionary 2 frequency - 0.004568570179759535\n",
      "code 244.9: dictionary 1 frequency - 0.004438037009369495, dictionary 2 frequency - 0.011471724817361261\n",
      "code 311: dictionary 1 frequency - 0.004253348512706293, dictionary 2 frequency - 0.006549324600900532\n",
      "code 600.00: dictionary 1 frequency - 0.004107251642211521, dictionary 2 frequency - 0\n",
      "code V45.82: dictionary 1 frequency - 0.005061016117517015, dictionary 2 frequency - 0.0030838715943858966\n",
      "code 412: dictionary 1 frequency - 0.005849387909243522, dictionary 2 frequency - 0.004010073749280199\n",
      "code 427.1: dictionary 1 frequency - 0.003481515989337685, dictionary 2 frequency - 0.001900969216786807\n",
      "code V50.2: dictionary 1 frequency - 0.005557194168253977, dictionary 2 frequency - 0\n",
      "code 272.4: dictionary 1 frequency - 0.014204474974708703, dictionary 2 frequency - 0.012269576860903169\n",
      "code 300.00: dictionary 1 frequency - 0.0017531624459372667, dictionary 2 frequency - 0.003274662300450266\n",
      "code 507.0: dictionary 1 frequency - 0.006370374862517332, dictionary 2 frequency - 0.004748954120038574\n",
      "code 733.00: dictionary 1 frequency - 0.0008545288651581016, dictionary 2 frequency - 0.005678625196861319\n",
      "code 585.9: dictionary 1 frequency - 0.0059817020561067115, dictionary 2 frequency - 0.004388186239480494\n",
      "code V10.3: dictionary 1 frequency - 4.961780507369622e-05, dictionary 2 frequency - 0.004367372707909835\n",
      "number of differing codes is: 21\n"
     ]
    }
   ],
   "source": [
    "# Find frequencies in female and male dictionaries differing by diff_percent\n",
    "diff_codes, male_diff_dict, female_diff_dict = find_differ_codes(male_freq_dict, female_freq_dict, 10*avg_percent)\n",
    "print(\"number of differing codes is:\", len(diff_codes))\n",
    "\n",
    "# report the statistics in REB application"
   ]
  },
  {
   "cell_type": "code",
   "execution_count": 15,
   "metadata": {},
   "outputs": [
    {
     "name": "stdout",
     "output_type": "stream",
     "text": [
      "df shape is: (57734, 6)\n",
      "group_1_df shape is: (32167, 6)\n",
      "group_2_df shape is: (25567, 6)\n",
      "avg percent is: 0.004032258064516129\n",
      "code 414.01: dictionary 1 frequency - 0.033854068793873114, dictionary 2 frequency - 0.02280690645052347\n",
      "code 599.0: dictionary 1 frequency - 0.010556690009980415, dictionary 2 frequency - 0.021250211077338738\n",
      "code V10.46: dictionary 1 frequency - 0.005040318371062643, dictionary 2 frequency - 0\n",
      "code V45.81: dictionary 1 frequency - 0.00901995665409719, dictionary 2 frequency - 0.004728132387706856\n",
      "code 244.9: dictionary 1 frequency - 0.006723208431989109, dictionary 2 frequency - 0.0174508189800743\n",
      "code 600.00: dictionary 1 frequency - 0.006222099728983709, dictionary 2 frequency - 0\n",
      "code V50.2: dictionary 1 frequency - 0.00841862621049071, dictionary 2 frequency - 0\n",
      "code 733.00: dictionary 1 frequency - 0.0012945308160972819, dictionary 2 frequency - 0.008638340087808173\n",
      "number of differing codes is: 5\n"
     ]
    }
   ],
   "source": [
    "# Find frequency difference for the filtered dataframe\n",
    "male_freq_dict, female_freq_dict, male_total, female_total, num_unique_codes = divide_dataset(admid_diag_filtered_df, 'gender', 'M', 'F')\n",
    "avg_percent = 1/num_unique_codes\n",
    "print(\"avg percent is:\", avg_percent)\n",
    "\n",
    "diff_codes, male_diff_dict, female_diff_dict = find_differ_codes(male_freq_dict, female_freq_dict, avg_percent)\n",
    "print(\"number of differing codes is:\", len(diff_codes))"
   ]
  },
  {
   "cell_type": "code",
   "execution_count": 16,
   "metadata": {},
   "outputs": [
    {
     "data": {
      "image/png": "[encoded data removed]",
      "text/plain": [
       "<Figure size 640x480 with 1 Axes>"
      ]
     },
     "metadata": {},
     "output_type": "display_data"
    }
   ],
   "source": [
    "# visualize differing codes\n",
    "plt.bar(list(male_diff_dict.keys()), list(male_diff_dict.values()), alpha=0.5, label=\"male\")\n",
    "plt.bar(list(female_diff_dict.keys()), list(female_diff_dict.values()), alpha=0.5, label=\"female\")\n",
    "plt.xticks(rotation = 90) \n",
    "plt.legend()\n",
    "plt.show()"
   ]
  },
  {
   "attachments": {},
   "cell_type": "markdown",
   "metadata": {},
   "source": [
    "# Divide by admission type"
   ]
  },
  {
   "cell_type": "code",
   "execution_count": 17,
   "metadata": {},
   "outputs": [
    {
     "name": "stdout",
     "output_type": "stream",
     "text": [
      "emergency count is: 42071\n",
      "elective count is: 7706\n",
      "newborn count is: 7863\n"
     ]
    }
   ],
   "source": [
    "\"\"\" \n",
    "Calculate the number of emergency, elective and newborn\n",
    "\"\"\"\n",
    "types = list(admid_diag_df['adm_type'])\n",
    "print(\"emergency count is:\", types.count('EMERGENCY'))\n",
    "print(\"elective count is:\", types.count('ELECTIVE'))\n",
    "print(\"newborn count is:\", types.count('NEWBORN'))"
   ]
  },
  {
   "cell_type": "code",
   "execution_count": 18,
   "metadata": {},
   "outputs": [
    {
     "name": "stdout",
     "output_type": "stream",
     "text": [
      "df shape is: (58976, 6)\n",
      "group_1_df shape is: (42071, 6)\n",
      "group_2_df shape is: (7706, 6)\n",
      "avg percent is: 0.0001502178158329578\n"
     ]
    }
   ],
   "source": [
    "emergency_freq_dict, elective_freq_dict, emergency_total, elective_total, num_unique_codes \\\n",
    "    = divide_dataset(admid_diag_df, 'adm_type', 'EMERGENCY', 'ELECTIVE')\n",
    "avg_percent = 1/num_unique_codes\n",
    "print(\"avg percent is:\", avg_percent)"
   ]
  },
  {
   "cell_type": "code",
   "execution_count": 19,
   "metadata": {},
   "outputs": [
    {
     "name": "stdout",
     "output_type": "stream",
     "text": [
      "code 486: dictionary 1 frequency - 0.008593060253812108, dictionary 2 frequency - 0.0034813231716332646\n",
      "code 276.2: dictionary 1 frequency - 0.007862804683681493, dictionary 2 frequency - 0.005000201621033106\n",
      "code 276.7: dictionary 1 frequency - 0.0038386714757924142, dictionary 2 frequency - 0.0019490033200263452\n",
      "code 458.29: dictionary 1 frequency - 0.002633170217164097, dictionary 2 frequency - 0.009771899404545882\n",
      "code 285.21: dictionary 1 frequency - 0.002511460955475661, dictionary 2 frequency - 0.0009812223611167117\n",
      "code 585.6: dictionary 1 frequency - 0.0034407015090016555, dictionary 2 frequency - 0.0016801752758847802\n",
      "code 327.23: dictionary 1 frequency - 0.0037304854654026933, dictionary 2 frequency - 0.00565883032917994\n",
      "code 410.71: dictionary 1 frequency - 0.00546918920380892, dictionary 2 frequency - 0.001155960589808729\n",
      "code 414.01: dictionary 1 frequency - 0.018289231434990835, dictionary 2 frequency - 0.03294487680954877\n",
      "code 530.81: dictionary 1 frequency - 0.009365817470881542, dictionary 2 frequency - 0.017379733053752167\n",
      "code 424.0: dictionary 1 frequency - 0.003970040202694218, dictionary 2 frequency - 0.010349879699450247\n",
      "code 998.59: dictionary 1 frequency - 0.0016981339845100816, dictionary 2 frequency - 0.0035350887804615778\n",
      "code 599.0: dictionary 1 frequency - 0.011564311753444082, dictionary 2 frequency - 0.005551299111523314\n",
      "code 428.0: dictionary 1 frequency - 0.021986874718668076, dictionary 2 frequency - 0.017809857924378673\n",
      "code 401.9: dictionary 1 frequency - 0.031507243632963505, dictionary 2 frequency - 0.05154777746414506\n",
      "code 285.1: dictionary 1 frequency - 0.007236871337855251, dictionary 2 frequency - 0.009583719773646786\n",
      "code 250.00: dictionary 1 frequency - 0.014290212836656511, dictionary 2 frequency - 0.018992701318601556\n",
      "code 584.9: dictionary 1 frequency - 0.0164925709053044, dictionary 2 frequency - 0.005269029665174671\n",
      "code 038.9: dictionary 1 frequency - 0.006786740258912306, dictionary 2 frequency - 0.0015054370471927632\n",
      "code 276.1: dictionary 1 frequency - 0.0053880496960166295, dictionary 2 frequency - 0.0022581555707891447\n",
      "code 995.92: dictionary 1 frequency - 0.007190505904831085, dictionary 2 frequency - 0.0016264096670564672\n",
      "code 441.2: dictionary 1 frequency - 0.0003689915711506548, dictionary 2 frequency - 0.003911448042259768\n",
      "code 496: dictionary 1 frequency - 0.007049477712715913, dictionary 2 frequency - 0.008817559847843328\n",
      "code 272.0: dictionary 1 frequency - 0.008581468895556067, dictionary 2 frequency - 0.01720499482506015\n",
      "code 491.21: dictionary 1 frequency - 0.0022197451060319497, dictionary 2 frequency - 0.00033603505517695604\n",
      "code 427.31: dictionary 1 frequency - 0.019846337227385744, dictionary 2 frequency - 0.03051198301006761\n",
      "code 493.90: dictionary 1 frequency - 0.0034233144716175933, dictionary 2 frequency - 0.00512117424089681\n",
      "code E888.9: dictionary 1 frequency - 0.0018526854279239684, dictionary 2 frequency - 0.0002957108485557213\n",
      "code 518.5: dictionary 1 frequency - 0.0024902101320062515, dictionary 2 frequency - 0.0060620723953922874\n",
      "code 997.1: dictionary 1 frequency - 0.0025056652763476403, dictionary 2 frequency - 0.012836539107759722\n",
      "code V15.82: dictionary 1 frequency - 0.004199935474772374, dictionary 2 frequency - 0.0076884820624487545\n",
      "code 600.00: dictionary 1 frequency - 0.002254519180800074, dictionary 2 frequency - 0.003951772248881004\n",
      "code V45.82: dictionary 1 frequency - 0.004176752758260292, dictionary 2 frequency - 0.006720701103539121\n",
      "code 995.91: dictionary 1 frequency - 0.0023646370842324684, dictionary 2 frequency - 0.0004838904794548167\n",
      "code 431: dictionary 1 frequency - 0.0025558944954571536, dictionary 2 frequency - 0.0003629178595911125\n",
      "code 294.8: dictionary 1 frequency - 0.0020806488069594516, dictionary 2 frequency - 0.00045700767504066025\n",
      "code 998.2: dictionary 1 frequency - 0.0012557304777378305, dictionary 2 frequency - 0.0032662607363200128\n",
      "code 272.4: dictionary 1 frequency - 0.013210284625801977, dictionary 2 frequency - 0.022957914969689637\n",
      "code 424.1: dictionary 1 frequency - 0.0028437465588155176, dictionary 2 frequency - 0.013790878664462276\n",
      "code 998.11: dictionary 1 frequency - 0.001976326582655078, dictionary 2 frequency - 0.006250252026291383\n",
      "code 518.81: dictionary 1 frequency - 0.01356768483869659, dictionary 2 frequency - 0.0036829442047394386\n",
      "code 458.9: dictionary 1 frequency - 0.0036377545993543613, dictionary 2 frequency - 0.001169401992015807\n",
      "code 411.1: dictionary 1 frequency - 0.0022583829668854213, dictionary 2 frequency - 0.005148057045310967\n",
      "code 413.9: dictionary 1 frequency - 0.0011668633977748456, dictionary 2 frequency - 0.006277134830705539\n",
      "code 507.0: dictionary 1 frequency - 0.006641848280711787, dictionary 2 frequency - 0.0022850383752033012\n",
      "code 512.1: dictionary 1 frequency - 0.0009582189491660984, dictionary 2 frequency - 0.0035216473782544995\n",
      "code 276.51: dictionary 1 frequency - 0.002575213425883889, dictionary 2 frequency - 0.000551097490490208\n",
      "code 790.7: dictionary 1 frequency - 0.0025983961423959724, dictionary 2 frequency - 0.001048429372152103\n",
      "code 403.91: dictionary 1 frequency - 0.004619156265032543, dictionary 2 frequency - 0.002567307821551944\n",
      "code 785.52: dictionary 1 frequency - 0.004810413676257228, dictionary 2 frequency - 0.000725835719182225\n",
      "code 008.45: dictionary 1 frequency - 0.002590668570225278, dictionary 2 frequency - 0.0009274567522883987\n",
      "code E878.8: dictionary 1 frequency - 0.0017406356314489005, dictionary 2 frequency - 0.00565883032917994\n",
      "code 412: dictionary 1 frequency - 0.004990079729225871, dictionary 2 frequency - 0.008051399922039867\n",
      "code 997.4: dictionary 1 frequency - 0.0009215129813553003, dictionary 2 frequency - 0.0035350887804615778\n",
      "code 560.1: dictionary 1 frequency - 0.0015725609367362985, dictionary 2 frequency - 0.0032393779319058566\n",
      "code 518.0: dictionary 1 frequency - 0.0031972829856247837, dictionary 2 frequency - 0.006277134830705539\n",
      "code 433.10: dictionary 1 frequency - 0.0011108384995373115, dictionary 2 frequency - 0.003091522507627996\n",
      "code E878.1: dictionary 1 frequency - 0.0008538967248617247, dictionary 2 frequency - 0.003320026345148326\n",
      "code V66.7: dictionary 1 frequency - 0.0018971189679054608, dictionary 2 frequency - 0.0002957108485557213\n",
      "code V49.86: dictionary 1 frequency - 0.0024940739180915987, dictionary 2 frequency - 0.0003494764573840343\n",
      "code 441.4: dictionary 1 frequency - 0.0008152588640082531, dictionary 2 frequency - 0.0029302256811430567\n",
      "code 578.9: dictionary 1 frequency - 0.0025694177467558686, dictionary 2 frequency - 0.00043012487062650377\n",
      "code 276.0: dictionary 1 frequency - 0.004132319218278799, dictionary 2 frequency - 0.0012366090030511982\n",
      "code E849.7: dictionary 1 frequency - 0.001518467931541438, dictionary 2 frequency - 0.0030377568987996826\n",
      "code 997.5: dictionary 1 frequency - 0.0005022921910951322, dictionary 2 frequency - 0.0022850383752033012\n",
      "code 278.00: dictionary 1 frequency - 0.0020806488069594516, dictionary 2 frequency - 0.0055109749049020796\n",
      "code 707.03: dictionary 1 frequency - 0.0023414543677203856, dictionary 2 frequency - 0.0007661599258034598\n",
      "code V70.7: dictionary 1 frequency - 0.0006626393136370398, dictionary 2 frequency - 0.002311921179617458\n",
      "code 437.3: dictionary 1 frequency - 0.0003477407476812454, dictionary 2 frequency - 0.003051198301006761\n",
      "code 745.5: dictionary 1 frequency - 0.0006143419875702001, dictionary 2 frequency - 0.002204389961960832\n",
      "code 997.3: dictionary 1 frequency - 0.0004095613250468001, dictionary 2 frequency - 0.0020834173420971277\n",
      "code 568.0: dictionary 1 frequency - 0.00040376564591877934, dictionary 2 frequency - 0.002500100810516553\n",
      "code 746.4: dictionary 1 frequency - 0.0001719384807979491, dictionary 2 frequency - 0.002836135865693509\n",
      "code E878.2: dictionary 1 frequency - 0.0013813035255116136, dictionary 2 frequency - 0.0063309004395338524\n",
      "code E878.6: dictionary 1 frequency - 0.0002646693468462812, dictionary 2 frequency - 0.002123741548718362\n",
      "number of differing codes is: 3\n"
     ]
    }
   ],
   "source": [
    "# Find frequencies in emergency and elective dictionaries differing by diff_percent\n",
    "diff_codes = find_differ_codes(emergency_freq_dict, elective_freq_dict, 10*avg_percent)\n",
    "print(\"number of differing codes is:\", len(diff_codes))"
   ]
  },
  {
   "cell_type": "code",
   "execution_count": 20,
   "metadata": {},
   "outputs": [
    {
     "name": "stdout",
     "output_type": "stream",
     "text": [
      "df shape is: (57734, 6)\n",
      "group_1_df shape is: (41074, 6)\n",
      "group_2_df shape is: (7496, 6)\n",
      "avg percent is: 0.004048582995951417\n",
      "code 486: dictionary 1 frequency - 0.013250517598343685, dictionary 2 frequency - 0.005091109232795392\n",
      "code 276.2: dictionary 1 frequency - 0.012124461921146313, dictionary 2 frequency - 0.007312326774516934\n",
      "code 458.29: dictionary 1 frequency - 0.004060354201111161, dictionary 2 frequency - 0.014290488078155406\n",
      "code 410.71: dictionary 1 frequency - 0.008433501645888259, dictionary 2 frequency - 0.0016904841467969257\n",
      "code 414.01: dictionary 1 frequency - 0.028202034645575465, dictionary 2 frequency - 0.04817879818371238\n",
      "code 530.81: dictionary 1 frequency - 0.014442110907547254, dictionary 2 frequency - 0.02541623257916773\n",
      "code 424.0: dictionary 1 frequency - 0.006121810626033335, dictionary 2 frequency - 0.01513573015155387\n",
      "code 599.0: dictionary 1 frequency - 0.01783219387223141, dictionary 2 frequency - 0.008118255263106167\n",
      "code 428.0: dictionary 1 frequency - 0.033903808630114544, dictionary 2 frequency - 0.026045249936115424\n",
      "code 401.9: dictionary 1 frequency - 0.04858423819950251, dictionary 2 frequency - 0.07538379887170012\n",
      "code 250.00: dictionary 1 frequency - 0.022035539270446998, dictionary 2 frequency - 0.02777504766772158\n",
      "code 584.9: dictionary 1 frequency - 0.025431580201677167, dictionary 2 frequency - 0.0077054626226092425\n",
      "code 038.9: dictionary 1 frequency - 0.010465168238080344, dictionary 2 frequency - 0.0022015607493169266\n",
      "code 276.1: dictionary 1 frequency - 0.008308384348421884, dictionary 2 frequency - 0.0033023411239753897\n",
      "code 995.92: dictionary 1 frequency - 0.011087775742139207, dictionary 2 frequency - 0.002378471880958465\n",
      "code 272.0: dictionary 1 frequency - 0.013232643698705632, dictionary 2 frequency - 0.025160694277907732\n",
      "code 427.31: dictionary 1 frequency - 0.030603095163620656, dictionary 2 frequency - 0.04462091875847699\n",
      "code 518.5: dictionary 1 frequency - 0.0038399094389085005, dictionary 2 frequency - 0.008865213374481552\n",
      "code 997.1: dictionary 1 frequency - 0.003863741305092572, dictionary 2 frequency - 0.01877223674640772\n",
      "code V15.82: dictionary 1 frequency - 0.006476309635521396, dictionary 2 frequency - 0.011243685255440018\n",
      "code 272.4: dictionary 1 frequency - 0.02037028762083501, dictionary 2 frequency - 0.033573801427083126\n",
      "code 424.1: dictionary 1 frequency - 0.004385063377869133, dictionary 2 frequency - 0.020167869007135415\n",
      "code 998.11: dictionary 1 frequency - 0.0030474998882881275, dictionary 2 frequency - 0.009140408468146169\n",
      "code 518.81: dictionary 1 frequency - 0.020921399526341658, dictionary 2 frequency - 0.005385961118864624\n",
      "code 413.9: dictionary 1 frequency - 0.001799305896897389, dictionary 2 frequency - 0.009179722052955398\n",
      "code 507.0: dictionary 1 frequency - 0.010241744492604675, dictionary 2 frequency - 0.0033416547087846207\n",
      "code 785.52: dictionary 1 frequency - 0.007417668349792216, dictionary 2 frequency - 0.0010614667898492323\n",
      "code E878.8: dictionary 1 frequency - 0.0026840639289810388, dictionary 2 frequency - 0.008275509602343089\n",
      "code 412: dictionary 1 frequency - 0.007694713794182045, dictionary 2 frequency - 0.011774418650364634\n",
      "code 518.0: dictionary 1 frequency - 0.004930217316829766, dictionary 2 frequency - 0.009179722052955398\n",
      "code 276.0: dictionary 1 frequency - 0.006372045220966085, dictionary 2 frequency - 0.0018084249012246183\n",
      "code 278.00: dictionary 1 frequency - 0.003208364985030609, dictionary 2 frequency - 0.00805928488589232\n",
      "code E878.2: dictionary 1 frequency - 0.0021299730402013794, dictionary 2 frequency - 0.009258349222573861\n",
      "number of differing codes is: 33\n"
     ]
    }
   ],
   "source": [
    "# Find frequency difference for the filtered dataframe\n",
    "emergency_freq_dict, elective_freq_dict, emergency_total, elective_total, num_unique_codes \\\n",
    "    = divide_dataset(admid_diag_filtered_df, 'adm_type', 'EMERGENCY', 'ELECTIVE')\n",
    "avg_percent = 1/num_unique_codes\n",
    "print(\"avg percent is:\", avg_percent)\n",
    "\n",
    "diff_codes, emergency_diff_dict, elective_diff_dict,  = find_differ_codes(emergency_freq_dict, elective_freq_dict, avg_percent)\n",
    "print(\"number of differing codes is:\", len(diff_codes))"
   ]
  },
  {
   "cell_type": "code",
   "execution_count": 21,
   "metadata": {},
   "outputs": [
    {
     "data": {
      "image/png": "[encoded data removed]",
      "text/plain": [
       "<Figure size 640x480 with 1 Axes>"
      ]
     },
     "metadata": {},
     "output_type": "display_data"
    }
   ],
   "source": [
    "# visualize differing codes\n",
    "plt.bar(list(emergency_diff_dict.keys()), list(emergency_diff_dict.values()), alpha=0.5, label=\"emergency\")\n",
    "plt.bar(list(elective_diff_dict.keys()), list(elective_diff_dict.values()), alpha=0.5, label=\"elective\")\n",
    "plt.xticks(rotation = 90) \n",
    "plt.legend()\n",
    "plt.show()"
   ]
  },
  {
   "cell_type": "code",
   "execution_count": null,
   "metadata": {},
   "outputs": [],
   "source": []
  }
 ],
 "metadata": {
  "kernelspec": {
   "display_name": "Python 3",
   "language": "python",
   "name": "python3"
  },
  "language_info": {
   "codemirror_mode": {
    "name": "ipython",
    "version": 3
   },
   "file_extension": ".py",
   "mimetype": "text/x-python",
   "name": "python",
   "nbconvert_exporter": "python",
   "pygments_lexer": "ipython3",
   "version": "3.9.12"
  },
  "orig_nbformat": 4,
  "vscode": {
   "interpreter": {
    "hash": "f9f85f796d01129d0dd105a088854619f454435301f6ffec2fea96ecbd9be4ac"
   }
  }
 },
 "nbformat": 4,
 "nbformat_minor": 2
}
