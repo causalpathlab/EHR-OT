{
 "cells": [
  {
   "cell_type": "code",
   "execution_count": 23,
   "metadata": {},
   "outputs": [],
   "source": [
    "\"\"\" \n",
    "Prepare MIMIC dataset to run deep patient on the dataset\n",
    "Desired columns: Patient ID, gender, list of ICD codes, mortality\n",
    "TODO: add more response columns: e.g. number of days in ICU\n",
    "\"\"\"\n",
    "\n",
    "import collections\n",
    "import pandas as pd\n",
    "import sys\n",
    "from datetime import datetime\n",
    "import matplotlib.pyplot as plt"
   ]
  },
  {
   "cell_type": "code",
   "execution_count": 24,
   "metadata": {},
   "outputs": [],
   "source": [
    "\"\"\" \n",
    "Global parameters\n",
    "\"\"\"\n",
    "target_diagnosis = \"LUNG CA\""
   ]
  },
  {
   "cell_type": "code",
   "execution_count": 25,
   "metadata": {},
   "outputs": [],
   "source": [
    "\"\"\"\n",
    "Read in ADMISSIONS.csv and construct (1) patient ID to admission ID map, and \\\n",
    "    (2) admission ID to duration in hospital map (in seconds)\n",
    "\"\"\"\n",
    "\n",
    "pid_admids = {}\n",
    "admid_duration = {}\n",
    "admid_diagnosis = {}\n",
    "admid_type = {}\n",
    "\n",
    "admission_file = open(\"../mimiciii/ADMISSIONS.csv\", 'r')\n",
    "admission_file.readline()\n",
    "for line in admission_file:\n",
    "    tokens = line.strip().split(',')\n",
    "    pid = int(tokens[1])\n",
    "    admid = int(tokens[2])\n",
    "    diagnosis = tokens[-3]\n",
    "    adm_type = tokens[6][1:-1]\n",
    "    if pid in pid_admids: pid_admids[pid].append(admid)\n",
    "    else: pid_admids[pid] = [admid]\n",
    "\n",
    "    admit_time = datetime.strptime(tokens[3], '%Y-%m-%d %H:%M:%S')\n",
    "    discharge_time = datetime.strptime(tokens[4], '%Y-%m-%d %H:%M:%S')\n",
    "    admid_duration[admid] = (discharge_time-admit_time).total_seconds()\n",
    "    admid_diagnosis[admid] = diagnosis[1:-1]\n",
    "    admid_type[admid] = adm_type\n",
    "\n",
    "admission_file.close()\n"
   ]
  },
  {
   "cell_type": "code",
   "execution_count": 26,
   "metadata": {},
   "outputs": [],
   "source": [
    "\"\"\" \n",
    "Read in PATIENTS.csv and construct admission ID to gender map\n",
    "\"\"\"\n",
    "admid_gender = {}\n",
    "patient_file = open(\"../mimiciii/PATIENTS.csv\", 'r')\n",
    "patient_file.readline()\n",
    "for line in patient_file:\n",
    "    tokens = line.strip().split(',')\n",
    "    pid = int(tokens[1])\n",
    "    gender = str(tokens[2])\n",
    "    admids = pid_admids[pid]\n",
    "    for admid in admids:\n",
    "        admid_gender[admid] = gender[1]\n",
    "\n",
    "patient_file.close()"
   ]
  },
  {
   "cell_type": "code",
   "execution_count": 27,
   "metadata": {},
   "outputs": [],
   "source": [
    "\"\"\" \n",
    "Consruct admission ID to ICD codes mapping\n",
    "\"\"\"\n",
    "\n",
    "def convert_to_icd9(dxStr):\n",
    "    \"\"\" \n",
    "    Source: https://github.com/mp2893/med2vec/blob/master/process_mimic.py\n",
    "    I am not sure why ICD codes are converted in this way\n",
    "    \"\"\"\n",
    "    if dxStr.startswith('E'):\n",
    "        if len(dxStr) > 4: \n",
    "            return dxStr[:4] + '.' + dxStr[4:]\n",
    "        else: \n",
    "            return dxStr\n",
    "    else:\n",
    "        if len(dxStr) > 3: return dxStr[:3] + '.' + dxStr[3:]\n",
    "        else: return dxStr\n",
    "\n",
    "admid_codes = {}\n",
    "diagnosis_file = open(\"../mimiciii/DIAGNOSES_ICD.csv\", 'r')\n",
    "diagnosis_file.readline()\n",
    "for line in diagnosis_file: # read ADMISSIONS.CSV in order\n",
    "    tokens = line.strip().split(',')\n",
    "    admid = int(tokens[2])\n",
    "    dxStr = 'D_' + convert_to_icd9(tokens[4][1:-1]) # 1:-1 to remove quotes\n",
    "\n",
    "    if admid in admid_codes: \n",
    "        admid_codes[admid].append(dxStr)\n",
    "    else: \n",
    "        admid_codes[admid] = [dxStr]\n",
    "\n",
    "diagnosis_file.close()\n"
   ]
  },
  {
   "cell_type": "code",
   "execution_count": 28,
   "metadata": {},
   "outputs": [],
   "source": [
    "\"\"\"\n",
    "Convert str codes to int codes\n",
    "We use -1 to denote NA code in later analysis\n",
    "\"\"\"\n",
    "\n",
    "types = {}\n",
    "for admid, codes in admid_codes.items():\n",
    "    new_codes = []\n",
    "    for code in codes:\n",
    "        if code not in types:\n",
    "            types[code] = len(types)\n",
    "        new_codes.append(types[code])\n",
    "    admid_codes[admid] = new_codes\n"
   ]
  },
  {
   "cell_type": "code",
   "execution_count": 29,
   "metadata": {},
   "outputs": [
    {
     "name": "stderr",
     "output_type": "stream",
     "text": [
      "/home/wanxinli/.local/lib/python3.8/site-packages/pandas/core/indexes/base.py:6982: FutureWarning: In a future version, the Index constructor will not infer numeric dtypes when passed object-dtype sequences (matching Series behavior)\n",
      "  return Index(sequences[0], name=names)\n"
     ]
    }
   ],
   "source": [
    "\"\"\" \n",
    "Construct a dataframe to store all information including\n",
    "- patient ID (index key)\n",
    "- gender\n",
    "- expire (mortality)\n",
    "- list of ICD codes\n",
    "\"\"\"\n",
    "\n",
    "admid_diagnosis_df = pd.DataFrame(columns=['admid', 'adm_type', 'gender','ICD codes','duration', 'diagnosis', 'label'])\n",
    "\n",
    "for admid, codes in admid_codes.items():\n",
    "    new_row = {\"admid\": admid, \"adm_type\": admid_type[admid], \"gender\": admid_gender[admid], \\\n",
    "               \"duration\": admid_duration[admid], \"ICD codes\": codes, \"diagnosis\": admid_diagnosis[admid]}\n",
    "    admid_diagnosis_df = pd.concat([admid_diagnosis_df, pd.DataFrame([new_row])], ignore_index=True)\n",
    "\n",
    "\n",
    "admid_diagnosis_df = admid_diagnosis_df.set_index('admid')"
   ]
  },
  {
   "cell_type": "code",
   "execution_count": 30,
   "metadata": {},
   "outputs": [
    {
     "data": {
      "text/html": [
       "<div>\n",
       "<style scoped>\n",
       "    .dataframe tbody tr th:only-of-type {\n",
       "        vertical-align: middle;\n",
       "    }\n",
       "\n",
       "    .dataframe tbody tr th {\n",
       "        vertical-align: top;\n",
       "    }\n",
       "\n",
       "    .dataframe thead th {\n",
       "        text-align: right;\n",
       "    }\n",
       "</style>\n",
       "<table border=\"1\" class=\"dataframe\">\n",
       "  <thead>\n",
       "    <tr style=\"text-align: right;\">\n",
       "      <th></th>\n",
       "      <th>adm_type</th>\n",
       "      <th>gender</th>\n",
       "      <th>ICD codes</th>\n",
       "      <th>duration</th>\n",
       "      <th>diagnosis</th>\n",
       "      <th>label</th>\n",
       "    </tr>\n",
       "    <tr>\n",
       "      <th>admid</th>\n",
       "      <th></th>\n",
       "      <th></th>\n",
       "      <th></th>\n",
       "      <th></th>\n",
       "      <th></th>\n",
       "      <th></th>\n",
       "    </tr>\n",
       "  </thead>\n",
       "  <tbody>\n",
       "    <tr>\n",
       "      <th>161473</th>\n",
       "      <td>ELECTIVE</td>\n",
       "      <td>M</td>\n",
       "      <td>[861, 103, 862, 231, 307, 66, 27, 169, 47]</td>\n",
       "      <td>1910520.0</td>\n",
       "      <td>LUNG CA/SDA</td>\n",
       "      <td>NaN</td>\n",
       "    </tr>\n",
       "    <tr>\n",
       "      <th>147743</th>\n",
       "      <td>ELECTIVE</td>\n",
       "      <td>M</td>\n",
       "      <td>[1530, 103, 45, 66, 61, 93, 109, 58, 1595, 9, ...</td>\n",
       "      <td>2028000.0</td>\n",
       "      <td>LUNG CANCER/SDA</td>\n",
       "      <td>NaN</td>\n",
       "    </tr>\n",
       "    <tr>\n",
       "      <th>190712</th>\n",
       "      <td>ELECTIVE</td>\n",
       "      <td>M</td>\n",
       "      <td>[314, 196, 218, 219, 113, 47, 250, 62, 114]</td>\n",
       "      <td>557400.0</td>\n",
       "      <td>LUNG CA/SDA</td>\n",
       "      <td>NaN</td>\n",
       "    </tr>\n",
       "    <tr>\n",
       "      <th>199523</th>\n",
       "      <td>ELECTIVE</td>\n",
       "      <td>M</td>\n",
       "      <td>[314, 146, 784, 60]</td>\n",
       "      <td>1407000.0</td>\n",
       "      <td>LUNG CA/SDA</td>\n",
       "      <td>NaN</td>\n",
       "    </tr>\n",
       "    <tr>\n",
       "      <th>165018</th>\n",
       "      <td>EMERGENCY</td>\n",
       "      <td>M</td>\n",
       "      <td>[884, 811, 900, 406, 34, 47]</td>\n",
       "      <td>496260.0</td>\n",
       "      <td>LUNG CANCER;HEMOPTYSIS</td>\n",
       "      <td>NaN</td>\n",
       "    </tr>\n",
       "    <tr>\n",
       "      <th>...</th>\n",
       "      <td>...</td>\n",
       "      <td>...</td>\n",
       "      <td>...</td>\n",
       "      <td>...</td>\n",
       "      <td>...</td>\n",
       "      <td>...</td>\n",
       "    </tr>\n",
       "    <tr>\n",
       "      <th>144869</th>\n",
       "      <td>ELECTIVE</td>\n",
       "      <td>F</td>\n",
       "      <td>[461, 306, 3974, 2509, 9, 5008, 1836, 887, 886...</td>\n",
       "      <td>806820.0</td>\n",
       "      <td>LUNG CANCER/SDA</td>\n",
       "      <td>NaN</td>\n",
       "    </tr>\n",
       "    <tr>\n",
       "      <th>129743</th>\n",
       "      <td>ELECTIVE</td>\n",
       "      <td>M</td>\n",
       "      <td>[884, 811, 885, 1786, 219, 103, 47, 250, 62, 2...</td>\n",
       "      <td>556800.0</td>\n",
       "      <td>LEFT LUNG CANCER/SDA</td>\n",
       "      <td>NaN</td>\n",
       "    </tr>\n",
       "    <tr>\n",
       "      <th>107633</th>\n",
       "      <td>ELECTIVE</td>\n",
       "      <td>M</td>\n",
       "      <td>[314, 258, 196, 60, 685, 103, 9, 637, 681, 893...</td>\n",
       "      <td>621000.0</td>\n",
       "      <td>LEFT UPPER LOBE LUNG CA/SDA</td>\n",
       "      <td>NaN</td>\n",
       "    </tr>\n",
       "    <tr>\n",
       "      <th>106216</th>\n",
       "      <td>ELECTIVE</td>\n",
       "      <td>M</td>\n",
       "      <td>[314, 811]</td>\n",
       "      <td>24780.0</td>\n",
       "      <td>LUNG CA/SDA</td>\n",
       "      <td>NaN</td>\n",
       "    </tr>\n",
       "    <tr>\n",
       "      <th>141589</th>\n",
       "      <td>EMERGENCY</td>\n",
       "      <td>F</td>\n",
       "      <td>[1, 273, 314, 178, 2348, 284, 26, 517, 886, 55...</td>\n",
       "      <td>866460.0</td>\n",
       "      <td>LUNG CANCER;AIRWAY OBSTRUCTION</td>\n",
       "      <td>NaN</td>\n",
       "    </tr>\n",
       "  </tbody>\n",
       "</table>\n",
       "<p>249 rows × 6 columns</p>\n",
       "</div>"
      ],
      "text/plain": [
       "         adm_type gender                                          ICD codes  \\\n",
       "admid                                                                         \n",
       "161473   ELECTIVE      M         [861, 103, 862, 231, 307, 66, 27, 169, 47]   \n",
       "147743   ELECTIVE      M  [1530, 103, 45, 66, 61, 93, 109, 58, 1595, 9, ...   \n",
       "190712   ELECTIVE      M        [314, 196, 218, 219, 113, 47, 250, 62, 114]   \n",
       "199523   ELECTIVE      M                                [314, 146, 784, 60]   \n",
       "165018  EMERGENCY      M                       [884, 811, 900, 406, 34, 47]   \n",
       "...           ...    ...                                                ...   \n",
       "144869   ELECTIVE      F  [461, 306, 3974, 2509, 9, 5008, 1836, 887, 886...   \n",
       "129743   ELECTIVE      M  [884, 811, 885, 1786, 219, 103, 47, 250, 62, 2...   \n",
       "107633   ELECTIVE      M  [314, 258, 196, 60, 685, 103, 9, 637, 681, 893...   \n",
       "106216   ELECTIVE      M                                         [314, 811]   \n",
       "141589  EMERGENCY      F  [1, 273, 314, 178, 2348, 284, 26, 517, 886, 55...   \n",
       "\n",
       "         duration                       diagnosis label  \n",
       "admid                                                    \n",
       "161473  1910520.0                     LUNG CA/SDA   NaN  \n",
       "147743  2028000.0                 LUNG CANCER/SDA   NaN  \n",
       "190712   557400.0                     LUNG CA/SDA   NaN  \n",
       "199523  1407000.0                     LUNG CA/SDA   NaN  \n",
       "165018   496260.0          LUNG CANCER;HEMOPTYSIS   NaN  \n",
       "...           ...                             ...   ...  \n",
       "144869   806820.0                 LUNG CANCER/SDA   NaN  \n",
       "129743   556800.0            LEFT LUNG CANCER/SDA   NaN  \n",
       "107633   621000.0     LEFT UPPER LOBE LUNG CA/SDA   NaN  \n",
       "106216    24780.0                     LUNG CA/SDA   NaN  \n",
       "141589   866460.0  LUNG CANCER;AIRWAY OBSTRUCTION   NaN  \n",
       "\n",
       "[249 rows x 6 columns]"
      ]
     },
     "execution_count": 30,
     "metadata": {},
     "output_type": "execute_result"
    }
   ],
   "source": [
    "\"\"\" \n",
    "Choose lung cancer to be the response\n",
    "Filter out rows which does not contain target diagnosis in diagnosis\n",
    "\"\"\"\n",
    "admid_diagnosis_target_df = admid_diagnosis_df.loc[admid_diagnosis_df['diagnosis'].str.contains(target_diagnosis)]\n",
    "admid_diagnosis_target_df "
   ]
  },
  {
   "cell_type": "code",
   "execution_count": 31,
   "metadata": {},
   "outputs": [],
   "source": [
    "\"\"\" \n",
    "Add target diagnosis label to admid_diagnosis_df\n",
    "\"\"\"\n",
    "for index, row in admid_diagnosis_df.iterrows():\n",
    "    if target_diagnosis in row['diagnosis']:\n",
    "        admid_diagnosis_df.at[index, 'label'] = 1\n",
    "    else:\n",
    "        admid_diagnosis_df.at[index, 'label'] = 0"
   ]
  },
  {
   "cell_type": "code",
   "execution_count": 32,
   "metadata": {},
   "outputs": [
    {
     "data": {
      "text/html": [
       "<div>\n",
       "<style scoped>\n",
       "    .dataframe tbody tr th:only-of-type {\n",
       "        vertical-align: middle;\n",
       "    }\n",
       "\n",
       "    .dataframe tbody tr th {\n",
       "        vertical-align: top;\n",
       "    }\n",
       "\n",
       "    .dataframe thead th {\n",
       "        text-align: right;\n",
       "    }\n",
       "</style>\n",
       "<table border=\"1\" class=\"dataframe\">\n",
       "  <thead>\n",
       "    <tr style=\"text-align: right;\">\n",
       "      <th></th>\n",
       "      <th>adm_type</th>\n",
       "      <th>gender</th>\n",
       "      <th>ICD codes</th>\n",
       "      <th>duration</th>\n",
       "      <th>diagnosis</th>\n",
       "      <th>label</th>\n",
       "    </tr>\n",
       "    <tr>\n",
       "      <th>admid</th>\n",
       "      <th></th>\n",
       "      <th></th>\n",
       "      <th></th>\n",
       "      <th></th>\n",
       "      <th></th>\n",
       "      <th></th>\n",
       "    </tr>\n",
       "  </thead>\n",
       "  <tbody>\n",
       "    <tr>\n",
       "      <th>172335</th>\n",
       "      <td>EMERGENCY</td>\n",
       "      <td>F</td>\n",
       "      <td>[0, 1, 2, 3, 4, 5, 6, 7, 8, 9, 10, 11, 12, 13]</td>\n",
       "      <td>530460.0</td>\n",
       "      <td>LEG PAIN</td>\n",
       "      <td>0</td>\n",
       "    </tr>\n",
       "    <tr>\n",
       "      <th>173633</th>\n",
       "      <td>EMERGENCY</td>\n",
       "      <td>F</td>\n",
       "      <td>[0, 14, 15, 6, 16, 10, 11, 9, 17, 18, 19, 20, ...</td>\n",
       "      <td>574560.0</td>\n",
       "      <td>ABDOMINAL PAIN</td>\n",
       "      <td>0</td>\n",
       "    </tr>\n",
       "    <tr>\n",
       "      <th>174105</th>\n",
       "      <td>EMERGENCY</td>\n",
       "      <td>M</td>\n",
       "      <td>[24, 25, 26, 27, 28]</td>\n",
       "      <td>425460.0</td>\n",
       "      <td>GASTROINTESTINAL BLEED</td>\n",
       "      <td>0</td>\n",
       "    </tr>\n",
       "    <tr>\n",
       "      <th>109976</th>\n",
       "      <td>EMERGENCY</td>\n",
       "      <td>M</td>\n",
       "      <td>[29, 30, 31]</td>\n",
       "      <td>1284240.0</td>\n",
       "      <td>HYDROCEPHALUS</td>\n",
       "      <td>0</td>\n",
       "    </tr>\n",
       "    <tr>\n",
       "      <th>178393</th>\n",
       "      <td>ELECTIVE</td>\n",
       "      <td>M</td>\n",
       "      <td>[27, 32, 33, 26, 34, 35]</td>\n",
       "      <td>485280.0</td>\n",
       "      <td>USA/SDA</td>\n",
       "      <td>0</td>\n",
       "    </tr>\n",
       "    <tr>\n",
       "      <th>...</th>\n",
       "      <td>...</td>\n",
       "      <td>...</td>\n",
       "      <td>...</td>\n",
       "      <td>...</td>\n",
       "      <td>...</td>\n",
       "      <td>...</td>\n",
       "    </tr>\n",
       "    <tr>\n",
       "      <th>172304</th>\n",
       "      <td>ELECTIVE</td>\n",
       "      <td>F</td>\n",
       "      <td>[256, 385, 760, 47, 34, 31]</td>\n",
       "      <td>449700.0</td>\n",
       "      <td>LEFT BRAIN TUMOR/SDA</td>\n",
       "      <td>0</td>\n",
       "    </tr>\n",
       "    <tr>\n",
       "      <th>152542</th>\n",
       "      <td>EMERGENCY</td>\n",
       "      <td>M</td>\n",
       "      <td>[1736, 1338, 149, 354, 103, 47, 45, 31, 35, 55...</td>\n",
       "      <td>415740.0</td>\n",
       "      <td>PERIRECTAL ABSCESS</td>\n",
       "      <td>0</td>\n",
       "    </tr>\n",
       "    <tr>\n",
       "      <th>161999</th>\n",
       "      <td>EMERGENCY</td>\n",
       "      <td>M</td>\n",
       "      <td>[569, 385, 244, 153, 630, 657, 1088, 44, 2150,...</td>\n",
       "      <td>692940.0</td>\n",
       "      <td>STROKE;TELEMETRY</td>\n",
       "      <td>0</td>\n",
       "    </tr>\n",
       "    <tr>\n",
       "      <th>189314</th>\n",
       "      <td>EMERGENCY</td>\n",
       "      <td>F</td>\n",
       "      <td>[1346, 760, 350, 2148, 1132, 1385, 299, 160]</td>\n",
       "      <td>150060.0</td>\n",
       "      <td>STROKE;TELEMETRY;TRANSIENT ISCHEMIC ATTACK</td>\n",
       "      <td>0</td>\n",
       "    </tr>\n",
       "    <tr>\n",
       "      <th>168949</th>\n",
       "      <td>EMERGENCY</td>\n",
       "      <td>M</td>\n",
       "      <td>[4608, 2985, 4018, 159, 2152, 1229, 103, 172, 9]</td>\n",
       "      <td>688980.0</td>\n",
       "      <td>ABDOMINAL PAIN</td>\n",
       "      <td>0</td>\n",
       "    </tr>\n",
       "  </tbody>\n",
       "</table>\n",
       "<p>58976 rows × 6 columns</p>\n",
       "</div>"
      ],
      "text/plain": [
       "         adm_type gender                                          ICD codes  \\\n",
       "admid                                                                         \n",
       "172335  EMERGENCY      F     [0, 1, 2, 3, 4, 5, 6, 7, 8, 9, 10, 11, 12, 13]   \n",
       "173633  EMERGENCY      F  [0, 14, 15, 6, 16, 10, 11, 9, 17, 18, 19, 20, ...   \n",
       "174105  EMERGENCY      M                               [24, 25, 26, 27, 28]   \n",
       "109976  EMERGENCY      M                                       [29, 30, 31]   \n",
       "178393   ELECTIVE      M                           [27, 32, 33, 26, 34, 35]   \n",
       "...           ...    ...                                                ...   \n",
       "172304   ELECTIVE      F                        [256, 385, 760, 47, 34, 31]   \n",
       "152542  EMERGENCY      M  [1736, 1338, 149, 354, 103, 47, 45, 31, 35, 55...   \n",
       "161999  EMERGENCY      M  [569, 385, 244, 153, 630, 657, 1088, 44, 2150,...   \n",
       "189314  EMERGENCY      F       [1346, 760, 350, 2148, 1132, 1385, 299, 160]   \n",
       "168949  EMERGENCY      M   [4608, 2985, 4018, 159, 2152, 1229, 103, 172, 9]   \n",
       "\n",
       "         duration                                   diagnosis label  \n",
       "admid                                                                \n",
       "172335   530460.0                                    LEG PAIN     0  \n",
       "173633   574560.0                              ABDOMINAL PAIN     0  \n",
       "174105   425460.0                      GASTROINTESTINAL BLEED     0  \n",
       "109976  1284240.0                               HYDROCEPHALUS     0  \n",
       "178393   485280.0                                     USA/SDA     0  \n",
       "...           ...                                         ...   ...  \n",
       "172304   449700.0                        LEFT BRAIN TUMOR/SDA     0  \n",
       "152542   415740.0                          PERIRECTAL ABSCESS     0  \n",
       "161999   692940.0                            STROKE;TELEMETRY     0  \n",
       "189314   150060.0  STROKE;TELEMETRY;TRANSIENT ISCHEMIC ATTACK     0  \n",
       "168949   688980.0                              ABDOMINAL PAIN     0  \n",
       "\n",
       "[58976 rows x 6 columns]"
      ]
     },
     "execution_count": 32,
     "metadata": {},
     "output_type": "execute_result"
    }
   ],
   "source": [
    "admid_diagnosis_df"
   ]
  },
  {
   "cell_type": "code",
   "execution_count": 33,
   "metadata": {},
   "outputs": [],
   "source": [
    "\"\"\" \n",
    "Plot code distribution for target diagnosis\n",
    "\"\"\"\n",
    "codes = []\n",
    "for index, row in admid_diagnosis_target_df.iterrows():\n",
    "    codes.extend(row['ICD codes'])\n",
    "        "
   ]
  },
  {
   "cell_type": "code",
   "execution_count": 34,
   "metadata": {},
   "outputs": [
    {
     "name": "stdout",
     "output_type": "stream",
     "text": [
      "2593\n"
     ]
    }
   ],
   "source": [
    "print(len(codes))"
   ]
  },
  {
   "cell_type": "code",
   "execution_count": 35,
   "metadata": {},
   "outputs": [
    {
     "data": {
      "text/plain": [
       "(array([36.,  0.,  0., ...,  0.,  0.,  1.]),\n",
       " array([   1,    2,    3, ..., 6910, 6911, 6912]),\n",
       " <BarContainer object of 6911 artists>)"
      ]
     },
     "execution_count": 35,
     "metadata": {},
     "output_type": "execute_result"
    },
    {
     "data": {
      "image/png": "[encoded data removed]",
      "text/plain": [
       "<Figure size 432x288 with 1 Axes>"
      ]
     },
     "metadata": {
      "needs_background": "light"
     },
     "output_type": "display_data"
    }
   ],
   "source": [
    "\n",
    "bin_width = 1\n",
    "plt.hist(codes, bins=range(min(codes), max(codes) + bin_width, bin_width))\n"
   ]
  },
  {
   "cell_type": "code",
   "execution_count": 36,
   "metadata": {},
   "outputs": [
    {
     "name": "stdout",
     "output_type": "stream",
     "text": [
      "[47, 103, 314, 461, 93, 273, 884, 156, 62, 811, 1, 34, 31, 219, 885, 250, 45, 99, 9, 306, 137, 26, 27, 313, 43, 5, 78, 37, 685, 1530, 282, 582, 146, 406, 66, 44, 74, 114, 304, 887, 430, 105, 35, 160, 138, 174, 71, 60, 900, 402]\n"
     ]
    }
   ],
   "source": [
    "code_dict = dict(collections.Counter(codes))\n",
    "\n",
    "# sort\n",
    "code_dict = dict(sorted(code_dict.items(), key=lambda item: item[1], reverse=True))\n",
    "num_top_codes = 50\n",
    "target_codes = list(code_dict.keys())[:num_top_codes]\n",
    "print(target_codes)"
   ]
  },
  {
   "cell_type": "code",
   "execution_count": 37,
   "metadata": {},
   "outputs": [],
   "source": [
    "\"\"\" \n",
    "Filter out code in admid_diagnosis_df  \n",
    "\"\"\"\n",
    "for index, row in admid_diagnosis_df.iterrows():\n",
    "    admid_diagnosis_df.at[index, 'ICD codes'] = [code for code in row['ICD codes'] if code in target_codes]\n"
   ]
  },
  {
   "cell_type": "code",
   "execution_count": 38,
   "metadata": {},
   "outputs": [],
   "source": [
    "\"\"\" \n",
    "Filter out row with no ICD codes\n",
    "\"\"\"\n",
    "admid_diagnosis_df = admid_diagnosis_df[admid_diagnosis_df['ICD codes'].map(len) > 0]\n"
   ]
  },
  {
   "cell_type": "code",
   "execution_count": 39,
   "metadata": {},
   "outputs": [],
   "source": [
    "\"\"\"\n",
    "Save dataframe\n",
    "\"\"\"\n",
    "admid_diagnosis_target_df.to_csv(\"../../outputs/mimic/ADMID_DIAGNOSIS_TARGET.csv\", header=True, index=True)\n",
    "admid_diagnosis_df.to_csv(\"../../outputs/mimic/ADMID_DIAGNOSIS.csv\", header=True, index=True)\n"
   ]
  },
  {
   "cell_type": "code",
   "execution_count": 40,
   "metadata": {},
   "outputs": [
    {
     "name": "stdout",
     "output_type": "stream",
     "text": [
      "male number: 149\n",
      "female number: 100\n"
     ]
    }
   ],
   "source": [
    "\"\"\" \n",
    "Calculates the number of males vs females in admid_diagnosis_target_df \n",
    "\"\"\"\n",
    "genders = list(admid_diagnosis_target_df['gender'])\n",
    "print(\"male number:\", genders.count('M'))\n",
    "print(\"female number:\", genders.count('F'))"
   ]
  },
  {
   "cell_type": "code",
   "execution_count": 41,
   "metadata": {},
   "outputs": [
    {
     "name": "stdout",
     "output_type": "stream",
     "text": [
      "female_ind is: 100\n",
      "female_no_ind is: 20735\n",
      "male_ind is: 149\n",
      "male_no_ind is: 26250\n",
      "total number of patients is: 47234\n"
     ]
    }
   ],
   "source": [
    "\"\"\" \n",
    "Calculate the number of males vs females, label vs non label in admid_diagnosis_df \n",
    "\"\"\"\n",
    "female_ind = 0\n",
    "female_no_ind = 0\n",
    "male_ind = 0\n",
    "male_no_ind = 0\n",
    "\n",
    "for index, row in admid_diagnosis_df.iterrows():\n",
    "    if row['label'] and row['gender'] == 'F':\n",
    "        female_ind += 1\n",
    "    elif row['label'] and row['gender'] == 'M':\n",
    "        male_ind += 1\n",
    "    elif not row['label'] and row['gender'] == 'F':\n",
    "        female_no_ind += 1\n",
    "    elif not row['label'] and row['gender'] == 'M':\n",
    "        male_no_ind += 1\n",
    "\n",
    "print(\"female_ind is:\", female_ind)\n",
    "print(\"female_no_ind is:\", female_no_ind)\n",
    "print(\"male_ind is:\", male_ind)\n",
    "print(\"male_no_ind is:\", male_no_ind)\n",
    "\n",
    "print(\"total number of patients is:\", admid_diagnosis_df.shape[0])"
   ]
  },
  {
   "cell_type": "code",
   "execution_count": 42,
   "metadata": {},
   "outputs": [],
   "source": [
    "def vis_emb_dim3_unordered(target_reps, target_labels, source_reps, source_labels, \\\n",
    "    trans_source_reps):\n",
    "    \"\"\" \n",
    "    Visualize the embedding space of dimension 3 for target represenatations, source representations, \\\n",
    "        transported source representations with different labels annotated in different colors\n",
    "    \"\"\"\n",
    "    fig = plt.figure()\n",
    "\n",
    "    ax = fig.add_subplot(1,3,1, projection='3d')\n",
    "    ax.scatter(target_reps[:, 0], target_reps[:, 1], target_reps[:, 2], c=target_labels)\n",
    "    ax.set_title(\"Target\")\n",
    "\n",
    "    ax = fig.add_subplot(1,3,2, projection='3d')\n",
    "    ax.scatter(source_reps[:, 0], source_reps[:, 1], source_reps[:, 1], c=source_labels)\n",
    "    ax.set_title(\"Source\")\n",
    "\n",
    "    ax = fig.add_subplot(1,3,3, projection='3d')\n",
    "    ax.scatter(trans_source_reps[:, 0], trans_source_reps[:, 1], trans_source_reps[:, 1], c=source_labels)\n",
    "    ax.set_title(\"Trans source\")\n",
    "    \n",
    "    plt.show()\n",
    "    \n"
   ]
  },
  {
   "cell_type": "code",
   "execution_count": 43,
   "metadata": {},
   "outputs": [
    {
     "ename": "NameError",
     "evalue": "name 'target_reps' is not defined",
     "output_type": "error",
     "traceback": [
      "\u001b[0;31m---------------------------------------------------------------------------\u001b[0m",
      "\u001b[0;31mNameError\u001b[0m                                 Traceback (most recent call last)",
      "\u001b[1;32m/home/wanxinli/deep_patient/mimic_exp/admission/prepare_admid_diagnosis.ipynb Cell 21\u001b[0m in \u001b[0;36m<cell line: 1>\u001b[0;34m()\u001b[0m\n\u001b[0;32m----> <a href='vscode-notebook-cell://ssh-remote%2Bkddgpu1.math.ubc.ca/home/wanxinli/deep_patient/mimic_exp/admission/prepare_admid_diagnosis.ipynb#X26sdnNjb2RlLXJlbW90ZQ%3D%3D?line=0'>1</a>\u001b[0m vis_emb_dim3_unordered(target_reps, target_labels, source_reps, source_labels, trans_source_reps)\n",
      "\u001b[0;31mNameError\u001b[0m: name 'target_reps' is not defined"
     ]
    }
   ],
   "source": [
    "vis_emb_dim3_unordered(target_reps, target_labels, source_reps, source_labels, trans_source_reps)"
   ]
  },
  {
   "cell_type": "code",
   "execution_count": null,
   "metadata": {},
   "outputs": [],
   "source": []
  }
 ],
 "metadata": {
  "kernelspec": {
   "display_name": "Python 3",
   "language": "python",
   "name": "python3"
  },
  "language_info": {
   "codemirror_mode": {
    "name": "ipython",
    "version": 3
   },
   "file_extension": ".py",
   "mimetype": "text/x-python",
   "name": "python",
   "nbconvert_exporter": "python",
   "pygments_lexer": "ipython3",
   "version": "3.8.10"
  },
  "orig_nbformat": 4,
  "vscode": {
   "interpreter": {
    "hash": "916dbcbb3f70747c44a77c7bcd40155683ae19c65e1c03b4aa3499c5328201f1"
   }
  }
 },
 "nbformat": 4,
 "nbformat_minor": 2
}
