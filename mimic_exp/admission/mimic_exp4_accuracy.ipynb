{
 "cells": [
  {
   "cell_type": "code",
   "execution_count": 34,
   "metadata": {},
   "outputs": [],
   "source": [
    "import getpass\n",
    "user_id = getpass.getuser()\n",
    "\n",
    "import sys\n",
    "sys.path.append(f\"/home/{user_id}/OTTEHR/\")\n",
    "\n",
    "import matplotlib.pyplot as plt\n",
    "from mimic_common import *\n",
    "import os\n",
    "import pandas as pd\n",
    "from statistics import median, stdev\n",
    "import seaborn as sns"
   ]
  },
  {
   "cell_type": "code",
   "execution_count": 35,
   "metadata": {},
   "outputs": [],
   "source": [
    "\n",
    "def ratios_for_metrics(group_name, group_2, group_1, eval_metric, trans_metrics):\n",
    "    \"\"\" \n",
    "    Compute ratios for the evaluation metrics (eval_metric)\n",
    "\n",
    "    :param str eval_metric: evaluation metric, mae or rmse\n",
    "    :param str trans_metric: transporting metric, OT, TCA or MMD\n",
    "    \"\"\"\n",
    "\n",
    "    metric_improve_ratios = []\n",
    "    score_dir = mimic_output_dir\n",
    "    for trans_metric in trans_metrics:\n",
    "        score_path = os.path.join(score_dir, f\"exp4_{group_name}_{group_2}2{group_1}_{trans_metric}.csv\")\n",
    "        score_df = pd.read_csv(score_path, header=0, index_col=0)\n",
    "\n",
    "        # compute improvements in terms of ratio\n",
    "        metric_improve_ratios.append(compute_metric_ratio(score_df, eval_metric))\n",
    "\n",
    "    return metric_improve_ratios\n"
   ]
  },
  {
   "cell_type": "code",
   "execution_count": 36,
   "metadata": {},
   "outputs": [],
   "source": [
    "\n",
    "def stats_for_metrics(group_name, group_2, group_1, eval_metric, trans_metrics, filter_na = True):\n",
    "    \"\"\" \n",
    "    Compute ratios for the evaluation metrics (eval_metric)\n",
    "\n",
    "    :param str eval_metric: evaluation metric, mae or rmse\n",
    "    :param str trans_metric: transporting metric, OT or DeepJDOT\n",
    "    \"\"\"\n",
    "    metric_stats = []\n",
    "    score_dir = mimic_output_dir\n",
    "    for trans_metric in trans_metrics:\n",
    "        score_path = os.path.join(score_dir, f\"exp4_{group_name}_{group_2}2{group_1}_{trans_metric}.csv\")\n",
    "\n",
    "        score_df = pd.read_csv(score_path, header=0, index_col=None)\n",
    "\n",
    "        # get target metric\n",
    "        metric_stats.append(get_target_stats(score_df, eval_metric, trans_metric, filter_na))\n",
    "\n",
    "    return metric_stats"
   ]
  },
  {
   "cell_type": "code",
   "execution_count": 37,
   "metadata": {},
   "outputs": [],
   "source": [
    "def print_median_std(ratios, trans_metrics, eval_metric):\n",
    "    \"\"\" \n",
    "    Get median and standard deviation for the ratios of trans_metrics ('OT', 'TCA', 'MMD')\n",
    "    \"\"\"\n",
    "    for i, trans_metric in enumerate(trans_metrics):\n",
    "        print(f'{eval_metric} for {trans_metric}, Median: {median(ratios[i]):.1%}, Stdev: {stdev(ratios[i]):.1%}')"
   ]
  },
  {
   "cell_type": "code",
   "execution_count": 38,
   "metadata": {},
   "outputs": [],
   "source": [
    "score_dir = f\"/home/{user_id}/OTTEHR/outputs/mimic/\"\n",
    "\n",
    "eval_metric = 'MAE'\n",
    "# eval_metric = 'RMSE'\n",
    "\n",
    "# group_name = 'insurance'\n",
    "# groups = ['Self_Pay', 'Private', 'Government', 'Medicare', 'Medicaid']\n",
    "\n",
    "group_name = 'marital_status'\n",
    "groups = ['SEPARATED', 'DIVORCED', 'MARRIED','WIDOWED', 'SINGLE']\n",
    "\n",
    "trans_metrics = ['OT', 'TCA', 'CA', 'GFK']\n",
    "\n"
   ]
  },
  {
   "cell_type": "code",
   "execution_count": 39,
   "metadata": {},
   "outputs": [
    {
     "name": "stdout",
     "output_type": "stream",
     "text": [
      "medians for each method is: [ 0.22708073  0.0039536  -0.0501554  -0.27783217]\n",
      "          OT       TCA        CA       GFK\n",
      "0   0.287834  0.002156  0.095711 -0.277851\n",
      "1   0.258072  0.003481  0.172648 -0.278278\n",
      "2   0.250473  0.001576 -0.076088 -0.333400\n",
      "3   0.146544  0.001928  0.047842 -0.185244\n",
      "4   0.272418  0.013726 -0.054357 -0.419046\n",
      "..       ...       ...       ...       ...\n",
      "95  0.168091  0.001222 -0.098890 -0.233859\n",
      "96  0.351882 -0.003564  0.051106 -0.442207\n",
      "97  0.005795 -0.002322 -0.091174 -0.132222\n",
      "98  0.254657  0.007351 -0.022678 -0.267328\n",
      "99  0.245954  0.009037  0.012539 -0.243131\n",
      "\n",
      "[100 rows x 4 columns]\n"
     ]
    },
    {
     "data": {
      "image/png": "[encoded data removed]",
      "text/plain": [
       "<Figure size 500x400 with 1 Axes>"
      ]
     },
     "metadata": {},
     "output_type": "display_data"
    }
   ],
   "source": [
    "# Overall, for all groups\n",
    "improve_ratio_combined = []\n",
    "\n",
    "for group_1 in groups:\n",
    "    for group_2 in groups:\n",
    "        if group_1 == group_2:\n",
    "            continue        \n",
    "        improve_ratios = ratios_for_metrics(group_name, group_1, group_2, eval_metric, trans_metrics)\n",
    "        improve_ratio_combined.extend(improve_ratios)\n",
    "\n",
    "trans_metric_dict = {}\n",
    "for i in range(len(trans_metrics)):\n",
    "    trans_metric_dict[trans_metrics[i]] = improve_ratio_combined[i]\n",
    "# print(np.median(trans_metric_dict['GWOT']))\n",
    "data = pd.DataFrame(trans_metric_dict)\n",
    "print(\"medians for each method is:\", np.median(data, axis=0))\n",
    "print(data)\n",
    "\n",
    "\n",
    "# Plot the dataframe\n",
    "plt.figure(figsize=[5, 4])\n",
    "plt.violinplot(data, showmedians=True)\n",
    "plt.xticks(range(1, len(trans_metrics)+1), labels=trans_metrics)\n",
    "plt.ylabel(f\"{eval_metric} ratio improvement\", fontsize=15)\n",
    "plt.yticks(fontsize=12)\n",
    "plt.xticks(fontsize=12)\n",
    "ax = plt.gca()\n",
    "ax.set_xticklabels( labels=trans_metrics, fontsize=14)\n",
    "plt.ylim(-1.4, 0.8)\n",
    "fig_path = os.path.join(mimic_output_dir, f\"exp4_{group_name}_{eval_metric}_ratio.pdf\")\n",
    "plt.tight_layout()\n",
    "plt.savefig(fig_path, bbox_inches='tight')\n",
    "plt.show()"
   ]
  },
  {
   "cell_type": "code",
   "execution_count": 40,
   "metadata": {},
   "outputs": [],
   "source": [
    "def print_latex(source, target, ratios, percent):\n",
    "    \"\"\" \n",
    "    Print latex for ratios\n",
    "    \"\"\"\n",
    "\n",
    "    print_str = f\"{source.title()} & {target.title()}\"\n",
    "    for ratio in ratios:\n",
    "        if percent:\n",
    "            print_str += f' & {median(ratio)*100:.1f}({stdev(ratio)*100:.1f})'\n",
    "        else: \n",
    "            base = 10**5\n",
    "            print_str += f' & {median(ratio)/base:.1f}({stdev(ratio)/base:.1f})'\n",
    "    print_str += ' \\\\\\ \\hline'\n",
    "    print(print_str)\n",
    "    "
   ]
  },
  {
   "cell_type": "code",
   "execution_count": 41,
   "metadata": {},
   "outputs": [
    {
     "name": "stdout",
     "output_type": "stream",
     "text": [
      "Divorced & Separated & 32.2(10.1) & 0.9(1.1) & -5.3(11.4) & -46.7(16.4) \\\\ \\hline\n",
      "Married & Separated & 32.3(10.0) & 0.4(1.1) & -4.8(11.5) & -45.7(17.7) \\\\ \\hline\n",
      "Married & Divorced & 25.0(12.1) & 0.5(0.9) & -6.9(12.3) & -29.7(24.9) \\\\ \\hline\n",
      "Widowed & Separated & 37.4(10.4) & 0.6(0.9) & -0.6(10.8) & -61.5(20.2) \\\\ \\hline\n",
      "Widowed & Divorced & 30.5(11.9) & 0.5(0.9) & -2.8(11.6) & -40.0(27.6) \\\\ \\hline\n",
      "Widowed & Married & 32.5(8.5) & 0.6(1.1) & -3.4(10.8) & -42.7(17.7) \\\\ \\hline\n",
      "Single & Separated & 28.9(9.8) & 0.6(0.9) & -4.7(11.2) & -40.9(17.1) \\\\ \\hline\n",
      "Single & Divorced & 20.3(11.9) & 0.6(1.3) & -2.3(10.4) & -26.8(23.7) \\\\ \\hline\n",
      "Single & Married & 22.9(9.5) & 0.4(1.0) & -4.1(10.4) & -30.1(15.1) \\\\ \\hline\n",
      "Single & Widowed & 19.1(9.1) & 0.4(1.0) & -3.7(9.2) & -23.0(17.6) \\\\ \\hline\n"
     ]
    }
   ],
   "source": [
    "for i, group_1 in enumerate(groups):\n",
    "    for j, group_2 in enumerate(groups):\n",
    "        if i <= j:\n",
    "            continue\n",
    "        # print(f\"group 1: {group_1}, group_2: {group_2}\")\n",
    "        # mae_improve_ratios = ratios_for_metrics(group_name, group_1, group_2, 'mae', trans_metrics)\n",
    "        # print_median_std(mae_improve_ratios, trans_metrics, 'MAE')\n",
    "        improve_ratios = ratios_for_metrics(group_name, group_1, group_2, eval_metric, trans_metrics)\n",
    "        # print(rmse_improve_ratios)\n",
    "        # print_median_std(rmse_improve_ratios, trans_metrics, eval_metric)\n",
    "        print_latex(group_1, group_2, improve_ratios, percent=True)"
   ]
  },
  {
   "cell_type": "code",
   "execution_count": 46,
   "metadata": {},
   "outputs": [
    {
     "name": "stdout",
     "output_type": "stream",
     "text": [
      "trans_metric is: OT\n",
      "trans_metric is: deepJDOT\n",
      "trans_metric is: OT\n",
      "trans_metric is: deepJDOT\n",
      "trans_metric is: OT\n",
      "trans_metric is: deepJDOT\n",
      "trans_metric is: OT\n",
      "trans_metric is: deepJDOT\n",
      "trans_metric is: OT\n",
      "trans_metric is: deepJDOT\n",
      "trans_metric is: OT\n",
      "trans_metric is: deepJDOT\n",
      "trans_metric is: OT\n",
      "trans_metric is: deepJDOT\n",
      "trans_metric is: OT\n",
      "trans_metric is: deepJDOT\n",
      "trans_metric is: OT\n",
      "trans_metric is: deepJDOT\n",
      "trans_metric is: OT\n",
      "trans_metric is: deepJDOT\n",
      "trans_metric is: OT\n",
      "trans_metric is: deepJDOT\n",
      "trans_metric is: OT\n",
      "trans_metric is: deepJDOT\n",
      "trans_metric is: OT\n",
      "trans_metric is: deepJDOT\n",
      "trans_metric is: OT\n",
      "trans_metric is: deepJDOT\n",
      "trans_metric is: OT\n",
      "trans_metric is: deepJDOT\n",
      "trans_metric is: OT\n",
      "trans_metric is: deepJDOT\n",
      "trans_metric is: OT\n",
      "trans_metric is: deepJDOT\n",
      "trans_metric is: OT\n",
      "trans_metric is: deepJDOT\n",
      "trans_metric is: OT\n",
      "trans_metric is: deepJDOT\n",
      "trans_metric is: OT\n",
      "trans_metric is: deepJDOT\n",
      "median is: 6.172771332269722, 6.289915\n"
     ]
    },
    {
     "data": {
      "image/png": "[encoded data removed]",
      "text/plain": [
       "<Figure size 500x400 with 1 Axes>"
      ]
     },
     "metadata": {},
     "output_type": "display_data"
    }
   ],
   "source": [
    "# Present the overall performance for deepJDOT and OTTEHR\n",
    "trans_metrics = ['OT', 'deepJDOT']\n",
    "stats_combined = []\n",
    "\n",
    "for group_1 in groups:\n",
    "    for group_2 in groups:\n",
    "        if group_1 == group_2:\n",
    "            continue        \n",
    "        stats = stats_for_metrics(group_name, group_1, group_2, eval_metric, trans_metrics, filter_na=True)\n",
    "        stats_combined.extend(stats)\n",
    "\n",
    "# fig_path = os.path.join(mimic_output_dir, f\"exp4_{group_name}_deepJDOT.pdf\")\n",
    "\n",
    "# plt.tight_layout()\n",
    "# plt.savefig(fig_path, bbox_inches='tight')\n",
    "# plt.show()\n",
    "\n",
    "base = 10**5\n",
    "print(f\"median is: {median(stats_combined[0])/base}, {median(stats_combined[1])/base}\")\n",
    "\n",
    "# Apply log to stats_combined\n",
    "for i in range(len(stats_combined)):\n",
    "    stats_combined[i] = [np.log(x) for x in stats_combined[i]]\n",
    "\n",
    "\n",
    "# Plot the dataframe\n",
    "plt.figure(figsize=[5, 4])\n",
    "plt.violinplot([stats_combined[0], stats_combined[1]], showmedians=True)\n",
    "# plt.violinplot([stats_combined[0], stats_combined[1], stats_combined[2], stats_combined[3], stats_combined[4]], showmedians=True)\n",
    "plt.xticks(range(1, len(trans_metrics)+1), labels=trans_metrics)\n",
    "plt.ylabel(f\"log({eval_metric})\", fontsize=15)\n",
    "plt.yticks(fontsize=12)\n",
    "plt.xticks(fontsize=12)\n",
    "ax = plt.gca()\n",
    "ax.set_xticklabels(labels=trans_metrics, fontsize=14)\n",
    "# plt.ylim(12, 22)\n",
    "fig_path = os.path.join(mimic_output_dir, f\"exp4_{group_name}_{eval_metric}_deepJDOT.pdf\")\n",
    "plt.tight_layout()\n",
    "plt.savefig(fig_path, bbox_inches='tight')\n",
    "plt.show()"
   ]
  },
  {
   "cell_type": "code",
   "execution_count": 47,
   "metadata": {},
   "outputs": [
    {
     "name": "stdout",
     "output_type": "stream",
     "text": [
      "trans_metric is: OT\n",
      "trans_metric is: deepJDOT\n",
      "Divorced & Separated & 6.0(0.8) & 6.0(0.8) \\\\ \\hline\n",
      "trans_metric is: OT\n",
      "trans_metric is: deepJDOT\n",
      "Married & Separated & 6.0(0.8) & 6.0(14.2) \\\\ \\hline\n",
      "trans_metric is: OT\n",
      "trans_metric is: deepJDOT\n",
      "Married & Divorced & 5.8(0.7) & 5.6(6.4) \\\\ \\hline\n",
      "trans_metric is: OT\n",
      "trans_metric is: deepJDOT\n",
      "Widowed & Separated & 5.5(0.7) & 5.4(0.6) \\\\ \\hline\n",
      "trans_metric is: OT\n",
      "trans_metric is: deepJDOT\n",
      "Widowed & Divorced & 5.3(0.8) & 5.1(4718.4) \\\\ \\hline\n",
      "trans_metric is: OT\n",
      "trans_metric is: deepJDOT\n",
      "Widowed & Married & 5.1(0.5) & 5.0(4431.7) \\\\ \\hline\n",
      "trans_metric is: OT\n",
      "trans_metric is: deepJDOT\n",
      "Single & Separated & 6.3(0.8) & 6.5(0.8) \\\\ \\hline\n",
      "trans_metric is: OT\n",
      "trans_metric is: deepJDOT\n",
      "Single & Divorced & 6.3(0.9) & 6.2(4183.7) \\\\ \\hline\n",
      "trans_metric is: OT\n",
      "trans_metric is: deepJDOT\n",
      "Single & Married & 6.2(1.1) & 6.4(2025.7) \\\\ \\hline\n",
      "trans_metric is: OT\n",
      "trans_metric is: deepJDOT\n",
      "Single & Widowed & 5.9(0.7) & 6.0(2888.2) \\\\ \\hline\n"
     ]
    }
   ],
   "source": [
    "# Calculate the pairwise performance for deepJDOT and OTTEHR\n",
    "\n",
    "\n",
    "for i, group_1 in enumerate(groups):\n",
    "    for j, group_2 in enumerate(groups):\n",
    "        if i <= j:\n",
    "            continue\n",
    "        stats = stats_for_metrics(group_name, group_1, group_2, eval_metric, trans_metrics, filter_na=True)\n",
    "\n",
    "        print_latex(group_1, group_2, stats, percent=False)"
   ]
  },
  {
   "cell_type": "code",
   "execution_count": 44,
   "metadata": {},
   "outputs": [
    {
     "data": {
      "image/png": "[encoded data removed]",
      "text/plain": [
       "<Figure size 640x480 with 1 Axes>"
      ]
     },
     "metadata": {},
     "output_type": "display_data"
    }
   ],
   "source": [
    "# Plot the distribution of the observed duration in hospital\n",
    "admid_diagnosis_df = pd.read_csv(os.path.join(mimic_output_dir, \"ADMID_DIAGNOSIS.csv\"), index_col=0, header=0, converters={'ICD codes': literal_eval})\n",
    "admid_diagnosis_df['duration']\n",
    "durations = list(admid_diagnosis_df['duration'])\n",
    "binwidth = 0.05*10**7\n",
    "plt.hist(durations, bins=np.arange(min(durations), max(durations) + binwidth, binwidth))\n",
    "plt.xlim(0, 10**7)\n",
    "plt.xlabel('Observed duration')\n",
    "plt.savefig(os.path.join(mimic_output_dir, \"observed_duration_distn.pdf\"))\n"
   ]
  },
  {
   "cell_type": "code",
   "execution_count": 45,
   "metadata": {},
   "outputs": [],
   "source": [
    "# Analyze the precision and recall of the task \n",
    "# From the previous plot, we use 1e6 as the threshold "
   ]
  }
 ],
 "metadata": {
  "kernelspec": {
   "display_name": "base",
   "language": "python",
   "name": "python3"
  },
  "language_info": {
   "codemirror_mode": {
    "name": "ipython",
    "version": 3
   },
   "file_extension": ".py",
   "mimetype": "text/x-python",
   "name": "python",
   "nbconvert_exporter": "python",
   "pygments_lexer": "ipython3",
   "version": "3.9.12"
  },
  "orig_nbformat": 4
 },
 "nbformat": 4,
 "nbformat_minor": 2
}
