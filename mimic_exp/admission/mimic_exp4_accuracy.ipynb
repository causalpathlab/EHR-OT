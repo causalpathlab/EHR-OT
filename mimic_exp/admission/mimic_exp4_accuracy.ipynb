{
 "cells": [
  {
   "cell_type": "code",
   "execution_count": 22,
   "metadata": {},
   "outputs": [],
   "source": [
    "import sys\n",
    "sys.path.append(\"/home/wanxinli/EHR-OT/\")\n",
    "\n",
    "import matplotlib.pyplot as plt\n",
    "from mimic_common import *\n",
    "import os\n",
    "import pandas as pd\n",
    "from statistics import median, stdev"
   ]
  },
  {
   "cell_type": "code",
   "execution_count": 23,
   "metadata": {},
   "outputs": [],
   "source": [
    "\n",
    "def ratios_for_metrics(group_name, group_2, group_1, eval_metric, trans_metrics):\n",
    "    \"\"\" \n",
    "    Compute ratios for the evaluation metrics (eval_metric)\n",
    "\n",
    "    :param str eval_metric: evaluation metric, mae or rmse\n",
    "    :param str trans_metric: transporting metric, OT, TCA or MMD\n",
    "    \"\"\"\n",
    "\n",
    "    metric_improve_ratios = []\n",
    "    score_dir = mimic_output_dir\n",
    "    for trans_metric in trans_metrics:\n",
    "        score_path = os.path.join(score_dir, f\"exp4_{group_name}_{group_2}2{group_1}_{trans_metric}.csv\")\n",
    "        score_df = pd.read_csv(score_path, header=0, index_col=0)\n",
    "\n",
    "        # compute improvements in terms of ratio\n",
    "        metric_improve_ratios.append(compute_metric_ratio(score_df, eval_metric))\n",
    "\n",
    "    return metric_improve_ratios\n"
   ]
  },
  {
   "cell_type": "code",
   "execution_count": 24,
   "metadata": {},
   "outputs": [],
   "source": [
    "def print_median_std(ratios, trans_metrics, eval_metric):\n",
    "    \"\"\" \n",
    "    Get median and standard deviation for the ratios of trans_metrics ('OT', 'TCA', 'MMD')\n",
    "    \"\"\"\n",
    "    for i, trans_metric in enumerate(trans_metrics):\n",
    "        print(f'{eval_metric} for {trans_metric}, Median: {median(ratios[i]):.1%}, Stdev: {stdev(ratios[i]):.1%}')"
   ]
  },
  {
   "cell_type": "code",
   "execution_count": 25,
   "metadata": {},
   "outputs": [],
   "source": [
    "score_dir = \"/home/wanxinli/EHR-OT/outputs/mimic/\"\n",
    "\n",
    "# eval_metric = 'MAE'\n",
    "eval_metric = 'RMSE'\n",
    "\n",
    "# group_name = 'insurance'\n",
    "# groups = ['Self_Pay', 'Private', 'Government', 'Medicare', 'Medicaid']\n",
    "\n",
    "group_name = 'marital_status'\n",
    "groups = ['SEPARATED', 'DIVORCED', 'MARRIED','WIDOWED', 'SINGLE']\n",
    "\n",
    "trans_metrics = ['OT', 'TCA', 'CA', 'GFK']\n"
   ]
  },
  {
   "cell_type": "code",
   "execution_count": 26,
   "metadata": {},
   "outputs": [
    {
     "name": "stdout",
     "output_type": "stream",
     "text": [
      "medians for each method is: [ 0.13955907  0.00368323 -0.04135036 -0.17278779]\n"
     ]
    },
    {
     "data": {
      "image/png": "[encoded data removed]",
      "text/plain": [
       "<Figure size 500x400 with 1 Axes>"
      ]
     },
     "metadata": {},
     "output_type": "display_data"
    }
   ],
   "source": [
    "# Overall, for all groups\n",
    "improve_ratio_combined = []\n",
    "\n",
    "for group_1 in groups:\n",
    "    for group_2 in groups:\n",
    "        if group_1 == group_2:\n",
    "            continue        \n",
    "        improve_ratios = ratios_for_metrics(group_name, group_1, group_2, eval_metric, trans_metrics)\n",
    "        improve_ratio_combined.extend(improve_ratios)\n",
    "\n",
    "trans_metric_dict = {}\n",
    "for i in range(len(trans_metrics)):\n",
    "    trans_metric_dict[trans_metrics[i]] = improve_ratio_combined[i]\n",
    "# print(np.median(trans_metric_dict['GWOT']))\n",
    "data = pd.DataFrame(trans_metric_dict)\n",
    "print(\"medians for each method is:\", np.median(data, axis=0))\n",
    "\n",
    "\n",
    "# Plot the dataframe\n",
    "plt.figure(figsize=[5, 4])\n",
    "plt.violinplot(data, showmedians=True)\n",
    "plt.xticks(range(1, len(trans_metrics)+1), labels=trans_metrics)\n",
    "plt.ylabel(f\"{eval_metric} ratio improvement\", fontsize=15)\n",
    "plt.yticks(fontsize=12)\n",
    "plt.xticks(fontsize=12)\n",
    "ax = plt.gca()\n",
    "ax.set_xticklabels( labels=trans_metrics, fontsize=14)\n",
    "plt.ylim(-1.4, 0.8)\n",
    "fig_path = os.path.join(mimic_output_dir, f\"exp4_{group_name}_{eval_metric}.pdf\")\n",
    "plt.tight_layout()\n",
    "plt.savefig(fig_path, bbox_inches='tight')\n",
    "plt.show()"
   ]
  },
  {
   "cell_type": "code",
   "execution_count": 27,
   "metadata": {},
   "outputs": [],
   "source": [
    "def print_latex(source, target, ratios):\n",
    "    \"\"\" \n",
    "    Print latex for ratios\n",
    "    \"\"\"\n",
    "    print_str = f\"{source} & {target}\"\n",
    "    for ratio in ratios:\n",
    "        print_str += f' & {median(ratio)*100:.1f}({stdev(ratio)*100:.1f})'\n",
    "    print(print_str)\n",
    "    "
   ]
  },
  {
   "cell_type": "code",
   "execution_count": 28,
   "metadata": {},
   "outputs": [
    {
     "name": "stdout",
     "output_type": "stream",
     "text": [
      "DIVORCED & SEPARATED & 26.6(13.7) & 0.6(1.0) & -3.3(12.4) & -36.1(22.0)\n"
     ]
    },
    {
     "name": "stdout",
     "output_type": "stream",
     "text": [
      "MARRIED & SEPARATED & 26.4(13.2) & 0.5(1.1) & -4.7(10.8) & -36.3(22.4)\n",
      "MARRIED & DIVORCED & 19.5(13.8) & 0.4(1.0) & -4.0(11.2) & -23.2(27.6)\n",
      "WIDOWED & SEPARATED & 34.7(14.6) & 0.5(0.9) & -2.1(10.3) & -54.2(27.3)\n",
      "WIDOWED & DIVORCED & 28.5(13.4) & 0.4(1.0) & -1.3(11.2) & -37.9(31.1)\n",
      "WIDOWED & MARRIED & 29.2(10.6) & 0.5(1.0) & -1.4(9.9) & -36.2(18.9)\n",
      "SINGLE & SEPARATED & 22.8(12.3) & 0.3(0.9) & -3.2(11.5) & -31.1(20.1)\n",
      "SINGLE & DIVORCED & 17.0(12.4) & 0.5(1.0) & -2.2(10.1) & -20.3(23.0)\n",
      "SINGLE & MARRIED & 17.7(11.7) & 0.5(0.9) & -0.9(10.5) & -22.4(17.9)\n",
      "SINGLE & WIDOWED & 14.3(11.3) & 0.3(1.0) & -3.2(8.4) & -16.3(20.6)\n"
     ]
    }
   ],
   "source": [
    "for i, group_1 in enumerate(groups):\n",
    "    for j, group_2 in enumerate(groups):\n",
    "        if i <= j:\n",
    "            continue\n",
    "        # print(f\"group 1: {group_1}, group_2: {group_2}\")\n",
    "        # mae_improve_ratios = ratios_for_metrics(group_name, group_1, group_2, 'mae', trans_metrics)\n",
    "        # print_median_std(mae_improve_ratios, trans_metrics, 'MAE')\n",
    "        rmse_improve_ratios = ratios_for_metrics(group_name, group_1, group_2, eval_metric, trans_metrics)\n",
    "        # print(rmse_improve_ratios)\n",
    "        # print_median_std(rmse_improve_ratios, trans_metrics, eval_metric)\n",
    "        print_latex(group_1, group_2, rmse_improve_ratios)"
   ]
  },
  {
   "cell_type": "code",
   "execution_count": null,
   "metadata": {},
   "outputs": [],
   "source": []
  }
 ],
 "metadata": {
  "kernelspec": {
   "display_name": "base",
   "language": "python",
   "name": "python3"
  },
  "language_info": {
   "codemirror_mode": {
    "name": "ipython",
    "version": 3
   },
   "file_extension": ".py",
   "mimetype": "text/x-python",
   "name": "python",
   "nbconvert_exporter": "python",
   "pygments_lexer": "ipython3",
   "version": "3.9.12"
  },
  "orig_nbformat": 4
 },
 "nbformat": 4,
 "nbformat_minor": 2
}
