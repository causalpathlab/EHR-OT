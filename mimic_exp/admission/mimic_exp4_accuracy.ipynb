{
 "cells": [
  {
   "cell_type": "code",
   "execution_count": 19,
   "metadata": {},
   "outputs": [],
   "source": [
    "import sys\n",
    "sys.path.append(\"/home/wanxinli/OTTEHR/\")\n",
    "\n",
    "import matplotlib.pyplot as plt\n",
    "from mimic_common import *\n",
    "import os\n",
    "import pandas as pd\n",
    "from statistics import median, stdev"
   ]
  },
  {
   "cell_type": "code",
   "execution_count": 20,
   "metadata": {},
   "outputs": [],
   "source": [
    "\n",
    "def ratios_for_metrics(group_name, group_2, group_1, eval_metric, trans_metrics):\n",
    "    \"\"\" \n",
    "    Compute ratios for the evaluation metrics (eval_metric)\n",
    "\n",
    "    :param str eval_metric: evaluation metric, mae or rmse\n",
    "    :param str trans_metric: transporting metric, OT, TCA or MMD\n",
    "    \"\"\"\n",
    "\n",
    "    metric_improve_ratios = []\n",
    "    score_dir = mimic_output_dir\n",
    "    for trans_metric in trans_metrics:\n",
    "        score_path = os.path.join(score_dir, f\"exp4_{group_name}_{group_2}2{group_1}_{trans_metric}.csv\")\n",
    "        score_df = pd.read_csv(score_path, header=0, index_col=0)\n",
    "\n",
    "        # compute improvements in terms of ratio\n",
    "        metric_improve_ratios.append(compute_metric_ratio(score_df, eval_metric))\n",
    "\n",
    "    return metric_improve_ratios\n"
   ]
  },
  {
   "cell_type": "code",
   "execution_count": 21,
   "metadata": {},
   "outputs": [],
   "source": [
    "\n",
    "def stats_for_metrics(group_name, group_2, group_1, eval_metric, trans_metrics, filter_na = True):\n",
    "    \"\"\" \n",
    "    Compute ratios for the evaluation metrics (eval_metric)\n",
    "\n",
    "    :param str eval_metric: evaluation metric, mae or rmse\n",
    "    :param str trans_metric: transporting metric, OT or DeepJDOT\n",
    "    \"\"\"\n",
    "\n",
    "    metric_stats = []\n",
    "    score_dir = mimic_output_dir\n",
    "    for trans_metric in trans_metrics:\n",
    "        score_path = os.path.join(score_dir, f\"exp4_{group_name}_{group_2}2{group_1}_{trans_metric}.csv\")\n",
    "\n",
    "        score_df = pd.read_csv(score_path, header=0, index_col=None)\n",
    "\n",
    "        # get target metric\n",
    "        metric_stats.append(get_target_stats(score_df, eval_metric, trans_metric, filter_na))\n",
    "\n",
    "    return metric_stats"
   ]
  },
  {
   "cell_type": "code",
   "execution_count": 22,
   "metadata": {},
   "outputs": [],
   "source": [
    "def print_median_std(ratios, trans_metrics, eval_metric):\n",
    "    \"\"\" \n",
    "    Get median and standard deviation for the ratios of trans_metrics ('OT', 'TCA', 'MMD')\n",
    "    \"\"\"\n",
    "    for i, trans_metric in enumerate(trans_metrics):\n",
    "        print(f'{eval_metric} for {trans_metric}, Median: {median(ratios[i]):.1%}, Stdev: {stdev(ratios[i]):.1%}')"
   ]
  },
  {
   "cell_type": "code",
   "execution_count": 23,
   "metadata": {},
   "outputs": [],
   "source": [
    "score_dir = \"/home/wanxinli/OTTEHR/outputs/mimic/\"\n",
    "\n",
    "eval_metric = 'MAE'\n",
    "# eval_metric = 'RMSE'\n",
    "\n",
    "# group_name = 'insurance'\n",
    "# groups = ['Self_Pay', 'Private', 'Government', 'Medicare', 'Medicaid']\n",
    "\n",
    "group_name = 'marital_status'\n",
    "groups = ['SEPARATED', 'DIVORCED', 'MARRIED','WIDOWED', 'SINGLE']\n",
    "\n",
    "trans_metrics = ['OT', 'TCA', 'CA', 'GFK']\n",
    "\n"
   ]
  },
  {
   "cell_type": "code",
   "execution_count": 24,
   "metadata": {},
   "outputs": [
    {
     "name": "stdout",
     "output_type": "stream",
     "text": [
      "medians for each method is: [ 0.22708073  0.0039536  -0.0501554  -0.27783217]\n"
     ]
    },
    {
     "data": {
      "image/png": "[encoded data removed]",
      "text/plain": [
       "<Figure size 500x400 with 1 Axes>"
      ]
     },
     "metadata": {},
     "output_type": "display_data"
    }
   ],
   "source": [
    "# Overall, for all groups\n",
    "improve_ratio_combined = []\n",
    "\n",
    "for group_1 in groups:\n",
    "    for group_2 in groups:\n",
    "        if group_1 == group_2:\n",
    "            continue        \n",
    "        improve_ratios = ratios_for_metrics(group_name, group_1, group_2, eval_metric, trans_metrics)\n",
    "        improve_ratio_combined.extend(improve_ratios)\n",
    "\n",
    "trans_metric_dict = {}\n",
    "for i in range(len(trans_metrics)):\n",
    "    trans_metric_dict[trans_metrics[i]] = improve_ratio_combined[i]\n",
    "# print(np.median(trans_metric_dict['GWOT']))\n",
    "data = pd.DataFrame(trans_metric_dict)\n",
    "print(\"medians for each method is:\", np.median(data, axis=0))\n",
    "\n",
    "\n",
    "# Plot the dataframe\n",
    "plt.figure(figsize=[5, 4])\n",
    "plt.violinplot(data, showmedians=True)\n",
    "plt.xticks(range(1, len(trans_metrics)+1), labels=trans_metrics)\n",
    "plt.ylabel(f\"{eval_metric} ratio improvement\", fontsize=15)\n",
    "plt.yticks(fontsize=12)\n",
    "plt.xticks(fontsize=12)\n",
    "ax = plt.gca()\n",
    "ax.set_xticklabels( labels=trans_metrics, fontsize=14)\n",
    "plt.ylim(-1.4, 0.8)\n",
    "fig_path = os.path.join(mimic_output_dir, f\"exp4_{group_name}_{eval_metric}_ratio.pdf\")\n",
    "plt.tight_layout()\n",
    "plt.savefig(fig_path, bbox_inches='tight')\n",
    "plt.show()"
   ]
  },
  {
   "cell_type": "code",
   "execution_count": 25,
   "metadata": {},
   "outputs": [],
   "source": [
    "def print_latex(source, target, ratios):\n",
    "    \"\"\" \n",
    "    Print latex for ratios\n",
    "    \"\"\"\n",
    "\n",
    "    print_str = f\"{source} & {target}\"\n",
    "    for ratio in ratios:\n",
    "        print_str += f' & {median(ratio)*100:.1f}({stdev(ratio)*100:.1f})'\n",
    "    print(print_str)\n",
    "    "
   ]
  },
  {
   "cell_type": "code",
   "execution_count": 26,
   "metadata": {},
   "outputs": [
    {
     "name": "stdout",
     "output_type": "stream",
     "text": [
      "DIVORCED & SEPARATED & 32.2(10.1) & 0.9(1.1) & -5.3(11.4) & -46.7(16.4)\n",
      "MARRIED & SEPARATED & 32.3(10.0) & 0.4(1.1) & -4.8(11.5) & -45.7(17.7)\n",
      "MARRIED & DIVORCED & 25.0(12.1) & 0.5(0.9) & -6.9(12.3) & -29.7(24.9)\n",
      "WIDOWED & SEPARATED & 37.4(10.4) & 0.6(0.9) & -0.6(10.8) & -61.5(20.2)\n",
      "WIDOWED & DIVORCED & 30.5(11.9) & 0.5(0.9) & -2.8(11.6) & -40.0(27.6)\n",
      "WIDOWED & MARRIED & 32.5(8.5) & 0.6(1.1) & -3.4(10.8) & -42.7(17.7)\n",
      "SINGLE & SEPARATED & 28.9(9.8) & 0.6(0.9) & -4.7(11.2) & -40.9(17.1)\n",
      "SINGLE & DIVORCED & 20.3(11.9) & 0.6(1.3) & -2.3(10.4) & -26.8(23.7)\n",
      "SINGLE & MARRIED & 22.9(9.5) & 0.4(1.0) & -4.1(10.4) & -30.1(15.1)\n",
      "SINGLE & WIDOWED & 19.1(9.1) & 0.4(1.0) & -3.7(9.2) & -23.0(17.6)\n"
     ]
    }
   ],
   "source": [
    "for i, group_1 in enumerate(groups):\n",
    "    for j, group_2 in enumerate(groups):\n",
    "        if i <= j:\n",
    "            continue\n",
    "        # print(f\"group 1: {group_1}, group_2: {group_2}\")\n",
    "        # mae_improve_ratios = ratios_for_metrics(group_name, group_1, group_2, 'mae', trans_metrics)\n",
    "        # print_median_std(mae_improve_ratios, trans_metrics, 'MAE')\n",
    "        improve_ratios = ratios_for_metrics(group_name, group_1, group_2, eval_metric, trans_metrics)\n",
    "        # print(rmse_improve_ratios)\n",
    "        # print_median_std(rmse_improve_ratios, trans_metrics, eval_metric)\n",
    "        print_latex(group_1, group_2, improve_ratios)"
   ]
  },
  {
   "cell_type": "code",
   "execution_count": 27,
   "metadata": {},
   "outputs": [
    {
     "data": {
      "image/png": "[encoded data removed]",
      "text/plain": [
       "<Figure size 500x400 with 1 Axes>"
      ]
     },
     "metadata": {},
     "output_type": "display_data"
    }
   ],
   "source": [
    "# Present the overall performance for deepJDOT and OTTEHR\n",
    "trans_metrics = ['OT', 'deepJDOT']\n",
    "stats_combined = []\n",
    "\n",
    "for group_1 in groups:\n",
    "    for group_2 in groups:\n",
    "        if group_1 == group_2:\n",
    "            continue        \n",
    "        stats = stats_for_metrics(group_name, group_1, group_2, eval_metric, trans_metrics, filter_na=True)\n",
    "        stats_combined.extend(stats)\n",
    "\n",
    "# fig_path = os.path.join(mimic_output_dir, f\"exp4_{group_name}_deepJDOT.pdf\")\n",
    "\n",
    "# plt.tight_layout()\n",
    "# plt.savefig(fig_path, bbox_inches='tight')\n",
    "# plt.show()\n",
    "\n",
    "\n",
    "# Plot the dataframe\n",
    "plt.figure(figsize=[5, 4])\n",
    "plt.violinplot([stats_combined[0], stats_combined[1]], showmedians=True)\n",
    "plt.xticks(range(1, len(trans_metrics)+1), labels=trans_metrics)\n",
    "plt.ylabel(f\"{eval_metric}\", fontsize=15)\n",
    "plt.yticks(fontsize=12)\n",
    "plt.xticks(fontsize=12)\n",
    "ax = plt.gca()\n",
    "ax.set_xticklabels( labels=trans_metrics, fontsize=14)\n",
    "# plt.ylim(-1.4, 0.8)\n",
    "fig_path = os.path.join(mimic_output_dir, f\"exp4_{group_name}_{eval_metric}_deepJDOT.pdf\")\n",
    "plt.tight_layout()\n",
    "plt.savefig(fig_path, bbox_inches='tight')\n",
    "plt.show()"
   ]
  },
  {
   "cell_type": "code",
   "execution_count": 28,
   "metadata": {},
   "outputs": [
    {
     "name": "stdout",
     "output_type": "stream",
     "text": [
      "DIVORCED & SEPARATED & 60096832.7(7996602.7) & 60014506.0(8108405.8)\n",
      "MARRIED & SEPARATED & 60083152.5(7687256.0) & 59852140.0(142259573.7)\n",
      "MARRIED & DIVORCED & 58333917.9(7388113.8) & 56002780.0(63789061.4)\n",
      "WIDOWED & SEPARATED & 55359548.8(7418807.2) & 54334040.0(6472669.7)\n",
      "WIDOWED & DIVORCED & 52514600.9(7863664.8) & 51474688.0(47183607262.3)\n",
      "WIDOWED & MARRIED & 50843741.0(5203909.9) & 49730970.0(44317014404.4)\n",
      "SINGLE & SEPARATED & 63232485.9(8231140.3) & 65346720.0(7994022.5)\n",
      "SINGLE & DIVORCED & 63023479.2(8541216.2) & 61744910.0(41836785050.2)\n",
      "SINGLE & MARRIED & 62402203.1(10606358.6) & 63809570.0(20256879352.1)\n",
      "SINGLE & WIDOWED & 59121469.1(7314179.9) & 60278188.0(28882097101.7)\n"
     ]
    }
   ],
   "source": [
    "# Calculate the pairwise performance for deepJDOT and OTTEHR\n",
    "\n",
    "\n",
    "for i, group_1 in enumerate(groups):\n",
    "    for j, group_2 in enumerate(groups):\n",
    "        if i <= j:\n",
    "            continue\n",
    "        stats = stats_for_metrics(group_name, group_1, group_2, eval_metric, trans_metrics, filter_na=True)\n",
    "\n",
    "        print_latex(group_1, group_2, stats)"
   ]
  },
  {
   "cell_type": "code",
   "execution_count": null,
   "metadata": {},
   "outputs": [],
   "source": []
  }
 ],
 "metadata": {
  "kernelspec": {
   "display_name": "base",
   "language": "python",
   "name": "python3"
  },
  "language_info": {
   "codemirror_mode": {
    "name": "ipython",
    "version": 3
   },
   "file_extension": ".py",
   "mimetype": "text/x-python",
   "name": "python",
   "nbconvert_exporter": "python",
   "pygments_lexer": "ipython3",
   "version": "3.9.12"
  },
  "orig_nbformat": 4
 },
 "nbformat": 4,
 "nbformat_minor": 2
}
