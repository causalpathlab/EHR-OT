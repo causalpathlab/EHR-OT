{
 "cells": [
  {
   "cell_type": "code",
   "execution_count": 1,
   "metadata": {},
   "outputs": [],
   "source": [
    "import sys\n",
    "sys.path.append(\"/home/wanxinli/OTTEHR/\")\n",
    "\n",
    "import matplotlib.pyplot as plt\n",
    "from mimic_common import *\n",
    "import os\n",
    "import pandas as pd\n",
    "from statistics import median, stdev"
   ]
  },
  {
   "cell_type": "code",
   "execution_count": 2,
   "metadata": {},
   "outputs": [],
   "source": [
    "\n",
    "def ratios_for_metrics(group_name, group_2, group_1, eval_metric, trans_metrics):\n",
    "    \"\"\" \n",
    "    Compute ratios for the evaluation metrics (eval_metric)\n",
    "\n",
    "    :param str eval_metric: evaluation metric, mae or rmse\n",
    "    :param str trans_metric: transporting metric, OT, TCA or MMD\n",
    "    \"\"\"\n",
    "\n",
    "    metric_improve_ratios = []\n",
    "    score_dir = mimic_output_dir\n",
    "    for trans_metric in trans_metrics:\n",
    "        score_path = os.path.join(score_dir, f\"exp4_{group_name}_{group_2}2{group_1}_{trans_metric}.csv\")\n",
    "        score_df = pd.read_csv(score_path, header=0, index_col=0)\n",
    "\n",
    "        # compute improvements in terms of ratio\n",
    "        metric_improve_ratios.append(compute_metric_ratio(score_df, eval_metric))\n",
    "\n",
    "    return metric_improve_ratios\n"
   ]
  },
  {
   "cell_type": "code",
   "execution_count": 3,
   "metadata": {},
   "outputs": [],
   "source": [
    "def print_median_std(ratios, trans_metrics, eval_metric):\n",
    "    \"\"\" \n",
    "    Get median and standard deviation for the ratios of trans_metrics ('OT', 'TCA', 'MMD')\n",
    "    \"\"\"\n",
    "    for i, trans_metric in enumerate(trans_metrics):\n",
    "        print(f'{eval_metric} for {trans_metric}, Median: {median(ratios[i]):.1%}, Stdev: {stdev(ratios[i]):.1%}')"
   ]
  },
  {
   "cell_type": "code",
   "execution_count": 8,
   "metadata": {},
   "outputs": [],
   "source": [
    "score_dir = \"/home/wanxinli/OTTEHR/outputs/mimic/\"\n",
    "\n",
    "eval_metric = 'MAE'\n",
    "# eval_metric = 'RMSE'\n",
    "\n",
    "group_name = 'insurance'\n",
    "groups = ['Self_Pay', 'Private', 'Government', 'Medicare', 'Medicaid']\n",
    "\n",
    "# group_name = 'marital_status'\n",
    "# groups = ['SEPARATED', 'DIVORCED', 'MARRIED','WIDOWED', 'SINGLE']\n",
    "\n",
    "trans_metrics = ['OT', 'TCA', 'CA', 'GFK']\n",
    "\n"
   ]
  },
  {
   "cell_type": "code",
   "execution_count": 9,
   "metadata": {},
   "outputs": [
    {
     "name": "stdout",
     "output_type": "stream",
     "text": [
      "medians for each method is: [ 0.34539171 -0.00239518 -0.00602988 -0.53425542]\n"
     ]
    },
    {
     "data": {
      "image/png": "[encoded data removed]",
      "text/plain": [
       "<Figure size 500x400 with 1 Axes>"
      ]
     },
     "metadata": {},
     "output_type": "display_data"
    }
   ],
   "source": [
    "# Overall, for all groups\n",
    "improve_ratio_combined = []\n",
    "\n",
    "for group_1 in groups:\n",
    "    for group_2 in groups:\n",
    "        if group_1 == group_2:\n",
    "            continue        \n",
    "        improve_ratios = ratios_for_metrics(group_name, group_1, group_2, eval_metric, trans_metrics)\n",
    "        improve_ratio_combined.extend(improve_ratios)\n",
    "\n",
    "trans_metric_dict = {}\n",
    "for i in range(len(trans_metrics)):\n",
    "    trans_metric_dict[trans_metrics[i]] = improve_ratio_combined[i]\n",
    "# print(np.median(trans_metric_dict['GWOT']))\n",
    "data = pd.DataFrame(trans_metric_dict)\n",
    "print(\"medians for each method is:\", np.median(data, axis=0))\n",
    "\n",
    "\n",
    "# Plot the dataframe\n",
    "plt.figure(figsize=[5, 4])\n",
    "plt.violinplot(data, showmedians=True)\n",
    "plt.xticks(range(1, len(trans_metrics)+1), labels=trans_metrics)\n",
    "plt.ylabel(f\"{eval_metric} ratio improvement\", fontsize=15)\n",
    "plt.yticks(fontsize=12)\n",
    "plt.xticks(fontsize=12)\n",
    "ax = plt.gca()\n",
    "ax.set_xticklabels( labels=trans_metrics, fontsize=14)\n",
    "plt.ylim(-1.4, 0.8)\n",
    "fig_path = os.path.join(mimic_output_dir, f\"exp4_{group_name}_{eval_metric}.pdf\")\n",
    "plt.tight_layout()\n",
    "plt.savefig(fig_path, bbox_inches='tight')\n",
    "plt.show()"
   ]
  },
  {
   "cell_type": "code",
   "execution_count": 6,
   "metadata": {},
   "outputs": [],
   "source": [
    "def print_latex(source, target, ratios):\n",
    "    \"\"\" \n",
    "    Print latex for ratios\n",
    "    \"\"\"\n",
    "    print_str = f\"{source} & {target}\"\n",
    "    for ratio in ratios:\n",
    "        print_str += f' & {median(ratio)*100:.1f}({stdev(ratio)*100:.1f})'\n",
    "    print(print_str)\n",
    "    "
   ]
  },
  {
   "cell_type": "code",
   "execution_count": 7,
   "metadata": {},
   "outputs": [
    {
     "name": "stdout",
     "output_type": "stream",
     "text": [
      "Private & Self_Pay & 8.9(7.1) & -0.3(0.7) & -1.9(9.2) & -9.7(8.2)\n",
      "Government & Self_Pay & 10.1(8.8) & 0.0(0.7) & -0.3(8.6) & -11.3(12.1)\n",
      "Government & Private & 24.8(12.8) & 0.9(2.1) & -0.8(12.6) & -35.9(24.2)\n",
      "Medicare & Self_Pay & 23.6(12.3) & 0.2(0.6) & -3.0(8.8) & -29.4(20.7)\n",
      "Medicare & Private & 45.4(11.6) & -0.1(1.5) & -2.0(11.0) & -75.0(31.0)\n",
      "Medicare & Government & 43.1(12.0) & -0.2(1.3) & 1.9(10.7) & -69.8(29.6)\n",
      "Medicaid & Self_Pay & 9.0(7.4) & -0.2(0.7) & -1.6(7.0) & -9.4(8.4)\n",
      "Medicaid & Private & 21.4(12.6) & 0.4(1.8) & 1.2(10.0) & -27.6(21.1)\n",
      "Medicaid & Government & 21.1(12.1) & 0.3(1.1) & -2.4(11.0) & -25.5(18.2)\n",
      "Medicaid & Medicare & 7.1(9.3) & 0.1(0.4) & -2.2(9.6) & -8.0(12.5)\n"
     ]
    }
   ],
   "source": [
    "for i, group_1 in enumerate(groups):\n",
    "    for j, group_2 in enumerate(groups):\n",
    "        if i <= j:\n",
    "            continue\n",
    "        # print(f\"group 1: {group_1}, group_2: {group_2}\")\n",
    "        # mae_improve_ratios = ratios_for_metrics(group_name, group_1, group_2, 'mae', trans_metrics)\n",
    "        # print_median_std(mae_improve_ratios, trans_metrics, 'MAE')\n",
    "        rmse_improve_ratios = ratios_for_metrics(group_name, group_1, group_2, eval_metric, trans_metrics)\n",
    "        # print(rmse_improve_ratios)\n",
    "        # print_median_std(rmse_improve_ratios, trans_metrics, eval_metric)\n",
    "        print_latex(group_1, group_2, rmse_improve_ratios)"
   ]
  },
  {
   "cell_type": "code",
   "execution_count": null,
   "metadata": {},
   "outputs": [],
   "source": []
  }
 ],
 "metadata": {
  "kernelspec": {
   "display_name": "base",
   "language": "python",
   "name": "python3"
  },
  "language_info": {
   "codemirror_mode": {
    "name": "ipython",
    "version": 3
   },
   "file_extension": ".py",
   "mimetype": "text/x-python",
   "name": "python",
   "nbconvert_exporter": "python",
   "pygments_lexer": "ipython3",
   "version": "3.9.12"
  },
  "orig_nbformat": 4
 },
 "nbformat": 4,
 "nbformat_minor": 2
}
