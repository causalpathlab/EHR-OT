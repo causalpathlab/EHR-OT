{
 "cells": [
  {
   "cell_type": "code",
   "execution_count": 20,
   "metadata": {},
   "outputs": [],
   "source": [
    "import sys\n",
    "sys.path.append(\"/home/wanxinli/EHR-OT/\")\n",
    "\n",
    "from ast import literal_eval\n",
    "import collections\n",
    "from mimic_common import *\n",
    "import os\n",
    "import pandas as pd\n",
    "from statistics import mean, stdev"
   ]
  },
  {
   "cell_type": "code",
   "execution_count": 21,
   "metadata": {},
   "outputs": [],
   "source": [
    "def read_df(group_name, group_1, group_2, suffix = None):\n",
    "    \"\"\" \n",
    "    Absoluate bound for filtering out ratios\n",
    "    \"\"\"\n",
    "    target_equity_path = os.path.join(mimic_output_dir, f\"exp4_{group_name}_{group_2}2{group_1}_equity.csv\")\n",
    "    if suffix is not None:\n",
    "        target_equity_path = os.path.join(mimic_output_dir, f\"exp4_{group_name}_{group_2}2{group_1}_{suffix}_equity.csv\")\n",
    "    target_equity_df = pd.read_csv(target_equity_path, header=0, index_col=None, converters={'target_codes': literal_eval})\n",
    "\n",
    "    return target_equity_df"
   ]
  },
  {
   "cell_type": "code",
   "execution_count": 22,
   "metadata": {},
   "outputs": [],
   "source": [
    "def find_outlier_codes(df):\n",
    "    \"\"\" \n",
    "    :param Dataframe df: the read in dataframe\n",
    "\n",
    "    Find outlier admissions' codes\n",
    "    \"\"\"\n",
    "    diff_percents = list(df['target_diff_percent'])\n",
    "    thres = mean(diff_percents)+3*stdev(diff_percents)\n",
    "\n",
    "    outlier_codes = []\n",
    "    for _, row in df.iterrows():\n",
    "        if abs(row['target_diff_percent']) > thres:\n",
    "            outlier_codes.append(row['target_codes'])\n",
    "    return outlier_codes\n",
    "    "
   ]
  },
  {
   "cell_type": "code",
   "execution_count": 23,
   "metadata": {},
   "outputs": [],
   "source": [
    "def determine_code_freq(outlier_codes, occur_percent = 0.2):\n",
    "    \"\"\" \n",
    "    Determine code frequencies for codes in outlier_codes\n",
    "    :param float occur_percent: the percentage out of all outlier admissions to be classified as outlier code\n",
    "    \"\"\"\n",
    "    num_adm = len(outlier_codes)\n",
    "    outlier_codes = [code for code_vec in outlier_codes for code in code_vec]\n",
    "    code_freq = collections.Counter(outlier_codes)\n",
    "    code_freq = dict(sorted(code_freq.items(), key=lambda item: item[1], reverse=True))\n",
    "\n",
    "    code_freq = {key: value for key, value in code_freq.items() if value > occur_percent*num_adm}\n",
    "    return code_freq\n"
   ]
  },
  {
   "cell_type": "code",
   "execution_count": 24,
   "metadata": {},
   "outputs": [],
   "source": [
    "def entire_proc(group_name, group_1, group_2):\n",
    "    df = read_df(group_name, group_1, group_2)\n",
    "    outlier_codes = find_outlier_codes(df)\n",
    "    code_freq = determine_code_freq(outlier_codes)\n",
    "    for code, freq in code_freq.items():\n",
    "        chapter_num, chapter_name = decide_ICD_chapter(code)\n",
    "        title = get_code_title(code)\n",
    "        print(f\"ICD code: {code}, chapter number: {chapter_num}, chapter name: {chapter_name}, code title: {title}\")\n"
   ]
  },
  {
   "cell_type": "code",
   "execution_count": 25,
   "metadata": {},
   "outputs": [
    {
     "name": "stdout",
     "output_type": "stream",
     "text": [
      "ICD code: 807.09, chapter number: 17, chapter name: Injury and Poisoning, code title: Fx mult ribs NOS-closed\n",
      "ICD code: 861.21, chapter number: 17, chapter name: Injury and Poisoning, code title: Lung contusion-closed\n",
      "ICD code: 427.5, chapter number: 7, chapter name: Diseases of the Circulatory System, code title: Cardiac arrest\n",
      "ICD code: E849.5, chapter number: 18, chapter name: Supplementary Classification of External Causes of Injury and Poisoning, code title: Accid on street/highway\n",
      "ICD code: 864.14, chapter number: 17, chapter name: Injury and Poisoning, code title: Liver lacerat, major-opn\n",
      "ICD code: 276.2, chapter number: 3, chapter name: Endocrine, Nutritional and Metabolic Diseases, and Immunity Disorders, code title: Acidosis\n",
      "ICD code: 458.9, chapter number: 7, chapter name: Diseases of the Circulatory System, code title: Hypotension NOS\n",
      "ICD code: 300.00, chapter number: 5, chapter name: Mental Disorders, code title: Anxiety state NOS\n",
      "ICD code: 305.00, chapter number: 5, chapter name: Mental Disorders, code title: Alcohol abuse-unspec\n",
      "ICD code: 864.05, chapter number: 17, chapter name: Injury and Poisoning, code title: Liver lacerat unspcf cls\n",
      "ICD code: 802.4, chapter number: 17, chapter name: Injury and Poisoning, code title: Fx malar/maxillary-close\n",
      "ICD code: 868.03, chapter number: 17, chapter name: Injury and Poisoning, code title: Peritoneum injury-closed\n"
     ]
    }
   ],
   "source": [
    "suffix = None\n",
    "group_name = 'insurance'\n",
    "group_1 = 'Private'   \n",
    "group_2 =  'Self_Pay'\n",
    "entire_proc(group_name, group_1, group_2)"
   ]
  },
  {
   "cell_type": "code",
   "execution_count": 26,
   "metadata": {},
   "outputs": [
    {
     "name": "stdout",
     "output_type": "stream",
     "text": [
      "ICD code: 807.09, chapter number: 17, chapter name: Injury and Poisoning, code title: Fx mult ribs NOS-closed\n",
      "ICD code: 427.5, chapter number: 7, chapter name: Diseases of the Circulatory System, code title: Cardiac arrest\n",
      "ICD code: 868.03, chapter number: 17, chapter name: Injury and Poisoning, code title: Peritoneum injury-closed\n",
      "ICD code: 276.2, chapter number: 3, chapter name: Endocrine, Nutritional and Metabolic Diseases, and Immunity Disorders, code title: Acidosis\n",
      "ICD code: 861.21, chapter number: 17, chapter name: Injury and Poisoning, code title: Lung contusion-closed\n",
      "ICD code: E849.5, chapter number: 18, chapter name: Supplementary Classification of External Causes of Injury and Poisoning, code title: Accid on street/highway\n",
      "ICD code: 458.9, chapter number: 7, chapter name: Diseases of the Circulatory System, code title: Hypotension NOS\n",
      "ICD code: 348.1, chapter number: 6, chapter name: Diseases of the Nervous System and Sense Organs, code title: Anoxic brain damage\n"
     ]
    }
   ],
   "source": [
    "suffix = None\n",
    "group_name = 'insurance'\n",
    "group_1 = 'Government'   \n",
    "group_2 =  'Self_Pay'\n",
    "entire_proc(group_name, group_1, group_2)"
   ]
  },
  {
   "cell_type": "code",
   "execution_count": 27,
   "metadata": {},
   "outputs": [
    {
     "name": "stdout",
     "output_type": "stream",
     "text": [
      "ICD code: 861.21, chapter number: 17, chapter name: Injury and Poisoning, code title: Lung contusion-closed\n",
      "ICD code: 276.2, chapter number: 3, chapter name: Endocrine, Nutritional and Metabolic Diseases, and Immunity Disorders, code title: Acidosis\n",
      "ICD code: 427.5, chapter number: 7, chapter name: Diseases of the Circulatory System, code title: Cardiac arrest\n",
      "ICD code: 807.09, chapter number: 17, chapter name: Injury and Poisoning, code title: Fx mult ribs NOS-closed\n",
      "ICD code: 458.9, chapter number: 7, chapter name: Diseases of the Circulatory System, code title: Hypotension NOS\n",
      "ICD code: 864.14, chapter number: 17, chapter name: Injury and Poisoning, code title: Liver lacerat, major-opn\n",
      "ICD code: 285.1, chapter number: 4, chapter name: Diseases of the Blood and Blood-forming Organs, code title: Ac posthemorrhag anemia\n",
      "ICD code: 348.1, chapter number: 6, chapter name: Diseases of the Nervous System and Sense Organs, code title: Anoxic brain damage\n",
      "ICD code: 300.00, chapter number: 5, chapter name: Mental Disorders, code title: Anxiety state NOS\n",
      "ICD code: 305.00, chapter number: 5, chapter name: Mental Disorders, code title: Alcohol abuse-unspec\n",
      "ICD code: 860.0, chapter number: 17, chapter name: Injury and Poisoning, code title: Traum pneumothorax-close\n",
      "ICD code: E849.5, chapter number: 18, chapter name: Supplementary Classification of External Causes of Injury and Poisoning, code title: Accid on street/highway\n"
     ]
    }
   ],
   "source": [
    "suffix = None\n",
    "group_name = 'insurance'\n",
    "group_1 = 'Medicare'   \n",
    "group_2 =  'Self_Pay'\n",
    "entire_proc(group_name, group_1, group_2)"
   ]
  },
  {
   "cell_type": "code",
   "execution_count": 28,
   "metadata": {},
   "outputs": [
    {
     "name": "stdout",
     "output_type": "stream",
     "text": [
      "ICD code: 861.21, chapter number: 17, chapter name: Injury and Poisoning, code title: Lung contusion-closed\n",
      "ICD code: 807.09, chapter number: 17, chapter name: Injury and Poisoning, code title: Fx mult ribs NOS-closed\n",
      "ICD code: 276.2, chapter number: 3, chapter name: Endocrine, Nutritional and Metabolic Diseases, and Immunity Disorders, code title: Acidosis\n",
      "ICD code: 427.5, chapter number: 7, chapter name: Diseases of the Circulatory System, code title: Cardiac arrest\n",
      "ICD code: 868.03, chapter number: 17, chapter name: Injury and Poisoning, code title: Peritoneum injury-closed\n",
      "ICD code: 864.05, chapter number: 17, chapter name: Injury and Poisoning, code title: Liver lacerat unspcf cls\n",
      "ICD code: 802.4, chapter number: 17, chapter name: Injury and Poisoning, code title: Fx malar/maxillary-close\n",
      "ICD code: 305.00, chapter number: 5, chapter name: Mental Disorders, code title: Alcohol abuse-unspec\n",
      "ICD code: E849.5, chapter number: 18, chapter name: Supplementary Classification of External Causes of Injury and Poisoning, code title: Accid on street/highway\n",
      "ICD code: 860.0, chapter number: 17, chapter name: Injury and Poisoning, code title: Traum pneumothorax-close\n",
      "ICD code: 458.9, chapter number: 7, chapter name: Diseases of the Circulatory System, code title: Hypotension NOS\n"
     ]
    }
   ],
   "source": [
    "suffix = None\n",
    "group_name = 'insurance'\n",
    "group_1 = 'Medicaid'   \n",
    "group_2 =  'Self_Pay'\n",
    "entire_proc(group_name, group_1, group_2)"
   ]
  }
 ],
 "metadata": {
  "kernelspec": {
   "display_name": "base",
   "language": "python",
   "name": "python3"
  },
  "language_info": {
   "codemirror_mode": {
    "name": "ipython",
    "version": 3
   },
   "file_extension": ".py",
   "mimetype": "text/x-python",
   "name": "python",
   "nbconvert_exporter": "python",
   "pygments_lexer": "ipython3",
   "version": "3.9.12"
  },
  "orig_nbformat": 4
 },
 "nbformat": 4,
 "nbformat_minor": 2
}
