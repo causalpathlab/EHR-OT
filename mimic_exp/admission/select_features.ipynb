{
 "cells": [
  {
   "cell_type": "code",
   "execution_count": 1,
   "metadata": {},
   "outputs": [],
   "source": [
    "import pandas as pd"
   ]
  },
  {
   "cell_type": "code",
   "execution_count": 2,
   "metadata": {},
   "outputs": [],
   "source": [
    "summary_mimic_df = pd.read_csv(\"../../outputs/mimic/summary_mimic.csv\", header=0, index_col=0)"
   ]
  },
  {
   "cell_type": "code",
   "execution_count": 5,
   "metadata": {},
   "outputs": [],
   "source": [
    "delete_indices = []\n",
    "male_count = 120\n",
    "female_count = 50\n",
    "for index, row in summary_mimic_df.iterrows():\n",
    "    if row['male freq'] < male_count * 2 or row['female freq'] < female_count * 2:\n",
    "        delete_indices.append(index)\n",
    "\n",
    "selected_summary_mimic_df = summary_mimic_df.drop(delete_indices)\n",
    "selected_summary_mimic_df.to_csv(\"../../outputs/mimic/selected_summary_mimic.csv\", header=True, index=True)"
   ]
  },
  {
   "cell_type": "code",
   "execution_count": 6,
   "metadata": {},
   "outputs": [
    {
     "data": {
      "text/plain": [
       "(276, 7)"
      ]
     },
     "execution_count": 6,
     "metadata": {},
     "output_type": "execute_result"
    }
   ],
   "source": [
    "selected_summary_mimic_df.shape"
   ]
  },
  {
   "cell_type": "code",
   "execution_count": 11,
   "metadata": {},
   "outputs": [
    {
     "name": "stdout",
     "output_type": "stream",
     "text": [
      "1\n",
      "2\n",
      "3\n",
      "4\n",
      "5\n",
      "\n",
      "\n",
      "6\n",
      "\n",
      "7\n",
      "\n",
      "\n",
      "8\n",
      "\n",
      "9\n",
      "\n",
      "\n",
      "\n",
      "number of processes is: 32\n",
      "[1, 2, 3, 4, 5, 6, 7, 8, 9]\n",
      "runtime is: 9.018659591674805\n"
     ]
    }
   ],
   "source": [
    "from multiprocess import Pool\n",
    "import numpy as np\n",
    "import time\n",
    "import random\n",
    "import multiprocess\n",
    "\n",
    "p = Pool(32)\n",
    "\n",
    "def print_return(i):\n",
    "    print(f\"{i}\\n\")\n",
    "    time.sleep(random.randint(1,10))\n",
    "    return i\n",
    "\n",
    "s1 = time.time()\n",
    "nums = np.arange(1, 10, 1)\n",
    "res = p.map(print_return, nums)\n",
    "print(res)\n",
    "s2 = time.time()\n",
    "print(\"runtime is:\", s2-s1)"
   ]
  },
  {
   "cell_type": "code",
   "execution_count": 6,
   "metadata": {},
   "outputs": [
    {
     "name": "stdout",
     "output_type": "stream",
     "text": [
      "1\n",
      "\n",
      "2\n",
      "\n",
      "3\n",
      "\n",
      "4\n",
      "\n",
      "5\n",
      "\n"
     ]
    },
    {
     "ename": "KeyboardInterrupt",
     "evalue": "",
     "output_type": "error",
     "traceback": [
      "\u001b[0;31m---------------------------------------------------------------------------\u001b[0m",
      "\u001b[0;31mKeyboardInterrupt\u001b[0m                         Traceback (most recent call last)",
      "Cell \u001b[0;32mIn[6], line 3\u001b[0m\n\u001b[1;32m      1\u001b[0m s1 \u001b[39m=\u001b[39m time\u001b[39m.\u001b[39mtime()\n\u001b[1;32m      2\u001b[0m \u001b[39mfor\u001b[39;00m num \u001b[39min\u001b[39;00m nums:\n\u001b[0;32m----> 3\u001b[0m     print_return(num)\n\u001b[1;32m      4\u001b[0m s2 \u001b[39m=\u001b[39m time\u001b[39m.\u001b[39mtime()\n\u001b[1;32m      5\u001b[0m \u001b[39mprint\u001b[39m(\u001b[39m\"\u001b[39m\u001b[39mruntime is:\u001b[39m\u001b[39m\"\u001b[39m, s2\u001b[39m-\u001b[39ms1)\n",
      "Cell \u001b[0;32mIn[5], line 9\u001b[0m, in \u001b[0;36mprint_return\u001b[0;34m(i)\u001b[0m\n\u001b[1;32m      7\u001b[0m \u001b[39mdef\u001b[39;00m \u001b[39mprint_return\u001b[39m(i):\n\u001b[1;32m      8\u001b[0m     \u001b[39mprint\u001b[39m(\u001b[39mf\u001b[39m\u001b[39m\"\u001b[39m\u001b[39m{\u001b[39;00mi\u001b[39m}\u001b[39;00m\u001b[39m\\n\u001b[39;00m\u001b[39m\"\u001b[39m)\n\u001b[0;32m----> 9\u001b[0m     time\u001b[39m.\u001b[39;49msleep(\u001b[39m10\u001b[39;49m)\n\u001b[1;32m     10\u001b[0m     \u001b[39mreturn\u001b[39;00m i\n",
      "\u001b[0;31mKeyboardInterrupt\u001b[0m: "
     ]
    }
   ],
   "source": [
    "s1 = time.time()\n",
    "for num in nums:\n",
    "    print_return(num)\n",
    "s2 = time.time()\n",
    "print(\"runtime is:\", s2-s1)\n",
    "    "
   ]
  },
  {
   "cell_type": "code",
   "execution_count": null,
   "metadata": {},
   "outputs": [],
   "source": []
  }
 ],
 "metadata": {
  "kernelspec": {
   "display_name": "Python 3",
   "language": "python",
   "name": "python3"
  },
  "language_info": {
   "codemirror_mode": {
    "name": "ipython",
    "version": 3
   },
   "file_extension": ".py",
   "mimetype": "text/x-python",
   "name": "python",
   "nbconvert_exporter": "python",
   "pygments_lexer": "ipython3",
   "version": "3.9.5"
  },
  "orig_nbformat": 4,
  "vscode": {
   "interpreter": {
    "hash": "f9f85f796d01129d0dd105a088854619f454435301f6ffec2fea96ecbd9be4ac"
   }
  }
 },
 "nbformat": 4,
 "nbformat_minor": 2
}
