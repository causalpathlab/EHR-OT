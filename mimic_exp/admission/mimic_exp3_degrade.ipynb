{
 "cells": [
  {
   "cell_type": "code",
   "execution_count": 1,
   "metadata": {},
   "outputs": [],
   "source": [
    "import matplotlib.pyplot as plt\n",
    "import os\n",
    "import pandas as pd"
   ]
  },
  {
   "cell_type": "code",
   "execution_count": 2,
   "metadata": {},
   "outputs": [],
   "source": [
    "def compute_diff_counts(df, metric_name):\n",
    "    \"\"\" \n",
    "    Computes the metric_name score difference between transported target \\\n",
    "        score and target score for df if the target score does not exceed the source score\n",
    "    \"\"\"\n",
    "    \n",
    "    source_scores = df[\"source_\"+metric_name]\n",
    "    target_scores = df[\"target_\"+metric_name]\n",
    "    trans_target_scores = df[\"trans_target_\"+metric_name]\n",
    "    diff_scores = []\n",
    "    for source_score, target_score, trans_target_score in zip(source_scores, target_scores, trans_target_scores):\n",
    "        if source_score > target_score:\n",
    "            diff_scores.append(trans_target_score-target_score)\n",
    "    return diff_scores\n"
   ]
  },
  {
   "cell_type": "code",
   "execution_count": 3,
   "metadata": {},
   "outputs": [],
   "source": [
    "# Analyzing EHR-OT performance individually\n",
    "score_dir = \"/home/wanxinli/EHR-OT/outputs/mimic/\"\n",
    "\n",
    "f1_diff_counts = []\n",
    "recall_diff_counts = []\n",
    "precision_diff_counts = []\n",
    "\n",
    "f1_degrade_code = []\n",
    "precision_degrade_code = []\n",
    "recall_degrade_code = []\n",
    "code_count = 0\n",
    "\n",
    "for file in os.listdir(score_dir):\n",
    "    if file.endswith(\"_score.csv\") and 'exp3_' in file and 'TCA' not in file and \"ind\" not in file and 'MMD' not in file:\n",
    "        code_count += 1\n",
    "        score_df = pd.read_csv(os.path.join(score_dir, file), index_col=None, header=0)\n",
    "\n",
    "        f1_diffs = compute_diff_counts(score_df, 'f1')\n",
    "        f1_improve_count = [x>0 for x in f1_diffs].count(True)\n",
    "\n",
    "        if f1_improve_count <= len(f1_diffs)/2:\n",
    "            f1_degrade_code.append(file.split(\"_\")[1])\n",
    "\n",
    "        precision_diffs = compute_diff_counts(score_df, 'precision')\n",
    "        precision_improve_count = [x>0 for x in precision_diffs].count(True)\n",
    "\n",
    "        if precision_improve_count <= len(precision_diffs)/2:\n",
    "            precision_degrade_code.append(file.split(\"_\")[1])\n",
    "        \n",
    "        recall_diffs = compute_diff_counts(score_df, 'recall')\n",
    "        recall_improve_count = [x>0 for x in recall_diffs].count(True)\n",
    "\n",
    "        if recall_improve_count <= len(recall_diffs)/2:\n",
    "            recall_degrade_code.append(file.split(\"_\")[1])\n"
   ]
  },
  {
   "cell_type": "code",
   "execution_count": 4,
   "metadata": {},
   "outputs": [
    {
     "name": "stdout",
     "output_type": "stream",
     "text": [
      "code count is: 243\n",
      "f1 improve code percent is: 0.7078189300411523\n",
      "precision improve code percent is: 0.51440329218107\n",
      "recall improve code percent is: 0.6625514403292181\n"
     ]
    }
   ],
   "source": [
    "print(\"code count is:\", code_count)\n",
    "print(\"f1 improve code percent is:\", 1-len(f1_degrade_code)/code_count)\n",
    "print(\"precision improve code percent is:\", 1-len(precision_degrade_code)/code_count)\n",
    "print(\"recall improve code percent is:\", 1-len(recall_degrade_code)/code_count)\n",
    "# print(sorted(f1_degrade_code))"
   ]
  },
  {
   "cell_type": "code",
   "execution_count": 5,
   "metadata": {},
   "outputs": [],
   "source": [
    "def determine_degrade(label_code, trans_metric, eval_metric):\n",
    "    \"\"\" \n",
    "    Determine whether a label code (label_code) has degraded performance using\n",
    "    tranporint metric (trans_metric) and in terms of evaluation metric (eval_metric)\n",
    "    \"\"\"\n",
    "\n",
    "    score_path = os.path.join(score_dir, f\"exp3_{label_code}_{trans_metric}_score.csv\")\n",
    "    score_df = pd.read_csv(score_path, index_col=None, header=0)\n",
    "\n",
    "    diffs = compute_diff_counts(score_df, eval_metric)\n",
    "    improve_count = [x>0 for x in diffs].count(True)\n",
    "\n",
    "    return improve_count <= len(diffs)/2"
   ]
  },
  {
   "cell_type": "code",
   "execution_count": 6,
   "metadata": {},
   "outputs": [],
   "source": [
    "# Comparing TCA versus EHR-OT\n",
    "score_dir = \"/home/wanxinli/EHR-OT/outputs/mimic/\"\n",
    "\n",
    "f1_diff_counts = []\n",
    "TCA_diff_counts = []\n",
    "\n",
    "OT_f1_degrade_codes = []\n",
    "OT_recall_degrade_codes = []\n",
    "TCA_f1_degrade_codes = []\n",
    "TCA_recall_degrade_codes = []\n",
    "MMD_f1_degrade_codes = []\n",
    "MMD_recall_degrade_codes = []\n",
    "\n",
    "code_count = 0\n",
    "\n",
    "for file in os.listdir(score_dir):\n",
    "    # ind stands for independantly applying TCA without PCA step in EHR-OT\n",
    "    if file.endswith(\"MMD_score.csv\") and 'exp3_' in file:\n",
    "        code_count += 1\n",
    "        label_code = file.split('_')[1]\n",
    "\n",
    "        if determine_degrade(label_code, 'OT', 'f1'):\n",
    "            OT_f1_degrade_codes.append(label_code)\n",
    "        if determine_degrade(label_code, 'OT', 'recall'):\n",
    "            OT_recall_degrade_codes.append(label_code)\n",
    "\n",
    "        if determine_degrade(label_code, 'TCA', 'f1'):\n",
    "            TCA_f1_degrade_codes.append(label_code)\n",
    "        if determine_degrade(label_code, 'TCA', 'recall'):\n",
    "            TCA_recall_degrade_codes.append(label_code)\n",
    "        \n",
    "        if determine_degrade(label_code, 'MMD', 'f1'):\n",
    "            MMD_f1_degrade_codes.append(label_code)\n",
    "        if determine_degrade(label_code, 'MMD', 'recall'):\n",
    "            MMD_recall_degrade_codes.append(label_code)\n"
   ]
  },
  {
   "cell_type": "code",
   "execution_count": 7,
   "metadata": {},
   "outputs": [
    {
     "name": "stdout",
     "output_type": "stream",
     "text": [
      "total count is: 243\n",
      "OT f1 degrade count: 71, EHR-OT f1 degrade percent: 0.29218106995884774, EHR-OT recall degrade percent: 0.3374485596707819\n",
      "TCA f1 degrade count: 38, TCA f1 degrade percent: 0.15637860082304528, TCA recall degrade percent: 0.6419753086419753\n",
      "MMD f1 degrade count: 135, TCA f1 degrade percent: 0.5555555555555556, MMD recall degrade percent: 0.5102880658436214\n"
     ]
    }
   ],
   "source": [
    "print(f\"total count is: {code_count}\")\n",
    "print(f\"OT f1 degrade count: {len(OT_f1_degrade_codes)}, EHR-OT f1 degrade percent: {len(OT_f1_degrade_codes)/code_count}, EHR-OT recall degrade percent: {len(OT_recall_degrade_codes)/code_count}\")\n",
    "print(f\"TCA f1 degrade count: {len(TCA_f1_degrade_codes)}, TCA f1 degrade percent: {len(TCA_f1_degrade_codes)/code_count}, TCA recall degrade percent: {len(TCA_recall_degrade_codes)/code_count}\")\n",
    "print(f\"MMD f1 degrade count: {len(MMD_f1_degrade_codes)}, TCA f1 degrade percent: {len(MMD_f1_degrade_codes)/code_count}, MMD recall degrade percent: {len(MMD_recall_degrade_codes)/code_count}\")\n",
    "\n"
   ]
  },
  {
   "cell_type": "code",
   "execution_count": null,
   "metadata": {},
   "outputs": [],
   "source": []
  }
 ],
 "metadata": {
  "kernelspec": {
   "display_name": "base",
   "language": "python",
   "name": "python3"
  },
  "language_info": {
   "codemirror_mode": {
    "name": "ipython",
    "version": 3
   },
   "file_extension": ".py",
   "mimetype": "text/x-python",
   "name": "python",
   "nbconvert_exporter": "python",
   "pygments_lexer": "ipython3",
   "version": "3.9.12"
  },
  "orig_nbformat": 4
 },
 "nbformat": 4,
 "nbformat_minor": 2
}
