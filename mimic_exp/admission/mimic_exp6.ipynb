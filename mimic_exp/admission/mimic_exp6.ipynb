{
 "cells": [
  {
   "attachments": {},
   "cell_type": "markdown",
   "metadata": {},
   "source": [
    "Transfer learning between different admission types (EMERGENCY vs ELECTIVE)"
   ]
  },
  {
   "cell_type": "code",
   "execution_count": 1,
   "metadata": {},
   "outputs": [
    {
     "name": "stdout",
     "output_type": "stream",
     "text": [
      "Counter({'EMERGENCY': 42071, 'NEWBORN': 7863, 'ELECTIVE': 7706, 'URGENT': 1336})\n"
     ]
    }
   ],
   "source": [
    "from ast import literal_eval\n",
    "from collections import Counter\n",
    "import pandas as pd\n",
    "\n",
    "\n",
    "admid_diagnosis_df = pd.read_csv(\"/home/wanxinli/EHR-OT/outputs/mimic/ADMID_DIAGNOSIS.csv\", header=0, index_col=0,  converters={\"ICD codes\": literal_eval})\n",
    "adm_types = list(admid_diagnosis_df['adm_type'])\n",
    "print(Counter(adm_types))"
   ]
  },
  {
   "cell_type": "code",
   "execution_count": 2,
   "metadata": {},
   "outputs": [
    {
     "name": "stderr",
     "output_type": "stream",
     "text": [
      "/home/wanxinli/miniconda3/lib/python3.9/site-packages/tqdm/auto.py:22: TqdmWarning: IProgress not found. Please update jupyter and ipywidgets. See https://ipywidgets.readthedocs.io/en/stable/user_install.html\n",
      "  from .autonotebook import tqdm as notebook_tqdm\n"
     ]
    }
   ],
   "source": [
    "import sys\n",
    "sys.path.append(\"/home/wanxinli/EHR-OT/\")\n",
    "\n",
    "from mimic_common import *\n",
    "from multiprocess import Pool\n",
    "import os\n",
    "from sklearn.linear_model import LogisticRegression\n",
    "from sklearn.svm import SVC\n",
    "from sklearn.decomposition import PCA\n",
    "from sklearn.metrics import precision_score, recall_score, accuracy_score, f1_score\n",
    "import time\n"
   ]
  },
  {
   "cell_type": "code",
   "execution_count": 3,
   "metadata": {},
   "outputs": [
    {
     "name": "stdout",
     "output_type": "stream",
     "text": [
      "Will save outputs to /home/wanxinli/EHR-OT/outputs/mimic\n"
     ]
    }
   ],
   "source": [
    "output_dir = os.path.join(os.path.expanduser(\"~\"), f\"EHR-OT/outputs/mimic\")\n",
    "print(f\"Will save outputs to {output_dir}\")"
   ]
  },
  {
   "cell_type": "code",
   "execution_count": 4,
   "metadata": {},
   "outputs": [],
   "source": [
    "\"\"\"\n",
    "Train deep patient model and generate representations for targets and sources\n",
    "\"\"\"\n",
    "\n",
    "def custom_train_reps(target_features, source_features, n_components, pca_explain=False):\n",
    "    \"\"\" \n",
    "    Customized training algorithm for generating target representations and source representations\n",
    "\n",
    "    :param bool pca_explain: print the explained variance of each components\n",
    "    \n",
    "    :returns: target representations, source representations\n",
    "    \"\"\"\n",
    "    source_pca = PCA(n_components=n_components)\n",
    "    target_pca = PCA(n_components=n_components)\n",
    "    target_reps = target_pca.fit_transform(target_features)\n",
    "    source_reps = source_pca.fit_transform(source_features)\n",
    "\n",
    "    if pca_explain:\n",
    "        source_exp_var = source_pca.explained_variance_ratio_\n",
    "        source_cum_sum_var = np.cumsum(source_exp_var)\n",
    "        target_exp_var = target_pca.explained_variance_ratio_\n",
    "        target_cum_sum_var = np.cumsum(target_exp_var)\n",
    "        print(\"Cummulative variance explained by the source PCA is:\", source_cum_sum_var)\n",
    "        print(\"Cummulative variance explained by the target PCA is:\", target_cum_sum_var)\n",
    "\n",
    "    return target_reps, source_reps"
   ]
  },
  {
   "cell_type": "code",
   "execution_count": 5,
   "metadata": {},
   "outputs": [],
   "source": [
    "def multi_proc_parallel(score_path, n_components, label_code, custom_train_reps, \\\n",
    "        male_count, female_count, iteration=20):\n",
    "    \"\"\" \n",
    "    Code cannot be parallized when passing the dataframe (full_df) as a parameter\n",
    "    Hence, cannot be put into mimic_common.py\n",
    "    \"\"\"\n",
    "    \n",
    "    p = Pool(10)\n",
    "\n",
    "    # note: the following line cannnot be used for parallelization either\n",
    "    # admid_diagnosis_df = pd.read_csv(\"../../outputs/mimic/ADMID_DIAGNOSIS.csv\", index_col=0, header=0, converters={'ICD codes': literal_eval})\n",
    "\n",
    "    def iteration_wrapper(iter):\n",
    "        \"\"\" \n",
    "        Wrapper function for one iteration, returns result statistics, for parallel computing\n",
    "\n",
    "        :param int iter: the current iteration\n",
    "        \"\"\"\n",
    "        print(f\"iteration: {iter}\\n\")\n",
    "        cur_res = entire_proc_binary(n_components, \"adm_type\", \"ELECTIVE\",  \"EMERGENCY\", label_code, admid_diagnosis_df, custom_train_reps, \n",
    "                    male_count = male_count, female_count = female_count, transfer_score=True)\n",
    "        \n",
    "        return cur_res\n",
    "\n",
    "    res = p.map(iteration_wrapper, np.arange(0, iteration, 1))\n",
    "    res_df = pd.DataFrame(res, columns = ['target_accuracy', 'target_precision', 'target_recall', 'target_f1', \\\n",
    "                                          'source_accuracy', 'source_precision', 'source_recall', 'source_f1', \\\n",
    "                                            'trans_source_accuracy', 'trans_source_precision', 'trans_source_recall', 'trans_source_f1', 'transfer_score', 'original_score'])\n",
    "    res_df.to_csv(score_path, index=False, header=True)\n",
    "    return res\n",
    "\n"
   ]
  },
  {
   "cell_type": "code",
   "execution_count": 6,
   "metadata": {},
   "outputs": [
    {
     "name": "stdout",
     "output_type": "stream",
     "text": [
      "label_codes are: ['008.45']\n",
      "label code 008.45 started\n",
      "iteration: 0\n",
      "iteration: 3\n",
      "\n",
      "iteration: 6\n",
      "iteration: 12\n",
      "\n",
      "\n",
      "iteration: 9\n",
      "\n",
      "\n",
      "iteration: 15\n",
      "\n",
      "iteration: 18\n",
      "\n",
      "iteration: 21\n",
      "\n",
      "iteration: 24\n",
      "\n",
      "iteration: 27\n",
      "\n",
      "iteration: 13\n",
      "\n",
      "iteration: 10\n",
      "\n",
      "iteration: 4\n",
      "\n",
      "iteration: 7\n",
      "\n",
      "iteration: 28\n",
      "\n",
      "iteration: 19\n",
      "\n",
      "iteration: 25\n",
      "\n",
      "iteration: 22\n",
      "\n",
      "iteration: 16\n",
      "\n",
      "iteration: 1\n",
      "\n",
      "iteration: 20\n",
      "\n",
      "iteration: 14\n",
      "\n",
      "iteration: 29\n",
      "\n",
      "iteration: 5\n",
      "\n",
      "iteration: 8\n",
      "\n",
      "iteration: 23\n",
      "\n",
      "iteration: 26\n",
      "\n",
      "iteration: 17\n",
      "\n",
      "iteration: 11\n",
      "\n",
      "iteration: 2\n",
      "\n",
      "iteration: 30\n",
      "\n",
      "iteration: 33\n",
      "\n",
      "iteration: 36\n",
      "\n",
      "iteration: 39\n",
      "\n",
      "iteration: 42\n",
      "\n",
      "iteration: 45\n",
      "\n",
      "iteration: 48\n",
      "\n",
      "iteration: 51\n",
      "\n",
      "iteration: 54\n",
      "\n",
      "iteration: 57\n",
      "\n",
      "iteration: 40\n",
      "\n",
      "iteration: 37\n",
      "\n",
      "iteration: 34\n",
      "\n",
      "iteration: 31\n",
      "\n",
      "iteration: 46\n",
      "\n",
      "iteration: 43\n",
      "\n",
      "iteration: 49\n",
      "\n",
      "iteration: 52\n",
      "\n",
      "iteration: 58\n",
      "\n",
      "iteration: 55\n",
      "\n",
      "iteration: 38\n",
      "\n",
      "iteration: 41\n",
      "\n",
      "iteration: 35\n",
      "\n",
      "iteration: 44\n",
      "\n"
     ]
    },
    {
     "name": "stderr",
     "output_type": "stream",
     "text": [
      "/home/wanxinli/.local/lib/python3.9/site-packages/sklearn/metrics/_classification.py:1344: UndefinedMetricWarning: Precision is ill-defined and being set to 0.0 due to no predicted samples. Use `zero_division` parameter to control this behavior.\n",
      "  _warn_prf(average, modifier, msg_start, len(result))\n"
     ]
    },
    {
     "name": "stdout",
     "output_type": "stream",
     "text": [
      "iteration: 50\n",
      "\n",
      "iteration: 47\n",
      "\n",
      "iteration: 32\n",
      "\n",
      "iteration: 53\n",
      "\n",
      "iteration: 59\n",
      "\n",
      "iteration: 56\n",
      "\n",
      "iteration: 60\n",
      "\n",
      "iteration: 63\n",
      "\n",
      "iteration: 66\n",
      "\n",
      "iteration: 69\n",
      "\n",
      "iteration: 72\n",
      "\n",
      "iteration: 75\n",
      "\n"
     ]
    },
    {
     "name": "stderr",
     "output_type": "stream",
     "text": [
      "/home/wanxinli/.local/lib/python3.9/site-packages/sklearn/metrics/_classification.py:1344: UndefinedMetricWarning: Precision is ill-defined and being set to 0.0 due to no predicted samples. Use `zero_division` parameter to control this behavior.\n",
      "  _warn_prf(average, modifier, msg_start, len(result))\n"
     ]
    },
    {
     "name": "stdout",
     "output_type": "stream",
     "text": [
      "iteration: 78\n",
      "\n",
      "iteration: 81\n",
      "\n"
     ]
    },
    {
     "name": "stderr",
     "output_type": "stream",
     "text": [
      "/home/wanxinli/.local/lib/python3.9/site-packages/sklearn/metrics/_classification.py:1344: UndefinedMetricWarning: Precision is ill-defined and being set to 0.0 due to no predicted samples. Use `zero_division` parameter to control this behavior.\n",
      "  _warn_prf(average, modifier, msg_start, len(result))\n"
     ]
    },
    {
     "name": "stdout",
     "output_type": "stream",
     "text": [
      "iteration: 84\n",
      "\n",
      "iteration: 87\n",
      "\n",
      "iteration: 61\n",
      "\n",
      "iteration: 64\n",
      "\n",
      "iteration: 67\n",
      "\n",
      "iteration: 73\n",
      "\n",
      "iteration: 70\n",
      "\n",
      "iteration: 76\n",
      "\n",
      "iteration: 79\n",
      "\n",
      "iteration: 82\n",
      "\n",
      "iteration: 85\n",
      "\n",
      "iteration: 88\n",
      "\n"
     ]
    },
    {
     "name": "stderr",
     "output_type": "stream",
     "text": [
      "/home/wanxinli/.local/lib/python3.9/site-packages/sklearn/metrics/_classification.py:1344: UndefinedMetricWarning: Precision is ill-defined and being set to 0.0 due to no predicted samples. Use `zero_division` parameter to control this behavior.\n",
      "  _warn_prf(average, modifier, msg_start, len(result))\n"
     ]
    },
    {
     "name": "stdout",
     "output_type": "stream",
     "text": [
      "iteration: 71\n",
      "\n",
      "iteration: 68\n",
      "\n",
      "iteration: 74\n",
      "\n",
      "iteration: 65\n",
      "\n",
      "iteration: 62\n",
      "\n"
     ]
    },
    {
     "name": "stderr",
     "output_type": "stream",
     "text": [
      "/home/wanxinli/.local/lib/python3.9/site-packages/sklearn/metrics/_classification.py:1344: UndefinedMetricWarning: Precision is ill-defined and being set to 0.0 due to no predicted samples. Use `zero_division` parameter to control this behavior.\n",
      "  _warn_prf(average, modifier, msg_start, len(result))\n"
     ]
    },
    {
     "name": "stdout",
     "output_type": "stream",
     "text": [
      "iteration: 77\n",
      "\n",
      "iteration: 80\n",
      "\n",
      "iteration: 86\n",
      "\n",
      "iteration: 83\n",
      "\n",
      "iteration: 89\n",
      "\n",
      "iteration: 90\n",
      "\n",
      "iteration: 93\n",
      "\n",
      "iteration: 96\n",
      "\n",
      "iteration: 99\n",
      "\n"
     ]
    },
    {
     "name": "stderr",
     "output_type": "stream",
     "text": [
      "/home/wanxinli/.local/lib/python3.9/site-packages/sklearn/metrics/_classification.py:1344: UndefinedMetricWarning: Precision is ill-defined and being set to 0.0 due to no predicted samples. Use `zero_division` parameter to control this behavior.\n",
      "  _warn_prf(average, modifier, msg_start, len(result))\n"
     ]
    },
    {
     "name": "stdout",
     "output_type": "stream",
     "text": [
      "iteration: 94\n",
      "\n",
      "iteration: 91\n",
      "\n",
      "iteration: 97\n",
      "\n",
      "iteration: 92\n",
      "\n",
      "iteration: 95\n",
      "\n",
      "iteration: 98\n",
      "\n"
     ]
    }
   ],
   "source": [
    "\"\"\" \n",
    "Run the entire proc for all response (i.e., label_code) \n",
    "Responses are selected by select_codes.ipynb and saved in ../../outputs/mimic/selected_summary_mimic.csv\n",
    "\"\"\"\n",
    "\n",
    "n_components = 20\n",
    "male_count = 120\n",
    "female_count = 50\n",
    "label_code_path = os.path.join(output_dir, \"selected_summary_mimic.csv\")\n",
    "label_code_df = pd.read_csv(label_code_path, header=0, index_col=None)\n",
    "label_codes = list(label_code_df['ICD code'])[:1]\n",
    "print(\"label_codes are:\", label_codes)\n",
    "for label_code in label_codes:\n",
    "    start_time = time.time()\n",
    "    print(f\"label code {label_code} started\")\n",
    "    score_path = os.path.join(output_dir, f\"exp6_{label_code}_score.csv\")\n",
    "    multi_proc_parallel(score_path, n_components, label_code, custom_train_reps, \\\n",
    "            male_count, female_count, iteration=100)\n",
    "    end_time = time.time()\n",
    "    print(f\"runtime for {label_code} is: {end_time-start_time}\")"
   ]
  },
  {
   "cell_type": "code",
   "execution_count": null,
   "metadata": {},
   "outputs": [],
   "source": [
    "# label_code = \"008.45\"\n",
    "# cur_res = entire_proc_binary(n_components, \"adm_type\",  \"ELECTIVE\", \"EMERGENCY\", label_code, admid_diagnosis_df, custom_train_reps, \n",
    "#                     male_count=male_count, female_count = female_count, transfer_score=True)"
   ]
  },
  {
   "cell_type": "code",
   "execution_count": null,
   "metadata": {},
   "outputs": [
    {
     "data": {
      "text/plain": [
       "(0.9775106630476929,\n",
       " 0.2,\n",
       " 0.038461538461538464,\n",
       " 0.06451612903225806,\n",
       " 0.9767176443734307,\n",
       " 0.3333333333333333,\n",
       " 0.02,\n",
       " 0.03773584905660377,\n",
       " 0.9769459027619265,\n",
       " 0.4,\n",
       " 0.02,\n",
       " 0.03809523809523809,\n",
       " 5.840246481991272)"
      ]
     },
     "execution_count": 8,
     "metadata": {},
     "output_type": "execute_result"
    }
   ],
   "source": [
    "# cur_res"
   ]
  },
  {
   "cell_type": "code",
   "execution_count": null,
   "metadata": {},
   "outputs": [],
   "source": []
  }
 ],
 "metadata": {
  "kernelspec": {
   "display_name": "base",
   "language": "python",
   "name": "python3"
  },
  "language_info": {
   "codemirror_mode": {
    "name": "ipython",
    "version": 3
   },
   "file_extension": ".py",
   "mimetype": "text/x-python",
   "name": "python",
   "nbconvert_exporter": "python",
   "pygments_lexer": "ipython3",
   "version": "3.9.12"
  },
  "orig_nbformat": 4,
  "vscode": {
   "interpreter": {
    "hash": "e0a164c7fb95af65e1e713e004e1e0ea55c462cdd13e4bdabca6fd60bd9f3176"
   }
  }
 },
 "nbformat": 4,
 "nbformat_minor": 2
}
