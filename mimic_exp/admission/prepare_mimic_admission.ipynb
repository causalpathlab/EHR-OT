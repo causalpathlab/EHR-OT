{
 "cells": [
  {
   "cell_type": "code",
   "execution_count": 6,
   "metadata": {},
   "outputs": [],
   "source": [
    "\"\"\" \n",
    "Prepare MIMIC dataset to run deep patient on the dataset\n",
    "Desired columns: Patient ID, gender, list of ICD codes, mortality\n",
    "TODO: add more response columns: e.g. number of days in ICU\n",
    "\"\"\"\n",
    "\n",
    "import collections\n",
    "import pandas as pd\n",
    "import sys\n",
    "from datetime import datetime\n",
    "import matplotlib.pyplot as plt"
   ]
  },
  {
   "cell_type": "code",
   "execution_count": 7,
   "metadata": {},
   "outputs": [],
   "source": [
    "\"\"\" \n",
    "Global parameters\n",
    "\"\"\"\n",
    "target_diagnosis = \"LUNG CA\""
   ]
  },
  {
   "cell_type": "code",
   "execution_count": 8,
   "metadata": {},
   "outputs": [],
   "source": [
    "\"\"\"\n",
    "Read in ADMISSIONS.csv and construct (1) patient ID to admission ID map, and \\\n",
    "    (2) admission ID to duration in hospital map (in seconds)\n",
    "\"\"\"\n",
    "\n",
    "pid_admids = {}\n",
    "admid_duration = {}\n",
    "admid_diagnosis = {}\n",
    "\n",
    "admission_file = open(\"../mimiciii/ADMISSIONS.csv\", 'r')\n",
    "admission_file.readline()\n",
    "for line in admission_file:\n",
    "    tokens = line.strip().split(',')\n",
    "    pid = int(tokens[1])\n",
    "    admid = int(tokens[2])\n",
    "    diagnosis = tokens[-3]\n",
    "    if pid in pid_admids: pid_admids[pid].append(admid)\n",
    "    else: pid_admids[pid] = [admid]\n",
    "\n",
    "    admit_time = datetime.strptime(tokens[3], '%Y-%m-%d %H:%M:%S')\n",
    "    discharge_time = datetime.strptime(tokens[4], '%Y-%m-%d %H:%M:%S')\n",
    "    admid_duration[admid] = (discharge_time-admit_time).total_seconds()\n",
    "    admid_diagnosis[admid] = diagnosis[1:-1]\n",
    "\n",
    "admission_file.close()\n"
   ]
  },
  {
   "cell_type": "code",
   "execution_count": 9,
   "metadata": {},
   "outputs": [],
   "source": [
    "\"\"\" \n",
    "Read in PATIENTS.csv and construct admission ID to gender map\n",
    "\"\"\"\n",
    "admid_gender = {}\n",
    "patient_file = open(\"../mimiciii/PATIENTS.csv\", 'r')\n",
    "patient_file.readline()\n",
    "for line in patient_file:\n",
    "    tokens = line.strip().split(',')\n",
    "    pid = int(tokens[1])\n",
    "    gender = str(tokens[2])\n",
    "    admids = pid_admids[pid]\n",
    "    for admid in admids:\n",
    "        admid_gender[admid] = gender[1]\n",
    "\n",
    "patient_file.close()"
   ]
  },
  {
   "cell_type": "code",
   "execution_count": 10,
   "metadata": {},
   "outputs": [],
   "source": [
    "\"\"\" \n",
    "Consruct admission ID to ICD codes mapping\n",
    "\"\"\"\n",
    "\n",
    "def convert_to_icd9(dxStr):\n",
    "    \"\"\" \n",
    "    Source: https://github.com/mp2893/med2vec/blob/master/process_mimic.py\n",
    "    I am not sure why ICD codes are converted in this way\n",
    "    \"\"\"\n",
    "    if dxStr.startswith('E'):\n",
    "        if len(dxStr) > 4: \n",
    "            return dxStr[:4] + '.' + dxStr[4:]\n",
    "        else: \n",
    "            return dxStr\n",
    "    else:\n",
    "        if len(dxStr) > 3: return dxStr[:3] + '.' + dxStr[3:]\n",
    "        else: return dxStr\n",
    "\n",
    "admid_codes = {}\n",
    "diagnosis_file = open(\"../mimiciii/DIAGNOSES_ICD.csv\", 'r')\n",
    "diagnosis_file.readline()\n",
    "for line in diagnosis_file: # read ADMISSIONS.CSV in order\n",
    "    tokens = line.strip().split(',')\n",
    "    admid = int(tokens[2])\n",
    "    dxStr = 'D_' + convert_to_icd9(tokens[4][1:-1]) # 1:-1 to remove quotes\n",
    "\n",
    "    if admid in admid_codes: \n",
    "        admid_codes[admid].append(dxStr)\n",
    "    else: \n",
    "        admid_codes[admid] = [dxStr]\n",
    "\n",
    "diagnosis_file.close()\n"
   ]
  },
  {
   "cell_type": "code",
   "execution_count": 11,
   "metadata": {},
   "outputs": [],
   "source": [
    "\"\"\"\n",
    "Convert str codes to int codes\n",
    "We use 0 to denote NA code in later analysis\n",
    "\"\"\"\n",
    "\n",
    "types = {}\n",
    "for admid, codes in admid_codes.items():\n",
    "    new_codes = []\n",
    "    for code in codes:\n",
    "        if code not in types:\n",
    "            types[code] = len(types) + 1\n",
    "        new_codes.append(types[code])\n",
    "    admid_codes[admid] = new_codes\n"
   ]
  },
  {
   "cell_type": "code",
   "execution_count": 12,
   "metadata": {},
   "outputs": [
    {
     "name": "stderr",
     "output_type": "stream",
     "text": [
      "/home/wanxinli/.local/lib/python3.8/site-packages/pandas/core/indexes/base.py:6982: FutureWarning: In a future version, the Index constructor will not infer numeric dtypes when passed object-dtype sequences (matching Series behavior)\n",
      "  return Index(sequences[0], name=names)\n"
     ]
    }
   ],
   "source": [
    "\"\"\" \n",
    "Construct a dataframe to store all information including\n",
    "- patient ID (index key)\n",
    "- gender\n",
    "- expire (mortality)\n",
    "- list of ICD codes\n",
    "\"\"\"\n",
    "\n",
    "admid_diagnosis_df = pd.DataFrame(columns=['admid', 'gender','ICD codes','duration', 'diagnosis', 'indicator'])\n",
    "\n",
    "for admid, codes in admid_codes.items():\n",
    "    new_row = {\"admid\": admid, \"gender\": admid_gender[admid], \"duration\": admid_duration[admid], \"ICD codes\": codes, \"diagnosis\": admid_diagnosis[admid]}\n",
    "    admid_diagnosis_df = pd.concat([admid_diagnosis_df, pd.DataFrame([new_row])], ignore_index=True)\n",
    "\n",
    "\n",
    "admid_diagnosis_df = admid_diagnosis_df.set_index('admid')"
   ]
  },
  {
   "cell_type": "code",
   "execution_count": 13,
   "metadata": {},
   "outputs": [
    {
     "data": {
      "text/html": [
       "<div>\n",
       "<style scoped>\n",
       "    .dataframe tbody tr th:only-of-type {\n",
       "        vertical-align: middle;\n",
       "    }\n",
       "\n",
       "    .dataframe tbody tr th {\n",
       "        vertical-align: top;\n",
       "    }\n",
       "\n",
       "    .dataframe thead th {\n",
       "        text-align: right;\n",
       "    }\n",
       "</style>\n",
       "<table border=\"1\" class=\"dataframe\">\n",
       "  <thead>\n",
       "    <tr style=\"text-align: right;\">\n",
       "      <th></th>\n",
       "      <th>gender</th>\n",
       "      <th>ICD codes</th>\n",
       "      <th>duration</th>\n",
       "      <th>diagnosis</th>\n",
       "      <th>indicator</th>\n",
       "    </tr>\n",
       "    <tr>\n",
       "      <th>admid</th>\n",
       "      <th></th>\n",
       "      <th></th>\n",
       "      <th></th>\n",
       "      <th></th>\n",
       "      <th></th>\n",
       "    </tr>\n",
       "  </thead>\n",
       "  <tbody>\n",
       "    <tr>\n",
       "      <th>161473</th>\n",
       "      <td>M</td>\n",
       "      <td>[862, 104, 863, 232, 308, 67, 28, 170, 48]</td>\n",
       "      <td>1910520.0</td>\n",
       "      <td>LUNG CA/SDA</td>\n",
       "      <td>NaN</td>\n",
       "    </tr>\n",
       "    <tr>\n",
       "      <th>147743</th>\n",
       "      <td>M</td>\n",
       "      <td>[1531, 104, 46, 67, 62, 94, 110, 59, 1596, 10,...</td>\n",
       "      <td>2028000.0</td>\n",
       "      <td>LUNG CANCER/SDA</td>\n",
       "      <td>NaN</td>\n",
       "    </tr>\n",
       "    <tr>\n",
       "      <th>190712</th>\n",
       "      <td>M</td>\n",
       "      <td>[315, 197, 219, 220, 114, 48, 251, 63, 115]</td>\n",
       "      <td>557400.0</td>\n",
       "      <td>LUNG CA/SDA</td>\n",
       "      <td>NaN</td>\n",
       "    </tr>\n",
       "    <tr>\n",
       "      <th>199523</th>\n",
       "      <td>M</td>\n",
       "      <td>[315, 147, 785, 61]</td>\n",
       "      <td>1407000.0</td>\n",
       "      <td>LUNG CA/SDA</td>\n",
       "      <td>NaN</td>\n",
       "    </tr>\n",
       "    <tr>\n",
       "      <th>165018</th>\n",
       "      <td>M</td>\n",
       "      <td>[885, 812, 901, 407, 35, 48]</td>\n",
       "      <td>496260.0</td>\n",
       "      <td>LUNG CANCER;HEMOPTYSIS</td>\n",
       "      <td>NaN</td>\n",
       "    </tr>\n",
       "    <tr>\n",
       "      <th>...</th>\n",
       "      <td>...</td>\n",
       "      <td>...</td>\n",
       "      <td>...</td>\n",
       "      <td>...</td>\n",
       "      <td>...</td>\n",
       "    </tr>\n",
       "    <tr>\n",
       "      <th>144869</th>\n",
       "      <td>F</td>\n",
       "      <td>[462, 307, 3975, 2510, 10, 5009, 1837, 888, 88...</td>\n",
       "      <td>806820.0</td>\n",
       "      <td>LUNG CANCER/SDA</td>\n",
       "      <td>NaN</td>\n",
       "    </tr>\n",
       "    <tr>\n",
       "      <th>129743</th>\n",
       "      <td>M</td>\n",
       "      <td>[885, 812, 886, 1787, 220, 104, 48, 251, 63, 2...</td>\n",
       "      <td>556800.0</td>\n",
       "      <td>LEFT LUNG CANCER/SDA</td>\n",
       "      <td>NaN</td>\n",
       "    </tr>\n",
       "    <tr>\n",
       "      <th>107633</th>\n",
       "      <td>M</td>\n",
       "      <td>[315, 259, 197, 61, 686, 104, 10, 638, 682, 89...</td>\n",
       "      <td>621000.0</td>\n",
       "      <td>LEFT UPPER LOBE LUNG CA/SDA</td>\n",
       "      <td>NaN</td>\n",
       "    </tr>\n",
       "    <tr>\n",
       "      <th>106216</th>\n",
       "      <td>M</td>\n",
       "      <td>[315, 812]</td>\n",
       "      <td>24780.0</td>\n",
       "      <td>LUNG CA/SDA</td>\n",
       "      <td>NaN</td>\n",
       "    </tr>\n",
       "    <tr>\n",
       "      <th>141589</th>\n",
       "      <td>F</td>\n",
       "      <td>[2, 274, 315, 179, 2349, 285, 27, 518, 887, 55...</td>\n",
       "      <td>866460.0</td>\n",
       "      <td>LUNG CANCER;AIRWAY OBSTRUCTION</td>\n",
       "      <td>NaN</td>\n",
       "    </tr>\n",
       "  </tbody>\n",
       "</table>\n",
       "<p>249 rows × 5 columns</p>\n",
       "</div>"
      ],
      "text/plain": [
       "       gender                                          ICD codes   duration  \\\n",
       "admid                                                                         \n",
       "161473      M         [862, 104, 863, 232, 308, 67, 28, 170, 48]  1910520.0   \n",
       "147743      M  [1531, 104, 46, 67, 62, 94, 110, 59, 1596, 10,...  2028000.0   \n",
       "190712      M        [315, 197, 219, 220, 114, 48, 251, 63, 115]   557400.0   \n",
       "199523      M                                [315, 147, 785, 61]  1407000.0   \n",
       "165018      M                       [885, 812, 901, 407, 35, 48]   496260.0   \n",
       "...       ...                                                ...        ...   \n",
       "144869      F  [462, 307, 3975, 2510, 10, 5009, 1837, 888, 88...   806820.0   \n",
       "129743      M  [885, 812, 886, 1787, 220, 104, 48, 251, 63, 2...   556800.0   \n",
       "107633      M  [315, 259, 197, 61, 686, 104, 10, 638, 682, 89...   621000.0   \n",
       "106216      M                                         [315, 812]    24780.0   \n",
       "141589      F  [2, 274, 315, 179, 2349, 285, 27, 518, 887, 55...   866460.0   \n",
       "\n",
       "                             diagnosis indicator  \n",
       "admid                                             \n",
       "161473                     LUNG CA/SDA       NaN  \n",
       "147743                 LUNG CANCER/SDA       NaN  \n",
       "190712                     LUNG CA/SDA       NaN  \n",
       "199523                     LUNG CA/SDA       NaN  \n",
       "165018          LUNG CANCER;HEMOPTYSIS       NaN  \n",
       "...                                ...       ...  \n",
       "144869                 LUNG CANCER/SDA       NaN  \n",
       "129743            LEFT LUNG CANCER/SDA       NaN  \n",
       "107633     LEFT UPPER LOBE LUNG CA/SDA       NaN  \n",
       "106216                     LUNG CA/SDA       NaN  \n",
       "141589  LUNG CANCER;AIRWAY OBSTRUCTION       NaN  \n",
       "\n",
       "[249 rows x 5 columns]"
      ]
     },
     "execution_count": 13,
     "metadata": {},
     "output_type": "execute_result"
    }
   ],
   "source": [
    "\"\"\" \n",
    "Choose lung cancer to be the response\n",
    "Filter out rows which does not contain target diagnosis in diagnosis\n",
    "\"\"\"\n",
    "admid_diagnosis_target_df = admid_diagnosis_df.loc[admid_diagnosis_df['diagnosis'].str.contains(target_diagnosis)]\n",
    "admid_diagnosis_target_df "
   ]
  },
  {
   "cell_type": "code",
   "execution_count": 15,
   "metadata": {},
   "outputs": [],
   "source": [
    "\"\"\" \n",
    "Add target diagnosis indicator to admid_diagnosis_df\n",
    "\"\"\"\n",
    "for index, row in admid_diagnosis_df.iterrows():\n",
    "    if target_diagnosis in row['diagnosis']:\n",
    "        admid_diagnosis_df.at[index, 'indicator'] = 1\n",
    "    else:\n",
    "        admid_diagnosis_df.at[index, 'indicator'] = 0"
   ]
  },
  {
   "cell_type": "code",
   "execution_count": 16,
   "metadata": {},
   "outputs": [
    {
     "data": {
      "text/html": [
       "<div>\n",
       "<style scoped>\n",
       "    .dataframe tbody tr th:only-of-type {\n",
       "        vertical-align: middle;\n",
       "    }\n",
       "\n",
       "    .dataframe tbody tr th {\n",
       "        vertical-align: top;\n",
       "    }\n",
       "\n",
       "    .dataframe thead th {\n",
       "        text-align: right;\n",
       "    }\n",
       "</style>\n",
       "<table border=\"1\" class=\"dataframe\">\n",
       "  <thead>\n",
       "    <tr style=\"text-align: right;\">\n",
       "      <th></th>\n",
       "      <th>gender</th>\n",
       "      <th>ICD codes</th>\n",
       "      <th>duration</th>\n",
       "      <th>diagnosis</th>\n",
       "      <th>indicator</th>\n",
       "    </tr>\n",
       "    <tr>\n",
       "      <th>admid</th>\n",
       "      <th></th>\n",
       "      <th></th>\n",
       "      <th></th>\n",
       "      <th></th>\n",
       "      <th></th>\n",
       "    </tr>\n",
       "  </thead>\n",
       "  <tbody>\n",
       "    <tr>\n",
       "      <th>172335</th>\n",
       "      <td>F</td>\n",
       "      <td>[1, 2, 3, 4, 5, 6, 7, 8, 9, 10, 11, 12, 13, 14]</td>\n",
       "      <td>530460.0</td>\n",
       "      <td>LEG PAIN</td>\n",
       "      <td>0</td>\n",
       "    </tr>\n",
       "    <tr>\n",
       "      <th>173633</th>\n",
       "      <td>F</td>\n",
       "      <td>[1, 15, 16, 7, 17, 11, 12, 10, 18, 19, 20, 21,...</td>\n",
       "      <td>574560.0</td>\n",
       "      <td>ABDOMINAL PAIN</td>\n",
       "      <td>0</td>\n",
       "    </tr>\n",
       "    <tr>\n",
       "      <th>174105</th>\n",
       "      <td>M</td>\n",
       "      <td>[25, 26, 27, 28, 29]</td>\n",
       "      <td>425460.0</td>\n",
       "      <td>GASTROINTESTINAL BLEED</td>\n",
       "      <td>0</td>\n",
       "    </tr>\n",
       "    <tr>\n",
       "      <th>109976</th>\n",
       "      <td>M</td>\n",
       "      <td>[30, 31, 32]</td>\n",
       "      <td>1284240.0</td>\n",
       "      <td>HYDROCEPHALUS</td>\n",
       "      <td>0</td>\n",
       "    </tr>\n",
       "    <tr>\n",
       "      <th>178393</th>\n",
       "      <td>M</td>\n",
       "      <td>[28, 33, 34, 27, 35, 36]</td>\n",
       "      <td>485280.0</td>\n",
       "      <td>USA/SDA</td>\n",
       "      <td>0</td>\n",
       "    </tr>\n",
       "    <tr>\n",
       "      <th>...</th>\n",
       "      <td>...</td>\n",
       "      <td>...</td>\n",
       "      <td>...</td>\n",
       "      <td>...</td>\n",
       "      <td>...</td>\n",
       "    </tr>\n",
       "    <tr>\n",
       "      <th>172304</th>\n",
       "      <td>F</td>\n",
       "      <td>[257, 386, 761, 48, 35, 32]</td>\n",
       "      <td>449700.0</td>\n",
       "      <td>LEFT BRAIN TUMOR/SDA</td>\n",
       "      <td>0</td>\n",
       "    </tr>\n",
       "    <tr>\n",
       "      <th>152542</th>\n",
       "      <td>M</td>\n",
       "      <td>[1737, 1339, 150, 355, 104, 48, 46, 32, 36, 55...</td>\n",
       "      <td>415740.0</td>\n",
       "      <td>PERIRECTAL ABSCESS</td>\n",
       "      <td>0</td>\n",
       "    </tr>\n",
       "    <tr>\n",
       "      <th>161999</th>\n",
       "      <td>M</td>\n",
       "      <td>[570, 386, 245, 154, 631, 658, 1089, 45, 2151,...</td>\n",
       "      <td>692940.0</td>\n",
       "      <td>STROKE;TELEMETRY</td>\n",
       "      <td>0</td>\n",
       "    </tr>\n",
       "    <tr>\n",
       "      <th>189314</th>\n",
       "      <td>F</td>\n",
       "      <td>[1347, 761, 351, 2149, 1133, 1386, 300, 161]</td>\n",
       "      <td>150060.0</td>\n",
       "      <td>STROKE;TELEMETRY;TRANSIENT ISCHEMIC ATTACK</td>\n",
       "      <td>0</td>\n",
       "    </tr>\n",
       "    <tr>\n",
       "      <th>168949</th>\n",
       "      <td>M</td>\n",
       "      <td>[4609, 2986, 4019, 160, 2153, 1230, 104, 173, 10]</td>\n",
       "      <td>688980.0</td>\n",
       "      <td>ABDOMINAL PAIN</td>\n",
       "      <td>0</td>\n",
       "    </tr>\n",
       "  </tbody>\n",
       "</table>\n",
       "<p>58976 rows × 5 columns</p>\n",
       "</div>"
      ],
      "text/plain": [
       "       gender                                          ICD codes   duration  \\\n",
       "admid                                                                         \n",
       "172335      F    [1, 2, 3, 4, 5, 6, 7, 8, 9, 10, 11, 12, 13, 14]   530460.0   \n",
       "173633      F  [1, 15, 16, 7, 17, 11, 12, 10, 18, 19, 20, 21,...   574560.0   \n",
       "174105      M                               [25, 26, 27, 28, 29]   425460.0   \n",
       "109976      M                                       [30, 31, 32]  1284240.0   \n",
       "178393      M                           [28, 33, 34, 27, 35, 36]   485280.0   \n",
       "...       ...                                                ...        ...   \n",
       "172304      F                        [257, 386, 761, 48, 35, 32]   449700.0   \n",
       "152542      M  [1737, 1339, 150, 355, 104, 48, 46, 32, 36, 55...   415740.0   \n",
       "161999      M  [570, 386, 245, 154, 631, 658, 1089, 45, 2151,...   692940.0   \n",
       "189314      F       [1347, 761, 351, 2149, 1133, 1386, 300, 161]   150060.0   \n",
       "168949      M  [4609, 2986, 4019, 160, 2153, 1230, 104, 173, 10]   688980.0   \n",
       "\n",
       "                                         diagnosis indicator  \n",
       "admid                                                         \n",
       "172335                                    LEG PAIN         0  \n",
       "173633                              ABDOMINAL PAIN         0  \n",
       "174105                      GASTROINTESTINAL BLEED         0  \n",
       "109976                               HYDROCEPHALUS         0  \n",
       "178393                                     USA/SDA         0  \n",
       "...                                            ...       ...  \n",
       "172304                        LEFT BRAIN TUMOR/SDA         0  \n",
       "152542                          PERIRECTAL ABSCESS         0  \n",
       "161999                            STROKE;TELEMETRY         0  \n",
       "189314  STROKE;TELEMETRY;TRANSIENT ISCHEMIC ATTACK         0  \n",
       "168949                              ABDOMINAL PAIN         0  \n",
       "\n",
       "[58976 rows x 5 columns]"
      ]
     },
     "execution_count": 16,
     "metadata": {},
     "output_type": "execute_result"
    }
   ],
   "source": [
    "admid_diagnosis_df"
   ]
  },
  {
   "cell_type": "code",
   "execution_count": 17,
   "metadata": {},
   "outputs": [],
   "source": [
    "\"\"\" \n",
    "Plot code distribution for target diagnosis\n",
    "\"\"\"\n",
    "codes = []\n",
    "for index, row in admid_diagnosis_target_df.iterrows():\n",
    "    codes.extend(row['ICD codes'])\n",
    "        "
   ]
  },
  {
   "cell_type": "code",
   "execution_count": 18,
   "metadata": {},
   "outputs": [
    {
     "name": "stdout",
     "output_type": "stream",
     "text": [
      "2593\n"
     ]
    }
   ],
   "source": [
    "print(len(codes))"
   ]
  },
  {
   "cell_type": "code",
   "execution_count": 19,
   "metadata": {},
   "outputs": [
    {
     "data": {
      "text/plain": [
       "(array([36.,  0.,  0., ...,  0.,  0.,  1.]),\n",
       " array([   2,    3,    4, ..., 6911, 6912, 6913]),\n",
       " <BarContainer object of 6911 artists>)"
      ]
     },
     "execution_count": 19,
     "metadata": {},
     "output_type": "execute_result"
    },
    {
     "data": {
      "image/png": "[encoded data removed]",
      "text/plain": [
       "<Figure size 432x288 with 1 Axes>"
      ]
     },
     "metadata": {
      "needs_background": "light"
     },
     "output_type": "display_data"
    }
   ],
   "source": [
    "\n",
    "bin_width = 1\n",
    "plt.hist(codes, bins=range(min(codes), max(codes) + bin_width, bin_width))\n"
   ]
  },
  {
   "cell_type": "code",
   "execution_count": 20,
   "metadata": {},
   "outputs": [
    {
     "name": "stdout",
     "output_type": "stream",
     "text": [
      "[48, 104, 315, 462, 94, 274, 885, 157, 63, 812, 2, 35, 32, 220, 886, 251, 46, 100, 10, 307, 138, 27, 28, 314, 44, 6, 79, 38, 686, 1531, 283, 583, 147, 407, 67, 45, 75, 115, 305, 888, 431, 106, 36, 161, 139, 175, 72, 61, 901, 403]\n"
     ]
    }
   ],
   "source": [
    "code_dict = dict(collections.Counter(codes))\n",
    "\n",
    "# sort\n",
    "code_dict = dict(sorted(code_dict.items(), key=lambda item: item[1], reverse=True))\n",
    "num_top_codes = 50\n",
    "target_codes = list(code_dict.keys())[:num_top_codes]\n",
    "print(target_codes)"
   ]
  },
  {
   "cell_type": "code",
   "execution_count": 21,
   "metadata": {},
   "outputs": [],
   "source": [
    "\"\"\" \n",
    "Filter out code in admid_diagnosis_df  \n",
    "\"\"\"\n",
    "for index, row in admid_diagnosis_df.iterrows():\n",
    "    admid_diagnosis_df.at[index, 'ICD codes'] = [code for code in row['ICD codes'] if code in target_codes]\n"
   ]
  },
  {
   "cell_type": "code",
   "execution_count": 22,
   "metadata": {},
   "outputs": [],
   "source": [
    "\"\"\" \n",
    "Filter out row with no ICD codes\n",
    "\"\"\"\n",
    "admid_diagnosis_df = admid_diagnosis_df[admid_diagnosis_df['ICD codes'].map(len) > 0]\n"
   ]
  },
  {
   "cell_type": "code",
   "execution_count": 23,
   "metadata": {},
   "outputs": [],
   "source": [
    "\"\"\"\n",
    "Save dataframe\n",
    "\"\"\"\n",
    "admid_diagnosis_df.to_csv(\"../../outputs/mimic/ADMID_DIAGNOSIS.csv\", header=True, index=True)\n"
   ]
  },
  {
   "cell_type": "code",
   "execution_count": 24,
   "metadata": {},
   "outputs": [
    {
     "name": "stdout",
     "output_type": "stream",
     "text": [
      "male number: 149\n",
      "female number: 100\n"
     ]
    }
   ],
   "source": [
    "\"\"\" \n",
    "Calculates the number of males vs females in admid_diagnosis_target_df \n",
    "\"\"\"\n",
    "genders = list(admid_diagnosis_target_df['gender'])\n",
    "print(\"male number:\", genders.count('M'))\n",
    "print(\"female number:\", genders.count('F'))"
   ]
  },
  {
   "cell_type": "code",
   "execution_count": 26,
   "metadata": {},
   "outputs": [
    {
     "name": "stdout",
     "output_type": "stream",
     "text": [
      "female_ind is: 100\n",
      "female_no_ind is: 20735\n",
      "male_ind is: 149\n",
      "male_no_ind is: 26250\n",
      "total number of patients is: 47234\n"
     ]
    }
   ],
   "source": [
    "\"\"\" \n",
    "Calculate the number of males vs females, indicator vs non indicator in admid_diagnosis_df \n",
    "\"\"\"\n",
    "female_ind = 0\n",
    "female_no_ind = 0\n",
    "male_ind = 0\n",
    "male_no_ind = 0\n",
    "\n",
    "for index, row in admid_diagnosis_df.iterrows():\n",
    "    if row['indicator'] and row['gender'] == 'F':\n",
    "        female_ind += 1\n",
    "    elif row['indicator'] and row['gender'] == 'M':\n",
    "        male_ind += 1\n",
    "    elif not row['indicator'] and row['gender'] == 'F':\n",
    "        female_no_ind += 1\n",
    "    elif not row['indicator'] and row['gender'] == 'M':\n",
    "        male_no_ind += 1\n",
    "\n",
    "print(\"female_ind is:\", female_ind)\n",
    "print(\"female_no_ind is:\", female_no_ind)\n",
    "print(\"male_ind is:\", male_ind)\n",
    "print(\"male_no_ind is:\", male_no_ind)\n",
    "\n",
    "print(\"total number of patients is:\", admid_diagnosis_df.shape[0])"
   ]
  },
  {
   "cell_type": "code",
   "execution_count": null,
   "metadata": {},
   "outputs": [],
   "source": []
  }
 ],
 "metadata": {
  "kernelspec": {
   "display_name": "Python 3",
   "language": "python",
   "name": "python3"
  },
  "language_info": {
   "codemirror_mode": {
    "name": "ipython",
    "version": 3
   },
   "file_extension": ".py",
   "mimetype": "text/x-python",
   "name": "python",
   "nbconvert_exporter": "python",
   "pygments_lexer": "ipython3",
   "version": "3.8.10"
  },
  "orig_nbformat": 4,
  "vscode": {
   "interpreter": {
    "hash": "916dbcbb3f70747c44a77c7bcd40155683ae19c65e1c03b4aa3499c5328201f1"
   }
  }
 },
 "nbformat": 4,
 "nbformat_minor": 2
}
