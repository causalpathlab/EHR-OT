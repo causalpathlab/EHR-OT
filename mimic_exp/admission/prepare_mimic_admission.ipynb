{
 "cells": [
  {
   "cell_type": "code",
   "execution_count": 1,
   "metadata": {},
   "outputs": [],
   "source": [
    "\"\"\" \n",
    "Prepare MIMIC dataset to run deep patient on the dataset\n",
    "Desired columns: Patient ID, gender, list of ICD codes, mortality\n",
    "TODO: add more columns: e.g. number of days in ICU\n",
    "\"\"\"\n",
    "\n",
    "import pandas as pd\n",
    "import sys\n",
    "from datetime import datetime"
   ]
  },
  {
   "cell_type": "code",
   "execution_count": 2,
   "metadata": {},
   "outputs": [],
   "source": [
    "\"\"\"\n",
    "Read in ADMISSIONS.csv and construct (1) patient ID to admission ID map, and \\\n",
    "    (2) admission ID to duration in hospital map (in seconds)\n",
    "\"\"\"\n",
    "\n",
    "pid_admids = {}\n",
    "admid_duration = {}\n",
    "\n",
    "admission_file = open(\"./mimiciii/ADMISSIONS.csv\", 'r')\n",
    "admission_file.readline()\n",
    "for line in admission_file:\n",
    "    tokens = line.strip().split(',')\n",
    "    pid = int(tokens[1])\n",
    "    admid = int(tokens[2])\n",
    "    if pid in pid_admids: pid_admids[pid].append(admid)\n",
    "    else: pid_admids[pid] = [admid]\n",
    "\n",
    "    admit_time = datetime.strptime(tokens[3], '%Y-%m-%d %H:%M:%S')\n",
    "    discharge_time = datetime.strptime(tokens[4], '%Y-%m-%d %H:%M:%S')\n",
    "    admid_duration[admid] = (discharge_time-admit_time).total_seconds()\n",
    "\n",
    "admission_file.close()\n"
   ]
  },
  {
   "cell_type": "code",
   "execution_count": 3,
   "metadata": {},
   "outputs": [],
   "source": [
    "\"\"\" \n",
    "Read in PATIENTS.csv and construct admission ID to gender map\n",
    "\"\"\"\n",
    "admid_gender = {}\n",
    "patient_file = open(\"./mimiciii/PATIENTS.csv\", 'r')\n",
    "patient_file.readline()\n",
    "for line in patient_file:\n",
    "    tokens = line.strip().split(',')\n",
    "    pid = int(tokens[1])\n",
    "    gender = str(tokens[2])\n",
    "    admids = pid_admids[pid]\n",
    "    for admid in admids:\n",
    "        admid_gender[admid] = gender[1]\n",
    "\n",
    "patient_file.close()"
   ]
  },
  {
   "cell_type": "code",
   "execution_count": 4,
   "metadata": {},
   "outputs": [],
   "source": [
    "\"\"\" \n",
    "Consruct admission ID to ICD codes mapping\n",
    "\"\"\"\n",
    "\n",
    "def convert_to_icd9(dxStr):\n",
    "\tif dxStr.startswith('E'):\n",
    "\t\tif len(dxStr) > 4: return dxStr[:4] + '.' + dxStr[4:]\n",
    "\t\telse: return dxStr\n",
    "\telse:\n",
    "\t\tif len(dxStr) > 3: return dxStr[:3] + '.' + dxStr[3:]\n",
    "\t\telse: return dxStr\n",
    "\n",
    "admid_codes = {}\n",
    "diagnose_file = open(\"./mimiciii/DIAGNOSES_ICD.csv\", 'r')\n",
    "diagnose_file.readline()\n",
    "for line in diagnose_file: # read ADMISSIONS.CSV in order\n",
    "    tokens = line.strip().split(',')\n",
    "    admid = int(tokens[2])\n",
    "    dxStr = 'D_' + convert_to_icd9(tokens[4][1:-1])\n",
    "\n",
    "    if admid in admid_codes: \n",
    "        admid_codes[admid].append(dxStr)\n",
    "    else: \n",
    "        admid_codes[admid] = [dxStr]\n",
    "\n",
    "diagnose_file.close()\n",
    "# print(admid_codes)\n"
   ]
  },
  {
   "cell_type": "code",
   "execution_count": 5,
   "metadata": {},
   "outputs": [],
   "source": [
    "\"\"\"\n",
    "Convert str codes to int codes\n",
    "We use 0 to denote NA code in later analysis\n",
    "\"\"\"\n",
    "\n",
    "types = {}\n",
    "for admid, codes in admid_codes.items():\n",
    "    new_codes = []\n",
    "    for code in codes:\n",
    "        if code not in types:\n",
    "            types[code] = len(types) + 1\n",
    "        new_codes.append(types[code])\n",
    "    admid_codes[admid] = new_codes\n"
   ]
  },
  {
   "cell_type": "code",
   "execution_count": 6,
   "metadata": {},
   "outputs": [],
   "source": [
    "\"\"\" \n",
    "Construct a dataframe to store all information including\n",
    "- patient ID (index key)\n",
    "- gender\n",
    "- expire (mortality)\n",
    "- list of ICD codes\n",
    "\"\"\"\n",
    "\n",
    "admission_agg_df = pd.DataFrame(columns=['gender','ICD codes','duration'])\n",
    "\n",
    "for admid, codes in admid_codes.items():\n",
    "    new_row = {\"gender\": admid_gender[admid], \"duration\": admid_duration[admid], \"ICD codes\": codes}\n",
    "    admission_agg_df = pd.concat([admission_agg_df, pd.DataFrame([new_row])], ignore_index=True)\n",
    "    \n",
    "admission_agg_df.to_csv(\"../mimiciii/ADMISSIONS_AGG.csv\", index=None, header=True)"
   ]
  },
  {
   "cell_type": "code",
   "execution_count": null,
   "metadata": {},
   "outputs": [],
   "source": []
  }
 ],
 "metadata": {
  "kernelspec": {
   "display_name": "Python 3",
   "language": "python",
   "name": "python3"
  },
  "language_info": {
   "codemirror_mode": {
    "name": "ipython",
    "version": 3
   },
   "file_extension": ".py",
   "mimetype": "text/x-python",
   "name": "python",
   "nbconvert_exporter": "python",
   "pygments_lexer": "ipython3",
   "version": "3.8.10 (default, Jun 22 2022, 20:18:18) \n[GCC 9.4.0]"
  },
  "orig_nbformat": 4,
  "vscode": {
   "interpreter": {
    "hash": "916dbcbb3f70747c44a77c7bcd40155683ae19c65e1c03b4aa3499c5328201f1"
   }
  }
 },
 "nbformat": 4,
 "nbformat_minor": 2
}
