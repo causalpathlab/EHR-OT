{
 "cells": [
  {
   "cell_type": "code",
   "execution_count": 12,
   "metadata": {},
   "outputs": [],
   "source": [
    "import matplotlib.pyplot as plt\n",
    "import os\n",
    "import pandas as pd"
   ]
  },
  {
   "cell_type": "code",
   "execution_count": 13,
   "metadata": {},
   "outputs": [],
   "source": [
    "def compute_diff_counts(df, metric_name):\n",
    "    \"\"\" \n",
    "    Computes the metric_name score difference between transported target \\\n",
    "        score and target score for df if the target score does not exceed the source score\n",
    "    \"\"\"\n",
    "    \n",
    "    source_scores = df[\"source_\"+metric_name]\n",
    "    target_scores = df[\"target_\"+metric_name]\n",
    "    trans_target_scores = df[\"trans_target_\"+metric_name]\n",
    "    diff_scores = []\n",
    "    for source_score, target_score, trans_target_score in zip(source_scores, target_scores, trans_target_scores):\n",
    "        if source_score > target_score:\n",
    "            diff_scores.append(trans_target_score-target_score)\n",
    "    return diff_scores\n"
   ]
  },
  {
   "cell_type": "code",
   "execution_count": 14,
   "metadata": {},
   "outputs": [],
   "source": [
    "# For analyzing EHR-OT performance alone\n",
    "score_dir = \"/home/wanxinli/EHR-OT/outputs/mimic/\"\n",
    "\n",
    "f1_diff_counts = []\n",
    "recall_diff_counts = []\n",
    "precision_diff_counts = []\n",
    "\n",
    "f1_degrade_code = []\n",
    "precision_degrade_code = []\n",
    "recall_degrade_code = []\n",
    "code_count = 0\n",
    "\n",
    "for file in os.listdir(score_dir):\n",
    "    if file.endswith(\"_score.csv\") and 'exp3_' in file and 'TCA' not in file and \"ind\" not in file:\n",
    "        code_count += 1\n",
    "        score_df = pd.read_csv(os.path.join(score_dir, file), index_col=None, header=0)\n",
    "\n",
    "        f1_diffs = compute_diff_counts(score_df, 'f1')\n",
    "        f1_improve_count = [x>0 for x in f1_diffs].count(True)\n",
    "\n",
    "        if f1_improve_count <= len(f1_diffs)/2:\n",
    "            f1_degrade_code.append(file.split(\"_\")[1])\n",
    "\n",
    "        precision_diffs = compute_diff_counts(score_df, 'precision')\n",
    "        precision_improve_count = [x>0 for x in precision_diffs].count(True)\n",
    "\n",
    "        if precision_improve_count <= len(precision_diffs)/2:\n",
    "            precision_degrade_code.append(file.split(\"_\")[1])\n",
    "        \n",
    "        recall_diffs = compute_diff_counts(score_df, 'recall')\n",
    "        recall_improve_count = [x>0 for x in recall_diffs].count(True)\n",
    "\n",
    "        if recall_improve_count <= len(recall_diffs)/2:\n",
    "            recall_degrade_code.append(file.split(\"_\")[1])\n"
   ]
  },
  {
   "cell_type": "code",
   "execution_count": 15,
   "metadata": {},
   "outputs": [
    {
     "name": "stdout",
     "output_type": "stream",
     "text": [
      "code count is: 244\n",
      "f1 improve code percent is: 0.7049180327868853\n",
      "precision improve code percent is: 0.5122950819672132\n",
      "recall improve code percent is: 0.6598360655737705\n"
     ]
    }
   ],
   "source": [
    "print(\"code count is:\", code_count)\n",
    "print(\"f1 improve code percent is:\", 1-len(f1_degrade_code)/code_count)\n",
    "print(\"precision improve code percent is:\", 1-len(precision_degrade_code)/code_count)\n",
    "print(\"recall improve code percent is:\", 1-len(recall_degrade_code)/code_count)"
   ]
  },
  {
   "cell_type": "code",
   "execution_count": 19,
   "metadata": {},
   "outputs": [],
   "source": [
    "# For comparing TCA versus EHR-OT\n",
    "score_dir = \"/home/wanxinli/EHR-OT/outputs/mimic/\"\n",
    "\n",
    "f1_diff_counts = []\n",
    "TCA_diff_counts = []\n",
    "\n",
    "f1_degrade_code = []\n",
    "recall_degrade_code = []\n",
    "TCA_f1_degrade_code = []\n",
    "TCA_recall_degrade_code = []\n",
    "\n",
    "code_count = 0\n",
    "\n",
    "for file in os.listdir(score_dir):\n",
    "    # ind stands for independantly applying TCA without PCA step in EHR-OT\n",
    "    if file.endswith(\"TCA_ind_score.csv\") and 'exp3_' in file:\n",
    "        code_count += 1\n",
    "        label_code = file.split('_')[1]\n",
    "\n",
    "        score_path = os.path.join(score_dir, \"exp3_\"+label_code+\"_score.csv\")\n",
    "        score_df = pd.read_csv(score_path, index_col=None, header=0)\n",
    "\n",
    "        # f1\n",
    "        f1_diffs = compute_diff_counts(score_df, 'f1')\n",
    "        f1_improve_count = [x>0 for x in f1_diffs].count(True)\n",
    "\n",
    "        if f1_improve_count <= len(f1_diffs)/2:\n",
    "            f1_degrade_code.append(label_code)\n",
    "\n",
    "        # recall\n",
    "        recall_diffs = compute_diff_counts(score_df, 'recall')\n",
    "        recall_improve_count = [x>0 for x in recall_diffs].count(True)\n",
    "\n",
    "        if recall_improve_count <= len(recall_diffs)/2:\n",
    "            recall_degrade_code.append(label_code)\n",
    "\n",
    "        TCA_score_path = os.path.join(score_dir, file)\n",
    "        TCA_score_df = pd.read_csv(TCA_score_path, index_col=None, header=0)\n",
    "\n",
    "        # f1\n",
    "        TCA_f1_diffs = compute_diff_counts(TCA_score_df, 'f1')\n",
    "        TCA_f1_improve_count = [x>0 for x in TCA_f1_diffs].count(True)\n",
    "\n",
    "        if TCA_f1_improve_count <= len(TCA_f1_diffs)/2:\n",
    "            TCA_f1_degrade_code.append(label_code)\n",
    "        \n",
    "        # recall\n",
    "        TCA_recall_diffs = compute_diff_counts(TCA_score_df, 'recall')\n",
    "        TCA_recall_improve_count = [x>0 for x in TCA_recall_diffs].count(True)\n",
    "\n",
    "        if TCA_recall_improve_count <= len(TCA_recall_diffs)/2:\n",
    "            TCA_recall_degrade_code.append(label_code)\n",
    "        \n"
   ]
  },
  {
   "cell_type": "code",
   "execution_count": 20,
   "metadata": {},
   "outputs": [
    {
     "name": "stdout",
     "output_type": "stream",
     "text": [
      "total count is: 243\n",
      "TCA f1 degrade percent: 44, TCA f1 degrade count: 0.18106995884773663\n",
      "EHR-OT f1 degrade percent: 71, EHR-OT f1 degrade count: 0.29218106995884774\n"
     ]
    }
   ],
   "source": [
    "print(f\"total count is: {code_count}\")\n",
    "print(f\"TCA f1 degrade percent: {len(TCA_f1_degrade_code)}, TCA f1 degrade count: {len(TCA_f1_degrade_code)/code_count}\")\n",
    "print(f\"EHR-OT f1 degrade percent: {len(f1_degrade_code)}, EHR-OT f1 degrade count: {len(f1_degrade_code)/code_count}\")"
   ]
  },
  {
   "cell_type": "code",
   "execution_count": 21,
   "metadata": {},
   "outputs": [
    {
     "name": "stdout",
     "output_type": "stream",
     "text": [
      "TCA recall degrade percent: 148, TCA recall degrade count: 0.6090534979423868\n",
      "EHR-OT recall degrade percent: 82, EHR-OT recall degrade count: 0.3374485596707819\n"
     ]
    }
   ],
   "source": [
    "print(f\"TCA recall degrade percent: {len(TCA_recall_degrade_code)}, TCA recall degrade count: {len(TCA_recall_degrade_code)/code_count}\")\n",
    "print(f\"EHR-OT recall degrade percent: {len(recall_degrade_code)}, EHR-OT recall degrade count: {len(recall_degrade_code)/code_count}\")"
   ]
  },
  {
   "cell_type": "code",
   "execution_count": null,
   "metadata": {},
   "outputs": [],
   "source": []
  }
 ],
 "metadata": {
  "kernelspec": {
   "display_name": "base",
   "language": "python",
   "name": "python3"
  },
  "language_info": {
   "codemirror_mode": {
    "name": "ipython",
    "version": 3
   },
   "file_extension": ".py",
   "mimetype": "text/x-python",
   "name": "python",
   "nbconvert_exporter": "python",
   "pygments_lexer": "ipython3",
   "version": "3.9.12"
  },
  "orig_nbformat": 4
 },
 "nbformat": 4,
 "nbformat_minor": 2
}
