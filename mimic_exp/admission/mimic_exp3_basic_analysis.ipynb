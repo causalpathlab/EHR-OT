{
 "cells": [
  {
   "cell_type": "code",
   "execution_count": 23,
   "metadata": {},
   "outputs": [],
   "source": [
    "import matplotlib.pyplot as plt\n",
    "import os\n",
    "import pandas as pd"
   ]
  },
  {
   "cell_type": "code",
   "execution_count": 24,
   "metadata": {},
   "outputs": [],
   "source": [
    "def compute_diff_counts(df, metric_name):\n",
    "    \"\"\" \n",
    "    Computes the metric_name score difference between transported target \\\n",
    "        score and target score for df if the target score does not exceed the source score\n",
    "    \"\"\"\n",
    "    \n",
    "    source_scores = df[\"source_\"+metric_name]\n",
    "    target_scores = df[\"target_\"+metric_name]\n",
    "    trans_target_scores = df[\"trans_target_\"+metric_name]\n",
    "    diff_scores = []\n",
    "    for source_score, target_score, trans_target_score in zip(source_scores, target_scores, trans_target_scores):\n",
    "        if source_score > target_score:\n",
    "            diff_scores.append(trans_target_score-target_score)\n",
    "    return diff_scores\n"
   ]
  },
  {
   "cell_type": "code",
   "execution_count": 15,
   "metadata": {},
   "outputs": [],
   "source": [
    "score_dir = \"/home/wanxinli/EHR-OT/outputs/mimic/\"\n",
    "\n",
    "f1_diff_counts = []\n",
    "recall_diff_counts = []\n",
    "precision_diff_counts = []\n",
    "\n",
    "f1_degrade_code = []\n",
    "precision_degrade_code = []\n",
    "recall_degrade_code = []\n",
    "code_count = 0\n",
    "\n",
    "for file in os.listdir(score_dir):\n",
    "    if file.endswith(\"_score.csv\") and 'exp3_' in file and 'TCA' not in file:\n",
    "        code_count += 1\n",
    "        score_df = pd.read_csv(os.path.join(score_dir, file), index_col=None, header=0)\n",
    "\n",
    "        f1_diffs = compute_diff_counts(score_df, 'recall')\n",
    "        f1_improve_count = [x>0 for x in f1_diffs].count(True)\n",
    "\n",
    "        if f1_improve_count <= len(f1_diffs)/2:\n",
    "            f1_degrade_code.append(file.split(\"_\")[1])\n",
    "\n",
    "        precision_diffs = compute_diff_counts(score_df, 'precision')\n",
    "        precision_improve_count = [x>0 for x in precision_diffs].count(True)\n",
    "\n",
    "        if precision_improve_count <= len(precision_diffs)/2:\n",
    "            precision_degrade_code.append(file.split(\"_\")[1])\n",
    "        \n",
    "        recall_diffs = compute_diff_counts(score_df, 'recall')\n",
    "        recall_improve_count = [x>0 for x in recall_diffs].count(True)\n",
    "\n",
    "        if recall_improve_count <= len(recall_diffs)/2:\n",
    "            recall_degrade_code.append(file.split(\"_\")[1])\n"
   ]
  },
  {
   "cell_type": "code",
   "execution_count": 16,
   "metadata": {},
   "outputs": [
    {
     "name": "stdout",
     "output_type": "stream",
     "text": [
      "f1 improve code percent is: 0.6625514403292181\n",
      "precision improve code percent is: 0.51440329218107\n",
      "recall improve code percent is: 0.6625514403292181\n"
     ]
    }
   ],
   "source": [
    "print(\"f1 improve code percent is:\", 1-len(f1_degrade_code)/code_count)\n",
    "print(\"precision improve code percent is:\", 1-len(precision_degrade_code)/code_count)\n",
    "print(\"recall improve code percent is:\", 1-len(recall_degrade_code)/code_count)"
   ]
  },
  {
   "cell_type": "code",
   "execution_count": 43,
   "metadata": {},
   "outputs": [],
   "source": [
    "# compare TCA versus EHR-OT\n",
    "score_dir = \"/home/wanxinli/EHR-OT/outputs/mimic/\"\n",
    "\n",
    "f1_diff_counts = []\n",
    "TCA_diff_counts = []\n",
    "\n",
    "f1_degrade_code = []\n",
    "TCA_f1_degrade_code = []\n",
    "code_count = 0\n",
    "\n",
    "for file in os.listdir(score_dir):\n",
    "    if file.endswith(\"TCA_score.csv\") and 'exp3_' in file:\n",
    "        code_count += 1\n",
    "        label_code = file.split('_')[1]\n",
    "\n",
    "        score_path = os.path.join(score_dir, \"exp3_\"+label_code+\"_score.csv\")\n",
    "        score_df = pd.read_csv(score_path, index_col=None, header=0)\n",
    "\n",
    "        f1_diffs = compute_diff_counts(score_df, 'recall')\n",
    "        f1_improve_count = [x>0 for x in f1_diffs].count(True)\n",
    "\n",
    "        if f1_improve_count <= len(f1_diffs)/2:\n",
    "            f1_degrade_code.append(label_code)\n",
    "\n",
    "        TCA_score_path = os.path.join(score_dir, file)\n",
    "        TCA_score_df = pd.read_csv(TCA_score_path, index_col=None, header=0)\n",
    "\n",
    "        TCA_f1_diffs = compute_diff_counts(TCA_score_df, 'recall')\n",
    "        TCA_f1_improve_count = [x>0 for x in TCA_f1_diffs].count(True)\n",
    "\n",
    "        if TCA_f1_improve_count <= len(TCA_f1_diffs)/2:\n",
    "            TCA_f1_degrade_code.append(label_code)\n"
   ]
  },
  {
   "cell_type": "code",
   "execution_count": 44,
   "metadata": {},
   "outputs": [
    {
     "name": "stdout",
     "output_type": "stream",
     "text": [
      "148 0.6090534979423868\n"
     ]
    }
   ],
   "source": [
    "print(len(TCA_f1_degrade_code), len(TCA_f1_degrade_code)/code_count)"
   ]
  },
  {
   "cell_type": "code",
   "execution_count": 45,
   "metadata": {},
   "outputs": [
    {
     "name": "stdout",
     "output_type": "stream",
     "text": [
      "82 0.3374485596707819\n"
     ]
    }
   ],
   "source": [
    "print(len(f1_degrade_code), len(f1_degrade_code)/code_count)"
   ]
  },
  {
   "cell_type": "code",
   "execution_count": 28,
   "metadata": {},
   "outputs": [
    {
     "name": "stdout",
     "output_type": "stream",
     "text": [
      "243\n"
     ]
    }
   ],
   "source": [
    "print(code_count)"
   ]
  },
  {
   "cell_type": "code",
   "execution_count": null,
   "metadata": {},
   "outputs": [],
   "source": []
  }
 ],
 "metadata": {
  "kernelspec": {
   "display_name": "base",
   "language": "python",
   "name": "python3"
  },
  "language_info": {
   "codemirror_mode": {
    "name": "ipython",
    "version": 3
   },
   "file_extension": ".py",
   "mimetype": "text/x-python",
   "name": "python",
   "nbconvert_exporter": "python",
   "pygments_lexer": "ipython3",
   "version": "3.9.12"
  },
  "orig_nbformat": 4
 },
 "nbformat": 4,
 "nbformat_minor": 2
}
