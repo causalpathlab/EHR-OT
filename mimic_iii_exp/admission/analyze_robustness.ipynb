{
 "cells": [
  {
   "cell_type": "markdown",
   "metadata": {},
   "source": [
    "Goal: We want to analyze range of overlap between source and target populations in feature age such that it ganrantees good performance on OTTEHR"
   ]
  },
  {
   "cell_type": "code",
   "execution_count": 1,
   "metadata": {},
   "outputs": [
    {
     "name": "stderr",
     "output_type": "stream",
     "text": [
      "2024-12-05 12:00:02.893998: E external/local_xla/xla/stream_executor/cuda/cuda_dnn.cc:9261] Unable to register cuDNN factory: Attempting to register factory for plugin cuDNN when one has already been registered\n",
      "2024-12-05 12:00:02.894049: E external/local_xla/xla/stream_executor/cuda/cuda_fft.cc:607] Unable to register cuFFT factory: Attempting to register factory for plugin cuFFT when one has already been registered\n",
      "2024-12-05 12:00:02.895295: E external/local_xla/xla/stream_executor/cuda/cuda_blas.cc:1515] Unable to register cuBLAS factory: Attempting to register factory for plugin cuBLAS when one has already been registered\n",
      "2024-12-05 12:00:02.902586: I tensorflow/core/platform/cpu_feature_guard.cc:182] This TensorFlow binary is optimized to use available CPU instructions in performance-critical operations.\n",
      "To enable the following instructions: AVX2 FMA, in other operations, rebuild TensorFlow with the appropriate compiler flags.\n",
      "2024-12-05 12:00:03.652958: W tensorflow/compiler/tf2tensorrt/utils/py_utils.cc:38] TF-TRT Warning: Could not find TensorRT\n"
     ]
    }
   ],
   "source": [
    "import sys\n",
    "import getpass\n",
    "user_id = getpass.getuser()\n",
    "sys.path.append(f\"/home/{user_id}/OTTEHR/\")\n",
    "\n",
    "import matplotlib.pyplot as plt\n",
    "from mimic_common import *\n",
    "import numpy as np\n",
    "import os\n",
    "import pandas as pd"
   ]
  },
  {
   "cell_type": "code",
   "execution_count": 2,
   "metadata": {},
   "outputs": [
    {
     "data": {
      "image/png": "[encoded data removed]",
      "text/plain": [
       "<Figure size 640x480 with 1 Axes>"
      ]
     },
     "metadata": {},
     "output_type": "display_data"
    }
   ],
   "source": [
    "# Visualize age distribution \n",
    "mimic_iii_df = pd.read_csv(os.path.join(mimic_output_dir, 'admission_patient_diagnosis_ICD_with_age.csv'), index_col=None, header=0, converters={'ICD codes': literal_eval})\n",
    "\n",
    "bins = np.arange(0, 81, 5)\n",
    "plt.hist(mimic_iii_df['age'], bins=bins)\n",
    "plt.show()"
   ]
  },
  {
   "cell_type": "code",
   "execution_count": 4,
   "metadata": {},
   "outputs": [
    {
     "name": "stdout",
     "output_type": "stream",
     "text": [
      "[10, 25]: 618483.7947318495\n",
      "[25, 40]: 677309.3692275207\n",
      "[30, 45]: 692961.7120486015\n",
      "[35, 50]: 678781.4690809842\n",
      "[40, 55]: 673893.3571502776\n",
      "[45, 60]: 632079.3497131944\n",
      "[55, 70]: 546486.0816574467\n"
     ]
    }
   ],
   "source": [
    "source_range = [50, 70]\n",
    "target_ranges = [[10, 25], [25, 40], [30, 45], [35, 50], [40, 55], [45, 60], [55, 70]]\n",
    "group_name = 'age'\n",
    "trans_metric = 'OT'\n",
    "\n",
    "for target_range in target_ranges:\n",
    "    score_path = os.path.join(mimic_output_dir, f\"{group_name}_{target_range}_to_{source_range}_{trans_metric}.csv\")\n",
    "    score_df = pd.read_csv(score_path, header=0, index_col=None)\n",
    "    stat = np.mean(score_df['trans_target_mae'])\n",
    "    print(f\"{target_range}: {stat}\")"
   ]
  },
  {
   "cell_type": "code",
   "execution_count": null,
   "metadata": {},
   "outputs": [],
   "source": []
  }
 ],
 "metadata": {
  "kernelspec": {
   "display_name": "base",
   "language": "python",
   "name": "python3"
  },
  "language_info": {
   "codemirror_mode": {
    "name": "ipython",
    "version": 3
   },
   "file_extension": ".py",
   "mimetype": "text/x-python",
   "name": "python",
   "nbconvert_exporter": "python",
   "pygments_lexer": "ipython3",
   "version": "3.9.18"
  }
 },
 "nbformat": 4,
 "nbformat_minor": 2
}
